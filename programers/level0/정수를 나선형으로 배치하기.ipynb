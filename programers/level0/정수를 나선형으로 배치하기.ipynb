{
 "cells": [
  {
   "attachments": {},
   "cell_type": "markdown",
   "metadata": {},
   "source": [
    "#### 정수를 나선형으로 배치하기\n",
    "---\n",
    "\n",
    "https://school.programmers.co.kr/learn/courses/30/lessons/181832"
   ]
  },
  {
   "attachments": {},
   "cell_type": "markdown",
   "metadata": {},
   "source": [
    "함수를 리스트에 넣어서 인덱스로 함수 호출하기"
   ]
  },
  {
   "cell_type": "code",
   "execution_count": 1,
   "metadata": {},
   "outputs": [],
   "source": [
    "def solution(n):\n",
    "    def right(cur):\n",
    "        if cur[1]+1 < n and answer[cur[0]][cur[1]+1] == 0:\n",
    "            return False,[cur[0], cur[1]+1]\n",
    "        return True,[cur[0]+1, cur[1]]\n",
    "    def down(cur):\n",
    "        if cur[0]+1 < n and answer[cur[0]+1][cur[1]] == 0:\n",
    "            return False,[cur[0]+1, cur[1]]\n",
    "        return True,[cur[0], cur[1]-1]\n",
    "    def left(cur):\n",
    "        if cur[1]-1 >-1 and answer[cur[0]][cur[1]-1] == 0:\n",
    "            return False,[cur[0], cur[1]-1]\n",
    "        return True,[cur[0]-1, cur[1]]\n",
    "    def up(cur):\n",
    "        if cur[0]-1 > -1 and answer[cur[0]-1][cur[1]] == 0:\n",
    "            return False,[cur[0]-1, cur[1]]\n",
    "        return True,[cur[0], cur[1]+1]\n",
    "    \n",
    "    answer = [[0 for i in range(n)] for j in range(n)]\n",
    "    move_funcs = [right, down, left, up]\n",
    "    cur = [0,0]\n",
    "    func_ind = 0\n",
    "    for i in range(1,n**2+1):\n",
    "        answer[cur[0]][cur[1]] = i\n",
    "        condition, cur = move_funcs[func_ind](cur)\n",
    "        if condition:\n",
    "            func_ind = (func_ind+1)%4\n",
    "        \n",
    "    return answer"
   ]
  },
  {
   "cell_type": "code",
   "execution_count": 2,
   "metadata": {},
   "outputs": [
    {
     "data": {
      "text/plain": [
       "[[1, 2, 3, 4, 5],\n",
       " [0, 0, 0, 0, 6],\n",
       " [0, 0, 0, 0, 7],\n",
       " [14, 15, 24, 25, 8],\n",
       " [13, 12, 23, 22, 9]]"
      ]
     },
     "execution_count": 2,
     "metadata": {},
     "output_type": "execute_result"
    }
   ],
   "source": [
    "solution(5)"
   ]
  },
  {
   "cell_type": "code",
   "execution_count": null,
   "metadata": {},
   "outputs": [],
   "source": []
  }
 ],
 "metadata": {
  "kernelspec": {
   "display_name": "Python 3",
   "language": "python",
   "name": "python3"
  },
  "language_info": {
   "codemirror_mode": {
    "name": "ipython",
    "version": 3
   },
   "file_extension": ".py",
   "mimetype": "text/x-python",
   "name": "python",
   "nbconvert_exporter": "python",
   "pygments_lexer": "ipython3",
   "version": "3.10.11"
  },
  "orig_nbformat": 4
 },
 "nbformat": 4,
 "nbformat_minor": 2
}
