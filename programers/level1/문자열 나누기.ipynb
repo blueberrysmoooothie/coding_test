{
 "cells": [
  {
   "cell_type": "markdown",
   "metadata": {},
   "source": [
    "문자열 나누기\n",
    "---\n",
    "https://school.programmers.co.kr/learn/courses/30/lessons/140108"
   ]
  },
  {
   "cell_type": "code",
   "execution_count": 79,
   "metadata": {},
   "outputs": [],
   "source": [
    "def solution(s):\n",
    "    l = len(s)\n",
    "    if l<=2:\n",
    "        return 1\n",
    "    answer = 0\n",
    "    i = 0\n",
    "    \n",
    "    while i<l:\n",
    "        if i>=l-2:\n",
    "            answer +=1\n",
    "            break\n",
    "        x= s[i]\n",
    "        cnt = [0,1]\n",
    "        for j in range(i+1, l):\n",
    "            cnt[int(x == s[j])]+=1\n",
    "            if cnt[0]==cnt[1]:\n",
    "                if j != l-1:\n",
    "                    answer +=1\n",
    "                break\n",
    "        # print(i, j ,cnt, s[i:j+1])\n",
    "        if j == l-1:\n",
    "            answer+=1\n",
    "            break\n",
    "        i = j+1\n",
    "\n",
    "    \n",
    "    return answer"
   ]
  },
  {
   "cell_type": "code",
   "execution_count": 80,
   "metadata": {},
   "outputs": [
    {
     "data": {
      "text/plain": [
       "2"
      ]
     },
     "execution_count": 80,
     "metadata": {},
     "output_type": "execute_result"
    }
   ],
   "source": [
    "solution('abccd')"
   ]
  },
  {
   "cell_type": "code",
   "execution_count": 81,
   "metadata": {},
   "outputs": [
    {
     "data": {
      "text/plain": [
       "2"
      ]
     },
     "execution_count": 81,
     "metadata": {},
     "output_type": "execute_result"
    }
   ],
   "source": [
    "solution('abccdd')"
   ]
  },
  {
   "cell_type": "code",
   "execution_count": null,
   "metadata": {},
   "outputs": [],
   "source": [
    "def solution(s):\n",
    "    l = len(s)\n",
    "    if l<=2:\n",
    "        return 1\n",
    "    answer = 0\n",
    "    i = 0\n",
    "    while True:\n",
    "        if i>=l:\n",
    "            break\n",
    "        elif i >= l-2:\n",
    "            answer+=1\n",
    "            break\n",
    "\n",
    "        x = s[i]\n",
    "        cnt = [0,1]\n",
    "\n",
    "        \n",
    "        for j in range(i+1,l):\n",
    "            cnt[int(s[j]==x)]+=1\n",
    "            # print(x, s[i:j+1], cnt)\n",
    "            if cnt[0]== cnt[1]:\n",
    "                answer+=1\n",
    "                \n",
    "                break\n",
    "        # print(i,j, l, answer)\n",
    "        i=j+1\n",
    "    \n",
    "    return answer"
   ]
  },
  {
   "cell_type": "code",
   "execution_count": null,
   "metadata": {},
   "outputs": [],
   "source": []
  }
 ],
 "metadata": {
  "kernelspec": {
   "display_name": "Python 3.8.10 64-bit",
   "language": "python",
   "name": "python3"
  },
  "language_info": {
   "codemirror_mode": {
    "name": "ipython",
    "version": 3
   },
   "file_extension": ".py",
   "mimetype": "text/x-python",
   "name": "python",
   "nbconvert_exporter": "python",
   "pygments_lexer": "ipython3",
   "version": "3.8.10"
  },
  "orig_nbformat": 4,
  "vscode": {
   "interpreter": {
    "hash": "761f0ed58ed03a7b8d407c7a2163809381c449da5ceb88951a1a7dc71180eff3"
   }
  }
 },
 "nbformat": 4,
 "nbformat_minor": 2
}
