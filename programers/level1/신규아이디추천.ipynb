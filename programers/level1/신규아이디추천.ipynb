{
 "cells": [
  {
   "cell_type": "markdown",
   "id": "7dcd165e",
   "metadata": {},
   "source": [
    "1단계 new_id의 모든 대문자를 대응되는 소문자로 치환합니다.<br>\n",
    "2단계 new_id에서 알파벳 소문자, 숫자, 빼기(-), 밑줄(_), 마침표(.)를 제외한 모든 문자를 제거합니다.<br>\n",
    "3단계 new_id에서 마침표(.)가 2번 이상 연속된 부분을 하나의 마침표(.)로 치환합니다.<br>\n",
    "4단계 new_id에서 마침표(.)가 처음이나 끝에 위치한다면 제거합니다.<br>\n",
    "5단계 new_id가 빈 문자열이라면, new_id에 \"a\"를 대입합니다.<br>\n",
    "6단계 new_id의 길이가 16자 이상이면, new_id의 첫 15개의 문자를 제외한 나머지 문자들을 모두 제거합니다.\n",
    " - 만약 제거 후 마침표(.)가 new_id의 끝에 위치한다면 끝에 위치한 마침표(.) 문자를 제거합니다.<br>  \n",
    " \n",
    "7단계 new_id의 길이가 2자 이하라면, new_id의 마지막 문자를 new_id의 길이가 3이 될 때까지 반복해서 끝에 붙입니다.<br>"
   ]
  },
  {
   "cell_type": "markdown",
   "id": "4c517e0d",
   "metadata": {},
   "source": [
    "https://school.programmers.co.kr/learn/courses/30/lessons/72410"
   ]
  },
  {
   "cell_type": "code",
   "execution_count": 23,
   "id": "cc127c69",
   "metadata": {},
   "outputs": [],
   "source": [
    "def solution(new_id):\n",
    "    #1\n",
    "    new_id = new_id.lower()\n",
    "    \n",
    "    #2\n",
    "    answer = ''\n",
    "    for c in new_id:\n",
    "        if str.isalnum(c) or c in ['-','_','.']:\n",
    "            answer += c\n",
    "        \n",
    "    #3\n",
    "    while '..' in answer:\n",
    "        answer = answer.replace('..','.')\n",
    "        \n",
    "    #4\n",
    "    answer = answer.strip('.')\n",
    "    \n",
    "    #5\n",
    "    if answer == '':\n",
    "        answer = 'a'\n",
    "        \n",
    "    #6\n",
    "    if len(answer)>=16:\n",
    "        answer = answer[:15].rstrip('.')\n",
    "    \n",
    "    #7\n",
    "    if len(answer) <= 2 :\n",
    "        answer += answer[-1]*(3-len(answer))\n",
    "    \n",
    "    return answer"
   ]
  },
  {
   "cell_type": "code",
   "execution_count": 24,
   "id": "5f9003fa",
   "metadata": {},
   "outputs": [
    {
     "data": {
      "text/plain": [
       "'bat.y.abcdefghi'"
      ]
     },
     "execution_count": 24,
     "metadata": {},
     "output_type": "execute_result"
    }
   ],
   "source": [
    "solution(\"...!@BaT#*..y.abcdefghijklm\")"
   ]
  },
  {
   "cell_type": "code",
   "execution_count": 25,
   "id": "394d6347",
   "metadata": {},
   "outputs": [
    {
     "data": {
      "text/plain": [
       "'aaa'"
      ]
     },
     "execution_count": 25,
     "metadata": {},
     "output_type": "execute_result"
    }
   ],
   "source": [
    "solution(\"..\")"
   ]
  }
 ],
 "metadata": {
  "kernelspec": {
   "display_name": "Python 3 (ipykernel)",
   "language": "python",
   "name": "python3"
  },
  "language_info": {
   "codemirror_mode": {
    "name": "ipython",
    "version": 3
   },
   "file_extension": ".py",
   "mimetype": "text/x-python",
   "name": "python",
   "nbconvert_exporter": "python",
   "pygments_lexer": "ipython3",
   "version": "3.9.12"
  }
 },
 "nbformat": 4,
 "nbformat_minor": 5
}
