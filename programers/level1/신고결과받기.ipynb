{
 "cells": [
  {
   "cell_type": "markdown",
   "metadata": {},
   "source": [
    "신고결과 받기\n",
    "---\n",
    "https://school.programmers.co.kr/learn/courses/30/lessons/92334"
   ]
  },
  {
   "cell_type": "code",
   "execution_count": 7,
   "metadata": {},
   "outputs": [],
   "source": [
    "def solution(id_list, report, k):\n",
    "    report_dict = {}\n",
    "    for r in report:\n",
    "        id_, rep_ = r.split()\n",
    "        if rep_ in report_dict.keys():\n",
    "            if id_ not in report_dict[rep_]:\n",
    "                report_dict[rep_].append(id_)\n",
    "        else:\n",
    "            report_dict[rep_] = list([id_])\n",
    "            \n",
    "    result = [0 for i in id_list]\n",
    "    for i, v in report_dict.items():\n",
    "        if len(v)>=k:\n",
    "            for id_ in v:\n",
    "                result[id_list.index(id_)]+=1\n",
    "            \n",
    "    return result"
   ]
  },
  {
   "cell_type": "code",
   "execution_count": 8,
   "metadata": {},
   "outputs": [
    {
     "name": "stdout",
     "output_type": "stream",
     "text": [
      "2 ['muzi', 'apeach']\n",
      "2 ['frodo', 'muzi']\n",
      "2 ['apeach']\n"
     ]
    },
    {
     "data": {
      "text/plain": [
       "[2, 1, 1, 0]"
      ]
     },
     "execution_count": 8,
     "metadata": {},
     "output_type": "execute_result"
    }
   ],
   "source": [
    "solution([\"muzi\", \"frodo\", \"apeach\", \"neo\"], [\"muzi frodo\", \"apeach frodo\", \"frodo neo\", \"muzi neo\", \"apeach muzi\"], 2)"
   ]
  },
  {
   "cell_type": "code",
   "execution_count": null,
   "metadata": {},
   "outputs": [],
   "source": []
  }
 ],
 "metadata": {
  "kernelspec": {
   "display_name": "Python 3.8.10 64-bit",
   "language": "python",
   "name": "python3"
  },
  "language_info": {
   "codemirror_mode": {
    "name": "ipython",
    "version": 3
   },
   "file_extension": ".py",
   "mimetype": "text/x-python",
   "name": "python",
   "nbconvert_exporter": "python",
   "pygments_lexer": "ipython3",
   "version": "3.8.10"
  },
  "orig_nbformat": 4,
  "vscode": {
   "interpreter": {
    "hash": "761f0ed58ed03a7b8d407c7a2163809381c449da5ceb88951a1a7dc71180eff3"
   }
  }
 },
 "nbformat": 4,
 "nbformat_minor": 2
}
