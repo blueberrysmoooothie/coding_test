{
 "cells": [
  {
   "cell_type": "markdown",
   "metadata": {},
   "source": [
    "숫자짝궁\n",
    "---\n",
    "https://school.programmers.co.kr/learn/courses/30/lessons/131128"
   ]
  },
  {
   "cell_type": "code",
   "execution_count": 1,
   "metadata": {},
   "outputs": [
    {
     "data": {
      "text/plain": [
       "2"
      ]
     },
     "execution_count": 1,
     "metadata": {},
     "output_type": "execute_result"
    }
   ],
   "source": [
    "[1,1,2,2,3,3].index(2)"
   ]
  },
  {
   "cell_type": "code",
   "execution_count": 47,
   "metadata": {},
   "outputs": [],
   "source": [
    "def solution2(X, Y):\n",
    "    X, Y = sorted(list(X), reverse = True), sorted(list(Y), reverse = True)\n",
    "    i, j = 0, 0\n",
    "    result = []\n",
    "    while i< len(X) and j<len(Y):\n",
    "        if X[i]>Y[j]:\n",
    "            i+=1\n",
    "        elif X[i]<Y[j]:\n",
    "            j+=1\n",
    "        else:\n",
    "            result.append(X[i])\n",
    "            i+=1\n",
    "            j+=1\n",
    "    return str(int(''.join(result))) if len(result) else '-1'\n",
    "\n",
    "def solution3(X, Y):\n",
    "    X, Y = sorted(list(X), reverse = True), sorted(list(Y), reverse = True)\n",
    "    result = []\n",
    "    while len(X) and len(Y):\n",
    "        if X[0]>Y[0]:\n",
    "            X.remove(X[0])\n",
    "        elif X[0]<Y[0]:\n",
    "            Y.remove(Y[0])\n",
    "        else:\n",
    "            result.append(X[0])\n",
    "            X.remove(X[0])\n",
    "            Y.remove(Y[0])\n",
    "    return str(int(''.join(result))) if len(result) else '-1'\n",
    "\n",
    "def solution(X, Y):\n",
    "    X, Y = sorted(list(X), reverse = True), sorted(list(Y), reverse = True)\n",
    "    i, j = 0, 0\n",
    "    result = []\n",
    "    # n = max(int(X[0]), int(Y[0]))\n",
    "    n =9\n",
    "    while i< len(X) and j<len(Y):\n",
    "        # print(X[i], Y[j],n, result)\n",
    "        if n<0: break\n",
    "        \n",
    "\n",
    "        if X[i]>Y[j]:\n",
    "            n = int(Y[j])\n",
    "            while True:\n",
    "                try:\n",
    "                    i=X.index(str(n))\n",
    "                    break\n",
    "                except:\n",
    "                    n -= 1\n",
    "                    if n<0:\n",
    "                        break\n",
    "                \n",
    "            \n",
    "        elif X[i]<Y[j]:\n",
    "            n = int(X[j])\n",
    "            while True:\n",
    "                try:\n",
    "                    j=Y.index(str(n))\n",
    "                    break\n",
    "                except:\n",
    "                    n -= 1\n",
    "                    if n<0:\n",
    "                        break\n",
    "                \n",
    "        else:\n",
    "            n = int(X[i])\n",
    "            result.append(str(n))\n",
    "            i+=1\n",
    "            j+=1\n",
    "    return str(int(''.join(result))) if len(result) else '-1'\n",
    "\n"
   ]
  },
  {
   "cell_type": "code",
   "execution_count": 91,
   "metadata": {},
   "outputs": [],
   "source": [
    "def solution(X, Y):\n",
    "    X, Y = sorted(list(X), reverse = True), sorted(list(Y), reverse = True)\n",
    "    i, j = 0, 0\n",
    "    result = []\n",
    "    uni_X = sorted(list(set(X)), reverse = True)\n",
    "    uni_Y = sorted(list(set(Y)), reverse = True)\n",
    "    # print(uni_X, uni_Y)\n",
    "    while len(uni_X) and len(uni_Y):\n",
    "        if uni_X[0]>uni_Y[0]:\n",
    "            uni_X.remove(uni_X[0])\n",
    "            try:\n",
    "                X = X[X.index(uni_X[0]):]\n",
    "            except:\n",
    "                pass\n",
    "        elif uni_X[0]<uni_Y[0]:\n",
    "            uni_Y.remove(uni_Y[0])\n",
    "            try:\n",
    "                Y = Y[Y.index(uni_Y[0]):]\n",
    "            except:\n",
    "                pass\n",
    "        else:\n",
    "            n = uni_X[0]\n",
    "\n",
    "            try:\n",
    "                Xn = X[:X.index(uni_X[1])]\n",
    "                Yn = Y[:Y.index(uni_Y[1])]\n",
    "            except:\n",
    "                Xn = X\n",
    "                Yn = Y\n",
    "            result = result + [n for i in range(min(len(Xn), len(Yn)))]\n",
    "                \n",
    "            uni_X.remove(n)\n",
    "            uni_Y.remove(n)\n",
    "            try:\n",
    "                X = X[X.index(uni_X[0]):]\n",
    "                Y = Y[Y.index(uni_Y[0]):]\n",
    "            except:\n",
    "                pass\n",
    "    # print(result)\n",
    "    return str(int(''.join(result))) if len(result) else '-1'"
   ]
  },
  {
   "cell_type": "code",
   "execution_count": 97,
   "metadata": {},
   "outputs": [
    {
     "data": {
      "text/plain": [
       "0"
      ]
     },
     "execution_count": 97,
     "metadata": {},
     "output_type": "execute_result"
    }
   ],
   "source": [
    "[1,1,12,2,2].count(3)"
   ]
  },
  {
   "cell_type": "code",
   "execution_count": 106,
   "metadata": {},
   "outputs": [],
   "source": [
    "def solution(X, Y):\n",
    "    u = sorted(list(set(list(X)) & set(list(Y))), reverse= True)\n",
    "    result = [str(n) for n in u for i in range(min(X.count(n), Y.count(n)))]\n",
    "    \n",
    "\n",
    "    # print(result)\n",
    "    return str(int(''.join(result))) if len(result) else '-1'"
   ]
  },
  {
   "cell_type": "code",
   "execution_count": 138,
   "metadata": {},
   "outputs": [],
   "source": [
    "def solution(X, Y):\n",
    "    result = [str(n) for n in range(9,-1,-1) for i in range(min(X.count(str(n)), Y.count(str(n))))]\n",
    "    if not len(result):\n",
    "        return '-1'\n",
    "    return ''.join(result) if result.count('0') != len(result) else '0'"
   ]
  },
  {
   "cell_type": "code",
   "execution_count": 139,
   "metadata": {},
   "outputs": [
    {
     "data": {
      "text/plain": [
       "'0'"
      ]
     },
     "execution_count": 139,
     "metadata": {},
     "output_type": "execute_result"
    }
   ],
   "source": [
    "solution(\"100\", \"203045\")"
   ]
  },
  {
   "cell_type": "code",
   "execution_count": 140,
   "metadata": {},
   "outputs": [
    {
     "data": {
      "text/plain": [
       "'10'"
      ]
     },
     "execution_count": 140,
     "metadata": {},
     "output_type": "execute_result"
    }
   ],
   "source": [
    "solution(\"100\", \"123450\")"
   ]
  },
  {
   "cell_type": "code",
   "execution_count": 141,
   "metadata": {},
   "outputs": [
    {
     "data": {
      "text/plain": [
       "'321'"
      ]
     },
     "execution_count": 141,
     "metadata": {},
     "output_type": "execute_result"
    }
   ],
   "source": [
    "solution(\"12321\", \"42531\")"
   ]
  },
  {
   "cell_type": "code",
   "execution_count": 142,
   "metadata": {},
   "outputs": [
    {
     "data": {
      "text/plain": [
       "'552'"
      ]
     },
     "execution_count": 142,
     "metadata": {},
     "output_type": "execute_result"
    }
   ],
   "source": [
    "solution(\"5525\", \"1255\")"
   ]
  },
  {
   "cell_type": "code",
   "execution_count": 143,
   "metadata": {},
   "outputs": [
    {
     "data": {
      "text/plain": [
       "'-1'"
      ]
     },
     "execution_count": 143,
     "metadata": {},
     "output_type": "execute_result"
    }
   ],
   "source": [
    "solution(\"100\", \"2345\")"
   ]
  },
  {
   "cell_type": "code",
   "execution_count": null,
   "metadata": {},
   "outputs": [],
   "source": []
  },
  {
   "cell_type": "code",
   "execution_count": null,
   "metadata": {},
   "outputs": [],
   "source": []
  }
 ],
 "metadata": {
  "kernelspec": {
   "display_name": "Python 3.8.10 64-bit",
   "language": "python",
   "name": "python3"
  },
  "language_info": {
   "codemirror_mode": {
    "name": "ipython",
    "version": 3
   },
   "file_extension": ".py",
   "mimetype": "text/x-python",
   "name": "python",
   "nbconvert_exporter": "python",
   "pygments_lexer": "ipython3",
   "version": "3.8.10"
  },
  "orig_nbformat": 4,
  "vscode": {
   "interpreter": {
    "hash": "761f0ed58ed03a7b8d407c7a2163809381c449da5ceb88951a1a7dc71180eff3"
   }
  }
 },
 "nbformat": 4,
 "nbformat_minor": 2
}
