{
 "cells": [
  {
   "cell_type": "markdown",
   "metadata": {},
   "source": [
    "성격유형검사\n",
    "---\n",
    "https://school.programmers.co.kr/learn/courses/30/lessons/118666"
   ]
  },
  {
   "cell_type": "code",
   "execution_count": 11,
   "metadata": {},
   "outputs": [],
   "source": [
    "def solution(survey, choices):\n",
    "    s_types = [\"RT\", \"TR\", \"FC\", \"CF\", \"MJ\", \"JM\", \"AN\", \"NA\"]\n",
    "    score = {'R': 0, 'C':0, 'J':0, 'A':0}\n",
    "    for s, c in zip(survey, choices):\n",
    "        s_score = 4-c\n",
    "        if (s_types.index(s)//2)==0:\n",
    "            if s[0] =='R':\n",
    "                score['R']+=s_score\n",
    "            else:\n",
    "                score['R']-=s_score\n",
    "        elif (s_types.index(s)//2)==1:\n",
    "            if s[0] =='C':\n",
    "                score['C']+=s_score\n",
    "            else:\n",
    "                score['C']-=s_score\n",
    "        elif (s_types.index(s)//2)==2:\n",
    "            if s[0] =='J':\n",
    "                score['J']+=s_score\n",
    "            else:\n",
    "                score['J']-=s_score\n",
    "        else:\n",
    "            if s[0] =='A':\n",
    "                score['A']+=s_score\n",
    "            else:\n",
    "                score['A']-=s_score\n",
    "                \n",
    "    result = []\n",
    "    result.append('R' if score['R']>=0 else 'T')\n",
    "    result.append('C' if score['C']>=0 else 'F')\n",
    "    result.append('J' if score['J']>=0 else 'M')\n",
    "    result.append('A' if score['A']>=0 else 'N')         \n",
    "    return ''.join(result)\n",
    "    \n",
    "    "
   ]
  },
  {
   "cell_type": "code",
   "execution_count": 12,
   "metadata": {},
   "outputs": [
    {
     "data": {
      "text/plain": [
       "'TCMA'"
      ]
     },
     "execution_count": 12,
     "metadata": {},
     "output_type": "execute_result"
    }
   ],
   "source": [
    "solution([\"AN\", \"CF\", \"MJ\", \"RT\", \"NA\"],[5, 3, 2, 7, 5])"
   ]
  },
  {
   "cell_type": "code",
   "execution_count": null,
   "metadata": {},
   "outputs": [],
   "source": []
  }
 ],
 "metadata": {
  "kernelspec": {
   "display_name": "Python 3.8.10 64-bit",
   "language": "python",
   "name": "python3"
  },
  "language_info": {
   "codemirror_mode": {
    "name": "ipython",
    "version": 3
   },
   "file_extension": ".py",
   "mimetype": "text/x-python",
   "name": "python",
   "nbconvert_exporter": "python",
   "pygments_lexer": "ipython3",
   "version": "3.8.10"
  },
  "orig_nbformat": 4,
  "vscode": {
   "interpreter": {
    "hash": "761f0ed58ed03a7b8d407c7a2163809381c449da5ceb88951a1a7dc71180eff3"
   }
  }
 },
 "nbformat": 4,
 "nbformat_minor": 2
}
