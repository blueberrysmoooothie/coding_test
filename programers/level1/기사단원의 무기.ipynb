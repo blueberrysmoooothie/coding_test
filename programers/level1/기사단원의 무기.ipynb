{
 "cells": [
  {
   "cell_type": "markdown",
   "id": "caecd889",
   "metadata": {},
   "source": [
    "기사단원의 무기\n",
    "---\n",
    "https://school.programmers.co.kr/learn/courses/30/lessons/136798\n"
   ]
  },
  {
   "cell_type": "code",
   "execution_count": 83,
   "id": "e0f2d69e",
   "metadata": {},
   "outputs": [],
   "source": [
    "def getDivCount(num):\n",
    "    if num <=2:\n",
    "        return num\n",
    "    result = 2\n",
    "\n",
    "    for i in range(2, int((num)**0.5)+1):\n",
    "        # print(i)\n",
    "        if num%i ==0:\n",
    "            # print('div',i)\n",
    "            result +=1\n",
    "            if i**2 !=num:\n",
    "                result +=1\n",
    "\n",
    "    return result\n",
    "\n",
    "def solution(number, limit, power):\n",
    "    powers = [getDivCount(i) for i in range(1,number+1)]\n",
    "    # print(powers)\n",
    "    # print(list(range(1, number+1)))\n",
    "    answer = sum([result if result <=limit else power for result in powers])\n",
    "    return answer"
   ]
  },
  {
   "cell_type": "code",
   "execution_count": 84,
   "id": "f935fbeb",
   "metadata": {},
   "outputs": [
    {
     "data": {
      "text/plain": [
       "27"
      ]
     },
     "execution_count": 84,
     "metadata": {},
     "output_type": "execute_result"
    }
   ],
   "source": [
    "solution(10,100,2)"
   ]
  },
  {
   "cell_type": "code",
   "execution_count": 85,
   "id": "aabfd5ce",
   "metadata": {},
   "outputs": [
    {
     "data": {
      "text/plain": [
       "6"
      ]
     },
     "execution_count": 85,
     "metadata": {},
     "output_type": "execute_result"
    }
   ],
   "source": [
    "getDivCount(45)"
   ]
  },
  {
   "cell_type": "code",
   "execution_count": null,
   "id": "e6f5704b",
   "metadata": {},
   "outputs": [],
   "source": [
    "9"
   ]
  }
 ],
 "metadata": {
  "kernelspec": {
   "display_name": "Python 3.8.10 64-bit",
   "language": "python",
   "name": "python3"
  },
  "language_info": {
   "codemirror_mode": {
    "name": "ipython",
    "version": 3
   },
   "file_extension": ".py",
   "mimetype": "text/x-python",
   "name": "python",
   "nbconvert_exporter": "python",
   "pygments_lexer": "ipython3",
   "version": "3.8.10"
  },
  "vscode": {
   "interpreter": {
    "hash": "761f0ed58ed03a7b8d407c7a2163809381c449da5ceb88951a1a7dc71180eff3"
   }
  }
 },
 "nbformat": 4,
 "nbformat_minor": 5
}
