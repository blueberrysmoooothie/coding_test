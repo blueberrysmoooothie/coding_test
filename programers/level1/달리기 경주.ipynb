{
 "cells": [
  {
   "cell_type": "markdown",
   "metadata": {},
   "source": [
    "달리기 경주\n",
    "---\n",
    "https://school.programmers.co.kr/learn/courses/30/lessons/178871"
   ]
  },
  {
   "cell_type": "code",
   "execution_count": 19,
   "metadata": {},
   "outputs": [],
   "source": [
    "def solution(players, callings):\n",
    "    player_list = {players[0]:[None, 1]}\n",
    "    i=1\n",
    "    for i in range(1, len(players)):\n",
    "        player_list[players[i-1]][1] = i\n",
    "        player_list[players[i]] = [i-1, None]\n",
    "        \n",
    "    top = players[0]\n",
    "    \n",
    "    for name in callings:\n",
    "        front, back = player_list[name].copy()\n",
    "        front_front, cur = player_list[players[front]].copy()\n",
    "        if front_front is None:\n",
    "            top = name\n",
    "        else:\n",
    "            player_list[players[front_front]][1]=cur\n",
    "        player_list[players[cur]]=[front_front, front]\n",
    "        player_list[players[front]]=[cur, back]\n",
    "        if back is not None:\n",
    "            player_list[players[back]][0]=front\n",
    "    \n",
    "    answer = []\n",
    "    while True:\n",
    "        answer.append(top)\n",
    "        if player_list[top][1] is None:\n",
    "            break\n",
    "        top = players[player_list[top][1]]\n",
    "    return answer"
   ]
  },
  {
   "cell_type": "code",
   "execution_count": 20,
   "metadata": {},
   "outputs": [
    {
     "name": "stdout",
     "output_type": "stream",
     "text": [
      "{'mumu': [None, 3], 'soe': [4, 2], 'poe': [1, None], 'kai': [0, 4], 'mine': [3, 1]}\n"
     ]
    },
    {
     "data": {
      "text/plain": [
       "['mumu', 'kai', 'mine', 'soe', 'poe']"
      ]
     },
     "execution_count": 20,
     "metadata": {},
     "output_type": "execute_result"
    }
   ],
   "source": [
    "solution([\"mumu\", \"soe\", \"poe\", \"kai\", \"mine\"],[\"kai\", \"kai\", \"mine\", \"mine\"])"
   ]
  },
  {
   "cell_type": "code",
   "execution_count": null,
   "metadata": {},
   "outputs": [],
   "source": []
  }
 ],
 "metadata": {
  "kernelspec": {
   "display_name": "Python 3",
   "language": "python",
   "name": "python3"
  },
  "language_info": {
   "codemirror_mode": {
    "name": "ipython",
    "version": 3
   },
   "file_extension": ".py",
   "mimetype": "text/x-python",
   "name": "python",
   "nbconvert_exporter": "python",
   "pygments_lexer": "ipython3",
   "version": "3.11.2"
  },
  "orig_nbformat": 4
 },
 "nbformat": 4,
 "nbformat_minor": 2
}
