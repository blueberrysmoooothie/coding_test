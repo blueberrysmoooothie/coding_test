{
 "cells": [
  {
   "cell_type": "markdown",
   "id": "6de0f39f",
   "metadata": {},
   "source": [
    "[1차] 다트 게임\n",
    "---\n",
    "https://school.programmers.co.kr/learn/courses/30/lessons/17682"
   ]
  },
  {
   "cell_type": "code",
   "execution_count": 34,
   "id": "08613df2",
   "metadata": {},
   "outputs": [],
   "source": [
    "import re\n",
    "\n",
    "def solution(dartResult):\n",
    "    sq_dic = {\"S\":1, 'D':2, 'T':3}\n",
    "    p= re.compile(r'([0-9]+)([SDT])([*#])*')\n",
    "    results = p.findall(dartResult)\n",
    "    final_score = 0\n",
    "    scores = []\n",
    "    times = [1,1,1]\n",
    "    for i in range(3):\n",
    "        result = results[i]\n",
    "        scores.append(int(result[0]) ** sq_dic[result[1]])\n",
    "\n",
    "        if result[2] == '*':\n",
    "            times[i] *= 2\n",
    "            if i>0:\n",
    "                times[i-1] *= 2\n",
    "        elif result[2]=='#':\n",
    "            times[i] *= -1\n",
    "\n",
    "        print(scores, times)\n",
    "    # print(scores, times)\n",
    "    return sum([a*b for a,b in zip(scores, times)])\n"
   ]
  },
  {
   "cell_type": "code",
   "execution_count": 34,
   "id": "86e0716d",
   "metadata": {},
   "outputs": [
    {
     "ename": "KeyboardInterrupt",
     "evalue": "",
     "output_type": "error",
     "traceback": [
      "\u001b[1;31m---------------------------------------------------------------------------\u001b[0m",
      "\u001b[1;31mKeyboardInterrupt\u001b[0m                         Traceback (most recent call last)",
      "File \u001b[1;32mc:\\Users\\jhs85\\anaconda3\\lib\\site-packages\\IPython\\core\\async_helpers.py:129\u001b[0m, in \u001b[0;36m_pseudo_sync_runner\u001b[1;34m(coro)\u001b[0m\n\u001b[0;32m    121\u001b[0m \u001b[39m\"\"\"\u001b[39;00m\n\u001b[0;32m    122\u001b[0m \u001b[39mA runner that does not really allow async execution, and just advance the coroutine.\u001b[39;00m\n\u001b[0;32m    123\u001b[0m \n\u001b[1;32m   (...)\u001b[0m\n\u001b[0;32m    126\u001b[0m \u001b[39mCredit to Nathaniel Smith\u001b[39;00m\n\u001b[0;32m    127\u001b[0m \u001b[39m\"\"\"\u001b[39;00m\n\u001b[0;32m    128\u001b[0m \u001b[39mtry\u001b[39;00m:\n\u001b[1;32m--> 129\u001b[0m     coro\u001b[39m.\u001b[39;49msend(\u001b[39mNone\u001b[39;49;00m)\n\u001b[0;32m    130\u001b[0m \u001b[39mexcept\u001b[39;00m \u001b[39mStopIteration\u001b[39;00m \u001b[39mas\u001b[39;00m exc:\n\u001b[0;32m    131\u001b[0m     \u001b[39mreturn\u001b[39;00m exc\u001b[39m.\u001b[39mvalue\n",
      "File \u001b[1;32mc:\\Users\\jhs85\\anaconda3\\lib\\site-packages\\IPython\\core\\interactiveshell.py:3055\u001b[0m, in \u001b[0;36mInteractiveShell.run_cell_async\u001b[1;34m(self, raw_cell, store_history, silent, shell_futures, transformed_cell, preprocessing_exc_tuple)\u001b[0m\n\u001b[0;32m   3053\u001b[0m \u001b[39m# Store raw and processed history\u001b[39;00m\n\u001b[0;32m   3054\u001b[0m \u001b[39mif\u001b[39;00m store_history \u001b[39mand\u001b[39;00m raw_cell\u001b[39m.\u001b[39mstrip(\u001b[39m\"\u001b[39m\u001b[39m \u001b[39m\u001b[39m%\u001b[39m\u001b[39m\"\u001b[39m) \u001b[39m!=\u001b[39m \u001b[39m\"\u001b[39m\u001b[39mpaste\u001b[39m\u001b[39m\"\u001b[39m:\n\u001b[1;32m-> 3055\u001b[0m     \u001b[39mself\u001b[39;49m\u001b[39m.\u001b[39;49mhistory_manager\u001b[39m.\u001b[39;49mstore_inputs(\u001b[39mself\u001b[39;49m\u001b[39m.\u001b[39;49mexecution_count, cell, raw_cell)\n\u001b[0;32m   3056\u001b[0m \u001b[39mif\u001b[39;00m \u001b[39mnot\u001b[39;00m silent:\n\u001b[0;32m   3057\u001b[0m     \u001b[39mself\u001b[39m\u001b[39m.\u001b[39mlogger\u001b[39m.\u001b[39mlog(cell, raw_cell)\n",
      "File \u001b[1;32mc:\\Users\\jhs85\\anaconda3\\lib\\site-packages\\IPython\\core\\history.py:718\u001b[0m, in \u001b[0;36mHistoryManager.store_inputs\u001b[1;34m(self, line_num, source, source_raw)\u001b[0m\n\u001b[0;32m    715\u001b[0m \u001b[39mself\u001b[39m\u001b[39m.\u001b[39minput_hist_parsed\u001b[39m.\u001b[39mappend(source)\n\u001b[0;32m    716\u001b[0m \u001b[39mself\u001b[39m\u001b[39m.\u001b[39minput_hist_raw\u001b[39m.\u001b[39mappend(source_raw)\n\u001b[1;32m--> 718\u001b[0m \u001b[39mwith\u001b[39;00m \u001b[39mself\u001b[39m\u001b[39m.\u001b[39mdb_input_cache_lock:\n\u001b[0;32m    719\u001b[0m     \u001b[39mself\u001b[39m\u001b[39m.\u001b[39mdb_input_cache\u001b[39m.\u001b[39mappend((line_num, source, source_raw))\n\u001b[0;32m    720\u001b[0m     \u001b[39m# Trigger to flush cache and write to DB.\u001b[39;00m\n",
      "\u001b[1;31mKeyboardInterrupt\u001b[0m: "
     ]
    }
   ],
   "source": [
    "solution(\"1D2S#10S\")"
   ]
  }
 ],
 "metadata": {
  "kernelspec": {
   "display_name": "Python 3.9.12 ('base')",
   "language": "python",
   "name": "python3"
  },
  "language_info": {
   "codemirror_mode": {
    "name": "ipython",
    "version": 3
   },
   "file_extension": ".py",
   "mimetype": "text/x-python",
   "name": "python",
   "nbconvert_exporter": "python",
   "pygments_lexer": "ipython3",
   "version": "3.9.12"
  },
  "vscode": {
   "interpreter": {
    "hash": "43dcd2bd68a9a4e70f29cc439d7eaa1f739547a254547b02445a71f4086f447d"
   }
  }
 },
 "nbformat": 4,
 "nbformat_minor": 5
}
