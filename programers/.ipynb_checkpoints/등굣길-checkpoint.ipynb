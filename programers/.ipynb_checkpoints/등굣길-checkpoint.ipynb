{
 "cells": [
  {
   "cell_type": "markdown",
   "id": "ec6c0a07",
   "metadata": {},
   "source": [
    "등굣길\n",
    "---\n",
    "https://school.programmers.co.kr/learn/courses/30/lessons/42898"
   ]
  },
  {
   "cell_type": "code",
   "execution_count": 1,
   "id": "b2143c6f",
   "metadata": {},
   "outputs": [
    {
     "data": {
      "text/plain": [
       "['R', 'D']"
      ]
     },
     "execution_count": 1,
     "metadata": {},
     "output_type": "execute_result"
    }
   ],
   "source": [
    "[] + ['R','D']"
   ]
  },
  {
   "cell_type": "code",
   "execution_count": 83,
   "id": "5f00d98d",
   "metadata": {},
   "outputs": [],
   "source": [
    "def fact(n):\n",
    "    if n != 1:\n",
    "        return n*fact(n-1) \n",
    "    else:\n",
    "        return 1\n",
    "    \n",
    "def perm(arr, n):\n",
    "    result = []\n",
    "    if n>len(arr):\n",
    "        return result\n",
    "    if n == 1:\n",
    "        for i in arr:\n",
    "            result.append([i])\n",
    "    elif n> 1:\n",
    "        for i in range(len(arr)):\n",
    "            ans = [j for j in arr]\n",
    "            ans.remove(arr[i])\n",
    "            for p in perm(ans, n-1):\n",
    "                result.append([arr[i]]+p)\n",
    "    return result\n",
    "\n",
    "def find_pud_path(m,n,pud):\n",
    "    p1, p2 = pud[0]-1, pud[1]-1\n",
    "    be_pud_path =list(set([''.join(path) for path in perm(['R']*p1 + ['D']*p2, p1+p2)]))\n",
    "    af_pud_path =list(set([''.join(path) for path in perm(['R']*(m-p1) + ['D']*(n-p2), m+n-(p1+p2))]))\n",
    "\n",
    "    pud_path = []\n",
    "    for be in  be_pud_path:\n",
    "        for af in af_pud_path:\n",
    "            pud_path.append(be + af)\n",
    "\n",
    "    return pud_path\n",
    "def solution(m, n, puddles):\n",
    "    m, n = m-1, n-1\n",
    "    n_all_path = fact(m+n)/(fact(m) * fact(n))\n",
    "    pud_path = set()\n",
    "    for pud in puddles:\n",
    "        for path in find_pud_path(m,n,pud):\n",
    "            pud_path.add(path)\n",
    "    \n",
    "    return int(n_all_path-len(pud_path))"
   ]
  },
  {
   "cell_type": "code",
   "execution_count": 84,
   "id": "17fe751f",
   "metadata": {},
   "outputs": [
    {
     "data": {
      "text/plain": [
       "['DDRRR', 'RDDRR', 'DRDRR']"
      ]
     },
     "execution_count": 84,
     "metadata": {},
     "output_type": "execute_result"
    }
   ],
   "source": [
    "find_pud_path(3,2,[2,3])"
   ]
  },
  {
   "cell_type": "code",
   "execution_count": 85,
   "id": "e6875d15",
   "metadata": {},
   "outputs": [
    {
     "data": {
      "text/plain": [
       "['RR']"
      ]
     },
     "execution_count": 85,
     "metadata": {},
     "output_type": "execute_result"
    }
   ],
   "source": [
    "\n",
    "list(set([''.join(path) for path in perm(['R']*(2) + ['D']*(2-2),5-3)]))"
   ]
  },
  {
   "cell_type": "code",
   "execution_count": 86,
   "id": "5fa8dc1f",
   "metadata": {},
   "outputs": [
    {
     "data": {
      "text/plain": [
       "3"
      ]
     },
     "execution_count": 86,
     "metadata": {},
     "output_type": "execute_result"
    }
   ],
   "source": [
    "solution(4,3,[[2, 2], [2,3]])"
   ]
  },
  {
   "cell_type": "code",
   "execution_count": null,
   "id": "94f3c412",
   "metadata": {},
   "outputs": [],
   "source": []
  },
  {
   "cell_type": "code",
   "execution_count": null,
   "id": "89ba0e65",
   "metadata": {},
   "outputs": [],
   "source": []
  }
 ],
 "metadata": {
  "kernelspec": {
   "display_name": "Python 3 (ipykernel)",
   "language": "python",
   "name": "python3"
  },
  "language_info": {
   "codemirror_mode": {
    "name": "ipython",
    "version": 3
   },
   "file_extension": ".py",
   "mimetype": "text/x-python",
   "name": "python",
   "nbconvert_exporter": "python",
   "pygments_lexer": "ipython3",
   "version": "3.9.12"
  }
 },
 "nbformat": 4,
 "nbformat_minor": 5
}
