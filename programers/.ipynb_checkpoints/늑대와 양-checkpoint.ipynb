{
 "cells": [
  {
   "cell_type": "code",
   "execution_count": 9,
   "id": "0963723e",
   "metadata": {},
   "outputs": [],
   "source": [
    "def find_end(edges, node_num):\n",
    "    for node in edges:\n",
    "        if node[0]== node_num:\n",
    "            return False\n",
    "    return True\n",
    "\n",
    "def get_sheeps(info, visited_nodes, useful_edges):  \n",
    "    seep = 1\n",
    "    for node in visited_nodes:\n",
    "        try:\n",
    "            for child_node in useful_edges[node]:\n",
    "                if not info[child_node]:\n",
    "                    visited_nodes.append(child_node)\n",
    "                    seep +=1                \n",
    "        except :\n",
    "            \n",
    "#             print('end seep')\n",
    "            pass\n",
    "#     print(visited_nodes, seep)\n",
    "    return (visited_nodes, seep)\n",
    "      \n",
    "def count_wolf(visited_nodes, edges, node):\n",
    "    c = -1\n",
    "    while node not in visited_nodes:\n",
    "        c+=1\n",
    "#         print(node,edges[node-1][0])\n",
    "        node = edges[node-1][0]\n",
    "    return c\n",
    "\n",
    "def get_wolf(info, visited_nodes, edges, seep, wolf):\n",
    "    min_wolf = 17\n",
    "    for node in range(len(info)):\n",
    "        if (not info[node]) and node not in visited_nodes:\n",
    "            c = count_wolf(visited_nodes, edges, node)\n",
    "            if c < min_wolf and wolf + c < seep:\n",
    "                min_wolf = c\n",
    "                next_node = node\n",
    "    if min_wolf != 17:\n",
    "        while next_node not in visited_nodes:\n",
    "            visited_nodes.append(next_node)\n",
    "            next_node = edges[next_node][0]\n",
    "        seep += 1\n",
    "    return (visited_nodes, seep, min_wolf)\n",
    "\n",
    "def solution(info, edges):\n",
    "    N = len(info)\n",
    "    end_node = []\n",
    "    edges = sorted(edges, key = lambda x: x[1])\n",
    "    for i in range(N):\n",
    "        end_node.append(find_end(edges, i))\n",
    "    \n",
    "\n",
    "    useful_edges = {}\n",
    "    for p_node, c_node in edges:\n",
    "        if not (info[c_node] * end_node[c_node]) :\n",
    "            if p_node in useful_edges.keys():\n",
    "                useful_edges[p_node].append(c_node)\n",
    "            else:\n",
    "                useful_edges[p_node] = [c_node]\n",
    "                \n",
    "\n",
    "    visited_nodes = [0]\n",
    "    wolf = 0\n",
    "    visited_nodes, seep = get_sheeps(info, visited_nodes, useful_edges)\n",
    "    while True:\n",
    "#         print('finding new seep')\n",
    "        visited_nodes, seep, ad_wolf = get_wolf(info, visited_nodes, useful_edges, seep, wolf)\n",
    "        if ad_wolf == 17:\n",
    "            break;\n",
    "        wolf += ad_wolf\n",
    "        \n",
    "        \n",
    "#     print(seep, wolf)\n",
    "#     return seep"
   ]
  },
  {
   "cell_type": "code",
   "execution_count": 55,
   "id": "eb62c5c9",
   "metadata": {},
   "outputs": [],
   "source": [
    "def find_end(edges, node_num):\n",
    "    for node in edges:\n",
    "        if node[0]== node_num:\n",
    "            return False\n",
    "    return True\n",
    "\n",
    "def get_sheeps(info, visited_nodes, useful_edges):  \n",
    "    find_seep = 0\n",
    "    for node in visited_nodes:\n",
    "#         print(node)\n",
    "        if node in useful_edges.keys():\n",
    "            for child_node in useful_edges[node]:\n",
    "\n",
    "                if (not info[child_node]) and (child_node not in visited_nodes):\n",
    "                    visited_nodes.append(child_node)\n",
    "                    find_seep +=1                \n",
    "\n",
    "            \n",
    "#     print(visited_nodes, find_seep)\n",
    "    return (visited_nodes, find_seep)\n",
    "      \n",
    "def count_wolf(info, visited_nodes, edges, node):\n",
    "    c = -1\n",
    "    path = []\n",
    "    while node not in visited_nodes:\n",
    "        path.insert(0,node)\n",
    "        node = edges[node-1][0]\n",
    "        c+=1\n",
    "        \n",
    "    return c, path\n",
    "\n",
    "def get_wolf(info, visited_nodes, edges, seep, wolf):\n",
    "    min_wolf = 17\n",
    "    add_path = []\n",
    "    for node in range(len(info)):\n",
    "        if (not info[node]) and node not in visited_nodes:\n",
    "            c, path = count_wolf(info, visited_nodes, edges, node)\n",
    "            if c < min_wolf and wolf + c < seep:\n",
    "                min_wolf = c\n",
    "                next_node = node\n",
    "                add_path = path\n",
    "    if min_wolf != 17:\n",
    "        for node in add_path:\n",
    "            visited_nodes.append(node)\n",
    "        seep += 1\n",
    "    return (visited_nodes, min_wolf, seep)\n",
    "\n",
    "    \n",
    "def solution(info, edges):\n",
    "    N = len(info)\n",
    "    end_node = []\n",
    "    edges = sorted(edges, key = lambda x: x[1])\n",
    "    for i in range(N):\n",
    "        end_node.append(find_end(edges, i))\n",
    "    \n",
    "\n",
    "    useful_edges = {}\n",
    "    for p_node, c_node in edges:\n",
    "        if not (info[c_node] * end_node[c_node]) :\n",
    "            if p_node in useful_edges.keys():\n",
    "                useful_edges[p_node].append(c_node)\n",
    "            else:\n",
    "                useful_edges[p_node] = [c_node]\n",
    "                \n",
    "\n",
    "    seep, wolf = 1, 0\n",
    "    visited_nodes = [0]\n",
    "    while True:\n",
    "#         print(seep, visited_nodes)\n",
    "        visited_nodes, find_seep = get_sheeps(info, visited_nodes, useful_edges)\n",
    "        seep += find_seep\n",
    "        visited_nodes, min_wolf, seep = get_wolf(info, visited_nodes, edges, seep, wolf)\n",
    "        if min_wolf == 17:\n",
    "            break\n",
    "        wolf += min_wolf\n",
    "\n",
    "    return(seep)\n",
    "#     print(seep, wolf)\n",
    "#     return seep"
   ]
  },
  {
   "cell_type": "code",
   "execution_count": 56,
   "id": "4d86d920",
   "metadata": {},
   "outputs": [
    {
     "name": "stdout",
     "output_type": "stream",
     "text": [
      "2 [1, 3, 7]\n",
      "1 [4, 8]\n"
     ]
    },
    {
     "data": {
      "text/plain": [
       "5"
      ]
     },
     "execution_count": 56,
     "metadata": {},
     "output_type": "execute_result"
    }
   ],
   "source": [
    "solution([0,1,0,1,1,0,1,0,0,1,0], [[0,1],[0,2],[1,3],[1,4],[2,5],[2,6],[3,7],[4,8],[6,9],[9,10]])"
   ]
  },
  {
   "cell_type": "code",
   "execution_count": 57,
   "id": "6e314482",
   "metadata": {},
   "outputs": [
    {
     "name": "stdout",
     "output_type": "stream",
     "text": [
      "1 [8, 7]\n",
      "2 [4, 6, 5]\n"
     ]
    },
    {
     "data": {
      "text/plain": [
       "5"
      ]
     },
     "execution_count": 57,
     "metadata": {},
     "output_type": "execute_result"
    }
   ],
   "source": [
    "solution([0,0,1,1,1,0,1,0,1,0,1,1],[[0,1],[1,2],[1,4],[0,8],[8,7],[9,10],[9,11],[4,3],[6,5],[4,6],[8,9]])"
   ]
  },
  {
   "cell_type": "code",
   "execution_count": 58,
   "id": "03ed0608",
   "metadata": {},
   "outputs": [
    {
     "name": "stdout",
     "output_type": "stream",
     "text": [
      "1 [2, 5]\n"
     ]
    },
    {
     "data": {
      "text/plain": [
       "4"
      ]
     },
     "execution_count": 58,
     "metadata": {},
     "output_type": "execute_result"
    }
   ],
   "source": [
    "solution([0,0,1,1,0,0,1], [[0,1],[0,2],[1,3],[1,4],[2,5],[2,6]])"
   ]
  },
  {
   "cell_type": "code",
   "execution_count": null,
   "id": "077a87c3",
   "metadata": {},
   "outputs": [],
   "source": []
  }
 ],
 "metadata": {
  "kernelspec": {
   "display_name": "Python 3 (ipykernel)",
   "language": "python",
   "name": "python3"
  },
  "language_info": {
   "codemirror_mode": {
    "name": "ipython",
    "version": 3
   },
   "file_extension": ".py",
   "mimetype": "text/x-python",
   "name": "python",
   "nbconvert_exporter": "python",
   "pygments_lexer": "ipython3",
   "version": "3.9.12"
  }
 },
 "nbformat": 4,
 "nbformat_minor": 5
}
