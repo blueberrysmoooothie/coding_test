{
 "cells": [
  {
   "cell_type": "markdown",
   "metadata": {},
   "source": [
    "실패율\n",
    "---\n",
    "https://school.programmers.co.kr/learn/courses/30/lessons/42889"
   ]
  },
  {
   "cell_type": "code",
   "execution_count": 89,
   "metadata": {
    "scrolled": true
   },
   "outputs": [],
   "source": [
    "def solution(N, stages):\n",
    "    u_stages = sorted(list(set(stages)))\n",
    "    resDict = {}\n",
    "    for i in stages:\n",
    "        for j in u_stages[:u_stages.index(i)]:\n",
    "            try:\n",
    "                resDict[j][1] +=1\n",
    "            except:\n",
    "                resDict[j] = [0,1]\n",
    "        try:\n",
    "            resDict[i] = [resDict[i][0]+1,resDict[i][1]+1]\n",
    "\n",
    "        except:\n",
    "            if i != N+1:\n",
    "                resDict[i] = [1,1]\n",
    "    for s in resDict.keys():\n",
    "        resDict[s] = resDict[s][0]/resDict[s][1]\n",
    "    result = [i[0] for i in sorted(resDict.items(), key = lambda x:x[1], reverse = True)]\n",
    "    return result + [i for i in range(1, N+1) if i not in u_stages]"
   ]
  },
  {
   "cell_type": "code",
   "execution_count": 90,
   "metadata": {},
   "outputs": [
    {
     "data": {
      "text/plain": [
       "[3, 4, 2, 1, 5]"
      ]
     },
     "execution_count": 90,
     "metadata": {},
     "output_type": "execute_result"
    }
   ],
   "source": [
    "solution(5,[2, 1, 2, 6, 2, 4, 3, 3])"
   ]
  },
  {
   "cell_type": "code",
   "execution_count": 91,
   "metadata": {},
   "outputs": [
    {
     "data": {
      "text/plain": [
       "[4, 1, 2, 3]"
      ]
     },
     "execution_count": 91,
     "metadata": {},
     "output_type": "execute_result"
    }
   ],
   "source": [
    "solution(4,[4,4,4,4,4])"
   ]
  },
  {
   "cell_type": "code",
   "execution_count": null,
   "metadata": {},
   "outputs": [],
   "source": [
    "import numpy as np\n",
    "def solution(N, stages):\n",
    "    resDict = {}\n",
    "    stages = np.array(stages)\n",
    "    for i in range(1, N+1):\n",
    "        if i in stages:\n",
    "            resDict[i] = sum(stages==i)/sum(stages>=i)\n",
    "        else:\n",
    "            resDict[i] =0\n",
    "\n",
    "    resDict = dict(sorted(resDict.items(), key = lambda x:x[1], reverse = True))\n",
    "    return list(resDict.keys())"
   ]
  }
 ],
 "metadata": {
  "kernelspec": {
   "display_name": "Python 3 (ipykernel)",
   "language": "python",
   "name": "python3"
  },
  "language_info": {
   "codemirror_mode": {
    "name": "ipython",
    "version": 3
   },
   "file_extension": ".py",
   "mimetype": "text/x-python",
   "name": "python",
   "nbconvert_exporter": "python",
   "pygments_lexer": "ipython3",
   "version": "3.9.12"
  },
  "vscode": {
   "interpreter": {
    "hash": "761f0ed58ed03a7b8d407c7a2163809381c449da5ceb88951a1a7dc71180eff3"
   }
  }
 },
 "nbformat": 4,
 "nbformat_minor": 2
}
