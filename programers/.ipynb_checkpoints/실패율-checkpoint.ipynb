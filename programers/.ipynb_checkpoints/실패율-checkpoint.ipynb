{
 "cells": [
  {
   "cell_type": "markdown",
   "metadata": {},
   "source": [
    "실패율\n",
    "---\n",
    "https://school.programmers.co.kr/learn/courses/30/lessons/42889"
   ]
  },
  {
   "cell_type": "code",
   "execution_count": 89,
   "metadata": {
    "scrolled": true
   },
   "outputs": [],
   "source": [
    "def solution(N, stages):\n",
    "    stages = sorted(stages)\n",
    "    u_stages = list(set(stages))\n",
    "    resDict = {}\n",
    "    for i in stages:\n",
    "        for j in u_stages[:u_stages.index(i)]:\n",
    "            try:\n",
    "                resDict[j][1] +=1\n",
    "            except:\n",
    "                resDict[j] = [0,1]\n",
    "        try:\n",
    "            resDict[i] = [resDict[i][0]+1,resDict[i][1]+1]\n",
    "\n",
    "        except:\n",
    "            if i != N+1:\n",
    "                resDict[i] = [1,1]\n",
    "    for s in resDict.keys():\n",
    "        resDict[s] = resDict[s][0]/resDict[s][1]\n",
    "    result = [i[0] for i in sorted(resDict.items(), key = lambda x:x[1], reverse = True)]\n",
    "    return result + [i for i in range(1, N+1) if i not in u_stages]"
   ]
  },
  {
   "cell_type": "code",
   "execution_count": 90,
   "metadata": {},
   "outputs": [
    {
     "data": {
      "text/plain": [
       "[3, 4, 2, 1, 5]"
      ]
     },
     "execution_count": 90,
     "metadata": {},
     "output_type": "execute_result"
    }
   ],
   "source": [
    "solution(5,[2, 1, 2, 6, 2, 4, 3, 3])"
   ]
  },
  {
   "cell_type": "code",
   "execution_count": 91,
   "metadata": {},
   "outputs": [
    {
     "data": {
      "text/plain": [
       "[4, 1, 2, 3]"
      ]
     },
     "execution_count": 91,
     "metadata": {},
     "output_type": "execute_result"
    }
   ],
   "source": [
    "solution(4,[4,4,4,4,4])"
   ]
  },
  {
   "cell_type": "markdown",
   "metadata": {},
   "source": [
    "테스트 1 〉\t통과 (0.03ms, 10.1MB)\n",
    "테스트 2 〉\t통과 (1.49ms, 10.2MB)\n",
    "테스트 3 〉\t통과 (295.49ms, 10.4MB)\n",
    "테스트 4 〉\t통과 (1497.42ms, 10.8MB)\n",
    "테스트 5 〉\t통과 (5375.58ms, 15MB)\n",
    "테스트 6 〉\t통과 (3.25ms, 10.2MB)\n",
    "테스트 7 〉\t통과 (85.44ms, 10.2MB)\n",
    "테스트 8 〉\t통과 (1373.79ms, 10.9MB)\n",
    "테스트 9 〉\t통과 (5734.31ms, 15MB)\n",
    "테스트 10 〉\t통과 (526.27ms, 10.8MB)\n",
    "테스트 11 〉\t통과 (575.00ms, 10.9MB)\n",
    "테스트 12 〉\t통과 (452.68ms, 11.3MB)\n",
    "테스트 13 〉\t통과 (2928.76ms, 11.4MB)\n",
    "테스트 14 〉\t통과 (0.04ms, 10.1MB)\n",
    "테스트 15 〉\t통과 (107.62ms, 10.6MB)\n",
    "테스트 16 〉\t통과 (13.26ms, 10.3MB)\n",
    "테스트 17 〉\t통과 (106.77ms, 10.6MB)\n",
    "테스트 18 〉\t통과 (13.64ms, 10.2MB)\n",
    "테스트 19 〉\t통과 (5.92ms, 10.3MB)\n",
    "테스트 20 〉\t통과 (26.18ms, 10.4MB)\n",
    "테스트 21 〉\t통과 (70.86ms, 10.7MB)\n",
    "테스트 22 〉\t실패 (시간 초과)\n",
    "테스트 23 〉\t통과 (105.89ms, 11.7MB)\n",
    "테스트 24 〉\t통과 (311.63ms, 11.6MB)\n",
    "테스트 25 〉\t통과 (0.02ms, 10.2MB)\n",
    "테스트 26 〉\t통과 (0.01ms, 10.3MB)\n",
    "테스트 27 〉\t통과 (0.01ms, 10.2MB)"
   ]
  },
  {
   "cell_type": "code",
   "execution_count": 99,
   "metadata": {},
   "outputs": [],
   "source": [
    "def solution(N, stages):\n",
    "    stages = sorted(stages)\n",
    "    u_stages = list(set(stages))\n",
    "    if N+1 in u_stages:\n",
    "        u_stages.remove(N+1)\n",
    "    resDict = {}\n",
    "    for i in u_stages:\n",
    "\n",
    "        resDict[i] = stages.count(i)/len(stages)\n",
    "        for j in range(stages.count(i)):\n",
    "            stages.remove(i)\n",
    "\n",
    "    result = [i[0] for i in sorted(resDict.items(), key = lambda x:x[1], reverse = True)]\n",
    "    return result + [i for i in range(1, N+1) if i not in u_stages]"
   ]
  },
  {
   "cell_type": "code",
   "execution_count": 100,
   "metadata": {},
   "outputs": [
    {
     "data": {
      "text/plain": [
       "[3, 4, 2, 1, 5]"
      ]
     },
     "execution_count": 100,
     "metadata": {},
     "output_type": "execute_result"
    }
   ],
   "source": [
    "solution(5,[2, 1, 2, 6, 2, 4, 3, 3])"
   ]
  },
  {
   "cell_type": "code",
   "execution_count": null,
   "metadata": {},
   "outputs": [],
   "source": [
    "import numpy as np\n",
    "def solution(N, stages):\n",
    "    resDict = {}\n",
    "    stages = np.array(stages)\n",
    "    for i in range(1, N+1):\n",
    "        if i in stages:\n",
    "            resDict[i] = sum(stages==i)/sum(stages>=i)\n",
    "        else:\n",
    "            resDict[i] =0\n",
    "\n",
    "    resDict = dict(sorted(resDict.items(), key = lambda x:x[1], reverse = True))\n",
    "    return list(resDict.keys())"
   ]
  }
 ],
 "metadata": {
  "kernelspec": {
   "display_name": "Python 3 (ipykernel)",
   "language": "python",
   "name": "python3"
  },
  "language_info": {
   "codemirror_mode": {
    "name": "ipython",
    "version": 3
   },
   "file_extension": ".py",
   "mimetype": "text/x-python",
   "name": "python",
   "nbconvert_exporter": "python",
   "pygments_lexer": "ipython3",
   "version": "3.9.12"
  },
  "vscode": {
   "interpreter": {
    "hash": "761f0ed58ed03a7b8d407c7a2163809381c449da5ceb88951a1a7dc71180eff3"
   }
  }
 },
 "nbformat": 4,
 "nbformat_minor": 2
}
