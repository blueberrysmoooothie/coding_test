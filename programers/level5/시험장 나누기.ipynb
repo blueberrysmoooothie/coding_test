{
 "cells": [
  {
   "attachments": {},
   "cell_type": "markdown",
   "metadata": {},
   "source": [
    "#### 시험장 나누기\n",
    "---\n",
    "https://school.programmers.co.kr/learn/courses/30/lessons/81305"
   ]
  },
  {
   "cell_type": "code",
   "execution_count": 3,
   "metadata": {},
   "outputs": [],
   "source": [
    "class Node:\n",
    "    def __init__(self, trafic):\n",
    "        self.trafic = trafic\n",
    "        self.left = -1\n",
    "        self.right = -1\n",
    "    def show(self):\n",
    "        print(self.trafic, f' - [{self.left}, {self.right}]')\n",
    "\n",
    "class Tree:\n",
    "    def __init__(self, num, links):\n",
    "        self.Nodes = []\n",
    "        for i in range(len(num)):\n",
    "            self.Nodes.append(Node(num[i]))\n",
    "            left, right = links[i]\n",
    "            if left != -1:\n",
    "                self.Nodes[-1].left = left\n",
    "            if right != -1:\n",
    "                self.Nodes[-1].right = right\n",
    "\n",
    "    def show(self):\n",
    "        for node in self.Nodes:\n",
    "            node.show()\n",
    "\n",
    "        \n",
    "\n",
    "def solution(k, num, links):\n",
    "    tree = Tree(num, links)\n",
    "    tree.show()\n",
    "    answer = 0\n",
    "    return answer"
   ]
  },
  {
   "cell_type": "code",
   "execution_count": 4,
   "metadata": {},
   "outputs": [
    {
     "name": "stdout",
     "output_type": "stream",
     "text": [
      "12  - [-1, -1]\n",
      "30  - [-1, -1]\n",
      "1  - [-1, -1]\n",
      "8  - [-1, -1]\n",
      "8  - [8, 5]\n",
      "6  - [2, 10]\n",
      "20  - [3, 0]\n",
      "7  - [6, 1]\n",
      "5  - [11, -1]\n",
      "10  - [7, 4]\n",
      "4  - [-1, -1]\n",
      "1  - [-1, -1]\n"
     ]
    },
    {
     "data": {
      "text/plain": [
       "0"
      ]
     },
     "execution_count": 4,
     "metadata": {},
     "output_type": "execute_result"
    }
   ],
   "source": [
    "solution(3, [12, 30, 1, 8, 8, 6, 20, 7, 5, 10, 4, 1], [[-1, -1], [-1, -1], [-1, -1], [-1, -1], [8, 5], [2, 10], [3, 0], [6, 1], [11, -1], [7, 4], [-1, -1], [-1, -1]])"
   ]
  },
  {
   "cell_type": "code",
   "execution_count": null,
   "metadata": {},
   "outputs": [],
   "source": []
  }
 ],
 "metadata": {
  "kernelspec": {
   "display_name": "Python 3",
   "language": "python",
   "name": "python3"
  },
  "language_info": {
   "codemirror_mode": {
    "name": "ipython",
    "version": 3
   },
   "file_extension": ".py",
   "mimetype": "text/x-python",
   "name": "python",
   "nbconvert_exporter": "python",
   "pygments_lexer": "ipython3",
   "version": "3.10.11"
  },
  "orig_nbformat": 4
 },
 "nbformat": 4,
 "nbformat_minor": 2
}
