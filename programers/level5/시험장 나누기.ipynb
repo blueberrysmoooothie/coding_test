{
 "cells": [
  {
   "attachments": {},
   "cell_type": "markdown",
   "metadata": {},
   "source": [
    "#### 시험장 나누기\n",
    "---\n",
    "https://school.programmers.co.kr/learn/courses/30/lessons/81305"
   ]
  },
  {
   "attachments": {},
   "cell_type": "markdown",
   "metadata": {},
   "source": [
    "1. k개의 그룹으로 나누기\n",
    "2. 각 그룹에서 인원의 합의 최대값을 최소화"
   ]
  },
  {
   "attachments": {},
   "cell_type": "markdown",
   "metadata": {},
   "source": [
    "1. 리프에서 부터 누적합을 계산해보자\n",
    "2. 연결을 제거하면 부모노드의 누적 합에서 계속 빼주자 \n",
    "\n",
    "3. "
   ]
  },
  {
   "attachments": {},
   "cell_type": "markdown",
   "metadata": {},
   "source": [
    "1. 밑에서 부터 계산\n",
    "2. 처음에는 리프 노드 수 만큼의 그룹에서\n",
    "3. 점점 합쳐 가면서 그룹을 k개 까지 줄이기"
   ]
  },
  {
   "attachments": {},
   "cell_type": "markdown",
   "metadata": {},
   "source": [
    "## DP\n",
    "포함 배제"
   ]
  },
  {
   "attachments": {},
   "cell_type": "markdown",
   "metadata": {},
   "source": [
    "### Parametric Search\n",
    "https://blog.encrypted.gg/1003\n",
    "- 각 그룹의 수를 x명으로 제한 할때 k 그룹이 되는지 판단\n",
    "    - 리프에서 부터 합이 x 보다 크면 그룹 추가"
   ]
  },
  {
   "cell_type": "code",
   "execution_count": 11,
   "metadata": {},
   "outputs": [],
   "source": [
    "class Node:\n",
    "    def __init__(self, trafic):\n",
    "        self.trafic = trafic\n",
    "        self.left = -1\n",
    "        self.right = -1\n",
    "    def show(self):\n",
    "        print(self.trafic, f' - [{self.left}, {self.right}]')\n",
    "\n",
    "class Tree:\n",
    "    def __init__(self, k, num, links):\n",
    "        self.Nodes = []\n",
    "        self.k = k\n",
    "        for i in range(len(num)):\n",
    "            self.Nodes.append(Node(num[i]))\n",
    "            left, right = links[i]\n",
    "            if left != -1:\n",
    "                self.Nodes[-1].left = left\n",
    "            if right != -1:\n",
    "                self.Nodes[-1].right = right\n",
    "\n",
    "    def show(self):\n",
    "        for node in self.Nodes:\n",
    "            node.show()\n",
    "\n",
    "    def calc(self, ind, limit, group_cnt = 1):\n",
    "\n",
    "        if group_cnt >self.k:\n",
    "            return 0,0,group_cnt\n",
    "        cur = self.Nodes[ind]\n",
    "        node_trafic = cur.trafic\n",
    "\n",
    "        if cur.left != -1 and cur.right!=-1:\n",
    "\n",
    "            left_trafic, add_group1, _ = self.calc(cur.left,limit, group_cnt)\n",
    "            right_trafic, add_group2, _ = self.calc(cur.right,limit, group_cnt)\n",
    "            group_cnt += add_group1\n",
    "            group_cnt += add_group2\n",
    "            if group_cnt >self.k:\n",
    "                return 0,0,group_cnt\n",
    "\n",
    "            if node_trafic+left_trafic+right_trafic <= limit:\n",
    "                return node_trafic+left_trafic+right_trafic,0,group_cnt\n",
    "            \n",
    "            else:\n",
    "                min_ = min(left_trafic, right_trafic)\n",
    "                if node_trafic+min_ <= limit:\n",
    "                    return node_trafic+min_ , 1, group_cnt\n",
    "                else:\n",
    "                    return node_trafic , 2,group_cnt\n",
    "            \n",
    "        elif cur.left != -1:\n",
    "            left_trafic, add_group ,_ = self.calc(cur.left,limit, group_cnt)\n",
    "            group_cnt += add_group\n",
    "            if group_cnt >self.k:\n",
    "                return 0,0,group_cnt\n",
    "\n",
    "            if node_trafic+left_trafic <= limit:\n",
    "                return node_trafic+left_trafic,0,group_cnt\n",
    "\n",
    "        elif cur.right!=-1:\n",
    "            right_trafic, add_group ,_ = self.calc(cur.right,limit, group_cnt)\n",
    "            group_cnt += add_group\n",
    "            if group_cnt >self.k:\n",
    "                return 0,0,group_cnt\n",
    "\n",
    "            if node_trafic+right_trafic <= limit:\n",
    "                return node_trafic+right_trafic, 0, group_cnt\n",
    "        \n",
    "        if node_trafic <= limit:\n",
    "            return node_trafic, 0, group_cnt\n",
    "        \n",
    "        else:\n",
    "            return 0, 1, group_cnt\n",
    "            \n",
    "\n",
    "def solution(k, num, links):\n",
    "    tree = Tree(k,num, links)\n",
    "    sum_ = sum(num)\n",
    "    print(tree.calc(9, k))\n",
    "    answer = 0\n",
    "    return answer"
   ]
  },
  {
   "cell_type": "code",
   "execution_count": 12,
   "metadata": {},
   "outputs": [
    {
     "name": "stdout",
     "output_type": "stream",
     "text": [
      "(10, 2, 1)\n"
     ]
    },
    {
     "data": {
      "text/plain": [
       "0"
      ]
     },
     "execution_count": 12,
     "metadata": {},
     "output_type": "execute_result"
    }
   ],
   "source": [
    "solution(3, [12, 30, 1, 8, 8, 6, 20, 7, 5, 10, 4, 1], [[-1, -1], [-1, -1], [-1, -1], [-1, -1], [8, 5], [2, 10], [3, 0], [6, 1], [11, -1], [7, 4], [-1, -1], [-1, -1]])"
   ]
  },
  {
   "cell_type": "code",
   "execution_count": null,
   "metadata": {},
   "outputs": [],
   "source": []
  }
 ],
 "metadata": {
  "kernelspec": {
   "display_name": "Python 3",
   "language": "python",
   "name": "python3"
  },
  "language_info": {
   "codemirror_mode": {
    "name": "ipython",
    "version": 3
   },
   "file_extension": ".py",
   "mimetype": "text/x-python",
   "name": "python",
   "nbconvert_exporter": "python",
   "pygments_lexer": "ipython3",
   "version": "3.10.11"
  },
  "orig_nbformat": 4
 },
 "nbformat": 4,
 "nbformat_minor": 2
}
