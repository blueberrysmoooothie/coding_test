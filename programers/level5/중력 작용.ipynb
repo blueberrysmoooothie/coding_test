{
 "cells": [
  {
   "attachments": {},
   "cell_type": "markdown",
   "metadata": {},
   "source": [
    "### 중력 작용\n",
    "---\n",
    "https://school.programmers.co.kr/learn/courses/30/lessons/77887"
   ]
  },
  {
   "cell_type": "code",
   "execution_count": 17,
   "metadata": {},
   "outputs": [],
   "source": [
    "import sys\n",
    "from collections import defaultdict\n",
    "sys.setrecursionlimit(100_000)\n",
    "class Node:\n",
    "    def __init__(self, value):\n",
    "        self.parent = None\n",
    "        self.value = value\n",
    "        self.sub_sum = value\n",
    "\n",
    "    def show(self):\n",
    "        print(self.value, '  parent : ', self.parent, '  sub_sum : ', self.sub_sum)\n",
    "\n",
    "class Tree:\n",
    "    def __init__(self, values, edges):\n",
    "        self.nodes = [Node(0)]+[Node(value) for value in values]\n",
    "\n",
    "        self.dic_edges = defaultdict(list)\n",
    "        for a, b in edges:\n",
    "            self.dic_edges[a].append(b)\n",
    "            self.dic_edges[b].append(a)\n",
    "\n",
    "        self.visited = [False for i in range(len(self.nodes))]\n",
    "        self.visited[1] = True\n",
    "        self.leaf = []\n",
    "        self.set_node(1)\n",
    "\n",
    "        for node in self.nodes:\n",
    "            node.show()\n",
    "\n",
    "\n",
    "    def set_node(self, cur_node):\n",
    "\n",
    "        # print(cur_node, self.dic_edges[cur_node])\n",
    "        if len(self.dic_edges[cur_node])==1:\n",
    "            self.leaf.append(cur_node)\n",
    "            return 0\n",
    "\n",
    "        for c_node in self.dic_edges[cur_node]:\n",
    "            if self.visited[c_node]:\n",
    "                continue\n",
    "            self.nodes[c_node].parent = cur_node\n",
    "            self.visited[c_node] = True\n",
    "            self.set_node(c_node)\n",
    "\n",
    "    def calc_queries(self, queries):\n",
    "        pass\n",
    "\n",
    "\n",
    "def solution(values, edges, queries):\n",
    "    tree = Tree(values, edges)\n",
    "    answer = []\n",
    "    return answer"
   ]
  },
  {
   "cell_type": "code",
   "execution_count": 18,
   "metadata": {},
   "outputs": [
    {
     "name": "stdout",
     "output_type": "stream",
     "text": [
      "0   parent :  None   sub_sum :  0\n",
      "1   parent :  None   sub_sum :  24221\n",
      "10   parent :  1   sub_sum :  22010\n",
      "100   parent :  1   sub_sum :  200\n",
      "1000   parent :  2   sub_sum :  2000\n",
      "10000   parent :  2   sub_sum :  20000\n"
     ]
    },
    {
     "data": {
      "text/plain": [
       "[]"
      ]
     },
     "execution_count": 18,
     "metadata": {},
     "output_type": "execute_result"
    }
   ],
   "source": [
    "solution(\t[1, 10, 100, 1000, 10000], [[1, 2], [1, 3], [2, 4], [2, 5]], [[1, -1], [2, -1], [3, -1], [4, -1], [5, -1], [4, 1000], [1, -1], [2, -1], [3, -1], [4, -1], [5, -1], [2, 1], [1, -1], [2, -1], [3, -1], [4, -1], [5, -1]])"
   ]
  },
  {
   "cell_type": "code",
   "execution_count": 10,
   "metadata": {},
   "outputs": [
    {
     "name": "stdout",
     "output_type": "stream",
     "text": [
      "1 [2]\n",
      "2 [1, 4, 3]\n",
      "4 [2]\n",
      "3 [2, 5]\n",
      "5 [3, 6, 8, 7]\n",
      "6 [5]\n",
      "8 [9, 5]\n",
      "9 [10, 8]\n",
      "10 [11, 12, 9]\n",
      "11 [10, 13]\n",
      "13 [11]\n",
      "12 [10]\n",
      "7 [5]\n"
     ]
    },
    {
     "data": {
      "text/plain": [
       "[]"
      ]
     },
     "execution_count": 10,
     "metadata": {},
     "output_type": "execute_result"
    }
   ],
   "source": [
    "solution([1, 2, 4, 8, 16, 32, 64, 128, 256, 512, 1024, 2048, 4096],\n",
    "[[10, 11], [13, 11], [12, 10], [10, 9], [8, 9], [1, 2], [2, 4], [2, 3], [5, 3], [6, 5], [5, 8], [7, 5]], [])"
   ]
  }
 ],
 "metadata": {
  "kernelspec": {
   "display_name": "Python 3",
   "language": "python",
   "name": "python3"
  },
  "language_info": {
   "codemirror_mode": {
    "name": "ipython",
    "version": 3
   },
   "file_extension": ".py",
   "mimetype": "text/x-python",
   "name": "python",
   "nbconvert_exporter": "python",
   "pygments_lexer": "ipython3",
   "version": "3.10.11"
  },
  "orig_nbformat": 4
 },
 "nbformat": 4,
 "nbformat_minor": 2
}
