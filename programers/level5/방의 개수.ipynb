{
 "cells": [
  {
   "attachments": {},
   "cell_type": "markdown",
   "metadata": {},
   "source": [
    "#### 방의 개수\n",
    "---\n",
    "https://school.programmers.co.kr/learn/courses/30/lessons/49190"
   ]
  },
  {
   "cell_type": "code",
   "execution_count": 13,
   "metadata": {},
   "outputs": [],
   "source": [
    "def solution(arrows):\n",
    "    cur = [0,0]\n",
    "    answer = 0\n",
    "    vectors = [(-1,0), (-1,1), (0,1),(1,1), (1,0), (1,-1), (0,-1), (-1,-1)]\n",
    "    min_r, min_c, max_r, max_c = 0,0,0,0\n",
    "    for a in arrows:\n",
    "        cur = [cur[0]+vectors[a][0], cur[1]+vectors[a][1]]\n",
    "\n",
    "        if cur[0]<min_r:\n",
    "            min_r = cur[0]\n",
    "        if cur[1]<min_c:\n",
    "            min_c = cur[1]\n",
    "        if cur[0]>max_r:\n",
    "            max_r = cur[0]\n",
    "        if cur[1]>max_c:\n",
    "            max_c = cur[1]\n",
    "\n",
    "    map_ = [[0 for i in range(max_c-min_c+1)] for j in range(max_r-min_r+1)]\n",
    "\n",
    "    cur = [-min_r, - min_c]\n",
    "    i=1\n",
    "    map_[cur[0]][cur[1]] = i\n",
    "    for a in arrows:\n",
    "        i+=1\n",
    "        cur = [cur[0]+vectors[a][0], cur[1]+vectors[a][1]]\n",
    "        map_[cur[0]][cur[1]] = i\n",
    "\n",
    "    for m in map_:\n",
    "        print(m)\n",
    "    return answer"
   ]
  },
  {
   "cell_type": "code",
   "execution_count": 50,
   "metadata": {},
   "outputs": [],
   "source": [
    "class Node:\n",
    "    def __init__(self):\n",
    "        self.connections = set()\n",
    "        pass\n",
    "\n",
    "class Tree:\n",
    "    def __init__(self, arrows):\n",
    "        self.vectors = [(-1,0), (-1,1), (0,1),(1,1), (1,0), (1,-1), (0,-1), (-1,-1)]\n",
    "        self.connection_directs = {0:4, 1:5, 2:6, 3:7, 4:0, 5:1, 6:2, 7:3}\n",
    "        cur = (0,0)\n",
    "        self.tree = {cur : Node()}\n",
    "        self.cnt =0\n",
    "        for a in arrows:\n",
    "\n",
    "            if a in self.tree[cur].connections:\n",
    "                cur = (cur[0]+self.vectors[a][0], cur[1]+self.vectors[a][1])\n",
    "                continue\n",
    "\n",
    "            self.tree[cur].connections.add(a)\n",
    "            cur = (cur[0]+self.vectors[a][0], cur[1]+self.vectors[a][1])\n",
    "\n",
    "            if a%2:\n",
    "                if a ==1:\n",
    "                    if (cur[0]+1, cur[1]) in self.tree and 7 in self.tree[(cur[0]+1, cur[1])].connections:\n",
    "                        self.cnt +=1\n",
    "                elif a ==3:\n",
    "                    if (cur[0]-1, cur[1]) in self.tree and 5 in self.tree[(cur[0]-1, cur[1])].connections:\n",
    "                        self.cnt +=1\n",
    "                elif a ==5:\n",
    "                    if (cur[0]-1, cur[1]) in self.tree and 3 in self.tree[(cur[0]-1, cur[1])].connections:\n",
    "                        self.cnt +=1\n",
    "                else:\n",
    "                    if (cur[0]+1, cur[1]) in self.tree and 1 in self.tree[(cur[0]+1, cur[1])].connections:\n",
    "                        self.cnt +=1\n",
    "\n",
    "            if cur not in self.tree:\n",
    "                self.tree[cur] = Node()\n",
    "                self.tree[cur].connections.add(self.connection_directs[a])\n",
    "                \n",
    "            else:\n",
    "                if self.connection_directs[a]  not in self.tree[cur].connections:\n",
    "                    self.cnt +=1\n",
    "                    self.tree[cur].connections.add(self.connection_directs[a])\n",
    "            # print (cur,  self.cnt) \n",
    "        \n",
    "\n",
    "    def show(self):\n",
    "        for loc, node in self.tree.items():\n",
    "            print(loc, node.connections)\n",
    "\n",
    "\n",
    "\n",
    "def solution(arrows):\n",
    "\n",
    "    tree = Tree(arrows)\n",
    "    # tree.show()\n",
    "    return tree.cnt"
   ]
  },
  {
   "cell_type": "code",
   "execution_count": 51,
   "metadata": {},
   "outputs": [
    {
     "data": {
      "text/plain": [
       "4"
      ]
     },
     "execution_count": 51,
     "metadata": {},
     "output_type": "execute_result"
    }
   ],
   "source": [
    "solution([0, 6, 4, 2, 7, 2, 5]\n",
    "         )"
   ]
  },
  {
   "cell_type": "code",
   "execution_count": null,
   "metadata": {},
   "outputs": [],
   "source": []
  }
 ],
 "metadata": {
  "kernelspec": {
   "display_name": "Python 3",
   "language": "python",
   "name": "python3"
  },
  "language_info": {
   "codemirror_mode": {
    "name": "ipython",
    "version": 3
   },
   "file_extension": ".py",
   "mimetype": "text/x-python",
   "name": "python",
   "nbconvert_exporter": "python",
   "pygments_lexer": "ipython3",
   "version": "3.10.11"
  },
  "orig_nbformat": 4
 },
 "nbformat": 4,
 "nbformat_minor": 2
}
