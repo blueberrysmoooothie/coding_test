{
 "cells": [
  {
   "cell_type": "markdown",
   "metadata": {},
   "source": [
    "재밌는 레이싱 경기장 설계하기\n",
    "---\n",
    "https://school.programmers.co.kr/learn/courses/30/lessons/214292"
   ]
  },
  {
   "cell_type": "code",
   "execution_count": 20,
   "metadata": {},
   "outputs": [],
   "source": [
    "def calc_diff(arr):\n",
    "    m = 10**9\n",
    "    for i in range(1, len(arr)):\n",
    "        m = min(abs(arr[i]-arr[i-1]), m)\n",
    "    return m\n",
    "\n",
    "def solution(heights):\n",
    "    l = len(heights)\n",
    "    heights = sorted(heights)\n",
    "    if l%2 ==0 :\n",
    "        sl = heights[:l//2]\n",
    "        ll = heights[l//2:]\n",
    "        arr = [ll[i//2] if i%2 else sl[i//2] for i in range(l)]\n",
    "        ans1 = calc_diff(arr)\n",
    "        print(arr)\n",
    "        arr = [sl[i//2] if i%2 else ll[i//2] for i in range(l)]\n",
    "        ans2 = calc_diff(arr)\n",
    "        print(arr)\n",
    "        return max(ans1, ans2)\n",
    "    else:\n",
    "        sl = heights[:(l//2+1)]\n",
    "        ll = heights[(l//2+1):]\n",
    "        arr = [ll[i//2] if i%2 else sl[i//2] for i in range(l)]\n",
    "        print(arr)\n",
    "        ans1 = calc_diff(arr)\n",
    "\n",
    "        sl = heights[:l//2]\n",
    "        ll = heights[l//2:]\n",
    "        arr = [sl[i//2] if i%2 else ll[i//2] for i in range(l)]\n",
    "        print(arr)\n",
    "        ans2 = calc_diff(arr)\n",
    "\n",
    "        return max(ans1, ans2)\n",
    "    "
   ]
  },
  {
   "cell_type": "code",
   "execution_count": 21,
   "metadata": {},
   "outputs": [
    {
     "name": "stdout",
     "output_type": "stream",
     "text": [
      "[1, 6, 4, 10, 5]\n",
      "[5, 1, 6, 4, 10]\n"
     ]
    },
    {
     "data": {
      "text/plain": [
       "2"
      ]
     },
     "execution_count": 21,
     "metadata": {},
     "output_type": "execute_result"
    }
   ],
   "source": [
    "solution([ 1, 4, 5, 6, 10])"
   ]
  },
  {
   "cell_type": "markdown",
   "metadata": {},
   "source": [
    "DP?\n",
    "빈 배열에 하나씩 넣음 넣을거 스택에 저장?\n",
    "넣을거 저장은 어떤 순서로?\n"
   ]
  }
 ],
 "metadata": {
  "kernelspec": {
   "display_name": "Python 3",
   "language": "python",
   "name": "python3"
  },
  "language_info": {
   "codemirror_mode": {
    "name": "ipython",
    "version": 3
   },
   "file_extension": ".py",
   "mimetype": "text/x-python",
   "name": "python",
   "nbconvert_exporter": "python",
   "pygments_lexer": "ipython3",
   "version": "3.10.11"
  },
  "orig_nbformat": 4
 },
 "nbformat": 4,
 "nbformat_minor": 2
}
