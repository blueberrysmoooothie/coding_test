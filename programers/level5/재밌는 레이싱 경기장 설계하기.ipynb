{
 "cells": [
  {
   "cell_type": "markdown",
   "metadata": {},
   "source": [
    "재밌는 레이싱 경기장 설계하기\n",
    "---\n",
    "https://school.programmers.co.kr/learn/courses/30/lessons/214292"
   ]
  },
  {
   "cell_type": "code",
   "execution_count": 4,
   "metadata": {},
   "outputs": [],
   "source": [
    "def calc_diff(arr):\n",
    "    m = 10**9\n",
    "    for i in range(1, len(arr)):\n",
    "        m = min(abs(arr[i]-arr[i-1]), m)\n",
    "    return m\n",
    "\n",
    "def solution(heights):\n",
    "    l = len(heights)\n",
    "    heights = sorted(heights)\n",
    "    if l%2 ==0 :\n",
    "        sl = heights[:l//2]\n",
    "        ll = heights[l//2:]\n",
    "        arr = [ll[i//2] if i%2 else sl[i//2] for i in range(l//2)]\n",
    "        return calc_diff(arr)\n",
    "    else:\n",
    "        \n",
    "    \n",
    "\n",
    "    answer = 0\n",
    "    return answer"
   ]
  },
  {
   "cell_type": "code",
   "execution_count": 5,
   "metadata": {},
   "outputs": [
    {
     "data": {
      "text/plain": [
       "3"
      ]
     },
     "execution_count": 5,
     "metadata": {},
     "output_type": "execute_result"
    }
   ],
   "source": [
    "solution([1,3,5,6,7,8])"
   ]
  }
 ],
 "metadata": {
  "kernelspec": {
   "display_name": "Python 3",
   "language": "python",
   "name": "python3"
  },
  "language_info": {
   "codemirror_mode": {
    "name": "ipython",
    "version": 3
   },
   "file_extension": ".py",
   "mimetype": "text/x-python",
   "name": "python",
   "nbconvert_exporter": "python",
   "pygments_lexer": "ipython3",
   "version": "3.10.11"
  },
  "orig_nbformat": 4
 },
 "nbformat": 4,
 "nbformat_minor": 2
}
