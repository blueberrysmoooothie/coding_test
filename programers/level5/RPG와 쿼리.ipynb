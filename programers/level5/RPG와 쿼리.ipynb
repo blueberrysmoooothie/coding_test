{
 "cells": [
  {
   "attachments": {},
   "cell_type": "markdown",
   "metadata": {},
   "source": [
    "### RPG와 쿼리\n",
    "---\n",
    "https://school.programmers.co.kr/learn/courses/30/lessons/76504?language=python3 "
   ]
  },
  {
   "attachments": {},
   "cell_type": "markdown",
   "metadata": {},
   "source": [
    "행동 수별 합들의 dic를 만들어서 해당 값이 없으면 추가하고 불가능하면(초과하면) -1"
   ]
  },
  {
   "cell_type": "code",
   "execution_count": 90,
   "metadata": {},
   "outputs": [],
   "source": [
    "\n",
    "class Node:\n",
    "    def __init__(self):\n",
    "        # 끝노드 : [가중치]\n",
    "        self.edges = {}\n",
    "\n",
    "\n",
    "def solution(n, z, roads, queries):\n",
    "\n",
    "    def add_money_node(money, nod_ind):\n",
    "        if (money in visited):\n",
    "            if  (nod_ind in visited[money]):\n",
    "                return 0\n",
    "            visited[money].append(nod_ind)\n",
    "            \n",
    "        else:\n",
    "            visited[money]=[nod_ind]\n",
    "\n",
    "        money_dict[cur_time+1].add((money, nod_ind))\n",
    "\n",
    "\n",
    "    def add_money_dict():\n",
    "        money_dict[cur_time+1] = set()\n",
    "\n",
    "        for money, cur_node in money_dict[cur_time]:\n",
    "            add_money_node(money+z, cur_node)\n",
    "            for end_noed, weight in nodes[cur_node].edges.items():\n",
    "                for w in weight:\n",
    "                    add_money_node(money+w, end_noed)\n",
    "        \n",
    "            for node_ind in range(n):\n",
    "                if node_ind == cur_node:\n",
    "                    continue\n",
    "                add_money_node(money, node_ind)\n",
    "        \n",
    "        time_money[cur_time+1] = set([money for money, node_ind in money_dict[cur_time+1]])\n",
    "        mins.append(min(time_money[cur_time+1]))\n",
    "\n",
    "\n",
    "    visited = {0:[0]}\n",
    "    time_money = {0:set([])}\n",
    "    \n",
    "    cur_time = 0\n",
    "    money_dict = {0 : set()}\n",
    "    money_dict[0].add((0,0))\n",
    "\n",
    "    nodes = [Node() for i in range(n)]\n",
    "    for u, v, w in roads:\n",
    "        if v not in nodes[u].edges:\n",
    "            nodes[u].edges[v] =[]\n",
    "        nodes[u].edges[v].append(w)\n",
    "\n",
    "    mins = [0]\n",
    "\n",
    "\n",
    "    answer = []\n",
    "    for c in queries:\n",
    "\n",
    "        if c==0:\n",
    "            answer.append(0)\n",
    "            continue\n",
    "\n",
    "        time = 0\n",
    "        while True:\n",
    "            if c< mins[time]:\n",
    "                answer.append(-1)\n",
    "                break\n",
    "            \n",
    "            if c in time_money[time]:\n",
    "                answer.append(time)\n",
    "                break\n",
    "\n",
    "            if time == cur_time:\n",
    "                add_money_dict()\n",
    "                cur_time+=1\n",
    "                \n",
    "            time+=1\n",
    "\n",
    "\n",
    "    return answer"
   ]
  },
  {
   "cell_type": "code",
   "execution_count": 91,
   "metadata": {},
   "outputs": [
    {
     "data": {
      "text/plain": [
       "[0, -1, 1, 2, 3, 1, 4]"
      ]
     },
     "execution_count": 91,
     "metadata": {},
     "output_type": "execute_result"
    }
   ],
   "source": [
    "solution(\t5, 5, [[1, 2, 3], [0, 3, 2]], [0, 1, 2, 3, 4, 5, 6])"
   ]
  },
  {
   "attachments": {},
   "cell_type": "markdown",
   "metadata": {},
   "source": [
    "[0, -1, 1, 2, 3, 1, 4]"
   ]
  }
 ],
 "metadata": {
  "kernelspec": {
   "display_name": "Python 3",
   "language": "python",
   "name": "python3"
  },
  "language_info": {
   "codemirror_mode": {
    "name": "ipython",
    "version": 3
   },
   "file_extension": ".py",
   "mimetype": "text/x-python",
   "name": "python",
   "nbconvert_exporter": "python",
   "pygments_lexer": "ipython3",
   "version": "3.10.11"
  },
  "orig_nbformat": 4
 },
 "nbformat": 4,
 "nbformat_minor": 2
}
