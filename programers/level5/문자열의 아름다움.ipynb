{
 "cells": [
  {
   "attachments": {},
   "cell_type": "markdown",
   "metadata": {},
   "source": [
    "#### 문자열의 아름다움\n",
    "---\n",
    "https://school.programmers.co.kr/learn/courses/30/lessons/68938"
   ]
  },
  {
   "cell_type": "code",
   "execution_count": 1,
   "metadata": {},
   "outputs": [],
   "source": [
    "def solution(s):\n",
    "    answer = -1\n",
    "    dicts = {}\n",
    "    for i, a in enumerate(list(s)):\n",
    "        if a in dicts:\n",
    "            dicts[a][1] = i\n",
    "        else:\n",
    "            dicts[a] = [i,i]\n",
    "\n",
    "    print(dicts)\n",
    "    return answer\n"
   ]
  },
  {
   "attachments": {},
   "cell_type": "markdown",
   "metadata": {},
   "source": [
    "dp  \n",
    "b  \n",
    "ba a  \n",
    "bab ab b  \n",
    "baby aby by y  "
   ]
  },
  {
   "cell_type": "code",
   "execution_count": 20,
   "metadata": {},
   "outputs": [],
   "source": [
    "def solution(s):\n",
    "    answer = 0\n",
    "    dp = [[0]] # 다른 알파뱃 등장 위치\n",
    "    if len(s)<=1:\n",
    "        return 0\n",
    "    for i in range(1, len(s)):\n",
    "        a = s[i]\n",
    "        \n",
    "        dp.append([])\n",
    "        for j in range(i):\n",
    "            if a != s[j]:\n",
    "                answer += i-j\n",
    "                if not dp[i-1][j]:\n",
    "                    dp[-1].append(i-j)\n",
    "                else:\n",
    "                    dp[-1].append(dp[i-1][j])\n",
    "\n",
    "            elif dp[i-1][j]:\n",
    "                answer += max(dp[i-1][j], i-j - dp[i-1][j])\n",
    "                dp[-1].append(dp[i-1][j])\n",
    "            else:\n",
    "                dp[-1].append(0)\n",
    "            \n",
    "            # print(s[j:i+1], answer)\n",
    "\n",
    "\n",
    "        dp[-1].append(0)\n",
    "    \n",
    "    # print(dp)\n",
    "    return answer\n"
   ]
  },
  {
   "cell_type": "code",
   "execution_count": 21,
   "metadata": {},
   "outputs": [
    {
     "name": "stdout",
     "output_type": "stream",
     "text": [
      "ba 1\n",
      "bab 2\n",
      "ab 3\n",
      "baby 6\n",
      "aby 8\n",
      "by 9\n",
      "[[0], [1, 0], [1, 1, 0], [1, 1, 1, 0]]\n"
     ]
    },
    {
     "data": {
      "text/plain": [
       "9"
      ]
     },
     "execution_count": 21,
     "metadata": {},
     "output_type": "execute_result"
    }
   ],
   "source": [
    "solution('baby')"
   ]
  },
  {
   "cell_type": "code",
   "execution_count": 3,
   "metadata": {},
   "outputs": [
    {
     "name": "stdout",
     "output_type": "stream",
     "text": [
      "{'a': [0, 2]}\n"
     ]
    },
    {
     "data": {
      "text/plain": [
       "-1"
      ]
     },
     "execution_count": 3,
     "metadata": {},
     "output_type": "execute_result"
    }
   ],
   "source": [
    "solution('aaa')"
   ]
  },
  {
   "cell_type": "code",
   "execution_count": null,
   "metadata": {},
   "outputs": [],
   "source": []
  }
 ],
 "metadata": {
  "kernelspec": {
   "display_name": "Python 3",
   "language": "python",
   "name": "python3"
  },
  "language_info": {
   "codemirror_mode": {
    "name": "ipython",
    "version": 3
   },
   "file_extension": ".py",
   "mimetype": "text/x-python",
   "name": "python",
   "nbconvert_exporter": "python",
   "pygments_lexer": "ipython3",
   "version": "3.10.11"
  },
  "orig_nbformat": 4
 },
 "nbformat": 4,
 "nbformat_minor": 2
}
