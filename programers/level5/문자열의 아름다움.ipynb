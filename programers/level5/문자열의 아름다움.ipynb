{
 "cells": [
  {
   "attachments": {},
   "cell_type": "markdown",
   "metadata": {},
   "source": [
    "#### 문자열의 아름다움\n",
    "---\n",
    "https://school.programmers.co.kr/learn/courses/30/lessons/68938"
   ]
  },
  {
   "cell_type": "code",
   "execution_count": 1,
   "metadata": {},
   "outputs": [],
   "source": [
    "def solution(s):\n",
    "    answer = -1\n",
    "    dicts = {}\n",
    "    for i, a in enumerate(list(s)):\n",
    "        if a in dicts:\n",
    "            dicts[a][1] = i\n",
    "        else:\n",
    "            dicts[a] = [i,i]\n",
    "\n",
    "    print(dicts)\n",
    "    return answer\n"
   ]
  },
  {
   "attachments": {},
   "cell_type": "markdown",
   "metadata": {},
   "source": [
    "dp  \n",
    "b  \n",
    "ba a  \n",
    "bab ab b  \n",
    "baby aby by y  "
   ]
  },
  {
   "cell_type": "code",
   "execution_count": 12,
   "metadata": {},
   "outputs": [],
   "source": [
    "def solution(s):\n",
    "    dp = [[0,0]]\n",
    "    if len(s) ==1:\n",
    "        return 0\n",
    "    answer = 0\n",
    "    for i in range(1, len(s)):\n",
    "        for j in range(i):\n",
    "            if dp[j][0] == 0:\n",
    "                if s[i] != s[j]:\n",
    "                    dp[j] = [i,i]\n",
    "                    ans = i-j\n",
    "                else:\n",
    "                    ans = 0\n",
    "            else:\n",
    "                if s[i] != s[j]:\n",
    "                    ans = i-j\n",
    "                    dp[j][1] = i\n",
    "                else:\n",
    "                    ans = max(i-dp[j][0],dp[j][1]-j )\n",
    "            answer +=ans\n",
    "        #     print(s[j:i+1], ans)\n",
    "        # print(dp)\n",
    "        dp.append([0,0])\n",
    "    return answer\n",
    "                \n",
    "\n",
    "\n",
    "                \n"
   ]
  },
  {
   "cell_type": "code",
   "execution_count": 13,
   "metadata": {},
   "outputs": [
    {
     "data": {
      "text/plain": [
       "9"
      ]
     },
     "execution_count": 13,
     "metadata": {},
     "output_type": "execute_result"
    }
   ],
   "source": [
    "solution('baby')"
   ]
  },
  {
   "cell_type": "code",
   "execution_count": 22,
   "metadata": {},
   "outputs": [],
   "source": [
    "from itertools import groupby\n",
    "from collections import defaultdict\n",
    "\n",
    "def solution(s):\n",
    "    dic = defaultdict(lambda : defaultdict(int))\n",
    "    for ch, group in groupby(s):\n",
    "        dic[ch][len(list(group))]+=1 \n",
    "        print(dic)\n",
    "\n",
    "    "
   ]
  },
  {
   "cell_type": "code",
   "execution_count": 23,
   "metadata": {},
   "outputs": [
    {
     "name": "stdout",
     "output_type": "stream",
     "text": [
      "defaultdict(<function solution.<locals>.<lambda> at 0x000001FC7E4D6DD0>, {'b': defaultdict(<class 'int'>, {1: 1})})\n",
      "defaultdict(<function solution.<locals>.<lambda> at 0x000001FC7E4D6DD0>, {'b': defaultdict(<class 'int'>, {1: 1}), 'a': defaultdict(<class 'int'>, {2: 1})})\n",
      "defaultdict(<function solution.<locals>.<lambda> at 0x000001FC7E4D6DD0>, {'b': defaultdict(<class 'int'>, {1: 2}), 'a': defaultdict(<class 'int'>, {2: 1})})\n",
      "defaultdict(<function solution.<locals>.<lambda> at 0x000001FC7E4D6DD0>, {'b': defaultdict(<class 'int'>, {1: 2}), 'a': defaultdict(<class 'int'>, {2: 1}), 'n': defaultdict(<class 'int'>, {1: 1})})\n",
      "defaultdict(<function solution.<locals>.<lambda> at 0x000001FC7E4D6DD0>, {'b': defaultdict(<class 'int'>, {1: 2}), 'a': defaultdict(<class 'int'>, {2: 1}), 'n': defaultdict(<class 'int'>, {1: 1}), 'y': defaultdict(<class 'int'>, {3: 1})})\n"
     ]
    }
   ],
   "source": [
    "solution('baabnyyy')"
   ]
  },
  {
   "attachments": {},
   "cell_type": "markdown",
   "metadata": {},
   "source": [
    "https://prgms.tistory.com/32"
   ]
  },
  {
   "cell_type": "code",
   "execution_count": 28,
   "metadata": {},
   "outputs": [],
   "source": [
    "from itertools import groupby\n",
    "def solution(s):\n",
    "    n = len(s)\n",
    "    LDI = []\n",
    "    RDI = []\n",
    "    ind = 0\n",
    "    for ch, group in groupby(s):\n",
    "        group = list(group)\n",
    "        for a in group:\n",
    "            LDI.append(ind-1)\n",
    "        ind += len(group)\n",
    "        \n",
    "    ind = n-1\n",
    "    for ch, group in groupby(s[::-1]):\n",
    "        group = list(group)\n",
    "        for a in group:\n",
    "            RDI.append(ind+1)\n",
    "        ind -= len(group)\n",
    "\n",
    "    print(LDI, RDI)"
   ]
  },
  {
   "cell_type": "code",
   "execution_count": 29,
   "metadata": {},
   "outputs": [
    {
     "name": "stdout",
     "output_type": "stream",
     "text": [
      "[-1, 0, 1, 2] [4, 3, 2, 1]\n"
     ]
    }
   ],
   "source": [
    "solution('test')"
   ]
  },
  {
   "cell_type": "code",
   "execution_count": 27,
   "metadata": {},
   "outputs": [
    {
     "data": {
      "text/plain": [
       "'tset'"
      ]
     },
     "execution_count": 27,
     "metadata": {},
     "output_type": "execute_result"
    }
   ],
   "source": [
    "'test'[::-1]"
   ]
  },
  {
   "cell_type": "code",
   "execution_count": 31,
   "metadata": {},
   "outputs": [
    {
     "data": {
      "text/plain": [
       "8"
      ]
     },
     "execution_count": 31,
     "metadata": {},
     "output_type": "execute_result"
    }
   ],
   "source": [
    "s = 'test'\n",
    "(n:=len(s)) +n"
   ]
  },
  {
   "cell_type": "code",
   "execution_count": null,
   "metadata": {},
   "outputs": [],
   "source": []
  }
 ],
 "metadata": {
  "kernelspec": {
   "display_name": "Python 3",
   "language": "python",
   "name": "python3"
  },
  "language_info": {
   "codemirror_mode": {
    "name": "ipython",
    "version": 3
   },
   "file_extension": ".py",
   "mimetype": "text/x-python",
   "name": "python",
   "nbconvert_exporter": "python",
   "pygments_lexer": "ipython3",
   "version": "3.10.11"
  },
  "orig_nbformat": 4
 },
 "nbformat": 4,
 "nbformat_minor": 2
}
