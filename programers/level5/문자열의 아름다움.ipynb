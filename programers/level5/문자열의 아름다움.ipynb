{
 "cells": [
  {
   "attachments": {},
   "cell_type": "markdown",
   "metadata": {},
   "source": [
    "#### 문자열의 아름다움\n",
    "---\n",
    "https://school.programmers.co.kr/learn/courses/30/lessons/68938"
   ]
  },
  {
   "cell_type": "code",
   "execution_count": 1,
   "metadata": {},
   "outputs": [],
   "source": [
    "def solution(s):\n",
    "    answer = -1\n",
    "    dicts = {}\n",
    "    for i, a in enumerate(list(s)):\n",
    "        if a in dicts:\n",
    "            dicts[a][1] = i\n",
    "        else:\n",
    "            dicts[a] = [i,i]\n",
    "\n",
    "    print(dicts)\n",
    "    return answer\n"
   ]
  },
  {
   "attachments": {},
   "cell_type": "markdown",
   "metadata": {},
   "source": [
    "dp  \n",
    "b  \n",
    "ba a  \n",
    "bab ab b  \n",
    "baby aby by y  "
   ]
  },
  {
   "cell_type": "code",
   "execution_count": 4,
   "metadata": {},
   "outputs": [],
   "source": [
    "def solution(s):\n",
    "    answer = 0\n",
    "    dp = [[0]] # 다른 알파뱃 등장 위치\n",
    "    if len(s)<=1:\n",
    "        return 0\n",
    "    for i in range(1, len(s)):\n",
    "        a = s[i]\n",
    "        \n",
    "        dp.append([])\n",
    "        for j in range(i):\n",
    "            if a != s[j]:\n",
    "                answer += i-j\n",
    "                if not dp[i-1][j]:\n",
    "                    dp[-1].append(i-j)\n",
    "                else:\n",
    "                    dp[-1].append(dp[i-1][j])\n",
    "\n",
    "            elif dp[i-1][j]:\n",
    "                answer += max(dp[i-1][j], i-j - dp[i-1][j])\n",
    "                dp[-1].append(dp[i-1][j])\n",
    "            else:\n",
    "                dp[-1].append(0)\n",
    "            \n",
    "            print(s[j:i+1], answer)\n",
    "\n",
    "\n",
    "        dp[-1].append(0)\n",
    "    \n",
    "    # print(dp)\n",
    "    return answer\n"
   ]
  },
  {
   "attachments": {},
   "cell_type": "markdown",
   "metadata": {},
   "source": [
    "b\n",
    "a"
   ]
  },
  {
   "cell_type": "code",
   "execution_count": 7,
   "metadata": {},
   "outputs": [
    {
     "name": "stdout",
     "output_type": "stream",
     "text": [
      "aa 0\n",
      "aab 2\n",
      "ab 3\n",
      "aabb 6\n",
      "abb 8\n",
      "bb 8\n",
      "aabba 10\n",
      "abba 12\n",
      "bba 14\n",
      "ba 15\n",
      "aabbaa 18\n",
      "abbaa 21\n",
      "bbaa 24\n",
      "baa 26\n",
      "aa 26\n",
      "aabbaaa 30\n",
      "abbaaa 34\n",
      "bbaaa 38\n",
      "baaa 41\n",
      "aaa 41\n",
      "aa 41\n",
      "aabbaaaa 46\n",
      "abbaaaa 51\n",
      "bbaaaa 56\n",
      "baaaa 60\n",
      "aaaa 60\n",
      "aaa 60\n",
      "aa 60\n",
      "aabbaaaab 68\n",
      "abbaaaab 75\n",
      "bbaaaab 79\n",
      "baaaab 83\n",
      "aaaab 87\n",
      "aaab 90\n",
      "aab 92\n",
      "ab 93\n",
      "aabbaaaabb 102\n",
      "abbaaaabb 110\n",
      "bbaaaabb 115\n",
      "baaaabb 120\n",
      "aaaabb 125\n",
      "aaabb 129\n",
      "aabb 132\n",
      "abb 134\n",
      "bb 134\n",
      "aabbaaaabba 142\n",
      "abbaaaabba 150\n",
      "bbaaaabba 158\n",
      "baaaabba 165\n",
      "aaaabba 169\n",
      "aaabba 172\n",
      "aabba 174\n",
      "abba 176\n",
      "bba 178\n",
      "ba 179\n",
      "aabbaaaabbaa 188\n",
      "abbaaaabbaa 197\n",
      "bbaaaabbaa 206\n",
      "baaaabbaa 214\n",
      "aaaabbaa 218\n",
      "aaabbaa 221\n",
      "aabbaa 224\n",
      "abbaa 227\n",
      "bbaa 230\n",
      "baa 232\n",
      "aa 232\n"
     ]
    },
    {
     "data": {
      "text/plain": [
       "232"
      ]
     },
     "execution_count": 7,
     "metadata": {},
     "output_type": "execute_result"
    }
   ],
   "source": [
    "solution('aabbaaaabbaa')"
   ]
  },
  {
   "cell_type": "code",
   "execution_count": 11,
   "metadata": {},
   "outputs": [
    {
     "name": "stdout",
     "output_type": "stream",
     "text": [
      "ba 1\n",
      "baa 3\n",
      "aa 3\n",
      "baaa 6\n",
      "aaa 6\n",
      "aa 6\n",
      "baaaa 10\n",
      "aaaa 10\n",
      "aaa 10\n",
      "aa 10\n",
      "baaaaa 15\n",
      "aaaaa 15\n",
      "aaaa 15\n",
      "aaa 15\n",
      "aa 15\n"
     ]
    },
    {
     "data": {
      "text/plain": [
       "15"
      ]
     },
     "execution_count": 11,
     "metadata": {},
     "output_type": "execute_result"
    }
   ],
   "source": [
    "solution('baaaaa')"
   ]
  },
  {
   "cell_type": "code",
   "execution_count": null,
   "metadata": {},
   "outputs": [],
   "source": []
  }
 ],
 "metadata": {
  "kernelspec": {
   "display_name": "Python 3",
   "language": "python",
   "name": "python3"
  },
  "language_info": {
   "codemirror_mode": {
    "name": "ipython",
    "version": 3
   },
   "file_extension": ".py",
   "mimetype": "text/x-python",
   "name": "python",
   "nbconvert_exporter": "python",
   "pygments_lexer": "ipython3",
   "version": "3.10.11"
  },
  "orig_nbformat": 4
 },
 "nbformat": 4,
 "nbformat_minor": 2
}
