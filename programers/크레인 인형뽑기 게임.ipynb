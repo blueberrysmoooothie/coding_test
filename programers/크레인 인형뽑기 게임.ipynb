{
 "cells": [
  {
   "cell_type": "markdown",
   "id": "fd3943db",
   "metadata": {},
   "source": [
    "https://school.programmers.co.kr/learn/courses/30/lessons/64061"
   ]
  },
  {
   "cell_type": "code",
   "execution_count": 12,
   "id": "86e176d3",
   "metadata": {},
   "outputs": [
    {
     "data": {
      "text/plain": [
       "4"
      ]
     },
     "execution_count": 12,
     "metadata": {},
     "output_type": "execute_result"
    }
   ],
   "source": [
    "def solution(board, moves):\n",
    "    answer = 0\n",
    "    stack = []\n",
    "    for move in moves :\n",
    "        for t in board:\n",
    "            if t[move-1]:\n",
    "                try:\n",
    "                    if stack[-1] == t[move-1]:\n",
    "                        stack.pop()\n",
    "                        answer +=2\n",
    "                    else:\n",
    "                        stack.append(t[move-1])\n",
    "                except:\n",
    "                    stack.append(t[move-1])\n",
    "                t[move-1] = 0\n",
    "                break\n",
    "    return answer\n",
    "\n",
    "\n",
    "solution([[0,0,0,0,0],[0,0,1,0,3],[0,2,5,0,1],[4,2,4,4,2],[3,5,1,3,1]],[1,5,3,5,1,2,1,4])"
   ]
  },
  {
   "cell_type": "code",
   "execution_count": null,
   "id": "3efd7cc5",
   "metadata": {},
   "outputs": [],
   "source": []
  },
  {
   "cell_type": "code",
   "execution_count": null,
   "id": "bad3c9c8",
   "metadata": {},
   "outputs": [],
   "source": []
  }
 ],
 "metadata": {
  "kernelspec": {
   "display_name": "Python 3 (ipykernel)",
   "language": "python",
   "name": "python3"
  },
  "language_info": {
   "codemirror_mode": {
    "name": "ipython",
    "version": 3
   },
   "file_extension": ".py",
   "mimetype": "text/x-python",
   "name": "python",
   "nbconvert_exporter": "python",
   "pygments_lexer": "ipython3",
   "version": "3.9.12"
  }
 },
 "nbformat": 4,
 "nbformat_minor": 5
}
