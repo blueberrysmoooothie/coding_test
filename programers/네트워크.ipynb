{
 "cells": [
  {
   "cell_type": "markdown",
   "id": "bb658d8b",
   "metadata": {},
   "source": [
    "https://school.programmers.co.kr/learn/courses/30/lessons/43162"
   ]
  },
  {
   "cell_type": "code",
   "execution_count": 24,
   "id": "5812a871",
   "metadata": {},
   "outputs": [],
   "source": [
    "checked = []\n",
    "def get_conneted_node(node, computers):\n",
    "    node_data = computers[node]\n",
    "    c_nodes = [i for i in range(len(node_data)) if node_data[i]>0]\n",
    "    return c_nodes\n",
    "\n",
    "def find_net(node, computers):\n",
    "    connected_node = get_conneted_node(node, computers)\n",
    "    visited = []\n",
    "    for c_node in connected_node:\n",
    "        if c_node not in checked:\n",
    "            checked.append(c_node)\n",
    "        else:\n",
    "            continue\n",
    "        visited.append(c_node)\n",
    "        for n in [n for n in find_net(c_node, computers)]:\n",
    "            visited.append(n)\n",
    "    return visited\n",
    "    \n",
    "def solution(n, computers):\n",
    "    nets = dict()\n",
    "    net = 1\n",
    "    for node in range(n):\n",
    "        print(checked)\n",
    "        if node in checked:\n",
    "            continue\n",
    "        c_nodes = find_net(node, computers)\n",
    "        for n in c_nodes:\n",
    "            nets[n] = net\n",
    "        net +=1\n",
    "\n",
    "    return net-1"
   ]
  },
  {
   "cell_type": "code",
   "execution_count": 25,
   "id": "42e50068",
   "metadata": {},
   "outputs": [
    {
     "name": "stdout",
     "output_type": "stream",
     "text": [
      "[]\n",
      "[0, 1]\n",
      "[0, 1]\n"
     ]
    },
    {
     "data": {
      "text/plain": [
       "2"
      ]
     },
     "execution_count": 25,
     "metadata": {},
     "output_type": "execute_result"
    }
   ],
   "source": [
    "solution(3, computers)"
   ]
  },
  {
   "cell_type": "code",
   "execution_count": null,
   "id": "be609a15",
   "metadata": {},
   "outputs": [],
   "source": []
  }
 ],
 "metadata": {
  "kernelspec": {
   "display_name": "Python 3 (ipykernel)",
   "language": "python",
   "name": "python3"
  },
  "language_info": {
   "codemirror_mode": {
    "name": "ipython",
    "version": 3
   },
   "file_extension": ".py",
   "mimetype": "text/x-python",
   "name": "python",
   "nbconvert_exporter": "python",
   "pygments_lexer": "ipython3",
   "version": "3.9.12"
  }
 },
 "nbformat": 4,
 "nbformat_minor": 5
}
