{
 "cells": [
  {
   "attachments": {},
   "cell_type": "markdown",
   "metadata": {},
   "source": [
    "#### 아방가르드 타일링\n",
    "---\n",
    "https://school.programmers.co.kr/learn/courses/30/lessons/181186"
   ]
  },
  {
   "cell_type": "code",
   "execution_count": 59,
   "metadata": {},
   "outputs": [],
   "source": [
    "def solution(n):\n",
    "    dp = [1,1,3,10]\n",
    "    if n<=3:\n",
    "        return dp[n]\n",
    "    for i in range(4, n+1):\n",
    "        dp.append(dp[-1]+dp[-2]*2+dp[-3]*5)\n",
    "        cnt = 0\n",
    "        j=i\n",
    "        while j>=4:\n",
    "            cnt += 2*dp[j-4]\n",
    "            j-=3\n",
    "        j=i\n",
    "        while j>=5:\n",
    "            cnt += 2*dp[j-5]\n",
    "            j-=3\n",
    "        j=i\n",
    "        while j>=6:\n",
    "            cnt += 4*dp[j-6]\n",
    "            j-=3\n",
    "\n",
    "        dp[-1]+=cnt\n",
    "    print(dp)\n",
    "\n",
    "    return dp[-1]%1_000_000_007"
   ]
  },
  {
   "cell_type": "code",
   "execution_count": 65,
   "metadata": {},
   "outputs": [],
   "source": [
    "def solution(n):\n",
    "    dp = [1,1,3,10]+ [0 for i in range(n-3)]\n",
    "    if n<=3:\n",
    "        return dp[n]\n",
    "    \n",
    "    cnt ={0:0,1:0,2:0}\n",
    "    for i in range(4, n+1):\n",
    "        dp[i]+=dp[i-1]+dp[i-2]*2+dp[i-3]*5\n",
    "        cnt[i%3] += 2*dp[i-4]\n",
    "        if i>=5:\n",
    "            cnt[i%3] += 2*dp[i-5]\n",
    "        if i>=6:\n",
    "            cnt[i%3] += 4*dp[i-6]\n",
    "\n",
    "\n",
    "        dp[i]+=cnt[i%3]\n",
    "    # print(dp)\n",
    "\n",
    "    return dp[-1]%1_000_000_007"
   ]
  },
  {
   "cell_type": "code",
   "execution_count": 66,
   "metadata": {},
   "outputs": [
    {
     "name": "stdout",
     "output_type": "stream",
     "text": [
      "[1, 1, 3, 10, 23, 62]\n"
     ]
    },
    {
     "data": {
      "text/plain": [
       "62"
      ]
     },
     "execution_count": 66,
     "metadata": {},
     "output_type": "execute_result"
    }
   ],
   "source": [
    "solution(5)"
   ]
  },
  {
   "cell_type": "code",
   "execution_count": null,
   "metadata": {},
   "outputs": [],
   "source": []
  }
 ],
 "metadata": {
  "kernelspec": {
   "display_name": "Python 3",
   "language": "python",
   "name": "python3"
  },
  "language_info": {
   "codemirror_mode": {
    "name": "ipython",
    "version": 3
   },
   "file_extension": ".py",
   "mimetype": "text/x-python",
   "name": "python",
   "nbconvert_exporter": "python",
   "pygments_lexer": "ipython3",
   "version": "3.11.2"
  },
  "orig_nbformat": 4
 },
 "nbformat": 4,
 "nbformat_minor": 2
}
