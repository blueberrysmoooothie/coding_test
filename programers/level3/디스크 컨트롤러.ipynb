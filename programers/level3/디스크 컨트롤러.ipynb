{
 "cells": [
  {
   "attachments": {},
   "cell_type": "markdown",
   "metadata": {},
   "source": [
    "디스크 컨트롤러\n",
    "---\n",
    "https://school.programmers.co.kr/learn/courses/30/lessons/42627"
   ]
  },
  {
   "cell_type": "code",
   "execution_count": 37,
   "metadata": {},
   "outputs": [],
   "source": [
    "import heapq\n",
    "def solution(jobs):\n",
    "    jobs = sorted(jobs, key = lambda x: [x[0], x[1]])\n",
    "    cur = 0\n",
    "    cur_heap = []\n",
    "    answer = 0\n",
    "    cur = 0\n",
    "    i = 0\n",
    "\n",
    "    while i < len(jobs) or len(cur_heap):\n",
    "        while i < len(jobs) and jobs[i][0]<= cur:\n",
    "            heapq.heappush(cur_heap,jobs[i][1])\n",
    "            i+=1\n",
    "\n",
    "        cur +=1\n",
    "        cur_heap[0] -= 1\n",
    "        while len(cur_heap) and cur_heap[0]<=0:\n",
    "            heapq.heappop(cur_heap)\n",
    "\n",
    "        answer += len(cur_heap)\n",
    "        print(cur, ' : ',  answer, cur_heap)\n",
    "\n",
    "\n",
    "    return answer//len(jobs)"
   ]
  },
  {
   "cell_type": "code",
   "execution_count": 64,
   "metadata": {},
   "outputs": [],
   "source": [
    "import heapq\n",
    "def solution(jobs):\n",
    "    jobs = sorted(jobs, key = lambda x: [x[0], x[1]])\n",
    "    answer = 0\n",
    "\n",
    "    work_heap = []\n",
    "    cur = 0\n",
    "    ind = 0\n",
    "    cur_work=0\n",
    "    while ind < len(jobs) or len(work_heap) or cur_work>0:\n",
    "        while ind < len(jobs) and jobs[ind][0]<=cur:\n",
    "            heapq.heappush(work_heap, jobs[ind][1])\n",
    "            ind+=1\n",
    "\n",
    "        # if cur_work>0:\n",
    "        #     print(cur, ' : ',  answer, cur_work, work_heap)\n",
    "\n",
    "        cur +=1\n",
    "        cur_work-=1\n",
    "        if cur_work <=0 and len(work_heap):\n",
    "            cur_work = heapq.heappop(work_heap)\n",
    "\n",
    "        answer += len(work_heap)+int(cur_work>0)\n",
    "\n",
    "\n",
    "    return answer//len(jobs)"
   ]
  },
  {
   "cell_type": "code",
   "execution_count": 65,
   "metadata": {},
   "outputs": [
    {
     "name": "stdout",
     "output_type": "stream",
     "text": [
      "1  :  1 5 []\n",
      "2  :  2 4 [10]\n",
      "3  :  4 3 [10]\n",
      "4  :  6 2 [10]\n",
      "5  :  8 1 [10]\n",
      "6  :  9 10 []\n",
      "7  :  10 9 []\n",
      "8  :  11 8 []\n",
      "9  :  12 7 []\n",
      "10  :  13 6 []\n",
      "11  :  14 5 []\n",
      "12  :  15 4 []\n",
      "13  :  16 3 []\n",
      "14  :  17 2 []\n",
      "15  :  18 1 []\n",
      "10001  :  19 2 []\n",
      "10002  :  20 1 []\n"
     ]
    },
    {
     "data": {
      "text/plain": [
       "6"
      ]
     },
     "execution_count": 65,
     "metadata": {},
     "output_type": "execute_result"
    }
   ],
   "source": [
    "solution([[0, 5], [2, 10], [10000, 2]])"
   ]
  },
  {
   "cell_type": "code",
   "execution_count": null,
   "metadata": {},
   "outputs": [],
   "source": []
  }
 ],
 "metadata": {
  "kernelspec": {
   "display_name": "Python 3",
   "language": "python",
   "name": "python3"
  },
  "language_info": {
   "codemirror_mode": {
    "name": "ipython",
    "version": 3
   },
   "file_extension": ".py",
   "mimetype": "text/x-python",
   "name": "python",
   "nbconvert_exporter": "python",
   "pygments_lexer": "ipython3",
   "version": "3.10.8"
  },
  "orig_nbformat": 4,
  "vscode": {
   "interpreter": {
    "hash": "1eaddad8910a63e993320c00f976674dd19739aa47ccb16e46e67145212d406a"
   }
  }
 },
 "nbformat": 4,
 "nbformat_minor": 2
}
