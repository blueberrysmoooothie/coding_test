{
 "cells": [
  {
   "attachments": {},
   "cell_type": "markdown",
   "metadata": {},
   "source": [
    "#### 사라지는 발판\n",
    "---\n",
    "https://school.programmers.co.kr/learn/courses/30/lessons/92345"
   ]
  },
  {
   "cell_type": "code",
   "execution_count": 9,
   "metadata": {},
   "outputs": [],
   "source": [
    "def solution(board, aloc, bloc):\n",
    "    def make_move_set(bo, loc):\n",
    "        next_ = []\n",
    "        for vr, vc in move_set:\n",
    "            if bo[loc[0]+vr][loc[1]+vc]:\n",
    "                next_.append([loc[0]+vr, loc[1]+vc])\n",
    "        return next_\n",
    "\n",
    "    def move_A(bo, a, b, cnt =0):\n",
    "        next_a = make_move_set(bo, a)\n",
    "\n",
    "        if not next_a:\n",
    "            return False, cnt\n",
    "        \n",
    "        if a == b:\n",
    "            return True, cnt+1\n",
    "        \n",
    "        win, lose = [], []\n",
    "        bo[a[0]][a[1]] = 0 \n",
    "        for next_ in next_a:\n",
    "            a_win, c = move_B(bo, next_, b, cnt+1)\n",
    "\n",
    "            if a_win:\n",
    "                win.append(c)\n",
    "            else:\n",
    "                lose.append(c)\n",
    "\n",
    "        bo[a[0]][a[1]] = 1\n",
    "\n",
    "        if win:\n",
    "            return True, min(win)\n",
    "        else:\n",
    "            return False, max(lose)\n",
    "\n",
    "\n",
    "    def move_B(bo, a, b, cnt =0):\n",
    "        next_b = make_move_set(bo, b)\n",
    "\n",
    "        if not next_b:\n",
    "            return True, cnt\n",
    "        \n",
    "        if a == b:\n",
    "            return False, cnt+1\n",
    "        \n",
    "        win, lose = [], []\n",
    "        bo[b[0]][b[1]] = 0 \n",
    "        for next_ in next_b:\n",
    "            a_win, c = move_A(bo, a, next_, cnt+1)\n",
    "\n",
    "            if not a_win:\n",
    "                win.append(c)\n",
    "            else:\n",
    "                lose.append(c)\n",
    "\n",
    "        bo[b[0]][b[1]] = 1\n",
    "\n",
    "        \n",
    "        if win:\n",
    "            return False, min(win)\n",
    "        else:\n",
    "            return True, max(lose)\n",
    "        \n",
    "    aloc = [aloc[0]+1,aloc[1]+1]\n",
    "    bloc = [bloc[0]+1,bloc[1]+1]\n",
    "    board = [[0]*(len(board[0])+2)]+[[0]+ b+[0] for b in board] + [[0]*(len(board[0])+2)]\n",
    "    move_set = [[-1,0],[1,0],[0,-1],[0,1]]\n",
    "\n",
    "    result, answer = move_A(board, aloc, bloc, cnt =0)\n",
    "    return answer"
   ]
  },
  {
   "cell_type": "code",
   "execution_count": 10,
   "metadata": {},
   "outputs": [
    {
     "data": {
      "text/plain": [
       "5"
      ]
     },
     "execution_count": 10,
     "metadata": {},
     "output_type": "execute_result"
    }
   ],
   "source": [
    "solution([[1, 1, 1], [1, 1, 1], [1, 1, 1]], [1, 0], [1, 2])"
   ]
  },
  {
   "cell_type": "code",
   "execution_count": null,
   "metadata": {},
   "outputs": [],
   "source": []
  }
 ],
 "metadata": {
  "kernelspec": {
   "display_name": "Python 3",
   "language": "python",
   "name": "python3"
  },
  "language_info": {
   "codemirror_mode": {
    "name": "ipython",
    "version": 3
   },
   "file_extension": ".py",
   "mimetype": "text/x-python",
   "name": "python",
   "nbconvert_exporter": "python",
   "pygments_lexer": "ipython3",
   "version": "3.10.11"
  },
  "orig_nbformat": 4
 },
 "nbformat": 4,
 "nbformat_minor": 2
}
