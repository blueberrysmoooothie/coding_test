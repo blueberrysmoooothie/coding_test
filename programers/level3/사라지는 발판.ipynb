{
 "cells": [
  {
   "attachments": {},
   "cell_type": "markdown",
   "metadata": {},
   "source": [
    "#### 사라지는 발판\n",
    "---\n",
    "https://school.programmers.co.kr/learn/courses/30/lessons/92345"
   ]
  },
  {
   "cell_type": "code",
   "execution_count": 5,
   "metadata": {},
   "outputs": [],
   "source": [
    "def solution(board, aloc, bloc):\n",
    "    aloc = [aloc[0]+1,aloc[1]+1]\n",
    "    bloc = [bloc[0]+1,bloc[1]+1]\n",
    "    move_set = [[-1,0],[1,0],[0,-1],[0,1]]\n",
    "    def move_A(bo, a, b, cnt =0):\n",
    "\n",
    "        bo[a[0]][a[1]] = 0 \n",
    "        cnts = []\n",
    "        b_lose = True\n",
    "        can_move = False\n",
    "        for vr, vc in move_set:\n",
    "            if bo[a[0]+vr][a[0]+vc]:\n",
    "                can_move = True\n",
    "                result, c = move_B(b, [a[0]+vr, a[0]+vc], b, c+1)\n",
    "                b_lose = result and b_lose \n",
    "                if result:\n",
    "                    cnts.append(c)\n",
    "\n",
    "        if b_lose:\n",
    "            return False, c\n",
    "\n",
    "        bo[a[0]][a[1]] = 1\n",
    "        if cnts:\n",
    "            return False, cnt + min(cnt)\n",
    "\n",
    "\n",
    "\n",
    "    board = [[0]*(len(board[0])+2)]+[[0]+ b+[0] for b in board] + [[0]*(len(board[0])+2)]\n",
    "    for b in board:\n",
    "        print( b)\n",
    "    answer = -1\n",
    "    return answer"
   ]
  },
  {
   "cell_type": "code",
   "execution_count": 6,
   "metadata": {},
   "outputs": [
    {
     "name": "stdout",
     "output_type": "stream",
     "text": [
      "[0, 0, 0, 0, 0]\n",
      "[0, 1, 1, 1, 0]\n",
      "[0, 1, 0, 1, 0]\n",
      "[0, 1, 1, 1, 0]\n",
      "[0, 0, 0, 0, 0]\n"
     ]
    },
    {
     "data": {
      "text/plain": [
       "-1"
      ]
     },
     "execution_count": 6,
     "metadata": {},
     "output_type": "execute_result"
    }
   ],
   "source": [
    "solution(\t[[1, 1, 1], [1, 0, 1], [1, 1, 1]], [1, 0], [1, 2])"
   ]
  },
  {
   "cell_type": "code",
   "execution_count": null,
   "metadata": {},
   "outputs": [],
   "source": []
  }
 ],
 "metadata": {
  "kernelspec": {
   "display_name": "Python 3",
   "language": "python",
   "name": "python3"
  },
  "language_info": {
   "codemirror_mode": {
    "name": "ipython",
    "version": 3
   },
   "file_extension": ".py",
   "mimetype": "text/x-python",
   "name": "python",
   "nbconvert_exporter": "python",
   "pygments_lexer": "ipython3",
   "version": "3.10.11"
  },
  "orig_nbformat": 4
 },
 "nbformat": 4,
 "nbformat_minor": 2
}
