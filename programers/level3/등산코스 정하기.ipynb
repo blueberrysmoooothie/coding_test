{
 "cells": [
  {
   "attachments": {},
   "cell_type": "markdown",
   "metadata": {},
   "source": [
    "등산코스 정하기\n",
    "---\n",
    "https://school.programmers.co.kr/learn/courses/30/lessons/118669"
   ]
  },
  {
   "cell_type": "code",
   "execution_count": 35,
   "metadata": {},
   "outputs": [],
   "source": [
    "def solution(n, paths, gates, summits):\n",
    "    answer = []\n",
    "    passes = [1 if i+1 in gates or i+1 in summits else 0 for i in range(n)]\n",
    "    dist=[[0 if i == j else float('inf') for i in range(n)] for j in range(n)]\n",
    "    for i,j,w in paths:\n",
    "        dist[i-1][j-1]=w\n",
    "        dist[j-1][i-1]=w\n",
    "\n",
    "    for k in range(n):\n",
    "        if passes[k]:\n",
    "            continue\n",
    "        for i in range(n):\n",
    "            for j in range(n):\n",
    "                if i==j:\n",
    "                    continue\n",
    "                dist[i][j] = min(dist[i][j], max(dist[i][k], dist[k][j]))\n",
    "                dist[j][i] = dist[i][j]\n",
    "\n",
    "    # for d in dist:\n",
    "    #     print(d)\n",
    "\n",
    "    intensity = 10000000\n",
    "    ans = summits[0]\n",
    "    for gate in gates:\n",
    "        for summit in sorted(summits):\n",
    "            if dist[gate-1][summit-1] < intensity:\n",
    "                intensity = dist[gate-1][summit-1]\n",
    "                ans = summit\n",
    "    return [ans, intensity]"
   ]
  },
  {
   "cell_type": "code",
   "execution_count": 49,
   "metadata": {},
   "outputs": [],
   "source": [
    "import heapq\n",
    "\n",
    "def solution(n, paths, gates, summits):\n",
    "    passes = [i if i+1 in summits else 0 for i in range(n)]\n",
    "    dist=[[] for j in range(n+1)]\n",
    "    for i,j,w in paths:\n",
    "        dist[i].append((j,w))\n",
    "        dist[j].append((i,w))\n",
    "\n",
    "    queue, max_ = [], float('inf')\n",
    "    min_dist = [max_ for _ in range(n+1)]\n",
    "    for gate in gates:\n",
    "        min_dist[gate] = 0\n",
    "        for node, w in dist[gate]:\n",
    "            heapq.heappush(queue, (w, node))\n",
    "\n",
    "    while queue:\n",
    "        w, node = heapq.heappop(queue)\n",
    "        if min_dist[node] <= w:\n",
    "            continue\n",
    "        min_dist[node] = w\n",
    "        print(node, min_dist)\n",
    "        if passes[node-1]:\n",
    "            continue\n",
    "        for n_node, n_w in dist[node]:\n",
    "            if min_dist[n_node] > w:\n",
    "                heapq.heappush(queue, (max(w, n_w), n_node))\n",
    "\n",
    "    intensity = max_\n",
    "    ans = summits[0]\n",
    "    for summit in sorted(summits):\n",
    "        if min_dist[summit] < intensity:\n",
    "            intensity = min_dist[summit]\n",
    "            ans = summit\n",
    "    return [ans, intensity]"
   ]
  },
  {
   "cell_type": "code",
   "execution_count": 50,
   "metadata": {},
   "outputs": [
    {
     "name": "stdout",
     "output_type": "stream",
     "text": [
      "2 [inf, inf, 1, 0, inf, inf, inf, 0]\n",
      "6 [inf, inf, 1, 0, inf, inf, 1, 0]\n",
      "5 [inf, inf, 1, 0, inf, 1, 1, 0]\n",
      "1 [inf, 5, 1, 0, inf, 1, 1, 0]\n",
      "4 [inf, 5, 1, 0, 5, 1, 1, 0]\n"
     ]
    },
    {
     "data": {
      "text/plain": [
       "[5, 1]"
      ]
     },
     "execution_count": 50,
     "metadata": {},
     "output_type": "execute_result"
    }
   ],
   "source": [
    "solution(7, [[1, 2, 5], [1, 4, 1], [2, 3, 1], [2, 6, 7], [4, 5, 1], [5, 6, 1], [6, 7, 1]], [3, 7], [1, 5])"
   ]
  },
  {
   "cell_type": "code",
   "execution_count": null,
   "metadata": {},
   "outputs": [],
   "source": []
  }
 ],
 "metadata": {
  "kernelspec": {
   "display_name": "Python 3",
   "language": "python",
   "name": "python3"
  },
  "language_info": {
   "codemirror_mode": {
    "name": "ipython",
    "version": 3
   },
   "file_extension": ".py",
   "mimetype": "text/x-python",
   "name": "python",
   "nbconvert_exporter": "python",
   "pygments_lexer": "ipython3",
   "version": "3.11.2"
  },
  "orig_nbformat": 4
 },
 "nbformat": 4,
 "nbformat_minor": 2
}
