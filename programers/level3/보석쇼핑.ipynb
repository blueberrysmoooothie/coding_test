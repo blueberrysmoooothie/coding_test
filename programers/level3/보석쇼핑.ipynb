{
 "cells": [
  {
   "attachments": {},
   "cell_type": "markdown",
   "metadata": {},
   "source": [
    "보석 쇼핑\n",
    "---\n",
    "https://school.programmers.co.kr/learn/courses/30/lessons/67258"
   ]
  },
  {
   "cell_type": "code",
   "execution_count": 4,
   "metadata": {},
   "outputs": [],
   "source": [
    "def solution(gems):\n",
    "    def contain(cut_gems):\n",
    "        if list(set(cut_gems)) == unique:\n",
    "            return True\n",
    "        return False\n",
    "    \n",
    "    unique = list(set(gems))\n",
    "    inds = {gem : [] for gem in unique}\n",
    "    for i in range(len(gems)):\n",
    "        inds[gems[i]].append(i)\n",
    "\n",
    "    max_start = max([min(v) for v in inds.values()])\n",
    "    min_end = min([max(v) for v in inds.values()])\n",
    "    l = len(unique)\n",
    "    print(inds)\n",
    "    print(max_start,min_end, max_start-l+1, min_end+1)\n",
    "\n",
    "    while l<len(gems):\n",
    "        if max_start-l == min_end:\n",
    "            return [min_end+1, max_start+1]\n",
    "        for ind in range(max_start-l+1, min_end+1):\n",
    "            # print(ind, ind+l)\n",
    "            if contain(gems[ind:ind+l]):\n",
    "                return [ind+1, ind+l]\n",
    "        l+=1\n",
    "    return [1, len(gems)]\n",
    "    \n"
   ]
  },
  {
   "cell_type": "code",
   "execution_count": 5,
   "metadata": {},
   "outputs": [
    {
     "name": "stdout",
     "output_type": "stream",
     "text": [
      "{'EMERALD': [5], 'DIA': [0, 3, 4, 7], 'RUBY': [1, 2], 'SAPPHIRE': [6]}\n",
      "6 2 3 3\n",
      "d\n"
     ]
    },
    {
     "data": {
      "text/plain": [
       "[3, 7]"
      ]
     },
     "execution_count": 5,
     "metadata": {},
     "output_type": "execute_result"
    }
   ],
   "source": [
    "solution([\"DIA\", \"RUBY\", \"RUBY\", \"DIA\", \"DIA\", \"EMERALD\", \"SAPPHIRE\", \"DIA\"])"
   ]
  },
  {
   "cell_type": "code",
   "execution_count": 6,
   "metadata": {},
   "outputs": [
    {
     "name": "stdout",
     "output_type": "stream",
     "text": [
      "{'AC': [2, 6], 'AB': [3, 5], 'AA': [0, 1, 4]}\n",
      "3 4 1 5\n"
     ]
    },
    {
     "data": {
      "text/plain": [
       "[2, 4]"
      ]
     },
     "execution_count": 6,
     "metadata": {},
     "output_type": "execute_result"
    }
   ],
   "source": [
    "solution([\"AA\",\"AA\",\"AC\", \"AB\",\"AA\", \"AB\", \"AC\"])"
   ]
  },
  {
   "cell_type": "code",
   "execution_count": 22,
   "metadata": {},
   "outputs": [
    {
     "name": "stdout",
     "output_type": "stream",
     "text": [
      "{'b': [2, 5], 'd': [0, 6], 'a': [1, 3, 7], 'c': [4]}\n",
      "4 4 1 5\n"
     ]
    },
    {
     "data": {
      "text/plain": [
       "[4, 7]"
      ]
     },
     "execution_count": 22,
     "metadata": {},
     "output_type": "execute_result"
    }
   ],
   "source": [
    "solution(['d','a','b','a','c','b','d','a'])"
   ]
  },
  {
   "cell_type": "code",
   "execution_count": null,
   "metadata": {},
   "outputs": [],
   "source": []
  }
 ],
 "metadata": {
  "kernelspec": {
   "display_name": "Python 3",
   "language": "python",
   "name": "python3"
  },
  "language_info": {
   "codemirror_mode": {
    "name": "ipython",
    "version": 3
   },
   "file_extension": ".py",
   "mimetype": "text/x-python",
   "name": "python",
   "nbconvert_exporter": "python",
   "pygments_lexer": "ipython3",
   "version": "3.10.8"
  },
  "orig_nbformat": 4,
  "vscode": {
   "interpreter": {
    "hash": "1eaddad8910a63e993320c00f976674dd19739aa47ccb16e46e67145212d406a"
   }
  }
 },
 "nbformat": 4,
 "nbformat_minor": 2
}
