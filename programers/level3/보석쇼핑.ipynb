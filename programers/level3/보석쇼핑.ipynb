{
 "cells": [
  {
   "attachments": {},
   "cell_type": "markdown",
   "metadata": {},
   "source": [
    "보석 쇼핑\n",
    "---\n",
    "https://school.programmers.co.kr/learn/courses/30/lessons/67258"
   ]
  },
  {
   "cell_type": "code",
   "execution_count": 65,
   "metadata": {},
   "outputs": [],
   "source": [
    "def solution(gems):\n",
    "    def contain(cut_gems):\n",
    "        if set(cut_gems) == unique:\n",
    "            return True\n",
    "        return False\n",
    "    \n",
    "    unique = set(gems)\n",
    "    inds = {gem : [] for gem in unique}\n",
    "    for i in range(len(gems)):\n",
    "        inds[gems[i]].append(i)\n",
    "\n",
    "    max_start = max([min(v) for v in inds.values()])\n",
    "    min_end = min([max(v) for v in inds.values()])\n",
    "    l = len(unique)\n",
    "\n",
    "    while l<len(gems):\n",
    "        if max_start-l == min_end:\n",
    "            return [min_end+1, max_start+1]\n",
    "        for ind in range(max_start-l, min_end+1):\n",
    "            if contain(gems[ind:ind+l]):\n",
    "                return [ind+1, ind+l]\n",
    "        l+=1\n",
    "    return [1, len(gems)]\n",
    "    \n"
   ]
  },
  {
   "cell_type": "code",
   "execution_count": null,
   "metadata": {},
   "outputs": [],
   "source": [
    "def solution(gems):\n",
    "    def contain(cut_gems):\n",
    "        if set(cut_gems) == unique:\n",
    "            return True\n",
    "        return False\n",
    "    \n",
    "    unique = set(gems)\n",
    "    inds = {gem : [] for gem in unique}\n",
    "    for i in range(len(gems)):\n",
    "        inds[gems[i]].append(i)\n",
    "\n",
    "    max_start = max([min(v) for v in inds.values()])\n",
    "    min_end = min([max(v) for v in inds.values()])\n",
    "    l = len(unique)\n",
    "\n",
    "    while l<=len(gems):\n",
    "        if max_start-l == min_end:\n",
    "            return [min_end+1, max_start+1]\n",
    "        for ind in range(max_start-l, min_end+1):\n",
    "            if contain(gems[ind:ind+l]):\n",
    "                return [ind+1, ind+l]\n",
    "        l+=1\n",
    "    return [1, len(gems)]\n",
    "    \n"
   ]
  },
  {
   "cell_type": "code",
   "execution_count": 67,
   "metadata": {},
   "outputs": [
    {
     "data": {
      "text/plain": [
       "[1, 2]"
      ]
     },
     "execution_count": 67,
     "metadata": {},
     "output_type": "execute_result"
    }
   ],
   "source": [
    "solution(['a','b'] )"
   ]
  },
  {
   "cell_type": "code",
   "execution_count": null,
   "metadata": {},
   "outputs": [],
   "source": []
  }
 ],
 "metadata": {
  "kernelspec": {
   "display_name": "Python 3",
   "language": "python",
   "name": "python3"
  },
  "language_info": {
   "codemirror_mode": {
    "name": "ipython",
    "version": 3
   },
   "file_extension": ".py",
   "mimetype": "text/x-python",
   "name": "python",
   "nbconvert_exporter": "python",
   "pygments_lexer": "ipython3",
   "version": "3.10.8"
  },
  "orig_nbformat": 4,
  "vscode": {
   "interpreter": {
    "hash": "1eaddad8910a63e993320c00f976674dd19739aa47ccb16e46e67145212d406a"
   }
  }
 },
 "nbformat": 4,
 "nbformat_minor": 2
}
