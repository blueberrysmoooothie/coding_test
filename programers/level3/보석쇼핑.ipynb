{
 "cells": [
  {
   "attachments": {},
   "cell_type": "markdown",
   "metadata": {},
   "source": [
    "보석 쇼핑\n",
    "---\n",
    "https://school.programmers.co.kr/learn/courses/30/lessons/67258"
   ]
  },
  {
   "cell_type": "code",
   "execution_count": 65,
   "metadata": {},
   "outputs": [],
   "source": [
    "def solution(gems):\n",
    "    def contain(cut_gems):\n",
    "        if set(cut_gems) == unique:\n",
    "            return True\n",
    "        return False\n",
    "    \n",
    "    unique = set(gems)\n",
    "    inds = {gem : [] for gem in unique}\n",
    "    for i in range(len(gems)):\n",
    "        inds[gems[i]].append(i)\n",
    "\n",
    "    max_start = max([min(v) for v in inds.values()])\n",
    "    min_end = min([max(v) for v in inds.values()])\n",
    "    l = len(unique)\n",
    "\n",
    "    while l<len(gems):\n",
    "        if max_start-l == min_end:\n",
    "            return [min_end+1, max_start+1]\n",
    "        for ind in range(max_start-l, min_end+1):\n",
    "            if contain(gems[ind:ind+l]):\n",
    "                return [ind+1, ind+l]\n",
    "        l+=1\n",
    "    return [1, len(gems)]\n",
    "    \n"
   ]
  },
  {
   "cell_type": "code",
   "execution_count": null,
   "metadata": {},
   "outputs": [],
   "source": [
    "def solution(gems):\n",
    "    def contain(cut_gems):\n",
    "        if set(cut_gems) == unique:\n",
    "            return True\n",
    "        return False\n",
    "    \n",
    "    unique = set(gems)\n",
    "    inds = {gem : [] for gem in unique}\n",
    "    for i in range(len(gems)):\n",
    "        inds[gems[i]].append(i)\n",
    "\n",
    "    max_start = max([min(v) for v in inds.values()])\n",
    "    min_end = min([max(v) for v in inds.values()])\n",
    "    l = len(unique)\n",
    "\n",
    "    while l<=len(gems):\n",
    "        if max_start-l == min_end:\n",
    "            return [min_end+1, max_start+1]\n",
    "        for ind in range(max_start-l, min_end+1):\n",
    "            if contain(gems[ind:ind+l]):\n",
    "                return [ind+1, ind+l]\n",
    "        l+=1\n",
    "    return [1, len(gems)]\n",
    "    \n"
   ]
  },
  {
   "attachments": {},
   "cell_type": "markdown",
   "metadata": {},
   "source": [
    "#### 질문하기 참고\n",
    "- right 를 1부터 하나씩 증가\n",
    "- left에서 right 까지 원소 카운트한 집합에서 길이가 원소 종류 수와 같으면 \n",
    "- 달라질때 까지 left를 1씩 증가\n",
    "- left에서 right 까지 결과에 추가 "
   ]
  },
  {
   "cell_type": "code",
   "execution_count": 21,
   "metadata": {},
   "outputs": [],
   "source": [
    "\n",
    "import collections \n",
    "\n",
    "def solution(gems):\n",
    "    num = len(set(gems))\n",
    "    ret = []\n",
    "    left = 0\n",
    "    counter = collections.Counter()\n",
    "    for right in range(len(gems)):\n",
    "        counter[gems[right]]+=1\n",
    "        right+=1\n",
    "        while len(counter) == num:\n",
    "            counter[gems[left]]-=1\n",
    "            if counter[gems[left]]==0:\n",
    "                del counter[gems[left]]\n",
    "            left +=1\n",
    "\n",
    "            ret.append([left, right])\n",
    "    return sorted(ret, key = lambda x:[x[1]-x[0], x[0]])[0]\n",
    "    "
   ]
  },
  {
   "cell_type": "code",
   "execution_count": 22,
   "metadata": {},
   "outputs": [
    {
     "data": {
      "text/plain": [
       "[3, 5]"
      ]
     },
     "execution_count": 22,
     "metadata": {},
     "output_type": "execute_result"
    }
   ],
   "source": [
    "solution(['a','b','a','b','c','c','a', 'b'] )"
   ]
  },
  {
   "cell_type": "code",
   "execution_count": null,
   "metadata": {},
   "outputs": [],
   "source": []
  }
 ],
 "metadata": {
  "kernelspec": {
   "display_name": "Python 3",
   "language": "python",
   "name": "python3"
  },
  "language_info": {
   "codemirror_mode": {
    "name": "ipython",
    "version": 3
   },
   "file_extension": ".py",
   "mimetype": "text/x-python",
   "name": "python",
   "nbconvert_exporter": "python",
   "pygments_lexer": "ipython3",
   "version": "3.10.8"
  },
  "orig_nbformat": 4,
  "vscode": {
   "interpreter": {
    "hash": "1eaddad8910a63e993320c00f976674dd19739aa47ccb16e46e67145212d406a"
   }
  }
 },
 "nbformat": 4,
 "nbformat_minor": 2
}
