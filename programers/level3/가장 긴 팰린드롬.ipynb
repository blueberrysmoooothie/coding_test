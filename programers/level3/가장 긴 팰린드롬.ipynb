{
 "cells": [
  {
   "attachments": {},
   "cell_type": "markdown",
   "metadata": {},
   "source": [
    "가장 긴 팰린드롬\n",
    "---\n",
    "https://school.programmers.co.kr/learn/courses/30/lessons/12904"
   ]
  },
  {
   "cell_type": "code",
   "execution_count": 21,
   "metadata": {},
   "outputs": [],
   "source": [
    "def solution(s):\n",
    "    def is_palin(word):\n",
    "        for i in range(len(word)//2):\n",
    "            if word[i] != word[-i-1]:\n",
    "                return False\n",
    "        return True\n",
    "\n",
    "    if len(s)==1:\n",
    "        return 1\n",
    "    answers =[] \n",
    "    for i in range(len(s)-1, 0,-1):\n",
    "        for j in range(i):\n",
    "            if is_palin(s[j:i+1]):\n",
    "                answers.append(i-j+1)\n",
    "        if len(answers) and max(answers)>= i+1:\n",
    "            break \n",
    "    # print(answers)\n",
    "    return max(answers) if len(answers) else 1"
   ]
  },
  {
   "cell_type": "code",
   "execution_count": 22,
   "metadata": {},
   "outputs": [
    {
     "data": {
      "text/plain": [
       "7"
      ]
     },
     "execution_count": 22,
     "metadata": {},
     "output_type": "execute_result"
    }
   ],
   "source": [
    "solution('asadasa')"
   ]
  },
  {
   "cell_type": "code",
   "execution_count": null,
   "metadata": {},
   "outputs": [],
   "source": []
  }
 ],
 "metadata": {
  "kernelspec": {
   "display_name": "Python 3",
   "language": "python",
   "name": "python3"
  },
  "language_info": {
   "codemirror_mode": {
    "name": "ipython",
    "version": 3
   },
   "file_extension": ".py",
   "mimetype": "text/x-python",
   "name": "python",
   "nbconvert_exporter": "python",
   "pygments_lexer": "ipython3",
   "version": "3.10.8"
  },
  "orig_nbformat": 4,
  "vscode": {
   "interpreter": {
    "hash": "1eaddad8910a63e993320c00f976674dd19739aa47ccb16e46e67145212d406a"
   }
  }
 },
 "nbformat": 4,
 "nbformat_minor": 2
}
