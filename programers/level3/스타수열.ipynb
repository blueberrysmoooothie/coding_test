{
 "cells": [
  {
   "cell_type": "markdown",
   "metadata": {},
   "source": [
    "스타수열\n",
    "---\n",
    "https://school.programmers.co.kr/learn/courses/30/lessons/70130"
   ]
  },
  {
   "cell_type": "code",
   "execution_count": 11,
   "metadata": {},
   "outputs": [],
   "source": [
    "def check_star(sequence):\n",
    "    l = len(sequence)\n",
    "    if l == 0:\n",
    "        return True\n",
    "    if l<2 or l%2:\n",
    "        return False\n",
    "    if sequence[0]==sequence[1]:\n",
    "        return False\n",
    "    if l==2:\n",
    "        return True\n",
    "    intersects = set(sequence[:2])\n",
    "\n",
    "\n",
    "    for i in range(2, l, 2):\n",
    "        if sequence[i]==sequence[i+1]:\n",
    "            return False\n",
    "        intersect = set(intersects)&set(sequence[i:i+2])\n",
    "        if len(intersect)==0:\n",
    "            return False\n",
    "    \n",
    "    return True\n",
    "\n",
    "def solution(a):\n",
    "    l = len(a)\n",
    "    answer = l//2 *2\n",
    "    cnt = l%2\n",
    "    # print(check_star(a))\n",
    "    print(a, cnt, answer)\n",
    "\n",
    "    while answer>0:\n",
    "        \n",
    "\n",
    "        answer -=2\n",
    "        cnt +=2\n",
    "\n",
    "    \n",
    "    return answer"
   ]
  },
  {
   "cell_type": "code",
   "execution_count": null,
   "metadata": {},
   "outputs": [],
   "source": [
    "def check_star(sequence):\n",
    "    l = len(sequence)\n",
    "    if l == 0:\n",
    "        return True\n",
    "    if l<2 or l%2:\n",
    "        return False\n",
    "    if sequence[0]==sequence[1]:\n",
    "        return False\n",
    "    if l==2:\n",
    "        return True\n",
    "    intersects = set(sequence[:2])\n",
    "\n",
    "\n",
    "    for i in range(2, l, 2):\n",
    "        if sequence[i]==sequence[i+1]:\n",
    "            return False\n",
    "        intersects = set(intersects)&set(sequence[i:i+2])\n",
    "        if len(intersects)==0:\n",
    "            return False\n",
    "    \n",
    "    return True\n",
    "\n",
    "def take_subseq(a, cnt):\n",
    "    if cnt ==0:\n",
    "        return a\n",
    "    for i in range(len(a)-cnt):\n",
    "        result = a[:i]+take_subseq(a[i+1:], cnt-1)\n",
    "    \n",
    "    \n",
    "\n",
    "\n",
    "def solution(a):\n",
    "    l = len(a)\n",
    "    answer = l//2 *2\n",
    "    cnt = l%2\n",
    "    # print(check_star(a))\n",
    "    print(a, cnt, answer)\n",
    "\n",
    "    while answer>0:\n",
    "        \n",
    "\n",
    "        answer -=2\n",
    "        cnt +=2\n",
    "\n",
    "    \n",
    "    return answer"
   ]
  },
  {
   "cell_type": "code",
   "execution_count": 12,
   "metadata": {},
   "outputs": [
    {
     "name": "stdout",
     "output_type": "stream",
     "text": [
      "[5] 1 0\n"
     ]
    },
    {
     "data": {
      "text/plain": [
       "0"
      ]
     },
     "execution_count": 12,
     "metadata": {},
     "output_type": "execute_result"
    }
   ],
   "source": [
    "solution(\t[5])"
   ]
  },
  {
   "cell_type": "code",
   "execution_count": null,
   "metadata": {},
   "outputs": [],
   "source": []
  },
  {
   "cell_type": "code",
   "execution_count": null,
   "metadata": {},
   "outputs": [],
   "source": []
  }
 ],
 "metadata": {
  "kernelspec": {
   "display_name": "Python 3",
   "language": "python",
   "name": "python3"
  },
  "language_info": {
   "codemirror_mode": {
    "name": "ipython",
    "version": 3
   },
   "file_extension": ".py",
   "mimetype": "text/x-python",
   "name": "python",
   "nbconvert_exporter": "python",
   "pygments_lexer": "ipython3",
   "version": "3.10.8"
  },
  "orig_nbformat": 4
 },
 "nbformat": 4,
 "nbformat_minor": 2
}
