{
 "cells": [
  {
   "cell_type": "markdown",
   "metadata": {},
   "source": [
    "스타수열\n",
    "---\n",
    "https://school.programmers.co.kr/learn/courses/30/lessons/70130"
   ]
  },
  {
   "cell_type": "code",
   "execution_count": 3,
   "metadata": {},
   "outputs": [],
   "source": [
    "def check_star(sequence):\n",
    "    l = len(sequence)\n",
    "    if l<2 or l%2:\n",
    "        return False\n",
    "    if sequence[0]==sequence[1]:\n",
    "        return False\n",
    "    if l==2:\n",
    "        return True\n",
    "    intersects = set(sequence[:2])\n",
    "\n",
    "\n",
    "    for i in range(2, l, 2):\n",
    "        if sequence[i]==sequence[i+1]:\n",
    "            return False\n",
    "        intersect = set(intersects)&set(sequence[i:i+2])\n",
    "        if len(intersect)==0:\n",
    "            return False\n",
    "    \n",
    "    return True\n",
    "\n",
    "def solution(a):\n",
    "    answer = -1\n",
    "    print(check_star(a))\n",
    "    return answer"
   ]
  },
  {
   "cell_type": "code",
   "execution_count": 7,
   "metadata": {},
   "outputs": [
    {
     "name": "stdout",
     "output_type": "stream",
     "text": [
      "False\n"
     ]
    },
    {
     "data": {
      "text/plain": [
       "-1"
      ]
     },
     "execution_count": 7,
     "metadata": {},
     "output_type": "execute_result"
    }
   ],
   "source": [
    "solution(\t[5, 2, 3, 2, 2,2])"
   ]
  },
  {
   "cell_type": "code",
   "execution_count": null,
   "metadata": {},
   "outputs": [],
   "source": []
  },
  {
   "cell_type": "code",
   "execution_count": null,
   "metadata": {},
   "outputs": [],
   "source": []
  }
 ],
 "metadata": {
  "kernelspec": {
   "display_name": "Python 3",
   "language": "python",
   "name": "python3"
  },
  "language_info": {
   "codemirror_mode": {
    "name": "ipython",
    "version": 3
   },
   "file_extension": ".py",
   "mimetype": "text/x-python",
   "name": "python",
   "nbconvert_exporter": "python",
   "pygments_lexer": "ipython3",
   "version": "3.10.8"
  },
  "orig_nbformat": 4
 },
 "nbformat": 4,
 "nbformat_minor": 2
}
