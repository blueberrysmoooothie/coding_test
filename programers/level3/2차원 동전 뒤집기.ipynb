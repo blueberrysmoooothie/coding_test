{
 "cells": [
  {
   "cell_type": "markdown",
   "metadata": {},
   "source": [
    "2차원 동전 뒤집기\n",
    "---\n",
    "https://school.programmers.co.kr/learn/courses/30/lessons/131703"
   ]
  },
  {
   "cell_type": "code",
   "execution_count": 20,
   "metadata": {},
   "outputs": [],
   "source": [
    "def solution(beginning, target):\n",
    "    answer = []\n",
    "    R, C = len(beginning), len(beginning[0])\n",
    "\n",
    "\n",
    "    test_beginning = [be.copy() for be in beginning]\n",
    "    cnt = 0\n",
    "    for r in range(R):\n",
    "        if test_beginning[r][0] != target[r][0]:\n",
    "            test_beginning[r]=[0 if a else 1 for a in test_beginning[r]]\n",
    "            cnt +=1\n",
    "    for c in range(C):\n",
    "        if test_beginning[0][c] != target[0][c]:\n",
    "            for r in range(R):\n",
    "                test_beginning[r][c] = 0 if test_beginning[r][c] else 1\n",
    "            cnt +=1\n",
    "    for i in range(R):\n",
    "        for c in range(C):\n",
    "            if test_beginning[r][c]!= target[r][c]:\n",
    "                return -1\n",
    "    answer.append(cnt)\n",
    "\n",
    "\n",
    "    test_beginning = [be.copy() for be in beginning]\n",
    "    cnt = 0\n",
    "    for r in range(R):\n",
    "        if test_beginning[r][0] == target[r][0]:\n",
    "            test_beginning[r]=[0 if a else 1 for a in test_beginning[r]]\n",
    "            cnt +=1\n",
    "    for c in range(C):\n",
    "        if test_beginning[0][c] != target[0][c]:\n",
    "            for r in range(R):\n",
    "                test_beginning[r][c] = 0 if test_beginning[r][c] else 1\n",
    "            cnt +=1\n",
    "    for i in range(R):\n",
    "        for c in range(C):\n",
    "            if test_beginning[r][c]!= target[r][c]:\n",
    "                return -1\n",
    "    answer.append(cnt)        \n",
    "\n",
    "\n",
    "    test_beginning = [be.copy() for be in beginning]\n",
    "    cnt = 0\n",
    "    for c in range(C):\n",
    "        if test_beginning[0][c] != target[0][c]:\n",
    "            for r in range(R):\n",
    "                test_beginning[r][c] = 0 if test_beginning[r][c] else 1\n",
    "            cnt +=1\n",
    "    for r in range(R):\n",
    "        if test_beginning[r][0] != target[r][0]:\n",
    "            test_beginning[r]=[0 if a else 1 for a in test_beginning[r]]\n",
    "            cnt +=1\n",
    "\n",
    "    for i in range(R):\n",
    "        for c in range(C):\n",
    "            if test_beginning[r][c]!= target[r][c]:\n",
    "                return -1\n",
    "    answer.append(cnt)\n",
    "\n",
    "\n",
    "    test_beginning = [be.copy() for be in beginning]\n",
    "    cnt = 0\n",
    "    for c in range(C):\n",
    "        if test_beginning[0][c] == target[0][c]:\n",
    "            for r in range(R):\n",
    "                test_beginning[r][c] = 0 if test_beginning[r][c] else 1\n",
    "            cnt +=1\n",
    "    for r in range(R):\n",
    "        if test_beginning[r][0] != target[r][0]:\n",
    "            test_beginning[r]=[0 if a else 1 for a in test_beginning[r]]\n",
    "            cnt +=1\n",
    "\n",
    "    for i in range(R):\n",
    "        for c in range(C):\n",
    "            if test_beginning[r][c]!= target[r][c]:\n",
    "                return -1\n",
    "    answer.append(cnt)\n",
    "    return min(answer)"
   ]
  },
  {
   "cell_type": "code",
   "execution_count": 21,
   "metadata": {},
   "outputs": [
    {
     "name": "stdout",
     "output_type": "stream",
     "text": [
      "[5, 5, 5, 5]\n"
     ]
    },
    {
     "data": {
      "text/plain": [
       "5"
      ]
     },
     "execution_count": 21,
     "metadata": {},
     "output_type": "execute_result"
    }
   ],
   "source": [
    "solution([[0, 1, 0, 0, 0], [1, 0, 1, 0, 1], [0, 1, 1, 1, 0], [1, 0, 1, 1, 0], [0, 1, 0, 1, 0]], [[0, 0, 0, 1, 1], [0, 0, 0, 0, 1], [0, 0, 1, 0, 1], [0, 0, 0, 1, 0], [0, 0, 0, 0, 1]])"
   ]
  },
  {
   "cell_type": "code",
   "execution_count": null,
   "metadata": {},
   "outputs": [],
   "source": []
  }
 ],
 "metadata": {
  "kernelspec": {
   "display_name": "Python 3",
   "language": "python",
   "name": "python3"
  },
  "language_info": {
   "codemirror_mode": {
    "name": "ipython",
    "version": 3
   },
   "file_extension": ".py",
   "mimetype": "text/x-python",
   "name": "python",
   "nbconvert_exporter": "python",
   "pygments_lexer": "ipython3",
   "version": "3.11.2"
  },
  "orig_nbformat": 4
 },
 "nbformat": 4,
 "nbformat_minor": 2
}
