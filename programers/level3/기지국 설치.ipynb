{
 "cells": [
  {
   "attachments": {},
   "cell_type": "markdown",
   "metadata": {},
   "source": [
    "기지국 설치\n",
    "---\n",
    "https://school.programmers.co.kr/learn/courses/30/lessons/12979"
   ]
  },
  {
   "cell_type": "code",
   "execution_count": 14,
   "metadata": {},
   "outputs": [],
   "source": [
    "def solution(n, stations, w):\n",
    "    answer = 0\n",
    "    todo = []\n",
    "    ss =1\n",
    "    for s in stations:\n",
    "        if ss<s-w:\n",
    "            todo.append([ss,s-w-1])\n",
    "        ss = s+w+1\n",
    "        if ss>=n:\n",
    "            break\n",
    "    if ss<=n:\n",
    "        todo.append([ss,n])\n",
    "    # print(todo)\n",
    "\n",
    "    for ts, te in todo:\n",
    "        l = te-ts+1\n",
    "        answer += (l-1)//(2*w+1)+1\n",
    "    return answer"
   ]
  },
  {
   "cell_type": "code",
   "execution_count": 92,
   "metadata": {},
   "outputs": [],
   "source": [
    "def solution(n, stations, w):\n",
    "    answer =0\n",
    "    ss = 1\n",
    "    for s in stations:\n",
    "        while ss< s-w:\n",
    "            answer+=1\n",
    "            ss+=2*w+1\n",
    "        ss = s+w+1\n",
    "    while ss<= n:\n",
    "        answer+=1\n",
    "        ss+=2*w+1\n",
    "    \n",
    "    return answer"
   ]
  },
  {
   "cell_type": "code",
   "execution_count": 93,
   "metadata": {},
   "outputs": [
    {
     "data": {
      "text/plain": [
       "3"
      ]
     },
     "execution_count": 93,
     "metadata": {},
     "output_type": "execute_result"
    }
   ],
   "source": [
    "solution(11, [4, 11], 1)"
   ]
  },
  {
   "cell_type": "code",
   "execution_count": 84,
   "metadata": {},
   "outputs": [
    {
     "data": {
      "text/plain": [
       "2"
      ]
     },
     "execution_count": 84,
     "metadata": {},
     "output_type": "execute_result"
    }
   ],
   "source": [
    "te, ts = 10, 6\n",
    "w = 1\n",
    "\n",
    "l = te-ts+1\n",
    "(l-1)//(2*w+1)+1"
   ]
  },
  {
   "cell_type": "code",
   "execution_count": null,
   "metadata": {},
   "outputs": [],
   "source": []
  }
 ],
 "metadata": {
  "kernelspec": {
   "display_name": "Python 3",
   "language": "python",
   "name": "python3"
  },
  "language_info": {
   "codemirror_mode": {
    "name": "ipython",
    "version": 3
   },
   "file_extension": ".py",
   "mimetype": "text/x-python",
   "name": "python",
   "nbconvert_exporter": "python",
   "pygments_lexer": "ipython3",
   "version": "3.10.8"
  },
  "orig_nbformat": 4,
  "vscode": {
   "interpreter": {
    "hash": "1eaddad8910a63e993320c00f976674dd19739aa47ccb16e46e67145212d406a"
   }
  }
 },
 "nbformat": 4,
 "nbformat_minor": 2
}
