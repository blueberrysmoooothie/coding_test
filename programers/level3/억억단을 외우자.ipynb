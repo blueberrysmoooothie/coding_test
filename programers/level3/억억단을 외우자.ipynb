{
 "cells": [
  {
   "attachments": {},
   "cell_type": "markdown",
   "metadata": {},
   "source": [
    "억억단을 외우자\n",
    "---\n",
    "https://school.programmers.co.kr/learn/courses/30/lessons/138475"
   ]
  },
  {
   "cell_type": "code",
   "execution_count": 29,
   "metadata": {},
   "outputs": [],
   "source": [
    "import bisect\n",
    "def solution(e, starts):\n",
    "    def get_div(num):\n",
    "        if num<2:\n",
    "            return 1\n",
    "        cnt = 2\n",
    "        for i in range(2, int(num**0.5)+1):\n",
    "            if num%i==0:\n",
    "                if i**2 ==num:\n",
    "                    cnt +=1\n",
    "                else:\n",
    "                    cnt +=2\n",
    "        return cnt\n",
    "\n",
    "    dic = {}\n",
    "    for num in range(min(starts), e+1):\n",
    "        cnt = get_div(num)\n",
    "        if cnt in dic:\n",
    "            dic[cnt].insert(bisect.bisect_left(dic[cnt],num),num)\n",
    "        else:\n",
    "            dic[cnt] = [num]\n",
    "    \n",
    "    answer = []\n",
    "    # print(dic)\n",
    "\n",
    "    for s in starts:\n",
    "        f = False\n",
    "        for v in list(dic.values())[::-1]:\n",
    "            for num in v:\n",
    "                if s<=num:\n",
    "                    answer.append(num)\n",
    "                    f = True\n",
    "                    break\n",
    "            if f:\n",
    "                break\n",
    "\n",
    "    \n",
    "    return answer"
   ]
  },
  {
   "cell_type": "code",
   "execution_count": 49,
   "metadata": {},
   "outputs": [],
   "source": [
    "import bisect\n",
    "def solution(e, starts):\n",
    "    m = min(starts)\n",
    "    div = [0 for i in range(m, e+1)]\n",
    "\n",
    "    for num in range(1,e+1):\n",
    "        s = (m//num+1 if m%num else m//num)*num\n",
    "        for i in range(s, e+1, num):\n",
    "            div[i-m]+=1\n",
    "    \n",
    "\n",
    "    # return answer"
   ]
  },
  {
   "cell_type": "code",
   "execution_count": 59,
   "metadata": {},
   "outputs": [],
   "source": [
    "\n",
    "def solution(e, starts):\n",
    "    div = [1 for i in range(e+1)]\n",
    "    divs = [0 for i in range(e+1)]\n",
    "    for num in range(2,e+1):\n",
    "        for i in range(1,e//num+1):\n",
    "            div[num*i]+=1\n",
    "\n",
    "    max_, max_add = 0,0\n",
    "    for i in range(e,-1,-1):\n",
    "        if max_<=div[i]:\n",
    "            max_add = i\n",
    "            max_ = div[i]\n",
    "        divs[i] = max_add\n",
    "    \n",
    "    return [divs[i] for i in starts]"
   ]
  },
  {
   "cell_type": "code",
   "execution_count": 61,
   "metadata": {},
   "outputs": [],
   "source": [
    "def solution(e, starts):\n",
    "    div = [0 for i in range(e+1)]\n",
    "    divs = [0 for i in range(e+1)]\n",
    "    for num in range(2,e+1):\n",
    "        for i in range(1,min(e//num+1, num)):\n",
    "            div[num*i]+=2\n",
    "    for num in range(1, int(e**0.5)+1):\n",
    "        div[num**2]+=1\n",
    "\n",
    "    max_, max_add = 0,0\n",
    "    for i in range(e,-1,-1):\n",
    "        if max_<=div[i]:\n",
    "            max_add = i\n",
    "            max_ = div[i]\n",
    "        divs[i] = max_add\n",
    "    \n",
    "    return [divs[i] for i in starts]"
   ]
  },
  {
   "cell_type": "code",
   "execution_count": 62,
   "metadata": {},
   "outputs": [
    {
     "data": {
      "text/plain": [
       "[6, 6, 8]"
      ]
     },
     "execution_count": 62,
     "metadata": {},
     "output_type": "execute_result"
    }
   ],
   "source": [
    "solution(\t8, [1, 3, 7])"
   ]
  },
  {
   "cell_type": "code",
   "execution_count": null,
   "metadata": {},
   "outputs": [],
   "source": []
  }
 ],
 "metadata": {
  "kernelspec": {
   "display_name": "Python 3",
   "language": "python",
   "name": "python3"
  },
  "language_info": {
   "codemirror_mode": {
    "name": "ipython",
    "version": 3
   },
   "file_extension": ".py",
   "mimetype": "text/x-python",
   "name": "python",
   "nbconvert_exporter": "python",
   "pygments_lexer": "ipython3",
   "version": "3.11.2"
  },
  "orig_nbformat": 4
 },
 "nbformat": 4,
 "nbformat_minor": 2
}
