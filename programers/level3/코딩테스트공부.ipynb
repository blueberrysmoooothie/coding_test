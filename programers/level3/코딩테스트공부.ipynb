{
 "cells": [
  {
   "cell_type": "markdown",
   "id": "ae4e4ef0",
   "metadata": {},
   "source": [
    "https://school.programmers.co.kr/learn/courses/30/lessons/118668"
   ]
  },
  {
   "cell_type": "code",
   "execution_count": 23,
   "id": "abaea213",
   "metadata": {},
   "outputs": [],
   "source": [
    "def find_destination(problems):\n",
    "    max_alp, max_cop = 0,0\n",
    "    for problem in problems:\n",
    "        if problem[0]>max_alp:\n",
    "            max_alp = problem[0]\n",
    "        if problem[1]>max_cop:\n",
    "            max_cop = problem[1]\n",
    "    return max_alp, max_cop\n",
    "\n",
    "def make_node(alp, cop, problems, max_alp, max_cop):\n",
    "    nodes = [[alp, cop], [max_alp, max_cop]]\n",
    "    for problem in problems:\n",
    "        nodes.append([problem[0], problem[1]])\n",
    "    return nodes\n",
    "\n",
    "def find_able_ind(alp, cop, problems):\n",
    "    able_problems = []\n",
    "    for i, problem in enumerate(problems):\n",
    "        if alp >= problem[0] and cop >= problem[1]:\n",
    "            able_problems.append(problems[i])\n",
    "    return(able_problems)\n",
    "\n",
    "def get_min_dis(alp, cop, node1, node2, able_problems):\n",
    "    min_cost = 15000\n",
    "    \n",
    "\n",
    "    for prob in able_problems:\n",
    "        i = 0\n",
    "        while True:\n",
    "            prob[3]\n",
    "            prob[4]\n",
    "    return min_cost\n",
    "\n",
    "def solution(alp, cop, problems):\n",
    "    answer = 0\n",
    "    max_alp, max_cop = find_destination(problems)\n",
    "    problems.insert(0,[0,0,1,0,1])\n",
    "    problems.insert(0,[0,0,0,1,1])\n",
    "    \n",
    "    nodes = make_node(alp, cop, problems, max_alp, max_cop)\n",
    "    print(able_problems)\n",
    "\n",
    "    return answer"
   ]
  },
  {
   "cell_type": "code",
   "execution_count": 22,
   "id": "d22f0a88",
   "metadata": {},
   "outputs": [
    {
     "name": "stdout",
     "output_type": "stream",
     "text": [
      "[[0, 0, 0, 1, 1], [0, 0, 1, 0, 1]]\n"
     ]
    },
    {
     "data": {
      "text/plain": [
       "0"
      ]
     },
     "execution_count": 22,
     "metadata": {},
     "output_type": "execute_result"
    }
   ],
   "source": [
    "solution(10, 10, [[10, 15, 2, 1, 2], [20, 20, 3, 3, 4]])"
   ]
  },
  {
   "cell_type": "code",
   "execution_count": null,
   "id": "f480b9c3",
   "metadata": {},
   "outputs": [],
   "source": []
  }
 ],
 "metadata": {
  "kernelspec": {
   "display_name": "Python 3 (ipykernel)",
   "language": "python",
   "name": "python3"
  },
  "language_info": {
   "codemirror_mode": {
    "name": "ipython",
    "version": 3
   },
   "file_extension": ".py",
   "mimetype": "text/x-python",
   "name": "python",
   "nbconvert_exporter": "python",
   "pygments_lexer": "ipython3",
   "version": "3.9.12"
  }
 },
 "nbformat": 4,
 "nbformat_minor": 5
}
