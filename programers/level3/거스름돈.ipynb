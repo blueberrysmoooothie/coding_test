{
 "cells": [
  {
   "attachments": {},
   "cell_type": "markdown",
   "metadata": {},
   "source": [
    "거스름돈\n",
    "---\n",
    "https://school.programmers.co.kr/learn/courses/30/lessons/12907"
   ]
  },
  {
   "cell_type": "code",
   "execution_count": 13,
   "metadata": {},
   "outputs": [],
   "source": [
    "def solution(n, money):\n",
    "    if n ==0:\n",
    "        return 1\n",
    "    if len(money)==1:\n",
    "        if n%money[0]==0:\n",
    "            return 1\n",
    "        else:\n",
    "            return 0\n",
    "\n",
    "    answer = 0\n",
    "\n",
    "    coin = money[-1]\n",
    "    for m in range(n//coin+1):\n",
    "        answer += solution(n-m*coin, money[:-1])\n",
    "        if answer>=1000000007:\n",
    "            answer -= 1000000007\n",
    "    return answer"
   ]
  },
  {
   "cell_type": "code",
   "execution_count": 15,
   "metadata": {},
   "outputs": [],
   "source": [
    "def solution(n, money, sort = True):\n",
    "    if sort:\n",
    "        money = sorted(money)\n",
    "    if n ==0:\n",
    "        return 1\n",
    "    if len(money)==1:\n",
    "        if n%money[0]==0:\n",
    "            return 1\n",
    "        else:\n",
    "            return 0\n",
    "\n",
    "    answer = 0\n",
    "\n",
    "    coin = money[-1]\n",
    "    for m in range(n//coin+1):\n",
    "        answer += solution(n-m*coin, money[:-1], sort = False)\n",
    "        if answer>=1000000007:\n",
    "            answer -= 1000000007\n",
    "    return answer"
   ]
  },
  {
   "cell_type": "code",
   "execution_count": 47,
   "metadata": {},
   "outputs": [],
   "source": [
    "def solution(n, money, sort = True):\n",
    "    dp = [[]]+[[[_]] if _ in money else [] for _ in range(1,n+1)]\n",
    "\n",
    "    for i in range(1,n+1):\n",
    "        for m in money:\n",
    "            if m>i:\n",
    "                break\n",
    "            for mon in dp[i-m]:\n",
    "                temp = sorted(mon+[m])\n",
    "                if temp not in dp[i]:\n",
    "                    dp[i].append(temp)\n",
    "\n",
    "    return len(dp[-1])"
   ]
  },
  {
   "cell_type": "code",
   "execution_count": 55,
   "metadata": {},
   "outputs": [],
   "source": [
    "def solution(n, money, sort = True):\n",
    "    answer = 0\n",
    "    money.sort()\n",
    "    m = len(money)\n",
    "    dp = [[0 for _ in range(m)]for _ in range(n+1)]\n",
    "    dp2 = [0] * (n+1)\n",
    "    for i in range(m):\n",
    "        dp[money[i]][i] = 1\n",
    "        dp2[money[i]]+=1\n",
    "\n",
    "    for i in range(1, n+1):\n",
    "        for j, mny in enumerate(money):\n",
    "            if i-mny<1:\n",
    "                break\n",
    "        \n",
    "            dp[i][j] += dp2[i-mny]%1000000007\n",
    "            dp2[i-mny] -= dp[i-mny][j]\n",
    "            dp2[i] += dp[i][j]%1000000007\n",
    "\n",
    "        # print(dp)\n",
    "        # print(dp2)\n",
    "        # print()\n",
    "    return dp2[n]%1000000007"
   ]
  },
  {
   "cell_type": "code",
   "execution_count": 56,
   "metadata": {},
   "outputs": [
    {
     "name": "stdout",
     "output_type": "stream",
     "text": [
      "[[0, 0, 0], [1, 0, 0], [0, 1, 0], [0, 0, 0], [0, 0, 0], [0, 0, 1]]\n",
      "[0, 1, 1, 0, 0, 1]\n",
      "\n",
      "[[0, 0, 0], [1, 0, 0], [1, 1, 0], [0, 0, 0], [0, 0, 0], [0, 0, 1]]\n",
      "[0, 0, 2, 0, 0, 1]\n",
      "\n",
      "[[0, 0, 0], [1, 0, 0], [1, 1, 0], [2, 0, 0], [0, 0, 0], [0, 0, 1]]\n",
      "[0, 0, 1, 2, 0, 1]\n",
      "\n",
      "[[0, 0, 0], [1, 0, 0], [1, 1, 0], [2, 0, 0], [2, 1, 0], [0, 0, 1]]\n",
      "[0, 0, 0, 0, 3, 1]\n",
      "\n",
      "[[0, 0, 0], [1, 0, 0], [1, 1, 0], [2, 0, 0], [2, 1, 0], [3, 0, 1]]\n",
      "[0, 0, 0, 0, 1, 4]\n",
      "\n"
     ]
    },
    {
     "data": {
      "text/plain": [
       "4"
      ]
     },
     "execution_count": 56,
     "metadata": {},
     "output_type": "execute_result"
    }
   ],
   "source": [
    "solution(5, [1, 2, 5])"
   ]
  },
  {
   "cell_type": "code",
   "execution_count": null,
   "metadata": {},
   "outputs": [],
   "source": []
  }
 ],
 "metadata": {
  "kernelspec": {
   "display_name": "Python 3",
   "language": "python",
   "name": "python3"
  },
  "language_info": {
   "codemirror_mode": {
    "name": "ipython",
    "version": 3
   },
   "file_extension": ".py",
   "mimetype": "text/x-python",
   "name": "python",
   "nbconvert_exporter": "python",
   "pygments_lexer": "ipython3",
   "version": "3.10.8"
  },
  "orig_nbformat": 4,
  "vscode": {
   "interpreter": {
    "hash": "1eaddad8910a63e993320c00f976674dd19739aa47ccb16e46e67145212d406a"
   }
  }
 },
 "nbformat": 4,
 "nbformat_minor": 2
}
