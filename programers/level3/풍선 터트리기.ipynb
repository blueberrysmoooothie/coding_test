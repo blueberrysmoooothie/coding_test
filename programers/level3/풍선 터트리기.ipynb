{
 "cells": [
  {
   "attachments": {},
   "cell_type": "markdown",
   "metadata": {},
   "source": [
    "풍선 터트리기\n",
    "---\n",
    "https://school.programmers.co.kr/learn/courses/30/lessons/68646"
   ]
  },
  {
   "cell_type": "code",
   "execution_count": 1,
   "metadata": {},
   "outputs": [],
   "source": [
    "def solution(a):\n",
    "    if len(a)<3:\n",
    "        return len(a)\n",
    "    answer = 0\n",
    "    min_left = a[0]\n",
    "    min_right = min(a[1:])\n",
    "    for i in range(1, len(a)-1):\n",
    "        if a[i]==min_right:\n",
    "            min_right = min(a[i+1:])\n",
    "        if min_left < a[i] and min_right<a[i]:\n",
    "            answer+=1\n",
    "        \n",
    "        elif min_left > a[i]:\n",
    "            min_left = a[i]\n",
    "\n",
    "    return len(a) - answer"
   ]
  },
  {
   "cell_type": "code",
   "execution_count": 31,
   "metadata": {},
   "outputs": [],
   "source": [
    "import heapq\n",
    "def solution(a):\n",
    "    if len(a)<3:\n",
    "        return len(a)\n",
    "    answer = 0\n",
    "    min_left = a[0]\n",
    "    right = a[2:]\n",
    "    heapq.heapify(right)\n",
    "    min_right = right[0]\n",
    "    for i in range(1, len(a)-1):\n",
    "        if min_left < a[i] and min_right<a[i]:\n",
    "            answer+=1\n",
    "        \n",
    "        else:\n",
    "            if min_left > a[i]:\n",
    "                min_left = a[i]\n",
    "            if a[i]== min_right:\n",
    "                right = a[i+1:]\n",
    "                heapq.heapify(right)\n",
    "                min_right = right[0]\n",
    "\n",
    "    return len(a) - answer"
   ]
  },
  {
   "cell_type": "code",
   "execution_count": 100,
   "metadata": {},
   "outputs": [],
   "source": [
    "import heapq\n",
    "def solution(a):\n",
    "    if len(a)<3:\n",
    "        return len(a)\n",
    "\n",
    "    result = []\n",
    "    m = a[0]\n",
    "    for num in a:\n",
    "        if m>=num:\n",
    "            result.append(1)\n",
    "            m = num\n",
    "        else:\n",
    "            result.append(0)\n",
    "    rev_result = []\n",
    "    m = a[-1]\n",
    "    for num in a[::-1]:\n",
    "        if m>=num:\n",
    "            rev_result.append(1)\n",
    "            m = num\n",
    "        else:\n",
    "            rev_result.append(0)\n",
    "    # print(result)\n",
    "    # print(rev_result[::-1])\n",
    "    # print([a or b for a,b in zip(result, rev_result[::-1]) ])\n",
    "    return sum([a or b for a,b in zip(result, rev_result[::-1]) ])\n",
    "    # return len(a) - sum([a or b for a,b in zip(result[1:-1], rev_result[-2:0:-1]) ])\n",
    "\n",
    "\n"
   ]
  },
  {
   "cell_type": "code",
   "execution_count": 101,
   "metadata": {},
   "outputs": [
    {
     "name": "stdout",
     "output_type": "stream",
     "text": [
      "[1, 0, 0, 0, 0, 1, 0, 0, 0, 0]\n",
      "[0, 0, 0, 0, 0, 1, 1, 1, 1, 1]\n",
      "[1, 0, 0, 0, 0, 1, 1, 1, 1, 1]\n"
     ]
    },
    {
     "data": {
      "text/plain": [
       "6"
      ]
     },
     "execution_count": 101,
     "metadata": {},
     "output_type": "execute_result"
    }
   ],
   "source": [
    "# solution(\t[9,-1,-5])\n",
    "solution(\t[-16, 27, 65, -2, 58, -92, -71, -68, -61, -33])"
   ]
  },
  {
   "cell_type": "code",
   "execution_count": null,
   "metadata": {},
   "outputs": [],
   "source": []
  },
  {
   "cell_type": "code",
   "execution_count": null,
   "metadata": {},
   "outputs": [],
   "source": []
  }
 ],
 "metadata": {
  "kernelspec": {
   "display_name": "Python 3",
   "language": "python",
   "name": "python3"
  },
  "language_info": {
   "codemirror_mode": {
    "name": "ipython",
    "version": 3
   },
   "file_extension": ".py",
   "mimetype": "text/x-python",
   "name": "python",
   "nbconvert_exporter": "python",
   "pygments_lexer": "ipython3",
   "version": "3.10.8"
  },
  "orig_nbformat": 4,
  "vscode": {
   "interpreter": {
    "hash": "1eaddad8910a63e993320c00f976674dd19739aa47ccb16e46e67145212d406a"
   }
  }
 },
 "nbformat": 4,
 "nbformat_minor": 2
}
