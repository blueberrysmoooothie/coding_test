{
 "cells": [
  {
   "attachments": {},
   "cell_type": "markdown",
   "metadata": {},
   "source": [
    "110 옮기기\n",
    "---\n",
    "https://school.programmers.co.kr/learn/courses/30/lessons/77886"
   ]
  },
  {
   "cell_type": "code",
   "execution_count": 58,
   "metadata": {},
   "outputs": [],
   "source": [
    "import re\n",
    "def solution(s):\n",
    "    p = re.compile(r'110')\n",
    "    answer = []\n",
    "    for num in s:\n",
    "        cnt = 0\n",
    "        m = re.findall(p,num)\n",
    "        while m:\n",
    "            cnt += len(m)\n",
    "            num = num.replace('110','')\n",
    "            m = re.findall(p,num)\n",
    "        # print(cnt , num)\n",
    "        if len(num)==0:\n",
    "            answer.append('110'*cnt)\n",
    "            continue\n",
    "        \n",
    "        for i in range(len(num)-1,-1,-1):\n",
    "            if num[i]=='0':\n",
    "                num = num[:i+1] + '110'*cnt + num[i+1:]\n",
    "                break\n",
    "            if i==0:\n",
    "                num = '110'*cnt + num\n",
    "        \n",
    "        \n",
    "        answer.append(num)\n",
    "    return answer"
   ]
  },
  {
   "cell_type": "code",
   "execution_count": 54,
   "metadata": {},
   "outputs": [],
   "source": [
    "\n",
    "def solution(s):\n",
    "    answer = []\n",
    "    for num in s:\n",
    "        cnt = 0\n",
    "        ind = 0\n",
    "        while ind<len(num):\n",
    "            if num[ind:ind+3]=='110':\n",
    "                cnt += 1\n",
    "                num = num[:ind]+num[ind+3:]\n",
    "                ind = max(0, ind-2)\n",
    "            else:\n",
    "                ind+=1\n",
    "            # print(ind , num)\n",
    "        if len(num)==0:\n",
    "            answer.append('110'*cnt)\n",
    "            continue\n",
    "        \n",
    "        for i in range(len(num)-1,-1,-1):\n",
    "            if num[i]=='0':\n",
    "                num = num[:i+1] + '110'*cnt + num[i+1:]\n",
    "                break\n",
    "            if i==0:\n",
    "                num = '110'*cnt + num\n",
    "        \n",
    "        answer.append(num)\n",
    "    return answer"
   ]
  },
  {
   "cell_type": "code",
   "execution_count": 71,
   "metadata": {},
   "outputs": [],
   "source": [
    "\n",
    "def solution(s):\n",
    "    answer = []\n",
    "    for nums in s:\n",
    "        cnt = 0\n",
    "        num = []\n",
    "        for ind in range(len(nums)):\n",
    "            if nums[ind]=='0':\n",
    "                if num[-2:]==['1','1']:\n",
    "                    num.pop()\n",
    "                    num.pop()\n",
    "                    cnt +=1\n",
    "                else:\n",
    "                    num.append('0')\n",
    "\n",
    "                    \n",
    "            else:\n",
    "                num.append('1')\n",
    "\n",
    "            # print(ind, num, cnt)\n",
    "        if len(num)==0:\n",
    "            answer.append('110'*cnt)\n",
    "            continue\n",
    "        num = ''.join(num)\n",
    "        for i in range(len(num)-1,-1,-1):\n",
    "            if num[i]=='0':\n",
    "                num = num[:i+1] + '110'*cnt + num[i+1:]\n",
    "                break\n",
    "            if i==0:\n",
    "                num = '110'*cnt + num\n",
    "        \n",
    "        answer.append(num)\n",
    "    return answer"
   ]
  },
  {
   "cell_type": "code",
   "execution_count": 72,
   "metadata": {},
   "outputs": [
    {
     "name": "stdout",
     "output_type": "stream",
     "text": [
      "0 ['0'] 0\n",
      "1 ['0', '1'] 0\n",
      "2 ['0', '1', '1'] 0\n",
      "3 ['0', '1', '1', '1'] 0\n",
      "4 ['0', '1', '1', '1', '1'] 0\n",
      "5 ['0', '1', '1', '1', '1', '1'] 0\n",
      "6 ['0', '1', '1', '1', '1', '1', '1'] 0\n",
      "7 ['0', '1', '1', '1', '1'] 1\n",
      "8 ['0', '1', '1', '1', '1', '1'] 1\n",
      "9 ['0', '1', '1', '1'] 2\n"
     ]
    },
    {
     "data": {
      "text/plain": [
       "['0110110111']"
      ]
     },
     "execution_count": 72,
     "metadata": {},
     "output_type": "execute_result"
    }
   ],
   "source": [
    "solution(['0111111010'])"
   ]
  },
  {
   "cell_type": "code",
   "execution_count": 12,
   "metadata": {},
   "outputs": [
    {
     "data": {
      "text/plain": [
       "'110'"
      ]
     },
     "execution_count": 12,
     "metadata": {},
     "output_type": "execute_result"
    }
   ],
   "source": [
    "['0101101101101101']"
   ]
  },
  {
   "cell_type": "code",
   "execution_count": null,
   "metadata": {},
   "outputs": [],
   "source": []
  }
 ],
 "metadata": {
  "kernelspec": {
   "display_name": "Python 3",
   "language": "python",
   "name": "python3"
  },
  "language_info": {
   "codemirror_mode": {
    "name": "ipython",
    "version": 3
   },
   "file_extension": ".py",
   "mimetype": "text/x-python",
   "name": "python",
   "nbconvert_exporter": "python",
   "pygments_lexer": "ipython3",
   "version": "3.10.8"
  },
  "orig_nbformat": 4
 },
 "nbformat": 4,
 "nbformat_minor": 2
}
