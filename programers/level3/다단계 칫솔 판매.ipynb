{
 "cells": [
  {
   "attachments": {},
   "cell_type": "markdown",
   "metadata": {},
   "source": [
    "다단계 칫솔 판매\n",
    "---\n",
    "https://school.programmers.co.kr/learn/courses/30/lessons/77486"
   ]
  },
  {
   "cell_type": "code",
   "execution_count": 28,
   "metadata": {},
   "outputs": [],
   "source": [
    "def solution(enroll, referral, seller, amount):\n",
    "    def calc(name):\n",
    "        for leaf_name in tree[name][1]:\n",
    "            tree[name][0] += calc(leaf_name)\n",
    "\n",
    "        pay = int((tree[name][0] * 0.1)//1)\n",
    "        tree[name][0] -= pay\n",
    "        return pay\n",
    "\n",
    "    tree = {'-':[0,[]]}\n",
    "    for name, ref in zip(enroll, referral):\n",
    "        tree[ref][1].append(name)\n",
    "        tree[name]=[0,[]]\n",
    "    for name, amo in zip(seller, amount):\n",
    "        tree[name][0] += 100 * amo\n",
    "    # calc('-')\n",
    "    # print(tree)\n",
    "\n",
    "    return [tree[name][0] for name in enroll]"
   ]
  },
  {
   "cell_type": "code",
   "execution_count": 34,
   "metadata": {},
   "outputs": [],
   "source": [
    "def solution(enroll, referral, seller, amount):\n",
    "    tree = {'-':[0,'']}\n",
    "    for name, ref in zip(enroll, referral):\n",
    "        tree[name]=[0,ref]\n",
    "\n",
    "    for name, amo in zip(seller, amount):\n",
    "        money = 100 * amo\n",
    "        while True:\n",
    "            upper = tree[name][1]\n",
    "            pay = int((money * 0.1)//1)\n",
    "            tree[name][0] += money - pay\n",
    "\n",
    "            if pay ==0 or upper == '-':\n",
    "                break\n",
    "            money = pay\n",
    "            name = upper\n",
    "\n",
    "    return [tree[name][0] for name in enroll]"
   ]
  },
  {
   "cell_type": "code",
   "execution_count": 35,
   "metadata": {},
   "outputs": [
    {
     "data": {
      "text/plain": [
       "[360, 958, 108, 0, 450, 18, 180, 1080]"
      ]
     },
     "execution_count": 35,
     "metadata": {},
     "output_type": "execute_result"
    }
   ],
   "source": [
    "solution(\t[\"john\", \"mary\", \"edward\", \"sam\", \"emily\", \"jaimie\", \"tod\", \"young\"], [\"-\", \"-\", \"mary\", \"edward\", \"mary\", \"mary\", \"jaimie\", \"edward\"], [\"young\", \"john\", \"tod\", \"emily\", \"mary\"], [12, 4, 2, 5, 10])"
   ]
  },
  {
   "cell_type": "code",
   "execution_count": null,
   "metadata": {},
   "outputs": [],
   "source": []
  }
 ],
 "metadata": {
  "kernelspec": {
   "display_name": "Python 3",
   "language": "python",
   "name": "python3"
  },
  "language_info": {
   "codemirror_mode": {
    "name": "ipython",
    "version": 3
   },
   "file_extension": ".py",
   "mimetype": "text/x-python",
   "name": "python",
   "nbconvert_exporter": "python",
   "pygments_lexer": "ipython3",
   "version": "3.10.8"
  },
  "orig_nbformat": 4,
  "vscode": {
   "interpreter": {
    "hash": "1eaddad8910a63e993320c00f976674dd19739aa47ccb16e46e67145212d406a"
   }
  }
 },
 "nbformat": 4,
 "nbformat_minor": 2
}
