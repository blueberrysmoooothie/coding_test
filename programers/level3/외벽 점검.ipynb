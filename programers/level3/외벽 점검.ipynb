{
 "cells": [
  {
   "attachments": {},
   "cell_type": "markdown",
   "metadata": {},
   "source": [
    "외벽 점검 \n",
    "---\n",
    "https://school.programmers.co.kr/learn/courses/30/lessons/60062"
   ]
  },
  {
   "cell_type": "code",
   "execution_count": null,
   "metadata": {},
   "outputs": [],
   "source": [
    "class node:\n",
    "    def __init__(self) -> None:\n",
    "        self.left = None\n",
    "        self.right = None\n",
    "\n",
    "class map_:\n",
    "    def __init__(self, week) -> None:\n",
    "        self.nodes = []\n",
    "        for i in range(1, len(week)):\n",
    "            nodes\n",
    "def solution(n, weak, dist):\n",
    "    \n",
    "    answer = 0\n",
    "    return answer"
   ]
  }
 ],
 "metadata": {
  "language_info": {
   "name": "python"
  },
  "orig_nbformat": 4
 },
 "nbformat": 4,
 "nbformat_minor": 2
}
