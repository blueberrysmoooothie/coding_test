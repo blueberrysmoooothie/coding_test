{
 "cells": [
  {
   "attachments": {},
   "cell_type": "markdown",
   "metadata": {},
   "source": [
    "외벽 점검 \n",
    "---\n",
    "https://school.programmers.co.kr/learn/courses/30/lessons/60062"
   ]
  },
  {
   "cell_type": "code",
   "execution_count": 9,
   "metadata": {},
   "outputs": [],
   "source": [
    "class node:\n",
    "    def __init__(self,num) -> None:\n",
    "        self.i = num\n",
    "        self.left = None\n",
    "        self.right = None\n",
    "\n",
    "class map_:\n",
    "    def __init__(self,n, weak) -> None:\n",
    "        self.nodes = []\n",
    "        self.nodes.append(node(weak[0]))\n",
    "        self.nodes[-1].left = weak[0]+n- weak[-1]\n",
    "        self.nodes[-1].right= weak[1]- weak[0]\n",
    "        for i in range(1, len(weak)-1):\n",
    "            self.nodes.append(node(weak[i]))\n",
    "            self.nodes[-1].left = weak[i]- weak[i-1]\n",
    "            self.nodes[-1].right= weak[i+1]- weak[i]\n",
    "        self.nodes.append(node(weak[-1]))\n",
    "        self.nodes[-1].left = weak[-1]- weak[-2]\n",
    "        self.nodes[-1].right= weak[0]+n- weak[-1]\n",
    "        self.nodes = sorted(self.nodes, key = lambda x : min(x.left, x.right))\n",
    "\n",
    "def solution(n, weak, dist):\n",
    "    dist.sort()\n",
    "    map__ = map_(n, weak)\n",
    "    a = sorted(map__.nodes, key = lambda x : min(x.left, x.right))\n",
    "    print([x.i for x in a])\n",
    "\n",
    "    visited = []\n",
    "    for node in map__.nodes[::-1]:\n",
    "        if node.i in visited:\n",
    "            continue\n",
    "        visited.append(node.i)\n",
    "\n",
    "        direct = int(node.right > node.left)\n",
    "        if dist[-1] < node.\n",
    "\n",
    "    \n",
    "    answer = 0\n",
    "    return answer"
   ]
  },
  {
   "cell_type": "code",
   "execution_count": 43,
   "metadata": {},
   "outputs": [],
   "source": [
    "import bisect\n",
    "\n",
    "def solution(n, weak, dist):\n",
    "    dist=sorted(dist, reverse = True)\n",
    "    l = len(weak)\n",
    "\n",
    "    for answer in range(1, len(dist)+1):\n",
    "        for w_ind in range(len(weak)):        \n",
    "            # print(f'시작지점: {weak[w_ind]}, 인원수{answer}, {dist[:answer]}')\n",
    "            visited = 0\n",
    "            cur = weak[w_ind]\n",
    "            dist_ind = 0\n",
    "            while dist_ind < answer:  \n",
    "                # print(cur, visited)\n",
    "                cur+= dist[dist_ind]\n",
    "                if cur >=n:\n",
    "                    cur = cur%n\n",
    "                    visited+= l-w_ind\n",
    "                    w_ind=0\n",
    "\n",
    "                    \n",
    "                while weak[w_ind]<= cur:\n",
    "                    # print(weak[w_ind], cur, visited)\n",
    "                    visited+=1\n",
    "                    w_ind +=1\n",
    "                    \n",
    "\n",
    "                    if visited == l:\n",
    "                        return answer\n",
    "                    if w_ind == l:\n",
    "                        w_ind = 0\n",
    "                        break\n",
    "\n",
    "                cur = weak[w_ind+1 if w_ind < l-1 else 0]\n",
    "\n",
    "                # print(visited)\n",
    "                dist_ind+=1\n",
    "\n",
    "            \n",
    "    return -1"
   ]
  },
  {
   "cell_type": "code",
   "execution_count": 47,
   "metadata": {},
   "outputs": [],
   "source": [
    "def permutaion(candidates, prepermuation, res):\n",
    "    if len(candidates) == 0:\n",
    "        res.append(prepermuation)\n",
    "        return 0\n",
    "    for i in range(len(candidates)):\n",
    "        permutaion(candidates[:i]+candidates[i+1:], prepermuation+[candidates[i]], res)\n",
    "    \n",
    "\n",
    "\n",
    "def solution(n, weak, dist):\n",
    "    dist.sort(reverse = True)\n",
    "\n",
    "    for i in range(1, len(dist)+1):\n",
    "        res = []\n",
    "        permutaion(dist[:i], [], res)\n",
    "        for p in res:\n",
    "            for start in range(len(weak)):\n",
    "                _left = weak[:start]\n",
    "                _right = weak[start:]\n",
    "                traverse_list = _right + [x+n for x in _left]\n",
    "                candidate = p.copy()\n",
    "                while traverse_list and candidate:\n",
    "                    cur = traverse_list.pop(0)\n",
    "                    d = candidate.pop(0)\n",
    "                    cover  = cur +d\n",
    "                    while traverse_list and traverse_list[0] <= cover:\n",
    "                        traverse_list.pop(0)\n",
    "\n",
    "                    if not traverse_list:\n",
    "                        return i\n",
    "            \n",
    "    return -1"
   ]
  },
  {
   "cell_type": "code",
   "execution_count": 48,
   "metadata": {},
   "outputs": [
    {
     "data": {
      "text/plain": [
       "2"
      ]
     },
     "execution_count": 48,
     "metadata": {},
     "output_type": "execute_result"
    }
   ],
   "source": [
    "solution(12, [1, 5, 6, 10], [1, 2, 3, 4])"
   ]
  },
  {
   "cell_type": "code",
   "execution_count": null,
   "metadata": {},
   "outputs": [],
   "source": []
  }
 ],
 "metadata": {
  "kernelspec": {
   "display_name": "Python 3",
   "language": "python",
   "name": "python3"
  },
  "language_info": {
   "codemirror_mode": {
    "name": "ipython",
    "version": 3
   },
   "file_extension": ".py",
   "mimetype": "text/x-python",
   "name": "python",
   "nbconvert_exporter": "python",
   "pygments_lexer": "ipython3",
   "version": "3.10.8"
  },
  "orig_nbformat": 4,
  "vscode": {
   "interpreter": {
    "hash": "1eaddad8910a63e993320c00f976674dd19739aa47ccb16e46e67145212d406a"
   }
  }
 },
 "nbformat": 4,
 "nbformat_minor": 2
}
