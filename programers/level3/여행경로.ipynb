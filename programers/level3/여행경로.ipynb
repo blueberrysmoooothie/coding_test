{
 "cells": [
  {
   "attachments": {},
   "cell_type": "markdown",
   "metadata": {},
   "source": [
    "여행경로\n",
    "---\n",
    "https://school.programmers.co.kr/learn/courses/30/lessons/43164"
   ]
  },
  {
   "cell_type": "code",
   "execution_count": 24,
   "metadata": {},
   "outputs": [],
   "source": [
    "def solution(tickets):\n",
    "    def find_way(ports=['ICN'], used_tickets = []):\n",
    "        print(ports, used_tickets)\n",
    "        if len(used_tickets) == len(tickets):\n",
    "            # print(ports)\n",
    "            return ports, used_tickets\n",
    "\n",
    "        for port in fly_dict[ports[-1]]:\n",
    "            if [ports[-1], port] in used_tickets:\n",
    "                continue\n",
    "            path, u_tickets =  find_way(ports+[port], used_tickets+[[ports[-1], port]])\n",
    "            if len(tickets) == len(u_tickets):\n",
    "                return path, u_tickets\n",
    "\n",
    "        return ports, used_tickets\n",
    "\n",
    "    fly_dict = {}\n",
    "    for f, t in tickets:\n",
    "        if f in fly_dict.keys():\n",
    "            fly_dict[f].append(t)\n",
    "        else:\n",
    "            fly_dict[f] = [t]\n",
    "    for k in fly_dict.keys():\n",
    "        fly_dict[k] = sorted(fly_dict[k])\n",
    "    \n",
    "    ports, used_tickets = find_way()\n",
    "        \n",
    "    return ports"
   ]
  },
  {
   "cell_type": "code",
   "execution_count": 37,
   "metadata": {},
   "outputs": [],
   "source": [
    "def solution(tickets):\n",
    "    def find_way():\n",
    "        if len(tickets) == 0:\n",
    "            # print(ports)\n",
    "            return 1\n",
    "        if ports[-1] not in fly_dict.keys():\n",
    "            return 0\n",
    "        for port in fly_dict[ports[-1]]:\n",
    "            if [ports[-1], port] not in tickets:\n",
    "                continue\n",
    "\n",
    "            tickets.pop(tickets.index([ports[-1], port]))\n",
    "            ports.append(port)\n",
    "            if find_way():\n",
    "                return 1\n",
    "            ports.pop()\n",
    "            tickets.append([ports[-1], port])\n",
    "        return 0\n",
    "\n",
    "\n",
    "    fly_dict = {}\n",
    "    for f, t in tickets:\n",
    "        if f in fly_dict.keys():\n",
    "            fly_dict[f].append(t)\n",
    "        else:\n",
    "            fly_dict[f] = [t]\n",
    "    for k in fly_dict.keys():\n",
    "        fly_dict[k] = sorted(fly_dict[k])\n",
    "    ports = ['ICN']\n",
    "    find_way()\n",
    "        \n",
    "    return ports"
   ]
  },
  {
   "cell_type": "code",
   "execution_count": 38,
   "metadata": {},
   "outputs": [
    {
     "data": {
      "text/plain": [
       "['ICN', 'COO', 'ICN', 'BOO', 'DOO']"
      ]
     },
     "execution_count": 38,
     "metadata": {},
     "output_type": "execute_result"
    }
   ],
   "source": [
    "solution([[\"ICN\", \"COO\"], [\"ICN\", \"BOO\"], [\"COO\", \"ICN\"], [\"BOO\", \"DOO\"]])"
   ]
  },
  {
   "cell_type": "code",
   "execution_count": null,
   "metadata": {},
   "outputs": [],
   "source": []
  }
 ],
 "metadata": {
  "kernelspec": {
   "display_name": "Python 3",
   "language": "python",
   "name": "python3"
  },
  "language_info": {
   "codemirror_mode": {
    "name": "ipython",
    "version": 3
   },
   "file_extension": ".py",
   "mimetype": "text/x-python",
   "name": "python",
   "nbconvert_exporter": "python",
   "pygments_lexer": "ipython3",
   "version": "3.10.8"
  },
  "orig_nbformat": 4,
  "vscode": {
   "interpreter": {
    "hash": "1eaddad8910a63e993320c00f976674dd19739aa47ccb16e46e67145212d406a"
   }
  }
 },
 "nbformat": 4,
 "nbformat_minor": 2
}
