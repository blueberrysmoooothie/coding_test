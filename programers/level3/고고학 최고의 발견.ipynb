{
 "cells": [
  {
   "cell_type": "markdown",
   "id": "4e6b61ad",
   "metadata": {},
   "source": [
    "#### 고고학 최고의 발견\n",
    "---\n",
    "https://school.programmers.co.kr/learn/courses/30/lessons/131702"
   ]
  },
  {
   "cell_type": "code",
   "execution_count": null,
   "id": "600d8581",
   "metadata": {},
   "outputs": [],
   "source": [
    "def test_print(L,clockHands):\n",
    "    for i in range(L):\n",
    "        print(clockHands[i])\n",
    "\n",
    "def clock_rot(clockHands, i, j, L):\n",
    "    clockHands[i][j] = (clockHands[i][j]+1) % 4\n",
    "    if i > 0:\n",
    "        clockHands[i-1][j] = (clockHands[i-1][j]+1) % 4\n",
    "    if i < L-1:\n",
    "        clockHands[i+1][j] = (clockHands[i+1][j]+1) % 4\n",
    "    if j < L-1:\n",
    "        clockHands[i][j+1] = (clockHands[i][j+1]+1) % 4\n",
    "    if j > 0:\n",
    "        clockHands[i][j-1] = (clockHands[i][j-1]+1) % 4\n",
    "    return clockHands\n",
    "\n",
    "def find_down(L, clockHands):\n",
    "    d_cnt = 0\n",
    "    for i in range(1,L):\n",
    "        for j in range(L):\n",
    "            print(i,j)\n",
    "            while clockHands[i-1][j] != 0:\n",
    "                clockHands = clock_rot(clockHands, i, j, L)\n",
    "                d_cnt += 1\n",
    "                test_print(L,clockHands)\n",
    "    return d_cnt\n",
    "\n",
    "def find_up(L, clockHands2):\n",
    "    u_cnt = 0\n",
    "    for i in range(L-2,-1, -1):\n",
    "        for j in range(L-1, -1,-1):\n",
    "            print(i,j)\n",
    "            while clockHands2[i+1][j] != 0:\n",
    "                clockHands2 = clock_rot(clockHands2, i, j,L)\n",
    "                u_cnt += 1\n",
    "                test_print(L,clockHands2)\n",
    "    return u_cnt\n",
    "\n",
    "def solution(clockHands):\n",
    "    L = len(clockHands)\n",
    "    clockHands2 = [[r for r in c] for c in clockHands]\n",
    "    d_cnt = find_down(L, clockHands)\n",
    "    test_print(L,clockHands2)\n",
    "    u_cnt = find_up(L, clockHands2)\n",
    "    test_print(L,clockHands2)\n",
    "    return min(d_cnt, u_cnt)"
   ]
  },
  {
   "cell_type": "code",
   "execution_count": 20,
   "id": "e4deb445",
   "metadata": {},
   "outputs": [],
   "source": [
    "def clock_rot(clockHands, i, j, L):\n",
    "    clockHands[i][j] = (clockHands[i][j]+1) % 4\n",
    "    if i > 0:\n",
    "        clockHands[i-1][j] = (clockHands[i-1][j]+1) % 4\n",
    "    if i < L-1:\n",
    "        clockHands[i+1][j] = (clockHands[i+1][j]+1) % 4\n",
    "    if j < L-1:\n",
    "        clockHands[i][j+1] = (clockHands[i][j+1]+1) % 4\n",
    "    if j > 0:\n",
    "        clockHands[i][j-1] = (clockHands[i][j-1]+1) % 4\n",
    "    return clockHands\n",
    "\n",
    "\n",
    "\n",
    "def solution(clockHands):\n",
    "    def make_cases(L, case = []):\n",
    "        if L == 0:\n",
    "            test_cases.append(case)\n",
    "            return 0\n",
    "        for i in range(4):\n",
    "            make_cases(L-1, case+[i])\n",
    "\n",
    "    def set_test_case(test_clockHands, case):\n",
    "        for j in range(L):\n",
    "            for c in range(case[j]):\n",
    "                clock_rot(test_clockHands, 0, j,L)\n",
    "        return test_clockHands\n",
    "            \n",
    "        \n",
    "    L = len(clockHands)\n",
    "    test_cases = []\n",
    "    make_cases(L)\n",
    "    answer = []\n",
    "    for case in test_cases:\n",
    "        test_clockHands = [c.copy() for c in clockHands]\n",
    "        set_test_case(test_clockHands, case)\n",
    "        cnt = sum(case)\n",
    "        for i in range(1, L):\n",
    "            for j in range(L):\n",
    "                while test_clockHands[i-1][j]!= 0:\n",
    "                    clock_rot(test_clockHands, i, j,L)\n",
    "                    cnt +=1\n",
    "        if sum(test_clockHands[-1])==0:\n",
    "            answer.append(cnt)\n",
    "    return min(answer)"
   ]
  },
  {
   "cell_type": "code",
   "execution_count": 21,
   "id": "d17b9a14",
   "metadata": {},
   "outputs": [
    {
     "data": {
      "text/plain": [
       "3"
      ]
     },
     "execution_count": 21,
     "metadata": {},
     "output_type": "execute_result"
    }
   ],
   "source": [
    "solution([[0, 0, 0, 0],\n",
    "[0, 0, 0, 1],\n",
    "[0, 0, 1, 1],\n",
    "[0, 0, 0, 1]])"
   ]
  },
  {
   "cell_type": "code",
   "execution_count": null,
   "id": "044d8c8c",
   "metadata": {},
   "outputs": [],
   "source": []
  },
  {
   "cell_type": "code",
   "execution_count": null,
   "id": "7cc8b5bc",
   "metadata": {},
   "outputs": [],
   "source": []
  }
 ],
 "metadata": {
  "kernelspec": {
   "display_name": "Python 3 (ipykernel)",
   "language": "python",
   "name": "python3"
  },
  "language_info": {
   "codemirror_mode": {
    "name": "ipython",
    "version": 3
   },
   "file_extension": ".py",
   "mimetype": "text/x-python",
   "name": "python",
   "nbconvert_exporter": "python",
   "pygments_lexer": "ipython3",
   "version": "3.11.2"
  }
 },
 "nbformat": 4,
 "nbformat_minor": 5
}
