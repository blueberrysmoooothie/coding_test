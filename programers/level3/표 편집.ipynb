{
 "cells": [
  {
   "cell_type": "markdown",
   "id": "186b8698",
   "metadata": {},
   "source": [
    "#### 표 편집\n",
    "- https://school.programmers.co.kr/learn/courses/30/lessons/81303"
   ]
  },
  {
   "attachments": {},
   "cell_type": "markdown",
   "id": "17c0c88c",
   "metadata": {},
   "source": [
    "linked list\n",
    "- 전 후 인덱스 연결\n",
    "- 삭제시 연결된 노드에서 포인터 변경"
   ]
  },
  {
   "cell_type": "code",
   "execution_count": 63,
   "id": "47c7d270",
   "metadata": {},
   "outputs": [],
   "source": [
    "# 선택창 이동\n",
    "def move_k(input_cmd, del_str, k):\n",
    "    move_num = int(input_cmd.split()[-1])\n",
    "    move_direct = {'D' : 1, 'U': -1}[input_cmd.split()[0]]\n",
    "    print(k, '에서', move_direct,'방향으로', move_num)\n",
    "    \n",
    "    move_count = 0\n",
    "    while move_count != move_num:\n",
    "        k += move_direct\n",
    "        if del_str[k] == 'O':\n",
    "            move_count+=1\n",
    "    print('이동후',k)\n",
    "#     if k<0 or k>=len(del_str):\n",
    "# #         print('out of index')\n",
    "#         return 999\n",
    "    return k\n",
    "        \n",
    "def del_func(k, del_str):\n",
    "    print(k,'번째 값 삭제')\n",
    "    \n",
    "    del_str = del_str[:k] + 'X' + del_str[k+1:]\n",
    "    # next_k = 999\n",
    "    \n",
    "    last= True\n",
    "    for i in range(k, len(del_str)):\n",
    "        if del_str[i]=='O':\n",
    "            last = False\n",
    "            next_k = i\n",
    "            break\n",
    "            \n",
    "    if last:\n",
    "        print('마지막 값 삭제')\n",
    "        for i in range(k, -1, -1):\n",
    "            if del_str[i]=='O':\n",
    "                next_k = i\n",
    "                break\n",
    "            \n",
    "    k = next_k\n",
    "    print(k,'번째로 이동')\n",
    "    return k, del_str\n",
    "\n",
    "\n",
    "\n",
    "def solution(n, k, cmd):\n",
    "    del_str = 'O'*n\n",
    "    del_list = []\n",
    "    \n",
    "    for input_cmd in cmd:\n",
    "        print(del_str)\n",
    "\n",
    "        if input_cmd[0] in ['D', 'U']:\n",
    "            k = move_k(input_cmd, del_str, k)\n",
    "\n",
    "        elif input_cmd[0] == 'C':\n",
    "            del_list.append(k)\n",
    "            k, del_str = del_func(k, del_str)\n",
    "\n",
    "        elif input_cmd[0] == 'Z':\n",
    "            deled_index = del_list.pop()\n",
    "            print(deled_index, '복구')\n",
    "            del_str = del_str[:deled_index] + 'O' + del_str[deled_index+1:]\n",
    "    \n",
    "        print('\\n')\n",
    "    return del_str"
   ]
  },
  {
   "cell_type": "code",
   "execution_count": 64,
   "id": "e9d0c6aa",
   "metadata": {},
   "outputs": [
    {
     "name": "stdout",
     "output_type": "stream",
     "text": [
      "OOOOOOOO\n",
      "2 에서 1 방향으로 2\n",
      "이동후 4\n",
      "\n",
      "\n",
      "OOOOOOOO\n",
      "4 번째 값 삭제\n",
      "5 번째로 이동\n",
      "\n",
      "\n",
      "OOOOXOOO\n",
      "5 에서 -1 방향으로 3\n",
      "이동후 1\n",
      "\n",
      "\n",
      "OOOOXOOO\n",
      "1 번째 값 삭제\n",
      "2 번째로 이동\n",
      "\n",
      "\n",
      "OXOOXOOO\n",
      "2 에서 1 방향으로 4\n",
      "이동후 7\n",
      "\n",
      "\n",
      "OXOOXOOO\n",
      "7 번째 값 삭제\n",
      "마지막 값 삭제\n",
      "6 번째로 이동\n",
      "\n",
      "\n",
      "OXOOXOOX\n",
      "6 에서 -1 방향으로 2\n",
      "이동후 3\n",
      "\n",
      "\n",
      "OXOOXOOX\n",
      "7 복구\n",
      "\n",
      "\n",
      "OXOOXOOO\n",
      "1 복구\n",
      "\n",
      "\n"
     ]
    },
    {
     "data": {
      "text/plain": [
       "'OOOOXOOO'"
      ]
     },
     "execution_count": 64,
     "metadata": {},
     "output_type": "execute_result"
    }
   ],
   "source": [
    "solution(8, 2, [\"D 2\", \"C\", \"U 3\", \"C\", \"D 4\", \"C\", \"U 2\", \"Z\", \"Z\"])"
   ]
  },
  {
   "cell_type": "code",
   "execution_count": 65,
   "id": "94d0138b",
   "metadata": {},
   "outputs": [
    {
     "name": "stdout",
     "output_type": "stream",
     "text": [
      "OOOOOOOO\n",
      "2 에서 1 방향으로 2\n",
      "이동후 4\n",
      "\n",
      "\n",
      "OOOOOOOO\n",
      "4 번째 값 삭제\n",
      "5 번째로 이동\n",
      "\n",
      "\n",
      "OOOOXOOO\n",
      "5 에서 -1 방향으로 3\n",
      "이동후 1\n",
      "\n",
      "\n",
      "OOOOXOOO\n",
      "1 번째 값 삭제\n",
      "2 번째로 이동\n",
      "\n",
      "\n",
      "OXOOXOOO\n",
      "2 에서 1 방향으로 4\n",
      "이동후 7\n",
      "\n",
      "\n",
      "OXOOXOOO\n",
      "7 번째 값 삭제\n",
      "마지막 값 삭제\n",
      "6 번째로 이동\n",
      "\n",
      "\n",
      "OXOOXOOX\n",
      "6 에서 -1 방향으로 2\n",
      "이동후 3\n",
      "\n",
      "\n",
      "OXOOXOOX\n",
      "7 복구\n",
      "\n",
      "\n",
      "OXOOXOOO\n",
      "1 복구\n",
      "\n",
      "\n",
      "OOOOXOOO\n",
      "3 에서 -1 방향으로 1\n",
      "이동후 2\n",
      "\n",
      "\n",
      "OOOOXOOO\n",
      "2 번째 값 삭제\n",
      "3 번째로 이동\n",
      "\n",
      "\n"
     ]
    },
    {
     "data": {
      "text/plain": [
       "'OOXOXOOO'"
      ]
     },
     "execution_count": 65,
     "metadata": {},
     "output_type": "execute_result"
    }
   ],
   "source": [
    "solution(8, 2, [\"D 2\", \"C\", \"U 3\", \"C\", \"D 4\", \"C\", \"U 2\", \"Z\", \"Z\", \"U 1\", \"C\"])"
   ]
  },
  {
   "cell_type": "code",
   "execution_count": 9,
   "id": "845ecdd8",
   "metadata": {},
   "outputs": [],
   "source": [
    "def solution(n, k, cmd):\n",
    "    del_stack = []\n",
    "    result = [i for i in range(n)]\n",
    "    for c in cmd:\n",
    "        if c[0] == 'U':\n",
    "            k-=int(c[2:])\n",
    "        elif c[0] == 'D':\n",
    "            k+=int(c[2:])\n",
    "\n",
    "        elif c[0]=='C':\n",
    "            del_stack.append([k, result.pop(k)])\n",
    "            if k == len(result):\n",
    "                k-=1\n",
    "        else:\n",
    "            ind, num = del_stack.pop()\n",
    "            if k>=ind:\n",
    "                k+=1\n",
    "            result.insert(ind,num)\n",
    "        # print(c, result, k, del_stack)\n",
    "    \n",
    "    return ''.join(['O' if i in result else 'X' for i in range(n)])\n",
    "\n",
    "\n"
   ]
  },
  {
   "cell_type": "code",
   "execution_count": 67,
   "id": "26d74a0b",
   "metadata": {},
   "outputs": [],
   "source": [
    "class Node:\n",
    "    def __init__(self, value):\n",
    "        self.value = value\n",
    "        self.before = None\n",
    "        self.next = None\n",
    "class Linked_list:\n",
    "    def __init__(self, n, k):\n",
    "        self.list = [Node('O')]\n",
    "        self.k = k\n",
    "        for i in range(1,n):\n",
    "            self.list[i-1].next = i\n",
    "            self.list.append(Node('O'))\n",
    "            self.list[i].before = i-1\n",
    "\n",
    "    def move_k(self, num):\n",
    "        \n",
    "        if num>0:\n",
    "            for i in range(abs(num)):\n",
    "                    \n",
    "                self.k = self.list[self.k].next\n",
    "        else:\n",
    "            for i in range(abs(num)):\n",
    "                \n",
    "                self.k = self.list[self.k].before\n",
    "\n",
    "    def del_(self):\n",
    "        self.list[self.k].value = 'X'\n",
    "        if self.list[self.k].next is not None:\n",
    "            self.list[self.list[self.k].next].before = self.list[self.k].before\n",
    "        if self.list[self.k].before is not None:\n",
    "            self.list[self.list[self.k].before].next = self.list[self.k].next\n",
    "\n",
    "        if self.list[self.k].next is None:\n",
    "            self.move_k(-1)\n",
    "        else:\n",
    "            self.move_k(1)\n",
    "\n",
    "    def restore(self, ind):\n",
    "        self.list[ind].value = 'O'\n",
    "        if self.list[ind].next is not None:\n",
    "            self.list[self.list[ind].next].before = ind\n",
    "        if self.list[ind].before is not None:\n",
    "            self.list[self.list[ind].before].next = ind\n",
    "        \n",
    "\n",
    "\n",
    "def solution(n, k, cmd):\n",
    "    del_stack = []\n",
    "    l_list = Linked_list(n, k)\n",
    "    for c in cmd:\n",
    "        # print([[l.value] for l in l_list.list],c, l_list.k, del_stack)\n",
    "\n",
    "        if c[0] == 'U':\n",
    "            l_list.move_k(-int(c[2:]))\n",
    "        elif c[0] == 'D':\n",
    "            l_list.move_k(int(c[2:]))\n",
    "\n",
    "        elif c[0]=='C':\n",
    "            del_stack.append(l_list.k)\n",
    "            l_list.del_()\n",
    "        else:\n",
    "            l_list.restore(del_stack.pop())\n",
    "    \n",
    "    return ''.join([l.value for l in l_list.list])\n",
    "        \n"
   ]
  },
  {
   "cell_type": "code",
   "execution_count": 68,
   "id": "0f1d7ab4",
   "metadata": {},
   "outputs": [
    {
     "data": {
      "text/plain": [
       "'OOXOXOOO'"
      ]
     },
     "execution_count": 68,
     "metadata": {},
     "output_type": "execute_result"
    }
   ],
   "source": [
    "solution(8, 2, [\"D 2\", \"C\", \"U 3\", \"C\", \"D 4\", \"C\", \"U 2\", \"Z\", \"Z\", \"U 1\", \"C\"])"
   ]
  },
  {
   "cell_type": "code",
   "execution_count": null,
   "id": "7e53bbd4",
   "metadata": {},
   "outputs": [],
   "source": []
  },
  {
   "cell_type": "code",
   "execution_count": null,
   "id": "36b902e9",
   "metadata": {},
   "outputs": [],
   "source": []
  }
 ],
 "metadata": {
  "kernelspec": {
   "display_name": "Python 3",
   "language": "python",
   "name": "python3"
  },
  "language_info": {
   "codemirror_mode": {
    "name": "ipython",
    "version": 3
   },
   "file_extension": ".py",
   "mimetype": "text/x-python",
   "name": "python",
   "nbconvert_exporter": "python",
   "pygments_lexer": "ipython3",
   "version": "3.10.8"
  },
  "vscode": {
   "interpreter": {
    "hash": "1eaddad8910a63e993320c00f976674dd19739aa47ccb16e46e67145212d406a"
   }
  }
 },
 "nbformat": 4,
 "nbformat_minor": 5
}
