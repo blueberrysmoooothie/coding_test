{
 "cells": [
  {
   "cell_type": "markdown",
   "metadata": {},
   "source": [
    "단어 변환\n",
    "---\n",
    "https://school.programmers.co.kr/learn/courses/30/lessons/43163"
   ]
  },
  {
   "cell_type": "code",
   "execution_count": 42,
   "metadata": {},
   "outputs": [],
   "source": [
    "def solution(begin, target, words):\n",
    "    if target not in words :\n",
    "        return 0\n",
    "    def calc(w1,w2,d = True):\n",
    "        cnt = 0\n",
    "        for ind in range(l):\n",
    "            if w1[ind] != w2[ind]:\n",
    "                cnt +=1\n",
    "            if d:\n",
    "                if cnt==2:\n",
    "                    break\n",
    "        return cnt\n",
    "\n",
    "    def d_find_tree(visited = [begin]):\n",
    "        \n",
    "        cur = visited[-1]\n",
    "        if cur == target:\n",
    "            return len(visited)-1\n",
    "\n",
    "        to_visit = tree[cur]\n",
    "        for w in to_visit:\n",
    "            if w not in visited:\n",
    "                visited.append(w)\n",
    "                result = d_find_tree(visited)\n",
    "                if result:\n",
    "                    return result\n",
    "                visited.pop()\n",
    "        return 0\n",
    "\n",
    "\n",
    "\n",
    "    l = len(begin)\n",
    "    words = sorted(words, key = lambda x: calc(x, target, False))\n",
    "    tree = {begin:[]}\n",
    "\n",
    "    for w2 in words:\n",
    "        cnt = calc(begin,w2)\n",
    "        if cnt ==1:\n",
    "            tree[begin].append(w2)\n",
    "\n",
    "\n",
    "    for i in range(len(words)-1):\n",
    "        for j in range(i,len(words)):\n",
    "            w1, w2 = words[i], words[j]\n",
    "            cnt = calc(w1,w2)\n",
    "            if cnt ==1:\n",
    "                if w1 in tree.keys():\n",
    "                    tree[w1].append(w2)\n",
    "                else:\n",
    "                    tree[w1] = [w2]\n",
    "            \n",
    "            if cnt ==1:\n",
    "                if w2 in tree.keys():\n",
    "                    tree[w2].append(w1)\n",
    "                else:\n",
    "                    tree[w2] = [w1]\n",
    "\n",
    "    \n",
    "        \n",
    "    \n",
    "    answer = d_find_tree()\n",
    "    return answer"
   ]
  },
  {
   "cell_type": "code",
   "execution_count": 43,
   "metadata": {},
   "outputs": [
    {
     "data": {
      "text/plain": [
       "4"
      ]
     },
     "execution_count": 43,
     "metadata": {},
     "output_type": "execute_result"
    }
   ],
   "source": [
    "solution(\"hit\", \"cog\", [\"hot\", \"dot\", \"dog\", \"lot\", \"log\", \"cog\"])"
   ]
  },
  {
   "cell_type": "code",
   "execution_count": null,
   "metadata": {},
   "outputs": [],
   "source": []
  }
 ],
 "metadata": {
  "kernelspec": {
   "display_name": "Python 3",
   "language": "python",
   "name": "python3"
  },
  "language_info": {
   "codemirror_mode": {
    "name": "ipython",
    "version": 3
   },
   "file_extension": ".py",
   "mimetype": "text/x-python",
   "name": "python",
   "nbconvert_exporter": "python",
   "pygments_lexer": "ipython3",
   "version": "3.10.8"
  },
  "orig_nbformat": 4,
  "vscode": {
   "interpreter": {
    "hash": "1eaddad8910a63e993320c00f976674dd19739aa47ccb16e46e67145212d406a"
   }
  }
 },
 "nbformat": 4,
 "nbformat_minor": 2
}
