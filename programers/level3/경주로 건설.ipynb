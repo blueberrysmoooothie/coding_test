{
 "cells": [
  {
   "attachments": {},
   "cell_type": "markdown",
   "metadata": {},
   "source": [
    "경주로 건설\n",
    "---\n",
    "https://school.programmers.co.kr/learn/courses/30/lessons/67259"
   ]
  },
  {
   "cell_type": "code",
   "execution_count": 43,
   "metadata": {},
   "outputs": [],
   "source": [
    "# dfs\n",
    "def solution(board):\n",
    "    def dfs(way_ind,loc = [0,0], straight=0, corner = 0):\n",
    "        # print(loc, ways[way_ind], straight, corner)\n",
    "        if loc == [n-1, n-1]:\n",
    "            answers.append(straight*100 + corner*500)\n",
    "            # print()\n",
    "        to_ways =[]\n",
    "        if loc[0]>0 and way_ind!=3:\n",
    "            if not board[loc[0]-1][loc[1]]:\n",
    "                to_ways.append(0)\n",
    "        if loc[1]< n-1 and way_ind!=2:\n",
    "            if not board[loc[0]][loc[1]+1]:\n",
    "                to_ways.append(1)\n",
    "        if loc[1]>0 and way_ind!=1:\n",
    "            if not board[loc[0]][loc[1]-1]:\n",
    "                to_ways.append(2)\n",
    "        if loc[0]< n-1 and way_ind!=0:\n",
    "            if not board[loc[0]+1][loc[1]]:\n",
    "                to_ways.append(3)\n",
    "\n",
    "        if len(to_ways)==0:\n",
    "            return 0\n",
    "\n",
    "        board[loc[0]][loc[1]]=1\n",
    "        for way in to_ways:\n",
    "            \n",
    "            if way == 0:\n",
    "                if way!=way_ind:\n",
    "                    dfs(way, [loc[0]-1, loc[1]], straight+1, corner+1)\n",
    "                else:\n",
    "                    dfs(way, [loc[0]-1, loc[1]], straight+1, corner)\n",
    "            elif way == 1:\n",
    "                if way!=way_ind:\n",
    "                    dfs(way, [loc[0], loc[1]+1], straight+1, corner+1)\n",
    "                else:\n",
    "                    dfs(way, [loc[0], loc[1]+1], straight+1, corner)\n",
    "            elif way == 2:\n",
    "                if way!=way_ind:\n",
    "                    dfs(way, [loc[0], loc[1]-1], straight+1, corner+1)\n",
    "                else:\n",
    "                    dfs(way, [loc[0], loc[1]-1], straight+1, corner)\n",
    "            else:\n",
    "                if way!=way_ind:\n",
    "                    dfs(way, [loc[0]+1, loc[1]], straight+1, corner+1)\n",
    "                else:\n",
    "                    dfs(way, [loc[0]+1, loc[1]], straight+1, corner)\n",
    "        board[loc[0]][loc[1]]=0\n",
    "        \n",
    "    n = len(board)\n",
    "    ways = ['up','right','left','down']\n",
    "\n",
    "    answers = []\n",
    "    board[0][0]=1\n",
    "    if board[0][1]==0:\n",
    "        dfs( 1, loc=[0,1])\n",
    "    if board[1][0]==0:\n",
    "        dfs(3, loc=[1,0])\n",
    "    return min(answers)+100"
   ]
  },
  {
   "cell_type": "code",
   "execution_count": 122,
   "metadata": {},
   "outputs": [],
   "source": [
    "# bfs\n",
    "def solution(board):\n",
    "    n = len(board)\n",
    "    cost = [[-1]*(n+2)] +[[-1]+[-1 if bi else 0 for bi in b]+[-1] for b in board]+[[-1]*(n+2)]\n",
    "\n",
    "\n",
    "\n",
    "    loc = [1,1]\n",
    "    to_loc = []\n",
    "    if cost[loc[0]+1][loc[1]]==0:\n",
    "            to_loc.append([loc[0]+1,loc[1],100,  'd']) \n",
    "            cost[loc[0]+1][loc[1]] = 100\n",
    "    if cost[loc[0]][loc[1]+1]==0:\n",
    "            to_loc.append([loc[0],loc[1]+1,100,  'r']) \n",
    "            cost[loc[0]][loc[1]+1] = 100\n",
    "    cost[1][1]=100\n",
    "    for l,c, co, direct in to_loc:\n",
    "        if cost[l-1][c]>=0:\n",
    "            co2 = co +100 +(500 if direct != 'u' else 0)\n",
    "            if cost[l-1][c]==0:\n",
    "                cost[l-1][c] = co2\n",
    "                to_loc.append([l-1,c,co2, 'u']) \n",
    "            elif cost[l-1][c]+300 >= co2:\n",
    "                cost[l-1][c] = min(cost[l-1][c], co2)\n",
    "                to_loc.append([l-1,c,co2, 'u']) \n",
    "\n",
    "        if cost[l][c-1]>=0:\n",
    "            co2 = co +100 +(500 if direct != 'l' else 0)\n",
    "            if cost[l][c-1]==0:\n",
    "                cost[l][c-1] = co2\n",
    "                to_loc.append([l,c-1,co2, 'l']) \n",
    "            elif cost[l][c-1]+300 >= co2:\n",
    "                cost[l][c-1] = min(cost[l][c-1], co2)\n",
    "                to_loc.append([l,c-1,co2, 'l']) \n",
    "\n",
    "        if cost[l][c+1]>=0:\n",
    "            co2 = co +100 +(500 if direct != 'r' else 0)\n",
    "            if cost[l][c+1]==0:\n",
    "                cost[l][c+1] = co2\n",
    "                to_loc.append([l,c+1,co2, 'r']) \n",
    "            elif cost[l][c+1]+300 >= co2:\n",
    "                cost[l][c+1] = min(cost[l][c+1], co2)\n",
    "                to_loc.append([l,c+1,co2, 'r']) \n",
    "\n",
    "        if cost[l+1][c]>=0:\n",
    "            co2 = co +100 +(500 if direct != 'd' else 0)\n",
    "            if cost[l+1][c]==0:\n",
    "                cost[l+1][c] = co2\n",
    "                to_loc.append([l+1,c,co2, 'd']) \n",
    "            elif cost[l+1][c]+300 >= co2:\n",
    "                cost[l+1][c] = min(cost[l+1][c], co2)\n",
    "                to_loc.append([l+1,c,co2, 'd']) \n",
    "    # for b in cost:\n",
    "    #     for bi in b:\n",
    "    #         print(f'{bi:5d}', end='')\n",
    "    #     print()\n",
    "\n",
    "    return cost[n][n]"
   ]
  },
  {
   "cell_type": "code",
   "execution_count": 123,
   "metadata": {},
   "outputs": [
    {
     "name": "stdout",
     "output_type": "stream",
     "text": [
      "   -1   -1   -1   -1   -1   -1   -1   -1   -1   -1   -1   -1\n",
      "   -1  100  100   -1 1500   -1   -1    0    0    0    0   -1\n",
      "   -1  100  700  800  900   -1    0   -1   -1    0   -1   -1\n",
      "   -1   -1  800 1400 1500 1600   -1   -1    0   -1    0   -1\n",
      "   -1 1500  900 1500 1600 1700 1800   -1    0    0    0   -1\n",
      "   -1 1600 1000 1600 1700   -1 2400   -1    0   -1   -1   -1\n",
      "   -1 1700 1100   -1 1800   -1   -1 5100   -1    0   -1   -1\n",
      "   -1 2300   -1 2500 1900   -1 5600 5000 5600   -1 6100   -1\n",
      "   -1   -1 3700 3100   -1 4500 5100 4900 5300 5400 5500   -1\n",
      "   -1 3900 3800 3200 3800 3900   -1 4800   -1 6000 6100   -1\n",
      "   -1   -1 3900 3300 3900 4000 4100 4200 4300   -1 6200   -1\n",
      "   -1   -1   -1   -1   -1   -1   -1   -1   -1   -1   -1   -1\n"
     ]
    },
    {
     "data": {
      "text/plain": [
       "6200"
      ]
     },
     "execution_count": 123,
     "metadata": {},
     "output_type": "execute_result"
    }
   ],
   "source": [
    "solution([\n",
    "[0, 0, 1, 0, 1, 1, 0, 0, 0, 0],\n",
    "[0, 0, 0, 0, 1, 0, 1, 1, 0, 1],\n",
    "[1, 0, 0, 0, 0, 1, 1, 0, 1, 0],\n",
    "[0, 0, 0, 0, 0, 0, 1, 0, 0, 0],\n",
    "[0, 0, 0, 0, 1, 0, 1, 0, 1, 1],\n",
    "[0, 0, 1, 0, 1, 1, 0, 1, 0, 1],\n",
    "[0, 1, 0, 0, 1, 0, 0, 0, 1, 0],\n",
    "[1, 0, 0, 1, 0, 0, 0, 0, 0, 0],\n",
    "[0, 0, 0, 0, 0, 1, 0, 1, 0, 0],\n",
    "[1, 0, 0, 0, 0, 0, 0, 0, 1, 0]])"
   ]
  },
  {
   "cell_type": "code",
   "execution_count": null,
   "metadata": {},
   "outputs": [],
   "source": []
  },
  {
   "cell_type": "code",
   "execution_count": null,
   "metadata": {},
   "outputs": [],
   "source": []
  }
 ],
 "metadata": {
  "kernelspec": {
   "display_name": "Python 3",
   "language": "python",
   "name": "python3"
  },
  "language_info": {
   "codemirror_mode": {
    "name": "ipython",
    "version": 3
   },
   "file_extension": ".py",
   "mimetype": "text/x-python",
   "name": "python",
   "nbconvert_exporter": "python",
   "pygments_lexer": "ipython3",
   "version": "3.10.8"
  },
  "orig_nbformat": 4,
  "vscode": {
   "interpreter": {
    "hash": "1eaddad8910a63e993320c00f976674dd19739aa47ccb16e46e67145212d406a"
   }
  }
 },
 "nbformat": 4,
 "nbformat_minor": 2
}
