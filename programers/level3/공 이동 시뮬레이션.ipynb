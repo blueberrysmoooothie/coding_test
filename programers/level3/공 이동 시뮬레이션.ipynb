{
 "cells": [
  {
   "attachments": {},
   "cell_type": "markdown",
   "metadata": {},
   "source": [
    "### 공 이동 시뮬레이션\n",
    "---\n",
    "https://school.programmers.co.kr/learn/courses/30/lessons/87391"
   ]
  },
  {
   "attachments": {},
   "cell_type": "markdown",
   "metadata": {},
   "source": [
    "#### 문제 사항\n",
    "1. 격자 크기, 쿼리 이동 거리가 너무 크다.\n",
    "2. 가능 경우의 수가 너무 많다.\n",
    "\n",
    "#### 해결 방법\n",
    "1. DP?\n",
    "2. 이진탐색?\n",
    "\n",
    "일단 쿼리 반대 순서로 이동하는거를 살펴보자"
   ]
  },
  {
   "attachments": {},
   "cell_type": "markdown",
   "metadata": {},
   "source": [
    "1. 반대 순서로 가능한 범위를 계산\n",
    "2. 이동방향에서 가능범위가 경계값에 있지 않으면 가능범위 전체 이동\n",
    "3. 아니라면 범위 확장"
   ]
  },
  {
   "cell_type": "code",
   "execution_count": 23,
   "metadata": {},
   "outputs": [],
   "source": [
    "def solution(n, m, x, y, queries):\n",
    "    board = [[1] *(m+2)]+[[1]+[0 for _ in range(m) ]+[1] for _ in range(n)] +[[1] *(m+2)]\n",
    "    board[x+1][y+1] = 'G'\n",
    "    cur = [x+1,y+1]\n",
    "    ans_x1, ans_y1, ansx2, ansy2 = x+1,y+1,x+1,y+1\n",
    "    for b in board:\n",
    "        print(b)\n",
    "    print()\n",
    "    \n",
    "    for query in queries[::-1]:\n",
    "        print(query)\n",
    "        dx, dy = 0,0\n",
    "        if query[0] == 0:\n",
    "            dy = 1\n",
    "        elif query[0] == 1:\n",
    "            dy = -1\n",
    "        elif query[0] == 2:\n",
    "            dx = 1\n",
    "        else:\n",
    "            dx= -1\n",
    "        board[cur[0]][cur[1]] = 0\n",
    "\n",
    "        for _ in range(query[1]): \n",
    "            if board[cur[0]+dx][cur[1]+dy]:\n",
    "                print(query[1], _, query[1]-_+1)\n",
    "                break\n",
    "            cur[0]+=dx \n",
    "            cur[1]+=dy\n",
    "        board[cur[0]][cur[1]] = 'G'\n",
    "\n",
    "        for b in board:\n",
    "            print(b)\n",
    "        print()\n",
    "\n",
    "    answer = -1\n",
    "    return answer"
   ]
  },
  {
   "cell_type": "code",
   "execution_count": 42,
   "metadata": {},
   "outputs": [],
   "source": [
    "def solution(n, m, x, y, queries):\n",
    "    cur = [x,y]\n",
    "    ans_x1, ans_y1, ans_x2, ans_y2 = x,y,x,y\n",
    "    \n",
    "    for query in queries[::-1]:\n",
    "        # print(query)\n",
    "        if query[0] == 0:\n",
    "            if ans_y1 != 0:\n",
    "                ans_y1+=query[1]\n",
    "            ans_y2 = min(m-1, ans_y2+query[1])\n",
    "        elif query[0] == 1:\n",
    "            if ans_y2 != m-1:\n",
    "                ans_y2-=query[1]\n",
    "            ans_y1 = max(0, ans_y1-query[1])\n",
    "        elif query[0] == 2:\n",
    "            if ans_x1 != 0:\n",
    "                ans_x1+=query[1]\n",
    "            ans_x2 = min(n-1, ans_x2+query[1])\n",
    "        else:\n",
    "            if ans_x2 != n-1:\n",
    "                ans_x2 -= query[1]\n",
    "            ans_x1 = max(0, ans_x1-query[1])\n",
    "        # print([ans_x1, ans_y1], [ans_x2, ans_y2])\n",
    "        if ans_x2<0 or ans_x1>=n or ans_y2<0 or ans_y1>=m:\n",
    "            return 0\n",
    "\n",
    "    \n",
    "\n",
    "    return (ans_x2- ans_x1 + 1)*(ans_y2- ans_y1 + 1)"
   ]
  },
  {
   "cell_type": "code",
   "execution_count": 44,
   "metadata": {},
   "outputs": [
    {
     "name": "stdout",
     "output_type": "stream",
     "text": [
      "[2, 1]\n",
      "[0, 1] [1, 1]\n",
      "[0, 1]\n",
      "[0, 2] [1, 2]\n",
      "[2, 3]\n",
      "[0, 2] [1, 2]\n",
      "[1, 1]\n",
      "[0, 1] [1, 1]\n",
      "[2, 2]\n",
      "[0, 1] [1, 1]\n",
      "[3, 1]\n",
      "[0, 1] [1, 1]\n"
     ]
    },
    {
     "data": {
      "text/plain": [
       "2"
      ]
     },
     "execution_count": 44,
     "metadata": {},
     "output_type": "execute_result"
    }
   ],
   "source": [
    "solution(2, 5, 0, 1, [[3, 1], [2, 2], [1, 1], [2, 3], [0, 1], [2, 1]])"
   ]
  },
  {
   "cell_type": "code",
   "execution_count": 45,
   "metadata": {},
   "outputs": [
    {
     "name": "stdout",
     "output_type": "stream",
     "text": [
      "[2, 100001]\n",
      "[100002, 1] [999, 1]\n"
     ]
    },
    {
     "data": {
      "text/plain": [
       "0"
      ]
     },
     "execution_count": 45,
     "metadata": {},
     "output_type": "execute_result"
    }
   ],
   "source": [
    "solution(1000,1000,1,1, [[0,100001],[2,100001]])"
   ]
  },
  {
   "cell_type": "code",
   "execution_count": null,
   "metadata": {},
   "outputs": [],
   "source": []
  }
 ],
 "metadata": {
  "kernelspec": {
   "display_name": "Python 3",
   "language": "python",
   "name": "python3"
  },
  "language_info": {
   "codemirror_mode": {
    "name": "ipython",
    "version": 3
   },
   "file_extension": ".py",
   "mimetype": "text/x-python",
   "name": "python",
   "nbconvert_exporter": "python",
   "pygments_lexer": "ipython3",
   "version": "3.11.2"
  },
  "orig_nbformat": 4
 },
 "nbformat": 4,
 "nbformat_minor": 2
}
