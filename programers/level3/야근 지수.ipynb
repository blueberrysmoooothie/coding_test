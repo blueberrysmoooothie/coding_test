{
 "cells": [
  {
   "attachments": {},
   "cell_type": "markdown",
   "metadata": {},
   "source": [
    "야근 지수\n",
    "---\n",
    "https://school.programmers.co.kr/learn/courses/30/lessons/12927"
   ]
  },
  {
   "attachments": {},
   "cell_type": "markdown",
   "metadata": {},
   "source": [
    "#### 01/18\n",
    "- (x-a)^2 +(y-b)^2\n",
    "- (x-a)^2 +(y-n+a)^2\n",
    "- 2a-2x + 2a + 2(y-n) = 0\n",
    "- 2a = n+x-y\n",
    "- a+b = n \n",
    "\n",
    "  \n",
    "- (x-a)^2 +(y-b)^2 +(z-c)^2\n",
    "- (x-a)^2 +(y-b)^2 +(z-n+a+b)^2\n",
    "- a^2 -2ax +b^2 -2by +x^2 + y^2 + (z-n)^2 +2(z-n)(a+b)+ (a+b)^2\n",
    "- df/da = 2a - 2x +2(z-n) +2a+2b\n",
    "\n",
    "- 2a = n+x-y\n",
    "- a+b = n \n",
    "\n",
    "#### 01/19\n",
    "- work에서 가상 큰수를 하나씩 빼주기 - 오래걸림\n",
    "- 정렬해서 끝에서부터 같은 값들을 하나씩 빼주자"
   ]
  },
  {
   "cell_type": "code",
   "execution_count": 7,
   "metadata": {},
   "outputs": [],
   "source": [
    "def solution(n, works):\n",
    "    for i in range(n):\n",
    "        ind = works.index(max(works))\n",
    "        if works[ind]:\n",
    "            works[ind]-=1\n",
    "\n",
    "    answer = sum([w**2 for w in works])\n",
    "    return answer"
   ]
  },
  {
   "cell_type": "code",
   "execution_count": 26,
   "metadata": {},
   "outputs": [],
   "source": [
    "def solution(n, works):\n",
    "    works = sorted(works)\n",
    "    l = len(works)\n",
    "    ind = l-1\n",
    "    while ind >=0 and n>0:\n",
    "        ind = works.index(works[-1])\n",
    "        for i in range(l-1,ind-1,-1):\n",
    "            if works[i]:\n",
    "                works[i]-=1\n",
    "            n-=1\n",
    "            if n<=0:\n",
    "                break\n",
    "\n",
    "    answer = sum([w**2 for w in works])\n",
    "    return answer"
   ]
  },
  {
   "cell_type": "code",
   "execution_count": 27,
   "metadata": {},
   "outputs": [
    {
     "name": "stdout",
     "output_type": "stream",
     "text": [
      "[3, 3, 4] 2\n",
      "[3, 3, 3] 2\n",
      "[2, 2, 2] 0\n"
     ]
    },
    {
     "data": {
      "text/plain": [
       "12"
      ]
     },
     "execution_count": 27,
     "metadata": {},
     "output_type": "execute_result"
    }
   ],
   "source": [
    "solution(\t4, [4, 3, 3])"
   ]
  },
  {
   "cell_type": "code",
   "execution_count": null,
   "metadata": {},
   "outputs": [],
   "source": []
  }
 ],
 "metadata": {
  "kernelspec": {
   "display_name": "Python 3",
   "language": "python",
   "name": "python3"
  },
  "language_info": {
   "codemirror_mode": {
    "name": "ipython",
    "version": 3
   },
   "file_extension": ".py",
   "mimetype": "text/x-python",
   "name": "python",
   "nbconvert_exporter": "python",
   "pygments_lexer": "ipython3",
   "version": "3.10.8"
  },
  "orig_nbformat": 4,
  "vscode": {
   "interpreter": {
    "hash": "1eaddad8910a63e993320c00f976674dd19739aa47ccb16e46e67145212d406a"
   }
  }
 },
 "nbformat": 4,
 "nbformat_minor": 2
}
