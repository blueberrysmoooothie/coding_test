{
 "cells": [
  {
   "attachments": {},
   "cell_type": "markdown",
   "metadata": {},
   "source": [
    "야근 지수\n",
    "---\n",
    "https://school.programmers.co.kr/learn/courses/30/lessons/12927"
   ]
  },
  {
   "attachments": {},
   "cell_type": "markdown",
   "metadata": {},
   "source": [
    "#### 01/18\n",
    "- (x-a)^2 +(y-b)^2\n",
    "- (x-a)^2 +(y-n+a)^2\n",
    "- 2a-2x + 2a + 2(y-n) = 0\n",
    "- 2a = n+x-y\n",
    "- a+b = n \n",
    "\n",
    "  \n",
    "- (x-a)^2 +(y-b)^2 +(z-c)^2\n",
    "- (x-a)^2 +(y-b)^2 +(z-n+a+b)^2\n",
    "- a^2 -2ax +b^2 -2by +x^2 + y^2 + (z-n)^2 +2(z-n)(a+b)+ (a+b)^2\n",
    "- df/da = 2a - 2x +2(z-n) +2a+2b\n",
    "\n",
    "- 2a = n+x-y\n",
    "- a+b = n "
   ]
  },
  {
   "cell_type": "code",
   "execution_count": null,
   "metadata": {},
   "outputs": [],
   "source": [
    "def solution(n, works):\n",
    "    answer = 0\n",
    "    return answer"
   ]
  }
 ],
 "metadata": {
  "kernelspec": {
   "display_name": "Python 3",
   "language": "python",
   "name": "python3"
  },
  "language_info": {
   "name": "python",
   "version": "3.10.8 (tags/v3.10.8:aaaf517, Oct 11 2022, 16:50:30) [MSC v.1933 64 bit (AMD64)]"
  },
  "orig_nbformat": 4,
  "vscode": {
   "interpreter": {
    "hash": "1eaddad8910a63e993320c00f976674dd19739aa47ccb16e46e67145212d406a"
   }
  }
 },
 "nbformat": 4,
 "nbformat_minor": 2
}
