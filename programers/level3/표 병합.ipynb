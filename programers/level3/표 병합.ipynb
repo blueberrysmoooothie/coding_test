{
 "cells": [
  {
   "attachments": {},
   "cell_type": "markdown",
   "metadata": {},
   "source": [
    "표 병합\n",
    "---\n",
    "https://school.programmers.co.kr/learn/courses/30/lessons/150366"
   ]
  },
  {
   "cell_type": "code",
   "execution_count": 74,
   "metadata": {},
   "outputs": [],
   "source": [
    "class cell:\n",
    "    def __init__(self, r,c):\n",
    "        self.value = None\n",
    "        self.merged = set()\n",
    "        self.merged.add((r,c))\n",
    "\n",
    "\n",
    "class table:\n",
    "    def __init__(self):\n",
    "        self.board = [[cell(j,i) for i in range(50)] for j in range(50)]\n",
    "        self.answer = []\n",
    "\n",
    "    def update_cell(self, r,c, value):\n",
    "        r, c = int(r)-1 , int(c)-1\n",
    "        cur = self.board[r][c]\n",
    "        for lr, lc in cur.merged:\n",
    "            self.board[lr][lc].value = value\n",
    "\n",
    "    def update_value(self, bf_value, af_value):\n",
    "        for i in range(50):\n",
    "            for j in range(50):\n",
    "                if self.board[i][j].value == bf_value:\n",
    "                    self.board[i][j].value = af_value\n",
    "\n",
    "    def merge(self, r1, c1, r2, c2):\n",
    "        r1, c1 = int(r1)-1 , int(c1)-1\n",
    "        r2, c2 = int(r2)-1 , int(c2)-1\n",
    "        val = self.board[r2][c2].value if self.board[r1][c1].value is None else self.board[r1][c1].value\n",
    "        uni = (self.board[r1][c1].merged | self.board[r2][c2].merged).copy()\n",
    "        for r, c in uni:\n",
    "            self.board[r][c].value = val\n",
    "            self.board[r][c].merged = uni.copy()\n",
    "\n",
    "    def unmerge(self, r,c):\n",
    "        r, c = int(r)-1 , int(c)-1\n",
    "        val = self.board[r][c].value\n",
    "        m = self.board[r][c].merged.copy()\n",
    "        for lr, lc in m:\n",
    "            self.board[lr][lc].value = None\n",
    "            self.board[lr][lc].merged = set()\n",
    "            self.board[lr][lc].merged.add((lr, lc))\n",
    "\n",
    "        self.board[r][c].value = val\n",
    "\n",
    "    def print(self, r, c):\n",
    "        r, c = int(r)-1 , int(c)-1\n",
    "        ans = self.board[r][c].value\n",
    "        self.answer.append('EMPTY' if ans is None else ans)\n",
    "\n",
    "    def get_command(self, cmd, *args):\n",
    "        if cmd == 'UPDATE':\n",
    "            if len(args)==3:\n",
    "                self.update_cell(*args)\n",
    "            else:\n",
    "                self.update_value(*args)\n",
    "\n",
    "        elif cmd == 'MERGE':\n",
    "            self.merge(*args)\n",
    "\n",
    "        elif cmd == 'UNMERGE':\n",
    "            self.unmerge(*args)\n",
    "\n",
    "        else:\n",
    "            self.print(*args)\n",
    "\n",
    "    def print_table(self):\n",
    "        for i in range(4):\n",
    "            for j in range(4):\n",
    "                cur = self.board[i][j]\n",
    "\n",
    "                print(cur.value, end = ' ')\n",
    "            print()\n",
    "        print()\n",
    "        \n",
    "def solution(commands):\n",
    "    t = table()\n",
    "    for command in commands:\n",
    "        t.get_command(*command.split())\n",
    "        # t.print_table()\n",
    "    return t.answer\n",
    "\n",
    "            \n"
   ]
  },
  {
   "cell_type": "code",
   "execution_count": 76,
   "metadata": {},
   "outputs": [
    {
     "data": {
      "text/plain": [
       "['d', 'EMPTY', 'c']"
      ]
     },
     "execution_count": 76,
     "metadata": {},
     "output_type": "execute_result"
    }
   ],
   "source": [
    "solution([\"UPDATE 1 1 a\", \"UPDATE 1 2 b\", \"UPDATE 2 1 c\", \"UPDATE 2 2 d\", \"MERGE 1 1 1 2\", \"MERGE 2 2 2 1\", \"MERGE 2 1 1 1\", \"PRINT 1 1\", \"UNMERGE 2 2\", \"PRINT 1 1\",'UPDATE d c', 'PRINT 2 2'])"
   ]
  },
  {
   "cell_type": "code",
   "execution_count": null,
   "metadata": {},
   "outputs": [],
   "source": []
  }
 ],
 "metadata": {
  "kernelspec": {
   "display_name": "Python 3",
   "language": "python",
   "name": "python3"
  },
  "language_info": {
   "codemirror_mode": {
    "name": "ipython",
    "version": 3
   },
   "file_extension": ".py",
   "mimetype": "text/x-python",
   "name": "python",
   "nbconvert_exporter": "python",
   "pygments_lexer": "ipython3",
   "version": "3.11.2"
  },
  "orig_nbformat": 4
 },
 "nbformat": 4,
 "nbformat_minor": 2
}
