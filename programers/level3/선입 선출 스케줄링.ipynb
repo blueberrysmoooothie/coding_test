{
 "cells": [
  {
   "attachments": {},
   "cell_type": "markdown",
   "metadata": {},
   "source": [
    "선입 선출 스케줄링\n",
    "---\n",
    "https://school.programmers.co.kr/learn/courses/30/lessons/12920"
   ]
  },
  {
   "cell_type": "code",
   "execution_count": 3,
   "metadata": {},
   "outputs": [],
   "source": [
    "import bisect\n",
    "def solution(n, cores):\n",
    "    \n",
    "    ind = 0\n",
    "    work = []\n",
    "    while ind <len(cores):\n",
    "        if ind+1 == n :\n",
    "            return ind+1\n",
    "        insert_ind = bisect.bisect_left(work,[cores[ind], ind])\n",
    "        work.insert(insert_ind,[cores[ind], ind])\n",
    "        ind+=1\n",
    "\n",
    "    while True:\n",
    "        time, i = work.pop(0)\n",
    "        if ind == n-1 :\n",
    "            return i+1\n",
    "        if time>0:\n",
    "            for j in range(len(work)):\n",
    "                work[j][0]-=time\n",
    "        insert_ind = bisect.bisect_left(work,[cores[i], i])\n",
    "        work.insert(insert_ind,[cores[i], i])\n",
    "        ind+=1\n",
    "\n",
    "def solution(n, cores):\n",
    "    f =0\n",
    "    for c in cores:\n",
    "        f+=1/c\n",
    "\n",
    "    p_time = -1\n",
    "    cur = n//f\n",
    "    upper = n//f\n",
    "    lower = 0\n",
    "    C = len(cores)\n",
    "    if n <= C:\n",
    "        return n\n",
    "    \n",
    "    while p_time != cur:\n",
    "        s = C\n",
    "        for c in cores:\n",
    "            s+=cur//c \n",
    "        p_time = cur\n",
    "        if s >=n:\n",
    "            upper = cur\n",
    "        else:\n",
    "            lower = cur\n",
    "\n",
    "        cur = (lower+upper)//2\n",
    "\n",
    "    print(cur)\n",
    "\n",
    "    max_ =C\n",
    "    for c in cores:\n",
    "        max_ += (cur+1)//c\n",
    "    # print(f'prev_time+1 : {cur+1}\\nmaxi : {max_}', n-int(max_)-1)\n",
    "    dd_ref = [i for i, wf in enumerate(cores) if (cur+1)%wf == 0]\n",
    "    return dd_ref[n-int(max_)-1]+1\n",
    "    "
   ]
  },
  {
   "cell_type": "code",
   "execution_count": 5,
   "metadata": {},
   "outputs": [],
   "source": [
    "def solution(n, cores):\n",
    "    def calc(cur):\n",
    "        s = C \n",
    "        for c in cores:\n",
    "            s += cur//c\n",
    "        return s\n",
    "    \n",
    "    C = len(cores)\n",
    "    if n<=C: return n\n",
    "    low = min(cores)\n",
    "    upp = (n//C)*max(cores)\n",
    "    cur = (upp+low)//2\n",
    "    while low<upp:\n",
    "        \n",
    "        s = calc(cur)\n",
    "        if s>=n:\n",
    "            upp = cur\n",
    "        else:\n",
    "            low = cur+1\n",
    "        cur = (upp+low)//2\n",
    "\n",
    "    r = [i for i, wf in enumerate(cores) if cur%wf ==0]\n",
    "    return r[n-calc(cur)-1]+1\n"
   ]
  },
  {
   "cell_type": "code",
   "execution_count": 6,
   "metadata": {},
   "outputs": [
    {
     "data": {
      "text/plain": [
       "2"
      ]
     },
     "execution_count": 6,
     "metadata": {},
     "output_type": "execute_result"
    }
   ],
   "source": [
    "solution(\t6, [1, 2, 3])"
   ]
  },
  {
   "cell_type": "code",
   "execution_count": null,
   "metadata": {},
   "outputs": [],
   "source": []
  }
 ],
 "metadata": {
  "kernelspec": {
   "display_name": "Python 3",
   "language": "python",
   "name": "python3"
  },
  "language_info": {
   "codemirror_mode": {
    "name": "ipython",
    "version": 3
   },
   "file_extension": ".py",
   "mimetype": "text/x-python",
   "name": "python",
   "nbconvert_exporter": "python",
   "pygments_lexer": "ipython3",
   "version": "3.11.2"
  },
  "orig_nbformat": 4
 },
 "nbformat": 4,
 "nbformat_minor": 2
}
