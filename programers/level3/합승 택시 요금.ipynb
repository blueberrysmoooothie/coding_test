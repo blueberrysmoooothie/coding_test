{
 "cells": [
  {
   "attachments": {},
   "cell_type": "markdown",
   "metadata": {},
   "source": [
    "합승 택시 요금\n",
    "---\n",
    "https://school.programmers.co.kr/learn/courses/30/lessons/72413"
   ]
  },
  {
   "attachments": {},
   "cell_type": "markdown",
   "metadata": {},
   "source": [
    "1. 시작 지점에서 합승이 끝나는 지점까지 최단 거리 구하기\n",
    "2. 합승이 끝나는 지점에서 A, B 까지 최단 거리 구하기"
   ]
  },
  {
   "cell_type": "code",
   "execution_count": 18,
   "metadata": {},
   "outputs": [],
   "source": [
    "import numpy as np\n",
    "def solution(n, s, a, b, fares):\n",
    "    def floyd_warshall(dist):\n",
    "        for k in range(n):\n",
    "            for i in range(n):\n",
    "                for j in range(n):\n",
    "                    dist[i][j] = min(dist[i][j], dist[i][k]+dist[k][j])\n",
    "        return dist\n",
    "    s, a, b = s-1, a-1, b-1\n",
    "    dist= [[0 if i == j else np.inf for i in range(n)]for j in range(n)]\n",
    "    for f, t, fare in fares:\n",
    "        dist[f-1][t-1] = fare\n",
    "        dist[t-1][f-1] = fare\n",
    "\n",
    "    dist = floyd_warshall(dist)\n",
    "    # for d in dist:\n",
    "    #     print(d)\n",
    "    answers = []\n",
    "\n",
    "    for node in range(n):\n",
    "        answer = dist[s][node]+dist[node][a]+dist[node][b]\n",
    "        answers.append(answer)\n",
    "\n",
    "\n",
    "    return min(answers)"
   ]
  },
  {
   "cell_type": "code",
   "execution_count": 19,
   "metadata": {},
   "outputs": [
    {
     "data": {
      "text/plain": [
       "82"
      ]
     },
     "execution_count": 19,
     "metadata": {},
     "output_type": "execute_result"
    }
   ],
   "source": [
    "solution(6, 4, 6, 2, [[4, 1, 10], [3, 5, 24], [5, 6, 2], [3, 1, 41], [5, 1, 24], [4, 6, 50], [2, 4, 66], [2, 3, 22], [1, 6, 25]])"
   ]
  },
  {
   "cell_type": "code",
   "execution_count": null,
   "metadata": {},
   "outputs": [],
   "source": []
  }
 ],
 "metadata": {
  "kernelspec": {
   "display_name": "Python 3",
   "language": "python",
   "name": "python3"
  },
  "language_info": {
   "codemirror_mode": {
    "name": "ipython",
    "version": 3
   },
   "file_extension": ".py",
   "mimetype": "text/x-python",
   "name": "python",
   "nbconvert_exporter": "python",
   "pygments_lexer": "ipython3",
   "version": "3.10.8"
  },
  "orig_nbformat": 4,
  "vscode": {
   "interpreter": {
    "hash": "1eaddad8910a63e993320c00f976674dd19739aa47ccb16e46e67145212d406a"
   }
  }
 },
 "nbformat": 4,
 "nbformat_minor": 2
}
