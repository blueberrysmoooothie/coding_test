{
 "cells": [
  {
   "attachments": {},
   "cell_type": "markdown",
   "metadata": {},
   "source": [
    "섬 연결하기\n",
    "---\n",
    "https://school.programmers.co.kr/learn/courses/30/lessons/42861"
   ]
  },
  {
   "cell_type": "code",
   "execution_count": 9,
   "metadata": {},
   "outputs": [],
   "source": [
    "def solution(n, costs):\n",
    "    costs_dict =  {i:[] for i in range(n)}\n",
    "    for f, t, c in costs:\n",
    "        costs_dict[f].append([t,c])\n",
    "        costs_dict[t].append([f,c])\n",
    "    answer = 0\n",
    "    visited = [0]\n",
    "    for k in visited:\n",
    "        costs_dict[k] =  sorted(costs_dict[k], key = lambda x:x[1])\n",
    "        for t, c in costs_dict[k]:\n",
    "            if t in visited:\n",
    "                continue\n",
    "            visited.append(t)\n",
    "            answer+=c\n",
    "\n",
    "    return answer"
   ]
  },
  {
   "cell_type": "code",
   "execution_count": 15,
   "metadata": {},
   "outputs": [],
   "source": [
    "def solution(n, costs):\n",
    "    costs_dict =  {i:[] for i in range(n)}\n",
    "    for f, t, c in costs:\n",
    "        costs_dict[f].append([t,c])\n",
    "        costs_dict[t].append([f,c])\n",
    "    answer = 0\n",
    "    visited = [0]\n",
    "\n",
    "    while len(visited) < n:\n",
    "        near_isla = []\n",
    "        for k in visited:\n",
    "            for t, c in costs_dict[k]:\n",
    "                if t not in visited:\n",
    "                    near_isla.append([t,c])\n",
    "\n",
    "        near_isla= sorted(near_isla, key = lambda x:x[1])\n",
    "        # print(near_isla)\n",
    "        visited.append(near_isla[0][0])\n",
    "        answer+=near_isla[0][1]\n",
    "\n",
    "    return answer"
   ]
  },
  {
   "cell_type": "code",
   "execution_count": 16,
   "metadata": {},
   "outputs": [
    {
     "name": "stdout",
     "output_type": "stream",
     "text": [
      "[[1, 1], [2, 2]]\n",
      "[[3, 1], [2, 2], [2, 5]]\n",
      "[[2, 2], [2, 5], [2, 8]]\n"
     ]
    },
    {
     "data": {
      "text/plain": [
       "4"
      ]
     },
     "execution_count": 16,
     "metadata": {},
     "output_type": "execute_result"
    }
   ],
   "source": [
    "solution(4, [[0,1,1],[0,2,2],[1,2,5],[1,3,1],[2,3,8]])"
   ]
  },
  {
   "cell_type": "code",
   "execution_count": null,
   "metadata": {},
   "outputs": [],
   "source": []
  }
 ],
 "metadata": {
  "kernelspec": {
   "display_name": "Python 3",
   "language": "python",
   "name": "python3"
  },
  "language_info": {
   "codemirror_mode": {
    "name": "ipython",
    "version": 3
   },
   "file_extension": ".py",
   "mimetype": "text/x-python",
   "name": "python",
   "nbconvert_exporter": "python",
   "pygments_lexer": "ipython3",
   "version": "3.10.8"
  },
  "orig_nbformat": 4,
  "vscode": {
   "interpreter": {
    "hash": "1eaddad8910a63e993320c00f976674dd19739aa47ccb16e46e67145212d406a"
   }
  }
 },
 "nbformat": 4,
 "nbformat_minor": 2
}
