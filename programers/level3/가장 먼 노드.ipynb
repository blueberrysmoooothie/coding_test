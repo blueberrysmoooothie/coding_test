{
 "cells": [
  {
   "attachments": {},
   "cell_type": "markdown",
   "metadata": {},
   "source": [
    "가장 먼 노드\n",
    "---\n",
    "https://school.programmers.co.kr/learn/courses/30/lessons/49189\n"
   ]
  },
  {
   "attachments": {},
   "cell_type": "markdown",
   "metadata": {},
   "source": [
    "플로이드 위셜 알고리즘"
   ]
  },
  {
   "cell_type": "code",
   "execution_count": null,
   "metadata": {},
   "outputs": [],
   "source": [
    "def solution(n, edge):\n",
    "    dist = []\n",
    "    for i in range(n):\n",
    "        dist.append([0 if i == j else 20000 for j in range(n)])\n",
    "\n",
    "    for s,e in edge:\n",
    "        dist[s-1][e-1] = 1\n",
    "        dist[e-1][s-1] = 1\n",
    "\n",
    "    for d in dist:\n",
    "        print(d)\n",
    "    print()\n",
    "    for k in range(n):\n",
    "        for i in range(n):\n",
    "            for j in range(n):\n",
    "                dist[i][j] = min(dist[i][j], dist[i][k]+dist[k][j])\n",
    "\n",
    "    answer = 0\n",
    "    for d in dist:\n",
    "        print(d)\n",
    "    return answer"
   ]
  },
  {
   "attachments": {},
   "cell_type": "markdown",
   "metadata": {},
   "source": [
    "BFS"
   ]
  },
  {
   "cell_type": "code",
   "execution_count": 38,
   "metadata": {},
   "outputs": [],
   "source": [
    "def solution(n, edge):\n",
    "\n",
    "    edge_dict = {s: [] for s in range(n)}\n",
    "    for s,e in edge:\n",
    "        edge_dict[s-1].append(e-1)\n",
    "        edge_dict[e-1].append(s-1)\n",
    "\n",
    "    to_visit = [[0,0]]\n",
    "    visited = [0]\n",
    "    \n",
    "    for node, dist in to_visit:\n",
    "        for connected_node in edge_dict[node]:\n",
    "            if connected_node not in visited:\n",
    "                visited.append(connected_node)\n",
    "                to_visit.append([connected_node, dist+1])\n",
    "\n",
    "    max_ = to_visit[-1][-1]\n",
    "    answer = 1\n",
    "    for node, dist in to_visit[-2::-1]:\n",
    "        if dist != max_:\n",
    "            break\n",
    "        answer+=1\n",
    "    return answer\n",
    "\n",
    "\n",
    "\n",
    "    return 0"
   ]
  },
  {
   "cell_type": "code",
   "execution_count": 44,
   "metadata": {},
   "outputs": [],
   "source": [
    "def solution(n, edge):\n",
    "\n",
    "    edge_dict = {s: [] for s in range(n)}\n",
    "    for s,e in edge:\n",
    "        edge_dict[s-1].append(e-1)\n",
    "        edge_dict[e-1].append(s-1)\n",
    "\n",
    "    dist_ = [0]\n",
    "    visited = [0]\n",
    "    \n",
    "    for node, dist in zip(visited,dist_):\n",
    "        for connected_node in edge_dict[node]:\n",
    "            if connected_node not in visited:\n",
    "                visited.append(connected_node)\n",
    "                dist_.append(dist+1)\n",
    "\n",
    "    max_ = dist\n",
    "    answer = 1\n",
    "    for dist in dist_[-2::-1]:\n",
    "        if dist != max_:\n",
    "            break\n",
    "        answer+=1\n",
    "    return answer\n",
    "\n",
    "\n",
    "\n",
    "    return 0"
   ]
  },
  {
   "cell_type": "code",
   "execution_count": 46,
   "metadata": {},
   "outputs": [],
   "source": [
    "def solution(n, edge):\n",
    "\n",
    "    edge_dict = {s: [] for s in range(n)}\n",
    "    for s,e in edge:\n",
    "        edge_dict[s-1].append(e-1)\n",
    "        edge_dict[e-1].append(s-1)\n",
    "\n",
    "    dist_ = [0]\n",
    "    visited = [0]\n",
    "    node_visit = [0]+[1 for i in range(n-1)]\n",
    "    for node, dist in zip(visited,dist_):\n",
    "        for connected_node in edge_dict[node]:\n",
    "            if node_visit[connected_node] :\n",
    "                visited.append(connected_node)\n",
    "                node_visit[connected_node]=0\n",
    "                dist_.append(dist+1)\n",
    "\n",
    "    max_ = dist\n",
    "    answer = 1\n",
    "    for dist in dist_[-2::-1]:\n",
    "        if dist != max_:\n",
    "            break\n",
    "        answer+=1\n",
    "    return answer\n",
    "\n",
    "\n",
    "\n",
    "    return 0"
   ]
  },
  {
   "cell_type": "code",
   "execution_count": 47,
   "metadata": {},
   "outputs": [
    {
     "data": {
      "text/plain": [
       "3"
      ]
     },
     "execution_count": 47,
     "metadata": {},
     "output_type": "execute_result"
    }
   ],
   "source": [
    "solution(6,[[3, 6], [4, 3], [3, 2], [1, 3], [1, 2], [2, 4], [5, 2]])"
   ]
  },
  {
   "cell_type": "code",
   "execution_count": null,
   "metadata": {},
   "outputs": [],
   "source": []
  },
  {
   "cell_type": "code",
   "execution_count": null,
   "metadata": {},
   "outputs": [],
   "source": []
  }
 ],
 "metadata": {
  "kernelspec": {
   "display_name": "Python 3",
   "language": "python",
   "name": "python3"
  },
  "language_info": {
   "codemirror_mode": {
    "name": "ipython",
    "version": 3
   },
   "file_extension": ".py",
   "mimetype": "text/x-python",
   "name": "python",
   "nbconvert_exporter": "python",
   "pygments_lexer": "ipython3",
   "version": "3.10.8"
  },
  "orig_nbformat": 4,
  "vscode": {
   "interpreter": {
    "hash": "1eaddad8910a63e993320c00f976674dd19739aa47ccb16e46e67145212d406a"
   }
  }
 },
 "nbformat": 4,
 "nbformat_minor": 2
}
