{
 "cells": [
  {
   "cell_type": "markdown",
   "metadata": {},
   "source": [
    "최적의 행렬 곱셈\n",
    "---\n",
    "https://school.programmers.co.kr/learn/courses/30/lessons/12942"
   ]
  },
  {
   "cell_type": "code",
   "execution_count": 40,
   "metadata": {},
   "outputs": [],
   "source": [
    "import bisect\n",
    "def solution(matrix_sizes):\n",
    "    matrix_sizes=sorted(matrix_sizes, key = lambda x:[-x[1],x[0]])\n",
    "\n",
    "    size_dict = {}\n",
    "    for r, c in matrix_sizes:\n",
    "        if r not in size_dict:\n",
    "            size_dict[r]=[]\n",
    "        size_dict[r].insert(bisect.bisect_left(size_dict[r], c), c)\n",
    "\n",
    "\n",
    "\n",
    "    answers = []\n",
    "    while len(matrix_sizes)>1:\n",
    "        i=0\n",
    "        while matrix_sizes[i][1] not in size_dict:\n",
    "            i+=1\n",
    "        R,C = matrix_sizes.pop(i)\n",
    "        size_dict[R].pop()\n",
    "        c = size_dict[C].pop()\n",
    "        answers.append(R * C*c)\n",
    "        matrix_sizes.pop(matrix_sizes.index([C,c]))\n",
    "        size_dict[R].insert(bisect.bisect_left(size_dict[R], c), c)\n",
    "        matrix_sizes.append([R,c])\n",
    "        matrix_sizes=sorted(matrix_sizes, key = lambda x:[-x[1],x[0]])\n",
    "\n",
    "\n",
    "    return sum(answers)"
   ]
  },
  {
   "cell_type": "code",
   "execution_count": 49,
   "metadata": {},
   "outputs": [],
   "source": [
    "def solution(matrix_sizes):\n",
    "    L = len(matrix_sizes)\n",
    "    dp = [[0 if _<=__ else 999999999 for _ in range(L)] for __ in range(L)]\n",
    "\n",
    "    for i in range(L):\n",
    "        for j in range(L-i):\n",
    "            for k in range(j, j+i):\n",
    "                dp[j][j+i] = min(dp[j][j+i], dp[j][k]+dp[k+1][j+i]+(matrix_sizes[j][0]*matrix_sizes[k][1]*matrix_sizes[j+i][1])) \n",
    "\n",
    "    return dp[0][-1]"
   ]
  },
  {
   "cell_type": "code",
   "execution_count": 50,
   "metadata": {},
   "outputs": [
    {
     "name": "stdout",
     "output_type": "stream",
     "text": [
      "[[0, 150, 270], [0, 0, 180], [0, 0, 0]]\n"
     ]
    }
   ],
   "source": [
    "solution([[5, 3], [3, 10], [10, 6]])"
   ]
  },
  {
   "cell_type": "code",
   "execution_count": null,
   "metadata": {},
   "outputs": [],
   "source": []
  }
 ],
 "metadata": {
  "kernelspec": {
   "display_name": "Python 3",
   "language": "python",
   "name": "python3"
  },
  "language_info": {
   "codemirror_mode": {
    "name": "ipython",
    "version": 3
   },
   "file_extension": ".py",
   "mimetype": "text/x-python",
   "name": "python",
   "nbconvert_exporter": "python",
   "pygments_lexer": "ipython3",
   "version": "3.11.2"
  },
  "orig_nbformat": 4
 },
 "nbformat": 4,
 "nbformat_minor": 2
}
