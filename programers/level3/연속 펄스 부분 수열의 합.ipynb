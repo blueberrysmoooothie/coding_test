{
 "cells": [
  {
   "attachments": {},
   "cell_type": "markdown",
   "metadata": {},
   "source": [
    "연속 펄스 부분 수열의 합\n",
    "---\n",
    "https://school.programmers.co.kr/learn/courses/30/lessons/161988"
   ]
  },
  {
   "cell_type": "code",
   "execution_count": 19,
   "metadata": {},
   "outputs": [],
   "source": [
    "def solution(sequence):\n",
    "    max_=abs(sequence[0])\n",
    "    dp = [-1 * sequence[0]]\n",
    "    for i in range(1, len(sequence)):\n",
    "        a = sequence[i]\n",
    "        a = a if i%2 else -1 *  a\n",
    "        dp.append(max(a, dp[-1]+a))\n",
    "        if dp[-1]>max_:\n",
    "            max_ = dp[-1]\n",
    "\n",
    "    dp = [sequence[0]]\n",
    "    for i in range(1, len(sequence)):\n",
    "        a = sequence[i]\n",
    "        a = -1 * a if i%2 else a\n",
    "        dp.append(max(a, dp[-1]+a))\n",
    "        if dp[-1]>max_:\n",
    "            max_ = dp[-1]\n",
    "\n",
    "    return max_"
   ]
  },
  {
   "cell_type": "code",
   "execution_count": 20,
   "metadata": {},
   "outputs": [
    {
     "name": "stdout",
     "output_type": "stream",
     "text": [
      "[-4, 3] 4\n",
      "[-4, 3, 1] 4\n",
      "[-4, 3, 1, 2] 4\n",
      "[4, 1] 4\n",
      "[4, 1, 3] 4\n",
      "[4, 1, 3, 2] 4\n"
     ]
    },
    {
     "data": {
      "text/plain": [
       "4"
      ]
     },
     "execution_count": 20,
     "metadata": {},
     "output_type": "execute_result"
    }
   ],
   "source": [
    "solution([4,3,2,1])"
   ]
  },
  {
   "cell_type": "code",
   "execution_count": null,
   "metadata": {},
   "outputs": [],
   "source": []
  }
 ],
 "metadata": {
  "kernelspec": {
   "display_name": "Python 3",
   "language": "python",
   "name": "python3"
  },
  "language_info": {
   "codemirror_mode": {
    "name": "ipython",
    "version": 3
   },
   "file_extension": ".py",
   "mimetype": "text/x-python",
   "name": "python",
   "nbconvert_exporter": "python",
   "pygments_lexer": "ipython3",
   "version": "3.10.8"
  },
  "orig_nbformat": 4
 },
 "nbformat": 4,
 "nbformat_minor": 2
}
