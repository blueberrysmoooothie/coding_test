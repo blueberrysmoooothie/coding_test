{
 "cells": [
  {
   "attachments": {},
   "cell_type": "markdown",
   "metadata": {},
   "source": [
    "파괴되지 않은 건물\n",
    "---\n",
    "https://school.programmers.co.kr/learn/courses/30/lessons/92344"
   ]
  },
  {
   "cell_type": "code",
   "execution_count": 49,
   "metadata": {},
   "outputs": [],
   "source": [
    "# 누적합\n",
    "\n",
    "def solution(board, skill):\n",
    "    R, C = len(board), len(board[0])\n",
    "    sum_board = [[0 for c in range(len(board[r]))]for r in range(len(board))]\n",
    "    for type_, r1, c1, r2, c2, degree in skill:\n",
    "        \n",
    "        num = degree * (1 if type_ == 2 else -1)\n",
    "\n",
    "        sum_board[r1][c1] += num\n",
    "        if r2<R-1:\n",
    "            sum_board[r2+1][c1] -= num\n",
    "        if c2<C-1:\n",
    "            sum_board[r1][c2+1] -= num\n",
    "        if r2<R-1 and c2<C-1:\n",
    "            sum_board[r2+1][c2+1] += num\n",
    "\n",
    "        # print(type_, r1, c1, r2, c2, degree)\n",
    "        # for b in sum_board:\n",
    "        #     print(b)\n",
    "        # print()\n",
    "    \n",
    "    for r in range(R):\n",
    "        for c in range(1,C):\n",
    "            sum_board[r][c] += sum_board[r][c-1]\n",
    "        if r!=0:\n",
    "            for c in range(C):\n",
    "                sum_board[r][c] += sum_board[r-1][c]\n",
    "        for c in range(C):\n",
    "                board[r][c] += sum_board[r][c]\n",
    "    # for b in sum_board:\n",
    "    #     print(b)\n",
    "    # print()\n",
    "\n",
    "    # for b in board:\n",
    "    #     print(b)\n",
    "    # print()\n",
    "\n",
    "    return sum([t>0 for b in board for t in b])"
   ]
  },
  {
   "cell_type": "code",
   "execution_count": 50,
   "metadata": {},
   "outputs": [
    {
     "name": "stdout",
     "output_type": "stream",
     "text": [
      "[1, 0, 0, 0, 1]\n",
      "[3, 2, 0, 0, 1]\n",
      "[1, 0, -2, -2, 1]\n",
      "[3, 2, 0, 0, 1]\n",
      "\n"
     ]
    },
    {
     "data": {
      "text/plain": [
       "10"
      ]
     },
     "execution_count": 50,
     "metadata": {},
     "output_type": "execute_result"
    }
   ],
   "source": [
    "solution(\t[[5, 5, 5, 5, 5], [5, 5, 5, 5, 5], [5, 5, 5, 5, 5], [5, 5, 5, 5, 5]], [[1, 0, 0, 3, 4, 4], [1, 2, 0, 2, 3, 2], [2, 1, 0, 3, 1, 2], [1, 0, 1, 3, 3, 1]])"
   ]
  },
  {
   "cell_type": "code",
   "execution_count": null,
   "metadata": {},
   "outputs": [],
   "source": []
  }
 ],
 "metadata": {
  "kernelspec": {
   "display_name": "Python 3",
   "language": "python",
   "name": "python3"
  },
  "language_info": {
   "codemirror_mode": {
    "name": "ipython",
    "version": 3
   },
   "file_extension": ".py",
   "mimetype": "text/x-python",
   "name": "python",
   "nbconvert_exporter": "python",
   "pygments_lexer": "ipython3",
   "version": "3.10.8"
  },
  "orig_nbformat": 4,
  "vscode": {
   "interpreter": {
    "hash": "1eaddad8910a63e993320c00f976674dd19739aa47ccb16e46e67145212d406a"
   }
  }
 },
 "nbformat": 4,
 "nbformat_minor": 2
}
