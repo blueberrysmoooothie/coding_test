{
 "cells": [
  {
   "attachments": {},
   "cell_type": "markdown",
   "metadata": {},
   "source": [
    "매칭 점수\n",
    "---\n",
    "https://school.programmers.co.kr/learn/courses/30/lessons/42893"
   ]
  },
  {
   "attachments": {},
   "cell_type": "markdown",
   "metadata": {},
   "source": [
    "기본 점수\n",
    "- 해당 웹페이지의 텍스트 중, 검색어가 등장하는 횟수  \n",
    "\n",
    "외부링크수\n",
    "- 해당 웹페이지에서 다른 외부 페이지로 연결된 링크 개수  \n",
    "\n",
    "링크점수\n",
    "- 해당 웹페이지로 링크가 걸린 다른 웹페이지의 기본점수 / 외부링크수 총합"
   ]
  },
  {
   "cell_type": "code",
   "execution_count": 74,
   "metadata": {},
   "outputs": [],
   "source": [
    "from bs4 import BeautifulSoup as bs\n",
    "import re\n",
    "class Page:\n",
    "    def __init__(self, cnt=0, ext_link_urls = []):\n",
    "        self.cnt = cnt\n",
    "        self.ext_link = len(ext_link_urls)\n",
    "        self.ext_link_urls = ext_link_urls\n",
    "        self.link = 0\n",
    "        self.score = 0\n",
    "def solution(word, pages):\n",
    "\n",
    "    page_dic = {}\n",
    "    for page in pages:\n",
    "        soup = bs(page, \"html.parser\")\n",
    "        url = soup.find('meta', {'property': 'og:url'})['content']\n",
    "        p = re.compile(r'[\\W|\\d]'+word+r'[\\W|\\d]', re.I)\n",
    "        cnt = len(re.findall(p, soup.text))\n",
    "        ext_link_urls = [ a['href'] for a in soup.find_all('a')]\n",
    "        page_dic[url] = Page(cnt, ext_link_urls)\n",
    "    \n",
    "    max_ = 0 \n",
    "    ind = 0\n",
    "    for page in page_dic.values():\n",
    "        \n",
    "        for ext_link_url in page.ext_link_urls:\n",
    "            page.link += page_dic[ext_link_url].cnt / page_dic[ext_link_url].ext_link\n",
    "\n",
    "        page.score = page.cnt + page.link\n",
    "        if page.score > max_:\n",
    "            max_ = page.score\n",
    "            max_ind = ind\n",
    "        ind +=1\n",
    "    return max_ind\n",
    "\n",
    "\n"
   ]
  },
  {
   "cell_type": "code",
   "execution_count": 182,
   "metadata": {},
   "outputs": [],
   "source": [
    "# from bs4 import BeautifulSoup as bs\n",
    "import re\n",
    "import decimal\n",
    "class Page:\n",
    "    def __init__(self, cnt=0, ext_link_urls = []):\n",
    "        self.cnt = cnt\n",
    "        self.ext_link = len(ext_link_urls)\n",
    "        self.ext_link_urls = ext_link_urls\n",
    "        self.link = 0.0\n",
    "        self.score = 0\n",
    "# def solution(word, pages):\n",
    "\n",
    "#     page_dic = {}\n",
    "#     for page in pages:\n",
    "#         soup = bs(page, \"html.parser\")\n",
    "#         url = soup.find('meta', {'property': 'og:url'})['content']\n",
    "#         p = re.compile(r'[\\W|\\d]'+word+r'[\\W|\\d]', re.I)\n",
    "#         cnt = len(re.findall(p, soup.text))\n",
    "#         ext_link_urls = [ a['href'] for a in soup.find_all('a')]\n",
    "#         page_dic[url] = Page(cnt, ext_link_urls)\n",
    "    \n",
    "#     max_ = 0 \n",
    "#     ind = 0\n",
    "#     for page in page_dic.values():\n",
    "        \n",
    "#         for ext_link_url in page.ext_link_urls:\n",
    "#             page.link += page_dic[ext_link_url].cnt / page_dic[ext_link_url].ext_link\n",
    "\n",
    "#         page.score = page.cnt + page.link\n",
    "#         if page.score > max_:\n",
    "#             max_ = page.score\n",
    "#             max_ind = ind\n",
    "#         ind +=1\n",
    "#     return max_ind\n",
    "\n",
    "def solution(word, pages):\n",
    "    word = word.lower()\n",
    "    page_dic = {}\n",
    "    for page in pages:\n",
    "\n",
    "        url = re.search(r'(<meta property.+content=\")(https://.*)\"/>', page).group(2)\n",
    "        cnt = len([1 for p in re.findall(r'[a-z|A-Z]+', page) if p.lower() == word])\n",
    "        ext_link_urls = re.findall(r'(<a href=\")(https://\\S*)\">',page)\n",
    "        ext_link_urls = [ext[1] for ext in ext_link_urls]\n",
    "        # print(ext_link_urls)\n",
    "        page_dic[url] = Page(cnt, ext_link_urls)\n",
    "        # print(url, cnt, ext_link_urls)\n",
    "\n",
    "    max_ = 0.0\n",
    "    ind = -1\n",
    "    max_ind = 0\n",
    "    for page in page_dic.values():\n",
    "        for ext_link_url in page.ext_link_urls:\n",
    "            try:        \n",
    "                page_dic[ext_link_url].link = decimal.Decimal(page_dic[ext_link_url].link) + decimal.Decimal(page.cnt) / decimal.Decimal(page.ext_link)\n",
    "            except:\n",
    "                pass\n",
    "\n",
    "    for page in page_dic.values():\n",
    "        ind +=1\n",
    "        page.score = decimal.Decimal(page.cnt) + decimal.Decimal(page.link)\n",
    "        if page.score > max_:\n",
    "            max_ = page.score\n",
    "            max_ind = ind\n",
    "\n",
    "    # for url, page in page_dic.items():\n",
    "    #     print(url, page.score)\n",
    "\n",
    "    return max_ind"
   ]
  },
  {
   "cell_type": "code",
   "execution_count": 183,
   "metadata": {},
   "outputs": [
    {
     "data": {
      "text/plain": [
       "0"
      ]
     },
     "execution_count": 183,
     "metadata": {},
     "output_type": "execute_result"
    }
   ],
   "source": [
    "solution(\t\"blind\", [\"<html lang=\\\"ko\\\" xml:lang=\\\"ko\\\" xmlns=\\\"http://www.w3.org/1999/xhtml\\\">\\n<head>\\n  <meta charset=\\\"utf-8\\\">\\n  <meta property=\\\"og:url\\\" content=\\\"https://a.com\\\"/>\\n</head>  \\n<body>\\nBlind Lorem Blind ipsum dolor Blind test sit amet, consectetur adipiscing elit. \\n<a href=\\\"https://b.com\\\"> Link to b </a>\\n</body>\\n</html>\", \"<html lang=\\\"ko\\\" xml:lang=\\\"ko\\\" xmlns=\\\"http://www.w3.org/1999/xhtml\\\">\\n<head>\\n  <meta charset=\\\"utf-8\\\">\\n  <meta property=\\\"og:url\\\" content=\\\"https://b.com\\\"/>\\n</head>  \\n<body>\\nSuspendisse potenti. Vivamus venenatis tellus non turpis bibendum, \\n<a href=\\\"https://a.com\\\"> Link to a </a>\\nblind sed congue urna varius. Suspendisse feugiat nisl ligula, quis malesuada felis hendrerit ut.\\n<a href=\\\"https://c.com\\\"> Link to c </a>\\n</body>\\n</html>\", \"<html lang=\\\"ko\\\" xml:lang=\\\"ko\\\" xmlns=\\\"http://www.w3.org/1999/xhtml\\\">\\n<head>\\n  <meta charset=\\\"utf-8\\\">\\n  <meta property=\\\"og:url\\\" content=\\\"https://c.com\\\"/>\\n</head>  \\n<body>\\nUt condimentum urna at felis sodales rutrum. Sed dapibus cursus diam, non interdum nulla tempor nec. Phasellus rutrum enim at orci consectetu blind\\n<a href=\\\"https://a.com\\\"> Link to a </a>\\n</body>\\n</html>\"])"
   ]
  },
  {
   "cell_type": "code",
   "execution_count": 173,
   "metadata": {},
   "outputs": [
    {
     "data": {
      "text/plain": [
       "2"
      ]
     },
     "execution_count": 173,
     "metadata": {},
     "output_type": "execute_result"
    }
   ],
   "source": [
    "word = 'muzi'\n",
    "page = \"muziqq muzi Muzi MMuzi \"\n",
    "len([1 for p in re.findall(r'[a-z|A-Z]+', page) if p.lower() == word])"
   ]
  },
  {
   "cell_type": "code",
   "execution_count": null,
   "metadata": {},
   "outputs": [],
   "source": []
  }
 ],
 "metadata": {
  "kernelspec": {
   "display_name": "Python 3",
   "language": "python",
   "name": "python3"
  },
  "language_info": {
   "codemirror_mode": {
    "name": "ipython",
    "version": 3
   },
   "file_extension": ".py",
   "mimetype": "text/x-python",
   "name": "python",
   "nbconvert_exporter": "python",
   "pygments_lexer": "ipython3",
   "version": "3.11.2"
  },
  "orig_nbformat": 4
 },
 "nbformat": 4,
 "nbformat_minor": 2
}
