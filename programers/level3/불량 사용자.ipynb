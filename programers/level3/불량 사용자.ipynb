{
 "cells": [
  {
   "attachments": {},
   "cell_type": "markdown",
   "metadata": {},
   "source": [
    "불량 사용자\n",
    "---\n",
    "https://school.programmers.co.kr/learn/courses/30/lessons/64064\n"
   ]
  },
  {
   "cell_type": "code",
   "execution_count": 16,
   "metadata": {},
   "outputs": [],
   "source": [
    "import re\n",
    "def solution(user_id, banned_id):\n",
    "    answer = 1\n",
    "\n",
    "    while True:\n",
    "        id = banned_id.pop()\n",
    "        p_id='^'+id+'$'\n",
    "        p = re.compile(p_id.replace('*','[a-z|0-9]'))\n",
    "        cnt = 0\n",
    "        for u_id in user_id:\n",
    "            if p.match(u_id):\n",
    "                cnt+=1\n",
    "\n",
    "        m_cnt = cnt\n",
    "        while id in banned_id:\n",
    "            banned_id.pop(banned_id.index(id))\n",
    "            cnt-=1\n",
    "            m_ccnt *= cnt\n",
    "        if cnt:\n",
    "\n",
    "            answer*=cnt\n",
    "        print(id, cnt)\n",
    "    return answer"
   ]
  },
  {
   "cell_type": "code",
   "execution_count": 61,
   "metadata": {},
   "outputs": [],
   "source": [
    "import re\n",
    "def solution(user_id, banned_id):\n",
    "    def find_comb(comb = [], ind = 0):\n",
    "        if ind == l:\n",
    "            comb = sorted(comb)\n",
    "            if comb not in comb_list:\n",
    "                comb_list.append(comb)\n",
    "                # print(comb)\n",
    "            return 0\n",
    "        for p_id in bid_dic[banned_id[ind]]:\n",
    "            if p_id in comb:\n",
    "                continue\n",
    "            comb.append(p_id)\n",
    "            find_comb(comb, ind+1)\n",
    "            comb.pop()\n",
    "\n",
    "    l = len(banned_id)\n",
    "    bid_dic = {}\n",
    "    for id in banned_id:\n",
    "        p_id='^'+id+'$'\n",
    "        p = re.compile(p_id.replace('*','[a-z|0-9]'))\n",
    "        bid_dic[id] = []\n",
    "        for u_id in user_id:\n",
    "            if p.match(u_id):\n",
    "                bid_dic[id].append(u_id)\n",
    "\n",
    "    comb_list = []\n",
    "    find_comb()\n",
    "    return len(comb_list)"
   ]
  },
  {
   "cell_type": "code",
   "execution_count": 62,
   "metadata": {},
   "outputs": [
    {
     "name": "stdout",
     "output_type": "stream",
     "text": [
      "['abc123', 'crodo', 'frodo', 'frodoc']\n",
      "['abc123', 'fradi', 'frodo', 'frodoc']\n",
      "['abc123', 'crodo', 'fradi', 'frodoc']\n"
     ]
    },
    {
     "data": {
      "text/plain": [
       "3"
      ]
     },
     "execution_count": 62,
     "metadata": {},
     "output_type": "execute_result"
    }
   ],
   "source": [
    "solution([\"frodo\", \"fradi\", \"crodo\", \"abc123\", \"frodoc\"], [\"fr*d*\", \"*rodo\", \"******\", \"******\"])"
   ]
  },
  {
   "cell_type": "code",
   "execution_count": null,
   "metadata": {},
   "outputs": [],
   "source": []
  }
 ],
 "metadata": {
  "kernelspec": {
   "display_name": "Python 3",
   "language": "python",
   "name": "python3"
  },
  "language_info": {
   "codemirror_mode": {
    "name": "ipython",
    "version": 3
   },
   "file_extension": ".py",
   "mimetype": "text/x-python",
   "name": "python",
   "nbconvert_exporter": "python",
   "pygments_lexer": "ipython3",
   "version": "3.10.8"
  },
  "orig_nbformat": 4,
  "vscode": {
   "interpreter": {
    "hash": "1eaddad8910a63e993320c00f976674dd19739aa47ccb16e46e67145212d406a"
   }
  }
 },
 "nbformat": 4,
 "nbformat_minor": 2
}
