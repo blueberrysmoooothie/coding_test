{
 "cells": [
  {
   "cell_type": "markdown",
   "metadata": {},
   "source": [
    "추석 트래픽\n",
    "---\n",
    "https://school.programmers.co.kr/learn/courses/30/lessons/17676"
   ]
  },
  {
   "cell_type": "code",
   "execution_count": 71,
   "metadata": {},
   "outputs": [],
   "source": [
    "import re\n",
    "import bisect \n",
    "\n",
    "def solution(lines):\n",
    "    def minus_ns(time,nanosec):\n",
    "        h, m, s, ns = time\n",
    "        nanosec = nanosec-1\n",
    "        if ns-nanosec < 0:\n",
    "            if 1000*s+ns<nanosec:\n",
    "                ns = 60*1000+1000*s+ns-nanosec\n",
    "                if m==0:\n",
    "                    if h==0:\n",
    "                        return [0, 0, 0, 0]\n",
    "                    else:\n",
    "                        return [h-1,59,ns//1000, ns%1000]\n",
    "                else:\n",
    "                    return [h,m-1,ns//1000, ns%1000]\n",
    "            else:\n",
    "                ns = 1000*s+ns-nanosec\n",
    "                return[h,m,ns//1000, ns%1000]\n",
    "        else:\n",
    "            return[h,m,s,ns-nanosec]\n",
    "\n",
    "\n",
    "    def add_trafic(time):\n",
    "        time = tuple(time)\n",
    "        if time in trafic:\n",
    "            trafic[time]+=1\n",
    "        else:\n",
    "            trafic[time]=1\n",
    "        \n",
    " \n",
    "    trafic = {}\n",
    "    stamps = []\n",
    "    for line in lines:\n",
    "        date, stamp, d_time = line.split()\n",
    "        stamp = list(map(int,re.split(r'[:|.]',stamp)))\n",
    "        d_time = re.sub(r'[.|s]','',d_time)\n",
    "        d_time = int(d_time +''.join(['0'for _ in range(4-len(d_time))]))\n",
    "\n",
    "        if not stamps:\n",
    "            stamps.append(stamp)\n",
    "\n",
    "        if stamp==[0,0,0,0]:\n",
    "            if stamps[0] != stamp:\n",
    "                stamps.insert(0, stamp.copy())\n",
    "            add_trafic(stamp.copy())\n",
    "        else:\n",
    "            start = minus_ns(stamp,d_time)\n",
    "            start_ind = bisect.bisect_left(stamps, start)\n",
    "            try:\n",
    "                if stamps[start_ind] != start:\n",
    "                    stamps.insert(start_ind, start)\n",
    "            except:\n",
    "                stamps.insert(start_ind, start)\n",
    "            end_ind = bisect.bisect_left(stamps, stamp)\n",
    "            try:\n",
    "                if stamps[end_ind] != stamp:\n",
    "                    stamps.insert(end_ind, stamp)\n",
    "            except:\n",
    "                stamps.insert(end_ind, stamp)\n",
    "            for ind in range(start_ind, end_ind+1):\n",
    "                add_trafic(stamps[ind])\n",
    "        print(stamps, trafic)\n",
    "\n",
    "    \n"
   ]
  },
  {
   "cell_type": "code",
   "execution_count": 98,
   "metadata": {},
   "outputs": [],
   "source": [
    "import re\n",
    "import bisect \n",
    "\n",
    "def solution(lines):\n",
    "    def minus_ns(time,nanosec):\n",
    "        h, m, s, ns = time\n",
    "        nanosec = nanosec-1\n",
    "        if ns-nanosec < 0:\n",
    "            if 1000*s+ns<nanosec:\n",
    "                ns = 60*1000+1000*s+ns-nanosec\n",
    "                if m==0:\n",
    "                    if h==0:\n",
    "                        return [0, 0, 0, 0]\n",
    "                    else:\n",
    "                        return [h-1,59,ns//1000, ns%1000]\n",
    "                else:\n",
    "                    return [h,m-1,ns//1000, ns%1000]\n",
    "            else:\n",
    "                ns = 1000*s+ns-nanosec\n",
    "                return[h,m,ns//1000, ns%1000]\n",
    "        else:\n",
    "            return[h,m,s,ns-nanosec]\n",
    "\n",
    "\n",
    "    def add_trafic(time,end):\n",
    "        time = tuple(time)\n",
    "        if time not in trafic:\n",
    "            trafic[time]=[0,0]\n",
    "        trafic[time][end]+=1\n",
    "        \n",
    " \n",
    "    trafic = {}\n",
    "    stamps = []\n",
    "    for line in lines:\n",
    "        date, stamp, d_time = line.split()\n",
    "        stamp = list(map(int,re.split(r'[:|.]',stamp)))\n",
    "        d_time = re.sub(r'[.|s]','',d_time)\n",
    "        d_time = int(d_time +''.join(['0'for _ in range(4-len(d_time))]))\n",
    "\n",
    "        if not stamps:\n",
    "            stamps.append(stamp)\n",
    "\n",
    "        # if stamp==[0,0,0,0]:\n",
    "        #     if stamps[0] != stamp:\n",
    "        #         stamps.insert(0, stamp.copy())\n",
    "        #     add_trafic(stamp.copy(),end=False)\n",
    "        #     add_trafic(stamp.copy(),end=True)\n",
    "        # else:\n",
    "        start = minus_ns(stamp,d_time)\n",
    "        start_ind = bisect.bisect_left(stamps, start)\n",
    "        try:\n",
    "            if stamps[start_ind] != start:\n",
    "                stamps.insert(start_ind, start)\n",
    "        except:\n",
    "            stamps.insert(start_ind, start)\n",
    "        end_ind = bisect.bisect_left(stamps, stamp)\n",
    "        try:\n",
    "            if stamps[end_ind] != stamp:\n",
    "                stamps.insert(end_ind, stamp)\n",
    "        except:\n",
    "            stamps.insert(end_ind, stamp)\n",
    "        add_trafic(stamps[start_ind],end=False)\n",
    "        add_trafic(stamps[end_ind],end=True)\n",
    "        # print(stamps, trafic)\n",
    "\n",
    "    max_trafic = 0\n",
    "    queue = []\n",
    "    cur =0\n",
    "    for stamp in stamps:\n",
    "        cur += trafic[tuple(stamp)][0]\n",
    "        l = minus_ns(stamp,1000)\n",
    "        while queue and queue[0] < l:\n",
    "            past_stamp = queue.pop(0)\n",
    "            cur -= trafic[tuple(past_stamp)][1]\n",
    "\n",
    "        if cur > max_trafic:\n",
    "            max_trafic = cur\n",
    "        queue.append(stamp)\n",
    "        # print(queue, cur)\n",
    "\n",
    "    return max_trafic\n",
    "    \n"
   ]
  },
  {
   "cell_type": "code",
   "execution_count": 99,
   "metadata": {},
   "outputs": [
    {
     "data": {
      "text/plain": [
       "2"
      ]
     },
     "execution_count": 99,
     "metadata": {},
     "output_type": "execute_result"
    }
   ],
   "source": [
    "solution([\"2016-09-15 01:00:04.002 2.0s\", \"2016-09-15 01:00:07.000 2s\"])"
   ]
  },
  {
   "cell_type": "code",
   "execution_count": 62,
   "metadata": {},
   "outputs": [
    {
     "data": {
      "text/plain": [
       "[[1, 0, 5, 1], [1, 0, 7, 0]]"
      ]
     },
     "execution_count": 62,
     "metadata": {},
     "output_type": "execute_result"
    }
   ],
   "source": [
    "sorted([[1, 0, 7, 0], [1, 0, 5, 1]])"
   ]
  },
  {
   "cell_type": "code",
   "execution_count": null,
   "metadata": {},
   "outputs": [],
   "source": []
  }
 ],
 "metadata": {
  "kernelspec": {
   "display_name": "Python 3",
   "language": "python",
   "name": "python3"
  },
  "language_info": {
   "codemirror_mode": {
    "name": "ipython",
    "version": 3
   },
   "file_extension": ".py",
   "mimetype": "text/x-python",
   "name": "python",
   "nbconvert_exporter": "python",
   "pygments_lexer": "ipython3",
   "version": "3.11.2"
  },
  "orig_nbformat": 4
 },
 "nbformat": 4,
 "nbformat_minor": 2
}
