{
 "cells": [
  {
   "attachments": {},
   "cell_type": "markdown",
   "metadata": {},
   "source": [
    "단속카메라\n",
    "---\n",
    "https://school.programmers.co.kr/learn/courses/30/lessons/42884"
   ]
  },
  {
   "attachments": {},
   "cell_type": "markdown",
   "metadata": {},
   "source": [
    "01/22\n",
    "- 시작 지점으로 오름차순 정렬하고\n",
    "- 진출 지점에서 하나씩 찍기\n",
    "    - 찍을때 마다 포함하는 차량 체크\n",
    "    - 진출 지점을 작은 지점으로 수정\n",
    "- 이미 체크된 차량은 제외"
   ]
  },
  {
   "cell_type": "code",
   "execution_count": 43,
   "metadata": {},
   "outputs": [],
   "source": [
    "def solution(routes):\n",
    "    answer = 0\n",
    "\n",
    "    routes = sorted(routes, key = lambda x: [x[0],x[1]])\n",
    "    ind, i = 1, 0\n",
    "    l = len(routes)\n",
    "    while i <l:\n",
    "        cur = routes[i][1]\n",
    "        while ind<l:\n",
    "            if routes[ind][0]<=cur:\n",
    "                cur = min(routes[ind][1], cur)\n",
    "                ind+=1\n",
    "            else:\n",
    "                break\n",
    "        answer+=1\n",
    "        i = ind\n",
    "        ind = ind+1\n",
    "        print(cur, i)\n",
    "\n",
    "    print(routes)\n",
    "    return answer"
   ]
  },
  {
   "cell_type": "code",
   "execution_count": 44,
   "metadata": {},
   "outputs": [
    {
     "name": "stdout",
     "output_type": "stream",
     "text": [
      "-13 3\n",
      "-3 4\n",
      "[[-20, 15], [-18, -13], [-14, -5], [-5, -3]]\n"
     ]
    },
    {
     "data": {
      "text/plain": [
       "2"
      ]
     },
     "execution_count": 44,
     "metadata": {},
     "output_type": "execute_result"
    }
   ],
   "source": [
    "solution([[-20,15], [-14,-5], [-18,-13], [-5,-3]])"
   ]
  },
  {
   "cell_type": "code",
   "execution_count": null,
   "metadata": {},
   "outputs": [],
   "source": []
  }
 ],
 "metadata": {
  "kernelspec": {
   "display_name": "Python 3",
   "language": "python",
   "name": "python3"
  },
  "language_info": {
   "codemirror_mode": {
    "name": "ipython",
    "version": 3
   },
   "file_extension": ".py",
   "mimetype": "text/x-python",
   "name": "python",
   "nbconvert_exporter": "python",
   "pygments_lexer": "ipython3",
   "version": "3.10.8"
  },
  "orig_nbformat": 4,
  "vscode": {
   "interpreter": {
    "hash": "1eaddad8910a63e993320c00f976674dd19739aa47ccb16e46e67145212d406a"
   }
  }
 },
 "nbformat": 4,
 "nbformat_minor": 2
}
