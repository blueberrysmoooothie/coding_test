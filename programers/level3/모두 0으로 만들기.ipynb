{
 "cells": [
  {
   "attachments": {},
   "cell_type": "markdown",
   "id": "df1338df",
   "metadata": {},
   "source": [
    "모두 0으로 만들기\n",
    "---\n",
    "https://school.programmers.co.kr/learn/courses/30/lessons/76503"
   ]
  },
  {
   "cell_type": "code",
   "execution_count": 30,
   "id": "799e4a1a",
   "metadata": {},
   "outputs": [],
   "source": [
    "import bisect\n",
    "class Node:\n",
    "    def __init__(self, w) -> None:\n",
    "        self.weight = w\n",
    "        self.connections = []\n",
    "\n",
    "    def show(self):\n",
    "        print(self.weight, ':', self.connections)\n",
    "\n",
    "class Tree:\n",
    "    def __init__(self, a, edges):\n",
    "        self.nodes = [Node(w) for  w in a]\n",
    "\n",
    "        self.L = len(self.nodes)\n",
    "        for ind1, ind2 in edges:\n",
    "            self.nodes[ind1].connections.insert(bisect.bisect_left(self.nodes[ind1].connections,ind2), ind2)\n",
    "            self.nodes[ind2].connections.insert(bisect.bisect_left(self.nodes[ind2].connections,ind1), ind1)\n",
    "\n",
    "        self.one_edges = []\n",
    "        for i in range(self.L):\n",
    "            node = self.nodes[i]\n",
    "            if len(node.connections) ==1:\n",
    "                self.one_edges.append(i)\n",
    "\n",
    "\n",
    "    def cutting(self):\n",
    "        cnt = 0\n",
    "\n",
    "        for i in self.one_edges:\n",
    "\n",
    "            node = self.nodes[i]\n",
    "            n_ind = node.connections.pop()\n",
    "            c_node = self.nodes[n_ind]\n",
    "            c_node.connections.pop(bisect.bisect_left(c_node.connections,i))\n",
    "            c_node.weight+=node.weight\n",
    "            cnt += abs(node.weight)\n",
    "            node.weight = 0\n",
    "            if len(c_node.connections) ==1:\n",
    "                self.one_edges.append(n_ind)\n",
    "            elif len(c_node.connections) ==0:\n",
    "                break\n",
    "            # self.show()\n",
    "            # print()\n",
    "            \n",
    "            \n",
    "        if c_node.weight:\n",
    "            return -1\n",
    "\n",
    "        return cnt\n",
    "\n",
    "    def show(self):\n",
    "        for n in self.nodes:\n",
    "            n.show()\n",
    "\n",
    "def solution(a, edges):\n",
    "\n",
    "    tree = Tree(a, edges)\n",
    "    # tree.show()\n",
    "\n",
    "    \n",
    "    return tree.cutting()"
   ]
  },
  {
   "cell_type": "code",
   "execution_count": 46,
   "id": "181c2e3c",
   "metadata": {},
   "outputs": [],
   "source": [
    "import bisect\n",
    "\n",
    "def solution(a, edges):\n",
    "\n",
    "    nodes = {i:[] for i in range(len(a))}\n",
    "\n",
    "    for ind1, ind2 in edges:\n",
    "        nodes[ind1].insert(bisect.bisect_left(nodes[ind1],ind2), ind2)\n",
    "        nodes[ind2].insert(bisect.bisect_left(nodes[ind2],ind1), ind1)\n",
    "\n",
    "    one_edges = []\n",
    "    for k,v in nodes.items():\n",
    "        if len(v) ==1:\n",
    "            one_edges.append(k)\n",
    "\n",
    "    cnt = 0\n",
    "    for i in one_edges:\n",
    "        n_ind = nodes[i].pop()\n",
    "        nodes[n_ind].pop(bisect.bisect_left(nodes[n_ind],i))\n",
    "        a[n_ind]+=a[i]\n",
    "        cnt += abs(a[i])\n",
    "        a[i] = 0\n",
    "\n",
    "        if len(nodes[n_ind]) ==1:\n",
    "            one_edges.append(n_ind)\n",
    "        elif len(nodes[n_ind]) ==0:\n",
    "            break\n",
    "        \n",
    "    if a[n_ind]:\n",
    "        return -1\n",
    "    return cnt"
   ]
  },
  {
   "cell_type": "code",
   "execution_count": 90,
   "id": "8d57261d",
   "metadata": {},
   "outputs": [],
   "source": [
    "\n",
    "import sys\n",
    "sys.setrecursionlimit(10**6)\n",
    "def solution(a, edges):\n",
    "    def dfs(parent=-1, cur=0):\n",
    "        if len(nodes[cur])==1 and cur !=0:\n",
    "            return a[cur], abs(a[cur])\n",
    "        ans, cnt = 0, 0\n",
    "        for sub_node in nodes[cur]:\n",
    "            if sub_node == parent:\n",
    "                continue\n",
    "            s, c = dfs(parent = cur, cur = sub_node)\n",
    "            ans += s\n",
    "            cnt += c\n",
    "        ans += a[cur]\n",
    "        cnt += abs(ans)\n",
    "        \n",
    "        return ans, cnt\n",
    "            \n",
    "    L = len(a)\n",
    "    nodes = {i:[] for i in range(L)}\n",
    "\n",
    "    for ind1, ind2 in edges:\n",
    "        nodes[ind1].append(ind2)\n",
    "        nodes[ind2].append(ind1)\n",
    "\n",
    "    ans, cnt = dfs()\n",
    "    if ans :\n",
    "        return -1\n",
    "    return cnt"
   ]
  },
  {
   "cell_type": "code",
   "execution_count": 91,
   "id": "04eb6cb0",
   "metadata": {},
   "outputs": [
    {
     "data": {
      "text/plain": [
       "-1"
      ]
     },
     "execution_count": 91,
     "metadata": {},
     "output_type": "execute_result"
    }
   ],
   "source": [
    "solution([0, 1, 0], [[0, 1], [1, 2]])"
   ]
  },
  {
   "cell_type": "code",
   "execution_count": null,
   "id": "c86cc7b9",
   "metadata": {},
   "outputs": [],
   "source": []
  }
 ],
 "metadata": {
  "kernelspec": {
   "display_name": "Python 3 (ipykernel)",
   "language": "python",
   "name": "python3"
  },
  "language_info": {
   "codemirror_mode": {
    "name": "ipython",
    "version": 3
   },
   "file_extension": ".py",
   "mimetype": "text/x-python",
   "name": "python",
   "nbconvert_exporter": "python",
   "pygments_lexer": "ipython3",
   "version": "3.10.8"
  }
 },
 "nbformat": 4,
 "nbformat_minor": 5
}
