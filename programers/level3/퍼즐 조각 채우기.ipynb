{
 "cells": [
  {
   "attachments": {},
   "cell_type": "markdown",
   "metadata": {},
   "source": [
    "#### 퍼즐 조각 채우기\n",
    "---\n",
    "https://school.programmers.co.kr/learn/courses/30/lessons/84021"
   ]
  },
  {
   "attachments": {},
   "cell_type": "markdown",
   "metadata": {},
   "source": [
    "1. 조각 찾기\n",
    "    기본 방향으로 조각을 찾고 인덱싱?\n",
    "2. 회전한 3개의 방향의 조각 모양을 저장\n",
    "\n",
    "3. 보드에서 빈공간의 모양을 감지하고 일치하는 조각이 있는지 확인\n",
    "\n"
   ]
  },
  {
   "cell_type": "code",
   "execution_count": 51,
   "metadata": {},
   "outputs": [],
   "source": [
    "[False,False,False,False] # 상, 우, 하, 좌\n",
    "class Block:\n",
    "    def __init__(self):\n",
    "        self.nodes = []\n",
    "\n",
    "def solution(game_board, table):\n",
    "    def turn_2D():\n",
    "        result = [[0 for j in range(N+2)] for i in range(N+2)]\n",
    "        for i in range(1,N+1):\n",
    "            for j in range(1,N+1):\n",
    "                if table[i][j]:\n",
    "                    result[j][N+1-i] = table[i][j]\n",
    "\n",
    "        return result\n",
    "\n",
    "    def find_block(block_ind, i,j, setup = False):\n",
    "        block = Block()\n",
    "        queue = [[i,j]]\n",
    "        for i,j in queue:\n",
    "            if visited[i][j]:\n",
    "                continue\n",
    "            if setup:\n",
    "                table[i][j] = block_ind\n",
    "            visited[i][j] = 1\n",
    "            connected = [False,False,False,False]\n",
    "\n",
    "            if table[i-1][j]:\n",
    "                queue.append([i-1,j])\n",
    "                connected[0] = True\n",
    "            if table[i][j-1]:\n",
    "                queue.append([i,j-1])\n",
    "                connected[3] = True\n",
    "            if table[i+1][j]:\n",
    "                queue.append([i+1,j])\n",
    "                connected[2] = True\n",
    "            if table[i][j+1]:\n",
    "                queue.append([i,j+1])\n",
    "                connected[1] = True\n",
    "\n",
    "            block.nodes.append(connected)\n",
    "        \n",
    "        if block_ind in block_dict:\n",
    "            block_dict[block_ind][0].append(block)\n",
    "        else:\n",
    "            block_dict[block_ind] = [[block],len((block.nodes))]\n",
    "\n",
    "    def check_board( i,j):\n",
    "        block = Block()\n",
    "        queue = [[i,j]]\n",
    "        for i,j in queue:\n",
    "            if visited[i][j]:\n",
    "                continue\n",
    "            visited[i][j] = 1\n",
    "            connected = [False,False,False,False]\n",
    "\n",
    "            if not game_board[i-1][j]:\n",
    "                queue.append([i-1,j])\n",
    "                connected[0] = True\n",
    "            if not game_board[i][j-1]:\n",
    "                queue.append([i,j-1])\n",
    "                connected[3] = True\n",
    "            if not game_board[i+1][j]:\n",
    "                queue.append([i+1,j])\n",
    "                connected[2] = True\n",
    "            if not game_board[i][j+1]:\n",
    "                queue.append([i,j+1])\n",
    "                connected[1] = True\n",
    "\n",
    "            block.nodes.append(connected)\n",
    "\n",
    "        # print(block.nodes)\n",
    "        for k, v in block_dict.items():\n",
    "            if len(block.nodes) == v[1]:\n",
    "                for b in v[0]:\n",
    "                    if block.nodes == b.nodes:\n",
    "                        del block_dict[k]\n",
    "                        \n",
    "                        return v[1]\n",
    "        return 0\n",
    "\n",
    "    N = len(table)\n",
    "    table = [[0]*(N+2)]+ [[0] + t +[0] for t in table] +[[0]*(N+2)]\n",
    "    game_board = [[1]*(N+2)]+ [[1] + t +[1] for t in game_board] +[[1]*(N+2)]\n",
    "\n",
    "\n",
    "    visited = [[0 for j in range(N+2)] for i in range(N+2)]\n",
    "    block_dict = {}\n",
    "    block_ind= 2\n",
    "    for i in range(1,N+1):\n",
    "        for j in range(1,N+1):\n",
    "            if visited[i][j] or not table[i][j]:\n",
    "                continue\n",
    "\n",
    "            find_block(block_ind, i,j, setup = True)\n",
    "            block_ind+=1\n",
    "\n",
    "\n",
    "    for i in range(3):\n",
    "        table = turn_2D()\n",
    "        visited = [[0 for j in range(N+2)] for i in range(N+2)]\n",
    "        for i in range(1,N+1):\n",
    "            for j in range(1,N+1):\n",
    "                if visited[i][j] or not table[i][j]:\n",
    "                    continue\n",
    "                block_ind = table[i][j]\n",
    "\n",
    "                find_block(block_ind, i,j)\n",
    "\n",
    "    # for t in table:\n",
    "    #     print(t)\n",
    "\n",
    "    # for k, v in block_dict.items():\n",
    "    #     print( k, len(v[0]),v[1])\n",
    "\n",
    "    # for n in block_dict[2]:\n",
    "    #     print(n[0].nodes)\n",
    "\n",
    "    \n",
    "    answer = 0\n",
    "    visited = [[0 for j in range(N+2)] for i in range(N+2)]\n",
    "    for i in range(1,N+1):\n",
    "        for j in range(1,N+1):\n",
    "            if visited[i][j] or game_board[i][j]:\n",
    "                continue\n",
    "            answer+=check_board(i,j)\n",
    "\n",
    "\n",
    "\n",
    "    return answer"
   ]
  },
  {
   "cell_type": "code",
   "execution_count": 52,
   "metadata": {},
   "outputs": [
    {
     "name": "stdout",
     "output_type": "stream",
     "text": [
      "3\n",
      "2\n",
      "5\n",
      "4\n"
     ]
    },
    {
     "data": {
      "text/plain": [
       "14"
      ]
     },
     "execution_count": 52,
     "metadata": {},
     "output_type": "execute_result"
    }
   ],
   "source": [
    "solution(\t[[1, 1, 0, 0, 1, 0], [0, 0, 1, 0, 1, 0], [0, 1, 1, 0, 0, 1], [1, 1, 0, 1, 1, 1], [1, 0, 0, 0, 1, 0], [0, 1, 1, 1, 0, 0]], [[1, 0, 0, 1, 1, 0], [1, 0, 1, 0, 1, 0], [0, 1, 1, 0, 1, 1], [0, 0, 1, 0, 0, 0], [1, 1, 0, 1, 1, 0], [0, 1, 0, 0, 0, 0]])"
   ]
  },
  {
   "cell_type": "code",
   "execution_count": 20,
   "metadata": {},
   "outputs": [
    {
     "name": "stdout",
     "output_type": "stream",
     "text": [
      "[0, 0, 0, 0, 0, 0, 0, 0]\n",
      "[0, 0, 5, 0, 0, 2, 2, 0]\n",
      "[0, 5, 5, 0, 4, 0, 0, 0]\n",
      "[0, 0, 0, 4, 4, 4, 0, 0]\n",
      "[0, 0, 6, 0, 0, 0, 3, 0]\n",
      "[0, 0, 6, 0, 3, 3, 3, 0]\n",
      "[0, 0, 0, 0, 3, 0, 0, 0]\n",
      "[0, 0, 0, 0, 0, 0, 0, 0]\n"
     ]
    }
   ],
   "source": [
    "table = [[0, 0, 0, 0, 0, 0, 0, 0],\n",
    "[0, 2, 0, 0, 3, 3, 0, 0],\n",
    "[0, 2, 0, 4, 0, 3, 0, 0],\n",
    "[0, 0, 4, 4, 0, 3, 3, 0],\n",
    "[0, 0, 0, 4, 0, 0, 0, 0],\n",
    "[0, 5, 5, 0, 6, 6, 0, 0],\n",
    "[0, 0, 5, 0, 0, 0, 0, 0],\n",
    "[0, 0, 0, 0, 0, 0, 0, 0]]\n",
    "N = len(table)-2\n",
    "def turn_2D():\n",
    "    result = [[0 for j in range(N+2)] for i in range(N+2)]\n",
    "    for i in range(1,N+1):\n",
    "        for j in range(1,N+1):\n",
    "            if table[i][j]:\n",
    "                result[j][N+1-i] = table[i][j]\n",
    "\n",
    "    return result\n",
    "\n",
    "turn_2D()\n",
    "\n",
    "    \n",
    "\n"
   ]
  },
  {
   "cell_type": "code",
   "execution_count": null,
   "metadata": {},
   "outputs": [],
   "source": []
  }
 ],
 "metadata": {
  "kernelspec": {
   "display_name": "Python 3",
   "language": "python",
   "name": "python3"
  },
  "language_info": {
   "codemirror_mode": {
    "name": "ipython",
    "version": 3
   },
   "file_extension": ".py",
   "mimetype": "text/x-python",
   "name": "python",
   "nbconvert_exporter": "python",
   "pygments_lexer": "ipython3",
   "version": "3.10.11"
  },
  "orig_nbformat": 4
 },
 "nbformat": 4,
 "nbformat_minor": 2
}
