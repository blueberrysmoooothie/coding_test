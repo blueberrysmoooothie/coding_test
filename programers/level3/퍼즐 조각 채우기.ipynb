{
 "cells": [
  {
   "attachments": {},
   "cell_type": "markdown",
   "metadata": {},
   "source": [
    "#### 퍼즐 조각 채우기\n",
    "---\n",
    "https://school.programmers.co.kr/learn/courses/30/lessons/84021"
   ]
  },
  {
   "cell_type": "code",
   "execution_count": null,
   "metadata": {},
   "outputs": [],
   "source": [
    "def solution(game_board, table):\n",
    "    answer = -1\n",
    "    return answer"
   ]
  }
 ],
 "metadata": {
  "language_info": {
   "name": "python"
  },
  "orig_nbformat": 4
 },
 "nbformat": 4,
 "nbformat_minor": 2
}
