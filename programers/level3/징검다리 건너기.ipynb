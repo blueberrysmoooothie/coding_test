{
 "cells": [
  {
   "attachments": {},
   "cell_type": "markdown",
   "metadata": {},
   "source": [
    "징검다리 건너기\n",
    "---\n",
    "https://school.programmers.co.kr/learn/courses/30/lessons/64062"
   ]
  },
  {
   "cell_type": "code",
   "execution_count": null,
   "metadata": {},
   "outputs": [],
   "source": [
    "def solution(stones, k):\n",
    "    answer = 0\n",
    "    l = len(stones)\n",
    "    \n",
    "    num = 0\n",
    "    while True:\n",
    "        num+=1\n",
    "        cnt = 0\n",
    "        for s in stones:\n",
    "            if s<=0:\n",
    "                cnt+=1\n",
    "            else:\n",
    "                cnt =0\n",
    "            if cnt >= k:\n",
    "                return num-1\n",
    "            \n",
    "        for i in range(l):\n",
    "            stones[i]-=1    \n",
    "        \n",
    "        "
   ]
  },
  {
   "cell_type": "code",
   "execution_count": 17,
   "metadata": {},
   "outputs": [],
   "source": [
    "def solution(stones, k):\n",
    "    answer = 0\n",
    "    l = len(stones)\n",
    "    max_ = max(stones[:k])\n",
    "    for i in range(1, l-k+1):\n",
    "        max_ = min(max_, max(stones[i:i+k]))\n",
    "    return max_\n"
   ]
  },
  {
   "cell_type": "code",
   "execution_count": 25,
   "metadata": {},
   "outputs": [],
   "source": [
    "from collections import deque\n",
    "def solution(stones, k):\n",
    "    answer = 0\n",
    "    l = len(stones)\n",
    "    s = deque(stones[:k])\n",
    "    max_ = max(s)\n",
    "    for stone in stones[k:]:\n",
    "        s.popleft()\n",
    "        s.append(stone)\n",
    "        max_ = min(max_, max(s))\n",
    "    return max_\n"
   ]
  },
  {
   "cell_type": "code",
   "execution_count": 82,
   "metadata": {},
   "outputs": [],
   "source": [
    "from collections import deque\n",
    "def solution(stones, k):\n",
    "    answer = max(stones)\n",
    "    l = len(stones)\n",
    "    stones = list(zip(range(l), stones))\n",
    "    s = deque()\n",
    "\n",
    "    for ind, stone in stones:\n",
    "\n",
    "        while len(s) and s[-1][1]<=stone:\n",
    "            s.pop()\n",
    "            \n",
    "        if len(s) and s[0][0]<=ind-k:\n",
    "            s.popleft()\n",
    "\n",
    "        s.append([ind,stone])\n",
    "        if ind>=k-1:\n",
    "            answer = min(answer, s[0][1])\n",
    "\n",
    "    return answer\n"
   ]
  },
  {
   "cell_type": "code",
   "execution_count": 83,
   "metadata": {},
   "outputs": [
    {
     "data": {
      "text/plain": [
       "9"
      ]
     },
     "execution_count": 83,
     "metadata": {},
     "output_type": "execute_result"
    }
   ],
   "source": [
    "solution(\t[ 9, 8, 7,6, 6], 5)"
   ]
  },
  {
   "cell_type": "code",
   "execution_count": null,
   "metadata": {},
   "outputs": [],
   "source": []
  }
 ],
 "metadata": {
  "kernelspec": {
   "display_name": "Python 3",
   "language": "python",
   "name": "python3"
  },
  "language_info": {
   "codemirror_mode": {
    "name": "ipython",
    "version": 3
   },
   "file_extension": ".py",
   "mimetype": "text/x-python",
   "name": "python",
   "nbconvert_exporter": "python",
   "pygments_lexer": "ipython3",
   "version": "3.10.8"
  },
  "orig_nbformat": 4,
  "vscode": {
   "interpreter": {
    "hash": "1eaddad8910a63e993320c00f976674dd19739aa47ccb16e46e67145212d406a"
   }
  }
 },
 "nbformat": 4,
 "nbformat_minor": 2
}
