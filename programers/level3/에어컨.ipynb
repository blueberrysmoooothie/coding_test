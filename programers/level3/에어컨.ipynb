{
 "cells": [
  {
   "cell_type": "markdown",
   "metadata": {},
   "source": [
    "에어컨\n",
    "---\n",
    "https://school.programmers.co.kr/learn/courses/30/lessons/214289"
   ]
  },
  {
   "cell_type": "code",
   "execution_count": 51,
   "metadata": {},
   "outputs": [],
   "source": [
    "def solution(temperature, t1, t2, a, b, onboard):\n",
    "    dp = [{} for i in range(len(onboard))]\n",
    "    if onboard[0]:\n",
    "        max_ = t2\n",
    "        min_ = t1\n",
    "    else:\n",
    "        max_ = max(temperature,t2)\n",
    "        min_ = min(temperature, t1)\n",
    "\n",
    "    dp[0][temperature] = 0\n",
    "\n",
    "    if temperature>min_:\n",
    "        dp[0][temperature-1] = a\n",
    "    \n",
    "    if temperature<max_:\n",
    "        dp[0][temperature+1] = a\n",
    "\n",
    "    for m in range(1, len(onboard)):\n",
    "        if onboard[m]:\n",
    "            max_ = t2\n",
    "            min_ = t1\n",
    "        else:\n",
    "            max_ = max(temperature,t2)\n",
    "            min_ = min(temperature, t1)\n",
    "        for k in dp[m-1].keys():\n",
    "\n",
    "            if k>=min_ and k<=max_:\n",
    "\n",
    "                if k not in dp[m]:\n",
    "                    dp[m][k] = dp[m-1][k]+100\n",
    "                if k == temperature:\n",
    "                    dp[m][k] = min(dp[m][k],dp[m-1][k])\n",
    "                else:\n",
    "                    dp[m][k] = min(dp[m-1][k]+b, dp[m][k])\n",
    "\n",
    "            if k-1>=min_ and k-1<=max_:\n",
    "                \n",
    "                if k-1 not in dp[m]:\n",
    "                    dp[m][k-1] = dp[m-1][k]+100\n",
    "                if temperature <k:\n",
    "                    dp[m][k-1] = min(dp[m][k-1], dp[m-1][k])\n",
    "                else:\n",
    "                    dp[m][k-1] = min(dp[m-1][k]+a, dp[m][k-1])\n",
    "\n",
    "            if k+1>=min_ and k+1<=max_:\n",
    "                if k+1 not in dp[m]:\n",
    "                    dp[m][k+1] = dp[m-1][k]+100\n",
    "                if temperature >k:\n",
    "                    dp[m][k+1] = min(dp[m][k+1], dp[m-1][k])\n",
    "                else:\n",
    "                    dp[m][k+1] = min(dp[m-1][k]+a, dp[m][k+1])\n",
    "\n",
    "    answer = min(dp[-1].values())\n",
    "    return answer"
   ]
  },
  {
   "cell_type": "code",
   "execution_count": 52,
   "metadata": {},
   "outputs": [
    {
     "data": {
      "text/plain": [
       "20"
      ]
     },
     "execution_count": 52,
     "metadata": {},
     "output_type": "execute_result"
    }
   ],
   "source": [
    "solution(11, 8, 10, 10, 1, [0, 1, 1, 1, 1, 1, 1, 0, 0, 0, 1, 1])"
   ]
  },
  {
   "cell_type": "code",
   "execution_count": null,
   "metadata": {},
   "outputs": [],
   "source": []
  }
 ],
 "metadata": {
  "kernelspec": {
   "display_name": "Python 3",
   "language": "python",
   "name": "python3"
  },
  "language_info": {
   "codemirror_mode": {
    "name": "ipython",
    "version": 3
   },
   "file_extension": ".py",
   "mimetype": "text/x-python",
   "name": "python",
   "nbconvert_exporter": "python",
   "pygments_lexer": "ipython3",
   "version": "3.10.11"
  },
  "orig_nbformat": 4
 },
 "nbformat": 4,
 "nbformat_minor": 2
}
