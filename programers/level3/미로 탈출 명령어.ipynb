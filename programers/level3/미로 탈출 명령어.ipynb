{
 "cells": [
  {
   "cell_type": "markdown",
   "metadata": {},
   "source": [
    "미로탈출 명령어\n",
    "---\n",
    "https://school.programmers.co.kr/learn/courses/30/lessons/150365"
   ]
  },
  {
   "cell_type": "code",
   "execution_count": 3,
   "metadata": {},
   "outputs": [
    {
     "data": {
      "text/plain": [
       "['dl', 'dr', 'du', 'ld', 'lr', 'lu', 'rd', 'rl', 'ru', 'ud', 'ul', 'ur']"
      ]
     },
     "execution_count": 3,
     "metadata": {},
     "output_type": "execute_result"
    }
   ],
   "source": [
    "l = ['d', 'l', 'r', 'u']\n",
    "sorted([d+a for d in l for a in l if d!=a])"
   ]
  },
  {
   "cell_type": "code",
   "execution_count": 32,
   "metadata": {},
   "outputs": [],
   "source": [
    "def solution(n, m, x, y, r, c, k):\n",
    "    diff = abs(r-x) +abs(c-y)\n",
    "    rep = (k-diff)//2\n",
    "    if diff> k or diff %2 != k%2:\n",
    "        return 'impossible'\n",
    "    \n",
    "\n",
    "    answer = ''\n",
    "    while x<r:\n",
    "        answer +='d'\n",
    "        x+=1\n",
    "    reps = []\n",
    "    if x<n:\n",
    "        while rep:\n",
    "            for i in range(min(n-x, rep)):\n",
    "                reps.insert(0,'d')\n",
    "                reps.append('u')\n",
    "            rep = max(rep- (n-x), 0)\n",
    "    answer += ''.join(reps)\n",
    "\n",
    "\n",
    "    reps = []\n",
    "    while y>c:\n",
    "        answer +='l'\n",
    "        y-=1\n",
    "    if y>1:\n",
    "        while rep:\n",
    "            for i in range(min(y-1, rep)):\n",
    "                reps.insert(0,'l')\n",
    "                reps.append('r')\n",
    "            rep = max(rep- (y-1), 0)\n",
    "    answer += ''.join(reps)\n",
    "    \n",
    "\n",
    "    reps = []\n",
    "    while x>r:\n",
    "        answer +='u'\n",
    "        x-=1\n",
    "    if y<m:\n",
    "        while rep:\n",
    "            for i in range(min(m-y, rep)):\n",
    "                reps.insert(0,'r')\n",
    "                reps.append('l')\n",
    "            rep = max(rep- (m-y), 0)\n",
    "    answer += ''.join(reps)\n",
    "    \n",
    "\n",
    "    while y<c:\n",
    "        answer +='r'\n",
    "        y+=1\n",
    "    reps = []\n",
    "    if x>1:\n",
    "        while rep:\n",
    "            for i in range(min(x-1, rep)):\n",
    "                reps.insert(0,'u')\n",
    "                reps.append('d')\n",
    "            rep = max(rep- (x-1), 0)\n",
    "    answer += ''.join(reps)\n",
    "\n",
    "\n",
    "\n",
    "    return answer"
   ]
  },
  {
   "cell_type": "code",
   "execution_count": 36,
   "metadata": {},
   "outputs": [],
   "source": [
    "from collections import deque \n",
    "def solution(n, m, x, y, r, c, k):\n",
    "    answer = ''\n",
    "    q = deque([(x,y, '', 0)])\n",
    "    dt = [(1,0,'d'),(0,-1,'l'),(0,1,'r'),(-1,0,'u')]\n",
    "\n",
    "    while q:\n",
    "        x, y, path, cnt = q.popleft()\n",
    "        if (x,y) == (r,c) and (k-cnt) %2 ==1:\n",
    "            return 'impossible'\n",
    "        if (x,y) == (r,c) and k == cnt:\n",
    "            return path\n",
    "        \n",
    "        for i in range(4):\n",
    "            dx, dy, direct = dt[i]\n",
    "            nx, ny = x+dx, y+dy\n",
    "            if nx <=0 or nx>n or ny<=0 or ny>m:\n",
    "                continue\n",
    "            if abs(nx-r)+abs(ny-c)+cnt +1>k:\n",
    "                continue\n",
    "            q.append((nx,ny, path+ direct, cnt+1))\n",
    "            break\n",
    "\n",
    "    return 'impossible'\n"
   ]
  },
  {
   "cell_type": "code",
   "execution_count": 37,
   "metadata": {},
   "outputs": [
    {
     "ename": "ValueError",
     "evalue": "not enough values to unpack (expected 3, got 2)",
     "output_type": "error",
     "traceback": [
      "\u001b[1;31m---------------------------------------------------------------------------\u001b[0m",
      "\u001b[1;31mValueError\u001b[0m                                Traceback (most recent call last)",
      "Cell \u001b[1;32mIn[37], line 1\u001b[0m\n\u001b[1;32m----> 1\u001b[0m solution(\u001b[39m6\u001b[39;49m, \u001b[39m6\u001b[39;49m, \u001b[39m3\u001b[39;49m, \u001b[39m3\u001b[39;49m, \u001b[39m1\u001b[39;49m, \u001b[39m1\u001b[39;49m, \u001b[39m12\u001b[39;49m)\n",
      "Cell \u001b[1;32mIn[36], line 15\u001b[0m, in \u001b[0;36msolution\u001b[1;34m(n, m, x, y, r, c, k)\u001b[0m\n\u001b[0;32m     12\u001b[0m     \u001b[39mreturn\u001b[39;00m path\n\u001b[0;32m     14\u001b[0m \u001b[39mfor\u001b[39;00m i \u001b[39min\u001b[39;00m \u001b[39mrange\u001b[39m(\u001b[39m4\u001b[39m):\n\u001b[1;32m---> 15\u001b[0m     dx, dy, direct \u001b[39m=\u001b[39m dt[i]\n\u001b[0;32m     16\u001b[0m     nx, ny \u001b[39m=\u001b[39m x\u001b[39m+\u001b[39mdx, y\u001b[39m+\u001b[39mdy\n\u001b[0;32m     17\u001b[0m     \u001b[39mif\u001b[39;00m nx \u001b[39m<\u001b[39m\u001b[39m=\u001b[39m\u001b[39m0\u001b[39m \u001b[39mor\u001b[39;00m nx\u001b[39m>\u001b[39mn \u001b[39mor\u001b[39;00m ny\u001b[39m<\u001b[39m\u001b[39m=\u001b[39m\u001b[39m0\u001b[39m \u001b[39mor\u001b[39;00m ny\u001b[39m>\u001b[39mm:\n",
      "\u001b[1;31mValueError\u001b[0m: not enough values to unpack (expected 3, got 2)"
     ]
    }
   ],
   "source": [
    "solution(6, 6, 3, 3, 1, 1, 12)"
   ]
  },
  {
   "cell_type": "code",
   "execution_count": null,
   "metadata": {},
   "outputs": [],
   "source": []
  }
 ],
 "metadata": {
  "kernelspec": {
   "display_name": "Python 3",
   "language": "python",
   "name": "python3"
  },
  "language_info": {
   "codemirror_mode": {
    "name": "ipython",
    "version": 3
   },
   "file_extension": ".py",
   "mimetype": "text/x-python",
   "name": "python",
   "nbconvert_exporter": "python",
   "pygments_lexer": "ipython3",
   "version": "3.11.2"
  },
  "orig_nbformat": 4
 },
 "nbformat": 4,
 "nbformat_minor": 2
}
