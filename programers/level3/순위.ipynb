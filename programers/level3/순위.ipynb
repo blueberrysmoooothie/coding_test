{
 "cells": [
  {
   "cell_type": "markdown",
   "metadata": {},
   "source": [
    "순위\n",
    "---\n",
    "https://school.programmers.co.kr/learn/courses/30/lessons/49191"
   ]
  },
  {
   "cell_type": "code",
   "execution_count": 1,
   "metadata": {},
   "outputs": [],
   "source": [
    "def solution(n, results):\n",
    "    result = {i:[0,0] for i in range(1,n+1)}\n",
    "    for r in results:\n",
    "        result[r[0]][0]+=1\n",
    "        result[r[1]][1]+=1\n",
    "    rank = sorted(result.items(), key = lambda x:[-x[1][0], x[1][1]])\n",
    "    \n",
    "    conf = [1 if sum(player[1]) == n-1 else 0 for player in rank]\n",
    "    if conf[1]:\n",
    "        conf[0]=1\n",
    "    if conf[-2]:\n",
    "        conf[-1]=1\n",
    "    for i in range(1, n-1):\n",
    "        if conf[i-1] and conf[i+1]:\n",
    "            conf[i]=1\n",
    "    return sum(conf)"
   ]
  },
  {
   "cell_type": "code",
   "execution_count": 18,
   "metadata": {},
   "outputs": [],
   "source": [
    "def solution(n, results):\n",
    "    result = {i:[[],[]] for i in range(1,n+1)}\n",
    "    for r in results:\n",
    "        result[r[0]][1].append(r[1])\n",
    "        result[r[1]][0].append(r[0])\n",
    "\n",
    "    answer = 0\n",
    "    for i in range(1, n+1):\n",
    "        up = [p for p in result[i][0]]\n",
    "        for p in up:\n",
    "            for pp in result[p][0]:\n",
    "                if pp not in up:\n",
    "                    up.append(pp)\n",
    "\n",
    "        down = [p for p in result[i][1]]\n",
    "        for p in down:\n",
    "            for pp in result[p][1]:\n",
    "                if pp not in down:\n",
    "                    down.append(pp)\n",
    "\n",
    "        if len(up)+ len(down) ==n-1:\n",
    "            answer +=1\n",
    "\n",
    "    return answer\n"
   ]
  },
  {
   "cell_type": "code",
   "execution_count": 19,
   "metadata": {},
   "outputs": [
    {
     "name": "stdout",
     "output_type": "stream",
     "text": [
      "2\n"
     ]
    }
   ],
   "source": [
    "solution(\t5, [[4, 3], [4, 2], [3, 2], [1, 2], [2, 5]])"
   ]
  },
  {
   "cell_type": "code",
   "execution_count": null,
   "metadata": {},
   "outputs": [],
   "source": []
  }
 ],
 "metadata": {
  "kernelspec": {
   "display_name": "Python 3",
   "language": "python",
   "name": "python3"
  },
  "language_info": {
   "codemirror_mode": {
    "name": "ipython",
    "version": 3
   },
   "file_extension": ".py",
   "mimetype": "text/x-python",
   "name": "python",
   "nbconvert_exporter": "python",
   "pygments_lexer": "ipython3",
   "version": "3.10.8"
  },
  "orig_nbformat": 4,
  "vscode": {
   "interpreter": {
    "hash": "1eaddad8910a63e993320c00f976674dd19739aa47ccb16e46e67145212d406a"
   }
  }
 },
 "nbformat": 4,
 "nbformat_minor": 2
}
