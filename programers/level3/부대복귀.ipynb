{
 "cells": [
  {
   "attachments": {},
   "cell_type": "markdown",
   "metadata": {},
   "source": [
    "부대복귀\n",
    "---\n",
    "https://school.programmers.co.kr/learn/courses/30/lessons/132266"
   ]
  },
  {
   "cell_type": "code",
   "execution_count": 14,
   "metadata": {},
   "outputs": [],
   "source": [
    "def solution(n, roads, sources, destination):\n",
    "    map_ = [[0 if i ==j else -1 for i in range(n)] for j in range(n)]\n",
    "    for a, b in roads:\n",
    "        map_[a-1][b-1] = 1\n",
    "        map_[b-1][a-1] = 1\n",
    "\n",
    "\n",
    "    for k in range(n):\n",
    "        for i in range(n):\n",
    "            for j in range(n):\n",
    "                if map_[i][k] != -1 and map_[k][j] != -1:\n",
    "                    if map_[i][j] == -1:\n",
    "                        map_[i][j] = map_[i][k]+map_[k][j]\n",
    "                    else:\n",
    "                        map_[i][j] = min(map_[i][j], map_[i][k]+map_[k][j])\n",
    "\n",
    "\n",
    "    # for m in map_:\n",
    "    #     print(m)\n",
    "    answer = [map_[destination-1][i-1] for i in sources]\n",
    "    return answer"
   ]
  },
  {
   "cell_type": "code",
   "execution_count": 60,
   "metadata": {},
   "outputs": [],
   "source": [
    "def solution(n, roads, sources, destination):\n",
    "\n",
    "    def bfs():\n",
    "\n",
    "        to_visit=[[destination, 0]]\n",
    "        for node, count in to_visit:\n",
    "            if node in visited:\n",
    "                continue\n",
    "            if node in sources:\n",
    "                answer[node] = count\n",
    "            visited.append(node)\n",
    "            for sub_node in edges[node]:\n",
    "                to_visit.append([sub_node, count+1])\n",
    "\n",
    "\n",
    "    \n",
    "    edges = {i:[] for i in range(1, n+1)}\n",
    "    for a, b in roads:\n",
    "        edges[a].append(b)\n",
    "        edges[b].append(a)\n",
    "\n",
    "    visited=[]\n",
    "    answer = {s: -1 for s in sources}\n",
    "    bfs()\n",
    "\n",
    "    return list(answer.values())"
   ]
  },
  {
   "cell_type": "code",
   "execution_count": 73,
   "metadata": {},
   "outputs": [],
   "source": [
    "def solution(n, roads, sources, destination):\n",
    "\n",
    "    def bfs():\n",
    "        end_flg, i = len(sources), 0\n",
    "        to_visit=[[destination, 0]]\n",
    "        while len(to_visit) and i!= end_flg:\n",
    "\n",
    "            node, count = to_visit.pop(0)\n",
    "            if node in visited:\n",
    "                continue\n",
    "            # print(node, count, to_visit, visited)\n",
    "            if node in sources:\n",
    "                i+=1\n",
    "                answer[node] = count\n",
    "            visited.append(node)\n",
    "            for sub_node in edges[node]:\n",
    "                if sub_node in visited:\n",
    "                    continue\n",
    "                to_visit.append([sub_node, count+1])\n",
    "\n",
    "\n",
    "    \n",
    "    edges = {i:[] for i in range(1, n+1)}\n",
    "    for a, b in roads:\n",
    "        edges[a].append(b)\n",
    "        edges[b].append(a)\n",
    "\n",
    "    visited=[]\n",
    "    answer = {s: -1 for s in sources}\n",
    "    bfs()\n",
    "\n",
    "    return list(answer.values())"
   ]
  },
  {
   "cell_type": "code",
   "execution_count": 83,
   "metadata": {},
   "outputs": [],
   "source": [
    "def solution(n, roads, sources, destination):\n",
    "\n",
    "    def bfs():\n",
    "        to_visit=[destination]\n",
    "        while len(to_visit):\n",
    "            node = to_visit.pop(0)\n",
    "            for sub_node in edges[node]:\n",
    "                if visited[sub_node-1] !=-1:\n",
    "                    continue\n",
    "                visited[sub_node-1] = visited[node-1]+1\n",
    "                to_visit.append(sub_node)\n",
    "\n",
    "    \n",
    "    edges = {i:[] for i in range(1, n+1)}\n",
    "    for a, b in roads:\n",
    "        edges[a].append(b)\n",
    "        edges[b].append(a)\n",
    "\n",
    "    visited=[0 if i == destination else -1  for i in range(1, n+1)]\n",
    "    bfs()\n",
    "\n",
    "    return [visited[s-1] for s in sources]"
   ]
  },
  {
   "cell_type": "code",
   "execution_count": 84,
   "metadata": {},
   "outputs": [
    {
     "data": {
      "text/plain": [
       "[2, -1, 0]"
      ]
     },
     "execution_count": 84,
     "metadata": {},
     "output_type": "execute_result"
    }
   ],
   "source": [
    "solution(5, [[1, 2], [1, 4], [2, 4], [2, 5], [4, 5]], [1, 3, 5], 5)"
   ]
  },
  {
   "cell_type": "markdown",
   "metadata": {},
   "source": []
  },
  {
   "cell_type": "code",
   "execution_count": null,
   "metadata": {},
   "outputs": [],
   "source": []
  },
  {
   "cell_type": "code",
   "execution_count": null,
   "metadata": {},
   "outputs": [],
   "source": []
  }
 ],
 "metadata": {
  "kernelspec": {
   "display_name": "Python 3",
   "language": "python",
   "name": "python3"
  },
  "language_info": {
   "codemirror_mode": {
    "name": "ipython",
    "version": 3
   },
   "file_extension": ".py",
   "mimetype": "text/x-python",
   "name": "python",
   "nbconvert_exporter": "python",
   "pygments_lexer": "ipython3",
   "version": "3.10.8"
  },
  "orig_nbformat": 4,
  "vscode": {
   "interpreter": {
    "hash": "1eaddad8910a63e993320c00f976674dd19739aa47ccb16e46e67145212d406a"
   }
  }
 },
 "nbformat": 4,
 "nbformat_minor": 2
}
