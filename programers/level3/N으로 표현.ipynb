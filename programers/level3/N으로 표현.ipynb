{
 "cells": [
  {
   "attachments": {},
   "cell_type": "markdown",
   "metadata": {},
   "source": [
    "N으로 표현\n",
    "---\n",
    "https://school.programmers.co.kr/learn/courses/30/lessons/42895"
   ]
  },
  {
   "cell_type": "code",
   "execution_count": 1,
   "metadata": {},
   "outputs": [],
   "source": [
    "def solution(N, number):\n",
    "    def calc(A, B):\n",
    "        s = set()\n",
    "        for a in A:\n",
    "            for b in B:\n",
    "                s.add(a+b)\n",
    "                s.add(a-b)\n",
    "                s.add(a*b)\n",
    "                if b:\n",
    "                    s.add(a/b)\n",
    "        return s\n",
    "    if N == number:\n",
    "        return 1\n",
    "    answer = 2\n",
    "    dic = {1:set([N])}\n",
    "\n",
    "    for answer in range(2, 9):\n",
    "        s = set([N*int('1'*answer)])\n",
    "        for i in range(1,answer):\n",
    "            s = s | calc(dic[i], dic[answer-i])\n",
    "        dic[answer] = s\n",
    "\n",
    "        if number in s:\n",
    "            return answer\n",
    "    \n",
    "    \n",
    "    return -1\n"
   ]
  },
  {
   "cell_type": "code",
   "execution_count": 3,
   "metadata": {},
   "outputs": [
    {
     "data": {
      "text/plain": [
       "-1"
      ]
     },
     "execution_count": 3,
     "metadata": {},
     "output_type": "execute_result"
    }
   ],
   "source": [
    "solution(\t5, 31168)"
   ]
  },
  {
   "cell_type": "code",
   "execution_count": null,
   "metadata": {},
   "outputs": [],
   "source": []
  }
 ],
 "metadata": {
  "kernelspec": {
   "display_name": "Python 3",
   "language": "python",
   "name": "python3"
  },
  "language_info": {
   "codemirror_mode": {
    "name": "ipython",
    "version": 3
   },
   "file_extension": ".py",
   "mimetype": "text/x-python",
   "name": "python",
   "nbconvert_exporter": "python",
   "pygments_lexer": "ipython3",
   "version": "3.11.2"
  },
  "orig_nbformat": 4,
  "vscode": {
   "interpreter": {
    "hash": "1cf68b9626781fb0210e7ff4d1b398d6e270a5e1dd1043bc36d9818ab6bd6624"
   }
  }
 },
 "nbformat": 4,
 "nbformat_minor": 2
}
