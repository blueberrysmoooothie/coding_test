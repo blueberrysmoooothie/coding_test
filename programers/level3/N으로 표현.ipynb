{
 "cells": [
  {
   "attachments": {},
   "cell_type": "markdown",
   "metadata": {},
   "source": [
    "N으로 표현\n",
    "---\n",
    "https://school.programmers.co.kr/learn/courses/30/lessons/42895"
   ]
  },
  {
   "cell_type": "code",
   "execution_count": null,
   "metadata": {},
   "outputs": [],
   "source": [
    "def solution(N, number):\n",
    "    def calc(A, B):\n",
    "        s = set()\n",
    "        for a in A:\n",
    "            for b in B:\n",
    "                s.add(a+b)\n",
    "                s.add(a-b)\n",
    "                s.add(a*b)\n",
    "                if b:\n",
    "                    s.add(a/b)\n",
    "        return s\n",
    "    if N == number:\n",
    "        return 1\n",
    "    answer = 2\n",
    "    dic = {1:set([N])}\n",
    "\n",
    "    for answer in range(2, 9):\n",
    "        s = set()\n",
    "        for i in range(1,answer):\n",
    "            s = s | calc(dic[i], dic[answer-i])\n",
    "        dic[answer] = s\n",
    "    \n",
    "    \n",
    "    return answer\n"
   ]
  }
 ],
 "metadata": {
  "language_info": {
   "name": "python"
  },
  "orig_nbformat": 4
 },
 "nbformat": 4,
 "nbformat_minor": 2
}
