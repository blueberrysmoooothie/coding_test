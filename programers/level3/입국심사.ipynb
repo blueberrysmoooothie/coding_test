{
 "cells": [
  {
   "attachments": {},
   "cell_type": "markdown",
   "metadata": {},
   "source": [
    "입국심사\n",
    "---\n",
    "https://school.programmers.co.kr/learn/courses/30/lessons/43238"
   ]
  },
  {
   "cell_type": "code",
   "execution_count": 14,
   "metadata": {},
   "outputs": [],
   "source": [
    "def solution(n, times):\n",
    "    answer = 0\n",
    "    max_time = max(times) * n\n",
    "    min_time = min(times)\n",
    "    \n",
    "    while True:\n",
    "        if min_time == max_time:\n",
    "            answer = min_time\n",
    "            break\n",
    "        mid_time = (max_time+min_time)//2\n",
    "\n",
    "        ns = 0\n",
    "        for time in times:\n",
    "            ns += mid_time//time\n",
    "            if ns >n:  \n",
    "                max_time = mid_time\n",
    "                break\n",
    "        # print(min_time, max_time, answer, ns)\n",
    "        if ns <n:\n",
    "            min_time = mid_time+1\n",
    "        elif ns==n:\n",
    "            max_time = mid_time\n",
    "            answer = mid_time\n",
    "\n",
    "            \n",
    "\n",
    "\n",
    "    return answer"
   ]
  },
  {
   "cell_type": "code",
   "execution_count": 15,
   "metadata": {},
   "outputs": [
    {
     "name": "stdout",
     "output_type": "stream",
     "text": [
      "10 40 0 8\n",
      "10 40 0 4\n",
      "26 40 0 6\n",
      "34 40 0 6\n",
      "38 40 0 6\n"
     ]
    },
    {
     "data": {
      "text/plain": [
       "40"
      ]
     },
     "execution_count": 15,
     "metadata": {},
     "output_type": "execute_result"
    }
   ],
   "source": [
    "solution(7, [10, 10])"
   ]
  },
  {
   "cell_type": "code",
   "execution_count": null,
   "metadata": {},
   "outputs": [],
   "source": []
  }
 ],
 "metadata": {
  "kernelspec": {
   "display_name": "Python 3",
   "language": "python",
   "name": "python3"
  },
  "language_info": {
   "codemirror_mode": {
    "name": "ipython",
    "version": 3
   },
   "file_extension": ".py",
   "mimetype": "text/x-python",
   "name": "python",
   "nbconvert_exporter": "python",
   "pygments_lexer": "ipython3",
   "version": "3.10.8"
  },
  "orig_nbformat": 4,
  "vscode": {
   "interpreter": {
    "hash": "1eaddad8910a63e993320c00f976674dd19739aa47ccb16e46e67145212d406a"
   }
  }
 },
 "nbformat": 4,
 "nbformat_minor": 2
}
