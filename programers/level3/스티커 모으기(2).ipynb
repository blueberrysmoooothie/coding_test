{
 "cells": [
  {
   "attachments": {},
   "cell_type": "markdown",
   "metadata": {},
   "source": [
    "스티커 모으기(2)\n",
    "---\n",
    "https://school.programmers.co.kr/learn/courses/30/lessons/12971"
   ]
  },
  {
   "cell_type": "code",
   "execution_count": 52,
   "metadata": {},
   "outputs": [],
   "source": [
    "def solution(sticker):\n",
    "    def dp(ind):\n",
    "        c = sticker[ind:len(sticker)-1+ind].copy()\n",
    "        answer = 0\n",
    "        ind = 0 \n",
    "        while ind < len(c)-1:\n",
    "            if c[ind]>c[ind+1]:\n",
    "                # print(c, ind)\n",
    "                answer += c[ind]\n",
    "                ind +=2\n",
    "            else:\n",
    "                answer += c[ind+1]\n",
    "                # print(c, ind+1)\n",
    "                ind +=3\n",
    "        if ind == len(c)-1:\n",
    "            answer += c[-1]\n",
    "        return answer\n",
    "    if len(sticker)<3:\n",
    "        return max(sticker)\n",
    "    return max(dp(0), dp(1))"
   ]
  },
  {
   "cell_type": "code",
   "execution_count": 79,
   "metadata": {},
   "outputs": [],
   "source": [
    "def solution(sticker):\n",
    "    def dp(ind):\n",
    "        c = sticker[ind:len(sticker)-1+ind].copy()\n",
    "        answer = 0\n",
    "        ind = 0 \n",
    "        while ind < len(c)-2:\n",
    "            if c[ind+1]>=c[ind]+c[ind+2]:\n",
    "                answer += c[ind+1]\n",
    "                # print(c, ind+1)\n",
    "                ind +=3\n",
    "            else:\n",
    "                answer += c[ind]\n",
    "                # print(c, ind)\n",
    "                ind +=2\n",
    "            \n",
    "        if ind < len(c):\n",
    "            # print(max(c[ind:]))\n",
    "            answer += max(c[ind:])\n",
    "        return answer\n",
    "    if len(sticker)<3:\n",
    "        return max(sticker)\n",
    "    return max(dp(0), dp(1))"
   ]
  },
  {
   "cell_type": "code",
   "execution_count": 1,
   "metadata": {},
   "outputs": [],
   "source": [
    "def solution(sticker):\n",
    "    def dp(ind):\n",
    "        c = sticker[ind:len(sticker)-1+ind].copy()\n",
    "        \n",
    "        for ind in range(1, len(c)):\n",
    "            if ind != 1:\n",
    "                c[ind] = max(c[ind-1], c[ind-2]+c[ind])\n",
    "                \n",
    "            else:\n",
    "                c[ind] = max(c[ind], c[ind-1])\n",
    "\n",
    "\n",
    "        return c[-1]\n",
    "    if len(sticker)<3:\n",
    "        return max(sticker)\n",
    "    return max(dp(0), dp(1))"
   ]
  },
  {
   "cell_type": "code",
   "execution_count": 2,
   "metadata": {},
   "outputs": [
    {
     "data": {
      "text/plain": [
       "2"
      ]
     },
     "execution_count": 2,
     "metadata": {},
     "output_type": "execute_result"
    }
   ],
   "source": [
    "solution(\t[1,0,0,1,0,0,1])"
   ]
  },
  {
   "cell_type": "code",
   "execution_count": null,
   "metadata": {},
   "outputs": [],
   "source": []
  }
 ],
 "metadata": {
  "kernelspec": {
   "display_name": "Python 3",
   "language": "python",
   "name": "python3"
  },
  "language_info": {
   "codemirror_mode": {
    "name": "ipython",
    "version": 3
   },
   "file_extension": ".py",
   "mimetype": "text/x-python",
   "name": "python",
   "nbconvert_exporter": "python",
   "pygments_lexer": "ipython3",
   "version": "3.10.8"
  },
  "orig_nbformat": 4,
  "vscode": {
   "interpreter": {
    "hash": "1eaddad8910a63e993320c00f976674dd19739aa47ccb16e46e67145212d406a"
   }
  }
 },
 "nbformat": 4,
 "nbformat_minor": 2
}
