{
 "cells": [
  {
   "attachments": {},
   "cell_type": "markdown",
   "metadata": {},
   "source": [
    "표현 가능한 이진트리\n",
    "---\n",
    "https://school.programmers.co.kr/learn/courses/30/lessons/150367"
   ]
  },
  {
   "cell_type": "code",
   "execution_count": null,
   "metadata": {},
   "outputs": [],
   "source": [
    "def solution(numbers):\n",
    "    def is_bintree(bin_num,root):\n",
    "        leaf = [(root-1)//2+1, root + (root-1)//2+1]\n",
    "        if leaf[0]//2:\n",
    "            if bin_num[root]=='1':\n",
    "                return 1\n",
    "            return 0\n",
    "\n",
    "        \n",
    "        else:\n",
    "            if bin_num[root]=='1': \n",
    "                if is_bintree(bin_num,leaf[0]):\n",
    "                    if is_bintree(bin_num,leaf[1]):\n",
    "                        return 1\n",
    "                return 0\n",
    "\n",
    "            else:\n",
    "                is_zero = leaf.copy()\n",
    "                for i in is_zero:\n",
    "                    if bin_num[i] == '1':\n",
    "                        return 0\n",
    "                    if i//2==0:\n",
    "                        is_zero.append((i-1)//2+1)\n",
    "                        is_zero.append(i + (i-1)//2+1)\n",
    "                    \n",
    "                return 1\n",
    "\n",
    "        \n",
    "    answer = []\n",
    "    for num in numbers:\n",
    "        bin_num = bin(num)[2:]\n",
    "        if len(bin_num)%2==0:\n",
    "            bin_num = '0'+bin_num\n",
    "        \n",
    "        result = True\n",
    "        root = len(bin_num)//2+1\n",
    "        leaf = [(root-1)//2+1, root + (root-1)//2+1]\n",
    "        \n",
    "        answer.append(is_bintree(bin_num,root))\n",
    "    \n",
    "    \n",
    "    return answer"
   ]
  },
  {
   "cell_type": "code",
   "execution_count": 82,
   "metadata": {},
   "outputs": [],
   "source": [
    "def solution(numbers):\n",
    "    def find_leaf(root):\n",
    "        sq = 1\n",
    "        l, r = 0,0\n",
    "        while True:\n",
    "            sq = 1\n",
    "            while sq <=root:\n",
    "                sq*=2\n",
    "            sq = sq//2\n",
    "            if sq == root:\n",
    "                l+= root-sq//2\n",
    "                r+= root+sq//2\n",
    "                \n",
    "                break\n",
    "            else:\n",
    "                l += sq\n",
    "                r += sq\n",
    "                root = root- sq\n",
    "        return l,r\n",
    "    def is_bintree(bin_num,root):\n",
    "        if bin_num[root-1] == '0':\n",
    "            return 0\n",
    "\n",
    "        l,r = find_leaf(root)\n",
    "        leaf = [l,r]\n",
    "\n",
    "        for le in leaf:\n",
    "            if le%2 == 0:\n",
    "                if bin_num[le-1] == '1':\n",
    "                    l,r = find_leaf(le)\n",
    "                    leaf.append(l)\n",
    "                    leaf.append(r)\n",
    "\n",
    "                else:\n",
    "                    l,r = find_leaf(le)\n",
    "                    must_zero = [l,r]\n",
    "                    for z in must_zero:\n",
    "                        if bin_num[z-1]=='1':\n",
    "                            return 0\n",
    "                        if z%2 == 0:\n",
    "                            l,r = find_leaf(z)\n",
    "                            must_zero.append(l)\n",
    "                            must_zero.append(r)\n",
    "        \n",
    "        return 1\n",
    "        \n",
    "    answer = []\n",
    "    for num in numbers:\n",
    "        if num <4:\n",
    "            answer.append(1)\n",
    "            continue\n",
    "        bin_num = bin(num)[2:]\n",
    "        L = len(bin_num)\n",
    "        l=1\n",
    "        while L>l-1:\n",
    "            l *= 2\n",
    "            \n",
    "        bin_num = '0'*(l-1-L)+bin_num\n",
    "        # print(bin_num)\n",
    "        root = len(bin_num)//2+1\n",
    "        answer.append(is_bintree(bin_num,root))\n",
    "    \n",
    "    \n",
    "    return answer"
   ]
  },
  {
   "cell_type": "code",
   "execution_count": 84,
   "metadata": {},
   "outputs": [
    {
     "name": "stdout",
     "output_type": "stream",
     "text": [
      "0001111\n"
     ]
    },
    {
     "data": {
      "text/plain": [
       "[1]"
      ]
     },
     "execution_count": 84,
     "metadata": {},
     "output_type": "execute_result"
    }
   ],
   "source": [
    "solution([15])"
   ]
  },
  {
   "cell_type": "code",
   "execution_count": 77,
   "metadata": {},
   "outputs": [
    {
     "data": {
      "text/plain": [
       "7"
      ]
     },
     "execution_count": 77,
     "metadata": {},
     "output_type": "execute_result"
    }
   ],
   "source": [
    "0b111"
   ]
  },
  {
   "cell_type": "code",
   "execution_count": null,
   "metadata": {},
   "outputs": [],
   "source": []
  }
 ],
 "metadata": {
  "kernelspec": {
   "display_name": "Python 3",
   "language": "python",
   "name": "python3"
  },
  "language_info": {
   "codemirror_mode": {
    "name": "ipython",
    "version": 3
   },
   "file_extension": ".py",
   "mimetype": "text/x-python",
   "name": "python",
   "nbconvert_exporter": "python",
   "pygments_lexer": "ipython3",
   "version": "3.10.8"
  },
  "orig_nbformat": 4,
  "vscode": {
   "interpreter": {
    "hash": "1eaddad8910a63e993320c00f976674dd19739aa47ccb16e46e67145212d406a"
   }
  }
 },
 "nbformat": 4,
 "nbformat_minor": 2
}
