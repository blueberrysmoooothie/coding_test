{
 "cells": [
  {
   "cell_type": "markdown",
   "metadata": {},
   "source": [
    "셔틀버스\n",
    "---\n",
    "https://school.programmers.co.kr/learn/courses/30/lessons/17678"
   ]
  },
  {
   "cell_type": "code",
   "execution_count": 13,
   "metadata": {},
   "outputs": [],
   "source": [
    "def solution(n, t, m, timetable):\n",
    "    answer = ''\n",
    "    time = \"09:00\"\n",
    "    queue = 0\n",
    "    ind = 0\n",
    "    crew_num = len(timetable)\n",
    "    for i in range(n):\n",
    "        if time > '23:59':\n",
    "            break\n",
    "\n",
    "        while True:\n",
    "            \n",
    "            if ind == crew_num or timetable[ind] > time:\n",
    "                break\n",
    "            queue+=1\n",
    "            ind+=1\n",
    "\n",
    "        if queue<m:\n",
    "            answer = time\n",
    "\n",
    "        else:\n",
    "            queue = max(0, queue-m)\n",
    "\n",
    "        h, m = int(time[:2]), int(time[-2:]) + t\n",
    "        while m >=60:\n",
    "            h+=1\n",
    "            m-=60\n",
    "        time = str(h).zfill(2)+':'+str(m).zfill(2)\n",
    "\n",
    "    \n",
    "    return answer"
   ]
  },
  {
   "cell_type": "code",
   "execution_count": 66,
   "metadata": {},
   "outputs": [],
   "source": [
    "def solution(n, t, m, timetable):\n",
    "    timetable = sorted(timetable)\n",
    "    answer = ''\n",
    "    h, mi = int(timetable[0][:2]), int(timetable[0][-2:]) - 1\n",
    "    while mi <0:\n",
    "        h-=1\n",
    "        mi+=60\n",
    "    time = str(h).zfill(2)+':'+str(mi).zfill(2)\n",
    "    bus_times = ['09:00']\n",
    "\n",
    "    for i in range(n-1):\n",
    "        h, mi = int(bus_times[-1][:2]), int(bus_times[-1][-2:]) + t\n",
    "        while mi >=60:\n",
    "            h+=1\n",
    "            mi-=60\n",
    "        bus_times.append(str(h).zfill(2)+':'+str(mi).zfill(2))\n",
    "    queue = 0\n",
    "    ind = 0\n",
    "    crew_num = len(timetable)\n",
    "\n",
    "    while time <= bus_times[-1]:\n",
    "        print(time, queue, answer)\n",
    "        \n",
    "        if time > '23:59':\n",
    "            break\n",
    "\n",
    "        while True:\n",
    "            if ind == crew_num or timetable[ind] > time:\n",
    "                break\n",
    "            queue+=1\n",
    "            ind+=1\n",
    "        if queue<m:\n",
    "            answer = time\n",
    "\n",
    "        if time in bus_times:\n",
    "            queue = max(0, queue-m)\n",
    "\n",
    "\n",
    "        h, mi = int(time[:2]), int(time[-2:]) + 1\n",
    "        while mi >=60:\n",
    "            h+=1\n",
    "            mi-=60\n",
    "        time = str(h).zfill(2)+':'+str(mi).zfill(2)\n",
    "\n",
    "\n",
    "\n",
    "    \n",
    "    return answer if len(answer) else bus_times[-1]"
   ]
  },
  {
   "cell_type": "code",
   "execution_count": 96,
   "metadata": {},
   "outputs": [],
   "source": [
    "def solution(n, t, m, timetable):\n",
    "    timetable = sorted(timetable)\n",
    "    answer = ''\n",
    "    h, mi = int(timetable[0][:2]), int(timetable[0][-2:]) - 1\n",
    "    while mi <0:\n",
    "        h-=1\n",
    "        mi+=60\n",
    "    time = str(h).zfill(2)+':'+str(mi).zfill(2)\n",
    "    bus_times = ['09:00']\n",
    "\n",
    "    for i in range(n-1):\n",
    "        h, mi = int(bus_times[-1][:2]), int(bus_times[-1][-2:]) + t\n",
    "        while mi >=60:\n",
    "            h+=1\n",
    "            mi-=60\n",
    "        bus_times.append(str(h).zfill(2)+':'+str(mi).zfill(2))\n",
    "    queue = 0\n",
    "    ind = 0\n",
    "    while len(timetable) and timetable[-1]>bus_times[-1]:\n",
    "        timetable.pop()\n",
    "    \n",
    "    if len(timetable)==0:\n",
    "        return bus_times[-1]\n",
    "\n",
    "    crew_num = len(timetable)\n",
    "\n",
    "    while time <= bus_times[-1]:\n",
    "        # print(time, queue, answer)\n",
    "        \n",
    "        if time > '23:59':\n",
    "            break\n",
    "\n",
    "        while True:\n",
    "            if ind == crew_num or timetable[ind] > time:\n",
    "                break\n",
    "            queue+=1\n",
    "            ind+=1\n",
    "        if queue<m:\n",
    "            answer = time\n",
    "\n",
    "        if time in bus_times:\n",
    "            queue = max(0, queue-m)\n",
    "\n",
    "\n",
    "        h, mi = int(time[:2]), int(time[-2:]) + 1\n",
    "        while mi >=60:\n",
    "            h+=1\n",
    "            mi-=60\n",
    "        time = str(h).zfill(2)+':'+str(mi).zfill(2)\n",
    "\n",
    "\n",
    "    time = timetable[-queue-1]\n",
    "    h, mi = int(time[:2]), int(time[-2:]) - 1\n",
    "    while mi <0:\n",
    "        h-=1\n",
    "        mi+=60\n",
    "    time = str(h).zfill(2)+':'+str(mi).zfill(2)\n",
    "\n",
    "    # print(time)\n",
    "    if len(answer):\n",
    "        if time > answer:\n",
    "            return time\n",
    "        else:\n",
    "            return answer\n",
    "\n",
    "\n",
    "    else:\n",
    "        return bus_times[-1]"
   ]
  },
  {
   "cell_type": "code",
   "execution_count": 97,
   "metadata": {},
   "outputs": [
    {
     "data": {
      "text/plain": [
       "'09:00'"
      ]
     },
     "execution_count": 97,
     "metadata": {},
     "output_type": "execute_result"
    }
   ],
   "source": [
    "solution(\t1,1,1, [\"23:59\"])"
   ]
  },
  {
   "cell_type": "code",
   "execution_count": 10,
   "metadata": {},
   "outputs": [
    {
     "data": {
      "text/plain": [
       "'09:05'"
      ]
     },
     "execution_count": 10,
     "metadata": {},
     "output_type": "execute_result"
    }
   ],
   "source": [
    "h , m = '09','05'\n",
    "h.zfill(2)+':'+m.zfill(2)"
   ]
  },
  {
   "cell_type": "code",
   "execution_count": 5,
   "metadata": {},
   "outputs": [
    {
     "data": {
      "text/plain": [
       "True"
      ]
     },
     "execution_count": 5,
     "metadata": {},
     "output_type": "execute_result"
    }
   ],
   "source": [
    "\"08:00\"<\"09:00\""
   ]
  },
  {
   "cell_type": "code",
   "execution_count": null,
   "metadata": {},
   "outputs": [],
   "source": []
  }
 ],
 "metadata": {
  "kernelspec": {
   "display_name": "Python 3",
   "language": "python",
   "name": "python3"
  },
  "language_info": {
   "codemirror_mode": {
    "name": "ipython",
    "version": 3
   },
   "file_extension": ".py",
   "mimetype": "text/x-python",
   "name": "python",
   "nbconvert_exporter": "python",
   "pygments_lexer": "ipython3",
   "version": "3.10.8"
  },
  "orig_nbformat": 4,
  "vscode": {
   "interpreter": {
    "hash": "1eaddad8910a63e993320c00f976674dd19739aa47ccb16e46e67145212d406a"
   }
  }
 },
 "nbformat": 4,
 "nbformat_minor": 2
}
