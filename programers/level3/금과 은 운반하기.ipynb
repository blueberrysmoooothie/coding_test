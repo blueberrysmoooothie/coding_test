{
 "cells": [
  {
   "cell_type": "markdown",
   "id": "a9af9b4d",
   "metadata": {},
   "source": [
    "이진탐색...?\n",
    "- https://school.programmers.co.kr/learn/courses/30/lessons/86053"
   ]
  },
  {
   "cell_type": "code",
   "execution_count": 22,
   "id": "dd7d1cf3",
   "metadata": {},
   "outputs": [],
   "source": [
    "def solution(a, b, g, s, w, t):\n",
    "    start = 0\n",
    "    end = (10**5) * (10**9) * 4\n",
    "    answer = (10**5) * (10**9) * 4\n",
    "    cityNum = len(g)\n",
    "    while start <= end :\n",
    "        mid = (end + start)//2\n",
    "        gold = 0\n",
    "        silver = 0\n",
    "        total = 0\n",
    "        \n",
    "        for i in  range(cityNum):\n",
    "            city_gold = g[i]\n",
    "            city_silver = s[i]\n",
    "            carry = w[i]\n",
    "            time = t[i]\n",
    "        \n",
    "            moved_times = mid//(time*2)\n",
    "            if mid%(time*2) >=time: moved_times += 1\n",
    "            gold += min(city_gold, moved_times* carry)\n",
    "            silver += min(city_silver, moved_times* carry)\n",
    "            total += min(city_gold+city_silver, moved_times* carry)\n",
    "            \n",
    "        if (gold >=a) and (silver >= b) and (total >=(a+b)):\n",
    "            end = mid-1\n",
    "            answer = min(answer, mid)\n",
    "        else:\n",
    "            start = mid+1\n",
    "                        \n",
    "    return answer"
   ]
  },
  {
   "cell_type": "code",
   "execution_count": 23,
   "id": "1ec8a553",
   "metadata": {},
   "outputs": [
    {
     "data": {
      "text/plain": [
       "499"
      ]
     },
     "execution_count": 23,
     "metadata": {},
     "output_type": "execute_result"
    }
   ],
   "source": [
    "solution(90, 500, [70, 70, 0], [0, 0, 500], [100, 100, 2], [4, 8, 1])"
   ]
  },
  {
   "cell_type": "code",
   "execution_count": null,
   "id": "530f551b",
   "metadata": {},
   "outputs": [],
   "source": []
  }
 ],
 "metadata": {
  "kernelspec": {
   "display_name": "Python 3 (ipykernel)",
   "language": "python",
   "name": "python3"
  },
  "language_info": {
   "codemirror_mode": {
    "name": "ipython",
    "version": 3
   },
   "file_extension": ".py",
   "mimetype": "text/x-python",
   "name": "python",
   "nbconvert_exporter": "python",
   "pygments_lexer": "ipython3",
   "version": "3.9.12"
  }
 },
 "nbformat": 4,
 "nbformat_minor": 5
}
