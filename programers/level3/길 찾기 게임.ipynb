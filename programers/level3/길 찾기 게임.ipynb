{
 "cells": [
  {
   "attachments": {},
   "cell_type": "markdown",
   "metadata": {},
   "source": [
    "길 찾기 게임\n",
    "---\n",
    "https://school.programmers.co.kr/learn/courses/30/lessons/42892"
   ]
  },
  {
   "attachments": {},
   "cell_type": "markdown",
   "metadata": {},
   "source": [
    "이진트리\n",
    "- 노드 좌표를 y값 기준으로 내림차순 정렬 후\n",
    "- root 노드를 잡고 이진 트리 생성\n",
    "- 각 노드를 추가\n",
    "- pre, post order 탐색"
   ]
  },
  {
   "cell_type": "code",
   "execution_count": 96,
   "metadata": {},
   "outputs": [],
   "source": [
    "import sys\n",
    "sys.setrecursionlimit(10**6)\n",
    "class Node:\n",
    "    def __init__(self, ind, node):\n",
    "        self.x, self.y = node\n",
    "        self.ind = ind\n",
    "        self.left, self.right = None, None\n",
    "\n",
    "class BinaryTree():\n",
    "    def __init__(self, root_node):\n",
    "        self.root = root_node\n",
    "\n",
    "    def insert(self, node):\n",
    "        self.root = self._insert_value(self.root, node)\n",
    "        return self.root is not None\n",
    "\n",
    "    def _insert_value(self, up_node, sub_node):\n",
    "        if up_node is None:\n",
    "            return sub_node\n",
    "\n",
    "        if up_node.x < sub_node.x :\n",
    "            up_node.right = self._insert_value(up_node.right, sub_node)\n",
    "        else:\n",
    "            up_node.left = self._insert_value(up_node.left, sub_node)\n",
    "        return up_node\n",
    "    \n",
    "    def preorder(self):\n",
    "        result = []\n",
    "        stack=[self.root]\n",
    "        while len(stack):\n",
    "            node = stack.pop()\n",
    "            if node is None:\n",
    "                continue\n",
    "            result.append(node.ind)\n",
    "            stack.append(node.right)\n",
    "            stack.append(node.left)\n",
    "        return result\n",
    "\n",
    "    def postorder(self):\n",
    "        result = []\n",
    "        stack=[self.root]\n",
    "        while len(stack):\n",
    "            node = stack.pop()\n",
    "            if node is None:\n",
    "                continue\n",
    "            result.append(node.ind)\n",
    "            stack.append(node.left)\n",
    "            stack.append(node.right)\n",
    "        return result[::-1]\n",
    "\n",
    "def solution(nodeinfo):\n",
    "    tree = {}\n",
    "    for i, node in enumerate(nodeinfo):\n",
    "        nodeinfo[i] =[i+1, node]\n",
    "    nodeinfo= sorted(nodeinfo, key = lambda x: [-x[1][1], x[1][0]])\n",
    "    root = nodeinfo[0]\n",
    "    tree = BinaryTree(Node(root[0], root[1]))\n",
    "\n",
    "    for node in nodeinfo[1:]:\n",
    "        tree.insert(Node(node[0], node[1]))\n",
    "\n",
    "    return [tree.preorder(),tree.postorder()]\n"
   ]
  },
  {
   "cell_type": "code",
   "execution_count": 97,
   "metadata": {},
   "outputs": [
    {
     "data": {
      "text/plain": [
       "[[1], [1]]"
      ]
     },
     "execution_count": 97,
     "metadata": {},
     "output_type": "execute_result"
    }
   ],
   "source": [
    "solution([[1,1]])"
   ]
  },
  {
   "cell_type": "code",
   "execution_count": null,
   "metadata": {},
   "outputs": [],
   "source": []
  }
 ],
 "metadata": {
  "kernelspec": {
   "display_name": "Python 3",
   "language": "python",
   "name": "python3"
  },
  "language_info": {
   "codemirror_mode": {
    "name": "ipython",
    "version": 3
   },
   "file_extension": ".py",
   "mimetype": "text/x-python",
   "name": "python",
   "nbconvert_exporter": "python",
   "pygments_lexer": "ipython3",
   "version": "3.10.8"
  },
  "orig_nbformat": 4,
  "vscode": {
   "interpreter": {
    "hash": "1eaddad8910a63e993320c00f976674dd19739aa47ccb16e46e67145212d406a"
   }
  }
 },
 "nbformat": 4,
 "nbformat_minor": 2
}
