{
 "cells": [
  {
   "cell_type": "markdown",
   "id": "ec6c0a07",
   "metadata": {},
   "source": [
    "등굣길\n",
    "---\n",
    "https://school.programmers.co.kr/learn/courses/30/lessons/42898"
   ]
  },
  {
   "cell_type": "code",
   "execution_count": 90,
   "id": "5f00d98d",
   "metadata": {},
   "outputs": [],
   "source": [
    "def fact(n):\n",
    "    if n != 1:\n",
    "        return n*fact(n-1) \n",
    "    else:\n",
    "        return 1\n",
    "    \n",
    "def perm(p1, p2):\n",
    "    n = p1+p2\n",
    "    result = []\n",
    "    if p1==p2 and p1 ==0:\n",
    "        return result\n",
    "    \n",
    "    if p1 * p2 == 0:\n",
    "        for j in range(p1):\n",
    "            result.append('R')\n",
    "        for j in range(p2):\n",
    "            result.append('D')\n",
    "        return [''.join(result)]\n",
    "    \n",
    "    for i in range(p2+1):\n",
    "        ans = []\n",
    "        if i >0:\n",
    "            for j in range(i):\n",
    "                ans.append('D')\n",
    "        ans.append('R')\n",
    "        af_ = perm(p1-1, p2 - i)\n",
    "        ans = ''.join(ans)\n",
    "        if af_ ==[]:\n",
    "            result.append(ans)\n",
    "        else:\n",
    "            for f in af_:\n",
    "                result.append(ans+f)\n",
    "            \n",
    "    return result\n",
    "\n",
    "def find_pud_path(m,n,pud):\n",
    "    p1, p2 = pud[0]-1, pud[1]-1\n",
    "    be_pud_path =list(set([''.join(path) for path in perm(p1, p2)]))\n",
    "    af_pud_path =list(set([''.join(path) for path in perm(m-p1,n-p2)]))\n",
    "\n",
    "    pud_path = []\n",
    "    for be in  be_pud_path:\n",
    "        for af in af_pud_path:\n",
    "            pud_path.append(be + af)\n",
    "\n",
    "    return pud_path\n",
    "def solution(m, n, puddles):\n",
    "    m, n = m-1, n-1\n",
    "    n_all_path = fact(m+n)/(fact(m) * fact(n))\n",
    "    pud_path = set()\n",
    "    for pud in puddles:\n",
    "        for path in find_pud_path(m,n,pud):\n",
    "            pud_path.add(path)\n",
    "    \n",
    "    return int(n_all_path-len(pud_path))%1000000007"
   ]
  },
  {
   "cell_type": "code",
   "execution_count": 91,
   "id": "5fa8dc1f",
   "metadata": {},
   "outputs": [
    {
     "data": {
      "text/plain": [
       "3"
      ]
     },
     "execution_count": 91,
     "metadata": {},
     "output_type": "execute_result"
    }
   ],
   "source": [
    "solution(4,3,[[2, 2], [2,3]])"
   ]
  },
  {
   "cell_type": "code",
   "execution_count": 78,
   "id": "94f3c412",
   "metadata": {},
   "outputs": [
    {
     "data": {
      "text/plain": [
       "['R']"
      ]
     },
     "execution_count": 78,
     "metadata": {},
     "output_type": "execute_result"
    }
   ],
   "source": [
    "\n",
    "def perm(p1, p2):\n",
    "    n = p1+p2\n",
    "    result = []\n",
    "    if p1==p2 and p1 ==0:\n",
    "        return result\n",
    "    \n",
    "    if p1 * p2 == 0:\n",
    "        for j in range(p1):\n",
    "            result.append('R')\n",
    "        for j in range(p2):\n",
    "            result.append('D')\n",
    "        return [''.join(result)]\n",
    "    \n",
    "    for i in range(p2+1):\n",
    "        ans = []\n",
    "        if i >0:\n",
    "            for j in range(i):\n",
    "                ans.append('D')\n",
    "        ans.append('R')\n",
    "        af_ = perm(p1-1, p2 - i)\n",
    "        ans = ''.join(ans)\n",
    "        if af_ ==[]:\n",
    "            result.append(ans)\n",
    "        else:\n",
    "            for f in af_:\n",
    "                result.append(ans+f)\n",
    "            \n",
    "    return result\n",
    "\n",
    "perm(1,0)"
   ]
  },
  {
   "cell_type": "code",
   "execution_count": 89,
   "id": "8276be01",
   "metadata": {},
   "outputs": [
    {
     "data": {
      "text/plain": [
       "['RDDDDD', 'DRDDDD', 'DDRDDD', 'DDDRDD', 'DDDDRD', 'DDDDDR']"
      ]
     },
     "execution_count": 89,
     "metadata": {},
     "output_type": "execute_result"
    }
   ],
   "source": [
    "perm(1,5)"
   ]
  },
  {
   "cell_type": "code",
   "execution_count": 168,
   "id": "0bda6e47",
   "metadata": {},
   "outputs": [],
   "source": [
    "def test_map(map_):\n",
    "    for m in map_:\n",
    "        print(m)\n",
    "def solution(m, n, puddles):\n",
    "    map_ = [[0 for i in range(m)] for j in range(n)]\n",
    "    for pud in puddles:\n",
    "        map_[pud[1]-1][pud[0]-1] = 1\n",
    "    cnt = 0\n",
    "    node = [1,1]\n",
    "    next_node = []\n",
    "    if node[0]!=m:\n",
    "        if map_[node[1]-1][node[0]]!=1:\n",
    "            next_node.append([node[0]+1, node[1]])\n",
    "\n",
    "    if node[1]!=n:\n",
    "        if map_[node[1]][node[0]-1]!=1:\n",
    "            next_node.append([node[0], node[1]+1])\n",
    "    while next_node != []:\n",
    "        node = next_node.pop()\n",
    "        if map_[node[1]-1][node[0]-1]==1:\n",
    "            continue\n",
    "        if node[0]!=m:\n",
    "            if map_[node[1]-1][node[0]]!=1:\n",
    "                next_node.append([node[0]+1, node[1]])\n",
    "            \n",
    "        if node[1]!=n:\n",
    "            if map_[node[1]][node[0]-1]!=1:\n",
    "                next_node.append([node[0], node[1]+1])\n",
    "        if node == [m,n]:\n",
    "            cnt +=1\n",
    "            if cnt >1000000007:\n",
    "                cnt = cnt % 1000000007\n",
    "            \n",
    "    return cnt"
   ]
  },
  {
   "cell_type": "code",
   "execution_count": 169,
   "id": "40aa3d05",
   "metadata": {},
   "outputs": [
    {
     "name": "stdout",
     "output_type": "stream",
     "text": [
      "[0, 0, 0, 0]\n",
      "[0, 1, 0, 0]\n",
      "[0, 1, 0, 0]\n",
      "[1, 2] \n",
      "\n",
      "[0, 0, 0, 0]\n",
      "[0, 1, 0, 0]\n",
      "[0, 1, 0, 0]\n",
      "[1, 3] \n",
      "\n",
      "[0, 0, 0, 0]\n",
      "[0, 1, 0, 0]\n",
      "[0, 1, 0, 0]\n",
      "[2, 1] \n",
      "\n",
      "[0, 0, 0, 0]\n",
      "[0, 1, 0, 0]\n",
      "[0, 1, 0, 0]\n",
      "[3, 1] \n",
      "\n",
      "[0, 0, 0, 0]\n",
      "[0, 1, 0, 0]\n",
      "[0, 1, 0, 0]\n",
      "[3, 2] \n",
      "\n",
      "[0, 0, 0, 0]\n",
      "[0, 1, 0, 0]\n",
      "[0, 1, 0, 0]\n",
      "[3, 3] \n",
      "\n",
      "[0, 0, 0, 0]\n",
      "[0, 1, 0, 0]\n",
      "[0, 1, 0, 0]\n",
      "[4, 3] \n",
      "\n",
      "[0, 0, 0, 0]\n",
      "[0, 1, 0, 0]\n",
      "[0, 1, 0, 0]\n",
      "[4, 2] \n",
      "\n",
      "[0, 0, 0, 0]\n",
      "[0, 1, 0, 0]\n",
      "[0, 1, 0, 0]\n",
      "[4, 3] \n",
      "\n",
      "[0, 0, 0, 0]\n",
      "[0, 1, 0, 0]\n",
      "[0, 1, 0, 0]\n",
      "[4, 1] \n",
      "\n",
      "[0, 0, 0, 0]\n",
      "[0, 1, 0, 0]\n",
      "[0, 1, 0, 0]\n",
      "[4, 2] \n",
      "\n",
      "[0, 0, 0, 0]\n",
      "[0, 1, 0, 0]\n",
      "[0, 1, 0, 0]\n",
      "[4, 3] \n",
      "\n"
     ]
    },
    {
     "data": {
      "text/plain": [
       "3"
      ]
     },
     "execution_count": 169,
     "metadata": {},
     "output_type": "execute_result"
    }
   ],
   "source": [
    "solution(4,3,[[2, 2], [2,3]])"
   ]
  },
  {
   "cell_type": "code",
   "execution_count": null,
   "id": "6369d81b",
   "metadata": {},
   "outputs": [],
   "source": []
  },
  {
   "cell_type": "code",
   "execution_count": null,
   "id": "001297c8",
   "metadata": {},
   "outputs": [],
   "source": []
  }
 ],
 "metadata": {
  "kernelspec": {
   "display_name": "Python 3 (ipykernel)",
   "language": "python",
   "name": "python3"
  },
  "language_info": {
   "codemirror_mode": {
    "name": "ipython",
    "version": 3
   },
   "file_extension": ".py",
   "mimetype": "text/x-python",
   "name": "python",
   "nbconvert_exporter": "python",
   "pygments_lexer": "ipython3",
   "version": "3.9.12"
  }
 },
 "nbformat": 4,
 "nbformat_minor": 5
}
