{
 "cells": [
  {
   "cell_type": "markdown",
   "id": "4e6b61ad",
   "metadata": {},
   "source": [
    "#### 고고학 최고의 발견\n",
    "---\n",
    "https://school.programmers.co.kr/learn/courses/30/lessons/131702"
   ]
  },
  {
   "cell_type": "code",
   "execution_count": null,
   "id": "600d8581",
   "metadata": {},
   "outputs": [],
   "source": [
    "def test_print(L,clockHands):\n",
    "    for i in range(L):\n",
    "        print(clockHands[i])\n",
    "\n",
    "def clock_rot(clockHands, i, j, L):\n",
    "    clockHands[i][j] = (clockHands[i][j]+1) % 4\n",
    "    if i > 0:\n",
    "        clockHands[i-1][j] = (clockHands[i-1][j]+1) % 4\n",
    "    if i < L-1:\n",
    "        clockHands[i+1][j] = (clockHands[i+1][j]+1) % 4\n",
    "    if j < L-1:\n",
    "        clockHands[i][j+1] = (clockHands[i][j+1]+1) % 4\n",
    "    if j > 0:\n",
    "        clockHands[i][j-1] = (clockHands[i][j-1]+1) % 4\n",
    "    return clockHands\n",
    "\n",
    "def find_down(L, clockHands):\n",
    "    d_cnt = 0\n",
    "    for i in range(1,L):\n",
    "        for j in range(L):\n",
    "            print(i,j)\n",
    "            while clockHands[i-1][j] != 0:\n",
    "                clockHands = clock_rot(clockHands, i, j, L)\n",
    "                d_cnt += 1\n",
    "                test_print(L,clockHands)\n",
    "    return d_cnt\n",
    "\n",
    "def find_up(L, clockHands2):\n",
    "    u_cnt = 0\n",
    "    for i in range(L-2,-1, -1):\n",
    "        for j in range(L-1, -1,-1):\n",
    "            print(i,j)\n",
    "            while clockHands2[i+1][j] != 0:\n",
    "                clockHands2 = clock_rot(clockHands2, i, j,L)\n",
    "                u_cnt += 1\n",
    "                test_print(L,clockHands2)\n",
    "    return u_cnt\n",
    "\n",
    "def solution(clockHands):\n",
    "    L = len(clockHands)\n",
    "    clockHands2 = [[r for r in c] for c in clockHands]\n",
    "    d_cnt = find_down(L, clockHands)\n",
    "    test_print(L,clockHands2)\n",
    "    u_cnt = find_up(L, clockHands2)\n",
    "    test_print(L,clockHands2)\n",
    "    return min(d_cnt, u_cnt)"
   ]
  },
  {
   "cell_type": "code",
   "execution_count": null,
   "id": "d17b9a14",
   "metadata": {},
   "outputs": [],
   "source": [
    "solution([[0,3,3,0],[3,2,2,3],[0,3,2,0],[0,3,3,3]])"
   ]
  },
  {
   "cell_type": "code",
   "execution_count": null,
   "id": "044d8c8c",
   "metadata": {},
   "outputs": [],
   "source": []
  },
  {
   "cell_type": "code",
   "execution_count": null,
   "id": "7cc8b5bc",
   "metadata": {},
   "outputs": [],
   "source": []
  }
 ],
 "metadata": {
  "kernelspec": {
   "display_name": "Python 3 (ipykernel)",
   "language": "python",
   "name": "python3"
  },
  "language_info": {
   "codemirror_mode": {
    "name": "ipython",
    "version": 3
   },
   "file_extension": ".py",
   "mimetype": "text/x-python",
   "name": "python",
   "nbconvert_exporter": "python",
   "pygments_lexer": "ipython3",
   "version": "3.9.12"
  }
 },
 "nbformat": 4,
 "nbformat_minor": 5
}
