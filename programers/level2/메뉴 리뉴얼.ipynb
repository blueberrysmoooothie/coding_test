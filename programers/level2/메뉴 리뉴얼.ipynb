{
 "cells": [
  {
   "attachments": {},
   "cell_type": "markdown",
   "metadata": {},
   "source": [
    "메뉴 리뉴얼\n",
    "---\n",
    "https://school.programmers.co.kr/learn/courses/30/lessons/72411"
   ]
  },
  {
   "cell_type": "code",
   "execution_count": 23,
   "metadata": {},
   "outputs": [],
   "source": [
    "def solution(orders, course):\n",
    "    def find_set(order,sets = []):\n",
    "        if len(order) ==0:\n",
    "            return 0\n",
    "\n",
    "        \n",
    "        for i in range(len(order)):\n",
    "            t = order.pop(i)\n",
    "            sets.append(t)\n",
    "            find_set(order,sets)\n",
    "            if len(sets) in course:\n",
    "                answer.add(''.join(sorted(sets)))\n",
    "            sets.pop()\n",
    "            order.insert(i,t)\n",
    "        return sets\n",
    "\n",
    "    set_menus = {}\n",
    "    for n in course:\n",
    "        set_menus[n] = {}\n",
    "    \n",
    "    for order in orders:\n",
    "        answer = set()\n",
    "        find_set(list(order))\n",
    "        for ans in answer:\n",
    "            if ans in set_menus[len(ans)].keys():\n",
    "                set_menus[len(ans)][ans]+=1\n",
    "            else:\n",
    "                set_menus[len(ans)][ans]=1\n",
    "\n",
    "    result = []\n",
    "    for set_m in set_menus.values():\n",
    "        counts = set_m.values()\n",
    "        try:\n",
    "            max_counts = max(counts)\n",
    "        except:\n",
    "            continue\n",
    "        for k,v in set_m.items():\n",
    "             if v>1 and v == max_counts:\n",
    "                result.append(k)\n",
    "    return sorted(result)"
   ]
  },
  {
   "cell_type": "code",
   "execution_count": 30,
   "metadata": {},
   "outputs": [],
   "source": [
    "def solution(orders, course):\n",
    "\n",
    "    def find_set(order,sets = [],j=0):\n",
    "        if len(order) ==0:\n",
    "            return 0\n",
    "        for i in range(j,len(order)):\n",
    "            t = order.pop(i)\n",
    "            sets.append(t)\n",
    "            find_set(order,sets,j = i)\n",
    "            if len(sets) in course:\n",
    "                answer.add(''.join(sorted(sets)))\n",
    "            sets.pop()\n",
    "            order.insert(i,t)\n",
    "        return sets\n",
    "\n",
    "\n",
    "\n",
    "    set_menus = {}\n",
    "    for n in course:\n",
    "        set_menus[n] = {}\n",
    "    \n",
    "    for order in orders:\n",
    "        answer = set()\n",
    "        find_set(list(order))\n",
    "        for ans in answer:\n",
    "            if ans in set_menus[len(ans)].keys():\n",
    "                set_menus[len(ans)][ans]+=1\n",
    "            else:\n",
    "                set_menus[len(ans)][ans]=1\n",
    "\n",
    "    result = []\n",
    "    for set_m in set_menus.values():\n",
    "        counts = set_m.values()\n",
    "        try:\n",
    "            max_counts = max(counts)\n",
    "        except:\n",
    "            continue\n",
    "        for k,v in set_m.items():\n",
    "             if v>1 and v == max_counts:\n",
    "                result.append(k)\n",
    "    return sorted(result)"
   ]
  },
  {
   "cell_type": "code",
   "execution_count": 31,
   "metadata": {},
   "outputs": [
    {
     "name": "stdout",
     "output_type": "stream",
     "text": [
      "['B', 'C'] ['A']\n",
      "['C'] ['A', 'B']\n",
      "[] ['A', 'B', 'C']\n",
      "['B'] ['A', 'C']\n",
      "['A', 'C'] ['B']\n",
      "['A'] ['B', 'C']\n",
      "['A', 'B'] ['C']\n"
     ]
    },
    {
     "data": {
      "text/plain": [
       "[]"
      ]
     },
     "execution_count": 31,
     "metadata": {},
     "output_type": "execute_result"
    }
   ],
   "source": [
    "solution([\"ABC\"], [2,3])"
   ]
  },
  {
   "cell_type": "code",
   "execution_count": null,
   "metadata": {},
   "outputs": [],
   "source": []
  },
  {
   "cell_type": "code",
   "execution_count": null,
   "metadata": {},
   "outputs": [],
   "source": []
  }
 ],
 "metadata": {
  "kernelspec": {
   "display_name": "Python 3",
   "language": "python",
   "name": "python3"
  },
  "language_info": {
   "codemirror_mode": {
    "name": "ipython",
    "version": 3
   },
   "file_extension": ".py",
   "mimetype": "text/x-python",
   "name": "python",
   "nbconvert_exporter": "python",
   "pygments_lexer": "ipython3",
   "version": "3.10.8"
  },
  "orig_nbformat": 4,
  "vscode": {
   "interpreter": {
    "hash": "1eaddad8910a63e993320c00f976674dd19739aa47ccb16e46e67145212d406a"
   }
  }
 },
 "nbformat": 4,
 "nbformat_minor": 2
}
