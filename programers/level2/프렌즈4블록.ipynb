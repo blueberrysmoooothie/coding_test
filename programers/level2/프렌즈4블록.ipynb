{
 "cells": [
  {
   "attachments": {},
   "cell_type": "markdown",
   "metadata": {},
   "source": [
    "프렌즈4블록\n",
    "---\n",
    "https://school.programmers.co.kr/learn/courses/30/lessons/17679"
   ]
  },
  {
   "cell_type": "code",
   "execution_count": 16,
   "metadata": {},
   "outputs": [],
   "source": [
    "def find_4(m, n,board):\n",
    "    match_board = [[0]*n for j in range(m)]\n",
    "    print(board)\n",
    "    print(match_board)\n",
    "    for j in range(0, m-1):\n",
    "        for i in range(0, n-1):\n",
    "            print(j , i )\n",
    "            temp = board[j][i]\n",
    "            if board[j][i+1] == temp and board[j+1][i] == temp and board[j+1][i+1] == temp:\n",
    "                match_board[j][i] = 1\n",
    "                match_board[j][i+1] = 1\n",
    "                match_board[j+1][i] = 1\n",
    "                match_board[j+1][i+1] = 1\n",
    "    print(match_board)\n",
    "\n",
    "def solution(m, n, board):\n",
    "    board = [list(b) for b in board]\n",
    "    find_4(m, n, board)\n",
    "    answer = 0\n",
    "    return answer"
   ]
  },
  {
   "cell_type": "code",
   "execution_count": 17,
   "metadata": {},
   "outputs": [
    {
     "name": "stdout",
     "output_type": "stream",
     "text": [
      "[['C', 'C', 'B', 'D', 'E'], ['A', 'A', 'A', 'D', 'E'], ['A', 'A', 'A', 'B', 'F'], ['C', 'C', 'B', 'B', 'F']]\n",
      "[[0, 0, 0, 0, 0], [0, 0, 0, 0, 0], [0, 0, 0, 0, 0], [0, 0, 0, 0, 0]]\n",
      "0 0\n",
      "0 1\n",
      "0 2\n",
      "0 3\n",
      "1 0\n",
      "1 1\n",
      "1 2\n",
      "1 3\n",
      "2 0\n",
      "2 1\n",
      "2 2\n",
      "2 3\n",
      "[[0, 0, 0, 0, 0], [1, 1, 1, 0, 0], [1, 1, 1, 0, 0], [0, 0, 0, 0, 0]]\n"
     ]
    },
    {
     "data": {
      "text/plain": [
       "0"
      ]
     },
     "execution_count": 17,
     "metadata": {},
     "output_type": "execute_result"
    }
   ],
   "source": [
    "solution(4,5,[\"CCBDE\", \"AAADE\", \"AAABF\", \"CCBBF\"])"
   ]
  },
  {
   "cell_type": "code",
   "execution_count": 2,
   "metadata": {},
   "outputs": [
    {
     "name": "stdout",
     "output_type": "stream",
     "text": [
      "[[0, 0, 0, 0], [0, 0, 0, 0], [0, 0, 0, 0], [0, 0, 0, 0], [0, 0, 0, 0]]\n",
      "4 3\n"
     ]
    },
    {
     "ename": "IndexError",
     "evalue": "list index out of range",
     "output_type": "error",
     "traceback": [
      "\u001b[1;31m---------------------------------------------------------------------------\u001b[0m",
      "\u001b[1;31mIndexError\u001b[0m                                Traceback (most recent call last)",
      "Cell \u001b[1;32mIn[2], line 1\u001b[0m\n\u001b[1;32m----> 1\u001b[0m find_4(\u001b[39m4\u001b[39;49m,\u001b[39m5\u001b[39;49m,[\u001b[39m\"\u001b[39;49m\u001b[39mCCBDE\u001b[39;49m\u001b[39m\"\u001b[39;49m, \u001b[39m\"\u001b[39;49m\u001b[39mAAADE\u001b[39;49m\u001b[39m\"\u001b[39;49m, \u001b[39m\"\u001b[39;49m\u001b[39mAAABF\u001b[39;49m\u001b[39m\"\u001b[39;49m, \u001b[39m\"\u001b[39;49m\u001b[39mCCBBF\u001b[39;49m\u001b[39m\"\u001b[39;49m])\n",
      "Cell \u001b[1;32mIn[1], line 7\u001b[0m, in \u001b[0;36mfind_4\u001b[1;34m(m, n, board)\u001b[0m\n\u001b[0;32m      5\u001b[0m \u001b[39mfor\u001b[39;00m j \u001b[39min\u001b[39;00m \u001b[39mrange\u001b[39m(n\u001b[39m-\u001b[39m\u001b[39m1\u001b[39m, \u001b[39m0\u001b[39m, \u001b[39m-\u001b[39m\u001b[39m1\u001b[39m):\n\u001b[0;32m      6\u001b[0m     \u001b[39mprint\u001b[39m(j , i )\n\u001b[1;32m----> 7\u001b[0m     temp \u001b[39m=\u001b[39m board[j][i]\n\u001b[0;32m      8\u001b[0m     \u001b[39mif\u001b[39;00m board[j][i\u001b[39m+\u001b[39m\u001b[39m1\u001b[39m] \u001b[39m==\u001b[39m temp \u001b[39mand\u001b[39;00m board[j\u001b[39m+\u001b[39m\u001b[39m1\u001b[39m][i] \u001b[39m==\u001b[39m temp \u001b[39mand\u001b[39;00m board[j\u001b[39m+\u001b[39m\u001b[39m1\u001b[39m][i\u001b[39m+\u001b[39m\u001b[39m1\u001b[39m] \u001b[39m==\u001b[39m temp:\n\u001b[0;32m      9\u001b[0m         match_board[j][i] \u001b[39m=\u001b[39m \u001b[39m1\u001b[39m\n",
      "\u001b[1;31mIndexError\u001b[0m: list index out of range"
     ]
    }
   ],
   "source": []
  },
  {
   "cell_type": "code",
   "execution_count": null,
   "metadata": {},
   "outputs": [],
   "source": []
  }
 ],
 "metadata": {
  "kernelspec": {
   "display_name": "Python 3",
   "language": "python",
   "name": "python3"
  },
  "language_info": {
   "codemirror_mode": {
    "name": "ipython",
    "version": 3
   },
   "file_extension": ".py",
   "mimetype": "text/x-python",
   "name": "python",
   "nbconvert_exporter": "python",
   "pygments_lexer": "ipython3",
   "version": "3.10.8"
  },
  "orig_nbformat": 4,
  "vscode": {
   "interpreter": {
    "hash": "1eaddad8910a63e993320c00f976674dd19739aa47ccb16e46e67145212d406a"
   }
  }
 },
 "nbformat": 4,
 "nbformat_minor": 2
}
