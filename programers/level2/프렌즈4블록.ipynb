{
 "cells": [
  {
   "attachments": {},
   "cell_type": "markdown",
   "metadata": {},
   "source": [
    "프렌즈4블록\n",
    "---\n",
    "https://school.programmers.co.kr/learn/courses/30/lessons/17679"
   ]
  },
  {
   "cell_type": "code",
   "execution_count": 58,
   "metadata": {},
   "outputs": [],
   "source": [
    "def find_4(m, n,board):\n",
    "    match_board = [[0]*n for j in range(m)]\n",
    "    # print(board, '\\n')\n",
    "    # print(match_board)\n",
    "    for j in range(0, m-1):\n",
    "        for i in range(0, n-1):\n",
    "            temp = board[j][i]\n",
    "            if temp == 'x':\n",
    "                continue\n",
    "            if board[j][i+1] == temp and board[j+1][i] == temp and board[j+1][i+1] == temp:\n",
    "                match_board[j][i] = 1\n",
    "                match_board[j][i+1] = 1\n",
    "                match_board[j+1][i] = 1\n",
    "                match_board[j+1][i+1] = 1\n",
    "    # print(match_board)\n",
    "    return match_board\n",
    "\n",
    "def del_4(m, n, board):\n",
    "    for i in range(n):\n",
    "        l = [b[i] for b in board]\n",
    "        while True:\n",
    "            try:\n",
    "                l.remove('x')\n",
    "            except:\n",
    "                break\n",
    "        while len(l)<m:            \n",
    "            l.insert(0, 'x')\n",
    "        \n",
    "        for j in range(m):\n",
    "            board[j][i] = l[j]\n",
    "\n",
    "        # print(l)\n",
    "    \n",
    "\n",
    "def solution(m, n, board):\n",
    "    board = [list(b) for b in board]\n",
    "    while True:\n",
    "        match_board = find_4(m, n, board)\n",
    "        if sum([sum(m) for m in match_board]):\n",
    "            for j in range(m):\n",
    "                for i in range(n):\n",
    "                    if match_board[j][i]:\n",
    "                        board[j][i] = 'x'\n",
    "            del_4(m, n, board)\n",
    "        else:\n",
    "            break\n",
    "    return sum([(b == 'x') for m in board for b in m])\n"
   ]
  },
  {
   "cell_type": "code",
   "execution_count": 59,
   "metadata": {},
   "outputs": [
    {
     "data": {
      "text/plain": [
       "14"
      ]
     },
     "execution_count": 59,
     "metadata": {},
     "output_type": "execute_result"
    }
   ],
   "source": [
    "solution(4,5,[\"CCBDE\", \"AAADE\", \"AAABF\", \"CCBBF\"])"
   ]
  },
  {
   "cell_type": "code",
   "execution_count": null,
   "metadata": {},
   "outputs": [],
   "source": []
  }
 ],
 "metadata": {
  "kernelspec": {
   "display_name": "Python 3",
   "language": "python",
   "name": "python3"
  },
  "language_info": {
   "codemirror_mode": {
    "name": "ipython",
    "version": 3
   },
   "file_extension": ".py",
   "mimetype": "text/x-python",
   "name": "python",
   "nbconvert_exporter": "python",
   "pygments_lexer": "ipython3",
   "version": "3.10.8"
  },
  "orig_nbformat": 4,
  "vscode": {
   "interpreter": {
    "hash": "1eaddad8910a63e993320c00f976674dd19739aa47ccb16e46e67145212d406a"
   }
  }
 },
 "nbformat": 4,
 "nbformat_minor": 2
}
