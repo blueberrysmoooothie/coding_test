{
 "cells": [
  {
   "cell_type": "markdown",
   "metadata": {},
   "source": [
    "### 석유시추\n",
    "---\n",
    "https://school.programmers.co.kr/learn/courses/30/lessons/250136"
   ]
  },
  {
   "cell_type": "code",
   "execution_count": null,
   "metadata": {},
   "outputs": [],
   "source": [
    "from collections import defaultdict\n",
    "import sys\n",
    "limit_number = 1500000\n",
    "sys.setrecursionlimit(limit_number)\n",
    "\n",
    "def solution(land):\n",
    "    deep = len(land)\n",
    "    wide = len(land[0])\n",
    "    checked = [[False for i in range(wide)]for j in range(deep)]\n",
    "    moveset = [[0,1],[0,-1],[1,0],[-1,0]]\n",
    "    groups = [[0 for i in range(wide)]for j in range(deep)]\n",
    "    group_dict=defaultdict(int)\n",
    "    group_dict[0]=0\n",
    "    def dfs(i,j,g=None):\n",
    "        groups[i][j]=g\n",
    "        group_dict[g]+=1\n",
    "        for di, dj in moveset:\n",
    "            new_i, new_j = i+di, j+dj\n",
    "            if new_i>=0 and new_i<deep:\n",
    "                if new_j>=0 and new_j<wide:\n",
    "                    if not checked[new_i][new_j]:\n",
    "                        checked[new_i][new_j]=True\n",
    "                        if land[new_i][new_j]:\n",
    "                            dfs(new_i, new_j, g)\n",
    "    \n",
    "    g=1\n",
    "    for i in range(deep):\n",
    "        for j in range(wide):\n",
    "            if land[i][j]:\n",
    "                # print(i,j)\n",
    "                if not checked[i][j]:\n",
    "                    checked[i][j]=True\n",
    "                    dfs(i, j, g)\n",
    "                    g+=1\n",
    "                        \n",
    "    answer = 0\n",
    "    for j in range(wide):\n",
    "        s = 0\n",
    "        group_pick = set([groups[i][j] for i in range(deep)])\n",
    "        for g in group_pick:\n",
    "            s+=group_dict[g]\n",
    "            \n",
    "        if s>answer:\n",
    "            answer = s\n",
    "            \n",
    "    \n",
    "    return answer"
   ]
  },
  {
   "cell_type": "code",
   "execution_count": null,
   "metadata": {},
   "outputs": [],
   "source": [
    "solution([[0, 0, 0, 1, 1, 1, 0, 0], [0, 0, 0, 0, 1, 1, 0, 0], [1, 1, 0, 0, 0, 1, 1, 0], [1, 1, 1, 0, 0, 0, 0, 0], [1, 1, 1, 0, 0, 0, 1, 1]])"
   ]
  }
 ],
 "metadata": {
  "kernelspec": {
   "display_name": "Python 3",
   "language": "python",
   "name": "python3"
  },
  "language_info": {
   "name": "python",
   "version": "3.10.0"
  }
 },
 "nbformat": 4,
 "nbformat_minor": 2
}
