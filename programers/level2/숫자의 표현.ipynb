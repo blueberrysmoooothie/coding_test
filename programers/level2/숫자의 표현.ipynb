{
 "cells": [
  {
   "cell_type": "markdown",
   "id": "5af28909",
   "metadata": {},
   "source": [
    "숫자의 표현\n",
    "---\n",
    "https://school.programmers.co.kr/learn/courses/30/lessons/12924"
   ]
  },
  {
   "cell_type": "code",
   "execution_count": 12,
   "id": "8aa28b3d",
   "metadata": {},
   "outputs": [
    {
     "data": {
      "text/plain": [
       "{2: 3, 3: 1, 7: 1}"
      ]
     },
     "execution_count": 12,
     "metadata": {},
     "output_type": "execute_result"
    }
   ],
   "source": [
    "def div_split(num):\n",
    "    div_dict = {}\n",
    "    while num != 1:\n",
    "        for i in range(2,num+1):\n",
    "            if num%i == 0:\n",
    "                if i in div_dict.keys():\n",
    "                    div_dict[i] +=1\n",
    "                else:\n",
    "                    div_dict[i] = 1\n",
    "                num = num//i\n",
    "                break\n",
    "    return div_dict\n",
    "\n",
    "div_split(168)\n"
   ]
  },
  {
   "cell_type": "code",
   "execution_count": 13,
   "id": "b7c2a630",
   "metadata": {},
   "outputs": [
    {
     "data": {
      "text/plain": [
       "0"
      ]
     },
     "execution_count": 13,
     "metadata": {},
     "output_type": "execute_result"
    }
   ],
   "source": [
    "int(0.8)"
   ]
  },
  {
   "cell_type": "code",
   "execution_count": 72,
   "id": "daf4057a",
   "metadata": {},
   "outputs": [],
   "source": [
    "def solution(n):\n",
    "    answer=0\n",
    "    if n==1:\n",
    "        return 1\n",
    "\n",
    "    for i in range(1,n):\n",
    "        if i%2 == 1:\n",
    "            if n%i ==0 and int(n/i) -i+1 + int(i/2)>0:\n",
    "                answer+=1\n",
    "#                 print(i,':')\n",
    "#                 for j in range(i-1,-1,-1):\n",
    "#                     print(int(n/i) -j + int(i/2), end = ' ')\n",
    "#                 print('')\n",
    "        \n",
    "        else:\n",
    "            num = n- i/2\n",
    "            if num%i ==0 and int(num/i) -i+1 + int(i/2)>0 :\n",
    "                \n",
    "                answer+=1\n",
    "#                 print(i,':')\n",
    "#                 for j in range(i-1,-1,-1):\n",
    "#                     print(int(num/i) -j + int(i/2), end = ' ')\n",
    "#                 print('')\n",
    "    return answer"
   ]
  },
  {
   "cell_type": "code",
   "execution_count": 73,
   "id": "2e084c41",
   "metadata": {},
   "outputs": [
    {
     "data": {
      "text/plain": [
       "1"
      ]
     },
     "execution_count": 73,
     "metadata": {},
     "output_type": "execute_result"
    }
   ],
   "source": [
    "solution(1)"
   ]
  },
  {
   "cell_type": "code",
   "execution_count": null,
   "id": "a1fe1848",
   "metadata": {},
   "outputs": [],
   "source": []
  }
 ],
 "metadata": {
  "kernelspec": {
   "display_name": "Python 3 (ipykernel)",
   "language": "python",
   "name": "python3"
  },
  "language_info": {
   "codemirror_mode": {
    "name": "ipython",
    "version": 3
   },
   "file_extension": ".py",
   "mimetype": "text/x-python",
   "name": "python",
   "nbconvert_exporter": "python",
   "pygments_lexer": "ipython3",
   "version": "3.9.12"
  }
 },
 "nbformat": 4,
 "nbformat_minor": 5
}
