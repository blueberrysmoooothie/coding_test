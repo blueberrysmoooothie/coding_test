{
 "cells": [
  {
   "attachments": {},
   "cell_type": "markdown",
   "metadata": {},
   "source": [
    "연속된 부분 수열의 합\n",
    "---\n",
    "https://school.programmers.co.kr/learn/courses/30/lessons/178870"
   ]
  },
  {
   "cell_type": "code",
   "execution_count": 24,
   "metadata": {},
   "outputs": [],
   "source": [
    "def solution(sequence, k):\n",
    "    left = 1\n",
    "    right = len(sequence)\n",
    "    l = (left+right)//2\n",
    "    while left<right:\n",
    "        if sum(sequence[-l:])>=k:\n",
    "            right = l\n",
    "        else:\n",
    "            left = l+1\n",
    "        l = (left+right)//2\n",
    "    \n",
    "\n",
    "    while True:\n",
    "        left = 0\n",
    "        right = len(sequence)-l\n",
    "        cur = (left+right)//2\n",
    "        while left<right:\n",
    "            if sum(sequence[cur:cur+l])>=k:\n",
    "                right = cur\n",
    "            else:\n",
    "                left = cur+1\n",
    "            cur = (left+right)//2\n",
    "        print(l, sequence[cur:cur+l])\n",
    "        if sum(sequence[cur:cur+l])== k:\n",
    "            break\n",
    "        l+=1    \n",
    "\n",
    "\n",
    "\n",
    "\n",
    "\n",
    "    answer = []\n",
    "    return [cur, cur+l-1]"
   ]
  },
  {
   "cell_type": "code",
   "execution_count": 62,
   "metadata": {},
   "outputs": [],
   "source": [
    "def solution(sequence, k):\n",
    "    L = len(sequence)\n",
    "    pre_sum = [0,sequence[0]]\n",
    "    for i in range(1,L):\n",
    "        pre_sum.append(sequence[i]+ pre_sum[-1])\n",
    "    left = 1\n",
    "    right = L\n",
    "\n",
    "    l = (left+right)//2\n",
    "    while left!=right:\n",
    "        if pre_sum[-1]-pre_sum[-l-1]>=k:\n",
    "            right = l\n",
    "        else:\n",
    "            left = l+1\n",
    "        l = (left+right)//2\n",
    "    \n",
    "    while True:\n",
    "        left = 0\n",
    "        right = L-l\n",
    "        cur = (left+right)//2\n",
    "        while left!=right:\n",
    "            if pre_sum[cur+l]-pre_sum[cur]>=k:\n",
    "                right = cur\n",
    "            else:\n",
    "                left = cur+1\n",
    "            cur = (left+right)//2\n",
    "        # print(cur, l, pre_sum)\n",
    "        # print(l, pre_sum[cur+l], pre_sum[cur])\n",
    "        if pre_sum[cur+l]-pre_sum[cur]== k:\n",
    "            return [cur, cur+l-1]\n",
    "        l+=1    \n",
    "\n",
    "    "
   ]
  },
  {
   "cell_type": "code",
   "execution_count": 63,
   "metadata": {},
   "outputs": [
    {
     "name": "stdout",
     "output_type": "stream",
     "text": [
      "6 1 [0, 1, 2, 3, 5, 8, 12, 17]\n",
      "1 17 12\n"
     ]
    },
    {
     "data": {
      "text/plain": [
       "[6, 6]"
      ]
     },
     "execution_count": 63,
     "metadata": {},
     "output_type": "execute_result"
    }
   ],
   "source": [
    "solution([1, 1, 1, 2, 3, 4, 5], 5)"
   ]
  },
  {
   "cell_type": "code",
   "execution_count": null,
   "metadata": {},
   "outputs": [],
   "source": []
  }
 ],
 "metadata": {
  "kernelspec": {
   "display_name": "Python 3",
   "language": "python",
   "name": "python3"
  },
  "language_info": {
   "codemirror_mode": {
    "name": "ipython",
    "version": 3
   },
   "file_extension": ".py",
   "mimetype": "text/x-python",
   "name": "python",
   "nbconvert_exporter": "python",
   "pygments_lexer": "ipython3",
   "version": "3.11.2"
  },
  "orig_nbformat": 4
 },
 "nbformat": 4,
 "nbformat_minor": 2
}
