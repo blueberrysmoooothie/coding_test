{
 "cells": [
  {
   "attachments": {},
   "cell_type": "markdown",
   "metadata": {},
   "source": [
    "큰 수 만들기\n",
    "---\n",
    "https://school.programmers.co.kr/learn/courses/30/lessons/42883"
   ]
  },
  {
   "cell_type": "code",
   "execution_count": 9,
   "metadata": {},
   "outputs": [],
   "source": [
    "def solution(number, k):\n",
    "    \n",
    "    result = []\n",
    "    \n",
    "    def func(num, n=0):\n",
    "        if n == k:\n",
    "            result.append(int(''.join(num)))\n",
    "            # if int(''.join(num))> max_:\n",
    "            #     max_ = int(''.join(num))\n",
    "            return 0\n",
    "        \n",
    "        n+=1\n",
    "        for i in range(len(num)):\n",
    "            t = num.pop(i)\n",
    "            func(num, n)\n",
    "            num.insert(i, t)\n",
    "    num = list(number)\n",
    "    # max_ = 0        \n",
    "    func(num)\n",
    "    return str(max(result))"
   ]
  },
  {
   "cell_type": "code",
   "execution_count": null,
   "metadata": {},
   "outputs": [],
   "source": [
    "def solution(number, k):\n",
    "    def func(num, n=0):\n",
    "        result = []\n",
    "        for i in range(len(num)):\n",
    "            t = num.pop(i)\n",
    "            result.append(int(''.join(num)))\n",
    "            num.insert(i, t)\n",
    "        num.pop(result.index(max(result)))\n",
    "        return num\n",
    "\n",
    "    num = list(number)\n",
    "    for j in range(k):\n",
    "        num = func(num)\n",
    "    return ''.join(num)"
   ]
  },
  {
   "cell_type": "code",
   "execution_count": null,
   "metadata": {},
   "outputs": [],
   "source": [
    "def solution(number, k):\n",
    "    num = list(number)\n",
    "    for j in range(k):\n",
    "        l = len(num)\n",
    "        for i in range(len(num)-1):\n",
    "            if num[i] < num[i+1]:\n",
    "                num.pop(i)\n",
    "                break\n",
    "        if len(num)==l:\n",
    "            num.pop()\n",
    "    return ''.join(num)"
   ]
  },
  {
   "cell_type": "code",
   "execution_count": 60,
   "metadata": {},
   "outputs": [],
   "source": [
    "def solution(number, k):\n",
    "    s = 0\n",
    "    for j in range(k):\n",
    "        l = len(number)\n",
    "        for i in range(s, len(number)-1):\n",
    "            if number[i] < number[i+1]:\n",
    "                number = number[:i]+number[i+1:]\n",
    "                s =max(0,i-1)\n",
    "                break\n",
    "        if len(number)==l:\n",
    "            number= number[:-1]\n",
    "            s = len(number)-1\n",
    "    return number"
   ]
  },
  {
   "cell_type": "code",
   "execution_count": 61,
   "metadata": {},
   "outputs": [
    {
     "data": {
      "text/plain": [
       "'85'"
      ]
     },
     "execution_count": 61,
     "metadata": {},
     "output_type": "execute_result"
    }
   ],
   "source": [
    "solution('128425',4)"
   ]
  },
  {
   "cell_type": "code",
   "execution_count": null,
   "metadata": {},
   "outputs": [],
   "source": []
  }
 ],
 "metadata": {
  "kernelspec": {
   "display_name": "Python 3",
   "language": "python",
   "name": "python3"
  },
  "language_info": {
   "codemirror_mode": {
    "name": "ipython",
    "version": 3
   },
   "file_extension": ".py",
   "mimetype": "text/x-python",
   "name": "python",
   "nbconvert_exporter": "python",
   "pygments_lexer": "ipython3",
   "version": "3.10.8"
  },
  "orig_nbformat": 4,
  "vscode": {
   "interpreter": {
    "hash": "1eaddad8910a63e993320c00f976674dd19739aa47ccb16e46e67145212d406a"
   }
  }
 },
 "nbformat": 4,
 "nbformat_minor": 2
}
