{
 "cells": [
  {
   "attachments": {},
   "cell_type": "markdown",
   "metadata": {},
   "source": [
    "혼자 놀기의 달인\n",
    "---\n",
    "https://school.programmers.co.kr/learn/courses/30/lessons/131130"
   ]
  },
  {
   "cell_type": "code",
   "execution_count": 16,
   "metadata": {},
   "outputs": [],
   "source": [
    "def solution(cards):\n",
    "    answer = 0\n",
    "    seen = []\n",
    "    lens = []\n",
    "    for i in cards:\n",
    "        if i in seen:\n",
    "            continue\n",
    "        cur = i\n",
    "        cur_seen = []\n",
    "        while True:\n",
    "            cur_seen.append(cur)\n",
    "            n = cards[cur-1]\n",
    "            if n in cur_seen:\n",
    "                break\n",
    "            cur = n\n",
    "        lens.append(len(cur_seen))\n",
    "        seen += cur_seen\n",
    "    lens =sorted(lens,reverse=True)\n",
    "\n",
    "    try:\n",
    "        return lens[0]*lens[1]\n",
    "    except:\n",
    "        return 0"
   ]
  },
  {
   "cell_type": "code",
   "execution_count": 17,
   "metadata": {},
   "outputs": [
    {
     "name": "stdout",
     "output_type": "stream",
     "text": [
      "[2, 1]\n"
     ]
    },
    {
     "data": {
      "text/plain": [
       "0"
      ]
     },
     "execution_count": 17,
     "metadata": {},
     "output_type": "execute_result"
    }
   ],
   "source": [
    "solution([2,1,])"
   ]
  },
  {
   "cell_type": "code",
   "execution_count": null,
   "metadata": {},
   "outputs": [],
   "source": []
  }
 ],
 "metadata": {
  "kernelspec": {
   "display_name": "Python 3",
   "language": "python",
   "name": "python3"
  },
  "language_info": {
   "codemirror_mode": {
    "name": "ipython",
    "version": 3
   },
   "file_extension": ".py",
   "mimetype": "text/x-python",
   "name": "python",
   "nbconvert_exporter": "python",
   "pygments_lexer": "ipython3",
   "version": "3.10.8"
  },
  "orig_nbformat": 4,
  "vscode": {
   "interpreter": {
    "hash": "1eaddad8910a63e993320c00f976674dd19739aa47ccb16e46e67145212d406a"
   }
  }
 },
 "nbformat": 4,
 "nbformat_minor": 2
}
