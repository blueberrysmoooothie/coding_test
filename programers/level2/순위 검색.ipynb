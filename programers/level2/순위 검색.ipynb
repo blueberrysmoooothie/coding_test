{
 "cells": [
  {
   "attachments": {},
   "cell_type": "markdown",
   "metadata": {},
   "source": [
    "순위 검색\n",
    "---\n",
    "https://school.programmers.co.kr/learn/courses/30/lessons/72412"
   ]
  },
  {
   "cell_type": "code",
   "execution_count": 53,
   "metadata": {},
   "outputs": [],
   "source": [
    "import pandas as pd\n",
    "def solution(info, query):\n",
    "    df = pd.DataFrame(columns=['개발언어', '직군', '경력', '소울푸드', '점수'])\n",
    "    for f in info:\n",
    "        df.loc[len(df)] = f.split()\n",
    "    answer = []\n",
    "    \n",
    "    for q in query:\n",
    "        ql = [l for l in q.split() if l != 'and']\n",
    "        ans = df.copy()\n",
    "        for i in range(4):\n",
    "            if ql[i]=='-':\n",
    "                continue\n",
    "            ans = ans[ans[ans.columns[i]]==ql[i]]\n",
    "        ans['점수']= ans['점수'].apply(int)\n",
    "        ans = ans[ans['점수']>=int(ql[-1])]\n",
    "        answer.append(len(ans))\n",
    "        \n",
    "\n",
    "    return answer"
   ]
  },
  {
   "cell_type": "code",
   "execution_count": 59,
   "metadata": {},
   "outputs": [],
   "source": [
    "import pandas as pd\n",
    "def solution(info, query):\n",
    "    info = list(map(lambda x: x.split(), info))\n",
    "    answer = []\n",
    "    for q in query:\n",
    "        ql = [l for l in q.split() if l != 'and']\n",
    "        ind = [i for i in range(len(info))]\n",
    "        for c in range(4):\n",
    "            if ql[c]=='-':\n",
    "                    continue\n",
    "            ind = [i for i in ind if info[i][c]==ql[c]]\n",
    "                \n",
    "                \n",
    "        ind = [i for i in ind if int(info[i][4])==int(ql[4])]\n",
    "        answer.append(len(ind))\n",
    "        \n",
    "\n",
    "    return answer"
   ]
  },
  {
   "cell_type": "code",
   "execution_count": 84,
   "metadata": {},
   "outputs": [],
   "source": [
    "import pandas as pd\n",
    "def solution(info, query):\n",
    "    info = list(map(lambda x: x.split(), info))\n",
    "    answer = []\n",
    "    items = [['cpp', 'java', 'python'], ['backend', 'frontend'], ['junior', 'senior'],['chicken', 'pizza']]\n",
    "    inds = []\n",
    "    for c in range(4):\n",
    "        inds.append([])\n",
    "        for item in items[c]:\n",
    "            ind = set([i for i in range(len(info)) if info[i][c]==item])\n",
    "            inds[-1].append(ind)\n",
    "                \n",
    "    for q in query:\n",
    "        print()\n",
    "        ql = [l for l in q.split() if l != 'and']\n",
    "        ind_q = set([i for i in range(len(info))])\n",
    "        for c in range(4):\n",
    "            print(ind_q)\n",
    "            if ql[c]=='-':\n",
    "                    continue\n",
    "            ind_q = ind_q & inds[c][items[c].index(ql[c])]\n",
    "                \n",
    "                \n",
    "        ind_q = [i for i in list(ind_q) if int(info[i][4])>=int(ql[4])]\n",
    "        answer.append(len(ind_q))\n",
    "        \n",
    "\n",
    "    return answer"
   ]
  },
  {
   "cell_type": "code",
   "execution_count": 88,
   "metadata": {},
   "outputs": [],
   "source": [
    "import pandas as pd\n",
    "def solution(info, query):\n",
    "    info = list(map(lambda x: x.split(), info))\n",
    "    answer = []\n",
    "    items = [['cpp', 'java', 'python'], ['backend', 'frontend'], ['junior', 'senior'],['chicken', 'pizza']]\n",
    "    inds = []\n",
    "    for c in range(4):\n",
    "        inds.append([])\n",
    "        for item in items[c]:\n",
    "            ind = set([i for i in range(len(info)) if info[i][c]==item])\n",
    "            inds[-1].append(ind)\n",
    "                \n",
    "    for q in query:\n",
    "        ql = [l for l in q.split() if l != 'and']\n",
    "        cs = [c for c in range(4) if ql[c]!='-']\n",
    "        if len(cs):\n",
    "            ind_q = inds[cs[0]][items[cs[0]].index(ql[cs[0]])]\n",
    "            for c in cs[1:]:\n",
    "                ind_q = ind_q & inds[c][items[c].index(ql[c])]\n",
    "            ind_q = [i for i in list(ind_q) if int(info[i][4])>=int(ql[4])]\n",
    "                \n",
    "        else:        \n",
    "            ind_q = [i for i in range(len(info)) if int(info[i][4])>=int(ql[4])]\n",
    "        answer.append(len(ind_q))\n",
    "        \n",
    "\n",
    "    return answer"
   ]
  },
  {
   "cell_type": "code",
   "execution_count": 126,
   "metadata": {},
   "outputs": [],
   "source": [
    "import pandas as pd\n",
    "def solution(info, query):\n",
    "    answer = []\n",
    "    items = [['cpp', 'java', 'python'], ['backend', 'frontend'], ['junior', 'senior'],['chicken', 'pizza']]\n",
    "    combs = []\n",
    "    cnts = [[] for i in range(3*2*2*2)]\n",
    "    for i in range(3):\n",
    "        for j in range(2):\n",
    "            for k in range(2):\n",
    "                for l in range(2):\n",
    "                    combs.append(' '.join([items[0][i], items[1][j], items[2][k], items[3][l]]))\n",
    "\n",
    "    for i in info:\n",
    "        for j in range(3*2*2*2):\n",
    "            if combs[j] in i:\n",
    "                cnts[j].append(int(i.split()[-1]))\n",
    "\n",
    "    # for comb, cnt in zip(combs, cnts):\n",
    "    #     print(comb, cnt)\n",
    "\n",
    "    for q in query:\n",
    "        ql = [l for l in q.split() if l not in ['and', '-']]\n",
    "\n",
    "        \n",
    "        if len(ql) == 1:\n",
    "            inds = range(3*2*2*2)\n",
    "        else:\n",
    "            inds = []\n",
    "            for i in range(3*2*2*2):\n",
    "                flg = True\n",
    "                for item in ql[:-1]:\n",
    "                    if item not in combs[i]:\n",
    "                        flg = False\n",
    "                        break\n",
    "                if flg:\n",
    "                    inds.append(i)\n",
    "        answer.append(len([score for i in inds for score in cnts[i] if score >= int(ql[-1])]))\n",
    "\n",
    "\n",
    "\n",
    "    return answer"
   ]
  },
  {
   "cell_type": "code",
   "execution_count": 146,
   "metadata": {},
   "outputs": [],
   "source": [
    "def solution(info, query):\n",
    "    answer = []\n",
    "    items = [['cpp', 'java', 'python','-'], ['backend', 'frontend','-'], ['junior', 'senior','-'],['chicken', 'pizza','-']]\n",
    "    combs = {}\n",
    "    for i in range(4):\n",
    "        for j in range(3):\n",
    "            for k in range(3):\n",
    "                for l in range(3):\n",
    "                    combs[' and '.join([items[0][i], items[1][j], items[2][k], items[3][l]])] = []\n",
    "\n",
    "    for i in info:\n",
    "        row = i.split()\n",
    "        for i in [row[0], '-']:\n",
    "            for j in [row[1], '-']:\n",
    "                for k in [row[2], '-']:\n",
    "                    for l in [row[3], '-']:\n",
    "                        combs[' and '.join([i, j, k, l])].append(int(row[-1]))\n",
    "\n",
    "    # for comb, cnt in combs.items():\n",
    "    #     print(comb, cnt)\n",
    "\n",
    "    for q in query:\n",
    "        q = q.split()\n",
    "        ql = ' '.join(q[:-1])\n",
    "\n",
    "        answer.append(len([score for score in combs[ql] if score >= int(q[-1])]))\n",
    "\n",
    "\n",
    "\n",
    "    return answer"
   ]
  },
  {
   "cell_type": "code",
   "execution_count": 149,
   "metadata": {},
   "outputs": [],
   "source": [
    "\n",
    "def solution(info, query):\n",
    "    answer = []\n",
    "    combs = {}\n",
    "\n",
    "    for i in info:\n",
    "        row = i.split()\n",
    "        for i in [row[0], '-']:\n",
    "            for j in [row[1], '-']:\n",
    "                for k in [row[2], '-']:\n",
    "                    for l in [row[3], '-']:\n",
    "                        try:\n",
    "                            combs[' and '.join([i, j, k, l])].append(int(row[-1]))\n",
    "                        except:\n",
    "                            combs[' and '.join([i, j, k, l])] = [int(row[-1])]\n",
    "\n",
    "    # for comb in combs.keys():\n",
    "    #     combs[comb] = sorted(combs[comb])\n",
    "\n",
    "    for q in query:\n",
    "        q = q.split()\n",
    "        ql = ' '.join(q[:-1])\n",
    "\n",
    "        try:\n",
    "            answer.append(len([score for score in combs[ql] if score >= int(q[-1])]))\n",
    "        except:\n",
    "            answer.append(0)\n",
    "\n",
    "\n",
    "\n",
    "    return answer"
   ]
  },
  {
   "cell_type": "code",
   "execution_count": 158,
   "metadata": {},
   "outputs": [],
   "source": [
    "import bisect\n",
    "def solution(info, query):\n",
    "    answer = []\n",
    "    combs = {}\n",
    "\n",
    "    for i in info:\n",
    "        row = i.split()\n",
    "        for i in [row[0], '-']:\n",
    "            for j in [row[1], '-']:\n",
    "                for k in [row[2], '-']:\n",
    "                    for l in [row[3], '-']:\n",
    "                        try:\n",
    "                            combs[' and '.join([i, j, k, l])].append(int(row[-1]))\n",
    "                        except:\n",
    "                            combs[' and '.join([i, j, k, l])] = [int(row[-1])]\n",
    "\n",
    "    for comb in combs.keys():\n",
    "        combs[comb] = sorted(combs[comb])\n",
    "\n",
    "    for q in query:\n",
    "        q = q.split()\n",
    "        ql = ' '.join(q[:-1])\n",
    "        try:\n",
    "            answer.append(len(combs[ql])- bisect.bisect_left(combs[ql], int(q[-1])))\n",
    "        except:\n",
    "            answer.append(0)\n",
    "\n",
    "\n",
    "\n",
    "    return answer"
   ]
  },
  {
   "cell_type": "code",
   "execution_count": 159,
   "metadata": {},
   "outputs": [
    {
     "data": {
      "text/plain": [
       "[1, 1, 1, 1, 2, 4]"
      ]
     },
     "execution_count": 159,
     "metadata": {},
     "output_type": "execute_result"
    }
   ],
   "source": [
    "solution([\"java backend junior pizza 150\", \"python frontend senior chicken 210\", \"python frontend senior chicken 150\", \"cpp backend senior pizza 260\", \"java backend junior chicken 80\", \"python backend senior chicken 50\"], [\"java and backend and junior and pizza 100\", \"python and frontend and senior and chicken 200\", \"cpp and - and senior and pizza 250\", \"- and backend and senior and - 150\", \"- and - and - and chicken 100\", \"- and - and - and - 150\"])"
   ]
  },
  {
   "cell_type": "code",
   "execution_count": 153,
   "metadata": {},
   "outputs": [
    {
     "data": {
      "text/plain": [
       "0"
      ]
     },
     "execution_count": 153,
     "metadata": {},
     "output_type": "execute_result"
    }
   ],
   "source": [
    "import bisect\n",
    "l = [1,2,3]\n",
    "bisect.bisect_left(l, 1)"
   ]
  },
  {
   "cell_type": "code",
   "execution_count": null,
   "metadata": {},
   "outputs": [],
   "source": []
  }
 ],
 "metadata": {
  "kernelspec": {
   "display_name": "Python 3",
   "language": "python",
   "name": "python3"
  },
  "language_info": {
   "codemirror_mode": {
    "name": "ipython",
    "version": 3
   },
   "file_extension": ".py",
   "mimetype": "text/x-python",
   "name": "python",
   "nbconvert_exporter": "python",
   "pygments_lexer": "ipython3",
   "version": "3.10.8"
  },
  "orig_nbformat": 4,
  "vscode": {
   "interpreter": {
    "hash": "1eaddad8910a63e993320c00f976674dd19739aa47ccb16e46e67145212d406a"
   }
  }
 },
 "nbformat": 4,
 "nbformat_minor": 2
}
