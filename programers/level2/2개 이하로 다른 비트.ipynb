{
 "cells": [
  {
   "attachments": {},
   "cell_type": "markdown",
   "metadata": {},
   "source": [
    "2개 이하로 다른 비트\n",
    "---\n",
    "https://school.programmers.co.kr/learn/courses/30/lessons/77885"
   ]
  },
  {
   "cell_type": "code",
   "execution_count": 1,
   "metadata": {},
   "outputs": [],
   "source": [
    "def f(num):\n",
    "    b = str(bin(num))[2:]\n",
    "    while True:\n",
    "        num+=1\n",
    "        nb = str(bin(num))[2:]\n",
    "        if len(b)<len(nb):\n",
    "            b = '0'+b\n",
    "        cnt = 0\n",
    "        for i in range(len(b)-1,-1,-1):\n",
    "            if b[i]!=nb[i]:\n",
    "                cnt+=1\n",
    "            if cnt >2:\n",
    "                break\n",
    "        if cnt<=2:\n",
    "            return num\n",
    "\n",
    "def solution(numbers):\n",
    "    answer = [f(num) for num in numbers]\n",
    "    return answer\n",
    "                    "
   ]
  },
  {
   "cell_type": "code",
   "execution_count": 37,
   "metadata": {},
   "outputs": [],
   "source": [
    "def f(num):\n",
    "    n = num\n",
    "    while True:\n",
    "        num+=1\n",
    "        xor = bin(n^(num))\n",
    "        cnt = 0\n",
    "        for i in range(2,len(xor)):\n",
    "            cnt += int(xor[i])\n",
    "            if cnt > 2:\n",
    "                break\n",
    "        if cnt<=2:\n",
    "            return num\n",
    "\n",
    "def solution(numbers):\n",
    "    answer = [f(num) for num in numbers]\n",
    "    return answer\n",
    "                    "
   ]
  },
  {
   "cell_type": "code",
   "execution_count": 46,
   "metadata": {},
   "outputs": [],
   "source": [
    "def f(num):\n",
    "    if num < 3:\n",
    "        return num+1\n",
    "\n",
    "    b = bin(num)\n",
    "    if '0'in b[-2:]:\n",
    "        return num+1\n",
    "    \n",
    "    n = 4\n",
    "    for i in range(len(b)-3, 1,-1):\n",
    "        if b[i]=='0':\n",
    "            break\n",
    "        n*=2\n",
    "    return num+n//2\n",
    "\n",
    "\n",
    "def solution(numbers):\n",
    "    answer = [f(num) for num in numbers]\n",
    "    return answer\n",
    "                    "
   ]
  },
  {
   "cell_type": "code",
   "execution_count": 47,
   "metadata": {},
   "outputs": [
    {
     "data": {
      "text/plain": [
       "[5, 11]"
      ]
     },
     "execution_count": 47,
     "metadata": {},
     "output_type": "execute_result"
    }
   ],
   "source": [
    "solution([3,7])"
   ]
  },
  {
   "cell_type": "code",
   "execution_count": 45,
   "metadata": {},
   "outputs": [
    {
     "name": "stdout",
     "output_type": "stream",
     "text": [
      "0b111 0b1011 0b1100\n"
     ]
    }
   ],
   "source": [
    "print(bin(7), bin(11), bin(7^11))"
   ]
  },
  {
   "cell_type": "code",
   "execution_count": null,
   "metadata": {},
   "outputs": [],
   "source": []
  }
 ],
 "metadata": {
  "kernelspec": {
   "display_name": "Python 3",
   "language": "python",
   "name": "python3"
  },
  "language_info": {
   "codemirror_mode": {
    "name": "ipython",
    "version": 3
   },
   "file_extension": ".py",
   "mimetype": "text/x-python",
   "name": "python",
   "nbconvert_exporter": "python",
   "pygments_lexer": "ipython3",
   "version": "3.10.8"
  },
  "orig_nbformat": 4,
  "vscode": {
   "interpreter": {
    "hash": "1eaddad8910a63e993320c00f976674dd19739aa47ccb16e46e67145212d406a"
   }
  }
 },
 "nbformat": 4,
 "nbformat_minor": 2
}
