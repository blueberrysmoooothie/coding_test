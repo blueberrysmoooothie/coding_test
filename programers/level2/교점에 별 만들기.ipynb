{
 "cells": [
  {
   "attachments": {},
   "cell_type": "markdown",
   "metadata": {},
   "source": [
    "교점에 별 만들기\n",
    "---\n",
    "https://school.programmers.co.kr/learn/courses/30/lessons/87377"
   ]
  },
  {
   "cell_type": "code",
   "execution_count": 34,
   "metadata": {},
   "outputs": [],
   "source": [
    "def solution(line):\n",
    "    xs,ys = [],[]\n",
    "    for i in range(len(line)-1):\n",
    "        for j in range(i+1, len(line)):\n",
    "            A,B,E = line[i]\n",
    "            C,D,F = line[j]\n",
    "\n",
    "            if A*D == B*C:\n",
    "                continue\n",
    "\n",
    "\n",
    "            # elif line[j][1] ==0:\n",
    "            #     d = line[j][1]/line[i][1]\n",
    "            #     a = line[j][0]-d*line[i][0]\n",
    "            #     c = line[j][2]-d*line[i][2]\n",
    "\n",
    "            # else:\n",
    "            #     d = line[i][1]/line[j][1]\n",
    "            #     a = line[i][0]-d*line[j][0]\n",
    "            #     c = line[i][2]-d*line[j][2]\n",
    "\n",
    "            # # print(line[i], line[j],a,c)\n",
    "            # x = -c/a\n",
    "            # if x%1 != 0:\n",
    "            #     continue\n",
    "\n",
    "            # y = -line[i][0]/line[i][1] * x -line[i][2]/line[i][1]\n",
    "\n",
    "            x = (B*F - E*D)/(A*D-B*C)\n",
    "            y = (E*C - A*F)/(A*D-B*C)\n",
    "\n",
    "            if x%1 == 0 and y%1 ==0:\n",
    "                xs.append(int(x))\n",
    "                ys.append(int(y))\n",
    "\n",
    "    min_x, min_y = min(xs), min(ys)\n",
    "    xs = [x- min_x for x in xs]\n",
    "    ys = [y- min_y for y in ys]\n",
    "    answer = [['.']*(max(xs)+1) for _ in range(max(ys)+1)]\n",
    "    # print(xs, ys)\n",
    "\n",
    "    for x,y in zip(xs,ys):\n",
    "        answer[max(ys)-y][x] = '*'\n",
    "    \n",
    "    return [''.join(ans) for ans in answer]"
   ]
  },
  {
   "cell_type": "code",
   "execution_count": 35,
   "metadata": {},
   "outputs": [
    {
     "data": {
      "text/plain": [
       "['....*....',\n",
       " '.........',\n",
       " '.........',\n",
       " '*.......*',\n",
       " '.........',\n",
       " '.........',\n",
       " '.........',\n",
       " '.........',\n",
       " '*.......*']"
      ]
     },
     "execution_count": 35,
     "metadata": {},
     "output_type": "execute_result"
    }
   ],
   "source": [
    "solution([[2, -1, 4], [-2, -1, 4], [0, -1, 1], [5, -8, -12], [5, 8, 12]])"
   ]
  },
  {
   "cell_type": "code",
   "execution_count": 9,
   "metadata": {},
   "outputs": [
    {
     "data": {
      "text/plain": [
       "0.3"
      ]
     },
     "execution_count": 9,
     "metadata": {},
     "output_type": "execute_result"
    }
   ],
   "source": [
    "0.3 %1\n"
   ]
  },
  {
   "cell_type": "code",
   "execution_count": null,
   "metadata": {},
   "outputs": [],
   "source": []
  }
 ],
 "metadata": {
  "kernelspec": {
   "display_name": "Python 3",
   "language": "python",
   "name": "python3"
  },
  "language_info": {
   "codemirror_mode": {
    "name": "ipython",
    "version": 3
   },
   "file_extension": ".py",
   "mimetype": "text/x-python",
   "name": "python",
   "nbconvert_exporter": "python",
   "pygments_lexer": "ipython3",
   "version": "3.10.8"
  },
  "orig_nbformat": 4,
  "vscode": {
   "interpreter": {
    "hash": "1eaddad8910a63e993320c00f976674dd19739aa47ccb16e46e67145212d406a"
   }
  }
 },
 "nbformat": 4,
 "nbformat_minor": 2
}
