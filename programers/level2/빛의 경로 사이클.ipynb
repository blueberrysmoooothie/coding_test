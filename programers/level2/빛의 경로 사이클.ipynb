{
 "cells": [
  {
   "attachments": {},
   "cell_type": "markdown",
   "metadata": {},
   "source": [
    "빛의 경로 사이클\n",
    "---\n",
    "https://school.programmers.co.kr/learn/courses/30/lessons/86052"
   ]
  },
  {
   "cell_type": "code",
   "execution_count": 19,
   "metadata": {},
   "outputs": [],
   "source": [
    "def solution(grid):\n",
    "    def light(f,v):\n",
    "        moved[f'{f[0]}행 {f[1]}열'].append(v)\n",
    "        if v == 1:\n",
    "            if f[0]==0:\n",
    "                f[0] = len(grid)-1\n",
    "            else:\n",
    "                f[0] = f[0]-1\n",
    "            if grid[f[0]][f[1]] == 'L':\n",
    "                v = 3\n",
    "            elif grid[f[0]][f[1]] == 'R':\n",
    "                v = 4\n",
    "\n",
    "        elif v == 2:\n",
    "            f[0] = (f[0]+1)%len(grid)\n",
    "            if grid[f[0]][f[1]] == 'L':\n",
    "                v = 4\n",
    "            elif grid[f[0]][f[1]] == 'R':\n",
    "                v = 3\n",
    "        elif v == 3:\n",
    "            if f[1]==0:\n",
    "                f[1] = len(grid[0])-1\n",
    "            else:\n",
    "                f[1] = f[1]-1\n",
    "\n",
    "            if grid[f[0]][f[1]] == 'L':\n",
    "                v = 2\n",
    "            elif grid[f[0]][f[1]] == 'R':\n",
    "                v = 1\n",
    "        else:\n",
    "            f[1] = (f[1]+1)%len(grid[0])\n",
    "            if grid[f[0]][f[1]] == 'L':\n",
    "                v = 1\n",
    "            elif grid[f[0]][f[1]] == 'R':\n",
    "                v = 2\n",
    "        return f, v\n",
    "\n",
    "    moved = {}\n",
    "    for r in range(len(grid)):\n",
    "        for c in range(len(grid[0])):\n",
    "            moved[f'{r}행 {c}열'] = []\n",
    "    \n",
    "    result = []\n",
    "    for r in range(len(grid)):\n",
    "        for c in range(len(grid[0])):\n",
    "            for vector in range(1,5):\n",
    "                if vector in moved[f'{r}행 {c}열']:\n",
    "                    continue\n",
    "\n",
    "                f, v = [r,c], vector\n",
    "                cnt = 0\n",
    "                while True:\n",
    "                    cnt+=1\n",
    "                    # print(f, v)\n",
    "                    f,v = light(f,v)\n",
    "                    \n",
    "                    if f'{f[0]}행 {f[1]}열' in moved.keys():\n",
    "                        if v in moved[f'{f[0]}행 {f[1]}열']:\n",
    "                            break\n",
    "                result.append(cnt)\n",
    "\n",
    "    return sorted(result)"
   ]
  },
  {
   "cell_type": "code",
   "execution_count": 20,
   "metadata": {},
   "outputs": [
    {
     "data": {
      "text/plain": [
       "[1, 1, 1, 1, 2, 2]"
      ]
     },
     "execution_count": 20,
     "metadata": {},
     "output_type": "execute_result"
    }
   ],
   "source": [
    "solution([\"S\", \"S\"] )"
   ]
  },
  {
   "cell_type": "code",
   "execution_count": null,
   "metadata": {},
   "outputs": [],
   "source": []
  }
 ],
 "metadata": {
  "kernelspec": {
   "display_name": "Python 3",
   "language": "python",
   "name": "python3"
  },
  "language_info": {
   "codemirror_mode": {
    "name": "ipython",
    "version": 3
   },
   "file_extension": ".py",
   "mimetype": "text/x-python",
   "name": "python",
   "nbconvert_exporter": "python",
   "pygments_lexer": "ipython3",
   "version": "3.10.8"
  },
  "orig_nbformat": 4,
  "vscode": {
   "interpreter": {
    "hash": "1eaddad8910a63e993320c00f976674dd19739aa47ccb16e46e67145212d406a"
   }
  }
 },
 "nbformat": 4,
 "nbformat_minor": 2
}
