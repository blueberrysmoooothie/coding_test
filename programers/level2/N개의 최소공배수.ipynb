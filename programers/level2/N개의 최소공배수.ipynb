{
 "cells": [
  {
   "cell_type": "markdown",
   "metadata": {},
   "source": [
    "N개의 최소공배수\n",
    "---\n",
    "https://school.programmers.co.kr/learn/courses/30/lessons/12953"
   ]
  },
  {
   "cell_type": "code",
   "execution_count": 12,
   "metadata": {},
   "outputs": [],
   "source": [
    "def get_div(num):\n",
    "    div_dict = {}\n",
    "    while num!=1:\n",
    "        for i in range(2, num+1):\n",
    "            if num%i == 0:\n",
    "                if i in div_dict.keys():\n",
    "                    div_dict[i]+=1\n",
    "                else:\n",
    "                    div_dict[i]=1\n",
    "                num = int(num/i)\n",
    "                break\n",
    "    return div_dict\n",
    "def solution(arr):\n",
    "    div_nums = []\n",
    "    for i in arr:\n",
    "        div_nums.append(get_div(i))\n",
    "        # print(div_nums)\n",
    "    div_set = set()\n",
    "    for div in div_nums:\n",
    "        for k in div.keys():\n",
    "            div_set.add(k)\n",
    "    result = 1\n",
    "    for k in div_set:\n",
    "        result *= k**max([0 if k not in d.keys() else d[k] for d in div_nums])\n",
    "\n",
    "    return result"
   ]
  },
  {
   "cell_type": "code",
   "execution_count": 13,
   "metadata": {},
   "outputs": [
    {
     "name": "stdout",
     "output_type": "stream",
     "text": [
      "{13, 2, 3, 5}\n"
     ]
    },
    {
     "data": {
      "text/plain": [
       "780"
      ]
     },
     "execution_count": 13,
     "metadata": {},
     "output_type": "execute_result"
    }
   ],
   "source": [
    "solution([10, 12, 13])"
   ]
  },
  {
   "cell_type": "code",
   "execution_count": null,
   "metadata": {},
   "outputs": [],
   "source": []
  }
 ],
 "metadata": {
  "kernelspec": {
   "display_name": "Python 3.8.10 64-bit",
   "language": "python",
   "name": "python3"
  },
  "language_info": {
   "codemirror_mode": {
    "name": "ipython",
    "version": 3
   },
   "file_extension": ".py",
   "mimetype": "text/x-python",
   "name": "python",
   "nbconvert_exporter": "python",
   "pygments_lexer": "ipython3",
   "version": "3.8.10"
  },
  "orig_nbformat": 4,
  "vscode": {
   "interpreter": {
    "hash": "761f0ed58ed03a7b8d407c7a2163809381c449da5ceb88951a1a7dc71180eff3"
   }
  }
 },
 "nbformat": 4,
 "nbformat_minor": 2
}
