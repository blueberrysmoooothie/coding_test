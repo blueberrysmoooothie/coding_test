{
 "cells": [
  {
   "cell_type": "markdown",
   "id": "86cc802a",
   "metadata": {},
   "source": [
    "튜플\n",
    "---\n",
    "https://school.programmers.co.kr/learn/courses/30/lessons/64065"
   ]
  },
  {
   "cell_type": "code",
   "execution_count": 44,
   "id": "3c536174",
   "metadata": {},
   "outputs": [],
   "source": [
    "import re\n",
    "def solution(s):\n",
    "    p = re.compile(r'[\\d][,\\d]*')\n",
    "    sets = [set(map(int, s.split(','))) for s in sorted(p.findall(s), key = lambda x :len(x))]\n",
    "    answer = []\n",
    "    for s in sets:\n",
    "        answer.append(s.difference(set(answer)).pop())\n",
    "        \n",
    "\n",
    "    return answer"
   ]
  },
  {
   "cell_type": "code",
   "execution_count": 45,
   "id": "e0254987",
   "metadata": {},
   "outputs": [
    {
     "data": {
      "text/plain": [
       "[2, 1, 3, 4]"
      ]
     },
     "execution_count": 45,
     "metadata": {},
     "output_type": "execute_result"
    }
   ],
   "source": [
    "solution(\"{{2},{2,1},{2,1,3},{2,1,3,4}}\")"
   ]
  },
  {
   "cell_type": "code",
   "execution_count": null,
   "id": "2dff8395",
   "metadata": {},
   "outputs": [],
   "source": []
  }
 ],
 "metadata": {
  "kernelspec": {
   "display_name": "Python 3 (ipykernel)",
   "language": "python",
   "name": "python3"
  },
  "language_info": {
   "codemirror_mode": {
    "name": "ipython",
    "version": 3
   },
   "file_extension": ".py",
   "mimetype": "text/x-python",
   "name": "python",
   "nbconvert_exporter": "python",
   "pygments_lexer": "ipython3",
   "version": "3.9.12"
  }
 },
 "nbformat": 4,
 "nbformat_minor": 5
}
