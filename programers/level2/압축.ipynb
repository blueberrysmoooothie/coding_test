{
 "cells": [
  {
   "cell_type": "markdown",
   "metadata": {},
   "source": [
    "압축\n",
    "---\n",
    "https://school.programmers.co.kr/learn/courses/30/lessons/17684"
   ]
  },
  {
   "cell_type": "code",
   "execution_count": 11,
   "metadata": {},
   "outputs": [],
   "source": [
    "def solution(msg):\n",
    "    dic = list('ABCDEFGHIJKLMNOPQRSTUVWXYZ')\n",
    "    answer = []\n",
    "    i = 0\n",
    "    while i <len(msg):\n",
    "        j = 2\n",
    "        print(dic)\n",
    "        while i+ j < len(msg)+3:\n",
    "            \n",
    "\n",
    "            if msg[i:i+j] not in dic:\n",
    "                print(msg[i:i+j-1])\n",
    "                dic.append(msg[i:i+j])\n",
    "                answer.append(dic.index(msg[i:i+j-1])+1)\n",
    "                print(msg[j:])\n",
    "                break\n",
    "                \n",
    "                \n",
    "            j+=1\n",
    "            \n",
    "        i +=j-1\n",
    "        \n",
    "    return answer"
   ]
  },
  {
   "cell_type": "code",
   "execution_count": 36,
   "metadata": {},
   "outputs": [],
   "source": [
    "def solution(msg):\n",
    "    dic = list('ABCDEFGHIJKLMNOPQRSTUVWXYZ')\n",
    "    answer = []\n",
    "    i = 0\n",
    "    while i<len(msg):\n",
    "        # print(dic)\n",
    "        j = 2\n",
    "        while True:\n",
    "\n",
    "            if msg[i:i+j] not in dic:\n",
    "                dic.append(msg[i:i+j])\n",
    "                answer.append(dic.index(msg[i:i+j-1])+1)\n",
    "                break\n",
    "            \n",
    "            elif i+j >len(msg):\n",
    "                answer.append(dic.index(msg[i:])+1)\n",
    "                break\n",
    "            j+=1\n",
    "        \n",
    "        i += j -1\n",
    "        \n",
    "    return answer"
   ]
  },
  {
   "cell_type": "code",
   "execution_count": 37,
   "metadata": {},
   "outputs": [
    {
     "name": "stdout",
     "output_type": "stream",
     "text": [
      "['A', 'B', 'C', 'D', 'E', 'F', 'G', 'H', 'I', 'J', 'K', 'L', 'M', 'N', 'O', 'P', 'Q', 'R', 'S', 'T', 'U', 'V', 'W', 'Z', 'Y', 'Z']\n",
      "['A', 'B', 'C', 'D', 'E', 'F', 'G', 'H', 'I', 'J', 'K', 'L', 'M', 'N', 'O', 'P', 'Q', 'R', 'S', 'T', 'U', 'V', 'W', 'Z', 'Y', 'Z', 'KA']\n",
      "['A', 'B', 'C', 'D', 'E', 'F', 'G', 'H', 'I', 'J', 'K', 'L', 'M', 'N', 'O', 'P', 'Q', 'R', 'S', 'T', 'U', 'V', 'W', 'Z', 'Y', 'Z', 'KA', 'AK']\n",
      "['A', 'B', 'C', 'D', 'E', 'F', 'G', 'H', 'I', 'J', 'K', 'L', 'M', 'N', 'O', 'P', 'Q', 'R', 'S', 'T', 'U', 'V', 'W', 'Z', 'Y', 'Z', 'KA', 'AK', 'KAO']\n"
     ]
    },
    {
     "data": {
      "text/plain": [
       "[11, 1, 27, 15]"
      ]
     },
     "execution_count": 37,
     "metadata": {},
     "output_type": "execute_result"
    }
   ],
   "source": [
    "solution('KAKAO')"
   ]
  },
  {
   "cell_type": "code",
   "execution_count": 39,
   "metadata": {},
   "outputs": [
    {
     "name": "stdout",
     "output_type": "stream",
     "text": [
      "['A', 'B', 'C', 'D', 'E', 'F', 'G', 'H', 'I', 'J', 'K', 'L', 'M', 'N', 'O', 'P', 'Q', 'R', 'S', 'T', 'U', 'V', 'W', 'Z', 'Y', 'Z']\n"
     ]
    },
    {
     "data": {
      "text/plain": [
       "[20]"
      ]
     },
     "execution_count": 39,
     "metadata": {},
     "output_type": "execute_result"
    }
   ],
   "source": [
    "solution('T')"
   ]
  },
  {
   "cell_type": "code",
   "execution_count": null,
   "metadata": {},
   "outputs": [],
   "source": []
  }
 ],
 "metadata": {
  "kernelspec": {
   "display_name": "Python 3.9.12 ('base')",
   "language": "python",
   "name": "python3"
  },
  "language_info": {
   "codemirror_mode": {
    "name": "ipython",
    "version": 3
   },
   "file_extension": ".py",
   "mimetype": "text/x-python",
   "name": "python",
   "nbconvert_exporter": "python",
   "pygments_lexer": "ipython3",
   "version": "3.9.12"
  },
  "orig_nbformat": 4,
  "vscode": {
   "interpreter": {
    "hash": "43dcd2bd68a9a4e70f29cc439d7eaa1f739547a254547b02445a71f4086f447d"
   }
  }
 },
 "nbformat": 4,
 "nbformat_minor": 2
}
