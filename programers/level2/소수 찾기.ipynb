{
 "cells": [
  {
   "attachments": {},
   "cell_type": "markdown",
   "metadata": {},
   "source": [
    "소수 찾기\n",
    "---\n",
    "https://school.programmers.co.kr/learn/courses/30/lessons/42839"
   ]
  },
  {
   "cell_type": "code",
   "execution_count": 35,
   "metadata": {},
   "outputs": [],
   "source": [
    "def solution(numbers):\n",
    "    answers = []\n",
    "\n",
    "    def is_ord(n):\n",
    "        if n<2:\n",
    "            return 0\n",
    "        for i in range(2, int(n**0.5)+1):\n",
    "            if n%i ==0 :\n",
    "                return 0\n",
    "        answers.append(n)\n",
    "\n",
    "    def greed(numbers, nums=[]):\n",
    "        \n",
    "        # print(numbers, nums)\n",
    "        \n",
    "        for i in range(len(numbers)):\n",
    "            n = numbers.pop(i)\n",
    "            nums.append(n)\n",
    "            # print(int(''.join(nums)))\n",
    "            is_ord(int(''.join(nums)))\n",
    "            greed(numbers,nums)\n",
    "            nums.pop()\n",
    "            numbers.insert(i,n)\n",
    "        \n",
    "    \n",
    "    greed(list(numbers))\n",
    "    answer = len(set(answers))\n",
    "    return answer"
   ]
  },
  {
   "cell_type": "code",
   "execution_count": 30,
   "metadata": {},
   "outputs": [
    {
     "name": "stdout",
     "output_type": "stream",
     "text": [
      "['0'] ['1']\n",
      "[] ['1', '0']\n"
     ]
    },
    {
     "data": {
      "text/plain": [
       "0"
      ]
     },
     "execution_count": 30,
     "metadata": {},
     "output_type": "execute_result"
    }
   ],
   "source": [
    "greed(['0'],['1'])"
   ]
  },
  {
   "cell_type": "code",
   "execution_count": 36,
   "metadata": {},
   "outputs": [
    {
     "data": {
      "text/plain": [
       "2"
      ]
     },
     "execution_count": 36,
     "metadata": {},
     "output_type": "execute_result"
    }
   ],
   "source": [
    "solution(\"011\")"
   ]
  },
  {
   "cell_type": "code",
   "execution_count": null,
   "metadata": {},
   "outputs": [],
   "source": []
  }
 ],
 "metadata": {
  "kernelspec": {
   "display_name": "Python 3",
   "language": "python",
   "name": "python3"
  },
  "language_info": {
   "codemirror_mode": {
    "name": "ipython",
    "version": 3
   },
   "file_extension": ".py",
   "mimetype": "text/x-python",
   "name": "python",
   "nbconvert_exporter": "python",
   "pygments_lexer": "ipython3",
   "version": "3.10.8"
  },
  "orig_nbformat": 4,
  "vscode": {
   "interpreter": {
    "hash": "1eaddad8910a63e993320c00f976674dd19739aa47ccb16e46e67145212d406a"
   }
  }
 },
 "nbformat": 4,
 "nbformat_minor": 2
}
