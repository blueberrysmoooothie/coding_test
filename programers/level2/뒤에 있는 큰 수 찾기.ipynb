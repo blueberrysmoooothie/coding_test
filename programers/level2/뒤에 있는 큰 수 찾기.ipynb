{
 "cells": [
  {
   "attachments": {},
   "cell_type": "markdown",
   "metadata": {},
   "source": [
    "뒤에 있는 큰 수 찾기\n",
    "---\n",
    "https://school.programmers.co.kr/learn/courses/30/lessons/154539"
   ]
  },
  {
   "cell_type": "code",
   "execution_count": 29,
   "metadata": {},
   "outputs": [],
   "source": [
    "def solution(numbers):\n",
    "    stacks = []\n",
    "    answers = []\n",
    "    ind = 0\n",
    "\n",
    "\n",
    "    while ind< len(numbers)-1:\n",
    "        stacks.append([numbers[ind]])\n",
    "        answers.append([])\n",
    "        while ind< len(numbers)-2:\n",
    "            if stacks[-1][-1] >= numbers[ind+1]:\n",
    "                stacks[-1].append(numbers[ind+1])\n",
    "            else:\n",
    "                break\n",
    "            ind+=1\n",
    "\n",
    "        for stack_ind in range(len(stacks)-1, -1,-1):\n",
    "            if len(stacks[stack_ind])==0:\n",
    "                continue\n",
    "            while stacks[stack_ind][-1] < numbers[ind+1]:\n",
    "                answers[stack_ind].insert(0, numbers[ind+1])\n",
    "                stacks[stack_ind].pop()\n",
    "                if len(stacks[stack_ind])==0:\n",
    "                    break\n",
    "            if len(stacks[stack_ind])!=0:\n",
    "                    break\n",
    "        ind +=1\n",
    "\n",
    "\n",
    "    answer = []\n",
    "    for i in range(len(stacks)):\n",
    "        answer += [-1]*len(stacks[i]) + answers[i]\n",
    "\n",
    "    return answer+[-1]\n"
   ]
  },
  {
   "cell_type": "code",
   "execution_count": 35,
   "metadata": {},
   "outputs": [],
   "source": [
    "def solution(numbers):\n",
    "    stacks = []\n",
    "    answers = []\n",
    "    ind = 0\n",
    "\n",
    "\n",
    "    while ind< len(numbers)-1:\n",
    "        stacks.append([numbers[ind]])\n",
    "        answers.append([])\n",
    "        while ind< len(numbers)-2:\n",
    "            next_num = numbers[ind+1]\n",
    "            if stacks[-1][-1] >= next_num:\n",
    "                stacks[-1].append(next_num)\n",
    "            else:\n",
    "                break\n",
    "            ind+=1\n",
    "\n",
    "        next_num = numbers[ind+1]\n",
    "        for stack_ind in range(len(stacks)-1, -1,-1):\n",
    "            if len(stacks[stack_ind])==0:\n",
    "                continue\n",
    "            while stacks[stack_ind][-1] < next_num:\n",
    "                answers[stack_ind].insert(0, next_num)\n",
    "                stacks[stack_ind].pop()\n",
    "                if len(stacks[stack_ind])==0:\n",
    "                    break\n",
    "            if len(stacks[stack_ind])!=0:\n",
    "                    break\n",
    "        ind +=1\n",
    "\n",
    "\n",
    "    answer = []\n",
    "    for i in range(len(stacks)):\n",
    "        answer += [-1]*len(stacks[i]) + answers[i]\n",
    "\n",
    "    return answer+[-1]\n"
   ]
  },
  {
   "cell_type": "code",
   "execution_count": 39,
   "metadata": {},
   "outputs": [],
   "source": [
    "def solution(numbers):\n",
    "    stack = []\n",
    "    answer = [-1 for _ in numbers]\n",
    "    ind = 0\n",
    "\n",
    "    while ind< len(numbers)-1:\n",
    "        stack.append([ind, numbers[ind]])\n",
    "        next_num = numbers[ind+1]\n",
    "        while len(stack):\n",
    "            if stack[-1][1]<next_num:\n",
    "                answer[stack[-1][0]] = next_num\n",
    "                stack.pop()\n",
    "            else:\n",
    "                break\n",
    "        ind +=1\n",
    "\n",
    "    return answer\n"
   ]
  },
  {
   "cell_type": "code",
   "execution_count": 40,
   "metadata": {},
   "outputs": [
    {
     "name": "stdout",
     "output_type": "stream",
     "text": [
      "[[0, 7], [3, 5]] [-1, 5, 5, -1, -1]\n"
     ]
    },
    {
     "data": {
      "text/plain": [
       "[-1, 5, 5, -1, -1]"
      ]
     },
     "execution_count": 40,
     "metadata": {},
     "output_type": "execute_result"
    }
   ],
   "source": [
    "solution(\t[7, 3, 3, 5, 3])"
   ]
  },
  {
   "cell_type": "code",
   "execution_count": null,
   "metadata": {},
   "outputs": [],
   "source": []
  }
 ],
 "metadata": {
  "kernelspec": {
   "display_name": "Python 3",
   "language": "python",
   "name": "python3"
  },
  "language_info": {
   "codemirror_mode": {
    "name": "ipython",
    "version": 3
   },
   "file_extension": ".py",
   "mimetype": "text/x-python",
   "name": "python",
   "nbconvert_exporter": "python",
   "pygments_lexer": "ipython3",
   "version": "3.10.8"
  },
  "orig_nbformat": 4,
  "vscode": {
   "interpreter": {
    "hash": "1eaddad8910a63e993320c00f976674dd19739aa47ccb16e46e67145212d406a"
   }
  }
 },
 "nbformat": 4,
 "nbformat_minor": 2
}
