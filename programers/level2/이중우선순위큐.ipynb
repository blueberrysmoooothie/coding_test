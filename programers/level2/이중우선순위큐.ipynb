{
 "cells": [
  {
   "attachments": {},
   "cell_type": "markdown",
   "metadata": {},
   "source": [
    "이중우선순위큐\n",
    "---\n",
    "https://school.programmers.co.kr/learn/courses/30/lessons/42628"
   ]
  },
  {
   "cell_type": "code",
   "execution_count": 27,
   "metadata": {},
   "outputs": [],
   "source": [
    "def solution(operations):\n",
    "    def add_queue(num):\n",
    "        queue.append(num)\n",
    "\n",
    "    def del_max():\n",
    "        queue.pop(queue.index(max(queue)))\n",
    "\n",
    "    def del_min():\n",
    "        queue.pop(queue.index(min(queue)))\n",
    "\n",
    "    queue = []\n",
    "    answer = []\n",
    "    \n",
    "    for operation in operations:\n",
    "        opr, num = operation.split()\n",
    "        num = int(num)\n",
    "        if opr=='I':\n",
    "            add_queue(num)\n",
    "\n",
    "        else:\n",
    "            try:\n",
    "                if num==1:\n",
    "                    del_max()\n",
    "                else:\n",
    "                    del_min()\n",
    "            except:\n",
    "                pass    \n",
    "    \n",
    "    return [max(queue), min(queue)] if len(queue) else [0,0]"
   ]
  },
  {
   "cell_type": "code",
   "execution_count": 28,
   "metadata": {},
   "outputs": [
    {
     "data": {
      "text/plain": [
       "[333, -45]"
      ]
     },
     "execution_count": 28,
     "metadata": {},
     "output_type": "execute_result"
    }
   ],
   "source": [
    "solution(\t[\"I -45\", \"I 653\", \"D 1\", \"I -642\", \"I 45\", \"I 97\", \"D 1\", \"D -1\", \"I 333\"])"
   ]
  },
  {
   "cell_type": "code",
   "execution_count": 3,
   "metadata": {},
   "outputs": [
    {
     "data": {
      "text/plain": [
       "'-1'"
      ]
     },
     "execution_count": 3,
     "metadata": {},
     "output_type": "execute_result"
    }
   ],
   "source": [
    "min(['-1','1'])"
   ]
  },
  {
   "cell_type": "code",
   "execution_count": null,
   "metadata": {},
   "outputs": [],
   "source": []
  }
 ],
 "metadata": {
  "kernelspec": {
   "display_name": "Python 3",
   "language": "python",
   "name": "python3"
  },
  "language_info": {
   "codemirror_mode": {
    "name": "ipython",
    "version": 3
   },
   "file_extension": ".py",
   "mimetype": "text/x-python",
   "name": "python",
   "nbconvert_exporter": "python",
   "pygments_lexer": "ipython3",
   "version": "3.10.8"
  },
  "orig_nbformat": 4,
  "vscode": {
   "interpreter": {
    "hash": "1eaddad8910a63e993320c00f976674dd19739aa47ccb16e46e67145212d406a"
   }
  }
 },
 "nbformat": 4,
 "nbformat_minor": 2
}
