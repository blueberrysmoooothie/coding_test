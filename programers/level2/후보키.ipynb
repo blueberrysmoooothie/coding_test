{
 "cells": [
  {
   "attachments": {},
   "cell_type": "markdown",
   "metadata": {},
   "source": [
    "후보키\n",
    "---\n",
    "https://school.programmers.co.kr/learn/courses/30/lessons/42890"
   ]
  },
  {
   "cell_type": "code",
   "execution_count": 193,
   "metadata": {},
   "outputs": [],
   "source": [
    "def solution(relation):\n",
    "    def find_multi_key(cols, c_col = []):\n",
    "        # print(c_col)\n",
    "        if c_col in subkeys :\n",
    "            return 0\n",
    "        \n",
    "        uni = set([' '.join([_[col] for col in c_col]) for _ in relation])\n",
    "\n",
    "        if len(uni) == nlow:\n",
    "            flg = True\n",
    "            s = set(c_col)\n",
    "\n",
    "            for k in subkeys:\n",
    "                if k.issubset(s):\n",
    "                    flg = False\n",
    "                    break\n",
    "                if s.issubset(k) and len(k)>len(s):\n",
    "                    subkeys.pop(subkeys.index(k))\n",
    "                    if s not in subkeys:\n",
    "                        subkeys.append(s)\n",
    "                    flg = False\n",
    "            if flg:\n",
    "                subkeys.append(s)\n",
    "\n",
    "            # print(s, subkeys)\n",
    "\n",
    "        if len(cols) == 0:\n",
    "            return 0\n",
    "\n",
    "        for i in range(len(cols)):\n",
    "            c_col.append(cols[i])\n",
    "            find_multi_key(cols[i+1:], c_col)\n",
    "            c_col.pop()\n",
    "\n",
    "    cols = [col for col in range(len(relation[0]))]\n",
    "    \n",
    "    nlow = len(relation)\n",
    "    subkeys = []\n",
    "\n",
    "    for col in cols:\n",
    "        uni = set([_[col] for _ in relation])\n",
    "        if len(uni) == nlow:\n",
    "            # print(col)\n",
    "            subkeys.append(set([col]))\n",
    "    for key in subkeys:\n",
    "        cols.pop(cols.index(list(key)[0]))\n",
    "\n",
    "    find_multi_key(cols)\n",
    "    # print(subkeys)\n",
    "    return len(subkeys)"
   ]
  },
  {
   "cell_type": "code",
   "execution_count": 229,
   "metadata": {},
   "outputs": [],
   "source": [
    "def solution(relation):\n",
    "    def find_multi_key(cols, c_col = []):\n",
    "        # print(c_col)\n",
    "        if c_col in subkeys :\n",
    "            return 0\n",
    "        \n",
    "        uni = set([' '.join([_[col] for col in c_col]) for _ in relation])\n",
    "\n",
    "        if len(uni) == nlow:\n",
    "            subkeys.append(set(c_col))\n",
    "\n",
    "        if len(cols) == 0:\n",
    "            return 0\n",
    "\n",
    "        for i in range(len(cols)):\n",
    "            c_col.append(cols[i])\n",
    "            find_multi_key(cols[i+1:], c_col)\n",
    "            c_col.pop()\n",
    "\n",
    "    cols = [col for col in range(len(relation[0]))]\n",
    "    nlow = len(relation)\n",
    "    subkeys = []\n",
    "    find_multi_key(cols)\n",
    "    subkeys = sorted(subkeys, key = lambda x: len(x))\n",
    "\n",
    "    answer = [subkeys[0]]\n",
    "    for key in subkeys[1:]:\n",
    "        flg = True\n",
    "        for k in answer:\n",
    "            if k.issubset(key):\n",
    "                flg = False\n",
    "                break\n",
    "        \n",
    "        if flg:\n",
    "            answer.append(key)\n",
    "\n",
    "\n",
    "\n",
    "    # print(answer)\n",
    "\n",
    "    return len(answer)"
   ]
  },
  {
   "cell_type": "code",
   "execution_count": 230,
   "metadata": {},
   "outputs": [
    {
     "name": "stdout",
     "output_type": "stream",
     "text": [
      "[{0}, {0, 1}, {0, 2}, {0, 3}, {1, 2}, {0, 1, 2}, {0, 1, 3}, {0, 2, 3}, {1, 2, 3}, {0, 1, 2, 3}]\n",
      "[{0}, {1, 2}]\n"
     ]
    },
    {
     "data": {
      "text/plain": [
       "2"
      ]
     },
     "execution_count": 230,
     "metadata": {},
     "output_type": "execute_result"
    }
   ],
   "source": [
    "solution([[\"100\",\"ryan\",\"music\",\"2\"],[\"200\",\"apeach\",\"math\",\"2\"],[\"300\",\"tube\",\"computer\",\"3\"],[\"400\",\"con\",\"computer\",\"4\"],[\"500\",\"muzi\",\"music\",\"3\"],[\"600\",\"apeach\",\"music\",\"2\"]])"
   ]
  },
  {
   "cell_type": "code",
   "execution_count": 196,
   "metadata": {},
   "outputs": [
    {
     "data": {
      "text/plain": [
       "3"
      ]
     },
     "execution_count": 196,
     "metadata": {},
     "output_type": "execute_result"
    }
   ],
   "source": [
    "solution([['a','1','aaa','c','ng'],['b','1','bbb','c','g'],['c','1','aaa','d','ng'],['d','2','bbb','d','ng']])"
   ]
  },
  {
   "cell_type": "code",
   "execution_count": null,
   "metadata": {},
   "outputs": [],
   "source": []
  }
 ],
 "metadata": {
  "kernelspec": {
   "display_name": "Python 3",
   "language": "python",
   "name": "python3"
  },
  "language_info": {
   "codemirror_mode": {
    "name": "ipython",
    "version": 3
   },
   "file_extension": ".py",
   "mimetype": "text/x-python",
   "name": "python",
   "nbconvert_exporter": "python",
   "pygments_lexer": "ipython3",
   "version": "3.10.8"
  },
  "orig_nbformat": 4,
  "vscode": {
   "interpreter": {
    "hash": "1eaddad8910a63e993320c00f976674dd19739aa47ccb16e46e67145212d406a"
   }
  }
 },
 "nbformat": 4,
 "nbformat_minor": 2
}
