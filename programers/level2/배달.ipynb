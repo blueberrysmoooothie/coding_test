{
 "cells": [
  {
   "cell_type": "markdown",
   "id": "402e5824",
   "metadata": {},
   "source": [
    "https://school.programmers.co.kr/learn/courses/30/lessons/12978"
   ]
  },
  {
   "cell_type": "code",
   "execution_count": 73,
   "id": "6b6011f1",
   "metadata": {},
   "outputs": [],
   "source": [
    "# 거리 메트릭스 만들기\n",
    "def make_mat(N,road):\n",
    "    dis_mat = [[500001 for i in range(N)] for j in range(N)]\n",
    "\n",
    "    \n",
    "    for r in road:\n",
    "        if dis_mat[r[0]-1][r[1]-1] > r[2]:\n",
    "            dis_mat[r[0]-1][r[1]-1] = r[2]\n",
    "            dis_mat[r[1]-1][r[0]-1] = r[2]\n",
    "    return dis_mat\n",
    "    \n",
    "       \n",
    "# 최소경로 업데이트\n",
    "def find_min_dis(N,dis_mat):    \n",
    "    visited=[0]\n",
    "    for i in range(1,N):\n",
    "        next_node = 1\n",
    "        min_dis = 500001\n",
    "        for k in range(1,N):\n",
    "            if k not in visited and dis_mat[0][k]< min_dis:\n",
    "                min_dis =  dis_mat[0][k]\n",
    "                next_node = k\n",
    "        visited.append(next_node) \n",
    "        \n",
    "        for j in [node for node in range(N) if node not in visited]:\n",
    "            if j ==next_node: \n",
    "                pass\n",
    "            if dis_mat[next_node][j] <10001 and dis_mat[0][j] >(dis_mat[0][next_node]+dis_mat[next_node][j]):\n",
    "                dis_mat[0][j] = dis_mat[0][next_node]+dis_mat[next_node][j]\n",
    "                dis_mat[j][0] = dis_mat[0][next_node]+dis_mat[next_node][j]\n",
    "               \n",
    "    return dis_mat\n",
    "    \n",
    "\n",
    "def solution(N, road, K):\n",
    "\n",
    "    dis_mat = make_mat(N,road)\n",
    "    dis_mat = find_min_dis(N,dis_mat)\n",
    "    first_dist = dis_mat[0]\n",
    "    first_dist[0] = 0\n",
    "    \n",
    "    answer = sum([d <= K for d in first_dist])\n",
    "\n",
    "    return answer"
   ]
  },
  {
   "cell_type": "code",
   "execution_count": 74,
   "id": "92c4b344",
   "metadata": {},
   "outputs": [
    {
     "data": {
      "text/plain": [
       "4"
      ]
     },
     "execution_count": 74,
     "metadata": {},
     "output_type": "execute_result"
    }
   ],
   "source": [
    "solution(6, [[1, 2, 1], [1, 3, 2], [2, 3, 2], [3, 4, 3], [3, 5, 2], [3, 5, 3], [5, 6, 1]], 4)"
   ]
  },
  {
   "cell_type": "code",
   "execution_count": null,
   "id": "08483cf3",
   "metadata": {},
   "outputs": [],
   "source": []
  }
 ],
 "metadata": {
  "kernelspec": {
   "display_name": "Python 3 (ipykernel)",
   "language": "python",
   "name": "python3"
  },
  "language_info": {
   "codemirror_mode": {
    "name": "ipython",
    "version": 3
   },
   "file_extension": ".py",
   "mimetype": "text/x-python",
   "name": "python",
   "nbconvert_exporter": "python",
   "pygments_lexer": "ipython3",
   "version": "3.9.12"
  }
 },
 "nbformat": 4,
 "nbformat_minor": 5
}
