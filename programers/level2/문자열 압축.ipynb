{
 "cells": [
  {
   "attachments": {},
   "cell_type": "markdown",
   "metadata": {},
   "source": [
    "문자열 압축\n",
    "---\n",
    "https://school.programmers.co.kr/learn/courses/30/lessons/60057"
   ]
  },
  {
   "cell_type": "code",
   "execution_count": 41,
   "metadata": {},
   "outputs": [],
   "source": [
    "def solution(s):\n",
    "    answer = len(s)\n",
    "    l = len(s)\n",
    "    for i in range(1, l//2 +1):\n",
    "\n",
    "        # if l%i:\n",
    "        #     continue\n",
    "        # print(l, i ,'\\n')\n",
    "        ind = 0\n",
    "        encoded = ''\n",
    "        while ind <l:\n",
    "            cnt = 1\n",
    "            ns = s[ind:ind+i]\n",
    "            while ns == s[ind+i:ind+2*i]:\n",
    "                cnt+=1\n",
    "                ind += i\n",
    "            # print(ind, cnt, ns)\n",
    "\n",
    "            encoded += f'{\"\" if cnt ==1 else cnt}{ns}'\n",
    "            ind += i\n",
    "        \n",
    "        if len(encoded)<answer:\n",
    "            answer = len(encoded)\n",
    "\n",
    "        # print(encoded)\n",
    "        \n",
    "    return answer"
   ]
  },
  {
   "cell_type": "code",
   "execution_count": 42,
   "metadata": {},
   "outputs": [
    {
     "data": {
      "text/plain": [
       "7"
      ]
     },
     "execution_count": 42,
     "metadata": {},
     "output_type": "execute_result"
    }
   ],
   "source": [
    "solution(\"aabbaccc\")"
   ]
  },
  {
   "cell_type": "code",
   "execution_count": null,
   "metadata": {},
   "outputs": [],
   "source": []
  }
 ],
 "metadata": {
  "kernelspec": {
   "display_name": "Python 3",
   "language": "python",
   "name": "python3"
  },
  "language_info": {
   "codemirror_mode": {
    "name": "ipython",
    "version": 3
   },
   "file_extension": ".py",
   "mimetype": "text/x-python",
   "name": "python",
   "nbconvert_exporter": "python",
   "pygments_lexer": "ipython3",
   "version": "3.10.8"
  },
  "orig_nbformat": 4,
  "vscode": {
   "interpreter": {
    "hash": "1eaddad8910a63e993320c00f976674dd19739aa47ccb16e46e67145212d406a"
   }
  }
 },
 "nbformat": 4,
 "nbformat_minor": 2
}
