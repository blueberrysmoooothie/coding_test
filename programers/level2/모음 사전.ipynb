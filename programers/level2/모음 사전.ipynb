{
 "cells": [
  {
   "attachments": {},
   "cell_type": "markdown",
   "metadata": {},
   "source": [
    "모음 사전\n",
    "---\n",
    "https://school.programmers.co.kr/learn/courses/30/lessons/84512"
   ]
  },
  {
   "cell_type": "code",
   "execution_count": 10,
   "metadata": {},
   "outputs": [],
   "source": [
    "def fac(n):\n",
    "    s = 1\n",
    "    for j in range(n-1):\n",
    "        s *= 5\n",
    "        s+=1\n",
    "    return s\n",
    "def solution(word):\n",
    "    dic = {' ':0, 'A':0, 'E':1, 'I':2, 'O':3, 'U':4}\n",
    "    answer = 0\n",
    "    \n",
    "    for i in range(len(word)):\n",
    "        answer += (fac(5-i))*dic[word[i]] +1\n",
    "        # print(answer)\n",
    "    \n",
    "#     dic[a] +1\n",
    "\n",
    "#     6 * dic[a] +1\n",
    "#     (6*5+1) dic[a]\n",
    "    \n",
    "    return answer"
   ]
  },
  {
   "cell_type": "code",
   "execution_count": 11,
   "metadata": {},
   "outputs": [
    {
     "name": "stdout",
     "output_type": "stream",
     "text": [
      "1\n",
      "2\n",
      "3\n",
      "10\n"
     ]
    },
    {
     "data": {
      "text/plain": [
       "10"
      ]
     },
     "execution_count": 11,
     "metadata": {},
     "output_type": "execute_result"
    }
   ],
   "source": [
    "solution('AAAE')"
   ]
  },
  {
   "cell_type": "code",
   "execution_count": null,
   "metadata": {},
   "outputs": [],
   "source": []
  }
 ],
 "metadata": {
  "kernelspec": {
   "display_name": "Python 3",
   "language": "python",
   "name": "python3"
  },
  "language_info": {
   "codemirror_mode": {
    "name": "ipython",
    "version": 3
   },
   "file_extension": ".py",
   "mimetype": "text/x-python",
   "name": "python",
   "nbconvert_exporter": "python",
   "pygments_lexer": "ipython3",
   "version": "3.10.8 (tags/v3.10.8:aaaf517, Oct 11 2022, 16:50:30) [MSC v.1933 64 bit (AMD64)]"
  },
  "orig_nbformat": 4,
  "vscode": {
   "interpreter": {
    "hash": "1eaddad8910a63e993320c00f976674dd19739aa47ccb16e46e67145212d406a"
   }
  }
 },
 "nbformat": 4,
 "nbformat_minor": 2
}
