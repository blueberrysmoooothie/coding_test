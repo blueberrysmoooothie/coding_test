{
 "cells": [
  {
   "attachments": {},
   "cell_type": "markdown",
   "metadata": {},
   "source": [
    "다리를 지나는 트럭\n",
    "---\n",
    "https://school.programmers.co.kr/learn/courses/30/lessons/42583"
   ]
  },
  {
   "cell_type": "code",
   "execution_count": 19,
   "metadata": {},
   "outputs": [],
   "source": [
    "def solution(bridge_length, weight, truck_weights):\n",
    "    on_bridge = []\n",
    "    w=truck_weights[0]\n",
    "    on_bridge.append([truck_weights.pop(0),1])\n",
    "    answer = 1\n",
    "    # print(answer,':',w, on_bridge, truck_weights)\n",
    "    \n",
    "    while True:\n",
    "        answer+=1\n",
    "        for i in range(len(on_bridge)):\n",
    "            on_bridge[i][1]+=1\n",
    "\n",
    "        if on_bridge[0][1]>bridge_length:\n",
    "            w -= on_bridge.pop(0)[0]\n",
    "\n",
    "        if len(truck_weights):\n",
    "            if sum([o[0] for o in on_bridge])+truck_weights[0]<= weight:\n",
    "                t = truck_weights.pop(0)\n",
    "                on_bridge.append([t,1])\n",
    "                w += t\n",
    "            \n",
    "        # print(answer,':',w, on_bridge, truck_weights)\n",
    "\n",
    "        if len(on_bridge) ==0:\n",
    "            break\n",
    "    return answer"
   ]
  },
  {
   "cell_type": "code",
   "execution_count": 20,
   "metadata": {},
   "outputs": [
    {
     "name": "stdout",
     "output_type": "stream",
     "text": [
      "1 : 7 [[7, 1]] [4, 5, 6]\n",
      "2 : 7 [[7, 2]] [4, 5, 6]\n",
      "3 : 4 [[4, 1]] [5, 6]\n",
      "4 : 9 [[4, 2], [5, 1]] [6]\n",
      "5 : 5 [[5, 2]] [6]\n",
      "6 : 6 [[6, 1]] []\n",
      "7 : 6 [[6, 2]] []\n",
      "8 : 0 [] []\n"
     ]
    },
    {
     "data": {
      "text/plain": [
       "8"
      ]
     },
     "execution_count": 20,
     "metadata": {},
     "output_type": "execute_result"
    }
   ],
   "source": [
    "solution(2,10,[7,4,5,6])"
   ]
  },
  {
   "cell_type": "code",
   "execution_count": null,
   "metadata": {},
   "outputs": [],
   "source": []
  }
 ],
 "metadata": {
  "kernelspec": {
   "display_name": "Python 3",
   "language": "python",
   "name": "python3"
  },
  "language_info": {
   "codemirror_mode": {
    "name": "ipython",
    "version": 3
   },
   "file_extension": ".py",
   "mimetype": "text/x-python",
   "name": "python",
   "nbconvert_exporter": "python",
   "pygments_lexer": "ipython3",
   "version": "3.10.8"
  },
  "orig_nbformat": 4,
  "vscode": {
   "interpreter": {
    "hash": "1eaddad8910a63e993320c00f976674dd19739aa47ccb16e46e67145212d406a"
   }
  }
 },
 "nbformat": 4,
 "nbformat_minor": 2
}
