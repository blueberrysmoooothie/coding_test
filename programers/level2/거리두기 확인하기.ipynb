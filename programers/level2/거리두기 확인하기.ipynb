{
 "cells": [
  {
   "attachments": {},
   "cell_type": "markdown",
   "metadata": {},
   "source": [
    "거리두기 확인하기\n",
    "---\n",
    "https://school.programmers.co.kr/learn/courses/30/lessons/81302"
   ]
  },
  {
   "cell_type": "code",
   "execution_count": 62,
   "metadata": {},
   "outputs": [],
   "source": [
    "def solution(places):\n",
    "    def func(place):\n",
    "        nears = []\n",
    "        # under_2 = []\n",
    "        for i in range(5):\n",
    "            for j in range(5):\n",
    "                if place[i][j]=='P':\n",
    "                    nears.append([i,j])\n",
    "                    # print(nears)\n",
    "                    for k in range(0, len(nears)-1):\n",
    "                        dif = abs(nears[k][0]-i) + abs(nears[k][1]-j)\n",
    "                        # print(nears[k],f'[{i},{j}]',dif)\n",
    "                        if dif ==1:\n",
    "                            return 0\n",
    "                        if dif ==2:\n",
    "                            ind1, ind2 = k,len(nears)-1\n",
    "                            if abs(nears[ind1][0] - nears[ind2][0]) == 1:\n",
    "                                if nears[ind1][1]<nears[ind2][1]:\n",
    "                                    if place[nears[ind1][0]][nears[ind2][1]]=='O'or place[nears[ind2][0]][nears[ind1][1]]=='O':\n",
    "                                        return 0\n",
    "                                else:\n",
    "                                    if place[nears[ind1][0]][nears[ind2][1]]=='O'or place[nears[ind2][0]][nears[ind1][1]]=='O':\n",
    "                                        return 0\n",
    "                            elif nears[ind1][0] == nears[ind2][0]:\n",
    "                                if place[nears[ind1][0]][nears[ind1][1]+1]=='O':\n",
    "                                    return 0\n",
    "                            else:\n",
    "                                if place[nears[ind1][0]+1][nears[ind1][1]]=='O':\n",
    "                                    return 0\n",
    "        return 1\n",
    "\n",
    "    answer = []\n",
    "    for place in places:\n",
    "        # for p in place:\n",
    "            # print(p)\n",
    "        answer.append(func(place))\n",
    "    return answer\n"
   ]
  },
  {
   "cell_type": "code",
   "execution_count": 63,
   "metadata": {},
   "outputs": [
    {
     "data": {
      "text/plain": [
       "[0]"
      ]
     },
     "execution_count": 63,
     "metadata": {},
     "output_type": "execute_result"
    }
   ],
   "source": [
    "solution([[\"OPOOO\", \"POXOX\", \"OXXOX\", \"OOXOX\", \"OOXXO\"]])"
   ]
  },
  {
   "cell_type": "code",
   "execution_count": null,
   "metadata": {},
   "outputs": [],
   "source": []
  },
  {
   "cell_type": "code",
   "execution_count": null,
   "metadata": {},
   "outputs": [],
   "source": []
  }
 ],
 "metadata": {
  "kernelspec": {
   "display_name": "Python 3",
   "language": "python",
   "name": "python3"
  },
  "language_info": {
   "codemirror_mode": {
    "name": "ipython",
    "version": 3
   },
   "file_extension": ".py",
   "mimetype": "text/x-python",
   "name": "python",
   "nbconvert_exporter": "python",
   "pygments_lexer": "ipython3",
   "version": "3.10.8"
  },
  "orig_nbformat": 4,
  "vscode": {
   "interpreter": {
    "hash": "1eaddad8910a63e993320c00f976674dd19739aa47ccb16e46e67145212d406a"
   }
  }
 },
 "nbformat": 4,
 "nbformat_minor": 2
}
