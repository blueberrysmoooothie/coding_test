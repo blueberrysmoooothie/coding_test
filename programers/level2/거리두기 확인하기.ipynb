{
 "cells": [
  {
   "attachments": {},
   "cell_type": "markdown",
   "metadata": {},
   "source": [
    "거리두기 확인하기\n",
    "---\n",
    "https://school.programmers.co.kr/learn/courses/30/lessons/81302"
   ]
  },
  {
   "cell_type": "code",
   "execution_count": 11,
   "metadata": {},
   "outputs": [],
   "source": [
    "def solution(places):\n",
    "    answer = []\n",
    "    for place in places:\n",
    "        for p in place:\n",
    "            print(p)\n",
    "        nears = []\n",
    "        under_2 = []\n",
    "        for i in range(5):\n",
    "            for j in range(5):\n",
    "                if place[i][j]=='P':\n",
    "\n",
    "                    nears.append([i,j])\n",
    "        print(nears)\n",
    "\n",
    "        for i in range(len(nears)-1):\n",
    "            for j in range(i+1, len(nears)):\n",
    "                dif = abs(nears[i][0]-nears[j][0]) + abs(nears[i][1]-nears[j][1])\n",
    "                if dif <=2:\n",
    "                    under_2.append([i,j])\n",
    "        print(under_2)\n",
    "    return answer"
   ]
  },
  {
   "cell_type": "code",
   "execution_count": 12,
   "metadata": {},
   "outputs": [
    {
     "name": "stdout",
     "output_type": "stream",
     "text": [
      "POOOP\n",
      "OXXOX\n",
      "OPXPX\n",
      "OOXOX\n",
      "POXXP\n",
      "[[0, 0], [0, 4], [2, 1], [2, 3], [4, 0], [4, 4]]\n",
      "[[2, 3]]\n"
     ]
    },
    {
     "data": {
      "text/plain": [
       "[]"
      ]
     },
     "execution_count": 12,
     "metadata": {},
     "output_type": "execute_result"
    }
   ],
   "source": [
    "solution([[\"POOOP\", \"OXXOX\", \"OPXPX\", \"OOXOX\", \"POXXP\"]])"
   ]
  },
  {
   "cell_type": "code",
   "execution_count": null,
   "metadata": {},
   "outputs": [],
   "source": []
  }
 ],
 "metadata": {
  "kernelspec": {
   "display_name": "Python 3",
   "language": "python",
   "name": "python3"
  },
  "language_info": {
   "codemirror_mode": {
    "name": "ipython",
    "version": 3
   },
   "file_extension": ".py",
   "mimetype": "text/x-python",
   "name": "python",
   "nbconvert_exporter": "python",
   "pygments_lexer": "ipython3",
   "version": "3.10.8"
  },
  "orig_nbformat": 4,
  "vscode": {
   "interpreter": {
    "hash": "1eaddad8910a63e993320c00f976674dd19739aa47ccb16e46e67145212d406a"
   }
  }
 },
 "nbformat": 4,
 "nbformat_minor": 2
}
