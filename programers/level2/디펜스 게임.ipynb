{
 "cells": [
  {
   "attachments": {},
   "cell_type": "markdown",
   "metadata": {},
   "source": [
    "디펜스 게임\n",
    "---\n",
    "https://school.programmers.co.kr/learn/courses/30/lessons/142085"
   ]
  },
  {
   "cell_type": "code",
   "execution_count": 24,
   "metadata": {},
   "outputs": [],
   "source": [
    "def solution(n, k, enemy):\n",
    "    i = 0\n",
    "    l = len(enemy)\n",
    "\n",
    "    while k >0 or i<l:\n",
    "        stages = sorted(enemy[i:i+k])\n",
    "        if len(stages)==0:\n",
    "            return i\n",
    "        for s in stages:\n",
    "            if k==0 and i==l:\n",
    "                return i\n",
    "\n",
    "            if s>n:\n",
    "                k-=1\n",
    "            else:\n",
    "                n-=s\n",
    "            i+=1\n",
    "    return i"
   ]
  },
  {
   "cell_type": "code",
   "execution_count": null,
   "metadata": {},
   "outputs": [],
   "source": [
    "def solution(n, k, enemy):\n",
    "    def is_final(i):\n",
    "        stages = enemy[:i]\n",
    "        for j in range(k):\n",
    "            stages[stages.index(max(stages))] = 0\n",
    "        if sum(stages)>n:\n",
    "            return True\n",
    "        return False\n",
    "\n",
    "    if not is_final(len(enemy)):\n",
    "        return len(enemy)\n",
    "\n",
    "    s, e= 1, len(enemy)\n",
    "    while True:\n",
    "        if s == e:\n",
    "            break\n",
    "        i = (s+e)//2\n",
    "        # print(s, i ,e)\n",
    "\n",
    "        if is_final(i):\n",
    "            e = i-1\n",
    "        else:\n",
    "            s = i+1\n",
    "    \n",
    "    return i-1"
   ]
  },
  {
   "cell_type": "code",
   "execution_count": 140,
   "metadata": {},
   "outputs": [],
   "source": [
    "def solution(n, k, enemy):\n",
    "    def is_final(i):\n",
    "        if sum(enemy[:i])<n:\n",
    "            return 0\n",
    "        ene = sorted(enemy[:i])\n",
    "        su = sum(ene[:-k])\n",
    "        if  su== n:\n",
    "            return 2\n",
    "        elif su > n:\n",
    "            return 1\n",
    "        return 0\n",
    "\n",
    "    if not is_final(len(enemy)):\n",
    "        return len(enemy)\n",
    "\n",
    "    s, e= 1, len(enemy)\n",
    "    while True:\n",
    "        i = (s+e)//2\n",
    "        # print(s,i,e, is_final(i))\n",
    "\n",
    "        f = is_final(i)\n",
    "        if f==2:\n",
    "            return i\n",
    "        \n",
    "        if s == e:\n",
    "            if f:\n",
    "                return i-1\n",
    "            else:\n",
    "                return i\n",
    "        if f:\n",
    "            e = i-1\n",
    "        else:\n",
    "            s = i+1\n",
    "    "
   ]
  },
  {
   "cell_type": "code",
   "execution_count": 146,
   "metadata": {},
   "outputs": [],
   "source": [
    "def solution(n, k, enemy):\n",
    "    ene = sorted(enemy)\n",
    "    def is_final(i):\n",
    "        if sum(enemy[:i])<n:\n",
    "            return 0\n",
    "        ene = sorted(enemy[:i])\n",
    "        su = sum(ene[:-k])\n",
    "        if  su== n:\n",
    "            return 2\n",
    "        elif su > n:\n",
    "            return 1\n",
    "        return 0\n",
    "\n",
    "    if not is_final(len(enemy)):\n",
    "        return len(enemy)\n",
    "\n",
    "    s, e= 1, len(enemy)\n",
    "    while True:\n",
    "        i = (s+e)//2\n",
    "\n",
    "        f = is_final(i)\n",
    "        if f==2:\n",
    "            return i\n",
    "        \n",
    "        if s == e:\n",
    "            if f:\n",
    "                return i-1\n",
    "            else:\n",
    "                return i\n",
    "        \n",
    "        if f:\n",
    "            e = i-1\n",
    "        else:\n",
    "            s = i+1\n",
    "    "
   ]
  },
  {
   "cell_type": "code",
   "execution_count": 162,
   "metadata": {},
   "outputs": [],
   "source": [
    "import heapq\n",
    "def solution(n, k, enemy):\n",
    "    heap = []\n",
    "    i = 0\n",
    "    for e in enemy:\n",
    "        heapq.heappush(heap, -e)\n",
    "        if n < e:\n",
    "            if k:\n",
    "                k-=1\n",
    "                n+= -heapq.heappop(heap) -e\n",
    "            else:\n",
    "                return i\n",
    "        else:\n",
    "            n-=e\n",
    "\n",
    "        i+=1\n",
    "            \n",
    "    return i\n",
    "    \n",
    "    "
   ]
  },
  {
   "cell_type": "code",
   "execution_count": 163,
   "metadata": {},
   "outputs": [
    {
     "name": "stdout",
     "output_type": "stream",
     "text": [
      "0 7 3 [-4]\n",
      "1 3 3 [-4, -2]\n",
      "2 1 3 [-4, -2, -4]\n",
      "3 1 2 [-5, -2, -4]\n",
      "4 1 1 [-4, -2, -3]\n",
      "5 2 0 [-3, -2, -3]\n"
     ]
    },
    {
     "data": {
      "text/plain": [
       "5"
      ]
     },
     "execution_count": 163,
     "metadata": {},
     "output_type": "execute_result"
    }
   ],
   "source": [
    "solution(\t7, 3, [4, 2, 4, 5, 3, 3, 1])"
   ]
  },
  {
   "cell_type": "code",
   "execution_count": null,
   "metadata": {},
   "outputs": [],
   "source": []
  }
 ],
 "metadata": {
  "kernelspec": {
   "display_name": "Python 3",
   "language": "python",
   "name": "python3"
  },
  "language_info": {
   "codemirror_mode": {
    "name": "ipython",
    "version": 3
   },
   "file_extension": ".py",
   "mimetype": "text/x-python",
   "name": "python",
   "nbconvert_exporter": "python",
   "pygments_lexer": "ipython3",
   "version": "3.10.8"
  },
  "orig_nbformat": 4,
  "vscode": {
   "interpreter": {
    "hash": "1eaddad8910a63e993320c00f976674dd19739aa47ccb16e46e67145212d406a"
   }
  }
 },
 "nbformat": 4,
 "nbformat_minor": 2
}
