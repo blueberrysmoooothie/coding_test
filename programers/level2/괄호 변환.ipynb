{
 "cells": [
  {
   "attachments": {},
   "cell_type": "markdown",
   "metadata": {},
   "source": [
    "괄호 변환\n",
    "---\n",
    "https://school.programmers.co.kr/learn/courses/30/lessons/60058"
   ]
  },
  {
   "cell_type": "code",
   "execution_count": 34,
   "metadata": {},
   "outputs": [],
   "source": [
    "def solution(p):\n",
    "    print(p)\n",
    "    if not len(p):\n",
    "        return ''\n",
    "    dic = {'(':0,')':1}\n",
    "    temp = [p[0]]\n",
    "    cnt = [0,0]\n",
    "    cnt[dic[p[0]]]+=1\n",
    "    for i in range(1, len(p)):\n",
    "        cnt[dic[p[i]]]+=1\n",
    "        \n",
    "        if p[i]==')' and temp[-1]=='(':\n",
    "            temp.pop()\n",
    "        else:\n",
    "            temp.append(p[i])\n",
    "            \n",
    "        if cnt[0]==cnt[1]:\n",
    "            u = p[:i+1]\n",
    "            v = p[i+1:]\n",
    "            if not len(temp):\n",
    "                return u+solution(v)\n",
    "            else:\n",
    "                return '('+solution(v)+')'+''.join(['(' if a ==')' else ')' for a in u[1:-1]])\n",
    "\n",
    "        \n"
   ]
  },
  {
   "cell_type": "code",
   "execution_count": 35,
   "metadata": {},
   "outputs": [
    {
     "name": "stdout",
     "output_type": "stream",
     "text": [
      "(()())()\n",
      "()\n",
      "\n"
     ]
    },
    {
     "data": {
      "text/plain": [
       "'(()())()'"
      ]
     },
     "execution_count": 35,
     "metadata": {},
     "output_type": "execute_result"
    }
   ],
   "source": [
    "solution('(()())()')"
   ]
  },
  {
   "cell_type": "code",
   "execution_count": null,
   "metadata": {},
   "outputs": [],
   "source": []
  }
 ],
 "metadata": {
  "kernelspec": {
   "display_name": "Python 3",
   "language": "python",
   "name": "python3"
  },
  "language_info": {
   "codemirror_mode": {
    "name": "ipython",
    "version": 3
   },
   "file_extension": ".py",
   "mimetype": "text/x-python",
   "name": "python",
   "nbconvert_exporter": "python",
   "pygments_lexer": "ipython3",
   "version": "3.10.8"
  },
  "orig_nbformat": 4,
  "vscode": {
   "interpreter": {
    "hash": "1eaddad8910a63e993320c00f976674dd19739aa47ccb16e46e67145212d406a"
   }
  }
 },
 "nbformat": 4,
 "nbformat_minor": 2
}
