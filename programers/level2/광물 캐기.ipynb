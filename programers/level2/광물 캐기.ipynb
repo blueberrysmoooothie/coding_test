{
 "cells": [
  {
   "attachments": {},
   "cell_type": "markdown",
   "metadata": {},
   "source": [
    "광물 캐기\n",
    "---\n",
    "https://school.programmers.co.kr/learn/courses/30/lessons/172927"
   ]
  },
  {
   "cell_type": "code",
   "execution_count": 3,
   "metadata": {},
   "outputs": [],
   "source": [
    "def solution(picks, minerals,answer=0):\n",
    "    if len(minerals) ==0 or picks == [0,0,0]:\n",
    "        return answer \n",
    "    result = []\n",
    "    if picks[0]!=0:\n",
    "        l_answer = answer\n",
    "        for m in minerals[:5]:\n",
    "            l_answer += 1\n",
    "        result.append(solution([picks[0]-1, picks[1],picks[2]], minerals[5:], l_answer))\n",
    "    if picks[1]!=0:\n",
    "        l_answer = answer\n",
    "        for m in minerals[:5]:\n",
    "            if m == 'diamond':\n",
    "                l_answer += 5\n",
    "            else:\n",
    "                l_answer += 1\n",
    "\n",
    "        result.append(solution([picks[0], picks[1]-1,picks[2]], minerals[5:], l_answer))\n",
    "    if picks[2]!=0:\n",
    "        l_answer = answer\n",
    "        for m in minerals[:5]:\n",
    "            if m == 'diamond':\n",
    "                l_answer += 25\n",
    "            elif m == 'iron':\n",
    "                l_answer += 5\n",
    "            else:\n",
    "                l_answer += 1\n",
    "        result.append(solution([picks[0], picks[1],picks[2]-1], minerals[5:], l_answer))\n",
    "\n",
    "\n",
    "    return min(result)"
   ]
  },
  {
   "cell_type": "code",
   "execution_count": 4,
   "metadata": {},
   "outputs": [
    {
     "data": {
      "text/plain": [
       "12"
      ]
     },
     "execution_count": 4,
     "metadata": {},
     "output_type": "execute_result"
    }
   ],
   "source": [
    "solution(\t[1, 3, 2], [\"diamond\", \"diamond\", \"diamond\", \"iron\", \"iron\", \"diamond\", \"iron\", \"stone\"])"
   ]
  },
  {
   "cell_type": "code",
   "execution_count": null,
   "metadata": {},
   "outputs": [],
   "source": []
  }
 ],
 "metadata": {
  "kernelspec": {
   "display_name": "Python 3",
   "language": "python",
   "name": "python3"
  },
  "language_info": {
   "codemirror_mode": {
    "name": "ipython",
    "version": 3
   },
   "file_extension": ".py",
   "mimetype": "text/x-python",
   "name": "python",
   "nbconvert_exporter": "python",
   "pygments_lexer": "ipython3",
   "version": "3.11.2"
  },
  "orig_nbformat": 4
 },
 "nbformat": 4,
 "nbformat_minor": 2
}
