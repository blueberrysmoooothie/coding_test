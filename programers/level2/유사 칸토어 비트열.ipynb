{
 "cells": [
  {
   "attachments": {},
   "cell_type": "markdown",
   "metadata": {},
   "source": [
    "유사 칸토어 비트열\n",
    "---\n",
    "https://school.programmers.co.kr/learn/courses/30/lessons/148652"
   ]
  },
  {
   "cell_type": "code",
   "execution_count": 11,
   "metadata": {},
   "outputs": [],
   "source": [
    "def solution(n, l, r):\n",
    "    def cantoa(cant):\n",
    "        result = ''\n",
    "        for c in cant:\n",
    "            if len(result)>=r:\n",
    "                break\n",
    "            if c == '1':\n",
    "                result +='11011'\n",
    "            else:\n",
    "                result +='00000'\n",
    "        return result\n",
    "    cant = '1'\n",
    "    for i in range(n):\n",
    "        cant = cantoa(cant)\n",
    "    answer = sum([int(c) for c in cant[l-1:r]])\n",
    "    return answer"
   ]
  },
  {
   "cell_type": "code",
   "execution_count": null,
   "metadata": {},
   "outputs": [],
   "source": [
    "def solution(n, l, r):\n",
    "    def cantoa(cant):\n",
    "        result = ''\n",
    "        for c in cant:\n",
    "            if len(result)>=r:\n",
    "                break\n",
    "            if c == '1':\n",
    "                result +='11011'\n",
    "            else:\n",
    "                result +='00000'\n",
    "        return result\n",
    "    cant = '1'\n",
    "    for i in range(n):\n",
    "        cant = cantoa(cant)\n",
    "    answer = sum([int(c) for c in cant[l-1:r]])\n",
    "    return answer"
   ]
  },
  {
   "cell_type": "code",
   "execution_count": 12,
   "metadata": {},
   "outputs": [
    {
     "name": "stdout",
     "output_type": "stream",
     "text": [
      "1 2\n"
     ]
    },
    {
     "data": {
      "text/plain": [
       "8"
      ]
     },
     "execution_count": 12,
     "metadata": {},
     "output_type": "execute_result"
    }
   ],
   "source": [
    "solution(2, 4, 17)"
   ]
  },
  {
   "attachments": {},
   "cell_type": "markdown",
   "metadata": {},
   "source": [
    "1\n",
    "11011 3\n",
    "11011 11011 00000 11011 11011 3,8, 11~15, 18, 23\n",
    "3,8, 11~15, 18, 23, 25+(3,8, 11~15, 18, 23), 50+(1~25), 75+(3,8, 11~15, 18, 23), 100+(3,8, 11~15, 18, 23)"
   ]
  },
  {
   "cell_type": "code",
   "execution_count": 22,
   "metadata": {},
   "outputs": [
    {
     "data": {
      "text/plain": [
       "8"
      ]
     },
     "execution_count": 22,
     "metadata": {},
     "output_type": "execute_result"
    }
   ],
   "source": [
    "def solution(n, l, r):\n",
    "    return sum([1 for i in range(l, r+1) if (i%25)%5!=3 and (i%25) not in range(11,16)])"
   ]
  },
  {
   "cell_type": "code",
   "execution_count": 38,
   "metadata": {},
   "outputs": [],
   "source": [
    "def solution(n, l, r):\n",
    "    def is_3(i):\n",
    "        while True:\n",
    "            if i%5 == 3:\n",
    "                return 0\n",
    "            if i<=5:\n",
    "                return 1\n",
    "            i = (i-1)//5+1\n",
    "\n",
    "    answer = sum([is_3(i) for i in range(l, r+1)])\n",
    "    return answer"
   ]
  },
  {
   "cell_type": "code",
   "execution_count": 39,
   "metadata": {},
   "outputs": [
    {
     "data": {
      "text/plain": [
       "16"
      ]
     },
     "execution_count": 39,
     "metadata": {},
     "output_type": "execute_result"
    }
   ],
   "source": [
    "solution(2, 1, 25)"
   ]
  },
  {
   "cell_type": "code",
   "execution_count": null,
   "metadata": {},
   "outputs": [],
   "source": []
  }
 ],
 "metadata": {
  "kernelspec": {
   "display_name": "Python 3",
   "language": "python",
   "name": "python3"
  },
  "language_info": {
   "codemirror_mode": {
    "name": "ipython",
    "version": 3
   },
   "file_extension": ".py",
   "mimetype": "text/x-python",
   "name": "python",
   "nbconvert_exporter": "python",
   "pygments_lexer": "ipython3",
   "version": "3.10.8"
  },
  "orig_nbformat": 4,
  "vscode": {
   "interpreter": {
    "hash": "1eaddad8910a63e993320c00f976674dd19739aa47ccb16e46e67145212d406a"
   }
  }
 },
 "nbformat": 4,
 "nbformat_minor": 2
}
