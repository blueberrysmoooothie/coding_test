{
 "cells": [
  {
   "cell_type": "markdown",
   "id": "6e99d626",
   "metadata": {},
   "source": [
    "이진 변환 반복하기\n",
    "---\n",
    "https://school.programmers.co.kr/learn/courses/30/lessons/70129"
   ]
  },
  {
   "cell_type": "code",
   "execution_count": 6,
   "id": "2e9cbf1d",
   "metadata": {},
   "outputs": [
    {
     "data": {
      "text/plain": [
       "[3, 1]"
      ]
     },
     "execution_count": 6,
     "metadata": {},
     "output_type": "execute_result"
    }
   ],
   "source": [
    "a = []\n",
    "a.insert(0,1)\n",
    "a.insert(0,3)\n",
    "a"
   ]
  },
  {
   "cell_type": "code",
   "execution_count": 15,
   "id": "71e9f5cc",
   "metadata": {},
   "outputs": [],
   "source": [
    "def getBinary(num):\n",
    "    result = []\n",
    "    while num>=1:\n",
    "        result.insert(0,str(num%2))\n",
    "        num = num//2\n",
    "    return ''.join(result)\n",
    "    \n",
    "def solution(s):\n",
    "    cnt = 0\n",
    "    answer = 0\n",
    "    while s != '1':\n",
    "        cnt+=1\n",
    "        answer+= list(s).count('0')\n",
    "        s = s.replace('0','')\n",
    "        s = getBinary(len(s))\n",
    "    \n",
    "    return [cnt,answer]"
   ]
  },
  {
   "cell_type": "code",
   "execution_count": 16,
   "id": "344946ee",
   "metadata": {},
   "outputs": [
    {
     "data": {
      "text/plain": [
       "[3, 8]"
      ]
     },
     "execution_count": 16,
     "metadata": {},
     "output_type": "execute_result"
    }
   ],
   "source": [
    "solution('110010101001')"
   ]
  },
  {
   "cell_type": "code",
   "execution_count": null,
   "id": "47b467eb",
   "metadata": {},
   "outputs": [],
   "source": []
  }
 ],
 "metadata": {
  "kernelspec": {
   "display_name": "Python 3 (ipykernel)",
   "language": "python",
   "name": "python3"
  },
  "language_info": {
   "codemirror_mode": {
    "name": "ipython",
    "version": 3
   },
   "file_extension": ".py",
   "mimetype": "text/x-python",
   "name": "python",
   "nbconvert_exporter": "python",
   "pygments_lexer": "ipython3",
   "version": "3.9.12"
  }
 },
 "nbformat": 4,
 "nbformat_minor": 5
}
