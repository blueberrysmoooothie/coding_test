{
 "cells": [
  {
   "attachments": {},
   "cell_type": "markdown",
   "metadata": {},
   "source": [
    "가장 큰 정사각형 찾기\n",
    "---\n",
    "https://school.programmers.co.kr/learn/courses/30/lessons/12905"
   ]
  },
  {
   "cell_type": "code",
   "execution_count": 15,
   "metadata": {},
   "outputs": [],
   "source": [
    "def solution(board):\n",
    "    def is_full(b):\n",
    "        if sum([sum([i ==0 for i in bs]) for bs in b]):\n",
    "            return False\n",
    "        return True\n",
    "    l, c = len(board), len(board[0])\n",
    "    m = min(l,c)\n",
    "    while m>=1:\n",
    "        for i in range(l-m +1):\n",
    "            for j in range(c-m +1):\n",
    "                b = [bs[j:j+m] for bs in board[i:i+m]]\n",
    "                if is_full(b):\n",
    "                    return m**2\n",
    "        m-=1\n",
    "        # print()\n",
    "    return 0\n",
    "\n",
    "\n"
   ]
  },
  {
   "cell_type": "code",
   "execution_count": 21,
   "metadata": {},
   "outputs": [],
   "source": [
    "def solution(board):\n",
    "\n",
    "    vs = [[0]*(len(board[0])+1)for b in range(len(board)+1)]\n",
    "    maxv=0\n",
    "    for i in range(1,len(board)+1):\n",
    "        for j in range(1,len(board[0])+1):\n",
    "            if board[i-1][j-1]:\n",
    "                vs[i][j] = min(vs[i-1][j], vs[i][j-1],vs[i-1][j-1])+1\n",
    "            if vs[i][j]>maxv:\n",
    "                maxv = vs[i][j]\n",
    "    return maxv**2\n",
    "\n",
    "\n"
   ]
  },
  {
   "cell_type": "code",
   "execution_count": 22,
   "metadata": {},
   "outputs": [
    {
     "data": {
      "text/plain": [
       "9"
      ]
     },
     "execution_count": 22,
     "metadata": {},
     "output_type": "execute_result"
    }
   ],
   "source": [
    "solution([[0,1,1,1],[1,1,1,1],[1,1,1,1],[0,0,1,0]])"
   ]
  },
  {
   "cell_type": "code",
   "execution_count": 4,
   "metadata": {},
   "outputs": [
    {
     "data": {
      "text/plain": [
       "[[1, 1, 1], [1, 1, 1], [0, 1, 0]]"
      ]
     },
     "execution_count": 4,
     "metadata": {},
     "output_type": "execute_result"
    }
   ],
   "source": [
    "l = [[0,1,1,1],[1,1,1,1],[1,1,1,1],[0,0,1,0]]\n",
    "[ls[1:] for ls in l[1:]]"
   ]
  },
  {
   "cell_type": "code",
   "execution_count": null,
   "metadata": {},
   "outputs": [],
   "source": []
  }
 ],
 "metadata": {
  "kernelspec": {
   "display_name": "Python 3",
   "language": "python",
   "name": "python3"
  },
  "language_info": {
   "codemirror_mode": {
    "name": "ipython",
    "version": 3
   },
   "file_extension": ".py",
   "mimetype": "text/x-python",
   "name": "python",
   "nbconvert_exporter": "python",
   "pygments_lexer": "ipython3",
   "version": "3.10.8"
  },
  "orig_nbformat": 4,
  "vscode": {
   "interpreter": {
    "hash": "1eaddad8910a63e993320c00f976674dd19739aa47ccb16e46e67145212d406a"
   }
  }
 },
 "nbformat": 4,
 "nbformat_minor": 2
}
