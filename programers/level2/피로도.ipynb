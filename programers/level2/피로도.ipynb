{
 "cells": [
  {
   "cell_type": "markdown",
   "metadata": {},
   "source": [
    "피로도\n",
    "---\n",
    "https://school.programmers.co.kr/learn/courses/30/lessons/87946"
   ]
  },
  {
   "cell_type": "code",
   "execution_count": 22,
   "metadata": {},
   "outputs": [],
   "source": [
    "def greed(k,dungeons,max_clear, clear, unclear, d_ind, cnt = 0):\n",
    "\n",
    "\n",
    "    if len(unclear)==0:\n",
    "        if cnt > max_clear:\n",
    "            return cnt\n",
    "\n",
    "    \n",
    "        \n",
    "    for i in d_ind:\n",
    "        if i in unclear:\n",
    "            c = False\n",
    "            clear.append(i)\n",
    "            unclear.pop(unclear.index(i))\n",
    "\n",
    "            if k >= dungeons[i][0]:\n",
    "                cnt += 1\n",
    "                k -=  dungeons[i][1]\n",
    "                c = True\n",
    "\n",
    "            max_clear = greed(k,dungeons,max_clear, clear, unclear, d_ind, cnt = cnt)\n",
    "            if c:\n",
    "                cnt -= 1\n",
    "                k +=  dungeons[i][1]\n",
    "            unclear.append(i)\n",
    "            clear.pop(clear.index(i))\n",
    "    return max_clear\n",
    "\n",
    "\n",
    "\n",
    "def solution(k, dungeons):\n",
    "    max_clear = 0\n",
    "    \n",
    "    clear = []\n",
    "    unclear = [i for i in range(len(dungeons))]\n",
    "    d_ind = [i for i in range(len(dungeons))]\n",
    "    max_clear = greed(k,dungeons,max_clear, clear, unclear, d_ind)\n",
    "        \n",
    "    return max_clear"
   ]
  },
  {
   "cell_type": "code",
   "execution_count": 23,
   "metadata": {},
   "outputs": [
    {
     "data": {
      "text/plain": [
       "3"
      ]
     },
     "execution_count": 23,
     "metadata": {},
     "output_type": "execute_result"
    }
   ],
   "source": [
    "solution(80, [[80,20],[50,40],[30,10]])"
   ]
  },
  {
   "cell_type": "code",
   "execution_count": null,
   "metadata": {},
   "outputs": [],
   "source": []
  }
 ],
 "metadata": {
  "kernelspec": {
   "display_name": "Python 3.9.12 ('base')",
   "language": "python",
   "name": "python3"
  },
  "language_info": {
   "codemirror_mode": {
    "name": "ipython",
    "version": 3
   },
   "file_extension": ".py",
   "mimetype": "text/x-python",
   "name": "python",
   "nbconvert_exporter": "python",
   "pygments_lexer": "ipython3",
   "version": "3.9.12"
  },
  "orig_nbformat": 4,
  "vscode": {
   "interpreter": {
    "hash": "43dcd2bd68a9a4e70f29cc439d7eaa1f739547a254547b02445a71f4086f447d"
   }
  }
 },
 "nbformat": 4,
 "nbformat_minor": 2
}
