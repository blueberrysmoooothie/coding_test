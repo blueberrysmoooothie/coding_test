{
 "cells": [
  {
   "attachments": {},
   "cell_type": "markdown",
   "metadata": {},
   "source": [
    "귤 고르기\n",
    "---\n",
    "https://school.programmers.co.kr/learn/courses/30/lessons/138476"
   ]
  },
  {
   "cell_type": "code",
   "execution_count": 1,
   "metadata": {},
   "outputs": [],
   "source": [
    "def solution(k, tangerine):\n",
    "    u = list(set(tangerine))\n",
    "    counts = {}\n",
    "    for uni in u:\n",
    "        counts[uni] = tangerine.count(uni) \n",
    "    u = sorted(u, key = lambda x: counts[x])\n",
    "    answer = 0\n",
    "    count = 0\n",
    "    i = -1\n",
    "    while count<k:\n",
    "        answer +=1\n",
    "        count += counts[u[i]]\n",
    "        i-=1\n",
    "    return answer"
   ]
  },
  {
   "cell_type": "code",
   "execution_count": 9,
   "metadata": {},
   "outputs": [],
   "source": [
    "def solution(k, tangerine):\n",
    "    counts = {}\n",
    "    for t in tangerine:\n",
    "        if t in counts.keys():\n",
    "            counts[t]+=1\n",
    "        else:\n",
    "            counts[t]=1\n",
    "\n",
    "    counts = sorted(counts.items(), key = lambda x: x[1])\n",
    "    answer = 0\n",
    "    count = 0\n",
    "    i = -1\n",
    "    while count<k:\n",
    "        answer +=1\n",
    "        count += counts[i][1]\n",
    "        i-=1\n",
    "    return answer"
   ]
  },
  {
   "cell_type": "code",
   "execution_count": 10,
   "metadata": {},
   "outputs": [
    {
     "data": {
      "text/plain": [
       "3"
      ]
     },
     "execution_count": 10,
     "metadata": {},
     "output_type": "execute_result"
    }
   ],
   "source": [
    "solution(6,\t[1, 3, 2, 5, 4, 5, 2, 3])"
   ]
  },
  {
   "cell_type": "code",
   "execution_count": null,
   "metadata": {},
   "outputs": [],
   "source": []
  }
 ],
 "metadata": {
  "kernelspec": {
   "display_name": "Python 3",
   "language": "python",
   "name": "python3"
  },
  "language_info": {
   "codemirror_mode": {
    "name": "ipython",
    "version": 3
   },
   "file_extension": ".py",
   "mimetype": "text/x-python",
   "name": "python",
   "nbconvert_exporter": "python",
   "pygments_lexer": "ipython3",
   "version": "3.10.8"
  },
  "orig_nbformat": 4,
  "vscode": {
   "interpreter": {
    "hash": "1eaddad8910a63e993320c00f976674dd19739aa47ccb16e46e67145212d406a"
   }
  }
 },
 "nbformat": 4,
 "nbformat_minor": 2
}
