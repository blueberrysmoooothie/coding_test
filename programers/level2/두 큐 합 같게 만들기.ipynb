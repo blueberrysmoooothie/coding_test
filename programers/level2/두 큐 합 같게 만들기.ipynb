{
 "cells": [
  {
   "attachments": {},
   "cell_type": "markdown",
   "metadata": {},
   "source": [
    "두 큐 합 같게 만들기\n",
    "---\n",
    "https://school.programmers.co.kr/learn/courses/30/lessons/118667"
   ]
  },
  {
   "cell_type": "code",
   "execution_count": 1,
   "metadata": {},
   "outputs": [],
   "source": [
    "def solution(queue1, queue2):\n",
    "    if len(queue1)==1:\n",
    "        if queue1[0]== queue2[0]:\n",
    "            return 0\n",
    "        else:\n",
    "            return -1\n",
    "    answer = 0\n",
    "    l = 3*len(queue1)\n",
    "    \n",
    "    \n",
    "    while answer< l:\n",
    "        if sum(queue1)> sum(queue2):\n",
    "            queue2 += [queue1[0]]\n",
    "            queue1 = queue1[1:]\n",
    "        elif sum(queue1)< sum(queue2):\n",
    "            queue1+= [queue2[0]]\n",
    "            queue2= queue2[1:]\n",
    "        else:\n",
    "            return answer\n",
    "            break\n",
    "\n",
    "        answer+=1\n",
    "    return -1"
   ]
  },
  {
   "cell_type": "code",
   "execution_count": null,
   "metadata": {},
   "outputs": [],
   "source": [
    "def solution(queue1, queue2):\n",
    "    if len(queue1)==1:\n",
    "        if queue1[0]== queue2[0]:\n",
    "            return 0\n",
    "        else:\n",
    "            return -1\n",
    "    answer = 0\n",
    "    l = 3*len(queue1)\n",
    "    \n",
    "    i, j = 0, len(queue1)\n",
    "    queue = queue1 +queue2\n",
    "    while answer< l:\n",
    "        if sum(queue[i:j])> sum(queue[j:]+queue[:i]):\n",
    "            i+=1\n",
    "        elif sum(queue[i:j])< sum(queue[j:]+queue[:i]):\n",
    "            j+=1\n",
    "        else:\n",
    "            return answer\n",
    "\n",
    "        answer+=1\n",
    "    return -1"
   ]
  },
  {
   "cell_type": "code",
   "execution_count": 19,
   "metadata": {},
   "outputs": [],
   "source": [
    "def solution(queue1, queue2):\n",
    "    if len(queue1)==1:\n",
    "        if queue1[0]== queue2[0]:\n",
    "            return 0\n",
    "        else:\n",
    "            return -1\n",
    "    answer = 0\n",
    "    l = 3*len(queue1)\n",
    "    \n",
    "    i, j = 0, len(queue1)\n",
    "    queue = queue1 +queue2\n",
    "    sum1 = sum(queue[:j])\n",
    "    sum2 = sum(queue[j:])\n",
    "    while answer< l:\n",
    "        if sum1> sum2:\n",
    "            sum1-=queue[i]\n",
    "            sum2+=queue[i]\n",
    "            \n",
    "            if i == len(queue)-1:\n",
    "                i=0\n",
    "            else :\n",
    "                i+=1\n",
    "        elif sum1< sum2:\n",
    "            sum2-=queue[j]\n",
    "            sum1+=queue[j]\n",
    "\n",
    "            if j == len(queue)-1:\n",
    "                j=0\n",
    "            else :\n",
    "                j+=1\n",
    "        else:\n",
    "            return answer\n",
    "\n",
    "        answer+=1\n",
    "    return -1"
   ]
  },
  {
   "cell_type": "code",
   "execution_count": 20,
   "metadata": {},
   "outputs": [
    {
     "data": {
      "text/plain": [
       "-1"
      ]
     },
     "execution_count": 20,
     "metadata": {},
     "output_type": "execute_result"
    }
   ],
   "source": [
    "solution([ 1, 1, 1, 1, 1, 1, 1, 1, 1, 10 ],[1, 1, 1, 1, 1, 1, 1, 1, 1, 1])"
   ]
  },
  {
   "cell_type": "code",
   "execution_count": null,
   "metadata": {},
   "outputs": [],
   "source": []
  }
 ],
 "metadata": {
  "kernelspec": {
   "display_name": "Python 3",
   "language": "python",
   "name": "python3"
  },
  "language_info": {
   "codemirror_mode": {
    "name": "ipython",
    "version": 3
   },
   "file_extension": ".py",
   "mimetype": "text/x-python",
   "name": "python",
   "nbconvert_exporter": "python",
   "pygments_lexer": "ipython3",
   "version": "3.10.8"
  },
  "orig_nbformat": 4,
  "vscode": {
   "interpreter": {
    "hash": "1eaddad8910a63e993320c00f976674dd19739aa47ccb16e46e67145212d406a"
   }
  }
 },
 "nbformat": 4,
 "nbformat_minor": 2
}
