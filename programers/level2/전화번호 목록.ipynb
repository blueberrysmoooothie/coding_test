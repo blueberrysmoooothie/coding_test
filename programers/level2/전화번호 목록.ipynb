{
 "cells": [
  {
   "cell_type": "markdown",
   "id": "151ff7a5",
   "metadata": {},
   "source": [
    "전화번호 목록\n",
    "---\n",
    "https://school.programmers.co.kr/learn/courses/30/lessons/42577"
   ]
  },
  {
   "cell_type": "code",
   "execution_count": 8,
   "id": "7926d4ad",
   "metadata": {},
   "outputs": [],
   "source": [
    "import re\n",
    "def solution(phone_book):\n",
    "    phone_book = sorted(phone_book)\n",
    "    while len(phone_book)>1:\n",
    "        n = phone_book.pop(0)\n",
    "        p = re.compile(n)\n",
    "        for m in phone_book:\n",
    "            if p.match(m):\n",
    "                return False\n",
    "\n",
    "    \n",
    "    return True"
   ]
  },
  {
   "cell_type": "code",
   "execution_count": 15,
   "id": "6d8b23c7",
   "metadata": {},
   "outputs": [],
   "source": [
    "def solution(phone_book):\n",
    "    phone_book = sorted(sorted(phone_book, key = lambda x: len(x)), key = lambda x: x[0])\n",
    "#     print(phone_book)\n",
    "    while len(phone_book)>1:\n",
    "        n = phone_book.pop(0)\n",
    "        for m in phone_book:\n",
    "            if len(m)>len(n):\n",
    "                if m[:len(n)]== n:\n",
    "                    return False\n",
    "\n",
    "    \n",
    "    return True"
   ]
  },
  {
   "cell_type": "code",
   "execution_count": 28,
   "id": "7c7ee29d",
   "metadata": {},
   "outputs": [],
   "source": [
    "def solution(phone_book):\n",
    "    if len(phone_book)==1:\n",
    "        return True\n",
    "    phone_book = sorted(phone_book, key = lambda x: ( x[0],len(x)))\n",
    "    # print(phone_book)\n",
    "    for i in range(len(phone_book)-1):\n",
    "        n = phone_book[i]\n",
    "        j=i+1\n",
    "        while len(phone_book[j]) >len(n):\n",
    "            if phone_book[j][:len(n)]== n:\n",
    "                return False\n",
    "            j+=1\n",
    "    \n",
    "    return True"
   ]
  },
  {
   "cell_type": "code",
   "execution_count": 46,
   "id": "b7611698",
   "metadata": {},
   "outputs": [],
   "source": [
    "def solution(phone_book):\n",
    "    if len(phone_book)==1:\n",
    "        return True\n",
    "\n",
    "    phone_book = sorted(phone_book, key = lambda x: ( x,len(x)))\n",
    "    # print(phone_book)\n",
    "    for i in range(len(phone_book)-1):\n",
    "        n = phone_book[i]\n",
    "        m = phone_book[i+1]\n",
    "        if len(m) >len(n):\n",
    "            if m[:len(n)]== n:\n",
    "                return False\n",
    "            \n",
    "    \n",
    "    return True"
   ]
  },
  {
   "cell_type": "code",
   "execution_count": 47,
   "id": "379413cf",
   "metadata": {},
   "outputs": [
    {
     "data": {
      "text/plain": [
       "True"
      ]
     },
     "execution_count": 47,
     "metadata": {},
     "output_type": "execute_result"
    }
   ],
   "source": [
    "solution(['45777',\"12\", \"456\", \"789\",'12555555', '45677', '4562','7'])"
   ]
  },
  {
   "cell_type": "code",
   "execution_count": 48,
   "id": "da2d5525",
   "metadata": {},
   "outputs": [
    {
     "data": {
      "text/plain": [
       "True"
      ]
     },
     "execution_count": 48,
     "metadata": {},
     "output_type": "execute_result"
    }
   ],
   "source": [
    "solution(['2','4','3','7'])"
   ]
  },
  {
   "cell_type": "code",
   "execution_count": null,
   "id": "e4f8fc06",
   "metadata": {},
   "outputs": [],
   "source": []
  }
 ],
 "metadata": {
  "kernelspec": {
   "display_name": "Python 3.8.10 64-bit",
   "language": "python",
   "name": "python3"
  },
  "language_info": {
   "codemirror_mode": {
    "name": "ipython",
    "version": 3
   },
   "file_extension": ".py",
   "mimetype": "text/x-python",
   "name": "python",
   "nbconvert_exporter": "python",
   "pygments_lexer": "ipython3",
   "version": "3.8.10"
  },
  "vscode": {
   "interpreter": {
    "hash": "761f0ed58ed03a7b8d407c7a2163809381c449da5ceb88951a1a7dc71180eff3"
   }
  }
 },
 "nbformat": 4,
 "nbformat_minor": 5
}
