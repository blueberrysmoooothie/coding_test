{
 "cells": [
  {
   "attachments": {},
   "cell_type": "markdown",
   "metadata": {},
   "source": [
    "행렬 테두리 회전하기\n",
    "---\n",
    "https://school.programmers.co.kr/learn/courses/30/lessons/77485"
   ]
  },
  {
   "cell_type": "code",
   "execution_count": 21,
   "metadata": {},
   "outputs": [],
   "source": [
    "def solution(rows, columns, queries):\n",
    "    l = [[r*columns+c for c in range(1,columns+1) ] for r in range(rows) ]\n",
    "    mins = []\n",
    "    for y1, x1, y2, x2 in queries:\n",
    "        min_num = rows*columns\n",
    "        temp = l[y1-1][x1-1]\n",
    "        for y in range(y1, y2):\n",
    "            l[y-1][x1-1]=l[y][x1-1]\n",
    "            if min_num>l[y-1][x1-1]:\n",
    "                min_num=l[y-1][x1-1]\n",
    "        for x in range(x1, x2):\n",
    "            l[y2-1][x-1]=l[y2-1][x]\n",
    "            if min_num>l[y2-1][x-1]:\n",
    "                min_num=l[y2-1][x-1]\n",
    "        for y in range(y2, y1, -1):\n",
    "            l[y-1][x2-1]=l[y-2][x2-1]\n",
    "            if min_num>l[y-1][x2-1]:\n",
    "                min_num=l[y-1][x2-1]\n",
    "        for x in range(x2, x1+1, -1):\n",
    "            l[y1-1][x-1]=l[y1-1][x-2]\n",
    "            if min_num>l[y1-1][x-1]:\n",
    "                min_num=l[y1-1][x-1]\n",
    "\n",
    "        l[y1-1][x1] = temp\n",
    "        mins.append(min(temp, min_num))\n",
    "        # for c in l:\n",
    "        #     print(c)\n",
    "        # print()\n",
    "    return mins"
   ]
  },
  {
   "cell_type": "code",
   "execution_count": 22,
   "metadata": {},
   "outputs": [
    {
     "data": {
      "text/plain": [
       "[8, 10, 25]"
      ]
     },
     "execution_count": 22,
     "metadata": {},
     "output_type": "execute_result"
    }
   ],
   "source": [
    "solution(6, 6, [[2,2,5,4],[3,3,6,6],[5,1,6,3]])"
   ]
  },
  {
   "cell_type": "code",
   "execution_count": null,
   "metadata": {},
   "outputs": [],
   "source": []
  }
 ],
 "metadata": {
  "kernelspec": {
   "display_name": "Python 3",
   "language": "python",
   "name": "python3"
  },
  "language_info": {
   "codemirror_mode": {
    "name": "ipython",
    "version": 3
   },
   "file_extension": ".py",
   "mimetype": "text/x-python",
   "name": "python",
   "nbconvert_exporter": "python",
   "pygments_lexer": "ipython3",
   "version": "3.10.8"
  },
  "orig_nbformat": 4,
  "vscode": {
   "interpreter": {
    "hash": "1eaddad8910a63e993320c00f976674dd19739aa47ccb16e46e67145212d406a"
   }
  }
 },
 "nbformat": 4,
 "nbformat_minor": 2
}
