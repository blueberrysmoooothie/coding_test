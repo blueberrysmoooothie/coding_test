{
 "cells": [
  {
   "attachments": {},
   "cell_type": "markdown",
   "metadata": {},
   "source": [
    "시소 짝꿍\n",
    "---\n",
    "https://school.programmers.co.kr/learn/courses/30/lessons/152996"
   ]
  },
  {
   "cell_type": "code",
   "execution_count": 1,
   "metadata": {},
   "outputs": [],
   "source": [
    "def solution(weights):\n",
    "    weights = sorted(weights)\n",
    "    answer = 0\n",
    "    times = [1,4/3,3/2,2]\n",
    "    for i in range(len(weights)-1):\n",
    "        ind = 0\n",
    "        tw = weights[i]\n",
    "        for j in range(i+1,len(weights)):\n",
    "            w = weights[j]\n",
    "            while True:\n",
    "                if w == tw:\n",
    "                    answer+=1\n",
    "                    break\n",
    "                elif w > tw:\n",
    "                    ind +=1\n",
    "                    if ind == 4:\n",
    "                        break\n",
    "                    tw = times[ind] * weights[i]\n",
    "                else:\n",
    "                    break\n",
    "            if ind ==4:\n",
    "                break\n",
    "    return answer"
   ]
  },
  {
   "cell_type": "code",
   "execution_count": 74,
   "metadata": {},
   "outputs": [
    {
     "data": {
      "text/plain": [
       "2"
      ]
     },
     "execution_count": 74,
     "metadata": {},
     "output_type": "execute_result"
    }
   ],
   "source": [
    "bisect.bisect_left([1,2,3,4,5],2.1)"
   ]
  },
  {
   "cell_type": "code",
   "execution_count": 68,
   "metadata": {},
   "outputs": [],
   "source": [
    "import bisect\n",
    "def solution(weights):\n",
    "    weights = sorted(weights)\n",
    "    answer = 0\n",
    "    times = [1,4/3,3/2,2]\n",
    "    l = len(weights)\n",
    "    for i in range(len(weights)-1):\n",
    "        for t in times:\n",
    "            tw = weights[i] * t\n",
    "            if weights[-1]< tw:\n",
    "                break\n",
    "            ind = bisect.bisect_left(weights[i+1:], tw)\n",
    "            if i+ind >=l-1:\n",
    "                break\n",
    "            if tw%1 == 0:\n",
    "                tw = int(tw)\n",
    "                if weights[i+ind+1] == tw:\n",
    "                    # print(weights[i], weights[i+ind+1])\n",
    "                    answer+=1\n",
    "\n",
    "\n",
    "    return answer"
   ]
  },
  {
   "cell_type": "code",
   "execution_count": 79,
   "metadata": {},
   "outputs": [],
   "source": [
    "def solution(weights):\n",
    "    weights = sorted(weights)\n",
    "    answer = 0\n",
    "    times = [1,4/3,3/2,2]\n",
    "    for i in range(len(weights)-1):\n",
    "        w = weights[i]\n",
    "        for t in times:\n",
    "            tw = t*w\n",
    "            if tw//1 != 0:\n",
    "                answer+= weights[i+1:].count(t*w)\n",
    "\n",
    "\n",
    "    return answer"
   ]
  },
  {
   "cell_type": "code",
   "execution_count": 87,
   "metadata": {},
   "outputs": [],
   "source": [
    "import bisect\n",
    "def solution(weights):\n",
    "    weights = sorted(weights)\n",
    "    answer = 0\n",
    "    times = [1,4/3,3/2,2]\n",
    "    for i in range(len(weights)-1):\n",
    "        w = weights[i]\n",
    "        for t in times:\n",
    "            tw = t*w\n",
    "            if tw//1 != 0:\n",
    "                ind = bisect.bisect_left(weights[i+1:], tw+1)\n",
    "                answer+= weights[i+1:i+ind+1].count(t*w)\n",
    "\n",
    "\n",
    "    return answer"
   ]
  },
  {
   "cell_type": "code",
   "execution_count": 103,
   "metadata": {},
   "outputs": [],
   "source": [
    "import bisect\n",
    "def solution(weights):\n",
    "    weights = sorted(weights)\n",
    "    w_dic = {}\n",
    "    answer = 0\n",
    "    for w in weights:\n",
    "        if w in w_dic.keys():\n",
    "            w_dic[w]+=1\n",
    "        else:\n",
    "            w_dic[w] = 1\n",
    "\n",
    "    for k, v in w_dic.items():\n",
    "        if v>1:\n",
    "            answer+=(v*(v-1))//2\n",
    "\n",
    "    times = [4/3,3/2,2]\n",
    "    keys = list(w_dic.keys())\n",
    "    for i in range(len(keys)):\n",
    "        for t in times:\n",
    "            tk = keys[i]*t\n",
    "            if tk in keys:\n",
    "                print(keys[i], tk)\n",
    "                answer+=w_dic[tk]*w_dic[keys[i]]\n",
    "\n",
    "    return answer"
   ]
  },
  {
   "cell_type": "code",
   "execution_count": 105,
   "metadata": {},
   "outputs": [
    {
     "data": {
      "text/plain": [
       "6"
      ]
     },
     "execution_count": 105,
     "metadata": {},
     "output_type": "execute_result"
    }
   ],
   "source": [
    "solution([100, 100,100,100])"
   ]
  },
  {
   "cell_type": "code",
   "execution_count": null,
   "metadata": {},
   "outputs": [],
   "source": []
  }
 ],
 "metadata": {
  "kernelspec": {
   "display_name": "Python 3",
   "language": "python",
   "name": "python3"
  },
  "language_info": {
   "codemirror_mode": {
    "name": "ipython",
    "version": 3
   },
   "file_extension": ".py",
   "mimetype": "text/x-python",
   "name": "python",
   "nbconvert_exporter": "python",
   "pygments_lexer": "ipython3",
   "version": "3.10.8"
  },
  "orig_nbformat": 4,
  "vscode": {
   "interpreter": {
    "hash": "1eaddad8910a63e993320c00f976674dd19739aa47ccb16e46e67145212d406a"
   }
  }
 },
 "nbformat": 4,
 "nbformat_minor": 2
}
