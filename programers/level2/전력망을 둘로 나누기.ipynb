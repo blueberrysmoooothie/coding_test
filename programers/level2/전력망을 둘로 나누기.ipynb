{
 "cells": [
  {
   "attachments": {},
   "cell_type": "markdown",
   "metadata": {},
   "source": [
    "전력망을 둘로 나누기\n",
    "---\n",
    "https://school.programmers.co.kr/learn/courses/30/lessons/86971"
   ]
  },
  {
   "cell_type": "code",
   "execution_count": 31,
   "metadata": {},
   "outputs": [],
   "source": [
    "def solution(n, wires):\n",
    "    mindif = n\n",
    "    for i in range(len(wires)):\n",
    "        group1 = [wires[0][0]]\n",
    "        wires_dic = {}\n",
    "        for wire in wires[:i]+wires[i+1:]:\n",
    "            if wire[0] not in wires_dic.keys():\n",
    "                wires_dic[wire[0]] = []\n",
    "            if wire[1] not in wires_dic.keys():\n",
    "                wires_dic[wire[1]] = []\n",
    "            wires_dic[wire[0]].append(wire[1])\n",
    "            wires_dic[wire[1]].append(wire[0])\n",
    "        # print(wires_dic)\n",
    "\n",
    "        for node in group1:\n",
    "            try:\n",
    "                for no in wires_dic[node]:\n",
    "                    if no not in  group1:\n",
    "                        group1.append(no)\n",
    "            except:\n",
    "                pass\n",
    "\n",
    "        dif = abs(n- 2*len(group1))\n",
    "        # print(group1, dif)\n",
    "        \n",
    "        if dif < mindif:\n",
    "            mindif = dif\n",
    "\n",
    "\n",
    "    return mindif"
   ]
  },
  {
   "cell_type": "code",
   "execution_count": 32,
   "metadata": {},
   "outputs": [
    {
     "data": {
      "text/plain": [
       "0"
      ]
     },
     "execution_count": 32,
     "metadata": {},
     "output_type": "execute_result"
    }
   ],
   "source": [
    "solution(\t4, [[1, 2], [2, 3], [3, 4]])"
   ]
  },
  {
   "cell_type": "code",
   "execution_count": null,
   "metadata": {},
   "outputs": [],
   "source": []
  }
 ],
 "metadata": {
  "kernelspec": {
   "display_name": "Python 3",
   "language": "python",
   "name": "python3"
  },
  "language_info": {
   "codemirror_mode": {
    "name": "ipython",
    "version": 3
   },
   "file_extension": ".py",
   "mimetype": "text/x-python",
   "name": "python",
   "nbconvert_exporter": "python",
   "pygments_lexer": "ipython3",
   "version": "3.10.8"
  },
  "orig_nbformat": 4,
  "vscode": {
   "interpreter": {
    "hash": "1eaddad8910a63e993320c00f976674dd19739aa47ccb16e46e67145212d406a"
   }
  }
 },
 "nbformat": 4,
 "nbformat_minor": 2
}
