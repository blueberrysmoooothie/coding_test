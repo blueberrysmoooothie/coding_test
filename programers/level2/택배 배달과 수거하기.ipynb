{
 "cells": [
  {
   "attachments": {},
   "cell_type": "markdown",
   "metadata": {},
   "source": [
    "택배 배달과 수거하기\n",
    "---\n",
    "https://school.programmers.co.kr/learn/courses/30/lessons/150369"
   ]
  },
  {
   "cell_type": "code",
   "execution_count": 53,
   "metadata": {},
   "outputs": [],
   "source": [
    "def solution(cap, n, deliveries, pickups):\n",
    "    answer = 0\n",
    "    d_ind = len(deliveries)-1\n",
    "    p_ind = len(deliveries)-1\n",
    "    for d in range(d_ind,-2,-1):\n",
    "        if deliveries[d]:\n",
    "            break\n",
    "    d_ind =d\n",
    "    for p in range(p_ind,-2,-1):\n",
    "        if pickups[p]:\n",
    "            break\n",
    "    p_ind =p\n",
    "\n",
    "    while True:\n",
    "        if d_ind ==-1 and p_ind == -1:\n",
    "            break\n",
    "        # print(deliveries, d_ind, pickups, p_ind)\n",
    "        answer += max(d_ind, p_ind) +1\n",
    "        c = cap\n",
    "        while c > 0 and d_ind>=0: \n",
    "            if deliveries[d]>0: \n",
    "                c-=1\n",
    "                deliveries[d]-=1\n",
    "            for d in range(d_ind,-2,-1):\n",
    "                if deliveries[d]:\n",
    "                    break\n",
    "            d_ind =d\n",
    "\n",
    "        c = cap\n",
    "        while c > 0 and p_ind>=0: \n",
    "            if pickups[p]>0:\n",
    "                c-=1\n",
    "                pickups[p]-=1\n",
    "            \n",
    "            for p in range(p_ind,-2,-1):\n",
    "                if pickups[p]:\n",
    "                    break\n",
    "            p_ind =p\n",
    "\n",
    "    return answer*2\n"
   ]
  },
  {
   "cell_type": "code",
   "execution_count": 54,
   "metadata": {},
   "outputs": [
    {
     "name": "stdout",
     "output_type": "stream",
     "text": [
      "[1, 0, 0, 0, 0] 0 [0, 0, 0, 0, 0] -1\n"
     ]
    },
    {
     "data": {
      "text/plain": [
       "2"
      ]
     },
     "execution_count": 54,
     "metadata": {},
     "output_type": "execute_result"
    }
   ],
   "source": [
    "solution(2, 5, [1,0,0,0,0], [0,0,0,0,0])"
   ]
  },
  {
   "cell_type": "code",
   "execution_count": 14,
   "metadata": {},
   "outputs": [
    {
     "name": "stdout",
     "output_type": "stream",
     "text": [
      "2\n"
     ]
    }
   ],
   "source": [
    "deliveries = [0,0,1,0]\n",
    "for d in range(len(deliveries)-1,-1,-1):\n",
    "    if deliveries[d]:\n",
    "        d_ind =d\n",
    "        break\n",
    "print(d_ind)"
   ]
  },
  {
   "cell_type": "code",
   "execution_count": null,
   "metadata": {},
   "outputs": [],
   "source": []
  },
  {
   "cell_type": "code",
   "execution_count": null,
   "metadata": {},
   "outputs": [],
   "source": []
  }
 ],
 "metadata": {
  "kernelspec": {
   "display_name": "Python 3",
   "language": "python",
   "name": "python3"
  },
  "language_info": {
   "codemirror_mode": {
    "name": "ipython",
    "version": 3
   },
   "file_extension": ".py",
   "mimetype": "text/x-python",
   "name": "python",
   "nbconvert_exporter": "python",
   "pygments_lexer": "ipython3",
   "version": "3.10.8"
  },
  "orig_nbformat": 4,
  "vscode": {
   "interpreter": {
    "hash": "1eaddad8910a63e993320c00f976674dd19739aa47ccb16e46e67145212d406a"
   }
  }
 },
 "nbformat": 4,
 "nbformat_minor": 2
}
