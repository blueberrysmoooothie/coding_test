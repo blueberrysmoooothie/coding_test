{
 "cells": [
  {
   "cell_type": "markdown",
   "metadata": {},
   "source": [
    "미로 탈출\n",
    "---\n",
    "https://school.programmers.co.kr/learn/courses/30/lessons/159993"
   ]
  },
  {
   "cell_type": "code",
   "execution_count": 36,
   "metadata": {},
   "outputs": [],
   "source": [
    "def solution(maps):\n",
    "    def calc_dist(start,end, local_dist):\n",
    "\n",
    "        to_visit = [start]\n",
    "        for loc in to_visit:\n",
    "            if loc == end:\n",
    "                return local_dist[loc[0]][loc[1]]\n",
    "            for v in vectors:\n",
    "                if local_dist[loc[0]+v[0]][loc[1]+v[1]]==0:\n",
    "                    local_dist[loc[0]+v[0]][loc[1]+v[1]] = local_dist[loc[0]][loc[1]]+1\n",
    "                    to_visit.append([loc[0]+v[0], loc[1]+v[1]])\n",
    "\n",
    "        return -1\n",
    "\n",
    "    vectors = [[-1,0], [1,0], [0,-1],[0,1]]\n",
    "    l, c = len(maps), len(maps[0])\n",
    "    dist = [[-1]*(c+2)]\n",
    "    elements = {}\n",
    "    for i in range(l):\n",
    "        dist.append([-1])\n",
    "        for j in range(c):\n",
    "            if maps[i][j]=='X':\n",
    "                dist[i+1].append(-1)\n",
    "            else:\n",
    "                dist[i+1].append(0)\n",
    "            if maps[i][j] not in ['O', 'X']:\n",
    "                elements[maps[i][j]] = [i+1,j+1]\n",
    "        dist[i+1].append(-1)\n",
    "    dist.append([-1]*(c+2))\n",
    "\n",
    "    local_dist = [[d for d in ds] for ds in dist.copy()]\n",
    "    d = calc_dist(elements['S'], elements['L'], local_dist)\n",
    "    if d == -1 :\n",
    "        return -1\n",
    "\n",
    "    ld = calc_dist(elements['L'], elements['E'], dist)\n",
    "    if ld == -1:\n",
    "        return -1\n",
    "    return d+ld"
   ]
  },
  {
   "cell_type": "code",
   "execution_count": 37,
   "metadata": {},
   "outputs": [
    {
     "data": {
      "text/plain": [
       "16"
      ]
     },
     "execution_count": 37,
     "metadata": {},
     "output_type": "execute_result"
    }
   ],
   "source": [
    "solution(\t[\"SOOOL\", \"XXXXO\", \"OOOOO\", \"OXXXX\", \"OOOOE\"])"
   ]
  },
  {
   "cell_type": "code",
   "execution_count": null,
   "metadata": {},
   "outputs": [],
   "source": []
  }
 ],
 "metadata": {
  "kernelspec": {
   "display_name": "Python 3",
   "language": "python",
   "name": "python3"
  },
  "language_info": {
   "codemirror_mode": {
    "name": "ipython",
    "version": 3
   },
   "file_extension": ".py",
   "mimetype": "text/x-python",
   "name": "python",
   "nbconvert_exporter": "python",
   "pygments_lexer": "ipython3",
   "version": "3.10.8"
  },
  "orig_nbformat": 4,
  "vscode": {
   "interpreter": {
    "hash": "1eaddad8910a63e993320c00f976674dd19739aa47ccb16e46e67145212d406a"
   }
  }
 },
 "nbformat": 4,
 "nbformat_minor": 2
}
