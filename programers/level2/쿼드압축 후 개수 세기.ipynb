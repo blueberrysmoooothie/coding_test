{
 "cells": [
  {
   "attachments": {},
   "cell_type": "markdown",
   "metadata": {},
   "source": [
    "쿼드압축 후 개수 세기\n",
    "---\n",
    "https://school.programmers.co.kr/learn/courses/30/lessons/68936"
   ]
  },
  {
   "cell_type": "code",
   "execution_count": 21,
   "metadata": {},
   "outputs": [],
   "source": [
    "\n",
    "\n",
    "\n",
    "def solution(arr):\n",
    "    result = []\n",
    "\n",
    "    def quard(sarr):\n",
    "        if len(sarr)==1:\n",
    "            result.append(sarr[0][0])\n",
    "            return 0 \n",
    "            \n",
    "        if sum([j.count(1) for j in sarr]) in [len(sarr)**2,0]:\n",
    "            result.append(sarr[0][0])\n",
    "            return 0 \n",
    "\n",
    "        l = len(sarr)//2\n",
    "        for i in [0,1]:    \n",
    "            for j in [0,1]:\n",
    "                subarr = [a[l*j:l*(j+1)] for a in sarr[l*i:l*(i+1)]]\n",
    "                quard(subarr)\n",
    "    quard(arr)\n",
    "    \n",
    "    s = sum([r for r in result])\n",
    "    answer = [len(result) -s, s]\n",
    "    return answer"
   ]
  },
  {
   "cell_type": "code",
   "execution_count": 19,
   "metadata": {},
   "outputs": [
    {
     "data": {
      "text/plain": [
       "[[0]]"
      ]
     },
     "execution_count": 19,
     "metadata": {},
     "output_type": "execute_result"
    }
   ],
   "source": [
    "t = [[1,1],[1,0]]\n",
    "l = len(t)//2\n",
    "\n",
    "[a[l*1:l*(2)] for a in t[l*1:l*(2)]]"
   ]
  },
  {
   "cell_type": "code",
   "execution_count": 26,
   "metadata": {},
   "outputs": [
    {
     "data": {
      "text/plain": [
       "3"
      ]
     },
     "execution_count": 26,
     "metadata": {},
     "output_type": "execute_result"
    }
   ],
   "source": [
    "sum([j.count(1) for j in t])\n",
    "    "
   ]
  },
  {
   "cell_type": "code",
   "execution_count": 22,
   "metadata": {},
   "outputs": [
    {
     "name": "stdout",
     "output_type": "stream",
     "text": [
      "[1, 1, 1, 0, 0, 1, 0, 1, 1, 0, 1, 1, 1]\n"
     ]
    },
    {
     "data": {
      "text/plain": [
       "[4, 9]"
      ]
     },
     "execution_count": 22,
     "metadata": {},
     "output_type": "execute_result"
    }
   ],
   "source": [
    "solution([[1,1,0,0],[1,0,0,0],[1,0,0,1],[1,1,1,1]])"
   ]
  },
  {
   "cell_type": "code",
   "execution_count": null,
   "metadata": {},
   "outputs": [],
   "source": []
  }
 ],
 "metadata": {
  "kernelspec": {
   "display_name": "Python 3",
   "language": "python",
   "name": "python3"
  },
  "language_info": {
   "codemirror_mode": {
    "name": "ipython",
    "version": 3
   },
   "file_extension": ".py",
   "mimetype": "text/x-python",
   "name": "python",
   "nbconvert_exporter": "python",
   "pygments_lexer": "ipython3",
   "version": "3.10.8"
  },
  "orig_nbformat": 4,
  "vscode": {
   "interpreter": {
    "hash": "1eaddad8910a63e993320c00f976674dd19739aa47ccb16e46e67145212d406a"
   }
  }
 },
 "nbformat": 4,
 "nbformat_minor": 2
}
