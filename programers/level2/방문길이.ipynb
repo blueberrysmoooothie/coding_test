{
 "cells": [
  {
   "attachments": {},
   "cell_type": "markdown",
   "metadata": {},
   "source": [
    "방문길이\n",
    "---\n",
    "https://school.programmers.co.kr/learn/courses/30/lessons/49994"
   ]
  },
  {
   "cell_type": "code",
   "execution_count": 42,
   "metadata": {},
   "outputs": [],
   "source": [
    "def solution(dirs):\n",
    "    cur = (5,5)\n",
    "    paths = {}\n",
    "    answer = 0\n",
    "    for d in dirs:\n",
    "        if d=='U':\n",
    "            if cur[0]!=0:\n",
    "                paths[tuple(sorted((cur,(cur[0]-1, cur[1])),key = lambda x: [x[0],x[1]]))] =1\n",
    "                cur= (cur[0]-1, cur[1])\n",
    "        elif d=='D':\n",
    "            if cur[0]!=10:\n",
    "                paths[tuple(sorted((cur,(cur[0]+1, cur[1])),key = lambda x: [x[0],x[1]]))] =1\n",
    "                cur= (cur[0]+1, cur[1])\n",
    "        elif d=='L':\n",
    "            if cur[1]!=0:\n",
    "                paths[tuple(sorted((cur,(cur[0], cur[1]-1)),key = lambda x: [x[0],x[1]]))] =1\n",
    "                cur= (cur[0], cur[1]-1)\n",
    "        else:\n",
    "            if cur[1]!=10:\n",
    "                paths[tuple(sorted((cur,(cur[0], cur[1]+1)),key = lambda x: [x[0],x[1]]))] =1\n",
    "                cur= (cur[0], cur[1]+1)\n",
    "\n",
    "    return sum(paths.values())"
   ]
  },
  {
   "cell_type": "code",
   "execution_count": 43,
   "metadata": {},
   "outputs": [
    {
     "data": {
      "text/plain": [
       "{((1, 1), (2, 1)): 1}"
      ]
     },
     "execution_count": 43,
     "metadata": {},
     "output_type": "execute_result"
    }
   ],
   "source": [
    "{((1,1),(2,1)):1}"
   ]
  },
  {
   "cell_type": "code",
   "execution_count": 44,
   "metadata": {},
   "outputs": [
    {
     "data": {
      "text/plain": [
       "2"
      ]
     },
     "execution_count": 44,
     "metadata": {},
     "output_type": "execute_result"
    }
   ],
   "source": [
    "solution(\"UDUDLRLR\")"
   ]
  },
  {
   "cell_type": "code",
   "execution_count": null,
   "metadata": {},
   "outputs": [],
   "source": []
  },
  {
   "cell_type": "code",
   "execution_count": null,
   "metadata": {},
   "outputs": [],
   "source": []
  }
 ],
 "metadata": {
  "kernelspec": {
   "display_name": "Python 3",
   "language": "python",
   "name": "python3"
  },
  "language_info": {
   "codemirror_mode": {
    "name": "ipython",
    "version": 3
   },
   "file_extension": ".py",
   "mimetype": "text/x-python",
   "name": "python",
   "nbconvert_exporter": "python",
   "pygments_lexer": "ipython3",
   "version": "3.10.8"
  },
  "orig_nbformat": 4,
  "vscode": {
   "interpreter": {
    "hash": "1eaddad8910a63e993320c00f976674dd19739aa47ccb16e46e67145212d406a"
   }
  }
 },
 "nbformat": 4,
 "nbformat_minor": 2
}
