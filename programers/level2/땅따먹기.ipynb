{
 "cells": [
  {
   "attachments": {},
   "cell_type": "markdown",
   "metadata": {},
   "source": [
    "땅따먹기\n",
    "---\n",
    "https://school.programmers.co.kr/learn/courses/30/lessons/12913"
   ]
  },
  {
   "cell_type": "code",
   "execution_count": 21,
   "metadata": {},
   "outputs": [],
   "source": [
    "def solution(land):\n",
    "    answer = 0\n",
    "    loc = -1\n",
    "    l = len(land)\n",
    "    for i in range(l):\n",
    "        \n",
    "        cur = land[i]\n",
    "        if loc != -1:\n",
    "            cur[loc] = 0\n",
    "        \n",
    "        if i == l-1:\n",
    "            answer += max(cur)\n",
    "            break\n",
    "        \n",
    "        nex = land[i+1]\n",
    "        if cur.index(max(cur)) == nex.index(max(nex)):\n",
    "            cur_2 = sorted(cur)\n",
    "            nex_2 = sorted(nex)\n",
    "            if cur_2[-1]- cur_2[-2] < nex_2[-1]-nex_2[-2]:\n",
    "                loc = cur.index(cur_2[-2])\n",
    "            else:\n",
    "                loc = cur.index(max(cur))\n",
    "        \n",
    "        else:\n",
    "            loc = cur.index(max(cur))\n",
    "\n",
    "        answer += cur[loc]\n",
    "\n",
    "    return answer"
   ]
  },
  {
   "cell_type": "code",
   "execution_count": 23,
   "metadata": {},
   "outputs": [],
   "source": [
    "def solution(land):\n",
    "    \n",
    "    for i in range(1, len(land)):\n",
    "        cur = land[i-1]\n",
    "        for j in range(4):\n",
    "            temp = cur[j]\n",
    "            cur[j] = -1\n",
    "            land[i][j] += max(cur)\n",
    "            cur[j] = temp\n",
    "        \n",
    "    return max(land[i])"
   ]
  },
  {
   "cell_type": "code",
   "execution_count": 24,
   "metadata": {},
   "outputs": [
    {
     "data": {
      "text/plain": [
       "16"
      ]
     },
     "execution_count": 24,
     "metadata": {},
     "output_type": "execute_result"
    }
   ],
   "source": [
    "solution([[1,2,3,5],[5,6,7,8],[4,3,2,1]])"
   ]
  },
  {
   "cell_type": "code",
   "execution_count": null,
   "metadata": {},
   "outputs": [],
   "source": []
  }
 ],
 "metadata": {
  "kernelspec": {
   "display_name": "Python 3",
   "language": "python",
   "name": "python3"
  },
  "language_info": {
   "codemirror_mode": {
    "name": "ipython",
    "version": 3
   },
   "file_extension": ".py",
   "mimetype": "text/x-python",
   "name": "python",
   "nbconvert_exporter": "python",
   "pygments_lexer": "ipython3",
   "version": "3.10.8 (tags/v3.10.8:aaaf517, Oct 11 2022, 16:50:30) [MSC v.1933 64 bit (AMD64)]"
  },
  "orig_nbformat": 4,
  "vscode": {
   "interpreter": {
    "hash": "1eaddad8910a63e993320c00f976674dd19739aa47ccb16e46e67145212d406a"
   }
  }
 },
 "nbformat": 4,
 "nbformat_minor": 2
}
