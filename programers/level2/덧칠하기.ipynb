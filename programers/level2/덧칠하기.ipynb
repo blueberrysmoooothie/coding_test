{
 "cells": [
  {
   "attachments": {},
   "cell_type": "markdown",
   "metadata": {},
   "source": [
    "덧칠하기\n",
    "---\n",
    "https://school.programmers.co.kr/learn/challenges?order=acceptance_desc&statuses=unsolved&languages=python3"
   ]
  },
  {
   "cell_type": "code",
   "execution_count": 6,
   "metadata": {},
   "outputs": [],
   "source": [
    "def solution(n, m, section):\n",
    "    answer = 1\n",
    "    limit = n//m +1\n",
    "    section_len = len(section)\n",
    "    if section_len == 1 or m ==n:\n",
    "        return 1\n",
    "    while answer <= limit:\n",
    "        section_ind = 0\n",
    "        for i in range(answer):\n",
    "            cur = section[section_ind]\n",
    "            cur += m\n",
    "            while section[section_ind]<cur:\n",
    "                section_ind+=1\n",
    "                if section_ind == section_len:\n",
    "                    return answer\n",
    "        answer+=1\n",
    "\n",
    "\n",
    "    \n",
    "    return limit"
   ]
  },
  {
   "cell_type": "code",
   "execution_count": 10,
   "metadata": {},
   "outputs": [],
   "source": [
    "def solution(n, m, section):\n",
    "    answer = 0\n",
    "    limit = n//m +1\n",
    "    section_len = len(section)\n",
    "    if section_len == 1 or m == n:\n",
    "        return 1\n",
    "    while answer <= limit:\n",
    "        section_c = section.copy()\n",
    "        for i in range(answer):\n",
    "            cur = section_c.pop(0)\n",
    "            cur += m\n",
    "            while section_c and section_c[0]<cur:\n",
    "                section_c.pop(0)\n",
    "\n",
    "            if not section_c:\n",
    "                return answer\n",
    "        answer+=1\n",
    "\n",
    "\n",
    "    \n",
    "    return limit"
   ]
  },
  {
   "cell_type": "code",
   "execution_count": 24,
   "metadata": {},
   "outputs": [],
   "source": [
    "import bisect\n",
    "def solution(n, m, section):\n",
    "    answer = 1\n",
    "    limit = n//m +1\n",
    "    section_len = len(section)\n",
    "    if section_len == 1 or m == n:\n",
    "        return 1\n",
    "    while answer <= limit:\n",
    "        section_ind = 0\n",
    "        for i in range(answer):\n",
    "            cur = section[section_ind]\n",
    "            cur += m\n",
    "            section_ind = bisect.bisect_left(section, cur)\n",
    "            # print(section_ind, cur)\n",
    "            if section_ind == section_len:\n",
    "                return answer\n",
    "        answer+=1\n",
    "\n",
    "    return limit"
   ]
  },
  {
   "cell_type": "code",
   "execution_count": 27,
   "metadata": {},
   "outputs": [],
   "source": [
    "import bisect\n",
    "def solution(n, m, section):\n",
    "    answer = 0\n",
    "    limit = n//m +1\n",
    "    section_len = len(section)\n",
    "    if section_len == 1 or m == n:\n",
    "        return 1\n",
    "    section_ind = 0\n",
    "    while True:\n",
    "        answer+=1\n",
    "        cur = section[section_ind]\n",
    "        cur += m\n",
    "        section_ind = bisect.bisect_left(section, cur)\n",
    "        # print(section_ind, cur)\n",
    "        if section_ind == section_len:\n",
    "            return answer\n",
    "        \n",
    "\n",
    "    # return limit"
   ]
  },
  {
   "cell_type": "code",
   "execution_count": 28,
   "metadata": {},
   "outputs": [
    {
     "data": {
      "text/plain": [
       "2"
      ]
     },
     "execution_count": 28,
     "metadata": {},
     "output_type": "execute_result"
    }
   ],
   "source": [
    "solution(8, 4, [2, 3, 6])"
   ]
  },
  {
   "cell_type": "code",
   "execution_count": null,
   "metadata": {},
   "outputs": [],
   "source": []
  }
 ],
 "metadata": {
  "kernelspec": {
   "display_name": "Python 3",
   "language": "python",
   "name": "python3"
  },
  "language_info": {
   "codemirror_mode": {
    "name": "ipython",
    "version": 3
   },
   "file_extension": ".py",
   "mimetype": "text/x-python",
   "name": "python",
   "nbconvert_exporter": "python",
   "pygments_lexer": "ipython3",
   "version": "3.10.8"
  },
  "orig_nbformat": 4,
  "vscode": {
   "interpreter": {
    "hash": "1eaddad8910a63e993320c00f976674dd19739aa47ccb16e46e67145212d406a"
   }
  }
 },
 "nbformat": 4,
 "nbformat_minor": 2
}
