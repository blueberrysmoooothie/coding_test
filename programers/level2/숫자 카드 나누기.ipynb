{
 "cells": [
  {
   "attachments": {},
   "cell_type": "markdown",
   "metadata": {},
   "source": [
    "숫자 카드 나누기\n",
    "---\n",
    "https://school.programmers.co.kr/learn/courses/30/lessons/135807"
   ]
  },
  {
   "cell_type": "code",
   "execution_count": 17,
   "metadata": {},
   "outputs": [],
   "source": [
    "def solution(arrayA, arrayB):\n",
    "    def is_div(num, how):\n",
    "        if how == '철수':\n",
    "            for a in arrayA:\n",
    "                if a%num:\n",
    "                    return False\n",
    "        else:\n",
    "            for a in arrayB:\n",
    "                if a%num:\n",
    "                    return False\n",
    "        return True\n",
    "    def is_nondiv(num, how):\n",
    "        if how == '철수':\n",
    "            for a in arrayA:\n",
    "                if not a%num:\n",
    "                    return False\n",
    "        else:\n",
    "            for a in arrayB:\n",
    "                if not a%num:\n",
    "                    return False\n",
    "        return True\n",
    "\n",
    "\n",
    "    mins = [min(arrayA), min(arrayB)]\n",
    "\n",
    "    hows = ['철수', '영희']\n",
    "    answer = 0\n",
    "    how = hows[mins.index(max(mins))]\n",
    "    how_r = hows[mins.index(min(mins))]\n",
    "    for num in range(max(mins), min(mins), -1):\n",
    "        if is_div(num, how):\n",
    "            if is_nondiv(num, how_r):\n",
    "                answer = num\n",
    "                break\n",
    "    if not answer:\n",
    "        for num in range(min(mins), 1, -1):\n",
    "            if not max(mins)%num:\n",
    "                continue\n",
    "            if is_div(num, how_r):\n",
    "                if is_nondiv(num, how):\n",
    "                    answer = num\n",
    "                    break\n",
    "            if not min(mins)%num:\n",
    "                continue\n",
    "            if is_div(num, how):\n",
    "                if is_nondiv(num, how_r):\n",
    "                    answer = num\n",
    "                    break\n",
    "\n",
    "    return answer"
   ]
  },
  {
   "cell_type": "code",
   "execution_count": 48,
   "metadata": {},
   "outputs": [],
   "source": [
    "def solution(arrayA, arrayB):\n",
    "    def is_div(num, arr_ind):\n",
    "        if arr_ind:\n",
    "            for a in arrayB:\n",
    "                if a%num:\n",
    "                    return False\n",
    "            return True\n",
    "        else:\n",
    "            for a in arrayA:\n",
    "                if a%num:\n",
    "                    return False\n",
    "            return True\n",
    "    \n",
    "    def is_nondiv(num, arr_ind):\n",
    "        if arr_ind:\n",
    "            for a in arrayB:\n",
    "                if not a%num:\n",
    "                    return False\n",
    "            return True\n",
    "        else:\n",
    "            for a in arrayA:\n",
    "                if not a%num:\n",
    "                    return False\n",
    "            return True\n",
    "\n",
    "    arrayA, arrayB = sorted(arrayA), sorted(arrayB)\n",
    "    mins = [arrayA[0], arrayB[0]]\n",
    "    answer = 0\n",
    "    arr_ind = mins[0]<mins[1]\n",
    "    for num in range(max(mins),1,-1):\n",
    "        if is_div(num,arr_ind):\n",
    "            if is_nondiv(num,1- arr_ind):\n",
    "                return num\n",
    "        \n",
    "        if num<=min(mins):\n",
    "            if is_div(num,1-arr_ind):\n",
    "                if is_nondiv(num,arr_ind):\n",
    "                    return num\n",
    "\n",
    "    return answer"
   ]
  },
  {
   "cell_type": "code",
   "execution_count": 57,
   "metadata": {},
   "outputs": [],
   "source": [
    "def solution(arrayA, arrayB):\n",
    "    def get_div(num):\n",
    "        ans = [num]\n",
    "        for i in range(int(num*0.5),1,-1):\n",
    "            if not num%i:\n",
    "                ans.append(i)\n",
    "        return ans\n",
    "    def is_div(num, arr_ind):\n",
    "        if arr_ind:\n",
    "            for a in arrayB:\n",
    "                if a%num:\n",
    "                    return False\n",
    "            return True\n",
    "        else:\n",
    "            for a in arrayA:\n",
    "                if a%num:\n",
    "                    return False\n",
    "            return True\n",
    "    \n",
    "    def is_nondiv(num, arr_ind):\n",
    "        if arr_ind:\n",
    "            for a in arrayB:\n",
    "                if not a%num:\n",
    "                    return False\n",
    "            return True\n",
    "        else:\n",
    "            for a in arrayA:\n",
    "                if not a%num:\n",
    "                    return False\n",
    "            return True\n",
    "\n",
    "    divs = sorted(list(set(get_div(min(arrayA))+get_div(min(arrayB)))), reverse=True)\n",
    "    \n",
    "    for num in divs:\n",
    "        if is_div(num,1):\n",
    "            if is_nondiv(num,0):\n",
    "                return num\n",
    "        \n",
    "        if is_div(num,0):\n",
    "            if is_nondiv(num,1):\n",
    "                return num\n",
    "\n",
    "    return 0"
   ]
  },
  {
   "cell_type": "code",
   "execution_count": 58,
   "metadata": {},
   "outputs": [
    {
     "data": {
      "text/plain": [
       "7"
      ]
     },
     "execution_count": 58,
     "metadata": {},
     "output_type": "execute_result"
    }
   ],
   "source": [
    "solution(\t[14, 35, 119], [18, 30, 102])"
   ]
  },
  {
   "cell_type": "code",
   "execution_count": null,
   "metadata": {},
   "outputs": [],
   "source": []
  }
 ],
 "metadata": {
  "kernelspec": {
   "display_name": "Python 3",
   "language": "python",
   "name": "python3"
  },
  "language_info": {
   "codemirror_mode": {
    "name": "ipython",
    "version": 3
   },
   "file_extension": ".py",
   "mimetype": "text/x-python",
   "name": "python",
   "nbconvert_exporter": "python",
   "pygments_lexer": "ipython3",
   "version": "3.10.8"
  },
  "orig_nbformat": 4,
  "vscode": {
   "interpreter": {
    "hash": "1eaddad8910a63e993320c00f976674dd19739aa47ccb16e46e67145212d406a"
   }
  }
 },
 "nbformat": 4,
 "nbformat_minor": 2
}
