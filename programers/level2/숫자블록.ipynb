{
 "cells": [
  {
   "cell_type": "markdown",
   "id": "35e88353",
   "metadata": {},
   "source": [
    "https://school.programmers.co.kr/learn/courses/30/lessons/12923"
   ]
  },
  {
   "cell_type": "code",
   "execution_count": 28,
   "id": "3dd3a557",
   "metadata": {},
   "outputs": [],
   "source": [
    "def find_big_div(num):\n",
    "    if num ==0 :\n",
    "        return 0\n",
    "    for i in range(2, int(num**0.5)+1):\n",
    "        if num % i == 0 and int(num/i) <=10000000:\n",
    "            return int(num/i)\n",
    "    return 1\n",
    "        \n",
    "def solution(begin, end):\n",
    "    return [find_big_div(num) if num != 1 else 0 for num in range(begin, end+1)]\n"
   ]
  },
  {
   "cell_type": "code",
   "execution_count": 29,
   "id": "7a369c5e",
   "metadata": {},
   "outputs": [
    {
     "data": {
      "text/plain": [
       "[0, 0, 1, 1, 2, 1, 3, 1, 4, 3, 5]"
      ]
     },
     "execution_count": 29,
     "metadata": {},
     "output_type": "execute_result"
    }
   ],
   "source": [
    "solution(0, 10)"
   ]
  },
  {
   "cell_type": "code",
   "execution_count": null,
   "id": "75c34e50",
   "metadata": {},
   "outputs": [],
   "source": []
  }
 ],
 "metadata": {
  "kernelspec": {
   "display_name": "Python 3 (ipykernel)",
   "language": "python",
   "name": "python3"
  },
  "language_info": {
   "codemirror_mode": {
    "name": "ipython",
    "version": 3
   },
   "file_extension": ".py",
   "mimetype": "text/x-python",
   "name": "python",
   "nbconvert_exporter": "python",
   "pygments_lexer": "ipython3",
   "version": "3.9.12"
  }
 },
 "nbformat": 4,
 "nbformat_minor": 5
}
