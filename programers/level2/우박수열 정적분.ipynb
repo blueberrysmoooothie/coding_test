{
 "cells": [
  {
   "attachments": {},
   "cell_type": "markdown",
   "metadata": {},
   "source": [
    "우박수열 정적분\n",
    "---\n",
    "https://school.programmers.co.kr/learn/courses/30/lessons/134239"
   ]
  },
  {
   "cell_type": "code",
   "execution_count": 35,
   "metadata": {},
   "outputs": [],
   "source": [
    "def solution(k, ranges):\n",
    "    result = []\n",
    "    while k>1:\n",
    "        result.append(k)\n",
    "        if k%2 :\n",
    "            k = k*3 +1\n",
    "        else:\n",
    "            k= k//2\n",
    "    result.append(1)\n",
    "    l = len(result)\n",
    "    answer = []\n",
    "    for ra in ranges:\n",
    "        if ra[0]> ra[1]+l-1:\n",
    "            answer.append(-1.0)\n",
    "        elif ra[0] == ra[1]+l-1:\n",
    "            answer.append(0.0)\n",
    "        else:\n",
    "            answer.append(sum(result[ra[0] : l+ra[1]])- 0.5*(result[ra[0]]+result[l+ra[1]-1]))\n",
    "\n",
    "    return answer"
   ]
  },
  {
   "cell_type": "code",
   "execution_count": 36,
   "metadata": {},
   "outputs": [
    {
     "data": {
      "text/plain": [
       "[33.0, 31.5, 0.0, -1.0]"
      ]
     },
     "execution_count": 36,
     "metadata": {},
     "output_type": "execute_result"
    }
   ],
   "source": [
    "solution(5,[[0,0],[0,-1],[2,-3],[3,-3]])"
   ]
  },
  {
   "cell_type": "code",
   "execution_count": 16,
   "metadata": {},
   "outputs": [
    {
     "data": {
      "text/plain": [
       "[2, 3]"
      ]
     },
     "execution_count": 16,
     "metadata": {},
     "output_type": "execute_result"
    }
   ],
   "source": [
    "l = [1,2,3]\n",
    "l[1:5]"
   ]
  },
  {
   "cell_type": "code",
   "execution_count": null,
   "metadata": {},
   "outputs": [],
   "source": []
  }
 ],
 "metadata": {
  "kernelspec": {
   "display_name": "Python 3",
   "language": "python",
   "name": "python3"
  },
  "language_info": {
   "codemirror_mode": {
    "name": "ipython",
    "version": 3
   },
   "file_extension": ".py",
   "mimetype": "text/x-python",
   "name": "python",
   "nbconvert_exporter": "python",
   "pygments_lexer": "ipython3",
   "version": "3.10.8"
  },
  "orig_nbformat": 4,
  "vscode": {
   "interpreter": {
    "hash": "1eaddad8910a63e993320c00f976674dd19739aa47ccb16e46e67145212d406a"
   }
  }
 },
 "nbformat": 4,
 "nbformat_minor": 2
}
