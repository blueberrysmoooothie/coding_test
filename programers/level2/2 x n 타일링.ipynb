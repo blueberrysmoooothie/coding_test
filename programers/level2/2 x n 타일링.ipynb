{
 "cells": [
  {
   "attachments": {},
   "cell_type": "markdown",
   "metadata": {},
   "source": [
    "2 x n 타일링\n",
    "---\n",
    "https://school.programmers.co.kr/learn/courses/30/lessons/12900"
   ]
  },
  {
   "cell_type": "code",
   "execution_count": 13,
   "metadata": {},
   "outputs": [],
   "source": [
    "def fac(n1,n2=1):\n",
    "    f = 1\n",
    "    while n1 >n2:\n",
    "        f *= n1\n",
    "        n1-=1\n",
    "    return f\n",
    "def seq(i,j):\n",
    "    fm = fac(i+j,max(i,j))\n",
    "    fi = fac(min(i,j))\n",
    "    count = fm//fi\n",
    "    return count\n",
    "\n",
    "def solution(n):\n",
    "    answer = 0\n",
    "    for i in range(n//2+1):\n",
    "        j = n-2*i\n",
    "        answer+=seq(i,j)\n",
    "        if answer > 1000000007:\n",
    "            answer = answer%1000000007\n",
    "    return answer"
   ]
  },
  {
   "cell_type": "code",
   "execution_count": 15,
   "metadata": {},
   "outputs": [],
   "source": [
    "def solution(n):\n",
    "    answer = 0\n",
    "    m0 = 1\n",
    "    m1 = 1\n",
    "    for i in range(2, n+1):\n",
    "        answer = m0+m1\n",
    "        m0 = m1\n",
    "        m1 = answer\n",
    "    if answer > 1000000007:\n",
    "        answer = answer%1000000007\n",
    "    return answer"
   ]
  },
  {
   "cell_type": "code",
   "execution_count": 16,
   "metadata": {},
   "outputs": [
    {
     "data": {
      "text/plain": [
       "5"
      ]
     },
     "execution_count": 16,
     "metadata": {},
     "output_type": "execute_result"
    }
   ],
   "source": [
    "solution(4)"
   ]
  },
  {
   "cell_type": "code",
   "execution_count": null,
   "metadata": {},
   "outputs": [],
   "source": []
  }
 ],
 "metadata": {
  "kernelspec": {
   "display_name": "Python 3",
   "language": "python",
   "name": "python3"
  },
  "language_info": {
   "codemirror_mode": {
    "name": "ipython",
    "version": 3
   },
   "file_extension": ".py",
   "mimetype": "text/x-python",
   "name": "python",
   "nbconvert_exporter": "python",
   "pygments_lexer": "ipython3",
   "version": "3.10.8"
  },
  "orig_nbformat": 4,
  "vscode": {
   "interpreter": {
    "hash": "1eaddad8910a63e993320c00f976674dd19739aa47ccb16e46e67145212d406a"
   }
  }
 },
 "nbformat": 4,
 "nbformat_minor": 2
}
