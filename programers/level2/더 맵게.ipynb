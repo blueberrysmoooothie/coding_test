{
 "cells": [
  {
   "attachments": {},
   "cell_type": "markdown",
   "metadata": {},
   "source": [
    "더 맵게\n",
    "---\n",
    "https://school.programmers.co.kr/learn/courses/30/lessons/42626"
   ]
  },
  {
   "cell_type": "code",
   "execution_count": 8,
   "metadata": {},
   "outputs": [],
   "source": [
    "def solution(scoville, K):\n",
    "    l = len(scoville)\n",
    "    scoville = sorted([s for s in scoville if s< K])\n",
    "    over = l- len(scoville)\n",
    "    answer = 0\n",
    "    \n",
    "\n",
    "    while len(scoville):\n",
    "        # print(scoville)\n",
    "        if len(scoville) == 0:\n",
    "            return answer\n",
    "        if len(scoville)==1:\n",
    "            if over ==0 and scoville[0] <K:\n",
    "                return -1\n",
    "\n",
    "            return answer + len(scoville)\n",
    "        else:\n",
    "            a = scoville.pop(0)\n",
    "            b = scoville.pop(0)\n",
    "            c = a+b*2\n",
    "            answer+=1\n",
    "            if c < K:\n",
    "                scoville.append(a+b*2)\n",
    "                scoville = sorted(scoville)\n",
    "            else:\n",
    "                return answer + (len(scoville) +1)//2\n",
    "        \n",
    "    return -1"
   ]
  },
  {
   "cell_type": "code",
   "execution_count": 17,
   "metadata": {},
   "outputs": [],
   "source": [
    "def solution(scoville, K):\n",
    "    l = len(scoville)\n",
    "    scoville = [s for s in scoville if s< K]\n",
    "    over = l- len(scoville)\n",
    "    answer = 0\n",
    "    if over == l:\n",
    "        return 0\n",
    "\n",
    "    while len(scoville):\n",
    "        # print(scoville)\n",
    "        if len(scoville) == 0:\n",
    "            return answer\n",
    "        elif len(scoville)==1:\n",
    "            if over ==0 and scoville[0] <K:\n",
    "                return -1\n",
    "\n",
    "            return answer + 1\n",
    "        else:\n",
    "            a = scoville.pop(scoville.index(min(scoville)))\n",
    "            b = scoville.pop(scoville.index(min(scoville)))\n",
    "            c = a+b*2\n",
    "            answer+=1\n",
    "            if c < K:\n",
    "                scoville.append(a+b*2)\n",
    "            else:\n",
    "                return answer + (len(scoville) +1)//2\n",
    "        \n",
    "    return -1"
   ]
  },
  {
   "cell_type": "code",
   "execution_count": 22,
   "metadata": {},
   "outputs": [
    {
     "data": {
      "text/plain": [
       "2"
      ]
     },
     "execution_count": 22,
     "metadata": {},
     "output_type": "execute_result"
    }
   ],
   "source": [
    "solution([1,2,1,3,3], 3)"
   ]
  },
  {
   "cell_type": "code",
   "execution_count": 11,
   "metadata": {},
   "outputs": [
    {
     "name": "stdout",
     "output_type": "stream",
     "text": [
      "[0, 1, 1, 4, 2, 1, 3, 6, 8, 4, 6, 9, 2, 4, 5, 45, 123, 41, 64, 5, 56]\n",
      "21\n"
     ]
    }
   ],
   "source": [
    "import heapq\n",
    "heap = [1,2,3,4,5,9,4,6,8,4,6,1,2,1,5,45,123,41,64,0,56]\n",
    "heapq.heapify(heap)\n",
    "print(heap)\n",
    "print(len(heap))"
   ]
  },
  {
   "cell_type": "code",
   "execution_count": 14,
   "metadata": {},
   "outputs": [],
   "source": [
    "import heapq\n",
    "def solution(scoville, K):\n",
    "    l = len(scoville)\n",
    "    scoville = [s for s in scoville if s< K]\n",
    "    heapq.heapify(scoville)\n",
    "    over = l- len(scoville)\n",
    "    answer = 0\n",
    "    if over == l:\n",
    "        return 0\n",
    "\n",
    "    while len(scoville):\n",
    "        # print(scoville)\n",
    "        if len(scoville) == 0:\n",
    "            return answer\n",
    "        elif len(scoville)==1:\n",
    "            if over ==0 and scoville[0] <K:\n",
    "                return -1\n",
    "\n",
    "            return answer + 1\n",
    "        else:\n",
    "            a = heapq.heappop(scoville)\n",
    "            b = heapq.heappop(scoville)\n",
    "            c = a+b*2\n",
    "            answer+=1\n",
    "            if c < K:\n",
    "                heapq.heappush(scoville, a+b*2)\n",
    "            else:\n",
    "                return answer + (len(scoville) +1)//2\n",
    "        \n",
    "    return -1"
   ]
  },
  {
   "cell_type": "code",
   "execution_count": 15,
   "metadata": {},
   "outputs": [
    {
     "name": "stdout",
     "output_type": "stream",
     "text": [
      "[1, 2, 1]\n"
     ]
    },
    {
     "data": {
      "text/plain": [
       "2"
      ]
     },
     "execution_count": 15,
     "metadata": {},
     "output_type": "execute_result"
    }
   ],
   "source": [
    "solution([1,2,1,3,3], 3)"
   ]
  },
  {
   "cell_type": "code",
   "execution_count": null,
   "metadata": {},
   "outputs": [],
   "source": []
  }
 ],
 "metadata": {
  "kernelspec": {
   "display_name": "Python 3",
   "language": "python",
   "name": "python3"
  },
  "language_info": {
   "codemirror_mode": {
    "name": "ipython",
    "version": 3
   },
   "file_extension": ".py",
   "mimetype": "text/x-python",
   "name": "python",
   "nbconvert_exporter": "python",
   "pygments_lexer": "ipython3",
   "version": "3.10.8 (tags/v3.10.8:aaaf517, Oct 11 2022, 16:50:30) [MSC v.1933 64 bit (AMD64)]"
  },
  "orig_nbformat": 4,
  "vscode": {
   "interpreter": {
    "hash": "1eaddad8910a63e993320c00f976674dd19739aa47ccb16e46e67145212d406a"
   }
  }
 },
 "nbformat": 4,
 "nbformat_minor": 2
}
