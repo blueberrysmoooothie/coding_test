{
 "cells": [
  {
   "attachments": {},
   "cell_type": "markdown",
   "metadata": {},
   "source": [
    "삼각 달팽이\n",
    "---\n",
    "https://school.programmers.co.kr/learn/courses/30/lessons/68645"
   ]
  },
  {
   "cell_type": "code",
   "execution_count": 17,
   "metadata": {},
   "outputs": [],
   "source": [
    "def solution(n):\n",
    "    answer = [0]+[[0 for j in range(i)] for i in range(1,n+1)]\n",
    "    ind = 0\n",
    "    c = 0\n",
    "    num = 1\n",
    "    for i in range(n, 0, -1):\n",
    "        # for a in answer:\n",
    "        #     print(a)\n",
    "        if c==0:\n",
    "            for j in range(i):\n",
    "                ind+=1\n",
    "                answer[ind][(n-i)//3] = num\n",
    "                \n",
    "\n",
    "                num+=1\n",
    "\n",
    "                \n",
    "            c = 1\n",
    "        elif c==1:\n",
    "            for j in range(i):\n",
    "                answer[ind][(n-i)//3+1+j] = num\n",
    "                \n",
    "                num+=1\n",
    "            c = 2\n",
    "        else:\n",
    "            for j in range(i):\n",
    "                ind-=1\n",
    "                answer[ind][-1-(n-i)//3] = num\n",
    "                \n",
    "                num+=1\n",
    "            c=0\n",
    "\n",
    "    return [ a for ans in answer[1:] for a in ans]"
   ]
  },
  {
   "cell_type": "code",
   "execution_count": 18,
   "metadata": {},
   "outputs": [
    {
     "name": "stdout",
     "output_type": "stream",
     "text": [
      "0\n",
      "[0]\n",
      "[0, 0]\n",
      "[0, 0, 0]\n",
      "[0, 0, 0, 0]\n",
      "[0, 0, 0, 0, 0]\n",
      "[0, 0, 0, 0, 0, 0]\n",
      "0\n",
      "[1]\n",
      "[2, 0]\n",
      "[3, 0, 0]\n",
      "[4, 0, 0, 0]\n",
      "[5, 0, 0, 0, 0]\n",
      "[6, 0, 0, 0, 0, 0]\n",
      "0\n",
      "[1]\n",
      "[2, 0]\n",
      "[3, 0, 0]\n",
      "[4, 0, 0, 0]\n",
      "[5, 0, 0, 0, 0]\n",
      "[6, 7, 8, 9, 10, 11]\n",
      "0\n",
      "[1]\n",
      "[2, 15]\n",
      "[3, 0, 14]\n",
      "[4, 0, 0, 13]\n",
      "[5, 0, 0, 0, 12]\n",
      "[6, 7, 8, 9, 10, 11]\n",
      "0\n",
      "[1]\n",
      "[2, 15]\n",
      "[3, 16, 14]\n",
      "[4, 17, 0, 13]\n",
      "[5, 18, 0, 0, 12]\n",
      "[6, 7, 8, 9, 10, 11]\n",
      "0\n",
      "[1]\n",
      "[2, 15]\n",
      "[3, 16, 14]\n",
      "[4, 17, 0, 13]\n",
      "[5, 18, 19, 20, 12]\n",
      "[6, 7, 8, 9, 10, 11]\n"
     ]
    },
    {
     "data": {
      "text/plain": [
       "[1, 2, 15, 3, 16, 14, 4, 17, 21, 13, 5, 18, 19, 20, 12, 6, 7, 8, 9, 10, 11]"
      ]
     },
     "execution_count": 18,
     "metadata": {},
     "output_type": "execute_result"
    }
   ],
   "source": [
    "solution(6)"
   ]
  },
  {
   "cell_type": "code",
   "execution_count": null,
   "metadata": {},
   "outputs": [],
   "source": []
  }
 ],
 "metadata": {
  "kernelspec": {
   "display_name": "Python 3",
   "language": "python",
   "name": "python3"
  },
  "language_info": {
   "codemirror_mode": {
    "name": "ipython",
    "version": 3
   },
   "file_extension": ".py",
   "mimetype": "text/x-python",
   "name": "python",
   "nbconvert_exporter": "python",
   "pygments_lexer": "ipython3",
   "version": "3.10.8"
  },
  "orig_nbformat": 4,
  "vscode": {
   "interpreter": {
    "hash": "1eaddad8910a63e993320c00f976674dd19739aa47ccb16e46e67145212d406a"
   }
  }
 },
 "nbformat": 4,
 "nbformat_minor": 2
}
