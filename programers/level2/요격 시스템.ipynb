{
 "cells": [
  {
   "attachments": {},
   "cell_type": "markdown",
   "metadata": {},
   "source": [
    "### 요격 시스템\n",
    "---\n",
    "https://school.programmers.co.kr/learn/courses/30/lessons/181188"
   ]
  },
  {
   "cell_type": "code",
   "execution_count": 5,
   "metadata": {},
   "outputs": [],
   "source": [
    "def solution(targets):\n",
    "    targets.sort()\n",
    "    answer = 0\n",
    "\n",
    "    l = len(targets)\n",
    "    i, ind = 0,1\n",
    "    while i < l:\n",
    "        cur = targets[i][1]\n",
    "        while ind <l:\n",
    "            if targets[ind][0] >=cur:\n",
    "                break\n",
    "            cur = min(cur, targets[ind][1])\n",
    "            ind+=1\n",
    "\n",
    "        answer+=1\n",
    "        i = ind\n",
    "        ind +=1\n",
    "\n",
    "    return answer"
   ]
  },
  {
   "cell_type": "code",
   "execution_count": 6,
   "metadata": {},
   "outputs": [
    {
     "data": {
      "text/plain": [
       "3"
      ]
     },
     "execution_count": 6,
     "metadata": {},
     "output_type": "execute_result"
    }
   ],
   "source": [
    "solution([[4, 5], [4, 8], [10, 14], [11, 13], [5, 12], [3, 7], [1, 4]])"
   ]
  },
  {
   "cell_type": "code",
   "execution_count": null,
   "metadata": {},
   "outputs": [],
   "source": []
  }
 ],
 "metadata": {
  "kernelspec": {
   "display_name": "Python 3",
   "language": "python",
   "name": "python3"
  },
  "language_info": {
   "codemirror_mode": {
    "name": "ipython",
    "version": 3
   },
   "file_extension": ".py",
   "mimetype": "text/x-python",
   "name": "python",
   "nbconvert_exporter": "python",
   "pygments_lexer": "ipython3",
   "version": "3.11.2"
  },
  "orig_nbformat": 4
 },
 "nbformat": 4,
 "nbformat_minor": 2
}
