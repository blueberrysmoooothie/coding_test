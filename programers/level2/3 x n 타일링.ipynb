{
 "cells": [
  {
   "attachments": {},
   "cell_type": "markdown",
   "metadata": {},
   "source": [
    "3 x n 타일링\n",
    "---\n",
    "https://school.programmers.co.kr/learn/courses/30/lessons/12902"
   ]
  },
  {
   "cell_type": "code",
   "execution_count": 32,
   "metadata": {},
   "outputs": [],
   "source": [
    "def solution(n):\n",
    "    a2 = 1\n",
    "    a4 = 3\n",
    "    \n",
    "    answer = a4\n",
    "    for i in range(4,n+2, 2):\n",
    "        print(i)\n",
    "        answer = a2*2 +a4*3\n",
    "        a2 = a4\n",
    "        a4 = answer\n",
    "    if answer > 1000000007:\n",
    "        answer = answer%1000000007\n",
    "\n",
    "    return answer\n"
   ]
  },
  {
   "cell_type": "code",
   "execution_count": 35,
   "metadata": {},
   "outputs": [],
   "source": [
    "def solution(n):\n",
    "    a0 = 1\n",
    "    a2 = 3\n",
    "    \n",
    "    answer = [a0, a2]\n",
    "    for i in range(2, n//2 + 1):\n",
    "        answer.append(answer[i-1]*3+sum(answer[:i-1])*2)\n",
    "    result = answer[-1]%1000000007\n",
    "\n",
    "    return result\n"
   ]
  },
  {
   "cell_type": "code",
   "execution_count": 38,
   "metadata": {},
   "outputs": [
    {
     "data": {
      "text/plain": [
       "3"
      ]
     },
     "execution_count": 38,
     "metadata": {},
     "output_type": "execute_result"
    }
   ],
   "source": [
    "solution(2)"
   ]
  },
  {
   "cell_type": "code",
   "execution_count": null,
   "metadata": {},
   "outputs": [],
   "source": []
  }
 ],
 "metadata": {
  "kernelspec": {
   "display_name": "Python 3",
   "language": "python",
   "name": "python3"
  },
  "language_info": {
   "codemirror_mode": {
    "name": "ipython",
    "version": 3
   },
   "file_extension": ".py",
   "mimetype": "text/x-python",
   "name": "python",
   "nbconvert_exporter": "python",
   "pygments_lexer": "ipython3",
   "version": "3.10.8"
  },
  "orig_nbformat": 4,
  "vscode": {
   "interpreter": {
    "hash": "1eaddad8910a63e993320c00f976674dd19739aa47ccb16e46e67145212d406a"
   }
  }
 },
 "nbformat": 4,
 "nbformat_minor": 2
}
