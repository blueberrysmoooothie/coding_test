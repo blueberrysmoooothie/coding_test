{
 "cells": [
  {
   "attachments": {},
   "cell_type": "markdown",
   "metadata": {},
   "source": [
    "N-Queen\n",
    "---\n",
    "https://school.programmers.co.kr/learn/courses/30/lessons/12952"
   ]
  },
  {
   "cell_type": "code",
   "execution_count": 35,
   "metadata": {},
   "outputs": [],
   "source": [
    "def solution(n):\n",
    "    def find_hvs(cols, hv = []):\n",
    "        if not len(cols):\n",
    "            for i in range(n-1):\n",
    "                for j in range(i+1, n):\n",
    "                    if j-i == abs(hv[i]- hv[j]):\n",
    "                        return 0\n",
    "            ans.append(1)\n",
    "            return 0\n",
    "\n",
    "        for i in range(len(cols)):\n",
    "            temp = cols.pop(i)\n",
    "            hv.append(temp)\n",
    "            find_hvs(cols,hv)\n",
    "            hv.pop()\n",
    "            cols.insert(i, temp)\n",
    "\n",
    "    ans = []\n",
    "    cols = [i for i in range(n)]\n",
    "    find_hvs(cols)\n",
    "    return len(ans)"
   ]
  },
  {
   "cell_type": "code",
   "execution_count": 59,
   "metadata": {},
   "outputs": [],
   "source": [
    "def solution(n):\n",
    "    def find_hvs(cols, hv = []):\n",
    "        if not len(cols):\n",
    "            ans.append(1)\n",
    "            return 0\n",
    "\n",
    "        for i in range(len(cols)):\n",
    "            temp = cols.pop(i)\n",
    "            l = len(hv)\n",
    "            flg = True\n",
    "            for j in range(l):\n",
    "                if l-j == abs(hv[j] - temp):\n",
    "                    flg = False\n",
    "                    break\n",
    "            if flg:\n",
    "                hv.append(temp)\n",
    "                find_hvs(cols,hv)\n",
    "                hv.pop()\n",
    "            cols.insert(i, temp)\n",
    "\n",
    "    ans = []\n",
    "    cols = [i for i in range(n)]\n",
    "    find_hvs(cols)\n",
    "    return len(ans)"
   ]
  },
  {
   "cell_type": "code",
   "execution_count": 60,
   "metadata": {},
   "outputs": [
    {
     "data": {
      "text/plain": [
       "2"
      ]
     },
     "execution_count": 60,
     "metadata": {},
     "output_type": "execute_result"
    }
   ],
   "source": [
    "solution(4)"
   ]
  },
  {
   "cell_type": "code",
   "execution_count": null,
   "metadata": {},
   "outputs": [],
   "source": []
  }
 ],
 "metadata": {
  "kernelspec": {
   "display_name": "Python 3",
   "language": "python",
   "name": "python3"
  },
  "language_info": {
   "codemirror_mode": {
    "name": "ipython",
    "version": 3
   },
   "file_extension": ".py",
   "mimetype": "text/x-python",
   "name": "python",
   "nbconvert_exporter": "python",
   "pygments_lexer": "ipython3",
   "version": "3.10.8"
  },
  "orig_nbformat": 4,
  "vscode": {
   "interpreter": {
    "hash": "1eaddad8910a63e993320c00f976674dd19739aa47ccb16e46e67145212d406a"
   }
  }
 },
 "nbformat": 4,
 "nbformat_minor": 2
}
