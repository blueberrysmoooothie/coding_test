{
 "cells": [
  {
   "attachments": {},
   "cell_type": "markdown",
   "metadata": {},
   "source": [
    "이모티콘 할인행사\n",
    "---\n",
    "https://school.programmers.co.kr/learn/courses/30/lessons/150368"
   ]
  },
  {
   "cell_type": "code",
   "execution_count": 48,
   "metadata": {},
   "outputs": [],
   "source": [
    "def solution(users, emoticons):\n",
    "    def predict(discounts):\n",
    "        answer = [0,0]\n",
    "        for u in users:\n",
    "            total = 0\n",
    "            plan = False\n",
    "            for i in range(len(emoticons)):\n",
    "                if discounts[i]>=u[0]:\n",
    "                    total += emoticons[i]*(100-discounts[i])//100\n",
    "                    if total>=u[1]:\n",
    "                        plan = True\n",
    "                        break\n",
    "            if plan:\n",
    "                answer[0]+=1\n",
    "            else:\n",
    "                answer[1]+=total\n",
    "        return answer\n",
    "\n",
    "    def find_discounts(discounts=[]):\n",
    "        \n",
    "        if len(discounts)==len(emoticons):\n",
    "            discounts_list.append(predict(discounts))\n",
    "            return 0 \n",
    "        for i in range(4):\n",
    "            discounts.append(discount_type[i])\n",
    "            find_discounts(discounts=discounts)\n",
    "            discounts.pop()\n",
    "\n",
    "\n",
    "    discount_type = [40,30,20,10]\n",
    "    discounts_list = []\n",
    "    find_discounts()\n",
    "    discounts_list = sorted(discounts_list,key = lambda discounts : [-discounts[0],-discounts[1]])\n",
    "    \n",
    "    return discounts_list[0]"
   ]
  },
  {
   "cell_type": "code",
   "execution_count": 49,
   "metadata": {},
   "outputs": [
    {
     "data": {
      "text/plain": [
       "[1, 5400]"
      ]
     },
     "execution_count": 49,
     "metadata": {},
     "output_type": "execute_result"
    }
   ],
   "source": [
    "solution([[40, 10000], [25, 10000]],\t[7000, 9000])"
   ]
  },
  {
   "cell_type": "code",
   "execution_count": 43,
   "metadata": {},
   "outputs": [
    {
     "data": {
      "text/plain": [
       "[1, 2, 3]"
      ]
     },
     "execution_count": 43,
     "metadata": {},
     "output_type": "execute_result"
    }
   ],
   "source": [
    "sorted([1,2,3])"
   ]
  },
  {
   "cell_type": "code",
   "execution_count": null,
   "metadata": {},
   "outputs": [],
   "source": []
  }
 ],
 "metadata": {
  "kernelspec": {
   "display_name": "Python 3",
   "language": "python",
   "name": "python3"
  },
  "language_info": {
   "codemirror_mode": {
    "name": "ipython",
    "version": 3
   },
   "file_extension": ".py",
   "mimetype": "text/x-python",
   "name": "python",
   "nbconvert_exporter": "python",
   "pygments_lexer": "ipython3",
   "version": "3.10.8"
  },
  "orig_nbformat": 4,
  "vscode": {
   "interpreter": {
    "hash": "1eaddad8910a63e993320c00f976674dd19739aa47ccb16e46e67145212d406a"
   }
  }
 },
 "nbformat": 4,
 "nbformat_minor": 2
}
