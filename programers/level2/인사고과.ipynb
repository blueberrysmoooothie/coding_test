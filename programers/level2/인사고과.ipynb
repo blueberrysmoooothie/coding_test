{
 "cells": [
  {
   "attachments": {},
   "cell_type": "markdown",
   "metadata": {},
   "source": [
    "인사고과\n",
    "---\n",
    "https://school.programmers.co.kr/learn/courses/30/lessons/152995"
   ]
  },
  {
   "cell_type": "code",
   "execution_count": null,
   "metadata": {},
   "outputs": [],
   "source": [
    "def solution(scores):\n",
    "    완호 = scores[0]\n",
    "    rank = 1\n",
    "    \n",
    "    scores = sorted(scores, key=lambda x:sum(x), reverse = True)\n",
    "    완호_ind = scores.index(완호)\n",
    "    \n",
    "    ranks= [1]\n",
    "    for i in range(1,완호_ind+1):\n",
    "        rank = 1\n",
    "        for a, b in scores[:i]:\n",
    "            if 완호[0]<a and 완호[1]<b:\n",
    "                return -1\n",
    "            if sum([a,b]) >sum(완호):\n",
    "                rank +=1\n",
    "        ranks.append(rank)\n",
    "    \n",
    "    return ranks[-1] + sum([r for r in ranks if r ==-1]) if ranks[-1] != -1 else -1"
   ]
  },
  {
   "cell_type": "code",
   "execution_count": 34,
   "metadata": {},
   "outputs": [],
   "source": [
    "def solution(scores):\n",
    "    완호 = scores[0]\n",
    "    rank = 1\n",
    "    \n",
    "    scores = sorted(scores, key=lambda x:[sum(x), x[0],x[1]], reverse = True)\n",
    "    완호_ind = scores.index(완호)\n",
    "    if 완호_ind == 0:\n",
    "        return 1\n",
    "    rank = 1\n",
    "    max_ind = 0\n",
    "    # print(scores,완호_ind)\n",
    "    for i in range(완호_ind):\n",
    "        a, b = scores[i]\n",
    "        # print(a, b)\n",
    "\n",
    "        if 완호[0]<a and 완호[1]<b:\n",
    "            return -1\n",
    "        else:\n",
    "            flg = True\n",
    "            for j in range(max_ind, -1, -1):\n",
    "                ba,bb = scores[j]\n",
    "                if a<ba and b<bb:\n",
    "                    max_ind = j\n",
    "                    flg = False\n",
    "                    break \n",
    "            if flg:\n",
    "                \n",
    "                rank +=1\n",
    "                \n",
    "    return rank"
   ]
  },
  {
   "cell_type": "code",
   "execution_count": 36,
   "metadata": {},
   "outputs": [],
   "source": [
    "def solution(scores):\n",
    "    완호 = scores[0]\n",
    "    rank = 1\n",
    "    max_ = 0\n",
    "    scores = sorted(scores, key=lambda x:[-x[0],x[1]])\n",
    "    for a, b in scores:\n",
    "        if 완호[0]< a and 완호[1]< b:\n",
    "            return -1\n",
    "        if max_ <=b:\n",
    "            if sum(완호)<a+b:\n",
    "                rank+=1\n",
    "            max_ = b\n",
    "\n",
    "                \n",
    "    return rank"
   ]
  },
  {
   "cell_type": "code",
   "execution_count": 37,
   "metadata": {},
   "outputs": [
    {
     "data": {
      "text/plain": [
       "-1"
      ]
     },
     "execution_count": 37,
     "metadata": {},
     "output_type": "execute_result"
    }
   ],
   "source": [
    "solution(\t[[2,2],[2,3], [4,4],[3,2]])"
   ]
  },
  {
   "cell_type": "code",
   "execution_count": null,
   "metadata": {},
   "outputs": [],
   "source": []
  }
 ],
 "metadata": {
  "kernelspec": {
   "display_name": "Python 3",
   "language": "python",
   "name": "python3"
  },
  "language_info": {
   "codemirror_mode": {
    "name": "ipython",
    "version": 3
   },
   "file_extension": ".py",
   "mimetype": "text/x-python",
   "name": "python",
   "nbconvert_exporter": "python",
   "pygments_lexer": "ipython3",
   "version": "3.10.8"
  },
  "orig_nbformat": 4,
  "vscode": {
   "interpreter": {
    "hash": "1eaddad8910a63e993320c00f976674dd19739aa47ccb16e46e67145212d406a"
   }
  }
 },
 "nbformat": 4,
 "nbformat_minor": 2
}
