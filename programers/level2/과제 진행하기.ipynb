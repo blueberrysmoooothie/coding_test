{
 "cells": [
  {
   "cell_type": "code",
   "execution_count": 48,
   "metadata": {},
   "outputs": [],
   "source": [
    "def solution(plans):\n",
    "    def add_time(cur, time):\n",
    "        h, m = map(int, cur.split(':'))\n",
    "        time = int(time)\n",
    "        h+= (m + time)//60\n",
    "        m = (m + time)%60\n",
    "        return str(h).zfill(2)+':'+str(m).zfill(2)\n",
    "    def dif_time(cur, start):\n",
    "        h, m = map(int, cur.split(':'))\n",
    "        sh, sm = map(int, start.split(':'))\n",
    "        time = (sh-h)*60+sm-m\n",
    "        return time\n",
    "    \n",
    "    plans = sorted(plans, key = lambda x: x[1])\n",
    "    answer = []\n",
    "    stack = []\n",
    "    \n",
    "\n",
    "    name, cur, time = plans[0]\n",
    "    for i in range(1,len(plans)):\n",
    "        end_time = add_time(cur, time)\n",
    "        next_name, next_start, next_time = plans[i]\n",
    "        # print(end_time, next_start,end_time<= next_start)\n",
    "\n",
    "        if end_time<= next_start:\n",
    "            cur = end_time\n",
    "            answer.append(name)\n",
    "            while cur <next_start and len(stack):\n",
    "                name, left_time = stack.pop()\n",
    "                end_time = add_time(cur, left_time)\n",
    "                if end_time<= next_start:\n",
    "                    cur = end_time\n",
    "                    answer.append(name)\n",
    "                else:\n",
    "                    stack.append([name, dif_time(next_start, end_time)])\n",
    "                    break\n",
    "\n",
    "        else:\n",
    "            stack.append([name, dif_time(next_start, end_time)])\n",
    "        name, cur, time = next_name, next_start, next_time\n",
    "        # print(cur, answer, stack)\n",
    "    answer.append(name)\n",
    "    for n, _ in stack[::-1]:\n",
    "        answer.append(n)\n",
    "        \n",
    "    return answer"
   ]
  },
  {
   "cell_type": "code",
   "execution_count": 49,
   "metadata": {},
   "outputs": [
    {
     "data": {
      "text/plain": [
       "['history', 'music', 'science', 'computer']"
      ]
     },
     "execution_count": 49,
     "metadata": {},
     "output_type": "execute_result"
    }
   ],
   "source": [
    "solution([[\"science\", \"00:00\", \"50\"], [\"music\", \"00:01\", \"50\"], [\"history\", \"00:02\", \"50\"], [\"computer\", \"12:00\", \"10\"]])"
   ]
  },
  {
   "cell_type": "code",
   "execution_count": null,
   "metadata": {},
   "outputs": [],
   "source": []
  }
 ],
 "metadata": {
  "kernelspec": {
   "display_name": "Python 3",
   "language": "python",
   "name": "python3"
  },
  "language_info": {
   "codemirror_mode": {
    "name": "ipython",
    "version": 3
   },
   "file_extension": ".py",
   "mimetype": "text/x-python",
   "name": "python",
   "nbconvert_exporter": "python",
   "pygments_lexer": "ipython3",
   "version": "3.10.8"
  },
  "orig_nbformat": 4
 },
 "nbformat": 4,
 "nbformat_minor": 2
}
