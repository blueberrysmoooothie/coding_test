{
 "cells": [
  {
   "attachments": {},
   "cell_type": "markdown",
   "metadata": {},
   "source": [
    "무인도 여행\n",
    "---\n",
    "https://school.programmers.co.kr/learn/courses/30/lessons/154540"
   ]
  },
  {
   "cell_type": "code",
   "execution_count": 10,
   "metadata": {},
   "outputs": [],
   "source": [
    "def solution(maps):\n",
    "    answer = []\n",
    "    maps = [[0 if f=='X' else int(f)  for f in m]for m in maps]\n",
    "    visited = [[0 if f else 1  for f in m] for m in maps]\n",
    "    R, C = len(maps), len(maps[0])\n",
    "    for r in range(R):\n",
    "        for c in range(C):\n",
    "            if not visited[r][c]:\n",
    "                result=0\n",
    "                to_visit = [[r,c]]\n",
    "                for tr, tc in to_visit:\n",
    "                    result+=maps[tr][tc]\n",
    "                    visited[tr][tc] = 1\n",
    "                    if tr< R-1:\n",
    "                        if not visited[tr+1][tc]:\n",
    "                            if [tr+1, tc] not in to_visit:\n",
    "                                to_visit.append([tr+1, tc])\n",
    "                    if tc< C-1:\n",
    "                        if not visited[tr][tc+1]:\n",
    "                            if [tr, tc+1] not in to_visit:\n",
    "                                to_visit.append([tr, tc+1])\n",
    "                    if tr>0:\n",
    "                        if not visited[tr-1][tc]:\n",
    "                            if [tr-1, tc] not in to_visit:\n",
    "                                to_visit.append([tr-1, tc])\n",
    "                    if tc>0:\n",
    "                        if not visited[tr][tc-1]:\n",
    "                            if [tr, tc-1] not in to_visit:\n",
    "                                to_visit.append([tr, tc-1])\n",
    "                answer.append(result)\n",
    "                    \n",
    "    return sorted(answer) if len(answer) else [-1]\n",
    " \n",
    "    "
   ]
  },
  {
   "cell_type": "code",
   "execution_count": 11,
   "metadata": {},
   "outputs": [
    {
     "name": "stdout",
     "output_type": "stream",
     "text": [
      "7\n",
      "1\n",
      "1\n"
     ]
    },
    {
     "data": {
      "text/plain": [
       "[1, 1, 7]"
      ]
     },
     "execution_count": 11,
     "metadata": {},
     "output_type": "execute_result"
    }
   ],
   "source": [
    "solution([\"1XXX1\",\"11111\",\"XXXXX\", \"1XXX1\"]\t)"
   ]
  },
  {
   "cell_type": "code",
   "execution_count": null,
   "metadata": {},
   "outputs": [],
   "source": []
  }
 ],
 "metadata": {
  "kernelspec": {
   "display_name": "Python 3",
   "language": "python",
   "name": "python3"
  },
  "language_info": {
   "codemirror_mode": {
    "name": "ipython",
    "version": 3
   },
   "file_extension": ".py",
   "mimetype": "text/x-python",
   "name": "python",
   "nbconvert_exporter": "python",
   "pygments_lexer": "ipython3",
   "version": "3.10.8"
  },
  "orig_nbformat": 4,
  "vscode": {
   "interpreter": {
    "hash": "1eaddad8910a63e993320c00f976674dd19739aa47ccb16e46e67145212d406a"
   }
  }
 },
 "nbformat": 4,
 "nbformat_minor": 2
}
