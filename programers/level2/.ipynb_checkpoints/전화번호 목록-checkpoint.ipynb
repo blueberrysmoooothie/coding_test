{
 "cells": [
  {
   "cell_type": "markdown",
   "id": "151ff7a5",
   "metadata": {},
   "source": [
    "전화번호 목록\n",
    "---\n",
    "https://school.programmers.co.kr/learn/courses/30/lessons/42577"
   ]
  },
  {
   "cell_type": "code",
   "execution_count": 8,
   "id": "7926d4ad",
   "metadata": {},
   "outputs": [],
   "source": [
    "import re\n",
    "def solution(phone_book):\n",
    "    phone_book = sorted(phone_book)\n",
    "    while len(phone_book)>1:\n",
    "        n = phone_book.pop(0)\n",
    "        p = re.compile(n)\n",
    "        for m in phone_book:\n",
    "            if p.match(m):\n",
    "                return False\n",
    "\n",
    "    \n",
    "    return True"
   ]
  },
  {
   "cell_type": "code",
   "execution_count": 15,
   "id": "6d8b23c7",
   "metadata": {},
   "outputs": [],
   "source": [
    "def solution(phone_book):\n",
    "    phone_book = sorted(sorted(phone_book, key = lambda x: len(x)), key = lambda x: x[0])\n",
    "#     print(phone_book)\n",
    "    while len(phone_book)>1:\n",
    "        n = phone_book.pop(0)\n",
    "        for m in phone_book:\n",
    "            if len(m)>len(n):\n",
    "                if m[:len(n)]== n:\n",
    "                    return False\n",
    "\n",
    "    \n",
    "    return True"
   ]
  },
  {
   "cell_type": "code",
   "execution_count": 15,
   "id": "7c7ee29d",
   "metadata": {},
   "outputs": [],
   "source": [
    "def split_start(num_str):\n",
    "    pass\n",
    "\n",
    "def solution(phone_book):\n",
    "    \n",
    "\n",
    "    \n",
    "    return True"
   ]
  },
  {
   "cell_type": "code",
   "execution_count": 16,
   "id": "b7611698",
   "metadata": {},
   "outputs": [],
   "source": [
    "import re\n",
    "p = re.compile('12')\n",
    "p.match('13412')"
   ]
  },
  {
   "cell_type": "code",
   "execution_count": 18,
   "id": "379413cf",
   "metadata": {},
   "outputs": [
    {
     "name": "stdout",
     "output_type": "stream",
     "text": [
      "['12', '12555555', '456', '4562', '45677', '789']\n"
     ]
    },
    {
     "data": {
      "text/plain": [
       "False"
      ]
     },
     "execution_count": 18,
     "metadata": {},
     "output_type": "execute_result"
    }
   ],
   "source": [
    "solution([\"12\", \"456\", \"789\",'12555555', '45677', '4562'])"
   ]
  },
  {
   "cell_type": "code",
   "execution_count": null,
   "id": "da2d5525",
   "metadata": {},
   "outputs": [],
   "source": []
  }
 ],
 "metadata": {
  "kernelspec": {
   "display_name": "Python 3 (ipykernel)",
   "language": "python",
   "name": "python3"
  },
  "language_info": {
   "codemirror_mode": {
    "name": "ipython",
    "version": 3
   },
   "file_extension": ".py",
   "mimetype": "text/x-python",
   "name": "python",
   "nbconvert_exporter": "python",
   "pygments_lexer": "ipython3",
   "version": "3.9.12"
  }
 },
 "nbformat": 4,
 "nbformat_minor": 5
}
