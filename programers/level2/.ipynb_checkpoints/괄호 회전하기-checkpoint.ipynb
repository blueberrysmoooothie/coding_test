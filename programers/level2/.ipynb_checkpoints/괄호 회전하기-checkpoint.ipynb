{
 "cells": [
  {
   "cell_type": "markdown",
   "id": "147da623",
   "metadata": {},
   "source": [
    "괄호 회전하기\n",
    "---\n",
    "https://school.programmers.co.kr/learn/courses/30/lessons/76502"
   ]
  },
  {
   "cell_type": "code",
   "execution_count": 6,
   "id": "44e8c2fc",
   "metadata": {},
   "outputs": [],
   "source": [
    "def test_perf(s):\n",
    "    stack = []\n",
    "    for a in s:\n",
    "        if a in [')',']','}']:\n",
    "            try:\n",
    "                if stack[-1] + a in ['()','[]','{}']:\n",
    "                    stack.pop()\n",
    "            except:\n",
    "                stack.append(a)                \n",
    "        else:\n",
    "                stack.append(a)\n",
    "    if len(stack):\n",
    "        return False\n",
    "    return True\n",
    "            \n",
    "def solution(s):\n",
    "    answer = 0\n",
    "    for i in range(len(s)):\n",
    "#         print(s, test_perf(s))\n",
    "        answer += (test_perf(s))\n",
    "        a = s[0]\n",
    "        s=s[1:]\n",
    "        s += a\n",
    "    return answer"
   ]
  },
  {
   "cell_type": "code",
   "execution_count": 7,
   "id": "9adb4114",
   "metadata": {},
   "outputs": [
    {
     "name": "stdout",
     "output_type": "stream",
     "text": [
      "}{{}(()) False\n",
      "{{}(())} True\n",
      "{}(())}{ False\n",
      "}(())}{{ False\n",
      "(())}{{} False\n",
      "())}{{}( False\n",
      "))}{{}(( False\n",
      ")}{{}(() False\n"
     ]
    },
    {
     "data": {
      "text/plain": [
       "1"
      ]
     },
     "execution_count": 7,
     "metadata": {},
     "output_type": "execute_result"
    }
   ],
   "source": [
    "solution('}{{}(())')"
   ]
  },
  {
   "cell_type": "code",
   "execution_count": null,
   "id": "245b7e31",
   "metadata": {},
   "outputs": [],
   "source": []
  }
 ],
 "metadata": {
  "kernelspec": {
   "display_name": "Python 3 (ipykernel)",
   "language": "python",
   "name": "python3"
  },
  "language_info": {
   "codemirror_mode": {
    "name": "ipython",
    "version": 3
   },
   "file_extension": ".py",
   "mimetype": "text/x-python",
   "name": "python",
   "nbconvert_exporter": "python",
   "pygments_lexer": "ipython3",
   "version": "3.9.12"
  }
 },
 "nbformat": 4,
 "nbformat_minor": 5
}
