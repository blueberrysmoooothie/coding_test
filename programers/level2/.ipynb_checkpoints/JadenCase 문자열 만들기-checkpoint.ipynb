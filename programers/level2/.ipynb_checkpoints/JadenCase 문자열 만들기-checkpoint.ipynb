{
 "cells": [
  {
   "cell_type": "markdown",
   "id": "838b6e4b",
   "metadata": {},
   "source": [
    "JadenCase 문자열 만들기\n",
    "---\n",
    "https://school.programmers.co.kr/learn/courses/30/lessons/12951"
   ]
  },
  {
   "cell_type": "code",
   "execution_count": 13,
   "id": "c5f95d7c",
   "metadata": {},
   "outputs": [],
   "source": [
    "def JC(word):\n",
    "    if not len(word):\n",
    "        return ''\n",
    "    word = list(word)\n",
    "    try:\n",
    "        word[0] = str.upper(word[0])\n",
    "        \n",
    "    except:\n",
    "        pass\n",
    "    try:\n",
    "        for i in range(1,len(word)):\n",
    "            word[i] = str.lower(word[i])\n",
    "    except:\n",
    "        pass\n",
    "    return ''.join(word)\n",
    "    \n",
    "def solution(s):\n",
    "    return ' '.join([JC(w) for w in s.split(' ')])"
   ]
  },
  {
   "cell_type": "code",
   "execution_count": 14,
   "id": "d7222d3b",
   "metadata": {},
   "outputs": [
    {
     "data": {
      "text/plain": [
       "['df', '', 'df']"
      ]
     },
     "execution_count": 14,
     "metadata": {},
     "output_type": "execute_result"
    }
   ],
   "source": [
    "'df  df'.split(' ')"
   ]
  },
  {
   "cell_type": "code",
   "execution_count": 16,
   "id": "17f59e81",
   "metadata": {},
   "outputs": [
    {
     "data": {
      "text/plain": [
       "'Hi   Im Shh 4df'"
      ]
     },
     "execution_count": 16,
     "metadata": {},
     "output_type": "execute_result"
    }
   ],
   "source": [
    "solution('hi   im shh 4df')"
   ]
  },
  {
   "cell_type": "code",
   "execution_count": null,
   "id": "7f6d4554",
   "metadata": {},
   "outputs": [],
   "source": []
  }
 ],
 "metadata": {
  "kernelspec": {
   "display_name": "Python 3 (ipykernel)",
   "language": "python",
   "name": "python3"
  },
  "language_info": {
   "codemirror_mode": {
    "name": "ipython",
    "version": 3
   },
   "file_extension": ".py",
   "mimetype": "text/x-python",
   "name": "python",
   "nbconvert_exporter": "python",
   "pygments_lexer": "ipython3",
   "version": "3.9.12"
  }
 },
 "nbformat": 4,
 "nbformat_minor": 5
}
