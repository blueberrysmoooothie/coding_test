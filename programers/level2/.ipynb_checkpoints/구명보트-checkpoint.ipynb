{
 "cells": [
  {
   "cell_type": "markdown",
   "id": "d89a8d2b",
   "metadata": {},
   "source": [
    "구명보트\n",
    "---\n",
    "https://school.programmers.co.kr/learn/courses/30/lessons/42885"
   ]
  },
  {
   "cell_type": "code",
   "execution_count": 11,
   "id": "26e2909c",
   "metadata": {},
   "outputs": [
    {
     "data": {
      "text/plain": [
       "4"
      ]
     },
     "execution_count": 11,
     "metadata": {},
     "output_type": "execute_result"
    }
   ],
   "source": [
    "a=[0,1,2,3,4]\n",
    "a = sorted(a)\n",
    "list(map(lambda x: x>3, a)).index(True)"
   ]
  },
  {
   "cell_type": "code",
   "execution_count": 33,
   "id": "d373ff44",
   "metadata": {},
   "outputs": [],
   "source": [
    "def solution(people, limit):\n",
    "    people = sorted(people)\n",
    "    if people[0] + people[1] > limit:\n",
    "        return len(people)\n",
    "    answer = 0\n",
    "    # try:\n",
    "    #     over_ind = list(map(lambda x: x>limit, people)).index(True)\n",
    "    #     answer += len(people) -over_ind  -1\n",
    "    #     del people[over_ind:]\n",
    "    #     if not len(people):\n",
    "    #         return answer\n",
    "    # except:\n",
    "    #     pass\n",
    "    while True:\n",
    "        if people[-1] <=limit/2:\n",
    "            return answer + len(people)//2+ len(people)%2 \n",
    "        if len(people)>1 and people[-1] + people[0] <= limit:\n",
    "            del people[0]\n",
    "        del people[-1]\n",
    "        answer+=1\n",
    "        \n",
    "        if not len(people):\n",
    "            return answer"
   ]
  },
  {
   "cell_type": "code",
   "execution_count": 42,
   "id": "edfb57db",
   "metadata": {},
   "outputs": [],
   "source": [
    "def solution(people, limit):\n",
    "    people = sorted(people)\n",
    "    if people[0] + people[1] > limit:\n",
    "        return len(people)\n",
    "    answer = 0\n",
    "\n",
    "    i,j = 0,len(people)-1 \n",
    "    while True:\n",
    "        if people[j] <=limit/2:\n",
    "            return answer + (j-i+1)//2+ (j-i+1)%2 \n",
    "        if i!=j and people[i] + people[j] <= limit:\n",
    "            i +=1\n",
    "        j-=1\n",
    "        answer+=1\n",
    "        \n",
    "        if i>j:\n",
    "            return answer"
   ]
  },
  {
   "cell_type": "code",
   "execution_count": 43,
   "id": "ff700490",
   "metadata": {
    "scrolled": true
   },
   "outputs": [
    {
     "data": {
      "text/plain": [
       "3"
      ]
     },
     "execution_count": 43,
     "metadata": {},
     "output_type": "execute_result"
    }
   ],
   "source": [
    "solution([70, 50, 80, 50],100)"
   ]
  },
  {
   "cell_type": "code",
   "execution_count": 44,
   "id": "caec1ac7",
   "metadata": {},
   "outputs": [
    {
     "data": {
      "text/plain": [
       "3"
      ]
     },
     "execution_count": 44,
     "metadata": {},
     "output_type": "execute_result"
    }
   ],
   "source": [
    "solution([70, 80, 50],100)"
   ]
  },
  {
   "cell_type": "code",
   "execution_count": null,
   "id": "304fb421",
   "metadata": {},
   "outputs": [],
   "source": []
  },
  {
   "cell_type": "code",
   "execution_count": null,
   "id": "845e7b4d",
   "metadata": {},
   "outputs": [],
   "source": []
  }
 ],
 "metadata": {
  "kernelspec": {
   "display_name": "Python 3 (ipykernel)",
   "language": "python",
   "name": "python3"
  },
  "language_info": {
   "codemirror_mode": {
    "name": "ipython",
    "version": 3
   },
   "file_extension": ".py",
   "mimetype": "text/x-python",
   "name": "python",
   "nbconvert_exporter": "python",
   "pygments_lexer": "ipython3",
   "version": "3.9.12"
  }
 },
 "nbformat": 4,
 "nbformat_minor": 5
}
