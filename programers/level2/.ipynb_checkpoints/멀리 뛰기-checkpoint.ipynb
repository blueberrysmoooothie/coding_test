{
 "cells": [
  {
   "cell_type": "markdown",
   "id": "7b69d5ed",
   "metadata": {},
   "source": [
    "멀리 뛰기\n",
    "---\n",
    "https://school.programmers.co.kr/learn/courses/30/lessons/12914"
   ]
  },
  {
   "cell_type": "code",
   "execution_count": 32,
   "id": "37a7722f",
   "metadata": {},
   "outputs": [],
   "source": [
    "def facto(a,b):\n",
    "    if b <2:\n",
    "        return 1\n",
    "    result = 1\n",
    "    for i in range(a, b+1):\n",
    "        result *= i\n",
    "    return result\n",
    "def solution(n):\n",
    "    answer = 1\n",
    "    for i in range(1, (n)//2 +1):\n",
    "        answer += facto(n-2*i+1,n-i)//facto(1,i)\n",
    "        if answer >1234567:\n",
    "            answer = answer%1234567\n",
    "        \n",
    "    return answer"
   ]
  },
  {
   "cell_type": "code",
   "execution_count": 33,
   "id": "180f0ee3",
   "metadata": {},
   "outputs": [
    {
     "data": {
      "text/plain": [
       "694725"
      ]
     },
     "execution_count": 33,
     "metadata": {},
     "output_type": "execute_result"
    }
   ],
   "source": [
    "solution(2000)"
   ]
  },
  {
   "cell_type": "code",
   "execution_count": null,
   "id": "1a2e310b",
   "metadata": {},
   "outputs": [],
   "source": []
  }
 ],
 "metadata": {
  "kernelspec": {
   "display_name": "Python 3 (ipykernel)",
   "language": "python",
   "name": "python3"
  },
  "language_info": {
   "codemirror_mode": {
    "name": "ipython",
    "version": 3
   },
   "file_extension": ".py",
   "mimetype": "text/x-python",
   "name": "python",
   "nbconvert_exporter": "python",
   "pygments_lexer": "ipython3",
   "version": "3.9.12"
  }
 },
 "nbformat": 4,
 "nbformat_minor": 5
}
