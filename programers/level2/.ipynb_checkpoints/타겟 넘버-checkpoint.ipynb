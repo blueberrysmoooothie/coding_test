{
 "cells": [
  {
   "cell_type": "markdown",
   "id": "0f080a0c",
   "metadata": {},
   "source": [
    "타겟 넘버\n",
    "---\n",
    "https://school.programmers.co.kr/learn/courses/30/lessons/43165"
   ]
  },
  {
   "cell_type": "code",
   "execution_count": 10,
   "id": "3a1bfcef",
   "metadata": {},
   "outputs": [
    {
     "data": {
      "text/plain": [
       "'0'"
      ]
     },
     "execution_count": 10,
     "metadata": {},
     "output_type": "execute_result"
    }
   ],
   "source": [
    "bin(0)[2:]"
   ]
  },
  {
   "cell_type": "code",
   "execution_count": 57,
   "id": "2730f85a",
   "metadata": {},
   "outputs": [],
   "source": [
    "def solution(numbers, target):\n",
    "    if target in [sum(numbers), sum(numbers)*(-1)] :\n",
    "        return 1\n",
    "    N = 2**(len(numbers))\n",
    "    answer = 0\n",
    "    for i in range(N):    \n",
    "        choices = bin(i)[2:]\n",
    "        minus = [numbers[len(choices)-j-1] for j in range(len(choices)) if choices[j] == '1']\n",
    "        \n",
    "        result = sum(numbers) - 2*sum(minus)\n",
    "        if result == target:\n",
    "            answer +=1\n",
    "#         print(choices,minus, result)\n",
    "    return answer"
   ]
  },
  {
   "cell_type": "code",
   "execution_count": 58,
   "id": "412da23e",
   "metadata": {},
   "outputs": [
    {
     "data": {
      "text/plain": [
       "1"
      ]
     },
     "execution_count": 58,
     "metadata": {},
     "output_type": "execute_result"
    }
   ],
   "source": [
    "solution([1,2],1)"
   ]
  },
  {
   "cell_type": "code",
   "execution_count": null,
   "id": "8848b54a",
   "metadata": {},
   "outputs": [],
   "source": []
  }
 ],
 "metadata": {
  "kernelspec": {
   "display_name": "Python 3 (ipykernel)",
   "language": "python",
   "name": "python3"
  },
  "language_info": {
   "codemirror_mode": {
    "name": "ipython",
    "version": 3
   },
   "file_extension": ".py",
   "mimetype": "text/x-python",
   "name": "python",
   "nbconvert_exporter": "python",
   "pygments_lexer": "ipython3",
   "version": "3.9.12"
  }
 },
 "nbformat": 4,
 "nbformat_minor": 5
}
