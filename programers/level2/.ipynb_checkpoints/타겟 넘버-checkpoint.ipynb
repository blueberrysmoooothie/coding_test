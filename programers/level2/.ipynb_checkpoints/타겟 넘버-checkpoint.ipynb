{
 "cells": [
  {
   "cell_type": "markdown",
   "id": "0f080a0c",
   "metadata": {},
   "source": [
    "타겟 넘버\n",
    "---\n",
    "https://school.programmers.co.kr/learn/courses/30/lessons/43165"
   ]
  },
  {
   "cell_type": "code",
   "execution_count": 1,
   "id": "62496b91",
   "metadata": {},
   "outputs": [
    {
     "data": {
      "text/plain": [
       "0"
      ]
     },
     "execution_count": 1,
     "metadata": {},
     "output_type": "execute_result"
    }
   ],
   "source": [
    "sum([])"
   ]
  },
  {
   "cell_type": "code",
   "execution_count": 6,
   "id": "2730f85a",
   "metadata": {},
   "outputs": [],
   "source": [
    "def combination(l,result = [[]]):\n",
    "    print(l, result)\n",
    "    if len(l)>0:\n",
    "        a = l.pop()\n",
    "        result += combination(l, result)\n",
    "        \n",
    "        result[-1].append(a)\n",
    "        result += combination(l,result)\n",
    "        return result\n",
    "\n",
    "    else:\n",
    "        return [[]]\n",
    "        \n",
    "\n",
    "def solution(numbers, target):\n",
    "    minus = []\n",
    "    \n",
    "    \n",
    "    answer = 0\n",
    "    \n",
    "    result = sum(numbers) - 2*sum(minus)\n",
    "    if result == target:\n",
    "        answer +=1\n",
    "    \n",
    "    return answer"
   ]
  },
  {
   "cell_type": "code",
   "execution_count": 7,
   "id": "412da23e",
   "metadata": {},
   "outputs": [
    {
     "name": "stdout",
     "output_type": "stream",
     "text": [
      "[1, 2] [[]]\n",
      "[1] [[]]\n",
      "[] [[]]\n",
      "[] [[], [1]]\n",
      "[] [[], [1], [2], [], [1], [2]]\n"
     ]
    },
    {
     "data": {
      "text/plain": [
       "[[], [1], [2], [], [1], [2], []]"
      ]
     },
     "execution_count": 7,
     "metadata": {},
     "output_type": "execute_result"
    }
   ],
   "source": [
    "combination([1,2])"
   ]
  },
  {
   "cell_type": "code",
   "execution_count": null,
   "id": "8848b54a",
   "metadata": {},
   "outputs": [],
   "source": []
  }
 ],
 "metadata": {
  "kernelspec": {
   "display_name": "Python 3 (ipykernel)",
   "language": "python",
   "name": "python3"
  },
  "language_info": {
   "codemirror_mode": {
    "name": "ipython",
    "version": 3
   },
   "file_extension": ".py",
   "mimetype": "text/x-python",
   "name": "python",
   "nbconvert_exporter": "python",
   "pygments_lexer": "ipython3",
   "version": "3.9.12"
  }
 },
 "nbformat": 4,
 "nbformat_minor": 5
}
