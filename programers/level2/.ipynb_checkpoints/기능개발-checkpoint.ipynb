{
 "cells": [
  {
   "cell_type": "markdown",
   "id": "99dd84ca",
   "metadata": {},
   "source": [
    "기능개발\n",
    "---\n",
    "https://school.programmers.co.kr/learn/courses/30/lessons/42586"
   ]
  },
  {
   "cell_type": "code",
   "execution_count": 23,
   "id": "4ed5dbc2",
   "metadata": {},
   "outputs": [],
   "source": [
    "def solution(progresses, speeds):\n",
    "    answer = []\n",
    "    ind = 0\n",
    "    while ind < len(speeds):\n",
    "#         print(progresses,ind,answer)\n",
    "        for i in range(len(speeds)):\n",
    "            if progresses[i]<100:\n",
    "                progresses[i]+= speeds[i]\n",
    "        cnt = 0\n",
    "        while True:\n",
    "            \n",
    "            if ind >=len(speeds):\n",
    "                break\n",
    "            elif progresses[ind]>=100:\n",
    "                cnt+=1\n",
    "                ind+=1\n",
    "            else:\n",
    "                break\n",
    "        if cnt:\n",
    "            answer.append(cnt)\n",
    "        \n",
    "    \n",
    "    return answer"
   ]
  },
  {
   "cell_type": "code",
   "execution_count": 24,
   "id": "7c48129d",
   "metadata": {},
   "outputs": [
    {
     "data": {
      "text/plain": [
       "[1, 3, 2]"
      ]
     },
     "execution_count": 24,
     "metadata": {},
     "output_type": "execute_result"
    }
   ],
   "source": [
    "solution([95, 90, 99, 99, 80, 99],[1, 1, 1, 1, 1, 1])"
   ]
  },
  {
   "cell_type": "code",
   "execution_count": 10,
   "id": "0c3999fd",
   "metadata": {},
   "outputs": [
    {
     "name": "stdout",
     "output_type": "stream",
     "text": [
      "{7: 1, 3: 1, 9: 1}\n"
     ]
    }
   ],
   "source": [
    "solution([93, 30, 55],[1, 30, 5])"
   ]
  },
  {
   "cell_type": "code",
   "execution_count": null,
   "id": "2912a0ef",
   "metadata": {},
   "outputs": [],
   "source": []
  }
 ],
 "metadata": {
  "kernelspec": {
   "display_name": "Python 3 (ipykernel)",
   "language": "python",
   "name": "python3"
  },
  "language_info": {
   "codemirror_mode": {
    "name": "ipython",
    "version": 3
   },
   "file_extension": ".py",
   "mimetype": "text/x-python",
   "name": "python",
   "nbconvert_exporter": "python",
   "pygments_lexer": "ipython3",
   "version": "3.9.12"
  }
 },
 "nbformat": 4,
 "nbformat_minor": 5
}
