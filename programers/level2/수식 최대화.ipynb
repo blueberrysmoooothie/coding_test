{
 "cells": [
  {
   "attachments": {},
   "cell_type": "markdown",
   "metadata": {},
   "source": [
    "수식 최대화\n",
    "---\n",
    "https://school.programmers.co.kr/learn/courses/30/lessons/67257"
   ]
  },
  {
   "cell_type": "code",
   "execution_count": 16,
   "metadata": {},
   "outputs": [
    {
     "data": {
      "text/plain": [
       "['200', '+', '20', '*', '90', '-', '39']"
      ]
     },
     "execution_count": 16,
     "metadata": {},
     "output_type": "execute_result"
    }
   ],
   "source": [
    "import re\n",
    "p= re.compile(r'[\\+\\-\\*]|\\d+')\n",
    "\n",
    "re.findall(p,'200+20*90-39')"
   ]
  },
  {
   "cell_type": "code",
   "execution_count": 49,
   "metadata": {},
   "outputs": [],
   "source": [
    "import re\n",
    "def solution(expression):\n",
    "\n",
    "    p= re.compile(r'[\\+\\-\\*]+|\\d+')\n",
    "    expression = re.findall(p,expression)\n",
    "    orders = ['*+-','*-+','+*-','+-*','-*+','-+*']\n",
    "    max_val = 0\n",
    "    for order in orders:\n",
    "        test_expression = expression.copy()\n",
    "        for o in order:\n",
    "            while True:\n",
    "                try:\n",
    "                    ind = test_expression.index(o)\n",
    "                    temp_n1 = test_expression.pop(ind-1)\n",
    "                    test_expression.pop(ind-1)\n",
    "                    temp_n2 = test_expression.pop(ind-1)\n",
    "                    test_expression.insert(ind-1, str(eval(''.join([temp_n1,o,temp_n2]))))\n",
    "                except:\n",
    "                    break\n",
    "        val = abs(int(test_expression[0]))\n",
    "        if val > max_val:\n",
    "            max_val = val\n",
    "\n",
    "    return max_val"
   ]
  },
  {
   "cell_type": "code",
   "execution_count": 50,
   "metadata": {},
   "outputs": [
    {
     "data": {
      "text/plain": [
       "300"
      ]
     },
     "execution_count": 50,
     "metadata": {},
     "output_type": "execute_result"
    }
   ],
   "source": [
    "solution(\"50*6-3*2\")"
   ]
  },
  {
   "cell_type": "code",
   "execution_count": null,
   "metadata": {},
   "outputs": [],
   "source": []
  }
 ],
 "metadata": {
  "kernelspec": {
   "display_name": "Python 3",
   "language": "python",
   "name": "python3"
  },
  "language_info": {
   "codemirror_mode": {
    "name": "ipython",
    "version": 3
   },
   "file_extension": ".py",
   "mimetype": "text/x-python",
   "name": "python",
   "nbconvert_exporter": "python",
   "pygments_lexer": "ipython3",
   "version": "3.10.8"
  },
  "orig_nbformat": 4,
  "vscode": {
   "interpreter": {
    "hash": "1eaddad8910a63e993320c00f976674dd19739aa47ccb16e46e67145212d406a"
   }
  }
 },
 "nbformat": 4,
 "nbformat_minor": 2
}
