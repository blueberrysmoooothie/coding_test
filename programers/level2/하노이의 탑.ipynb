{
 "cells": [
  {
   "attachments": {},
   "cell_type": "markdown",
   "metadata": {},
   "source": [
    "하노이의 탑\n",
    "---\n",
    "https://school.programmers.co.kr/learn/courses/30/lessons/12946\n"
   ]
  },
  {
   "cell_type": "code",
   "execution_count": 11,
   "metadata": {},
   "outputs": [],
   "source": [
    "def solution(n):\n",
    "    def move(move_from, move_to):\n",
    "        # print()\n",
    "        # for i in range(1,4):\n",
    "        #         print(hanoi[i])\n",
    "\n",
    "        answer.append([move_from, move_to])\n",
    "        temp = hanoi[move_from].pop()\n",
    "        hanoi[move_to].append(temp)\n",
    "\n",
    "    def move_set(moving_n, from_, to_):\n",
    "        if moving_n==1:\n",
    "            move(from_, to_)\n",
    "            return 0\n",
    "\n",
    "        directs = [1,2,3]\n",
    "        directs.remove(from_)\n",
    "        directs.remove(to_)\n",
    "        pass_ = directs[0]\n",
    "\n",
    "        move_set(moving_n-1, from_, pass_)\n",
    "        move(from_, to_)\n",
    "        move_set(moving_n-1, pass_, to_)\n",
    "\n",
    "    hanoi = {1:[i for i in range(n, 0, -1)], 2:[],3:[]}\n",
    "    answer = []\n",
    "    move_set(n, 1, 3)\n",
    "\n",
    "    return answer"
   ]
  },
  {
   "cell_type": "code",
   "execution_count": 12,
   "metadata": {},
   "outputs": [
    {
     "data": {
      "text/plain": [
       "[[1, 2], [1, 3], [2, 3]]"
      ]
     },
     "execution_count": 12,
     "metadata": {},
     "output_type": "execute_result"
    }
   ],
   "source": [
    "solution(2)"
   ]
  },
  {
   "cell_type": "code",
   "execution_count": 4,
   "metadata": {},
   "outputs": [
    {
     "data": {
      "text/plain": [
       "3"
      ]
     },
     "execution_count": 4,
     "metadata": {},
     "output_type": "execute_result"
    }
   ],
   "source": [
    "l = [1,2,3]\n",
    "l.remove(1)\n",
    "l.remove(2)\n",
    "l[0]"
   ]
  },
  {
   "cell_type": "code",
   "execution_count": null,
   "metadata": {},
   "outputs": [],
   "source": []
  }
 ],
 "metadata": {
  "kernelspec": {
   "display_name": "Python 3",
   "language": "python",
   "name": "python3"
  },
  "language_info": {
   "codemirror_mode": {
    "name": "ipython",
    "version": 3
   },
   "file_extension": ".py",
   "mimetype": "text/x-python",
   "name": "python",
   "nbconvert_exporter": "python",
   "pygments_lexer": "ipython3",
   "version": "3.10.8"
  },
  "orig_nbformat": 4,
  "vscode": {
   "interpreter": {
    "hash": "1eaddad8910a63e993320c00f976674dd19739aa47ccb16e46e67145212d406a"
   }
  }
 },
 "nbformat": 4,
 "nbformat_minor": 2
}
