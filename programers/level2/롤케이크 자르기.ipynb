{
 "cells": [
  {
   "attachments": {},
   "cell_type": "markdown",
   "metadata": {},
   "source": [
    "롤케이크 자르기\n",
    "---\n",
    "https://school.programmers.co.kr/learn/courses/30/lessons/132265"
   ]
  },
  {
   "cell_type": "code",
   "execution_count": 1,
   "metadata": {},
   "outputs": [],
   "source": [
    "def solution(topping):\n",
    "    answer = 0\n",
    "    for i in range(1,len(topping)-1):\n",
    "        a = set(topping[:i])\n",
    "        b = set(topping[i:])\n",
    "        if len(a) == len(b):\n",
    "            answer+=1\n",
    "    return answer"
   ]
  },
  {
   "cell_type": "code",
   "execution_count": 10,
   "metadata": {},
   "outputs": [],
   "source": [
    "def solution(topping):\n",
    "    answer = 0\n",
    "    counts = {}\n",
    "    for i in topping[1:]:\n",
    "        if i not in counts.keys():\n",
    "            counts[i]=1\n",
    "        else:\n",
    "            counts[i]+=1\n",
    "\n",
    "    a = set(topping[:1])\n",
    "    b = set(topping[1:])\n",
    "\n",
    "    for i in topping[1:-1]:\n",
    "        if i not in a:\n",
    "            a.add(i)\n",
    "        counts[i]-=1\n",
    "        if counts[i]<1:\n",
    "            b.discard(i)\n",
    "        if len(a) == len(b):\n",
    "            answer+=1\n",
    "    return answer"
   ]
  },
  {
   "cell_type": "code",
   "execution_count": 7,
   "metadata": {},
   "outputs": [
    {
     "data": {
      "text/plain": [
       "{1, 2, 3}"
      ]
     },
     "execution_count": 7,
     "metadata": {},
     "output_type": "execute_result"
    }
   ],
   "source": [
    "l = set([1,2,3,4])\n",
    "l.discard(4)\n",
    "l"
   ]
  },
  {
   "cell_type": "code",
   "execution_count": 11,
   "metadata": {},
   "outputs": [
    {
     "data": {
      "text/plain": [
       "2"
      ]
     },
     "execution_count": 11,
     "metadata": {},
     "output_type": "execute_result"
    }
   ],
   "source": [
    "solution([1, 2, 1, 3, 1, 4, 1, 2])"
   ]
  },
  {
   "cell_type": "code",
   "execution_count": null,
   "metadata": {},
   "outputs": [],
   "source": []
  }
 ],
 "metadata": {
  "kernelspec": {
   "display_name": "Python 3",
   "language": "python",
   "name": "python3"
  },
  "language_info": {
   "codemirror_mode": {
    "name": "ipython",
    "version": 3
   },
   "file_extension": ".py",
   "mimetype": "text/x-python",
   "name": "python",
   "nbconvert_exporter": "python",
   "pygments_lexer": "ipython3",
   "version": "3.10.8"
  },
  "orig_nbformat": 4,
  "vscode": {
   "interpreter": {
    "hash": "1eaddad8910a63e993320c00f976674dd19739aa47ccb16e46e67145212d406a"
   }
  }
 },
 "nbformat": 4,
 "nbformat_minor": 2
}
