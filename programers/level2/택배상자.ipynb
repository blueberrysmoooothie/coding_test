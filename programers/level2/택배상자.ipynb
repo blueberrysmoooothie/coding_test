{
 "cells": [
  {
   "attachments": {},
   "cell_type": "markdown",
   "metadata": {},
   "source": [
    "택배상자\n",
    "--- \n",
    "https://school.programmers.co.kr/learn/courses/30/lessons/131704"
   ]
  },
  {
   "cell_type": "code",
   "execution_count": 42,
   "metadata": {},
   "outputs": [],
   "source": [
    "def solution(order):\n",
    "    stack = []\n",
    "    answer = 0\n",
    "    cur = 1\n",
    "    max_cur = max(order)\n",
    "    i = 0\n",
    "    while True:\n",
    "        # print(order[i:], stack, cur)\n",
    "\n",
    "        if i >=max_cur:\n",
    "            break\n",
    "\n",
    "        if cur!=order[i]:\n",
    "            if cur>order[i]:\n",
    "                if stack[-1] == order[i]:\n",
    "                    stack.pop()\n",
    "                    i+=1\n",
    "                    answer+=1\n",
    "                else:\n",
    "                    break\n",
    "            else:\n",
    "                stack.append(cur)\n",
    "                cur += 1\n",
    "\n",
    "        else:\n",
    "            i+=1\n",
    "            cur += 1\n",
    "            answer+=1\n",
    "\n",
    "\n",
    "    return answer"
   ]
  },
  {
   "cell_type": "code",
   "execution_count": 43,
   "metadata": {},
   "outputs": [
    {
     "name": "stdout",
     "output_type": "stream",
     "text": [
      "[5, 4, 3, 2, 1] [] 1\n",
      "[5, 4, 3, 2, 1] [1] 2\n",
      "[5, 4, 3, 2, 1] [1, 2] 3\n",
      "[5, 4, 3, 2, 1] [1, 2, 3] 4\n",
      "[5, 4, 3, 2, 1] [1, 2, 3, 4] 5\n",
      "[4, 3, 2, 1] [1, 2, 3, 4] 6\n",
      "[3, 2, 1] [1, 2, 3] 6\n",
      "[2, 1] [1, 2] 6\n",
      "[1] [1] 6\n",
      "[] [] 6\n"
     ]
    },
    {
     "data": {
      "text/plain": [
       "5"
      ]
     },
     "execution_count": 43,
     "metadata": {},
     "output_type": "execute_result"
    }
   ],
   "source": [
    "solution([5, 4, 3, 2, 1])"
   ]
  },
  {
   "cell_type": "code",
   "execution_count": null,
   "metadata": {},
   "outputs": [],
   "source": []
  },
  {
   "cell_type": "code",
   "execution_count": null,
   "metadata": {},
   "outputs": [],
   "source": []
  }
 ],
 "metadata": {
  "kernelspec": {
   "display_name": "Python 3",
   "language": "python",
   "name": "python3"
  },
  "language_info": {
   "codemirror_mode": {
    "name": "ipython",
    "version": 3
   },
   "file_extension": ".py",
   "mimetype": "text/x-python",
   "name": "python",
   "nbconvert_exporter": "python",
   "pygments_lexer": "ipython3",
   "version": "3.10.8"
  },
  "orig_nbformat": 4,
  "vscode": {
   "interpreter": {
    "hash": "1eaddad8910a63e993320c00f976674dd19739aa47ccb16e46e67145212d406a"
   }
  }
 },
 "nbformat": 4,
 "nbformat_minor": 2
}
