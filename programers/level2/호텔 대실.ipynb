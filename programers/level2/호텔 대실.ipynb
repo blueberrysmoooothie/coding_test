{
 "cells": [
  {
   "attachments": {},
   "cell_type": "markdown",
   "metadata": {},
   "source": [
    "호텔 대실\n",
    "---\n",
    "https://school.programmers.co.kr/learn/courses/30/lessons/155651"
   ]
  },
  {
   "cell_type": "code",
   "execution_count": 9,
   "metadata": {},
   "outputs": [],
   "source": [
    "from datetime import datetime as dt\n",
    "import heapq\n",
    "from datetime import timedelta\n",
    "\n",
    "def solution(book_time):\n",
    "    answer = 0\n",
    "    for i in range(len(book_time)):\n",
    "        time = book_time[i].copy()\n",
    "        book_time[i][0] = dt.strptime(time[0],'%H:%M')\n",
    "        book_time[i][1] = dt.strptime(time[1],'%H:%M') + timedelta(minutes = 10)\n",
    "\n",
    "    book_time = sorted(book_time, key = lambda time:time[0])\n",
    "\n",
    "    queue = []\n",
    "    max_cnt = 0\n",
    "    for time in book_time:\n",
    "        cur = time[0]\n",
    "        heapq.heappush(queue,time[1])\n",
    "\n",
    "        while len(queue) and queue[0] <= cur:\n",
    "            heapq.heappop(queue)\n",
    "\n",
    "        # print(queue)\n",
    "        if len(queue)>max_cnt:\n",
    "            max_cnt = len(queue)\n",
    "\n",
    "    return max_cnt"
   ]
  },
  {
   "cell_type": "code",
   "execution_count": 10,
   "metadata": {},
   "outputs": [
    {
     "data": {
      "text/plain": [
       "2"
      ]
     },
     "execution_count": 10,
     "metadata": {},
     "output_type": "execute_result"
    }
   ],
   "source": [
    "solution([[\"00:00\", \"01:00\"], [\"00:00\", \"01:10\"], [\"01:20\", \"02:40\"]])"
   ]
  },
  {
   "cell_type": "code",
   "execution_count": null,
   "metadata": {},
   "outputs": [],
   "source": []
  }
 ],
 "metadata": {
  "kernelspec": {
   "display_name": "Python 3",
   "language": "python",
   "name": "python3"
  },
  "language_info": {
   "codemirror_mode": {
    "name": "ipython",
    "version": 3
   },
   "file_extension": ".py",
   "mimetype": "text/x-python",
   "name": "python",
   "nbconvert_exporter": "python",
   "pygments_lexer": "ipython3",
   "version": "3.10.8"
  },
  "orig_nbformat": 4,
  "vscode": {
   "interpreter": {
    "hash": "1eaddad8910a63e993320c00f976674dd19739aa47ccb16e46e67145212d406a"
   }
  }
 },
 "nbformat": 4,
 "nbformat_minor": 2
}
