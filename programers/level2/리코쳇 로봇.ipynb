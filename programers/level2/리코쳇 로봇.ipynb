{
 "cells": [
  {
   "attachments": {},
   "cell_type": "markdown",
   "metadata": {},
   "source": [
    "리코쳇 로봇\n",
    "---\n",
    "https://school.programmers.co.kr/learn/courses/30/lessons/169199"
   ]
  },
  {
   "cell_type": "code",
   "execution_count": 22,
   "metadata": {},
   "outputs": [],
   "source": [
    "def solution(board):\n",
    "\n",
    "\n",
    "\n",
    "    answer = 0\n",
    "    R, C = len(board), len(board[0])\n",
    "    for r in range(R):\n",
    "        if 'G' in board[r] or 'R' in board[r]:\n",
    "            for c in range(C): \n",
    "                if board[r][c]=='G':\n",
    "                    gr, gc = r+1, c+1\n",
    "                elif board[r][c]=='R':\n",
    "                    rr, rc = r+1, c+1\n",
    "    board = ['D' *(C+2)]+['D'+b+'D' for b in board]+['D' *(C+2)]\n",
    "\n",
    "    for b in board:\n",
    "        print(b)    \n",
    "    directs = [[-1,0],[1,0],[0,-1],[0,1]]\n",
    "\n",
    "    checked = []\n",
    "    queue = [[gr,gc,0]]\n",
    "    while len(queue):\n",
    "        gr, gc, cnt = queue.pop(0)\n",
    "        # print(gr, gc, cnt, queue)\n",
    "        if gr == rr and gc == rc:\n",
    "            return cnt\n",
    "        for dr, dc in directs:\n",
    "            if [gr+dr,gc+dc] not in checked and board[gr+dr][gc+dc]=='D':\n",
    "                cur_r, cur_c = gr, gc\n",
    "                if dr:\n",
    "                    if board[cur_r-dr][cur_c]!='D':\n",
    "                        while board[cur_r-dr][cur_c]!='D':\n",
    "                            cur_r-=dr\n",
    "                            if board[cur_r][cur_c-1]=='D' and board[cur_r][cur_c+1]!='D'or board[cur_r][cur_c-1]!='D' and board[cur_r][cur_c+1]=='D':\n",
    "                                queue.append([cur_r, cur_c, cnt+1])\n",
    "                                checked.append([cur_r-dr,cur_c])\n",
    "                else:\n",
    "                    if board[cur_r][cur_c-dc]!='D':\n",
    "                        while board[cur_r][cur_c-dc]!='D':\n",
    "                            cur_c-=dc\n",
    "                            if board[cur_r-1][cur_c]=='D' and board[cur_r+1][cur_c]!='D'or board[cur_r-1][cur_c]!='D' and board[cur_r+1][cur_c]=='D':\n",
    "                                queue.append([cur_r, cur_c, cnt+1])\n",
    "                                checked.append([cur_r-dr,cur_c])\n",
    "\n",
    "\n",
    "    return -1"
   ]
  },
  {
   "cell_type": "code",
   "execution_count": 35,
   "metadata": {},
   "outputs": [],
   "source": [
    "def solution(board):\n",
    "    answer = 0\n",
    "    R, C = len(board), len(board[0])\n",
    "    for r in range(R):\n",
    "        if 'G' in board[r] or 'R' in board[r]:\n",
    "            for c in range(C): \n",
    "                if board[r][c]=='G':\n",
    "                    gr, gc = r+1, c+1\n",
    "                elif board[r][c]=='R':\n",
    "                    rr, rc = r+1, c+1\n",
    "    board = ['D' *(C+2)]+['D'+b+'D' for b in board]+['D' *(C+2)]\n",
    "\n",
    "    # for b in board:\n",
    "    #     print(b)    \n",
    "    directs = [[-1,0],[1,0],[0,-1],[0,1]]\n",
    "    queue = []\n",
    "    for dr, dc in directs:\n",
    "        if board[gr+dr][gc+dc] =='D':\n",
    "            queue.append([gr+dr, gc+dc, dr, dc,0,[]])\n",
    "\n",
    "\n",
    "\n",
    "    while len(queue):\n",
    "        gr, gc, dr, dc, cnt, checked = queue.pop(0)\n",
    "        # print(gr, gc, cnt, queue)\n",
    "        if gr == rr and gc == rc:\n",
    "            return cnt\n",
    "        if [gr+dr,gc+dc] not in checked and board[gr+dr][gc+dc]=='D':\n",
    "            cur_r, cur_c = gr, gc\n",
    "            if dr:\n",
    "                if board[cur_r-dr][cur_c]!='D':\n",
    "                    while board[cur_r-dr][cur_c]!='D':\n",
    "                        cur_r-=dr\n",
    "                        if board[cur_r][cur_c-1]=='D' and board[cur_r][cur_c+1]!='D':\n",
    "                            queue.append([cur_r, cur_c,0,-1, cnt+1,checked+[cur_r-dr,cur_c]])\n",
    "\n",
    "                        if board[cur_r][cur_c-1]!='D' and board[cur_r][cur_c+1]=='D':\n",
    "                            queue.append([cur_r, cur_c,0,1, cnt+1,checked+[cur_r-dr,cur_c]])\n",
    "\n",
    "            else:\n",
    "                if board[cur_r][cur_c-dc]!='D':\n",
    "                    while board[cur_r][cur_c-dc]!='D':\n",
    "                        cur_c-=dc\n",
    "                        if board[cur_r-1][cur_c]=='D' and board[cur_r+1][cur_c]!='D':\n",
    "                            queue.append([cur_r, cur_c,-1,0, cnt+1,checked+[cur_r-dr,cur_c]])\n",
    "\n",
    "\n",
    "                        if board[cur_r-1][cur_c]!='D' and board[cur_r+1][cur_c]=='D':\n",
    "                            queue.append([cur_r, cur_c,1,0, cnt+1,checked+[cur_r-dr,cur_c]])\n",
    "                            \n",
    "                            \n",
    "\n",
    "    return -1"
   ]
  },
  {
   "cell_type": "code",
   "execution_count": 1,
   "metadata": {},
   "outputs": [],
   "source": [
    "def solution(board):\n",
    "    R,C = len(board), len(board[0])\n",
    "    for r in range(R):\n",
    "        b = board[r]\n",
    "        if 'R' in b or 'G' in b:\n",
    "            for c in range(C):\n",
    "                if b[c] == 'R':\n",
    "                    rr, rc=r+1,c+1\n",
    "                elif b[c]=='G':\n",
    "                    gr, gc = r+1,c+1\n",
    "        board[r] = 'D'+b+'D'\n",
    "    board = ['D'*(C+2)]+board+['D'*(C+2)]\n",
    "\n",
    "    directs = [[-1,0],[1,0],[0,-1],[0,1]]\n",
    "    move = []\n",
    "    for dr, dc in directs:\n",
    "        if board[gr-dr][gc-dc] == 'D':\n",
    "            move.append()\n",
    "\n",
    "    return -1\n",
    "            "
   ]
  },
  {
   "cell_type": "code",
   "execution_count": 2,
   "metadata": {},
   "outputs": [
    {
     "data": {
      "text/plain": [
       "-1"
      ]
     },
     "execution_count": 2,
     "metadata": {},
     "output_type": "execute_result"
    }
   ],
   "source": [
    "solution([\"...D..R\", \".D.G...\", \"....D.D\", \"D....D.\", \"..D....\"])"
   ]
  },
  {
   "cell_type": "code",
   "execution_count": null,
   "metadata": {},
   "outputs": [],
   "source": []
  }
 ],
 "metadata": {
  "kernelspec": {
   "display_name": "Python 3",
   "language": "python",
   "name": "python3"
  },
  "language_info": {
   "codemirror_mode": {
    "name": "ipython",
    "version": 3
   },
   "file_extension": ".py",
   "mimetype": "text/x-python",
   "name": "python",
   "nbconvert_exporter": "python",
   "pygments_lexer": "ipython3",
   "version": "3.10.8"
  },
  "orig_nbformat": 4
 },
 "nbformat": 4,
 "nbformat_minor": 2
}
