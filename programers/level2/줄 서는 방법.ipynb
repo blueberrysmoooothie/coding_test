{
 "cells": [
  {
   "cell_type": "markdown",
   "metadata": {},
   "source": []
  },
  {
   "cell_type": "markdown",
   "metadata": {},
   "source": [
    "줄 서는 방법\n",
    "---\n",
    "https://school.programmers.co.kr/learn/courses/30/lessons/12936"
   ]
  },
  {
   "cell_type": "code",
   "execution_count": 45,
   "metadata": {},
   "outputs": [],
   "source": [
    "def solution(n, k):\n",
    "    N= n\n",
    "\n",
    "    answer = []\n",
    "    while True:\n",
    "        if k == 1:\n",
    "            break\n",
    "\n",
    "        i =1\n",
    "        s = 1\n",
    "        while i< N-1:\n",
    "            i+=1\n",
    "            s*= i\n",
    "        num = (k-1)//s+1\n",
    "        print(num, i, s)\n",
    "        while num<=n:\n",
    "            if num not in answer:\n",
    "                answer.append(num)\n",
    "                break\n",
    "            num+=1\n",
    "\n",
    "        k = (k+1)%s+1\n",
    "        N-=1\n",
    "        print(answer)\n",
    "        \n",
    "        if k== 0:\n",
    "            break\n",
    "    \n",
    "    answer += [j for j in range(1,n+1) if j not in answer]\n",
    "    \n",
    "    return answer"
   ]
  },
  {
   "cell_type": "code",
   "execution_count": 83,
   "metadata": {},
   "outputs": [],
   "source": [
    "def solution(n, k):\n",
    "    N= n\n",
    "    k -= 1\n",
    "    ns = [i for i in range(1,n+1)]\n",
    "    answer = []\n",
    "    while True:\n",
    "        N-=1\n",
    "        if k<=0:\n",
    "            break\n",
    "        i =1\n",
    "        s = 1\n",
    "        while i< N:\n",
    "            i+=1\n",
    "            s*= i\n",
    "        answer.append(ns.pop((k)//s))        \n",
    "        k = (k)%s\n",
    "    \n",
    "    answer += ns\n",
    "    return answer"
   ]
  },
  {
   "cell_type": "code",
   "execution_count": 87,
   "metadata": {},
   "outputs": [
    {
     "name": "stdout",
     "output_type": "stream",
     "text": [
      "2 6\n",
      "0 2\n"
     ]
    },
    {
     "data": {
      "text/plain": [
       "[1, 3, 2, 4]"
      ]
     },
     "execution_count": 87,
     "metadata": {},
     "output_type": "execute_result"
    }
   ],
   "source": [
    "solution(4, 3)"
   ]
  },
  {
   "cell_type": "code",
   "execution_count": null,
   "metadata": {},
   "outputs": [],
   "source": []
  }
 ],
 "metadata": {
  "kernelspec": {
   "display_name": "Python 3",
   "language": "python",
   "name": "python3"
  },
  "language_info": {
   "codemirror_mode": {
    "name": "ipython",
    "version": 3
   },
   "file_extension": ".py",
   "mimetype": "text/x-python",
   "name": "python",
   "nbconvert_exporter": "python",
   "pygments_lexer": "ipython3",
   "version": "3.10.8"
  },
  "orig_nbformat": 4,
  "vscode": {
   "interpreter": {
    "hash": "1eaddad8910a63e993320c00f976674dd19739aa47ccb16e46e67145212d406a"
   }
  }
 },
 "nbformat": 4,
 "nbformat_minor": 2
}
