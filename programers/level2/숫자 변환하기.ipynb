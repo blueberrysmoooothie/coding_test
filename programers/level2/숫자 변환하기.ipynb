{
 "cells": [
  {
   "cell_type": "markdown",
   "metadata": {},
   "source": [
    "숫자 젼환하기\n",
    "---\n",
    "https://school.programmers.co.kr/learn/courses/30/lessons/154538"
   ]
  },
  {
   "cell_type": "code",
   "execution_count": null,
   "metadata": {},
   "outputs": [],
   "source": [
    "def solution(x, y, n):\n",
    "    def calc(tx, cnt=0):\n",
    "        if tx == y:\n",
    "            cnts.append(cnt)\n",
    "            return 0\n",
    "        elif tx >y:\n",
    "            return 0\n",
    "        cnt+=1\n",
    "        calc(tx*2, cnt)\n",
    "        calc(tx*3, cnt)\n",
    "        calc(tx+n, cnt)\n",
    "\n",
    "    if x == y:\n",
    "        return 0            \n",
    "\n",
    "    cnts = []\n",
    "    calc(x)\n",
    "    return min(cnts) if len(cnts) else -1"
   ]
  },
  {
   "cell_type": "code",
   "execution_count": 14,
   "metadata": {},
   "outputs": [],
   "source": [
    "def solution(x, y, n):\n",
    "    def calc(tx, cnt=0):\n",
    "        if tx == y:\n",
    "            cnts.append(cnt)\n",
    "            return 0\n",
    "        elif tx >y:\n",
    "            return 0\n",
    "        cnt+=1\n",
    "        calc(tx*2, cnt)\n",
    "        calc(tx*3, cnt)\n",
    "        calc(tx+n, cnt)\n",
    "\n",
    "    if x == y:\n",
    "        return 0            \n",
    "\n",
    "    cnts = []\n",
    "    calc(x)\n",
    "    return min(cnts) if len(cnts) else -1"
   ]
  },
  {
   "cell_type": "code",
   "execution_count": 20,
   "metadata": {},
   "outputs": [],
   "source": [
    "def solution(x, y, n):  \n",
    "    queue = [[y,0]]\n",
    "    for q, cnt in  queue:\n",
    "        if q == x:\n",
    "            return cnt\n",
    "        elif q<x:\n",
    "            continue\n",
    "        \n",
    "        if q%2 ==0 :\n",
    "            queue.append([q//2, cnt+1])\n",
    "        if q%3 ==0:\n",
    "            queue.append([q//3, cnt+1])\n",
    "            \n",
    "        queue.append([q-n, cnt+1])\n",
    "\n",
    "    return -1"
   ]
  },
  {
   "cell_type": "code",
   "execution_count": 21,
   "metadata": {},
   "outputs": [
    {
     "data": {
      "text/plain": [
       "2"
      ]
     },
     "execution_count": 21,
     "metadata": {},
     "output_type": "execute_result"
    }
   ],
   "source": [
    "solution(\t10, 40, 5)"
   ]
  },
  {
   "cell_type": "code",
   "execution_count": null,
   "metadata": {},
   "outputs": [],
   "source": []
  }
 ],
 "metadata": {
  "kernelspec": {
   "display_name": "Python 3",
   "language": "python",
   "name": "python3"
  },
  "language_info": {
   "codemirror_mode": {
    "name": "ipython",
    "version": 3
   },
   "file_extension": ".py",
   "mimetype": "text/x-python",
   "name": "python",
   "nbconvert_exporter": "python",
   "pygments_lexer": "ipython3",
   "version": "3.10.8"
  },
  "orig_nbformat": 4,
  "vscode": {
   "interpreter": {
    "hash": "1eaddad8910a63e993320c00f976674dd19739aa47ccb16e46e67145212d406a"
   }
  }
 },
 "nbformat": 4,
 "nbformat_minor": 2
}
