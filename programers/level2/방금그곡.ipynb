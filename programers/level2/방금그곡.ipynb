{
 "cells": [
  {
   "attachments": {},
   "cell_type": "markdown",
   "metadata": {},
   "source": [
    "방금그곡\n",
    "---\n",
    "https://school.programmers.co.kr/learn/courses/30/lessons/17683"
   ]
  },
  {
   "cell_type": "code",
   "execution_count": 24,
   "metadata": {},
   "outputs": [],
   "source": [
    "def solution(m, musicinfos):\n",
    "    result = []\n",
    "    for music in musicinfos:\n",
    "        start, end, name, melody = music.split(',')\n",
    "        melody += melody\n",
    "        while len(m)> len(melody):\n",
    "            melody += melody\n",
    "        if m in melody:\n",
    "            time_dif =60*(int(end[:2])- int(start[:2])) + (int(end[3:])- int(start[3:]))\n",
    "            result.append([time_dif, name])\n",
    "    result = sorted(result, key= lambda x:x[0],reverse = True)\n",
    "    try:\n",
    "        answer = result[0][1]\n",
    "        return answer\n",
    "    except:\n",
    "        return\"(None)\""
   ]
  },
  {
   "cell_type": "code",
   "execution_count": 18,
   "metadata": {},
   "outputs": [],
   "source": [
    "def solution(m, musicinfos):\n",
    "    result = []\n",
    "    while True:\n",
    "        try :\n",
    "            ind = m.index('#')\n",
    "            m= m[:ind-1]+m[ind-1].lower()+m[ind+1:]\n",
    "        except:\n",
    "            break\n",
    "\n",
    "    for music in musicinfos:\n",
    "        start, end, name, melody = music.split(',')\n",
    "        \n",
    "        while True:\n",
    "            try :\n",
    "                ind = melody.index('#')\n",
    "                melody= melody[:max(0,ind-1)]+melody[ind-1].lower()+melody[ind+1:]\n",
    "            except:\n",
    "                break\n",
    "        time_dif =60*(int(end[:2])- int(start[:2])) + (int(end[3:])- int(start[3:]))\n",
    "        \n",
    "\n",
    "        if time_dif//len(melody)<1:\n",
    "            c_melody = melody[:time_dif%len(melody)]\n",
    "        else:\n",
    "            c_melody = melody\n",
    "            while time_dif>=len(c_melody)+len(melody):\n",
    "                c_melody += melody\n",
    "\n",
    "            c_melody += melody[:time_dif%len(melody)]\n",
    "        if m in c_melody:\n",
    "            result.append([time_dif, name])\n",
    "        # print(start, end, name,melody, c_melody, time_dif, len(c_melody))\n",
    "    result = sorted(result, key= lambda x:x[0],reverse = True)\n",
    "    try:\n",
    "        answer = result[0][1]\n",
    "        return answer\n",
    "    except:\n",
    "        return\"(None)\""
   ]
  },
  {
   "cell_type": "code",
   "execution_count": 19,
   "metadata": {},
   "outputs": [
    {
     "data": {
      "text/plain": [
       "'WORLD'"
      ]
     },
     "execution_count": 19,
     "metadata": {},
     "output_type": "execute_result"
    }
   ],
   "source": [
    "solution(\"A#B\", [\"12:00,12:14,hello,B#A#\", \"13:00,13:05,WORLD,A#BF\"])"
   ]
  },
  {
   "cell_type": "code",
   "execution_count": 9,
   "metadata": {},
   "outputs": [
    {
     "name": "stdout",
     "output_type": "stream",
     "text": [
      "A#FFB#CDD\n",
      "aFFB#CDD\n",
      "aFFbCDD\n"
     ]
    }
   ],
   "source": [
    "m = 'A#FFB#CDD'\n",
    "while True:\n",
    "    print(m)\n",
    "    try :\n",
    "        ind = m.index('#')\n",
    "        m= m[:max(0,ind-1)]+m[ind-1].lower()+m[ind+1:]\n",
    "    except:\n",
    "        break"
   ]
  },
  {
   "cell_type": "code",
   "execution_count": null,
   "metadata": {},
   "outputs": [],
   "source": []
  }
 ],
 "metadata": {
  "kernelspec": {
   "display_name": "Python 3",
   "language": "python",
   "name": "python3"
  },
  "language_info": {
   "codemirror_mode": {
    "name": "ipython",
    "version": 3
   },
   "file_extension": ".py",
   "mimetype": "text/x-python",
   "name": "python",
   "nbconvert_exporter": "python",
   "pygments_lexer": "ipython3",
   "version": "3.10.8"
  },
  "orig_nbformat": 4,
  "vscode": {
   "interpreter": {
    "hash": "1eaddad8910a63e993320c00f976674dd19739aa47ccb16e46e67145212d406a"
   }
  }
 },
 "nbformat": 4,
 "nbformat_minor": 2
}
