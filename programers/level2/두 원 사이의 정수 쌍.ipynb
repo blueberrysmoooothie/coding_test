{
 "cells": [
  {
   "attachments": {},
   "cell_type": "markdown",
   "metadata": {},
   "source": [
    "### 두 원 사이의 정수 쌍\n",
    "---\n",
    "https://school.programmers.co.kr/learn/courses/30/lessons/181187"
   ]
  },
  {
   "cell_type": "code",
   "execution_count": 57,
   "metadata": {},
   "outputs": [],
   "source": [
    "def solution(r1, r2):\n",
    "    def cnt(r, on = True):\n",
    "        ans = 0\n",
    "        c = 0\n",
    "        max_ = (r*(2**(0.5)))//1\n",
    "        upp = (0.5*c) + ((2*(r**2) - c**2)**0.5)/2\n",
    "        low = (0.5*c) - ((2*(r**2) - c**2)**0.5)/2\n",
    "        if on:\n",
    "            ans += upp//1  - (low//1 + (1 if low%1 else 0) ) +1\n",
    "        else:\n",
    "            ans += upp//1 - (1 if upp%1==0 else 0)  - (low//1 + 1 ) +1\n",
    "\n",
    "        for c in range(1, int(max_)+1):\n",
    "            upp = (0.5*c) + ((2*(r**2) - c**2)**0.5)/2\n",
    "            low = (0.5*c) - ((2*(r**2) - c**2)**0.5)/2\n",
    "            if on:\n",
    "                ans += 2*(upp//1  - (low//1 + (1 if low%1 else 0) ) +1)\n",
    "            else:\n",
    "                ans += 2*(upp//1 - (1 if upp%1==0 else 0)  - (low//1 + 1 ) +1)\n",
    "            c+=1\n",
    "        return ans\n",
    "    answer =cnt(r2)- cnt (r1, False)\n",
    "    return answer"
   ]
  },
  {
   "cell_type": "code",
   "execution_count": 58,
   "metadata": {},
   "outputs": [
    {
     "name": "stdout",
     "output_type": "stream",
     "text": [
      "5.0\n",
      "4.0\n",
      "3.0\n",
      "4.0\n",
      "1.0\n",
      "3.0\n",
      "2.0\n",
      "1.0\n"
     ]
    },
    {
     "data": {
      "text/plain": [
       "20.0"
      ]
     },
     "execution_count": 58,
     "metadata": {},
     "output_type": "execute_result"
    }
   ],
   "source": [
    "solution(2,3)"
   ]
  },
  {
   "cell_type": "code",
   "execution_count": 52,
   "metadata": {},
   "outputs": [
    {
     "name": "stdout",
     "output_type": "stream",
     "text": [
      "-1.0\n",
      "-1.0\n",
      "-1\n",
      "1.0\n",
      "1.0\n",
      "1 0\n"
     ]
    }
   ],
   "source": [
    "import numpy  as np\n",
    "print(np.floor(-1))\n",
    "print(np.ceil(-1))\n",
    "print((-1)//1)\n",
    "print(np.floor(1))\n",
    "print(np.ceil(1))\n",
    "print((1)//1, 1 %1)\n"
   ]
  },
  {
   "cell_type": "code",
   "execution_count": 54,
   "metadata": {},
   "outputs": [
    {
     "name": "stdout",
     "output_type": "stream",
     "text": [
      "5.0\n",
      "4.0\n",
      "3.0\n",
      "4.0\n",
      "1.0\n"
     ]
    },
    {
     "data": {
      "text/plain": [
       "29.0"
      ]
     },
     "execution_count": 54,
     "metadata": {},
     "output_type": "execute_result"
    }
   ],
   "source": [
    "\n",
    "ans = 0\n",
    "c = 0\n",
    "\n",
    "r= 3\n",
    "max_ = (r*(2**(0.5)))//1\n",
    "upp = (0.5*c) + ((2*(r**2) - c**2)**0.5)/2\n",
    "low = (0.5*c) - ((2*(r**2) - c**2)**0.5)/2\n",
    "print(upp//1  - (low//1 + (1 if low%1 else 0) ) +1)\n",
    "ans += upp//1  - (low//1 + (1 if low%1 else 0) ) +1\n",
    "\n",
    "for c in range(1, int(max_)+1):\n",
    "    upp = (0.5*c) + ((2*(r**2) - c**2)**0.5)/2\n",
    "    low = (0.5*c) - ((2*(r**2) - c**2)**0.5)/2\n",
    "    print(upp//1  - (low//1 + (1 if low%1 else 0) ) +1)\n",
    "    ans += 2*(upp//1  - (low//1 + (1 if low%1 else 0) ) +1)\n",
    "    c+=1\n",
    "ans"
   ]
  },
  {
   "attachments": {},
   "cell_type": "markdown",
   "metadata": {},
   "source": [
    "b = -a +c  \n",
    "a^2 + b^2 <= r^2  \n",
    "2 a^2 -2 ac + c^2 <= r^2  \n",
    "a^2 - ac <= (r^2-c^2)/2  \n",
    "(a-0.5c)^2 <= -1/4 c^2 + r^2 / 2  \n",
    "\n",
    "((2 r^2 - c^2)^0.5)/2\n"
   ]
  }
 ],
 "metadata": {
  "kernelspec": {
   "display_name": "Python 3",
   "language": "python",
   "name": "python3"
  },
  "language_info": {
   "codemirror_mode": {
    "name": "ipython",
    "version": 3
   },
   "file_extension": ".py",
   "mimetype": "text/x-python",
   "name": "python",
   "nbconvert_exporter": "python",
   "pygments_lexer": "ipython3",
   "version": "3.11.2"
  },
  "orig_nbformat": 4
 },
 "nbformat": 4,
 "nbformat_minor": 2
}
