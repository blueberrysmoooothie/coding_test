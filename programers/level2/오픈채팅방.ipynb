{
 "cells": [
  {
   "cell_type": "markdown",
   "id": "9fbe1122",
   "metadata": {},
   "source": [
    "오픈채팅방\n",
    "https://school.programmers.co.kr/learn/courses/30/lessons/42888?language=python3"
   ]
  },
  {
   "cell_type": "code",
   "execution_count": 1,
   "id": "bccee1d0",
   "metadata": {},
   "outputs": [],
   "source": [
    "input1 = [\"Enter uid1234 Muzi\", \"Enter uid4567 Prodo\",\"Leave uid1234\",\"Enter uid1234 Prodo\",\"Change uid4567 Ryan\"]"
   ]
  },
  {
   "cell_type": "code",
   "execution_count": 15,
   "id": "7f3c15bf",
   "metadata": {},
   "outputs": [],
   "source": [
    "def solution(record):\n",
    "    result = []\n",
    "    user_dict = {}\n",
    "    for act in record :\n",
    "        s_act = act.split()\n",
    "        if s_act[0] == 'Enter':\n",
    "            act_type, Id, nickname = s_act\n",
    "            result.append([Id, 1])\n",
    "            user_dict[Id] = nickname\n",
    "        elif s_act[0] == 'Leave':\n",
    "            act_type, Id, = s_act\n",
    "            result.append([Id, 0])\n",
    "        else:\n",
    "            act_type, Id, nickname = s_act\n",
    "            user_dict[Id] = nickname\n",
    "    \n",
    "    print_s = ['님이 나갔습니다.', '님이 들어왔습니다.']\n",
    "    result = [ user_dict[Id] + print_s[way] for Id, way in result]\n",
    "    return(result)"
   ]
  },
  {
   "cell_type": "code",
   "execution_count": 16,
   "id": "fcac36a8",
   "metadata": {},
   "outputs": [
    {
     "name": "stdout",
     "output_type": "stream",
     "text": [
      "['Prodo님이 들어왔습니다.', 'Ryan님이 들어왔습니다.', 'Prodo님이 나갔습니다.', 'Prodo님이 들어왔습니다.']\n"
     ]
    }
   ],
   "source": [
    "solution(input1)"
   ]
  },
  {
   "cell_type": "code",
   "execution_count": null,
   "id": "3137cb3c",
   "metadata": {},
   "outputs": [],
   "source": []
  }
 ],
 "metadata": {
  "kernelspec": {
   "display_name": "Python 3 (ipykernel)",
   "language": "python",
   "name": "python3"
  },
  "language_info": {
   "codemirror_mode": {
    "name": "ipython",
    "version": 3
   },
   "file_extension": ".py",
   "mimetype": "text/x-python",
   "name": "python",
   "nbconvert_exporter": "python",
   "pygments_lexer": "ipython3",
   "version": "3.9.12"
  }
 },
 "nbformat": 4,
 "nbformat_minor": 5
}
