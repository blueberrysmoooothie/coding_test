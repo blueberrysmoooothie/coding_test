{
 "cells": [
  {
   "cell_type": "markdown",
   "metadata": {},
   "source": [
    "### 도넛과 막대 그래프\n",
    "---\n",
    "https://school.programmers.co.kr/learn/courses/30/lessons/258711"
   ]
  },
  {
   "cell_type": "markdown",
   "metadata": {},
   "source": [
    "1. 한 노드에서 dfs 하는데 들어오는거랑 나가는거 따로 고려\n",
    "2. 들어오는건 없고 나가는거만 있는 노드 확인\n",
    "3. 전체 그룹 수 파악해서 겹치는거 찾으면 되겠네"
   ]
  },
  {
   "cell_type": "code",
   "execution_count": null,
   "metadata": {},
   "outputs": [],
   "source": [
    "class Node():\n",
    "    def __init__(self, index):\n",
    "        self.index = index\n",
    "        self.edge_to = []\n",
    "        self.edge_from = []\n",
    "\n",
    "def solution(edges):\n",
    "    def dfs(index):\n",
    "        grouped[i-1] = True\n",
    "        for j in nodes[index-1].edge_to:\n",
    "            if j not in visited:\n",
    "                visited.append(j)\n",
    "                dfs(j)\n",
    "        for j in nodes[index-1].edge_from:\n",
    "            if j not in visited:\n",
    "                visited.append(j)\n",
    "                dfs(j)\n",
    "\n",
    "\n",
    "\n",
    "    n_node = max([max(e)for e in edges])\n",
    "    nodes = [Node(i) for i in range(1, n_node+1)]\n",
    "    for i, j in edges:\n",
    "        nodes[i-1].edge_to.append(j)\n",
    "        nodes[j-1].edge_from.append(i)\n",
    "    answer = []\n",
    "    groups = []\n",
    "    grouped = [False for i in range(n_node)]\n",
    "    for i in range(1, n_node+1):\n",
    "        if grouped[i-1]:\n",
    "            continue\n",
    "\n",
    "        visited = [i]\n",
    "        dfs(i)\n",
    "        \n",
    "\n",
    "        groups.apped(visited)\n",
    "        \n",
    "    print(groups)\n",
    "\n",
    "\n",
    "\n",
    "\n",
    "\n",
    "\n",
    "\n",
    "    return answer"
   ]
  },
  {
   "cell_type": "code",
   "execution_count": null,
   "metadata": {},
   "outputs": [],
   "source": []
  }
 ],
 "metadata": {
  "kernelspec": {
   "display_name": "Python 3",
   "language": "python",
   "name": "python3"
  },
  "language_info": {
   "name": "python",
   "version": "3.10.11"
  }
 },
 "nbformat": 4,
 "nbformat_minor": 2
}
