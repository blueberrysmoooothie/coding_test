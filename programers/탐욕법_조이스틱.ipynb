{
 "cells": [
  {
   "cell_type": "markdown",
   "id": "802cd58a",
   "metadata": {},
   "source": [
    "탐욕법(Greedy)\n",
    "조이스틱  \n",
    "  \n",
    "  https://school.programmers.co.kr/learn/courses/30/lessons/42860#"
   ]
  },
  {
   "cell_type": "code",
   "execution_count": null,
   "id": "ad97aecf",
   "metadata": {},
   "outputs": [],
   "source": [
    "alp = list('ABCDEFGHIJKLMNOPQRSTUVWXYZ')\n",
    "def get_min_chg(alpha):\n",
    "    if alpha == 'a':\n",
    "        return 0\n",
    "    c = alp.index(alpha)\n",
    "    return min(c, 26-c)\n",
    "\n",
    "def find_max_a(name):\n",
    "    alp_list = list(name+name)\n",
    "    max_cnt = 0\n",
    "    cnt = 0\n",
    "    start_A, end_A = -1,-1\n",
    "    for i in range(len(alp_list)):\n",
    "        c = alp_list[i]\n",
    "        if c!='A':\n",
    "            if max_cnt < cnt:\n",
    "                max_cnt = cnt\n",
    "                end_A = (i-1)%len(name)\n",
    "                start_A = ((i-1)-max_cnt+1)%len(name)\n",
    "            cnt = 0\n",
    "                \n",
    "        else :\n",
    "            cnt += 1\n",
    "\n",
    "    return max_cnt, start_A, end_A\n",
    "def solution(name):\n",
    "    c_list = [get_min_chg(alpha) for alpha in list(name)]\n",
    "\n",
    "    max_cnt, start_A, end_A = find_max_a(name)\n",
    "    answer = 0\n",
    "    if sum(c_list) == 0:\n",
    "        return answer\n",
    "    \n",
    "    elif max_cnt ==0:\n",
    "        answer = len(name) -1 + sum(c_list)\n",
    "        \n",
    "    elif start_A <= end_A:\n",
    "        answer = len(name) - max_cnt -1 + min(min(start_A-1, len(name)-end_A-1),max_cnt)+ sum(c_list)\n",
    "        pass\n",
    "    else:\n",
    "        answer = len(name) - max_cnt + min(end_A,len(name)-start_A)+ sum(c_list)\n",
    "        \n",
    "    \n",
    "        \n",
    "        \n",
    "    return answer"
   ]
  }
 ],
 "metadata": {
  "kernelspec": {
   "display_name": "Python 3 (ipykernel)",
   "language": "python",
   "name": "python3"
  },
  "language_info": {
   "codemirror_mode": {
    "name": "ipython",
    "version": 3
   },
   "file_extension": ".py",
   "mimetype": "text/x-python",
   "name": "python",
   "nbconvert_exporter": "python",
   "pygments_lexer": "ipython3",
   "version": "3.9.12"
  }
 },
 "nbformat": 4,
 "nbformat_minor": 5
}
