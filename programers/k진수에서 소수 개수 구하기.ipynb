{
 "cells": [
  {
   "cell_type": "markdown",
   "id": "617757af",
   "metadata": {},
   "source": [
    "k진수에서 소수 개수 구하기\n",
    "- https://school.programmers.co.kr/learn/courses/30/lessons/92335"
   ]
  },
  {
   "cell_type": "code",
   "execution_count": 39,
   "id": "d84d9859",
   "metadata": {},
   "outputs": [],
   "source": [
    "import re\n",
    "output_list = list('0123456789')\n",
    "# 진수 변환\n",
    "def change_num(num, k):\n",
    "    c_num = ''\n",
    "    c_k = k\n",
    "    while num >= c_k:\n",
    "        c_k = c_k * k\n",
    "    while c_k >= k:\n",
    "        c_k = c_k / k\n",
    "        c_num += output_list[(int(num//c_k))]\n",
    "        num = int(num % c_k)\n",
    "    return c_num\n",
    "\n",
    "# 정규식 분리\n",
    "def find_p(c_num):\n",
    "    # print(c_num)\n",
    "    regex = re.compile('[1-9]+')\n",
    "    m = regex.findall(c_num)\n",
    "    return m\n",
    "\n",
    "import numpy as np\n",
    "# 소수확인\n",
    "def is_prime(num):\n",
    "    if num <2:\n",
    "        return False\n",
    "    for i in range(2,int(np.sqrt(num))+1):\n",
    "        if num%i ==0:\n",
    "            return False\n",
    "    return True\n",
    "    \n",
    "    return False\n",
    "def solution(n, k):\n",
    "    answer = 0\n",
    "    c_num = change_num(n, k)\n",
    "    ps = find_p(c_num)\n",
    "    for p in ps:\n",
    "        answer+= is_prime(int(p))\n",
    "\n",
    "    return answer"
   ]
  },
  {
   "cell_type": "code",
   "execution_count": 40,
   "id": "f1c020c6",
   "metadata": {},
   "outputs": [
    {
     "data": {
      "text/plain": [
       "1"
      ]
     },
     "execution_count": 40,
     "metadata": {},
     "output_type": "execute_result"
    }
   ],
   "source": [
    "solution(437674, 5)"
   ]
  },
  {
   "cell_type": "code",
   "execution_count": null,
   "id": "6c6dc67e",
   "metadata": {},
   "outputs": [],
   "source": []
  }
 ],
 "metadata": {
  "kernelspec": {
   "display_name": "Python 3 (ipykernel)",
   "language": "python",
   "name": "python3"
  },
  "language_info": {
   "codemirror_mode": {
    "name": "ipython",
    "version": 3
   },
   "file_extension": ".py",
   "mimetype": "text/x-python",
   "name": "python",
   "nbconvert_exporter": "python",
   "pygments_lexer": "ipython3",
   "version": "3.9.12"
  }
 },
 "nbformat": 4,
 "nbformat_minor": 5
}
