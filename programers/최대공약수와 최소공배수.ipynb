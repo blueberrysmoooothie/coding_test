{
 "cells": [
  {
   "cell_type": "code",
   "execution_count": 5,
   "metadata": {},
   "outputs": [],
   "source": [
    "def get_div(num):\n",
    "    div_dict = {1:1}\n",
    "    while num !=1:\n",
    "        div_num = 2\n",
    "        while True:\n",
    "            if num % div_num == 0:\n",
    "                num /= div_num\n",
    "                if div_num in div_dict.keys():\n",
    "                    div_dict[div_num]+=1\n",
    "                else:\n",
    "                    div_dict[div_num]=1\n",
    "                break\n",
    "            div_num += 1\n",
    "    \n",
    "    return div_dict\n",
    "    \n",
    "def solution(n, m):\n",
    "    n_div = get_div(n)\n",
    "    m_div = get_div(m)\n",
    "    inter = list(set(n_div.keys()) & set(m_div.keys()))\n",
    "    union = list(set(n_div.keys()) | set(m_div.keys()))\n",
    "    \n",
    "    gcd = 1\n",
    "    for k in  inter:\n",
    "        gcd *= k**(min(n_div[k], m_div[k]))\n",
    "    \n",
    "    lcm = 1\n",
    "    for k in  union:\n",
    "        if k not in n_div.keys():\n",
    "                    n_div[k]=0\n",
    "        if k not in m_div.keys():\n",
    "                    m_div[k]=0\n",
    "        lcm *= k**(max(n_div[k], m_div[k]))\n",
    "    \n",
    "    \n",
    "    return [gcd, lcm]"
   ]
  },
  {
   "cell_type": "code",
   "execution_count": 6,
   "metadata": {},
   "outputs": [
    {
     "data": {
      "text/plain": [
       "[5, 120]"
      ]
     },
     "execution_count": 6,
     "metadata": {},
     "output_type": "execute_result"
    }
   ],
   "source": [
    "solution(15,40)"
   ]
  }
 ],
 "metadata": {
  "kernelspec": {
   "display_name": "Python 3.8.10 64-bit",
   "language": "python",
   "name": "python3"
  },
  "language_info": {
   "codemirror_mode": {
    "name": "ipython",
    "version": 3
   },
   "file_extension": ".py",
   "mimetype": "text/x-python",
   "name": "python",
   "nbconvert_exporter": "python",
   "pygments_lexer": "ipython3",
   "version": "3.8.10"
  },
  "orig_nbformat": 4,
  "vscode": {
   "interpreter": {
    "hash": "761f0ed58ed03a7b8d407c7a2163809381c449da5ceb88951a1a7dc71180eff3"
   }
  }
 },
 "nbformat": 4,
 "nbformat_minor": 2
}
