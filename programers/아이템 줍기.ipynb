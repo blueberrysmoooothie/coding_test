{
 "cells": [
  {
   "cell_type": "markdown",
   "id": "7008586a",
   "metadata": {},
   "source": [
    "#### 아이템 줍기\n",
    "---\n",
    "https://school.programmers.co.kr/learn/courses/30/lessons/87694"
   ]
  },
  {
   "cell_type": "code",
   "execution_count": 68,
   "id": "27251d82",
   "metadata": {},
   "outputs": [],
   "source": [
    "def find_map_size(rectangle):\n",
    "    sx, sy, ex, ey  = 50, 50, 0, 0\n",
    "    for rec in rectangle:\n",
    "        min_r_x, max_r_x = rec[0], rec[2]\n",
    "        min_r_y, max_r_y = rec[1], rec[3]\n",
    "        \n",
    "        if min_r_x< sx:\n",
    "            sx = min_r_x\n",
    "        if max_r_x> ex:\n",
    "            ex = max_r_x\n",
    "        if min_r_y< sy:\n",
    "            sy = min_r_y\n",
    "        if max_r_y> ey:\n",
    "            ey = max_r_y\n",
    "    return sx, sy, ex, ey\n",
    "                \n",
    "def draw_map(rectangle, game_map, sx, sy, ex, ey):\n",
    "    for rec in rectangle:\n",
    "        for x in range(rec[2]-rec[0]):\n",
    "            for y in range(rec[3]-rec[1]):\n",
    "                game_map[rec[1]-sy+y][rec[0]-sx+x] = 1\n",
    "\n",
    "    return game_map\n",
    "    \n",
    "def find_way(game_map, characterX, characterY): \n",
    "    blocks = [0,0,0,0]\n",
    "    if characterX !=0:\n",
    "        if characterY !=0:\n",
    "            blocks[0] = game_map[characterY-1][characterX-1]\n",
    "        if characterY !=len(game_map):    \n",
    "            blocks[2] = game_map[characterY][characterX-1]\n",
    "    if characterX !=len(game_map[0]):\n",
    "        if characterY !=0:\n",
    "            blocks[1] = game_map[characterY-1][characterX]\n",
    "        if characterY !=len(game_map):\n",
    "            blocks[3] = game_map[characterY][characterX]     \n",
    "    \n",
    "    ways = []\n",
    "    if blocks[0] + blocks[1] == 1:\n",
    "        ways.append('up')\n",
    "    if blocks[0] + blocks[2] == 1:\n",
    "        ways.append('left')\n",
    "    if blocks[1] + blocks[3] == 1:\n",
    "        ways.append('right')\n",
    "    if blocks[2] + blocks[3] == 1:\n",
    "        ways.append('down')\n",
    "    \n",
    "    return ways\n",
    "    \n",
    "def move_char(way, characterX, characterY):\n",
    "    if way == 'up':\n",
    "        characterY = characterY -1\n",
    "    elif way == 'left':\n",
    "        characterX = characterX -1\n",
    "    elif way == 'right':\n",
    "        characterX = characterX +1\n",
    "    else:\n",
    "        characterY = characterY +1\n",
    "    return characterX, characterY\n",
    "      \n",
    "def test_print(path_map):\n",
    "    for l in path_map:\n",
    "        print(l)\n",
    "\n",
    "def draw_path(path_map, game_map, characterX, characterY, itemX, itemY):\n",
    "    path_length = 0\n",
    "    item_length=0\n",
    "    path_map[characterY][characterX] = 1\n",
    "    way = find_way(game_map, characterX, characterY)[0]\n",
    "    while True:\n",
    "#         print(characterX, characterY)\n",
    "#         test_print(path_map)\n",
    "#         print('-------\\n\\n')\n",
    "        characterX, characterY = move_char(way, characterX, characterY)\n",
    "        path_map[characterY][characterX] = 1\n",
    "        path_length += 1\n",
    "        if characterX ==itemX and characterY ==itemY:\n",
    "            item_length = path_length\n",
    "        \n",
    "        ways = find_way(game_map, characterX, characterY)\n",
    "        for w in ways:\n",
    "            \n",
    "            next_X, next_Y = move_char(w, characterX, characterY)\n",
    "            if path_map[next_Y][next_X] !=1:\n",
    "                way = w\n",
    "                break;\n",
    "            if w == ways[-1]:\n",
    "                if path_length - item_length <item_length:\n",
    "                    item_length = path_length - item_length+1\n",
    "\n",
    "                return item_length\n",
    "\n",
    "def solution(rectangle, characterX, characterY, itemX, itemY):\n",
    "    sx, sy, ex, ey = find_map_size(rectangle)\n",
    "    game_map = [[0]*(ex-sx) for i in range(ey-sy)]\n",
    "    game_map = draw_map(rectangle, game_map, sx, sy, ex, ey)\n",
    "    \n",
    "    characterX, characterY = characterX - sx, characterY- sy\n",
    "    itemX, itemY = itemX - sx, itemY- sy\n",
    "    \n",
    "    path_map = [[0]*(ex-sx+1) for i in range(ey-sy+1)]\n",
    "    \n",
    "    result = draw_path(path_map, game_map, characterX, characterY, itemX, itemY)\n",
    "    return result"
   ]
  },
  {
   "cell_type": "code",
   "execution_count": 69,
   "id": "2bcb61e8",
   "metadata": {},
   "outputs": [
    {
     "data": {
      "text/plain": [
       "17"
      ]
     },
     "execution_count": 69,
     "metadata": {},
     "output_type": "execute_result"
    }
   ],
   "source": [
    "solution([[1, 1, 7, 4], [3, 2, 5, 5], [4, 3, 6, 9], [2, 6, 8, 8]], 1, 3, 7, 8)"
   ]
  },
  {
   "cell_type": "code",
   "execution_count": null,
   "id": "f7899cc5",
   "metadata": {},
   "outputs": [],
   "source": []
  }
 ],
 "metadata": {
  "kernelspec": {
   "display_name": "Python 3 (ipykernel)",
   "language": "python",
   "name": "python3"
  },
  "language_info": {
   "codemirror_mode": {
    "name": "ipython",
    "version": 3
   },
   "file_extension": ".py",
   "mimetype": "text/x-python",
   "name": "python",
   "nbconvert_exporter": "python",
   "pygments_lexer": "ipython3",
   "version": "3.9.12"
  }
 },
 "nbformat": 4,
 "nbformat_minor": 5
}
