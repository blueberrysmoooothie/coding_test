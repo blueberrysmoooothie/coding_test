{
 "cells": [
  {
   "attachments": {},
   "cell_type": "markdown",
   "metadata": {},
   "source": [
    "자동완성\n",
    "---\n",
    "https://school.programmers.co.kr/learn/courses/30/lessons/17685"
   ]
  },
  {
   "cell_type": "code",
   "execution_count": 62,
   "metadata": {},
   "outputs": [],
   "source": [
    "def solution(words):\n",
    "    dictionary = {}\n",
    "    for word in words:\n",
    "        word = word+'$'\n",
    "        for i in range(len(word)-1):\n",
    "            try:\n",
    "                if word[i+1] not in dictionary[(i, word[i])]:\n",
    "                    dictionary[(i, word[i])].append(word[i+1])\n",
    "            except:\n",
    "                dictionary[(i, word[i])] = [word[i+1]]\n",
    "\n",
    "        \n",
    "\n",
    "    print(dictionary)\n",
    "\n",
    "\n",
    "    answer = 0\n",
    "    for word in words:\n",
    "        print(word)\n",
    "        l = len(word)\n",
    "        if len(dictionary[(l-1,word[-1])]) >1:\n",
    "            answer += l\n",
    "            print(l)\n",
    "            continue\n",
    "        for i in range(len(word)-2,-1,-1):\n",
    "            if len(dictionary[(i,word[i])]) ==1:\n",
    "                l-=1\n",
    "            else: break\n",
    "        print(f'{word[:l]} 까지 입력')\n",
    "\n",
    "        answer +=l\n",
    "\n",
    "    return answer"
   ]
  },
  {
   "cell_type": "code",
   "execution_count": null,
   "metadata": {},
   "outputs": [],
   "source": [
    "def solution(words):\n",
    "    words = sorted(words)\n",
    "    print(words)\n",
    "    dictionary = {}\n",
    "    for word in words:\n",
    "        word = word+'$'\n",
    "        i = len(word)-2\n",
    "\n",
    "        while i >=0:\n",
    "            value = word[i+1:]\n",
    "            try:\n",
    "                if value in dictionary[word[i]]\n",
    "\n",
    "            except:\n",
    "                pass\n",
    "            \n",
    "            \n",
    "        \n",
    "        print(word)\n",
    "\n",
    "        \n",
    "\n",
    "    # print(dictionary)\n",
    "\n",
    "\n",
    "    answer = 0\n",
    "    # for word in words:\n",
    "    #     # print(word)\n",
    "    #     l = len(word)\n",
    "    #     if len(dictionary[word]) >1:\n",
    "    #         answer += l\n",
    "    #         # print(l)\n",
    "    #         continue\n",
    "    #     for i in range(len(word)-2,-1,-1):\n",
    "    #         if len(dictionary[word[:i+1]]) ==1:\n",
    "    #             l-=1\n",
    "    #         else: break\n",
    "    #     # print(f'{word[:l]} 까지 입력')\n",
    "\n",
    "    #     answer +=l\n",
    "\n",
    "    return answer"
   ]
  },
  {
   "cell_type": "code",
   "execution_count": 7,
   "metadata": {},
   "outputs": [],
   "source": [
    "class node:\n",
    "    def __init__(self, parent, word = None):\n",
    "        self.parent = parent\n",
    "        self.word = word\n",
    "        self.child = {}\n",
    "class trie:\n",
    "    def __init__(self, words):\n",
    "        self.head = node('')\n",
    "        self.add_nodes(words)\n",
    "\n",
    "    def add_nodes(self, words):\n",
    "        for word in words:\n",
    "            curr_node = self.head\n",
    "            for c in word:\n",
    "                if c not in curr_node.child:\n",
    "                    curr_node.child[c] = node(c)\n",
    "                curr_node= curr_node.child[c]\n",
    "            curr_node.word = word\n",
    "\n",
    "        print([[k, v.word]for k, v in self.head.child.items()])\n",
    "\n",
    "\n"
   ]
  },
  {
   "cell_type": "code",
   "execution_count": 63,
   "metadata": {},
   "outputs": [],
   "source": [
    "class trie():\n",
    "    def __init__(self) -> None:\n",
    "        self.next = {}\n",
    "        self.value = 0\n",
    "\n",
    "def solution(words):\n",
    "    tree = trie()\n",
    "    \n",
    "    for word in words:\n",
    "        subtree = tree\n",
    "        for i, c in enumerate(word):\n",
    "            subtree.value += 1\n",
    "            if c not in subtree.next:\n",
    "                subtree.next[c] = trie()\n",
    "\n",
    "            subtree = subtree.next[c]\n",
    "            \n",
    "            if i == len(word)-1:\n",
    "                subtree.value +=1\n",
    "            \n",
    "    answer = 0\n",
    "    for word in words:\n",
    "        subtree = tree\n",
    "        count = 0\n",
    "\n",
    "        for i, c in enumerate(word):\n",
    "            # print(subtree.value, subtree.next)  \n",
    "            if subtree.value ==1:\n",
    "                answer+=count\n",
    "                break\n",
    "            if i == len(word)-1:\n",
    "                answer+=count +1\n",
    "                break\n",
    "            subtree = subtree.next[c]\n",
    "            count +=1\n",
    "\n",
    "\n",
    "    return answer"
   ]
  },
  {
   "cell_type": "code",
   "execution_count": 64,
   "metadata": {},
   "outputs": [
    {
     "data": {
      "text/plain": [
       "7"
      ]
     },
     "execution_count": 64,
     "metadata": {},
     "output_type": "execute_result"
    }
   ],
   "source": [
    "solution(\t[\"aa\",\n",
    "\"aab\",\n",
    "\"abb\"])"
   ]
  }
 ],
 "metadata": {
  "kernelspec": {
   "display_name": "Python 3",
   "language": "python",
   "name": "python3"
  },
  "language_info": {
   "codemirror_mode": {
    "name": "ipython",
    "version": 3
   },
   "file_extension": ".py",
   "mimetype": "text/x-python",
   "name": "python",
   "nbconvert_exporter": "python",
   "pygments_lexer": "ipython3",
   "version": "3.10.8"
  },
  "orig_nbformat": 4
 },
 "nbformat": 4,
 "nbformat_minor": 2
}
