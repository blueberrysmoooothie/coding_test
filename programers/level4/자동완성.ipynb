{
 "cells": [
  {
   "attachments": {},
   "cell_type": "markdown",
   "metadata": {},
   "source": [
    "자동완성\n",
    "---\n",
    "https://school.programmers.co.kr/learn/courses/30/lessons/17685"
   ]
  },
  {
   "cell_type": "code",
   "execution_count": 62,
   "metadata": {},
   "outputs": [],
   "source": [
    "def solution(words):\n",
    "    dictionary = {}\n",
    "    for word in words:\n",
    "        word = word+'$'\n",
    "        for i in range(len(word)-1):\n",
    "            try:\n",
    "                if word[i+1] not in dictionary[(i, word[i])]:\n",
    "                    dictionary[(i, word[i])].append(word[i+1])\n",
    "            except:\n",
    "                dictionary[(i, word[i])] = [word[i+1]]\n",
    "\n",
    "        \n",
    "\n",
    "    print(dictionary)\n",
    "\n",
    "\n",
    "    answer = 0\n",
    "    for word in words:\n",
    "        print(word)\n",
    "        l = len(word)\n",
    "        if len(dictionary[(l-1,word[-1])]) >1:\n",
    "            answer += l\n",
    "            print(l)\n",
    "            continue\n",
    "        for i in range(len(word)-2,-1,-1):\n",
    "            if len(dictionary[(i,word[i])]) ==1:\n",
    "                l-=1\n",
    "            else: break\n",
    "        print(f'{word[:l]} 까지 입력')\n",
    "\n",
    "        answer +=l\n",
    "\n",
    "    return answer"
   ]
  },
  {
   "cell_type": "code",
   "execution_count": null,
   "metadata": {},
   "outputs": [],
   "source": []
  },
  {
   "cell_type": "code",
   "execution_count": null,
   "metadata": {},
   "outputs": [],
   "source": [
    "def solution(words):\n",
    "    words = sorted(words)\n",
    "    print(words)\n",
    "    dictionary = {}\n",
    "    for word in words:\n",
    "        word = word+'$'\n",
    "        i = len(word)-2\n",
    "\n",
    "        while i >=0:\n",
    "            value = word[i+1:]\n",
    "            try:\n",
    "                if value in dictionary[word[i]]\n",
    "\n",
    "            except:\n",
    "                pass\n",
    "            \n",
    "            \n",
    "        \n",
    "        print(word)\n",
    "\n",
    "        \n",
    "\n",
    "    # print(dictionary)\n",
    "\n",
    "\n",
    "    answer = 0\n",
    "    # for word in words:\n",
    "    #     # print(word)\n",
    "    #     l = len(word)\n",
    "    #     if len(dictionary[word]) >1:\n",
    "    #         answer += l\n",
    "    #         # print(l)\n",
    "    #         continue\n",
    "    #     for i in range(len(word)-2,-1,-1):\n",
    "    #         if len(dictionary[word[:i+1]]) ==1:\n",
    "    #             l-=1\n",
    "    #         else: break\n",
    "    #     # print(f'{word[:l]} 까지 입력')\n",
    "\n",
    "    #     answer +=l\n",
    "\n",
    "    return answer"
   ]
  },
  {
   "cell_type": "code",
   "execution_count": 94,
   "metadata": {},
   "outputs": [],
   "source": [
    "def solution(words):\n",
    "    words = sorted(words)\n",
    "    print(words)\n",
    "    dictionary = {}\n",
    "    for word in words:\n",
    "        word = word+'$'\n",
    "        i = len(word)-2\n",
    "\n",
    "        while i >=0:\n",
    "            value = word[i+1:]\n",
    "            try:\n",
    "                if value in dictionary[word[i]]\n",
    "\n",
    "            except:\n",
    "                pass\n",
    "            \n",
    "            \n",
    "        \n",
    "        print(word)\n",
    "\n",
    "        \n",
    "\n",
    "    # print(dictionary)\n",
    "\n",
    "\n",
    "    answer = 0\n",
    "    # for word in words:\n",
    "    #     # print(word)\n",
    "    #     l = len(word)\n",
    "    #     if len(dictionary[word]) >1:\n",
    "    #         answer += l\n",
    "    #         # print(l)\n",
    "    #         continue\n",
    "    #     for i in range(len(word)-2,-1,-1):\n",
    "    #         if len(dictionary[word[:i+1]]) ==1:\n",
    "    #             l-=1\n",
    "    #         else: break\n",
    "    #     # print(f'{word[:l]} 까지 입력')\n",
    "\n",
    "    #     answer +=l\n",
    "\n",
    "    return answer"
   ]
  },
  {
   "cell_type": "code",
   "execution_count": 95,
   "metadata": {},
   "outputs": [
    {
     "name": "stdout",
     "output_type": "stream",
     "text": [
      "['a', 'bo', 'd']\n",
      "a$\n",
      "bo$\n",
      "d$\n"
     ]
    },
    {
     "data": {
      "text/plain": [
       "0"
      ]
     },
     "execution_count": 95,
     "metadata": {},
     "output_type": "execute_result"
    }
   ],
   "source": [
    "solution([\"a\", \"d\", \"bo\"])"
   ]
  },
  {
   "cell_type": "code",
   "execution_count": 93,
   "metadata": {},
   "outputs": [],
   "source": [
    "def solution(words):\n",
    "    answer = 0\n",
    "    max_len = max(map(len, words))\n",
    "    dp = []\n",
    "    for i in range(max_len):\n",
    "        temp = []\n",
    "        for w in words:\n",
    "            try:\n",
    "                w[i]\n",
    "                \n",
    "                temp.append(w[:i+1])\n",
    "            except:\n",
    "                continue\n",
    "        \n",
    "        print(temp)\n",
    "\n",
    "    return answer"
   ]
  },
  {
   "cell_type": "code",
   "execution_count": null,
   "metadata": {},
   "outputs": [],
   "source": []
  }
 ],
 "metadata": {
  "kernelspec": {
   "display_name": "Python 3",
   "language": "python",
   "name": "python3"
  },
  "language_info": {
   "codemirror_mode": {
    "name": "ipython",
    "version": 3
   },
   "file_extension": ".py",
   "mimetype": "text/x-python",
   "name": "python",
   "nbconvert_exporter": "python",
   "pygments_lexer": "ipython3",
   "version": "3.10.8"
  },
  "orig_nbformat": 4
 },
 "nbformat": 4,
 "nbformat_minor": 2
}
