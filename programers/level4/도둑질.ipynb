{
 "cells": [
  {
   "cell_type": "markdown",
   "metadata": {},
   "source": [
    "도둑질\n",
    "---\n",
    "https://school.programmers.co.kr/learn/courses/30/lessons/42897"
   ]
  },
  {
   "cell_type": "code",
   "execution_count": 29,
   "metadata": {},
   "outputs": [],
   "source": [
    "def solution(money):\n",
    "    def dp(ind):\n",
    "        c = money[ind:len(money)-1 +ind].copy()\n",
    "        for ind in range(1, len(c)):\n",
    "            if ind !=1:\n",
    "                c[ind] = max(c[ind-1], c[ind-2]+c[ind])\n",
    "            else:\n",
    "                c[ind] = max(c[ind], c[ind-1])\n",
    "        return c[-1]  \n",
    "        \n",
    "    if len(money) ==3:\n",
    "        return max(money)\n",
    "    answer = max(dp(0),dp(1))\n",
    "    return answer"
   ]
  },
  {
   "cell_type": "code",
   "execution_count": 30,
   "metadata": {},
   "outputs": [
    {
     "data": {
      "text/plain": [
       "10"
      ]
     },
     "execution_count": 30,
     "metadata": {},
     "output_type": "execute_result"
    }
   ],
   "source": [
    "solution([1, 5, 3, 1, 5, 2])"
   ]
  },
  {
   "cell_type": "code",
   "execution_count": null,
   "metadata": {},
   "outputs": [],
   "source": []
  }
 ],
 "metadata": {
  "kernelspec": {
   "display_name": "Python 3",
   "language": "python",
   "name": "python3"
  },
  "language_info": {
   "codemirror_mode": {
    "name": "ipython",
    "version": 3
   },
   "file_extension": ".py",
   "mimetype": "text/x-python",
   "name": "python",
   "nbconvert_exporter": "python",
   "pygments_lexer": "ipython3",
   "version": "3.10.8"
  },
  "orig_nbformat": 4,
  "vscode": {
   "interpreter": {
    "hash": "1eaddad8910a63e993320c00f976674dd19739aa47ccb16e46e67145212d406a"
   }
  }
 },
 "nbformat": 4,
 "nbformat_minor": 2
}
