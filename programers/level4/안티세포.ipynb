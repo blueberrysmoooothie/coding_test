{
 "cells": [
  {
   "attachments": {},
   "cell_type": "markdown",
   "metadata": {},
   "source": [
    "#### 안티세포\n",
    "---\n",
    "https://school.programmers.co.kr/learn/courses/30/lessons/86054"
   ]
  },
  {
   "attachments": {},
   "cell_type": "markdown",
   "metadata": {},
   "source": [
    "1. dfs\n",
    "    - 느리다\n",
    "2. dp\n",
    "    - 2차원\n",
    "    - c의 수\n",
    "    - 합"
   ]
  },
  {
   "cell_type": "code",
   "execution_count": 34,
   "metadata": {},
   "outputs": [],
   "source": [
    "from collections import deque \n",
    "import sys\n",
    "limit_number = 99999999\n",
    "sys.setrecursionlimit(limit_number)\n",
    "def solution(a, s):\n",
    "    def dfs(b, stack, c,ss, i = 0):\n",
    "        # print(b,stack, c, cs)\n",
    "        if len(b) == 0:\n",
    "            cs.add(c)\n",
    "            return 0\n",
    "\n",
    "\n",
    "        stack.append(b.popleft())\n",
    "        dfs(b, stack, c,ss, i+1)\n",
    "        if len(stack) <=1:\n",
    "            return 0\n",
    "\n",
    "        \n",
    "        elif stack[-1] == stack[-2]:\n",
    "            local_stack= stack.copy()\n",
    "\n",
    "            while local_stack[-1] == local_stack[-2]:\n",
    "                aa = local_stack.pop()\n",
    "                bb = local_stack.pop()\n",
    "                local_stack.append(aa+bb)\n",
    "                c = c+(i,)\n",
    "                # print(b, local_stack, c, ss, i+1)\n",
    "                dfs(b, local_stack, c, ss, i+1)\n",
    "\n",
    "                if len(local_stack)==1:\n",
    "                    break\n",
    "        b.appendleft(stack.pop())\n",
    "\n",
    "\n",
    "\n",
    "    answer = []\n",
    "    cur = 0\n",
    "    a = deque(a)\n",
    "    for ss in s:\n",
    "        b = deque([])\n",
    "        \n",
    "        for index in range(ss):\n",
    "            b.append(a.popleft())\n",
    "        \n",
    "        cs = set([])\n",
    "        stack = deque([])\n",
    "        dfs(b, stack, (),ss)\n",
    "        # print(len(cs))\n",
    "\n",
    "        ans = len(cs)\n",
    "        answer.append(ans%(10**9+7))\n",
    "        cur+=ss\n",
    "    return answer"
   ]
  },
  {
   "cell_type": "code",
   "execution_count": null,
   "metadata": {},
   "outputs": [],
   "source": []
  },
  {
   "cell_type": "code",
   "execution_count": 35,
   "metadata": {},
   "outputs": [
    {
     "data": {
      "text/plain": [
       "[6, 3, 1, 5, 9]"
      ]
     },
     "execution_count": 35,
     "metadata": {},
     "output_type": "execute_result"
    }
   ],
   "source": [
    "solution(\t[1, 1, 1, 1, 1, 1, 2, 5, 8, 2, 1, 1, 4, 8, 8, 8, 12, 6, 6], [4, 3, 1, 5, 6])"
   ]
  }
 ],
 "metadata": {
  "kernelspec": {
   "display_name": "Python 3",
   "language": "python",
   "name": "python3"
  },
  "language_info": {
   "codemirror_mode": {
    "name": "ipython",
    "version": 3
   },
   "file_extension": ".py",
   "mimetype": "text/x-python",
   "name": "python",
   "nbconvert_exporter": "python",
   "pygments_lexer": "ipython3",
   "version": "3.10.11"
  },
  "orig_nbformat": 4
 },
 "nbformat": 4,
 "nbformat_minor": 2
}
