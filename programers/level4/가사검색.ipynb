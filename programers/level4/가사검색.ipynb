{
 "cells": [
  {
   "attachments": {},
   "cell_type": "markdown",
   "metadata": {},
   "source": [
    "가사 검색\n",
    "---\n",
    "https://school.programmers.co.kr/learn/courses/30/lessons/60060"
   ]
  },
  {
   "cell_type": "code",
   "execution_count": null,
   "metadata": {},
   "outputs": [],
   "source": [
    "class node:\n",
    "    def __init__(self, alpha = None) -> None:\n",
    "        self.alpha = alpha\n",
    "        self.next_ = []\n",
    "        pass\n",
    "class Word:\n",
    "    def __init__(self, words):\n",
    "        self.head = node() \n",
    "        for word in words:\n",
    "            cur = self.head\n",
    "            for alpha in word:\n",
    "                if alpha not in cur.next_:\n",
    "                    \n",
    "def solution(words, queries):\n",
    "    answer = []\n",
    "    \n",
    "    return answer"
   ]
  }
 ],
 "metadata": {
  "language_info": {
   "name": "python"
  },
  "orig_nbformat": 4
 },
 "nbformat": 4,
 "nbformat_minor": 2
}
