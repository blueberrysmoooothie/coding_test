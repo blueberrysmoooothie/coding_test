{
 "cells": [
  {
   "attachments": {},
   "cell_type": "markdown",
   "metadata": {},
   "source": [
    "가사 검색\n",
    "---\n",
    "https://school.programmers.co.kr/learn/courses/30/lessons/60060"
   ]
  },
  {
   "cell_type": "code",
   "execution_count": 50,
   "metadata": {},
   "outputs": [],
   "source": [
    "import sys\n",
    "sys.setrecursionlimit(100001)\n",
    "\n",
    "class node:\n",
    "    def __init__(self):\n",
    "        self.cnt = 0\n",
    "        self.next_ = {}\n",
    "        pass\n",
    "class Word:\n",
    "    def __init__(self, words):\n",
    "        self.head = node() \n",
    "        for word in words:\n",
    "            cur = self.head\n",
    "            for alpha in word:\n",
    "                if alpha not in cur.next_:\n",
    "                    cur.next_[alpha] = node()\n",
    "                cur = cur.next_[alpha]\n",
    "            cur.cnt +=1\n",
    "\n",
    "    def test(self):\n",
    "        print(self.head.next_['k'].next_)\n",
    "    \n",
    "    def search(self, word,cur = None):\n",
    "        if len(word)==0:\n",
    "            return cur.cnt\n",
    "        if cur is None:\n",
    "            cur = self.head\n",
    "        result = 0\n",
    "        alpha = word[0]\n",
    "        if alpha == '?':\n",
    "            for a in cur.next_.keys():\n",
    "                result+= self.search(word[1:], cur.next_[a])\n",
    "\n",
    "        elif alpha not in cur.next_:\n",
    "            return 0\n",
    "        \n",
    "        else:\n",
    "            result += self.search(word[1:], cur.next_[alpha])\n",
    "        \n",
    "        return result\n",
    "\n",
    "\n",
    "def solution(words, queries):\n",
    "    answer = []\n",
    "    w = Word(words)\n",
    "    answer = [w.search(word) for word in queries]\n",
    "    \n",
    "    return answer"
   ]
  },
  {
   "cell_type": "code",
   "execution_count": 78,
   "metadata": {},
   "outputs": [],
   "source": [
    "import sys\n",
    "sys.setrecursionlimit(100001)\n",
    "\n",
    "class node:\n",
    "    def __init__(self):\n",
    "        self.cnt = 0\n",
    "        self.next_ = {}\n",
    "        pass\n",
    "class Word:\n",
    "    def __init__(self, words):\n",
    "        self.head = node() \n",
    "        for word in words:\n",
    "            cur = self.head\n",
    "            for alpha in word:\n",
    "                if alpha not in cur.next_:\n",
    "                    cur.next_[alpha] = node()\n",
    "                cur = cur.next_[alpha]\n",
    "            cur.cnt +=1\n",
    "\n",
    "    def test(self):\n",
    "        print(self.head.next_)\n",
    "    \n",
    "    def search(self, word,cur = None):\n",
    "        if len(word)==0:\n",
    "            return cur.cnt\n",
    "        if cur is None:\n",
    "            cur = self.head\n",
    "        result = 0\n",
    "        alpha = word[0]\n",
    "        \n",
    "        if alpha in cur.next_:\n",
    "            if alpha == '?':\n",
    "                return cur.next_[alpha].cnt\n",
    "\n",
    "            result += self.search(word[1:], cur.next_[alpha])\n",
    "        \n",
    "        else:\n",
    "            if alpha == '?':\n",
    "                for a in cur.next_.keys():\n",
    "                    result+= self.search(word[1:], cur.next_[a])\n",
    "                cur.next_['?'] = node()\n",
    "                cur.next_['?'].cnt = result\n",
    "                print([f'{k}: {v.cnt}' for k, v in cur.next_.items()])\n",
    "                \n",
    "        return result\n",
    "\n",
    "\n",
    "def solution(words, queries):\n",
    "    answer = []\n",
    "    back_w = Word([word[::-1] for word in words])\n",
    "    w = Word(words)\n",
    "    back_w.test()\n",
    "    answer = [back_w.search(word[::-1]) if word[0]=='?' else w.search(word) for word in queries]\n",
    "    \n",
    "    return answer"
   ]
  },
  {
   "cell_type": "code",
   "execution_count": 79,
   "metadata": {},
   "outputs": [
    {
     "name": "stdout",
     "output_type": "stream",
     "text": [
      "{'o': <__main__.node object at 0x000001A785EC9BA0>, 't': <__main__.node object at 0x000001A785EC9720>, 'n': <__main__.node object at 0x000001A785ECA200>, 'e': <__main__.node object at 0x000001A785ECBEB0>}\n",
      "['o: 1', '?: 1']\n",
      "['t: 1', '?: 1']\n",
      "['t: 1', '?: 1']\n",
      "['e: 0', '?: 0']\n",
      "['d: 0', 'n: 0', 's: 0', 'z: 0', '?: 3']\n",
      "['f: 1', '?: 1']\n",
      "['r: 0', '?: 1']\n",
      "['o: 0', '?: 1']\n",
      "['k: 1', '?: 1']\n",
      "['a: 0', '?: 1']\n",
      "['k: 0', '?: 1']\n",
      "['d: 0', 'a: 0', '?: 2']\n",
      "['e: 1', '?: 1']\n",
      "['m: 0', '?: 1']\n",
      "['o: 0', 'a: 0', '?: 4']\n"
     ]
    },
    {
     "data": {
      "text/plain": [
       "[3, 2, 4, 3, 0]"
      ]
     },
     "execution_count": 79,
     "metadata": {},
     "output_type": "execute_result"
    }
   ],
   "source": [
    "solution([\"frodo\", \"front\", \"frost\", \"frozen\", \"frame\", \"kakao\"], [\"fro??\", \"????o\", \"fr???\", \"fro???\", \"pro?\"])"
   ]
  },
  {
   "cell_type": "code",
   "execution_count": null,
   "metadata": {},
   "outputs": [],
   "source": []
  }
 ],
 "metadata": {
  "kernelspec": {
   "display_name": "Python 3",
   "language": "python",
   "name": "python3"
  },
  "language_info": {
   "codemirror_mode": {
    "name": "ipython",
    "version": 3
   },
   "file_extension": ".py",
   "mimetype": "text/x-python",
   "name": "python",
   "nbconvert_exporter": "python",
   "pygments_lexer": "ipython3",
   "version": "3.10.8"
  },
  "orig_nbformat": 4
 },
 "nbformat": 4,
 "nbformat_minor": 2
}
