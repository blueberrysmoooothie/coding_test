{
 "cells": [
  {
   "attachments": {},
   "cell_type": "markdown",
   "metadata": {},
   "source": [
    "쌍둥이 빌딩 숲\n",
    "---\n",
    "https://school.programmers.co.kr/learn/courses/30/lessons/140105"
   ]
  },
  {
   "cell_type": "code",
   "execution_count": 13,
   "metadata": {},
   "outputs": [],
   "source": [
    "def solution(n, count):\n",
    "    # count == n\n",
    "    answer = [1]\n",
    "    cur = count\n",
    "    while cur<n:\n",
    "        # answer.append(answer[-1]*(2*cur+1)!/((2*cur-1)!*(2)!))\n",
    "        answer.append(answer[-1]*(2*cur+1)*cur)\n",
    "        cur+=1\n",
    "    # print(answer)\n",
    "    return answer[-1]"
   ]
  },
  {
   "cell_type": "code",
   "execution_count": 45,
   "metadata": {},
   "outputs": [],
   "source": [
    "def solution(n, count):\n",
    "    answer = [[1]]\n",
    "    for cur_n in range(1,n+1):\n",
    "        answer.append([0])\n",
    "        for cur_c in range(1,cur_n+1):\n",
    "            print(answer)\n",
    "            if cur_c==cur_n:\n",
    "                answer[cur_n].append(answer[cur_n-1][cur_c-1]*(2*cur_c-1))\n",
    "            else:\n",
    "                # print(answer[cur_n-1][cur_c-1],answer[cur_n-1][cur_c],  answer[cur_n-1][cur_c]*(2*cur_c+1)*(cur_c))\n",
    "                answer[cur_n].append(answer[cur_n-1][cur_c-1]*(2*cur_c-1))\n",
    "            \n",
    "    # print(answer)\n",
    "    return answer[-1][count]"
   ]
  },
  {
   "cell_type": "code",
   "execution_count": 50,
   "metadata": {},
   "outputs": [],
   "source": [
    "def solution(n, count):\n",
    "    answer = [[1]]\n",
    "    for cur_n in range(1,n+1):\n",
    "        answer.append([0])\n",
    "        for cur_c in range(1,cur_n+1):\n",
    "            if cur_c==cur_n:\n",
    "                answer[cur_n].append(1)\n",
    "            else:\n",
    "                answer[cur_n].append(answer[cur_n-1][cur_c-1]+ answer[cur_n-1][cur_c]*2*(cur_n-1))\n",
    "            \n",
    "    # print(answer)\n",
    "    return answer[-1][count]%1000000007"
   ]
  },
  {
   "cell_type": "code",
   "execution_count": 51,
   "metadata": {},
   "outputs": [
    {
     "data": {
      "text/plain": [
       "48"
      ]
     },
     "execution_count": 51,
     "metadata": {},
     "output_type": "execute_result"
    }
   ],
   "source": [
    "solution(4,1)"
   ]
  },
  {
   "cell_type": "code",
   "execution_count": null,
   "metadata": {},
   "outputs": [],
   "source": []
  }
 ],
 "metadata": {
  "kernelspec": {
   "display_name": "Python 3",
   "language": "python",
   "name": "python3"
  },
  "language_info": {
   "codemirror_mode": {
    "name": "ipython",
    "version": 3
   },
   "file_extension": ".py",
   "mimetype": "text/x-python",
   "name": "python",
   "nbconvert_exporter": "python",
   "pygments_lexer": "ipython3",
   "version": "3.11.2"
  },
  "orig_nbformat": 4
 },
 "nbformat": 4,
 "nbformat_minor": 2
}
