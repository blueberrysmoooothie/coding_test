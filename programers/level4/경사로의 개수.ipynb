{
 "cells": [
  {
   "cell_type": "markdown",
   "metadata": {},
   "source": [
    "경사로의 개수\n",
    "---\n",
    "https://school.programmers.co.kr/learn/courses/30/lessons/214290"
   ]
  },
  {
   "cell_type": "code",
   "execution_count": 3,
   "metadata": {},
   "outputs": [],
   "source": [
    "def solution(grid, d, k):\n",
    "    R,C = len(grid)-1, len(grid[0])-1\n",
    "    D = len(d)\n",
    "    answer = [0]\n",
    "    def move_set(i, j, visited_):\n",
    "        l = []\n",
    "\n",
    "        if i>0 and ((i-1,j) not in visited_):\n",
    "            l.append((i-1,j))\n",
    "\n",
    "        if i<R and ((i+1,j) not in visited_):\n",
    "            l.append((i+1,j))\n",
    "\n",
    "        if j>0 and ((i,j-1) not in visited_):\n",
    "            l.append((i,j-1))\n",
    "\n",
    "        if j<C and ((i,j+1) not in visited_):\n",
    "            l.append((i,j+1))\n",
    "\n",
    "        return l\n",
    "\n",
    "    def dfs(i, j, visited_ = [], step = 0):\n",
    "        if step // D == k:\n",
    "            if answer[0] == 10**9 + 6:\n",
    "                answer[0] = 0\n",
    "            else:\n",
    "                answer[0]+=1\n",
    "            print(visited_,(i,j),  step)\n",
    "\n",
    "        l = move_set(i,j, visited_)\n",
    "        for m in l:\n",
    "            if grid[m[0]][m[1]]-grid[i][j] == d[step%D]:\n",
    "                dfs(m[0],m[1], visited_+[(i, j)], step+1)\n",
    "\n",
    "    \n",
    "    for i in range(len(grid)):\n",
    "        for j in range(len(grid[0])):\n",
    "            dfs(i, j)\n",
    "    return answer[0]\n"
   ]
  },
  {
   "cell_type": "code",
   "execution_count": 5,
   "metadata": {},
   "outputs": [],
   "source": [
    "def solution(grid, d, k):\n",
    "    R,C = len(grid)-1, len(grid[0])-1\n",
    "    D = len(d)\n",
    "    answer = [0]\n",
    "    def move_set(i, j,):\n",
    "        l = []\n",
    "\n",
    "        if i>0 and ((i-1,j)):\n",
    "            l.append((i-1,j))\n",
    "\n",
    "        if i<R and ((i+1,j)):\n",
    "            l.append((i+1,j))\n",
    "\n",
    "        if j>0 and ((i,j-1)):\n",
    "            l.append((i,j-1))\n",
    "\n",
    "        if j<C and ((i,j+1)):\n",
    "            l.append((i,j+1))\n",
    "\n",
    "        return l\n",
    "\n",
    "    def dfs(i, j, step = 0):\n",
    "        if step // D == k:\n",
    "            if answer[0] == 10**9 + 6:\n",
    "                answer[0] = 0\n",
    "            else:\n",
    "                answer[0]+=1\n",
    "        if step >= D*k:\n",
    "            return 0\n",
    "\n",
    "        l = move_set(i,j)\n",
    "        for m in l:\n",
    "            if grid[m[0]][m[1]]-grid[i][j] == d[step%D]:\n",
    "                dfs(m[0],m[1], step+1)\n",
    "\n",
    "    \n",
    "    for i in range(len(grid)):\n",
    "        for j in range(len(grid[0])):\n",
    "            dfs(i, j)\n",
    "    return answer[0]\n"
   ]
  },
  {
   "cell_type": "code",
   "execution_count": 6,
   "metadata": {},
   "outputs": [
    {
     "data": {
      "text/plain": [
       "16"
      ]
     },
     "execution_count": 6,
     "metadata": {},
     "output_type": "execute_result"
    }
   ],
   "source": [
    "solution([[3, 4, 6, 5, 3], [3, 5, 5, 3, 6], [5, 6, 4, 3, 6], [7, 4, 3, 5, 0]], [1, -2, -1, 0, 2], 2)"
   ]
  }
 ],
 "metadata": {
  "kernelspec": {
   "display_name": "Python 3",
   "language": "python",
   "name": "python3"
  },
  "language_info": {
   "codemirror_mode": {
    "name": "ipython",
    "version": 3
   },
   "file_extension": ".py",
   "mimetype": "text/x-python",
   "name": "python",
   "nbconvert_exporter": "python",
   "pygments_lexer": "ipython3",
   "version": "3.10.11"
  },
  "orig_nbformat": 4
 },
 "nbformat": 4,
 "nbformat_minor": 2
}
