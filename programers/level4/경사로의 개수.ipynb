{
 "cells": [
  {
   "cell_type": "markdown",
   "metadata": {},
   "source": [
    "경사로의 개수\n",
    "---\n",
    "https://school.programmers.co.kr/learn/courses/30/lessons/214290"
   ]
  },
  {
   "cell_type": "code",
   "execution_count": 5,
   "metadata": {},
   "outputs": [],
   "source": [
    "def solution(grid, d, k):\n",
    "    R,C = len(grid)-1, len(grid[0])-1\n",
    "    D = len(d)\n",
    "    answer = [0]\n",
    "    def move_set(i, j,):\n",
    "        l = []\n",
    "\n",
    "        if i>0 and ((i-1,j)):\n",
    "            l.append((i-1,j))\n",
    "\n",
    "        if i<R and ((i+1,j)):\n",
    "            l.append((i+1,j))\n",
    "\n",
    "        if j>0 and ((i,j-1)):\n",
    "            l.append((i,j-1))\n",
    "\n",
    "        if j<C and ((i,j+1)):\n",
    "            l.append((i,j+1))\n",
    "\n",
    "        return l\n",
    "\n",
    "    def dfs(i, j, step = 0):\n",
    "        if step // D == k:\n",
    "            if answer[0] == 10**9 + 6:\n",
    "                answer[0] = 0\n",
    "            else:\n",
    "                answer[0]+=1\n",
    "        if step >= D*k:\n",
    "            return 0\n",
    "\n",
    "        l = move_set(i,j)\n",
    "        for m in l:\n",
    "            if grid[m[0]][m[1]]-grid[i][j] == d[step%D]:\n",
    "                dfs(m[0],m[1], step+1)\n",
    "\n",
    "    \n",
    "    for i in range(len(grid)):\n",
    "        for j in range(len(grid[0])):\n",
    "            dfs(i, j)\n",
    "    return answer[0]\n"
   ]
  },
  {
   "cell_type": "code",
   "execution_count": 39,
   "metadata": {},
   "outputs": [],
   "source": [
    "from collections import defaultdict\n",
    "\n",
    "def solution(grid, d, k):\n",
    "    R,C = len(grid)-1, len(grid[0])-1\n",
    "    D = len(d)\n",
    "    end_points = defaultdict(int)\n",
    "\n",
    "    to_points = [{} for i in range(D)]\n",
    "    answer = [0]\n",
    "    def move_set(i, j,):\n",
    "        l = []\n",
    "        if i>0 and ((i-1,j)):\n",
    "            l.append((i-1,j))\n",
    "\n",
    "        if i<R and ((i+1,j)):\n",
    "            l.append((i+1,j))\n",
    "\n",
    "        if j>0 and ((i,j-1)):\n",
    "            l.append((i,j-1))\n",
    "\n",
    "        if j<C and ((i,j+1)):\n",
    "            l.append((i,j+1))\n",
    "\n",
    "        return l\n",
    "\n",
    "    def save_points(i, j , step, path):\n",
    "        path += [(i,j)]\n",
    "        for index in range(len(path)-1):\n",
    "            pi, pj = path[index]\n",
    "            if (pi,pj) not in to_points[index]:\n",
    "                to_points[index][(pi,pj)] =set()\n",
    "            to_points[index][(pi,pj)].add(path[index+1])\n",
    "\n",
    "    def find_edges(i, j, step = 0, path = []):\n",
    "        if step == D:\n",
    "            # print(path+[(i, j)])\n",
    "\n",
    "            # end_points[(i,j)]+=1\n",
    "            save_points(i, j , step, path)\n",
    "\n",
    "            # if answer[0] == 10**9 + 6:\n",
    "            #     answer[0] = 0\n",
    "            # else:\n",
    "            #     answer[0]+=1\n",
    "            return 0\n",
    "\n",
    "        if (i,j) in to_points[step]:\n",
    "            save_points(i, j , step, path)\n",
    "            return 0\n",
    "\n",
    "\n",
    "        l = move_set(i,j)\n",
    "        for m in l:\n",
    "            if grid[m[0]][m[1]]-grid[i][j] == d[step]:\n",
    "                find_edges(m[0],m[1], step+1, path = path+[(i,j)])\n",
    "\n",
    "    def dfs (i, j):\n",
    "        pass\n",
    "\n",
    "    for di in range(len(grid)):\n",
    "        for dj in range(len(grid[0])):\n",
    "            find_edges(di, dj)\n",
    "\n",
    "    for first_node, nexts in to_points[0].items():\n",
    "        to_points[0]\n",
    "\n",
    "        \n",
    "    # for k in to_points:\n",
    "    #     print(k)\n",
    "    \n",
    "    # print(end_points)\n",
    "    return answer[0]\n"
   ]
  },
  {
   "cell_type": "code",
   "execution_count": 40,
   "metadata": {},
   "outputs": [
    {
     "data": {
      "text/plain": [
       "0"
      ]
     },
     "execution_count": 40,
     "metadata": {},
     "output_type": "execute_result"
    }
   ],
   "source": [
    "solution([[3, 4, 6, 5, 3], [3, 5, 5, 3, 6], [5, 6, 4, 3, 6], [7, 4, 3, 5, 0]], [1, -2, -1, 0, 2], 2)"
   ]
  },
  {
   "cell_type": "code",
   "execution_count": null,
   "metadata": {},
   "outputs": [
    {
     "name": "stdout",
     "output_type": "stream",
     "text": [
      "[(0, 3), (0, 2), (0, 1), (0, 0), (1, 0), (2, 0)]\n",
      "[(0, 3), (0, 2), (0, 1), (0, 0), (1, 0), (1, 1)]\n",
      "[(1, 1), (2, 1), (2, 2), (2, 3), (1, 3), (0, 3)]\n",
      "[(1, 1), (2, 1), (2, 2), (2, 3), (1, 3), (1, 2)]\n",
      "[(1, 2), (0, 2), (0, 1), (0, 0), (1, 0), (2, 0)]\n",
      "[(1, 2), (0, 2), (0, 1), (0, 0), (1, 0), (1, 1)]\n",
      "[(2, 0), (2, 1), (2, 2), (2, 3), (1, 3), (0, 3)]\n",
      "[(2, 0), (2, 1), (2, 2), (2, 3), (1, 3), (1, 2)]\n",
      "{(0, 3): {(0, 2)}, (1, 1): {(2, 1)}, (1, 2): {(0, 2)}, (2, 0): {(2, 1)}}\n",
      "{(0, 2): {(0, 1)}, (2, 1): {(2, 2)}}\n",
      "{(0, 1): {(0, 0)}, (2, 2): {(2, 3)}}\n",
      "{(0, 0): {(1, 0)}, (2, 3): {(1, 3)}}\n",
      "{(1, 0): {(1, 1), (2, 0)}, (1, 3): {(1, 2), (0, 3)}}\n"
     ]
    },
    {
     "data": {
      "text/plain": [
       "0"
      ]
     },
     "metadata": {},
     "output_type": "display_data"
    }
   ],
   "source": [
    "solution([[3, 4, 6, 5, 3], [3, 5, 5, 3, 6], [5, 6, 4, 3, 6], [7, 4, 3, 5, 0]], [1, -2, -1, 0, 2], 2)"
   ]
  }
 ],
 "metadata": {
  "kernelspec": {
   "display_name": "Python 3",
   "language": "python",
   "name": "python3"
  },
  "language_info": {
   "codemirror_mode": {
    "name": "ipython",
    "version": 3
   },
   "file_extension": ".py",
   "mimetype": "text/x-python",
   "name": "python",
   "nbconvert_exporter": "python",
   "pygments_lexer": "ipython3",
   "version": "3.10.11"
  },
  "orig_nbformat": 4
 },
 "nbformat": 4,
 "nbformat_minor": 2
}
