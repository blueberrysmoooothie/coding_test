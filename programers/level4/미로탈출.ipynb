{
 "cells": [
  {
   "attachments": {},
   "cell_type": "markdown",
   "id": "11d2f4df",
   "metadata": {},
   "source": [
    "#### 미로 탈출\n",
    "---\n",
    "https://school.programmers.co.kr/learn/courses/30/lessons/81304"
   ]
  },
  {
   "cell_type": "code",
   "execution_count": 227,
   "id": "ddc5ff7b",
   "metadata": {},
   "outputs": [],
   "source": [
    "import pandas as pd\n",
    "def make_time_mat(n, roads):\n",
    "    time_mat = pd.DataFrame([[3001]*n for i in range(n)], index = range(1, n+1), columns = range(1, n+1),dtype = 'int64')\n",
    "    for s, e, t in roads:\n",
    "        if time_mat.loc[s,e] > t:\n",
    "            time_mat.loc[s,e] = t\n",
    "    return time_mat\n",
    "\n",
    "def time_mat_traped(time_mat, ind):\n",
    "    temp = time_mat.loc[ind].copy()\n",
    "    time_mat.loc[ind] = time_mat.loc[:,ind].copy()\n",
    "    time_mat.loc[:,ind] = temp\n",
    "    \n",
    "    return time_mat\n",
    "\n",
    "def find_path(start, end, time_mat, traps):\n",
    "    soft_lock = []\n",
    "    succed_times = []\n",
    "    path = [[start,time_mat.to_dict()]]\n",
    "    take_times = []\n",
    "    \n",
    "    to_visit = []\n",
    "    current_loc = start\n",
    "    qurrent_tiems = time_mat.loc[start]\n",
    "    next_way = qurrent_tiems[qurrent_tiems<=3000].index.values\n",
    "    for i in next_way:\n",
    "        to_visit.append(i)\n",
    "    \n",
    "    while len(to_visit):\n",
    "#         [print(p[0], end = ' ') for p in path]\n",
    "        \n",
    "        new_loc = to_visit.pop()\n",
    "        take_time = int(time_mat.loc[current_loc, new_loc])\n",
    "        if new_loc in traps:\n",
    "            time_mat = time_mat_traped(time_mat.copy(), new_loc)\n",
    "        if [new_loc, time_mat.to_dict()] in path or [new_loc, time_mat.to_dict()] in soft_lock:\n",
    "\n",
    "            time_mat = pd.DataFrame(path[-1][1],dtype = 'int64')\n",
    "#             print('passed')\n",
    "            continue\n",
    "        \n",
    "        take_times.append(take_time)\n",
    "        path.append([new_loc, time_mat.to_dict()])\n",
    "        \n",
    "        current_loc = new_loc\n",
    "        if current_loc == end:\n",
    "            succed_times.append(sum(take_times))   \n",
    "            \n",
    "        qurrent_tiems = time_mat.loc[current_loc]\n",
    "        next_way = qurrent_tiems[qurrent_tiems<=3000].index.values\n",
    "        \n",
    "        \n",
    "        if not len(next_way):\n",
    "#             print('no way home')\n",
    "            take_times.pop()\n",
    "            soft_lock.append([current_loc, time_mat.to_dict()])\n",
    "            p = path.pop()\n",
    "            current_loc, time_mat = p[0], pd.DataFrame(p[1],dtype = 'int64')\n",
    "        else:\n",
    "            for i in next_way:\n",
    "                to_visit.append(i)\n",
    "                \n",
    "    return succed_times\n",
    "\n",
    "\n",
    "def solution(n, start, end, roads, traps):\n",
    "    time_mat = make_time_mat(n, roads)\n",
    "    succed_times = find_path(start, end, time_mat, traps)\n",
    "    \n",
    "    answer = min(succed_times)\n",
    "    \n",
    "    return answer"
   ]
  },
  {
   "cell_type": "code",
   "execution_count": 6,
   "id": "87714dc1",
   "metadata": {},
   "outputs": [],
   "source": [
    "class Node:\n",
    "    def __init__(self):\n",
    "        self.in_from = {}\n",
    "        self.out_to = {}\n",
    "        self.is_trap = False\n",
    "\n",
    "    def show(self):\n",
    "        print(self.in_from, self.out_to)\n",
    "        print()\n",
    "class Tree:\n",
    "    def __init__(self, n, roads, traps):\n",
    "        max_ = 3001\n",
    "        self.nodes = [Node() for i in range(n+1)]\n",
    "        dist = [[0 if i == j else max_ for i in range(n)] for j in range(n)]\n",
    "\n",
    "        for node_ind in traps:\n",
    "            self.nodes[node_ind].is_trap = True\n",
    "        for from_, to_ ,s in roads:\n",
    "            f = self.nodes[from_]\n",
    "            t = self.nodes[to_]\n",
    "            if to_ in f.out_to:\n",
    "                m = min(f.out_to[to_], s)\n",
    "                f.out_to[to_] = m\n",
    "                t.in_from[from_] = m\n",
    "            else:\n",
    "                f.out_to[to_] = s\n",
    "                t.in_from[from_] = s\n",
    "\n",
    "            dist[from_-1][to_-1] = s\n",
    "        \n",
    "        for d in dist:\n",
    "            print(d)\n",
    "        print()\n",
    "\n",
    "\n",
    "            \n",
    "\n",
    "    def show(self):\n",
    "        for i, node in enumerate(self.nodes[1:]):\n",
    "            node.show()        \n",
    "\n",
    "\n",
    "\n",
    "\n",
    "\n",
    "def solution(n, start, end, roads, traps):\n",
    "    tree = Tree(n, roads, traps)\n",
    "    tree.show()\n",
    "\n",
    "    \n",
    "\n",
    "    answer = 0\n",
    "    return answer"
   ]
  },
  {
   "cell_type": "code",
   "execution_count": 7,
   "id": "d2685ed8",
   "metadata": {},
   "outputs": [
    {
     "name": "stdout",
     "output_type": "stream",
     "text": [
      "[0, 2, 3000]\n",
      "[3000, 0, 3000]\n",
      "[3000, 3, 0]\n",
      "\n",
      "{} {2: 2}\n",
      "\n",
      "{1: 2, 3: 3} {}\n",
      "\n",
      "{} {2: 3}\n",
      "\n"
     ]
    },
    {
     "data": {
      "text/plain": [
       "0"
      ]
     },
     "execution_count": 7,
     "metadata": {},
     "output_type": "execute_result"
    }
   ],
   "source": [
    "solution(3, 1, 3, [[1, 2, 2], [3, 2, 3]], [2])"
   ]
  },
  {
   "cell_type": "code",
   "execution_count": 229,
   "id": "6c603f8c",
   "metadata": {},
   "outputs": [
    {
     "data": {
      "text/plain": [
       "1"
      ]
     },
     "execution_count": 229,
     "metadata": {},
     "output_type": "execute_result"
    }
   ],
   "source": [
    "min([1,2,3,4])"
   ]
  },
  {
   "cell_type": "code",
   "execution_count": null,
   "id": "c2de39ee",
   "metadata": {},
   "outputs": [],
   "source": []
  }
 ],
 "metadata": {
  "kernelspec": {
   "display_name": "Python 3 (ipykernel)",
   "language": "python",
   "name": "python3"
  },
  "language_info": {
   "codemirror_mode": {
    "name": "ipython",
    "version": 3
   },
   "file_extension": ".py",
   "mimetype": "text/x-python",
   "name": "python",
   "nbconvert_exporter": "python",
   "pygments_lexer": "ipython3",
   "version": "3.10.11"
  }
 },
 "nbformat": 4,
 "nbformat_minor": 5
}
