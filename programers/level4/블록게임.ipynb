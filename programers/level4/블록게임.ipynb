{
 "cells": [
  {
   "cell_type": "markdown",
   "metadata": {},
   "source": [
    "블록게임\n",
    "---\n",
    "https://school.programmers.co.kr/learn/courses/30/lessons/42894"
   ]
  },
  {
   "attachments": {},
   "cell_type": "markdown",
   "metadata": {},
   "source": [
    "1. 위로 2칸 빈공간 추가\n",
    "2. 블럭 찾아서 만들어질 위치를 기록\n",
    "3. 위에 2칸씩 -1로 검은블록 체우기\n",
    "4. 각 블럭에서 6칸 직사각형이 완성되면 제거\n",
    "    - 다른 블럭이 겹치는 경우 제외\n",
    "5. 3, 4 반복"
   ]
  },
  {
   "cell_type": "code",
   "execution_count": 56,
   "metadata": {},
   "outputs": [],
   "source": [
    "def solution(board):    \n",
    "    def search():\n",
    "        for i in range(N+2):\n",
    "            for j in range(N):\n",
    "                if board[i][j]>0:\n",
    "                    if board[i][j] in blocks:\n",
    "                        blocks[board[i][j]].append([i,j])\n",
    "                    else:\n",
    "                        blocks[board[i][j]]=[[i,j]]\n",
    "\n",
    "        for k, v in blocks.items():\n",
    "            \n",
    "            blocks[k] = [[min([r for r, c in v]),min([c for r, c in v])], [max([r for r, c in v]),max([c for r, c in v])]]\n",
    "\n",
    "    def satck_():\n",
    "        for j in range(N):\n",
    "            for i in range(N+2):\n",
    "                if board[i][j]>0:\n",
    "                    \n",
    "                    board[i-1][j] = -1\n",
    "                    board[i-2][j] = -1\n",
    "                    break\n",
    "\n",
    "    def delet():\n",
    "        cnt = 0\n",
    "        keys = list(blocks.keys())\n",
    "        for block_ind in keys:\n",
    "            lu, rb = blocks[block_ind]\n",
    "\n",
    "            s = set([board[i][j] for i in range(lu[0], rb[0]+1) for j in range(lu[1], rb[1]+1)])\n",
    "\n",
    "            if len(s) == 2 and -1 in s:\n",
    "                cnt +=1\n",
    "                for i in range(lu[0], rb[0]+1):\n",
    "                    for j in range(lu[1],rb[1]+1):\n",
    "                        board[i][j] = 0\n",
    "                del blocks[block_ind]\n",
    "        return cnt\n",
    "\n",
    "    def show():\n",
    "        for b in board:\n",
    "            print(b)\n",
    "        print('\\n')\n",
    "\n",
    "    N= len(board)\n",
    "    board = [[0 for _ in range(N)]]+[[0 for _ in range(N)]]+board\n",
    "    blocks = {}\n",
    "    answer = 0\n",
    "    search()\n",
    "    while True:\n",
    "        # show()\n",
    "        cnt = 0 \n",
    "        satck_()\n",
    "        cnt = delet()\n",
    "        if cnt ==0:\n",
    "            break\n",
    "        answer+=cnt\n",
    "\n",
    "    return answer"
   ]
  },
  {
   "cell_type": "code",
   "execution_count": 57,
   "metadata": {},
   "outputs": [
    {
     "name": "stdout",
     "output_type": "stream",
     "text": [
      "[0, 0, 0, 0]\n",
      "[0, 0, 0, 0]\n",
      "[0, 2, 0, 0]\n",
      "[1, 2, 0, 4]\n",
      "[1, 2, 2, 4]\n",
      "[1, 1, 4, 4]\n",
      "\n",
      "\n",
      "[0, -1, 0, 0]\n",
      "[-1, -1, 0, -1]\n",
      "[-1, 0, 0, -1]\n",
      "[1, 0, 0, 4]\n",
      "[1, 0, 0, 4]\n",
      "[1, 1, 4, 4]\n",
      "\n",
      "\n",
      "[0, -1, 0, 0]\n",
      "[-1, -1, 0, -1]\n",
      "[-1, 0, 0, -1]\n",
      "[0, 0, 0, 0]\n",
      "[0, 0, 0, 0]\n",
      "[0, 0, 0, 0]\n",
      "\n",
      "\n"
     ]
    },
    {
     "data": {
      "text/plain": [
       "3"
      ]
     },
     "execution_count": 57,
     "metadata": {},
     "output_type": "execute_result"
    }
   ],
   "source": [
    "solution([[0, 2, 0, 0], \n",
    "          [1, 2, 0, 4], \n",
    "          [1, 2, 2, 4], \n",
    "          [1, 1, 4, 4]])"
   ]
  },
  {
   "cell_type": "code",
   "execution_count": 58,
   "metadata": {},
   "outputs": [
    {
     "name": "stdout",
     "output_type": "stream",
     "text": [
      "[0, 0, 0, 0, 0, 0, 0, 0, 0, 0]\n",
      "[0, 0, 0, 0, 0, 0, 0, 0, 0, 0]\n",
      "[0, 0, 0, 0, 0, 0, 0, 0, 0, 0]\n",
      "[0, 0, 0, 0, 0, 0, 0, 0, 0, 0]\n",
      "[0, 0, 0, 0, 0, 0, 0, 0, 0, 0]\n",
      "[0, 0, 0, 0, 0, 0, 0, 0, 0, 0]\n",
      "[0, 0, 0, 0, 0, 0, 0, 0, 0, 0]\n",
      "[0, 0, 0, 0, 0, 5, 0, 0, 0, 0]\n",
      "[0, 0, 4, 4, 4, 5, 0, 0, 0, 0]\n",
      "[0, 0, 3, 4, 5, 5, 0, 0, 0, 0]\n",
      "[1, 3, 3, 3, 2, 0, 0, 0, 0, 0]\n",
      "[1, 1, 1, 2, 2, 2, 0, 0, 0, 0]\n",
      "\n",
      "\n"
     ]
    },
    {
     "data": {
      "text/plain": [
       "0"
      ]
     },
     "execution_count": 58,
     "metadata": {},
     "output_type": "execute_result"
    }
   ],
   "source": [
    "solution(\t[\n",
    "    [0, 0, 0, 0, 0, 0, 0, 0, 0, 0], \n",
    "    [0, 0, 0, 0, 0, 0, 0, 0, 0, 0], \n",
    "    [0, 0, 0, 0, 0, 0, 0, 0, 0, 0], \n",
    "    [0, 0, 0, 0, 0, 0, 0, 0, 0, 0], \n",
    "    [0, 0, 0, 0, 0, 0, 0, 0, 0, 0], \n",
    "    [0, 0, 0, 0, 0, 5, 0, 0, 0, 0], \n",
    "    [0, 0, 4, 4, 4, 5, 0, 0, 0, 0], \n",
    "    [0, 0, 3, 4, 5, 5, 0, 0, 0, 0], \n",
    "    [1, 3, 3, 3, 2, 0, 0, 0, 0, 0], \n",
    "    [1, 1, 1, 2, 2, 2, 0, 0, 0, 0]])"
   ]
  },
  {
   "cell_type": "code",
   "execution_count": null,
   "metadata": {},
   "outputs": [],
   "source": []
  }
 ],
 "metadata": {
  "kernelspec": {
   "display_name": "Python 3",
   "language": "python",
   "name": "python3"
  },
  "language_info": {
   "codemirror_mode": {
    "name": "ipython",
    "version": 3
   },
   "file_extension": ".py",
   "mimetype": "text/x-python",
   "name": "python",
   "nbconvert_exporter": "python",
   "pygments_lexer": "ipython3",
   "version": "3.11.2"
  },
  "orig_nbformat": 4
 },
 "nbformat": 4,
 "nbformat_minor": 2
}
