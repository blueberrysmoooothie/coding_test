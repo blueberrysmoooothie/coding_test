{
 "cells": [
  {
   "attachments": {},
   "cell_type": "markdown",
   "metadata": {},
   "source": [
    "작수행 세기\n",
    "---\n",
    "https://school.programmers.co.kr/learn/courses/30/lessons/68647"
   ]
  },
  {
   "attachments": {},
   "cell_type": "markdown",
   "metadata": {},
   "source": [
    "1. 열을 추가하면서 홀수, 짝수 경우의 수를 기록하자 (dp)\n",
    "\n",
    "\n",
    "2. 이번 열이 전부 0이 아니라면  \n",
    "    dp[i][0] = ?\n",
    "    dp[i][1] = ?\n",
    "\n",
    "3. "
   ]
  },
  {
   "cell_type": "code",
   "execution_count": 42,
   "metadata": {},
   "outputs": [],
   "source": [
    "from itertools import permutations\n",
    "def solution(a):\n",
    "    def com(num, limit = 1):\n",
    "        answer = 1\n",
    "        while num>limit:\n",
    "            answer *= num\n",
    "            num-=1\n",
    "        return answer\n",
    "\n",
    "    R,C = len(a), len(a[0])\n",
    "    cur = sum([a[r][0] for r in range(R)])\n",
    "    p = com(R, min(R-cur, cur))//com(max(R-cur, cur))\n",
    "    dp = [[0, 0]]\n",
    "\n",
    "\n",
    "    if cur>0:\n",
    "        dp[0][0] = p\n",
    "    else:\n",
    "        dp[0][1] = p\n",
    "\n",
    "    print(dp)\n",
    "        \n",
    "\n",
    "\n",
    "    answer = -1\n",
    "    return answer"
   ]
  },
  {
   "cell_type": "code",
   "execution_count": 43,
   "metadata": {},
   "outputs": [
    {
     "name": "stdout",
     "output_type": "stream",
     "text": [
      "[[6, 0]]\n"
     ]
    },
    {
     "data": {
      "text/plain": [
       "-1"
      ]
     },
     "execution_count": 43,
     "metadata": {},
     "output_type": "execute_result"
    }
   ],
   "source": [
    "solution([[1, 0, 0, 1, 1], [0, 0, 0, 0, 0], [1, 1, 0, 0, 0], [0, 0, 0, 0, 1]])"
   ]
  },
  {
   "cell_type": "code",
   "execution_count": null,
   "metadata": {},
   "outputs": [],
   "source": []
  }
 ],
 "metadata": {
  "kernelspec": {
   "display_name": "Python 3",
   "language": "python",
   "name": "python3"
  },
  "language_info": {
   "codemirror_mode": {
    "name": "ipython",
    "version": 3
   },
   "file_extension": ".py",
   "mimetype": "text/x-python",
   "name": "python",
   "nbconvert_exporter": "python",
   "pygments_lexer": "ipython3",
   "version": "3.10.11"
  },
  "orig_nbformat": 4
 },
 "nbformat": 4,
 "nbformat_minor": 2
}
