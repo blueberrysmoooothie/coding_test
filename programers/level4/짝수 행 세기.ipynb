{
 "cells": [
  {
   "attachments": {},
   "cell_type": "markdown",
   "metadata": {},
   "source": [
    "작수행 세기\n",
    "---\n",
    "https://school.programmers.co.kr/learn/courses/30/lessons/68647"
   ]
  },
  {
   "attachments": {},
   "cell_type": "markdown",
   "metadata": {},
   "source": [
    "1. 열을 추가하면서 홀수, 짝수 경우의 수를 기록하자 (dp)\n",
    "\n",
    "\n",
    "2. 이번 열이 전부 0이 아니라면  \n",
    "    dp[i][0] = ?\n",
    "    dp[i][1] = ?\n",
    "\n",
    "3. "
   ]
  },
  {
   "attachments": {},
   "cell_type": "markdown",
   "metadata": {},
   "source": [
    "https://withhamit.tistory.com/445\n",
    "\n",
    "dp[c][num] : c 개의 열을 사용해서 num개의 짝수행을 만드는 경우의 수"
   ]
  },
  {
   "cell_type": "code",
   "execution_count": 42,
   "metadata": {},
   "outputs": [],
   "source": [
    "from itertools import permutations\n",
    "def solution(a):\n",
    "    def com(num, limit = 1):\n",
    "        answer = 1\n",
    "        while num>limit:\n",
    "            answer *= num\n",
    "            num-=1\n",
    "        return answer\n",
    "\n",
    "    R,C = len(a), len(a[0])\n",
    "    cur = sum([a[r][0] for r in range(R)])\n",
    "    p = com(R, min(R-cur, cur))//com(max(R-cur, cur))\n",
    "    dp = [[0, 0]]\n",
    "\n",
    "\n",
    "    if cur>0:\n",
    "        dp[0][0] = p\n",
    "    else:\n",
    "        dp[0][1] = p\n",
    "\n",
    "    print(dp)\n",
    "        \n",
    "\n",
    "\n",
    "    answer = -1\n",
    "    return answer"
   ]
  },
  {
   "cell_type": "code",
   "execution_count": 46,
   "metadata": {},
   "outputs": [],
   "source": [
    "\n",
    "def solution(a):\n",
    "    def com(num, limit = 1):\n",
    "        if limit == 0:\n",
    "            return 1\n",
    "        answer = 1\n",
    "        while num>limit:\n",
    "            answer *= num\n",
    "            num-=1\n",
    "        return answer\n",
    "    \n",
    "    def calc(n, c ):\n",
    "        return com(n, max(c, n - c))//com(min(c, n - c))\n",
    "\n",
    "\n",
    "\n",
    "    R, C = len(a), len(a[0])\n",
    "    dp = [{} for i in range(C)]\n",
    "    \n",
    "    cur = sum([a[r][0] for r in range(R)])\n",
    "    dp[0][R-cur] = calc(R, cur)\n",
    "\n",
    "    i = 1\n",
    "    \n",
    "    for i in range(1, C):\n",
    "        cur = sum([a[r][i] for r in range(R)])\n",
    "        for num in dp[i-1].keys():\n",
    "            for k in range(cur+1):\n",
    "                if  k>num or cur-k + num >R:\n",
    "                    continue\n",
    "                temp = num-k + cur-k \n",
    "                if temp >= 0 and temp <=R:\n",
    "                    # print(i, num, k)\n",
    "                    # print(dp[i-1][num] , calc(num,k) , calc(R-num, cur-k))\n",
    "                    if temp not in dp[i]:\n",
    "                        dp[i][temp] = dp[i-1][num] * calc(num,k) * calc(R-num, cur-k)\n",
    "                    else:\n",
    "                        dp[i][temp] += dp[i-1][num] * calc(num, k) * calc(R-num, cur-k)\n",
    "\n",
    "                    # print()\n",
    "\n",
    "        \n",
    "    # print(dp)\n",
    "    answer = dp[-1][R] if R in dp[-1] else 0\n",
    "    return answer"
   ]
  },
  {
   "cell_type": "code",
   "execution_count": 47,
   "metadata": {},
   "outputs": [
    {
     "name": "stdout",
     "output_type": "stream",
     "text": [
      "[{0: 1}, {0: 1}, {0: 1}]\n"
     ]
    },
    {
     "data": {
      "text/plain": [
       "0"
      ]
     },
     "execution_count": 47,
     "metadata": {},
     "output_type": "execute_result"
    }
   ],
   "source": [
    "solution([[1,0,0],[1,0,0]])"
   ]
  },
  {
   "cell_type": "code",
   "execution_count": null,
   "metadata": {},
   "outputs": [],
   "source": []
  }
 ],
 "metadata": {
  "kernelspec": {
   "display_name": "Python 3",
   "language": "python",
   "name": "python3"
  },
  "language_info": {
   "codemirror_mode": {
    "name": "ipython",
    "version": 3
   },
   "file_extension": ".py",
   "mimetype": "text/x-python",
   "name": "python",
   "nbconvert_exporter": "python",
   "pygments_lexer": "ipython3",
   "version": "3.10.11"
  },
  "orig_nbformat": 4
 },
 "nbformat": 4,
 "nbformat_minor": 2
}
