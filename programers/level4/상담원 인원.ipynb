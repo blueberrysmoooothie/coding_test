{
 "cells": [
  {
   "cell_type": "markdown",
   "metadata": {},
   "source": [
    "상담원 인원\n",
    "---\n",
    "https://school.programmers.co.kr/learn/courses/30/lessons/214288"
   ]
  },
  {
   "cell_type": "code",
   "execution_count": 93,
   "metadata": {},
   "outputs": [],
   "source": [
    "import heapq\n",
    "\n",
    "def calc_time(type_n, type_reqs):\n",
    "    if len(type_reqs)==0:\n",
    "        return 0\n",
    "    cur = 0\n",
    "    on = []\n",
    "    heapq.heapify(on)\n",
    "    queue = []\n",
    "    i = 0\n",
    "    result = 0\n",
    "    while True:\n",
    "        # print(cur, '  --------------------')\n",
    "        if len(on) and cur == on[0]:\n",
    "            heapq.heappop(on)\n",
    "            type_n+=1\n",
    "            # print('상담 종료')\n",
    "\n",
    "        if i < len(type_reqs) and cur == type_reqs[i][0]:\n",
    "            queue.append(type_reqs[i][1])\n",
    "            i+=1\n",
    "            # print('학생 도착')\n",
    "\n",
    "        if type_n:\n",
    "            if len(queue):\n",
    "                heapq.heappush(on, queue.pop(0)+cur)\n",
    "                type_n-=1\n",
    "                # print('상담 시작')\n",
    "        \n",
    "        # print(type_n, on, queue)\n",
    "\n",
    "        if len(on):\n",
    "            if i == len(type_reqs):\n",
    "                next_cur = on[0]\n",
    "            else:\n",
    "                next_cur = min(on[0], type_reqs[i][0])\n",
    "        else:\n",
    "            next_cur = type_reqs[i][0]\n",
    "\n",
    "        result += (next_cur-cur)*len(queue)\n",
    "        cur = next_cur\n",
    "\n",
    "        \n",
    "        if i == len(type_reqs) and len(queue)==0:\n",
    "            break\n",
    "    # print(result)\n",
    "    return result\n",
    "    \n",
    "\n",
    "\n",
    "\n",
    "def solution(k, n, reqs):\n",
    "    answer = [1100 * 3000 ]\n",
    "    def dfs(dif, ns, i=0):\n",
    "        if dif==0 :\n",
    "            # print(dif, ns, i)\n",
    "            ans = 0\n",
    "            for j in range(k):\n",
    "                ans += calc_time(ns[j], type_dic[j+1])\n",
    "            if answer[0] >ans:\n",
    "                answer[0] = ans\n",
    "            return 0\n",
    "        \n",
    "        if i == k:\n",
    "            return 0\n",
    "\n",
    "        for add in range(min(maxs[i], dif+1)):\n",
    "            dfs(dif-add, ns.copy(), i+1)\n",
    "            ns[i]+=1\n",
    "        \n",
    "        \n",
    "    \n",
    "    type_dic = {i: [] for i in range(1, k+1)}\n",
    "    waiting_times = {i: [] for i in range(1, k+1)}\n",
    "    for a,b,c in reqs:\n",
    "        type_dic[c].append([a,b])\n",
    "    maxs = [len(type_dic[i]) if len(type_dic[i]) else 1 for i in range(1, k+1)]\n",
    "    for i in range(1, k+1):\n",
    "        for j in range(1, maxs[i-1]+1):\n",
    "            waiting_times[i].append(calc_time(j,type_dic[i]))\n",
    "\n",
    "    sample = [1 for i in range(k)]\n",
    "    diff = n- k\n",
    "\n",
    "    # print(maxs)\n",
    "    # print(waiting_times)\n",
    "    dfs(diff, sample)\n",
    "\n",
    "\n",
    "    return answer[0]\n",
    "\n",
    "    # return answer\n"
   ]
  },
  {
   "cell_type": "code",
   "execution_count": 15,
   "metadata": {},
   "outputs": [
    {
     "data": {
      "text/plain": [
       "0"
      ]
     },
     "execution_count": 15,
     "metadata": {},
     "output_type": "execute_result"
    }
   ],
   "source": [
    "solution(1, 2, [[0, 10, 1], [10, 10, 1], [20, 10, 1]])"
   ]
  },
  {
   "cell_type": "code",
   "execution_count": 9,
   "metadata": {},
   "outputs": [
    {
     "data": {
      "text/plain": [
       "12"
      ]
     },
     "execution_count": 9,
     "metadata": {},
     "output_type": "execute_result"
    }
   ],
   "source": [
    "\n",
    "calc_time(2, [[0, 10, 2], [0, 11, 2], [0, 12, 2], [11, 2, 2], [11, 1, 2]])\n",
    " "
   ]
  }
 ],
 "metadata": {
  "kernelspec": {
   "display_name": "Python 3",
   "language": "python",
   "name": "python3"
  },
  "language_info": {
   "codemirror_mode": {
    "name": "ipython",
    "version": 3
   },
   "file_extension": ".py",
   "mimetype": "text/x-python",
   "name": "python",
   "nbconvert_exporter": "python",
   "pygments_lexer": "ipython3",
   "version": "3.10.11"
  },
  "orig_nbformat": 4
 },
 "nbformat": 4,
 "nbformat_minor": 2
}
