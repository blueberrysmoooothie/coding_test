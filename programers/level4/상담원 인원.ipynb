{
 "cells": [
  {
   "cell_type": "markdown",
   "metadata": {},
   "source": [
    "상담원 인원\n",
    "---\n",
    "https://school.programmers.co.kr/learn/courses/30/lessons/214288"
   ]
  },
  {
   "cell_type": "code",
   "execution_count": null,
   "metadata": {},
   "outputs": [],
   "source": [
    "def calc_time(type_n, type_reqs):\n",
    "    cur = type_reqs[0][0] \n",
    "    on = []\n",
    "    queue = []\n",
    "    i = 1:\n",
    "    while i<len(type_reqs):\n",
    "        a, b, c = type_reqs[i]\n",
    "        if a < cur\n",
    "\n",
    "        if len(queue):\n",
    "\n",
    "        if type_n ==0:\n",
    "            queue.append([a,])\n",
    "\n",
    "\n",
    "\n",
    "def solution(k, n, reqs):\n",
    "    answer = 0\n",
    "    return answer"
   ]
  }
 ],
 "metadata": {
  "language_info": {
   "name": "python"
  },
  "orig_nbformat": 4
 },
 "nbformat": 4,
 "nbformat_minor": 2
}
