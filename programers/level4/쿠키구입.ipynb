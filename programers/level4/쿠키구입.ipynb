{
 "cells": [
  {
   "cell_type": "markdown",
   "metadata": {},
   "source": [
    "쿠키 구입\n",
    "---\n",
    "https://school.programmers.co.kr/learn/courses/30/lessons/49995#"
   ]
  },
  {
   "cell_type": "code",
   "execution_count": null,
   "metadata": {},
   "outputs": [],
   "source": [
    "def solution(cookie):\n",
    "    l = len(cookie)\n",
    "    limit = sum(cookie)//2\n",
    "    answer = 0\n",
    "    \n",
    "    \n",
    "    for i in range(1, len(cookie)-1):\n",
    "        l_start = 0\n",
    "        r_end = l-1\n",
    "        a= sum(cookie[l_start:i+1])\n",
    "        b = sum(cookie[i+1:])\n",
    "        while i not in [l_start, r_end]:\n",
    "            if a> limit or a>b:\n",
    "                a-=cookie[l_start]\n",
    "                l_start+=1\n",
    "            elif b> limit or a<b:\n",
    "                b-=cookie[r_end]\n",
    "                r_end-=1\n",
    "            if a == b:\n",
    "                if a>answer:\n",
    "                    answer =a\n",
    "                break\n",
    "    return answer"
   ]
  },
  {
   "cell_type": "code",
   "execution_count": 46,
   "metadata": {},
   "outputs": [],
   "source": [
    "def solution(cookie):\n",
    "    l = len(cookie)\n",
    "    limit = sum(cookie)//2+1\n",
    "    answer = 0\n",
    "    # print(limit)\n",
    "    for i in range(1, len(cookie)):\n",
    "        l_start = 0\n",
    "        r_end = l-1\n",
    "        a= sum(cookie[:i])\n",
    "        b = sum(cookie[i:])\n",
    "        # print(i)\n",
    "        while l_start<i and i<=r_end:\n",
    "            # print(f'{l_start}에서 {i} : {a}, {i}에서 {r_end} : {b}')\n",
    "            if a> limit or a>b:\n",
    "                a-=cookie[l_start]\n",
    "                l_start+=1\n",
    "            elif b> limit or a<b:\n",
    "                b-=cookie[r_end]\n",
    "                r_end-=1\n",
    "            if a == b:\n",
    "                if a>answer:\n",
    "                    answer =a\n",
    "                break\n",
    "    return answer"
   ]
  },
  {
   "cell_type": "code",
   "execution_count": 47,
   "metadata": {},
   "outputs": [
    {
     "data": {
      "text/plain": [
       "4"
      ]
     },
     "execution_count": 47,
     "metadata": {},
     "output_type": "execute_result"
    }
   ],
   "source": [
    "solution([1,1,2,3,1,1,1])"
   ]
  },
  {
   "cell_type": "code",
   "execution_count": null,
   "metadata": {},
   "outputs": [],
   "source": []
  }
 ],
 "metadata": {
  "kernelspec": {
   "display_name": "Python 3",
   "language": "python",
   "name": "python3"
  },
  "language_info": {
   "codemirror_mode": {
    "name": "ipython",
    "version": 3
   },
   "file_extension": ".py",
   "mimetype": "text/x-python",
   "name": "python",
   "nbconvert_exporter": "python",
   "pygments_lexer": "ipython3",
   "version": "3.10.8"
  },
  "orig_nbformat": 4
 },
 "nbformat": 4,
 "nbformat_minor": 2
}
