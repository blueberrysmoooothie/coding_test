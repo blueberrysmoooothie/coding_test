{
 "cells": [
  {
   "attachments": {},
   "cell_type": "markdown",
   "metadata": {},
   "source": [
    "1, 2, 3 떨어트리기\n",
    "---\n",
    "https://school.programmers.co.kr/learn/courses/30/lessons/150364\n"
   ]
  },
  {
   "cell_type": "code",
   "execution_count": 5,
   "metadata": {},
   "outputs": [
    {
     "data": {
      "text/plain": [
       "[0]"
      ]
     },
     "execution_count": 5,
     "metadata": {},
     "output_type": "execute_result"
    }
   ],
   "source": [
    "import bisect\n",
    "l = []\n",
    "l.insert(bisect.bisect_left(l, 0),0)\n",
    "l"
   ]
  },
  {
   "cell_type": "code",
   "execution_count": 22,
   "metadata": {},
   "outputs": [],
   "source": [
    "import bisect\n",
    "class Node:\n",
    "    def __init__(self) -> None:\n",
    "        self.child = []\n",
    "        self.direct = 0\n",
    "    def change_direct(self):\n",
    "        if len(self.child):\n",
    "            self.direct = (self.direct+1)%len(self.child)\n",
    "    \n",
    "class Tree:\n",
    "    def __init__(self, edges, target) -> None:\n",
    "        self.tree = [Node() for i in range(len(target))]\n",
    "        for par, chi in edges:\n",
    "            self.tree[par-1].child.insert(bisect.bisect_left(self.tree[par-1].child, chi-1),chi-1)\n",
    "\n",
    "    def add(self):\n",
    "        cur_ind = 0\n",
    "        cur = self.tree[cur_ind]\n",
    "        while len(cur.child):\n",
    "            cur_ind = cur.child[cur.direct]\n",
    "            cur.change_direct()\n",
    "            cur = self.tree[cur_ind]\n",
    "            \n",
    "        return cur_ind\n",
    "\n",
    "\n",
    "def solution(edges, target):\n",
    "    tree = Tree(edges, target)\n",
    "    max_add = sum(target)\n",
    "    L = len(target)\n",
    "    leaf_inds = [tree.add() for i in range(max_add)]\n",
    "    result = [0 for i in range(L)]\n",
    "    log = []\n",
    "    queue = [[log, result,0]]\n",
    "\n",
    "    for log, res, ind in queue:\n",
    "        flg, end = True, False\n",
    "        for i in range(L):\n",
    "            if flg and res[i]!=target[i]:\n",
    "                flg = False\n",
    "\n",
    "            elif res[i]>target[i]:\n",
    "                end = True\n",
    "\n",
    "        if flg:\n",
    "            return log\n",
    "        if end:\n",
    "            continue\n",
    "        \n",
    "        for num in [1,2,3]:\n",
    "            l_result = res.copy()\n",
    "            l_result[leaf_inds[ind]]+=num\n",
    "            queue.append([log +[num], l_result.copy(), ind +1])\n",
    "\n",
    "    \n",
    "    return [-1]"
   ]
  },
  {
   "cell_type": "code",
   "execution_count": 32,
   "metadata": {},
   "outputs": [],
   "source": [
    "import bisect\n",
    "class Node:\n",
    "    def __init__(self) -> None:\n",
    "        self.child = []\n",
    "        self.direct = 0\n",
    "    def change_direct(self):\n",
    "        if len(self.child):\n",
    "            self.direct = (self.direct+1)%len(self.child)\n",
    "    \n",
    "class Tree:\n",
    "    def __init__(self, edges, target) -> None:\n",
    "        self.tree = [Node() for i in range(len(target))]\n",
    "        for par, chi in edges:\n",
    "            self.tree[par-1].child.insert(bisect.bisect_left(self.tree[par-1].child, chi-1),chi-1)\n",
    "\n",
    "    def add(self):\n",
    "        cur_ind = 0\n",
    "        cur = self.tree[cur_ind]\n",
    "        while len(cur.child):\n",
    "            cur_ind = cur.child[cur.direct]\n",
    "            cur.change_direct()\n",
    "            cur = self.tree[cur_ind]\n",
    "            \n",
    "        return cur_ind\n",
    "\n",
    "\n",
    "def solution(edges, target):\n",
    "    tree = Tree(edges, target)\n",
    "    max_add = sum(target)\n",
    "    cnts = {ind : [target[ind], 0] for ind in range(len(target)) if target[ind]>0}\n",
    "    log = []\n",
    "    for cnt in range(1, max_add+1):\n",
    "        ind = tree.add()\n",
    "        cnts[ind][1]+=1\n",
    "        log.append(ind)\n",
    "        flg = False\n",
    "        for k, v in cnts.items():\n",
    "            if v[0]< v[1]:\n",
    "                return [-1]\n",
    "            elif v[0]>v[1]*3:\n",
    "                flg = True\n",
    "                break\n",
    "        if flg:\n",
    "            continue\n",
    "\n",
    "        break\n",
    "\n",
    "    for k, v in cnts.items():\n",
    "        ans = [3 for i in range(v[1])]\n",
    "        # print(v)\n",
    "        ind =0\n",
    "        s = 3*v[1]\n",
    "        while s > v[0]:\n",
    "            s-=1\n",
    "            ans[ind]-=1\n",
    "            if ans[ind]==1:\n",
    "                ind+=1\n",
    "        cnts[k] = ans\n",
    "\n",
    "    return [cnts[l].pop(0) for l in log]\n",
    "\n",
    "    "
   ]
  },
  {
   "cell_type": "code",
   "execution_count": 33,
   "metadata": {},
   "outputs": [
    {
     "name": "stdout",
     "output_type": "stream",
     "text": [
      "[3, 2]\n",
      "[5, 2]\n",
      "[1, 1]\n",
      "[2, 1]\n",
      "[3, 1]\n"
     ]
    },
    {
     "data": {
      "text/plain": [
       "[1, 1, 2, 2, 2, 3, 3]"
      ]
     },
     "execution_count": 33,
     "metadata": {},
     "output_type": "execute_result"
    }
   ],
   "source": [
    "solution(\t[[2, 4], [1, 2], [6, 8], [1, 3], [5, 7], [2, 5], [3, 6], [6, 10], [6, 9]], [0, 0, 0, 3, 0, 0, 5, 1, 2, 3])"
   ]
  },
  {
   "cell_type": "code",
   "execution_count": null,
   "metadata": {},
   "outputs": [],
   "source": []
  }
 ],
 "metadata": {
  "kernelspec": {
   "display_name": "Python 3",
   "language": "python",
   "name": "python3"
  },
  "language_info": {
   "codemirror_mode": {
    "name": "ipython",
    "version": 3
   },
   "file_extension": ".py",
   "mimetype": "text/x-python",
   "name": "python",
   "nbconvert_exporter": "python",
   "pygments_lexer": "ipython3",
   "version": "3.11.2"
  },
  "orig_nbformat": 4
 },
 "nbformat": 4,
 "nbformat_minor": 2
}
