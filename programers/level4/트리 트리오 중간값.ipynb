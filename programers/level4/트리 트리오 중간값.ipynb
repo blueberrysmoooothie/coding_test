{
 "cells": [
  {
   "attachments": {},
   "cell_type": "markdown",
   "metadata": {},
   "source": [
    "#### 트리 트리오 중간값\n",
    "---\n",
    "https://school.programmers.co.kr/learn/courses/30/lessons/68937"
   ]
  },
  {
   "cell_type": "code",
   "execution_count": 5,
   "metadata": {},
   "outputs": [],
   "source": [
    "def solution(n, edges):\n",
    "    def f(a, b, c):\n",
    "        return sorted([])[1]\n",
    "    dist = [[0 if i == j else n for i in range(n)] for j in range(n)]\n",
    "    for edge in edges:\n",
    "        dist[edge[0]-1][edge[1]-1]=1\n",
    "        dist[edge[1]-1][edge[0]-1]=1\n",
    "\n",
    "    for k in range(n):\n",
    "        for i in range(n):\n",
    "            for j in range(n):\n",
    "                dist[i][j] = min(dist[i][j], dist[i][k]+dist[k][j])\n",
    "    for d in dist:\n",
    "        print(d)\n",
    "    answer = 0\n",
    "    return answer"
   ]
  },
  {
   "cell_type": "code",
   "execution_count": 6,
   "metadata": {},
   "outputs": [
    {
     "name": "stdout",
     "output_type": "stream",
     "text": [
      "[0, 2, 2, 2, 1]\n",
      "[2, 0, 2, 2, 1]\n",
      "[2, 2, 0, 2, 1]\n",
      "[2, 2, 2, 0, 1]\n",
      "[1, 1, 1, 1, 0]\n"
     ]
    },
    {
     "data": {
      "text/plain": [
       "0"
      ]
     },
     "execution_count": 6,
     "metadata": {},
     "output_type": "execute_result"
    }
   ],
   "source": [
    "solution(\t5, [[1, 5], [2, 5], [3, 5], [4, 5]])"
   ]
  },
  {
   "cell_type": "code",
   "execution_count": null,
   "metadata": {},
   "outputs": [],
   "source": []
  }
 ],
 "metadata": {
  "kernelspec": {
   "display_name": "Python 3",
   "language": "python",
   "name": "python3"
  },
  "language_info": {
   "codemirror_mode": {
    "name": "ipython",
    "version": 3
   },
   "file_extension": ".py",
   "mimetype": "text/x-python",
   "name": "python",
   "nbconvert_exporter": "python",
   "pygments_lexer": "ipython3",
   "version": "3.10.8"
  },
  "orig_nbformat": 4
 },
 "nbformat": 4,
 "nbformat_minor": 2
}
