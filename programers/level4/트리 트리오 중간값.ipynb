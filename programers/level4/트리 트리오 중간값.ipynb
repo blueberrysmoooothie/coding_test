{
 "cells": [
  {
   "attachments": {},
   "cell_type": "markdown",
   "metadata": {},
   "source": [
    "#### 트리 트리오 중간값\n",
    "---\n",
    "https://school.programmers.co.kr/learn/courses/30/lessons/68937"
   ]
  },
  {
   "cell_type": "code",
   "execution_count": 1,
   "metadata": {},
   "outputs": [],
   "source": [
    "from itertools import permutations\n",
    "def solution(n, edges):\n",
    "    dist = [[0 if i == j else n for i in range(n)] for j in range(n)]\n",
    "    for edge in edges:\n",
    "        dist[edge[0]-1][edge[1]-1]=1\n",
    "        dist[edge[1]-1][edge[0]-1]=1\n",
    "\n",
    "    for k in range(n):\n",
    "        for i in range(n):\n",
    "            for j in range(n):\n",
    "                dist[i][j] = min(dist[i][j], dist[i][k]+dist[k][j])\n",
    "    # for d in dist:\n",
    "    #     print(d)\n",
    "\n",
    "    max_=0\n",
    "    for a, b, c in permutations(range(n), 3):\n",
    "        d = sorted([dist[a][b], dist[b][c],dist[c][a]])[1]\n",
    "        if max_ < d:\n",
    "            max_ = d\n",
    "\n",
    "    return max_"
   ]
  },
  {
   "attachments": {},
   "cell_type": "markdown",
   "metadata": {},
   "source": [
    "트리의 지름 구하기 "
   ]
  },
  {
   "cell_type": "code",
   "execution_count": 14,
   "metadata": {},
   "outputs": [],
   "source": [
    "from collections import deque\n",
    "class Node:\n",
    "    def __init__(self):\n",
    "        self.connections = []\n",
    "\n",
    "class Tree:\n",
    "    def __init__(self, n, edges):\n",
    "        self.n = n\n",
    "        self.nodes = [Node() for i in range(n+1)]\n",
    "        for edge in edges:\n",
    "            self.nodes[edge[0]].connections.append(edge[1])\n",
    "            self.nodes[edge[1]].connections.append(edge[0])\n",
    "\n",
    "\n",
    "    def find_diameter(self, ind = 1):\n",
    "        queue = [ind]\n",
    "        height= 0\n",
    "        visited = [False for i in range(self.n+1)]\n",
    "        while queue:\n",
    "            next_queue = deque([])\n",
    "            for ind in queue:\n",
    "                visited[ind] = True\n",
    "                for i in self.nodes[ind].connections:\n",
    "                    if visited[i]:\n",
    "                        continue\n",
    "                    next_queue.append(i)\n",
    "\n",
    "            if not next_queue:\n",
    "                return height, queue\n",
    "            height+=1\n",
    "\n",
    "            queue = next_queue.copy()\n",
    "            \n",
    "    def show(self):\n",
    "        for node in self.nodes[1:]:\n",
    "            print(node.connections)\n",
    "    def check(self, end_ind):\n",
    "        for node in self.nodes[self.nodes[end_ind].connections[0]].connections:\n",
    "            if node != end_ind:\n",
    "                if len(self.nodes[node].connections) ==1:\n",
    "                    return True\n",
    "        \n",
    "        return False\n",
    "\n",
    "def solution(n, edges):\n",
    "    if n==3: \n",
    "        return 1\n",
    "    tree = Tree(n, edges)\n",
    "    _, end_nodes = tree.find_diameter()\n",
    "    # print(_, end_nodes)\n",
    "\n",
    "    first_multi = False\n",
    "    for first_end in end_nodes:\n",
    "        first_multi = tree.check(first_end)\n",
    "\n",
    "    diameter, end_nodes = tree.find_diameter(first_end)\n",
    "    # print(diameter, end_nodes)\n",
    "\n",
    "    end_multi = True if len(end_nodes)>1 else False\n",
    "\n",
    "    if first_multi or end_multi:\n",
    "        return diameter\n",
    "    else:\n",
    "        return diameter -1\n",
    "\n"
   ]
  },
  {
   "cell_type": "code",
   "execution_count": 15,
   "metadata": {},
   "outputs": [
    {
     "data": {
      "text/plain": [
       "2"
      ]
     },
     "execution_count": 15,
     "metadata": {},
     "output_type": "execute_result"
    }
   ],
   "source": [
    "solution(\t4, [[1, 3], [2, 1], [1,4]])"
   ]
  },
  {
   "cell_type": "code",
   "execution_count": null,
   "metadata": {},
   "outputs": [],
   "source": []
  }
 ],
 "metadata": {
  "kernelspec": {
   "display_name": "Python 3",
   "language": "python",
   "name": "python3"
  },
  "language_info": {
   "codemirror_mode": {
    "name": "ipython",
    "version": 3
   },
   "file_extension": ".py",
   "mimetype": "text/x-python",
   "name": "python",
   "nbconvert_exporter": "python",
   "pygments_lexer": "ipython3",
   "version": "3.10.11"
  },
  "orig_nbformat": 4
 },
 "nbformat": 4,
 "nbformat_minor": 2
}
