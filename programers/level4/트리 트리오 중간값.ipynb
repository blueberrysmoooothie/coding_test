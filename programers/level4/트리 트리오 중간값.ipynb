{
 "cells": [
  {
   "attachments": {},
   "cell_type": "markdown",
   "metadata": {},
   "source": [
    "#### 트리 트리오 중간값\n",
    "---\n",
    "https://school.programmers.co.kr/learn/courses/30/lessons/68937"
   ]
  },
  {
   "cell_type": "code",
   "execution_count": 1,
   "metadata": {},
   "outputs": [],
   "source": [
    "from itertools import permutations\n",
    "def solution(n, edges):\n",
    "    dist = [[0 if i == j else n for i in range(n)] for j in range(n)]\n",
    "    for edge in edges:\n",
    "        dist[edge[0]-1][edge[1]-1]=1\n",
    "        dist[edge[1]-1][edge[0]-1]=1\n",
    "\n",
    "    for k in range(n):\n",
    "        for i in range(n):\n",
    "            for j in range(n):\n",
    "                dist[i][j] = min(dist[i][j], dist[i][k]+dist[k][j])\n",
    "    # for d in dist:\n",
    "    #     print(d)\n",
    "\n",
    "    max_=0\n",
    "    for a, b, c in permutations(range(n), 3):\n",
    "        d = sorted([dist[a][b], dist[b][c],dist[c][a]])[1]\n",
    "        if max_ < d:\n",
    "            max_ = d\n",
    "\n",
    "    return max_"
   ]
  },
  {
   "attachments": {},
   "cell_type": "markdown",
   "metadata": {},
   "source": [
    "트리의 지름 구하기 "
   ]
  },
  {
   "cell_type": "code",
   "execution_count": 41,
   "metadata": {},
   "outputs": [],
   "source": [
    "class Node:\n",
    "    def __init__(self):\n",
    "        self.connections = []\n",
    "\n",
    "class Tree:\n",
    "    def __init__(self, n, edges):\n",
    "        self.n = n\n",
    "        self.nodes = [Node() for i in range(n+1)]\n",
    "        for edge in edges:\n",
    "            self.nodes[edge[0]].connections.append(edge[1])\n",
    "            self.nodes[edge[1]].connections.append(edge[0])\n",
    "\n",
    "    def calc_dist(self, ind):\n",
    "        dist = [0 if i == ind-1 else self.n for i in range(self.n)]\n",
    "        for i in range(self.n):\n",
    "            for j in range(self.n):\n",
    "\n",
    "\n",
    "    def find_diameter(self):\n",
    "        self.visited = [0 for i in range(self.n+1)]\n",
    "        first_end, __, _ = self.diameter_dfs(1)\n",
    "        # print(first_end, __, _)\n",
    "        self.visited = [0 for i in range(self.n+1)]\n",
    "        second_end, diameter, _ = self.diameter_dfs(first_end)\n",
    "        # print(second_end, diameter, _)\n",
    "        return diameter\n",
    "            \n",
    "    def show(self):\n",
    "        for node in self.nodes[1:]:\n",
    "            print(node.connections)\n",
    "\n",
    "def solution(n, edges):\n",
    "    tree = Tree(n, edges)\n",
    "    diameter = tree.find_diameter()\n",
    "    # print(diameter)\n",
    "    max_=0  \n",
    "\n",
    "\n",
    "    return max_"
   ]
  },
  {
   "cell_type": "code",
   "execution_count": 42,
   "metadata": {},
   "outputs": [
    {
     "data": {
      "text/plain": [
       "0"
      ]
     },
     "execution_count": 42,
     "metadata": {},
     "output_type": "execute_result"
    }
   ],
   "source": [
    "solution(\t5, [[1, 5], [2, 5], [3, 5], [4, 5]])"
   ]
  },
  {
   "cell_type": "code",
   "execution_count": null,
   "metadata": {},
   "outputs": [],
   "source": []
  }
 ],
 "metadata": {
  "kernelspec": {
   "display_name": "Python 3",
   "language": "python",
   "name": "python3"
  },
  "language_info": {
   "codemirror_mode": {
    "name": "ipython",
    "version": 3
   },
   "file_extension": ".py",
   "mimetype": "text/x-python",
   "name": "python",
   "nbconvert_exporter": "python",
   "pygments_lexer": "ipython3",
   "version": "3.10.11"
  },
  "orig_nbformat": 4
 },
 "nbformat": 4,
 "nbformat_minor": 2
}
