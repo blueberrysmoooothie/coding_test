{
 "cells": [
  {
   "attachments": {},
   "cell_type": "markdown",
   "metadata": {},
   "source": [
    "#### 지형 편집\n",
    "---\n",
    "https://school.programmers.co.kr/learn/courses/30/lessons/12984"
   ]
  },
  {
   "cell_type": "code",
   "execution_count": 31,
   "metadata": {},
   "outputs": [],
   "source": [
    "import bisect\n",
    "def solution(land, P, Q):\n",
    "    land = sorted([a for l in land for a in l ])\n",
    "    L=len(land)\n",
    "    ans = sum([a-land[0] for a in land[1:]])*Q\n",
    "    answer = ans\n",
    "    if ans<answer:\n",
    "        answer = ans\n",
    "    for i in range(1,L-1):\n",
    "        if land[i]==land[i-1]:\n",
    "            continue\n",
    "        else:\n",
    "            ans+=(land[i]-land[i-1])*P *bisect.bisect_right(land, land[i-1])\n",
    "            ans-=(L-bisect.bisect_right(land, land[i-1]))*Q\n",
    "        if ans<answer:\n",
    "            answer = ans\n",
    "    return answer"
   ]
  },
  {
   "cell_type": "code",
   "execution_count": 38,
   "metadata": {},
   "outputs": [],
   "source": [
    "import bisect\n",
    "def solution(land, P, Q):\n",
    "    land = sorted([a for l in land for a in l ])\n",
    "    L=len(land)\n",
    "    ans = sum([a-land[0] for a in land[1:]])*Q\n",
    "    answer = ans\n",
    "    if ans<answer:\n",
    "        answer = ans\n",
    "    for i in range(1,L):\n",
    "        if land[i]==land[i-1]:\n",
    "            continue\n",
    "        else:\n",
    "            ans+=(land[i]-land[i-1])*P *bisect.bisect_right(land, land[i-1])\n",
    "            ans-=(land[i]-land[i-1])*(L-bisect.bisect_right(land, land[i-1]))*Q\n",
    "        if ans<answer:\n",
    "            answer = ans\n",
    "    return answer"
   ]
  },
  {
   "cell_type": "code",
   "execution_count": 39,
   "metadata": {},
   "outputs": [
    {
     "data": {
      "text/plain": [
       "33"
      ]
     },
     "execution_count": 39,
     "metadata": {},
     "output_type": "execute_result"
    }
   ],
   "source": [
    "solution([[4, 4, 3], [3, 2, 2], [ 2, 1, 0 ]], 5,3)"
   ]
  },
  {
   "cell_type": "code",
   "execution_count": 37,
   "metadata": {},
   "outputs": [
    {
     "data": {
      "text/plain": [
       "2"
      ]
     },
     "execution_count": 37,
     "metadata": {},
     "output_type": "execute_result"
    }
   ],
   "source": [
    "import bisect\n",
    "l = [0, 1, 2, 2, 2, 3, 3, 4, 4]\n",
    "len(l)-bisect.bisect_right(l,3)"
   ]
  },
  {
   "cell_type": "code",
   "execution_count": null,
   "metadata": {},
   "outputs": [],
   "source": []
  }
 ],
 "metadata": {
  "kernelspec": {
   "display_name": "Python 3",
   "language": "python",
   "name": "python3"
  },
  "language_info": {
   "codemirror_mode": {
    "name": "ipython",
    "version": 3
   },
   "file_extension": ".py",
   "mimetype": "text/x-python",
   "name": "python",
   "nbconvert_exporter": "python",
   "pygments_lexer": "ipython3",
   "version": "3.11.2"
  },
  "orig_nbformat": 4
 },
 "nbformat": 4,
 "nbformat_minor": 2
}
