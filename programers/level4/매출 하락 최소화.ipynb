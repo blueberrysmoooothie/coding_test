{
 "cells": [
  {
   "attachments": {},
   "cell_type": "markdown",
   "metadata": {},
   "source": [
    "#### 매출 하락 최소화\n",
    "---\n",
    "https://school.programmers.co.kr/learn/courses/30/lessons/72416?language=python3"
   ]
  },
  {
   "cell_type": "code",
   "execution_count": null,
   "metadata": {},
   "outputs": [],
   "source": [
    "class Node:\n",
    "    def __init__(self, sale):\n",
    "        self.sale = sale\n",
    "        self.child = []\n",
    "\n",
    "class Tree:\n",
    "    def __init__(self, sales, links):\n",
    "        self.nodes = [Node(sale) for sale in sales]\n",
    "\n",
    "        for parent, child in links:\n",
    "            self.nodes[parent-1].child.append(child-1)\n",
    "\n",
    "\n",
    "\n",
    "def solution(sales, links):\n",
    "    answer = 0\n",
    "    return answer\n"
   ]
  }
 ],
 "metadata": {
  "language_info": {
   "name": "python"
  },
  "orig_nbformat": 4
 },
 "nbformat": 4,
 "nbformat_minor": 2
}
