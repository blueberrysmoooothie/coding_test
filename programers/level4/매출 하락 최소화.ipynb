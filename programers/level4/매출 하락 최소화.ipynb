{
 "cells": [
  {
   "attachments": {},
   "cell_type": "markdown",
   "metadata": {},
   "source": [
    "#### 매출 하락 최소화\n",
    "---\n",
    "https://school.programmers.co.kr/learn/courses/30/lessons/72416?language=python3"
   ]
  },
  {
   "cell_type": "code",
   "execution_count": 22,
   "metadata": {},
   "outputs": [],
   "source": [
    "class Node:\n",
    "    def __init__(self, sale):\n",
    "        self.sale = sale\n",
    "        self.child = []\n",
    "\n",
    "class Tree:\n",
    "    def __init__(self, sales, links):\n",
    "        self.nodes = [Node(sale) for sale in sales]\n",
    "\n",
    "        for parent, child in links:\n",
    "            self.nodes[parent-1].child.append(child-1)\n",
    "\n",
    "\n",
    "\n",
    "def solution(sales, links):\n",
    "    def dfs(node_ind):\n",
    "        s = 0 \n",
    "        m=10000 *300000\n",
    "        flg2 = True\n",
    "        cur = tree.nodes[node_ind]\n",
    "        if not cur.child:\n",
    "            return 0\n",
    "        for child in cur.child:\n",
    "            dfs(child)\n",
    "            s+=min(dp[child])\n",
    "\n",
    "            if dp[child][1] >= dp[child][0]:\n",
    "                m = min(m, dp[child][1]-dp[child][0])\n",
    "            else:\n",
    "                flg2 = False\n",
    "        dp[node_ind][0] = s\n",
    "        if flg2:\n",
    "            dp[node_ind][0] += m\n",
    "            \n",
    "        dp[node_ind][1] = cur.sale + s\n",
    "        # print(node_ind, cur.child, dp[node_ind])\n",
    "        # print(dp)\n",
    "\n",
    "    tree = Tree(sales, links)\n",
    "    dp = [[0,sales[i]] for i in range(len(sales))]\n",
    "    dfs(0)\n",
    "\n",
    "    return min(dp[0])\n"
   ]
  },
  {
   "cell_type": "code",
   "execution_count": 23,
   "metadata": {},
   "outputs": [
    {
     "name": "stdout",
     "output_type": "stream",
     "text": [
      "[[0, 1], [0, 2], [0, 3], [5, 4], [0, 5]]\n",
      "[[0, 1], [0, 2], [4, 7], [5, 4], [0, 5]]\n",
      "[[0, 1], [7, 6], [4, 7], [5, 4], [0, 5]]\n",
      "[[6, 7], [7, 6], [4, 7], [5, 4], [0, 5]]\n"
     ]
    },
    {
     "data": {
      "text/plain": [
       "6"
      ]
     },
     "execution_count": 23,
     "metadata": {},
     "output_type": "execute_result"
    }
   ],
   "source": [
    "solution(\t[1,2,3,4,5], [[1,2],[2,3],[3,4],[4,5]])"
   ]
  },
  {
   "cell_type": "code",
   "execution_count": null,
   "metadata": {},
   "outputs": [],
   "source": []
  }
 ],
 "metadata": {
  "kernelspec": {
   "display_name": "Python 3",
   "language": "python",
   "name": "python3"
  },
  "language_info": {
   "codemirror_mode": {
    "name": "ipython",
    "version": 3
   },
   "file_extension": ".py",
   "mimetype": "text/x-python",
   "name": "python",
   "nbconvert_exporter": "python",
   "pygments_lexer": "ipython3",
   "version": "3.10.11"
  },
  "orig_nbformat": 4
 },
 "nbformat": 4,
 "nbformat_minor": 2
}
