{
 "cells": [
  {
   "attachments": {},
   "cell_type": "markdown",
   "metadata": {},
   "source": [
    "무지의 먹방 라이브\n",
    "---\n",
    "https://school.programmers.co.kr/learn/challenges?order=acceptance_desc&statuses=unsolved&languages=python3"
   ]
  },
  {
   "cell_type": "code",
   "execution_count": null,
   "metadata": {},
   "outputs": [],
   "source": [
    "def solution(food_times, k):\n",
    "    pointers = [i for i in range(1, len(food_times))]+[0]\n",
    "    \n",
    "    time = 0\n",
    "    ind = 0\n",
    "    while time<k:\n",
    "        food_times[ind]-=1\n",
    "        n_ind = pointers[ind]\n",
    "\n",
    "        if food_times[n_ind]==0:\n",
    "            stack = []\n",
    "            while food_times[n_ind]==0:\n",
    "                stack.append(n_ind)\n",
    "                n_ind = pointers[n_ind]\n",
    "\n",
    "            for s in stack:\n",
    "                pointers[s] = n_ind\n",
    "            pointers[ind] = n_ind\n",
    "            \n",
    "        ind = n_ind\n",
    "        time+=1\n",
    "        # print(food_times, pointers)\n",
    "    return ind+1 if sum(food_times) else -1"
   ]
  },
  {
   "cell_type": "code",
   "execution_count": 143,
   "metadata": {},
   "outputs": [],
   "source": [
    "import heapq\n",
    "def solution(food_times, k):\n",
    "    n = len(food_times)\n",
    "    l = food_times.copy()\n",
    "    heapq.heapify(l)\n",
    "    time = 0\n",
    "    temp = 0\n",
    "    while n>0:\n",
    "        _ = heapq.heappop(l)\n",
    "        rotate_time = _-temp\n",
    "        temp = _\n",
    "        if time+rotate_time* n >= k:\n",
    "            break\n",
    "        time +=rotate_time* n\n",
    "        food_times = [f - rotate_time if f >0 else 0 for f in food_times]\n",
    "        # print(food_times,time)\n",
    "        n-=1\n",
    "    # print(time, food_times)\n",
    "    \n",
    "    ind = 0\n",
    "    pointers = [i for i in range(1, len(food_times))]+[0]\n",
    "    while time<k:\n",
    "        \n",
    "        if food_times[pointers[ind]] ==0:\n",
    "            n_ind = ind\n",
    "            stack = []\n",
    "            while food_times[pointers[n_ind]]==0:\n",
    "                stack.append(n_ind)\n",
    "                n_ind = pointers[n_ind]\n",
    "                if ind == n_ind:\n",
    "                    return -1\n",
    "            for s in stack:\n",
    "                pointers[s] = pointers[n_ind]\n",
    "\n",
    "\n",
    "        if food_times[ind] >0:\n",
    "            # print(food_times, pointers)\n",
    "            time+=1\n",
    "            food_times[ind]-=1\n",
    "\n",
    "        ind = pointers[ind]\n",
    "\n",
    "\n",
    "\n",
    "    return (ind)%len(food_times)+1 if sum(food_times) else -1"
   ]
  },
  {
   "cell_type": "code",
   "execution_count": 144,
   "metadata": {},
   "outputs": [
    {
     "data": {
      "text/plain": [
       "1"
      ]
     },
     "execution_count": 144,
     "metadata": {},
     "output_type": "execute_result"
    }
   ],
   "source": [
    "solution(\t[25, 10, 30], 50)"
   ]
  },
  {
   "cell_type": "code",
   "execution_count": null,
   "metadata": {},
   "outputs": [],
   "source": []
  }
 ],
 "metadata": {
  "kernelspec": {
   "display_name": "Python 3",
   "language": "python",
   "name": "python3"
  },
  "language_info": {
   "codemirror_mode": {
    "name": "ipython",
    "version": 3
   },
   "file_extension": ".py",
   "mimetype": "text/x-python",
   "name": "python",
   "nbconvert_exporter": "python",
   "pygments_lexer": "ipython3",
   "version": "3.10.8"
  },
  "orig_nbformat": 4,
  "vscode": {
   "interpreter": {
    "hash": "1eaddad8910a63e993320c00f976674dd19739aa47ccb16e46e67145212d406a"
   }
  }
 },
 "nbformat": 4,
 "nbformat_minor": 2
}
