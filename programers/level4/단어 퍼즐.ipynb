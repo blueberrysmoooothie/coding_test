{
 "cells": [
  {
   "attachments": {},
   "cell_type": "markdown",
   "metadata": {},
   "source": [
    "단어 퍼즐\n",
    "---\n",
    "https://school.programmers.co.kr/learn/courses/30/lessons/12983"
   ]
  },
  {
   "cell_type": "code",
   "execution_count": 16,
   "metadata": {},
   "outputs": [],
   "source": [
    "def solution(strs, t):\n",
    "    def match(target, cnt):\n",
    "        if len(target) == 0:\n",
    "            answers.append(cnt)\n",
    "        for end_ind in range(len(target), -1,-1):\n",
    "            if target[:end_ind+1] in strs:\n",
    "                match(target[end_ind+1:], cnt+1)\n",
    "        \n",
    "    answers = []\n",
    "    match(t, 0)\n",
    "    return min(answers) if answers else -1"
   ]
  },
  {
   "cell_type": "code",
   "execution_count": 30,
   "metadata": {},
   "outputs": [],
   "source": [
    "class A:\n",
    "    def __init__(self):\n",
    "        self.back = {}\n",
    "        self.end = False\n",
    "class Tree:\n",
    "    def __init__(self, strs, t):\n",
    "        self.tree = A()\n",
    "        for s in strs:\n",
    "            cur = self.tree\n",
    "            for i in range(len(s)):\n",
    "                if s[i] not in cur.back:\n",
    "                    cur.back[s[i]] = A()\n",
    "                cur = cur.back[s[i]]\n",
    "            cur.end = True\n",
    "        # self.show(self.tree)\n",
    "\n",
    "\n",
    "    def find(self, target, cnt =0):\n",
    "        queue = []\n",
    "        cur = self.tree\n",
    "        i = 0\n",
    "        rev_queue = []\n",
    "        while i < len(target):\n",
    "            if target[i] in cur.back:\n",
    "                cur = cur.back[target[i]]\n",
    "            else:\n",
    "                break\n",
    "\n",
    "            if cur.end:\n",
    "                rev_queue.append([target[i+1:], cnt+1])\n",
    "\n",
    "            i+=1\n",
    "        queue+= rev_queue[::-1]\n",
    "\n",
    "        for t, cnt in queue:\n",
    "            if len(t)==0:\n",
    "                return cnt\n",
    "            cur = self.tree\n",
    "            i = 0\n",
    "            rev_queue = []\n",
    "            while i<len(t):\n",
    "                if t[i] in cur.back:\n",
    "                    cur = cur.back[t[i]]\n",
    "                    \n",
    "                else:\n",
    "                    break\n",
    "                \n",
    "                if cur.end:\n",
    "                    rev_queue.append([t[i+1:], cnt+1])\n",
    "                i+=1\n",
    "\n",
    "            queue+= rev_queue[::-1]\n",
    "        return -1\n",
    "\n",
    "                \n",
    "    def show(self, a, cum=[]):\n",
    "        for k, v in a.back.items():\n",
    "            if v.end:\n",
    "                print(''.join(cum)+k)\n",
    "            self.show(v, cum + [k])\n",
    "            \n",
    "def solution(strs, t):\n",
    "    \n",
    "    answers = []\n",
    "    tree = Tree(strs,t)\n",
    "    return tree.find(t, 0)\n",
    "\n",
    "def solution(strs, t):\n",
    "    MAX = len(t)+1\n",
    "    dp = [0]+[MAX for i in t]\n",
    "    for i in range(1, MAX):\n",
    "        for j in range(1, 6):\n",
    "            if i-j>=0:\n",
    "                if t[i-j:i] in strs:\n",
    "                    dp[i] = min(dp[i], dp[i-j]+1)\n",
    "        \n",
    "    return -1 if dp[-1] == len(t)+1 else dp[-1]\n",
    "\n",
    "            "
   ]
  },
  {
   "cell_type": "code",
   "execution_count": 31,
   "metadata": {},
   "outputs": [
    {
     "data": {
      "text/plain": [
       "3"
      ]
     },
     "execution_count": 31,
     "metadata": {},
     "output_type": "execute_result"
    }
   ],
   "source": [
    "solution(\t['b',\"ba\", \"na\", \"n\", \"a\"], \"banana\")"
   ]
  },
  {
   "cell_type": "code",
   "execution_count": null,
   "metadata": {},
   "outputs": [],
   "source": []
  }
 ],
 "metadata": {
  "kernelspec": {
   "display_name": "Python 3",
   "language": "python",
   "name": "python3"
  },
  "language_info": {
   "codemirror_mode": {
    "name": "ipython",
    "version": 3
   },
   "file_extension": ".py",
   "mimetype": "text/x-python",
   "name": "python",
   "nbconvert_exporter": "python",
   "pygments_lexer": "ipython3",
   "version": "3.10.8"
  },
  "orig_nbformat": 4
 },
 "nbformat": 4,
 "nbformat_minor": 2
}
