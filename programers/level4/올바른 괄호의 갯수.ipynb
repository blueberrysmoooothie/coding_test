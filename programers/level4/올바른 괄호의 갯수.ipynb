{
 "cells": [
  {
   "attachments": {},
   "cell_type": "markdown",
   "metadata": {},
   "source": [
    "올바른 괄호의 갯수\n",
    "---\n",
    "https://school.programmers.co.kr/learn/courses/30/lessons/12929"
   ]
  },
  {
   "cell_type": "code",
   "execution_count": 43,
   "metadata": {},
   "outputs": [],
   "source": [
    "def solution(n):\n",
    "    dp1 = [1 for i in range(n+1)]\n",
    "    dp2 = [1 for i in range(n+1)]\n",
    "    for i in range(1,n+1):\n",
    "        dp2[i] = dp1[i-1]\n",
    "        s = 0\n",
    "        for k in range(i+1):\n",
    "            s+=dp2[i-k]*dp2[k]\n",
    "        dp1[i] = s\n",
    "    return dp1[n-1]"
   ]
  },
  {
   "cell_type": "code",
   "execution_count": 44,
   "metadata": {},
   "outputs": [
    {
     "data": {
      "text/plain": [
       "5"
      ]
     },
     "execution_count": 44,
     "metadata": {},
     "output_type": "execute_result"
    }
   ],
   "source": [
    "solution(3)"
   ]
  },
  {
   "cell_type": "code",
   "execution_count": null,
   "metadata": {},
   "outputs": [],
   "source": []
  }
 ],
 "metadata": {
  "kernelspec": {
   "display_name": "Python 3",
   "language": "python",
   "name": "python3"
  },
  "language_info": {
   "codemirror_mode": {
    "name": "ipython",
    "version": 3
   },
   "file_extension": ".py",
   "mimetype": "text/x-python",
   "name": "python",
   "nbconvert_exporter": "python",
   "pygments_lexer": "ipython3",
   "version": "3.10.8"
  },
  "orig_nbformat": 4
 },
 "nbformat": 4,
 "nbformat_minor": 2
}
