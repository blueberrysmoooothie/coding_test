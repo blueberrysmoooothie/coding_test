{
 "cells": [
  {
   "attachments": {},
   "cell_type": "markdown",
   "metadata": {},
   "source": [
    "호텔 방 배정\n",
    "---\n",
    "https://school.programmers.co.kr/learn/courses/30/lessons/64063"
   ]
  },
  {
   "cell_type": "code",
   "execution_count": 34,
   "metadata": {},
   "outputs": [],
   "source": [
    "import bisect\n",
    "def solution(k, room_number):\n",
    "    rooms = [i for i in range(1,k+1)]\n",
    "    answer = []\n",
    "\n",
    "    for num in room_number:\n",
    "        ind = bisect.bisect_left(rooms, num)\n",
    "        ans = rooms[ind]\n",
    "        answer.append(ans)\n",
    "\n",
    "        next_ind = bisect.bisect_left(rooms, ans+1)\n",
    "        if next_ind == k:\n",
    "            continue\n",
    "        n = rooms[next_ind]\n",
    "        for i in range(ind, next_ind):\n",
    "            rooms[i] = n\n",
    "        # print(rooms, answer)\n",
    "\n",
    "    return answer"
   ]
  },
  {
   "cell_type": "code",
   "execution_count": 42,
   "metadata": {},
   "outputs": [],
   "source": [
    "import bisect\n",
    "def solution(k, room_number):\n",
    "    answer = []\n",
    "    rooms = []\n",
    "    for num in room_number:\n",
    "        ind = bisect.bisect_left(rooms,num)\n",
    "        while ind <len(rooms) and rooms[ind] == num:\n",
    "            num+=1\n",
    "            ind = bisect.bisect_left(rooms,num)\n",
    "\n",
    "\n",
    "        bisect.insort_left(rooms, num)\n",
    "        answer.append(num)\n",
    "        # print(rooms, answer)\n",
    "\n",
    "\n",
    "\n",
    "    return answer"
   ]
  },
  {
   "cell_type": "code",
   "execution_count": 3,
   "metadata": {},
   "outputs": [],
   "source": [
    "class room:\n",
    "    def __init__(self,n):\n",
    "        self.n = n\n",
    "        self.right = n+1\n",
    "\n",
    "def solution(k, room_number):\n",
    "    rooms = {}\n",
    "    answer = []\n",
    "    for num in room_number:\n",
    "        while True:            \n",
    "            try:\n",
    "                num = rooms[num].right\n",
    "            except:\n",
    "                break\n",
    "        \n",
    "        answer.append(num)\n",
    "        rooms[num] = room(num)\n",
    "        while True:\n",
    "            try:\n",
    "                rooms[num].right = rooms[rooms[num].right].right\n",
    "            except:\n",
    "                break\n",
    "\n",
    "        # print([0 if r is None else rooms[r].n for r in rooms], rooms[num].right)\n",
    "\n",
    "\n",
    "\n",
    "\n",
    "    return answer"
   ]
  },
  {
   "cell_type": "code",
   "execution_count": 12,
   "metadata": {},
   "outputs": [],
   "source": [
    "\n",
    "def solution(k, room_number):\n",
    "    rooms = {}\n",
    "    answer = []\n",
    "    for num in room_number:\n",
    "        n_num = num\n",
    "        \n",
    "        stack = []\n",
    "        while True:            \n",
    "            try:\n",
    "                stack.append(n_num)\n",
    "                n_num = rooms[n_num]\n",
    "            except:\n",
    "                break\n",
    "        \n",
    "        answer.append(n_num)\n",
    "        for n in stack:\n",
    "            rooms[n] = n_num+1\n",
    "        # print(rooms, answer)\n",
    "    return answer"
   ]
  },
  {
   "cell_type": "code",
   "execution_count": 13,
   "metadata": {},
   "outputs": [
    {
     "name": "stdout",
     "output_type": "stream",
     "text": [
      "{1: 2} [1]\n",
      "{1: 3, 2: 3} [1, 2]\n",
      "{1: 3, 2: 4, 3: 4} [1, 2, 3]\n"
     ]
    },
    {
     "data": {
      "text/plain": [
       "[1, 2, 3]"
      ]
     },
     "execution_count": 13,
     "metadata": {},
     "output_type": "execute_result"
    }
   ],
   "source": [
    "solution(10, [1, 1,2])"
   ]
  },
  {
   "cell_type": "code",
   "execution_count": null,
   "metadata": {},
   "outputs": [],
   "source": []
  }
 ],
 "metadata": {
  "kernelspec": {
   "display_name": "Python 3",
   "language": "python",
   "name": "python3"
  },
  "language_info": {
   "codemirror_mode": {
    "name": "ipython",
    "version": 3
   },
   "file_extension": ".py",
   "mimetype": "text/x-python",
   "name": "python",
   "nbconvert_exporter": "python",
   "pygments_lexer": "ipython3",
   "version": "3.10.8"
  },
  "orig_nbformat": 4,
  "vscode": {
   "interpreter": {
    "hash": "1eaddad8910a63e993320c00f976674dd19739aa47ccb16e46e67145212d406a"
   }
  }
 },
 "nbformat": 4,
 "nbformat_minor": 2
}
