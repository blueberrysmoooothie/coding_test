{
 "cells": [
  {
   "attachments": {},
   "cell_type": "markdown",
   "metadata": {},
   "source": [
    "징검다리\n",
    "---\n",
    "https://school.programmers.co.kr/learn/courses/30/lessons/43236?language=python3"
   ]
  },
  {
   "cell_type": "code",
   "execution_count": 10,
   "metadata": {},
   "outputs": [],
   "source": [
    "import heapq\n",
    "def solution(distance, rocks, n):\n",
    "    rocks = sorted(rocks)\n",
    "    l=len(rocks)\n",
    "    dist=[[0,rocks[0]]]\n",
    "    dists = [rocks[0]]\n",
    "    heapq.heapify(dists)\n",
    "    for i in range(1,l):\n",
    "        d = rocks[i] - rocks[i-1]\n",
    "        dist.append([i, rocks[i] - rocks[i-1]])\n",
    "        heapq.heappush(dists, d)\n",
    "    dist.append([l,distance - rocks[-1]])\n",
    "    heapq.heappush(dists, d)\n",
    "    dist = sorted(dist, key = lambda x : x[1])\n",
    "    print(rocks)\n",
    "    print(dist)\n",
    "    answer = 0\n",
    "    for i in range(n):\n",
    "        heapq.heappop(dists)\n",
    "        \n",
    "    return answer"
   ]
  },
  {
   "cell_type": "code",
   "execution_count": null,
   "metadata": {},
   "outputs": [],
   "source": [
    "def bin_sect_2d(dist, val):\n",
    "\n",
    "def solution(distance, rocks, n):\n",
    "    rocks = sorted(rocks)\n",
    "    l=len(rocks)\n",
    "    dist={0:rocks[0]}\n",
    "    for i in range(1,l):\n",
    "        d = rocks[i] - rocks[i-1]\n",
    "        dist[i] = d\n",
    "    dist[l] = distance - rocks[-1]\n",
    "    \n",
    "    sorted_dist = sorted(dist.items(), key = lambda x : x[1]) \n",
    "    print(rocks)\n",
    "    print(dist)\n",
    "    answer = 0\n",
    "    for i in range(n):\n",
    "        \n",
    "        input_ind = bin_sect_2d(dist, _)\n",
    "        \n",
    "    return answer"
   ]
  },
  {
   "cell_type": "code",
   "execution_count": 11,
   "metadata": {},
   "outputs": [
    {
     "name": "stdout",
     "output_type": "stream",
     "text": [
      "[2, 11, 14, 17, 21]\n",
      "[[0, 2], [2, 3], [3, 3], [4, 4], [5, 4], [1, 9]]\n"
     ]
    },
    {
     "data": {
      "text/plain": [
       "0"
      ]
     },
     "execution_count": 11,
     "metadata": {},
     "output_type": "execute_result"
    }
   ],
   "source": [
    "solution(\t25, [2, 14, 11, 21, 17], 2)"
   ]
  },
  {
   "cell_type": "code",
   "execution_count": null,
   "metadata": {},
   "outputs": [],
   "source": []
  }
 ],
 "metadata": {
  "kernelspec": {
   "display_name": "base",
   "language": "python",
   "name": "python3"
  },
  "language_info": {
   "codemirror_mode": {
    "name": "ipython",
    "version": 3
   },
   "file_extension": ".py",
   "mimetype": "text/x-python",
   "name": "python",
   "nbconvert_exporter": "python",
   "pygments_lexer": "ipython3",
   "version": "3.9.12"
  },
  "orig_nbformat": 4
 },
 "nbformat": 4,
 "nbformat_minor": 2
}
