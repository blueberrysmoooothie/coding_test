{
 "cells": [
  {
   "attachments": {},
   "cell_type": "markdown",
   "metadata": {},
   "source": [
    "징검다리\n",
    "---\n",
    "https://school.programmers.co.kr/learn/courses/30/lessons/43236?language=python3"
   ]
  },
  {
   "cell_type": "code",
   "execution_count": 10,
   "metadata": {},
   "outputs": [],
   "source": [
    "import heapq\n",
    "def solution(distance, rocks, n):\n",
    "    rocks = sorted(rocks)\n",
    "    l=len(rocks)\n",
    "    dist=[[0,rocks[0]]]\n",
    "    dists = [rocks[0]]\n",
    "    heapq.heapify(dists)\n",
    "    for i in range(1,l):\n",
    "        d = rocks[i] - rocks[i-1]\n",
    "        dist.append([i, rocks[i] - rocks[i-1]])\n",
    "        heapq.heappush(dists, d)\n",
    "    dist.append([l,distance - rocks[-1]])\n",
    "    heapq.heappush(dists, d)\n",
    "    dist = sorted(dist, key = lambda x : x[1])\n",
    "    print(rocks)\n",
    "    print(dist)\n",
    "    answer = 0\n",
    "    for i in range(n):\n",
    "        heapq.heappop(dists)\n",
    "        \n",
    "    return answer"
   ]
  },
  {
   "cell_type": "code",
   "execution_count": 1,
   "metadata": {},
   "outputs": [],
   "source": [
    "import bisect\n",
    "class stone:\n",
    "    def __init__(self, loc, left = None, right = None) -> None:\n",
    "        self.loc = loc\n",
    "        self.left = left\n",
    "        self.l_dist = None\n",
    "        self.right = right\n",
    "        self.r_dist = None\n",
    "    def set_dist(self):\n",
    "        self.l_dist = self.loc - self.left\n",
    "        self.r_dist = self.right - self.loc\n",
    "\n",
    "class bridge:\n",
    "    def __init__(self, distance, rocks) -> None:\n",
    "        self.rocks = []\n",
    "        self.rock_locs = {}\n",
    "        for rock in rocks:\n",
    "            bin_ind = bisect.bisect_left(self.rocks, rock)\n",
    "            self.rock_locs[rock] = stone(rock)\n",
    "            print(bin_ind)\n",
    "            if bin_ind == 0:\n",
    "                self.rock_locs[rock].left = 0\n",
    "            else:\n",
    "                self.rock_locs[rock].left = self.rocks[bin_ind-1]\n",
    "            if bin_ind == len(self.rocks):\n",
    "                self.rock_locs[rock].right = distance\n",
    "            else: \n",
    "                self.rock_locs[rock].right = self.rocks[bin_ind]\n",
    "            self.rocks.insert(bin_ind, rock)\n",
    "\n",
    "        for rock in rocks:\n",
    "            self.rock_locs[rock].set_dist\n",
    "\n",
    "\n",
    "def solution(distance, rocks, n):\n",
    "    br = bridge(distance, rocks)\n",
    "    print(br.rocks)\n",
    "        \n",
    "    # return answer"
   ]
  },
  {
   "cell_type": "code",
   "execution_count": null,
   "metadata": {},
   "outputs": [],
   "source": [
    "# 제거 바위 수에 따른 최소거리의 최댓값\n",
    "# 최소거리에 대한 이분탐색"
   ]
  },
  {
   "cell_type": "code",
   "execution_count": 14,
   "metadata": {},
   "outputs": [],
   "source": [
    "def solution(distance, rocks, n):\n",
    "    def count_rocks(dist):\n",
    "        num = 0\n",
    "        min_dist = rocks[1]\n",
    "        for i in range(len(rocks[1:-1])):\n",
    "            if min_dist + rocks[i+1]-rocks[i]< dist:\n",
    "                min_dist += rocks[i+1]-rocks[i-1]\n",
    "                num +=1\n",
    "            else:\n",
    "                min_dist =0\n",
    "            \n",
    "\n",
    "        return num\n",
    "    \n",
    "    rocks = [0]+sorted(rocks)+[distance]\n",
    "    answer = 0\n",
    "\n",
    "    s, e = 1, distance\n",
    "    while True:\n",
    "        dist = int((s+e)/2)\n",
    "        num = count_rocks(dist)\n",
    "        # print(s,e, dist, num,answer)\n",
    "        \n",
    "        \n",
    "\n",
    "        if num <= n:\n",
    "            answer = max(dist, answer)\n",
    "            if s==e:\n",
    "                break\n",
    "            s = dist+1\n",
    "        else:\n",
    "            if s==e:\n",
    "                break\n",
    "            e = dist-1\n",
    "    return  e if answer ==0 else answer"
   ]
  },
  {
   "cell_type": "code",
   "execution_count": 15,
   "metadata": {},
   "outputs": [
    {
     "name": "stdout",
     "output_type": "stream",
     "text": [
      "1 11 6 4 0\n",
      "7 11 9 4 6\n",
      "10 11 10 4 9\n",
      "11 11 11 4 10\n"
     ]
    },
    {
     "data": {
      "text/plain": [
       "11"
      ]
     },
     "execution_count": 15,
     "metadata": {},
     "output_type": "execute_result"
    }
   ],
   "source": [
    "solution(\t11, [1, 2, 4,7], 4)"
   ]
  },
  {
   "attachments": {},
   "cell_type": "markdown",
   "metadata": {},
   "source": [
    "퇴사할래"
   ]
  }
 ],
 "metadata": {
  "kernelspec": {
   "display_name": "base",
   "language": "python",
   "name": "python3"
  },
  "language_info": {
   "codemirror_mode": {
    "name": "ipython",
    "version": 3
   },
   "file_extension": ".py",
   "mimetype": "text/x-python",
   "name": "python",
   "nbconvert_exporter": "python",
   "pygments_lexer": "ipython3",
   "version": "3.9.12"
  },
  "orig_nbformat": 4
 },
 "nbformat": 4,
 "nbformat_minor": 2
}
