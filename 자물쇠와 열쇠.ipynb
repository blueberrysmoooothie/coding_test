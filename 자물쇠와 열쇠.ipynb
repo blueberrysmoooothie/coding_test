{
 "cells": [
  {
   "cell_type": "code",
   "execution_count": 157,
   "id": "4f1fb771",
   "metadata": {},
   "outputs": [],
   "source": [
    "def print_good(key, lock):\n",
    "    print('key-----------------')\n",
    "    for l in key:\n",
    "        print(l)\n",
    "    print('lock----------------')\n",
    "    for l in lock:\n",
    "        print(l)\n",
    "    print('--------------------')\n"
   ]
  },
  {
   "cell_type": "code",
   "execution_count": 185,
   "id": "a73e6eb7",
   "metadata": {},
   "outputs": [],
   "source": [
    "# def print_good(key, lock):\n",
    "#     print('key-----------------')\n",
    "#     for l in key:\n",
    "#         print(l)\n",
    "#     print('lock----------------')\n",
    "#     for l in lock:\n",
    "#         print(l)\n",
    "#     print('--------------------')\n",
    "    \n",
    "# key를 시계방향으로 90도 회전\n",
    "def rotate_key(key):\n",
    "    m = len(key)\n",
    "    r_key = [[0]*m for i in range(m)]\n",
    "\n",
    "    for i in range(m):\n",
    "        for j in range(m):\n",
    "            r_key[j][len(key)-1 -i] = key[i][j]\n",
    "    \n",
    "    return r_key\n",
    "# 자물쇠와 열쇠가 겹치는 부분을 비교 \n",
    "def push_key(key, lock, hole_area, right_down_loc):\n",
    "#     print('비교 우하단 위치 : ',right_down_loc)\n",
    "    n, m = len(lock), len(key)   \n",
    "#     nonblank_left_top = [max(0,right_down_loc[0]-n+1), max(0,right_down_loc[1]-n+1)]\n",
    "#     print(key)\n",
    "\n",
    "    result_lock = [[0]*n for i in range(n)]\n",
    "    \n",
    "    for  i in range(n):\n",
    "        for j in range(n):\n",
    "            result_lock[i][j] = lock[i][j]\n",
    "            \n",
    "    for  i in range(m):\n",
    "        for j in range(m):\n",
    "            \n",
    "            r = right_down_loc[0]-m+1+i\n",
    "            c = right_down_loc[1]-m+1+j\n",
    "            \n",
    "            if r < 0 or r>=n or c < 0 or c >= n:\n",
    "                continue\n",
    "            \n",
    "#             print('비교대상', [r,c],': ',lock[r][c], [i,j],': ', key[i][j] )\n",
    "            if key[i][j] + lock[r][c] != 1:\n",
    "#                 print('unopened\\n')\n",
    "                return False\n",
    "            else:\n",
    "                result_lock[r][c] = key[i][j] + lock[r][c]\n",
    "                \n",
    "\n",
    "    for  i in range(n):\n",
    "        for j in range(n):\n",
    "            if result_lock[i][j] != 1:\n",
    "#                 print('blank\\n')\n",
    "                return False\n",
    "            \n",
    "\n",
    "    return True\n",
    "\n",
    "\n",
    "\n",
    "def solution(key, lock):\n",
    "\n",
    "        \n",
    "    n, m = len(lock), len(key)   \n",
    "\n",
    "    if sum(list(map(sum,lock))) == n*n:\n",
    "        return True\n",
    "    \n",
    "#     자물쇠에 홈이 있는 범위를 구하기   [[,], [,]]\n",
    "    hole_area = []\n",
    "    \n",
    "    for i in range(n):\n",
    "        for j in range(n):\n",
    "            if not lock[i][j]:\n",
    "                hole_area.append([i, j])\n",
    "#     print(hole_area)\n",
    "    r_min, r_max, c_min, c_max = n,0,n,0\n",
    "    for r, c in hole_area:\n",
    "        if r > r_max: r_max = r\n",
    "        if r < r_min: r_min = r\n",
    "        if c > c_max: c_max = c\n",
    "        if c < c_min: c_min = c\n",
    "            \n",
    "    hole_area = [[r_min,c_min], [r_max,c_max]]\n",
    "#     print(hole_area,'\\n')\n",
    " \n",
    "    answer = False\n",
    "    \n",
    "    rlen = hole_area[1][0]- hole_area[0][0] + 1\n",
    "    clen = hole_area[1][1]- hole_area[0][1] + 1\n",
    "    if m < max(rlen,clen):\n",
    "        return answer\n",
    "    \n",
    "    \n",
    "#     비교 반복\n",
    "    for i in range(4):\n",
    "        \n",
    "#         print_good(key, lock)\n",
    "        \n",
    "        for r_c in range(m- rlen+1):\n",
    "            for c_c in range(m-clen+1):\n",
    "                \n",
    "                right_down_loc = [hole_area[1][0]+r_c, hole_area[1][1]+c_c]\n",
    "                answer = push_key(key, lock, hole_area, right_down_loc)\n",
    "\n",
    "                 \n",
    "                if answer :\n",
    "#                     print('opened!!')\n",
    "                    return True\n",
    "#         회전\n",
    "#         print('rotate')\n",
    "        if i != 3:\n",
    "            key = rotate_key(key)\n",
    "    \n",
    "    return answer"
   ]
  },
  {
   "cell_type": "code",
   "execution_count": 186,
   "id": "91b0856f",
   "metadata": {},
   "outputs": [
    {
     "data": {
      "text/plain": [
       "True"
      ]
     },
     "execution_count": 186,
     "metadata": {},
     "output_type": "execute_result"
    }
   ],
   "source": [
    "solution([[0, 0, 0], [1, 0, 0], [0, 1, 1]], [[1, 1, 1], [1, 1, 0], [1, 0, 1]])"
   ]
  },
  {
   "cell_type": "code",
   "execution_count": 183,
   "id": "1edd5781",
   "metadata": {},
   "outputs": [
    {
     "data": {
      "text/plain": [
       "True"
      ]
     },
     "execution_count": 183,
     "metadata": {},
     "output_type": "execute_result"
    }
   ],
   "source": [
    "solution([[0, 0, 0, 0], [0, 0, 0, 0],[0, 0, 0, 0],[0, 0, 1, 1]], [[1,1,1,1],[1,1,1,1],[1,1,1,1],[1,1,1,1]])"
   ]
  },
  {
   "cell_type": "code",
   "execution_count": 184,
   "id": "3a95b54b",
   "metadata": {},
   "outputs": [
    {
     "name": "stdout",
     "output_type": "stream",
     "text": [
      "[[0, 2], [1, 1], [1, 2]]\n",
      "[[0, 1], [1, 2]] \n",
      "\n",
      "key-----------------\n",
      "[0, 0, 0, 0]\n",
      "[0, 0, 0, 0]\n",
      "[0, 0, 0, 1]\n",
      "[0, 0, 1, 1]\n",
      "lock----------------\n",
      "[1, 1, 0, 1]\n",
      "[1, 0, 0, 1]\n",
      "[1, 1, 1, 1]\n",
      "[1, 1, 1, 1]\n",
      "--------------------\n",
      "비교 우하단 위치 :  [1, 2]\n",
      "비교대상 [0, 0] :  1 [2, 1] :  0\n",
      "비교대상 [0, 1] :  1 [2, 2] :  0\n",
      "비교대상 [0, 2] :  0 [2, 3] :  1\n",
      "비교대상 [1, 0] :  1 [3, 1] :  0\n",
      "비교대상 [1, 1] :  0 [3, 2] :  1\n",
      "비교대상 [1, 2] :  0 [3, 3] :  1\n",
      "opened!!\n"
     ]
    },
    {
     "data": {
      "text/plain": [
       "True"
      ]
     },
     "execution_count": 184,
     "metadata": {},
     "output_type": "execute_result"
    }
   ],
   "source": [
    "solution([[0, 0, 0, 0], [0, 0, 0, 0],[0, 0, 0, 1],[0, 0, 1, 1]], [[1,1,0,1],[1,0,0,1],[1,1,1,1],[1,1,1,1]])"
   ]
  },
  {
   "cell_type": "code",
   "execution_count": null,
   "id": "5c37f57c",
   "metadata": {},
   "outputs": [],
   "source": []
  }
 ],
 "metadata": {
  "kernelspec": {
   "display_name": "Python 3 (ipykernel)",
   "language": "python",
   "name": "python3"
  },
  "language_info": {
   "codemirror_mode": {
    "name": "ipython",
    "version": 3
   },
   "file_extension": ".py",
   "mimetype": "text/x-python",
   "name": "python",
   "nbconvert_exporter": "python",
   "pygments_lexer": "ipython3",
   "version": "3.9.12"
  }
 },
 "nbformat": 4,
 "nbformat_minor": 5
}
