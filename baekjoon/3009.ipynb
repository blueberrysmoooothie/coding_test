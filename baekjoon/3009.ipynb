{
 "cells": [
  {
   "attachments": {},
   "cell_type": "markdown",
   "metadata": {},
   "source": [
    "#### 네 번째 점\n",
    "---\n",
    "https://www.acmicpc.net/problem/3009"
   ]
  },
  {
   "cell_type": "code",
   "execution_count": 4,
   "metadata": {},
   "outputs": [
    {
     "name": "stdout",
     "output_type": "stream",
     "text": [
      "30 10\n"
     ]
    }
   ],
   "source": [
    "# a = list(map(int, input().split()))\n",
    "# b = list(map(int, input().split()))\n",
    "# c = list(map(int, input().split()))\n",
    "\n",
    "from collections import defaultdict\n",
    "x_dic = defaultdict(int)\n",
    "y_dic = defaultdict(int)\n",
    "for i in range(3):\n",
    "    dot = list(map(int, input().split()))\n",
    "    x_dic[dot[0]]+=1\n",
    "    y_dic[dot[1]]+=1\n",
    "\n",
    "for k, v in x_dic.items():\n",
    "    if v ==1:\n",
    "        answer = str(k)+' '\n",
    "for k, v in y_dic.items():\n",
    "    if v ==1:\n",
    "        answer += str(k)\n",
    "print(answer)\n",
    "    "
   ]
  }
 ],
 "metadata": {
  "kernelspec": {
   "display_name": "Python 3",
   "language": "python",
   "name": "python3"
  },
  "language_info": {
   "codemirror_mode": {
    "name": "ipython",
    "version": 3
   },
   "file_extension": ".py",
   "mimetype": "text/x-python",
   "name": "python",
   "nbconvert_exporter": "python",
   "pygments_lexer": "ipython3",
   "version": "3.10.11"
  },
  "orig_nbformat": 4
 },
 "nbformat": 4,
 "nbformat_minor": 2
}
