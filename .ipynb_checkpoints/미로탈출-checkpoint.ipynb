{
 "cells": [
  {
   "cell_type": "code",
   "execution_count": null,
   "id": "11d2f4df",
   "metadata": {},
   "outputs": [],
   "source": []
  },
  {
   "cell_type": "code",
   "execution_count": 217,
   "id": "08ad4435",
   "metadata": {},
   "outputs": [
    {
     "data": {
      "text/plain": [
       "[1, 2, 3, 4]"
      ]
     },
     "execution_count": 217,
     "metadata": {},
     "output_type": "execute_result"
    }
   ],
   "source": [
    "d = pd.DataFrame([[3001]*n for i in range(n)], index = range(1, n+1), columns = range(1, n+1))\n",
    "list(d.index.values)"
   ]
  },
  {
   "cell_type": "code",
   "execution_count": 227,
   "id": "ddc5ff7b",
   "metadata": {},
   "outputs": [],
   "source": [
    "import pandas as pd\n",
    "def make_time_mat(n, roads):\n",
    "    time_mat = pd.DataFrame([[3001]*n for i in range(n)], index = range(1, n+1), columns = range(1, n+1),dtype = 'int64')\n",
    "    for s, e, t in roads:\n",
    "        if time_mat.loc[s,e] > t:\n",
    "            time_mat.loc[s,e] = t\n",
    "    return time_mat\n",
    "\n",
    "def time_mat_traped(time_mat, ind):\n",
    "    temp = time_mat.loc[ind].copy()\n",
    "    time_mat.loc[ind] = time_mat.loc[:,ind].copy()\n",
    "    time_mat.loc[:,ind] = temp\n",
    "    \n",
    "    return time_mat\n",
    "\n",
    "def find_path(start, end, time_mat, traps):\n",
    "    soft_lock = []\n",
    "    succed_times = []\n",
    "    path = [[start,time_mat.to_dict()]]\n",
    "    take_times = []\n",
    "    \n",
    "    to_visit = []\n",
    "    current_loc = start\n",
    "    qurrent_tiems = time_mat.loc[start]\n",
    "    next_way = qurrent_tiems[qurrent_tiems<=3000].index.values\n",
    "    for i in next_way:\n",
    "        to_visit.append(i)\n",
    "    \n",
    "    while len(to_visit):\n",
    "#         [print(p[0], end = ' ') for p in path]\n",
    "        \n",
    "        new_loc = to_visit.pop()\n",
    "        take_time = int(time_mat.loc[current_loc, new_loc])\n",
    "        if new_loc in traps:\n",
    "            time_mat = time_mat_traped(time_mat.copy(), new_loc)\n",
    "        if [new_loc, time_mat.to_dict()] in path or [new_loc, time_mat.to_dict()] in soft_lock:\n",
    "\n",
    "            time_mat = pd.DataFrame(path[-1][1],dtype = 'int64')\n",
    "#             print('passed')\n",
    "            continue\n",
    "        \n",
    "        take_times.append(take_time)\n",
    "        path.append([new_loc, time_mat.to_dict()])\n",
    "        \n",
    "        current_loc = new_loc\n",
    "        if current_loc == end:\n",
    "            succed_times.append(sum(take_times))   \n",
    "            \n",
    "        qurrent_tiems = time_mat.loc[current_loc]\n",
    "        next_way = qurrent_tiems[qurrent_tiems<=3000].index.values\n",
    "        \n",
    "        \n",
    "        if not len(next_way):\n",
    "#             print('no way home')\n",
    "            take_times.pop()\n",
    "            soft_lock.append([current_loc, time_mat.to_dict()])\n",
    "            p = path.pop()\n",
    "            current_loc, time_mat = p[0], pd.DataFrame(p[1],dtype = 'int64')\n",
    "        else:\n",
    "            for i in next_way:\n",
    "                to_visit.append(i)\n",
    "                \n",
    "    return succed_times\n",
    "\n",
    "\n",
    "def solution(n, start, end, roads, traps):\n",
    "    time_mat = make_time_mat(n, roads)\n",
    "    succed_times = find_path(start, end, time_mat, traps)\n",
    "    \n",
    "    answer = min(succed_times)\n",
    "    \n",
    "    return answer"
   ]
  },
  {
   "cell_type": "code",
   "execution_count": 228,
   "id": "d2685ed8",
   "metadata": {},
   "outputs": [
    {
     "data": {
      "text/plain": [
       "5"
      ]
     },
     "execution_count": 228,
     "metadata": {},
     "output_type": "execute_result"
    }
   ],
   "source": [
    "solution(3, 1, 3, [[1, 2, 2], [3, 2, 3]], [2])"
   ]
  },
  {
   "cell_type": "code",
   "execution_count": 229,
   "id": "6c603f8c",
   "metadata": {},
   "outputs": [
    {
     "data": {
      "text/plain": [
       "1"
      ]
     },
     "execution_count": 229,
     "metadata": {},
     "output_type": "execute_result"
    }
   ],
   "source": [
    "min([1,2,3,4])"
   ]
  },
  {
   "cell_type": "code",
   "execution_count": null,
   "id": "c2de39ee",
   "metadata": {},
   "outputs": [],
   "source": []
  }
 ],
 "metadata": {
  "kernelspec": {
   "display_name": "Python 3 (ipykernel)",
   "language": "python",
   "name": "python3"
  },
  "language_info": {
   "codemirror_mode": {
    "name": "ipython",
    "version": 3
   },
   "file_extension": ".py",
   "mimetype": "text/x-python",
   "name": "python",
   "nbconvert_exporter": "python",
   "pygments_lexer": "ipython3",
   "version": "3.9.12"
  }
 },
 "nbformat": 4,
 "nbformat_minor": 5
}
