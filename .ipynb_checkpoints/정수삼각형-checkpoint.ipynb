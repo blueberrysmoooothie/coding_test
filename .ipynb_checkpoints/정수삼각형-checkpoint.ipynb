{
 "cells": [
  {
   "cell_type": "markdown",
   "id": "5fe77be5",
   "metadata": {},
   "source": [
    "#### 정수 삼각형\n",
    "- https://school.programmers.co.kr/learn/courses/30/lessons/43105\n",
    "- http://stats.ioinformatics.org/countries/SWE"
   ]
  },
  {
   "cell_type": "code",
   "execution_count": 1,
   "id": "1d02fb69",
   "metadata": {},
   "outputs": [],
   "source": [
    "def pretty_print(triangle):\n",
    "    for i in range(len(triangle)):\n",
    "        print(triangle[i])\n",
    "    print('')\n",
    "    \n",
    "def solution(triangle):\n",
    "    for i in range(len(triangle)-1,0,-1):\n",
    "        for j in range(i):\n",
    "            # pretty_print(triangle)\n",
    "            triangle[i-1][j] += max(triangle[i][j], triangle[i][j+1])\n",
    "            \n",
    "    return triangle[0][0]\n"
   ]
  },
  {
   "cell_type": "code",
   "execution_count": 2,
   "id": "b386e69b",
   "metadata": {},
   "outputs": [
    {
     "data": {
      "text/plain": [
       "30"
      ]
     },
     "execution_count": 2,
     "metadata": {},
     "output_type": "execute_result"
    }
   ],
   "source": [
    "solution([[7], [3, 8], [8, 1, 0], [2, 7, 4, 4], [4, 5, 2, 6, 5]])"
   ]
  },
  {
   "cell_type": "code",
   "execution_count": null,
   "id": "014f1908",
   "metadata": {},
   "outputs": [],
   "source": []
  }
 ],
 "metadata": {
  "kernelspec": {
   "display_name": "Python 3 (ipykernel)",
   "language": "python",
   "name": "python3"
  },
  "language_info": {
   "codemirror_mode": {
    "name": "ipython",
    "version": 3
   },
   "file_extension": ".py",
   "mimetype": "text/x-python",
   "name": "python",
   "nbconvert_exporter": "python",
   "pygments_lexer": "ipython3",
   "version": "3.9.12"
  }
 },
 "nbformat": 4,
 "nbformat_minor": 5
}
