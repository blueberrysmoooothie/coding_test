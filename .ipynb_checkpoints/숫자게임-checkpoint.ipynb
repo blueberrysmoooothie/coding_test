{
 "cells": [
  {
   "cell_type": "markdown",
   "id": "b7b77f64",
   "metadata": {},
   "source": [
    "숫자게임\n",
    "- https://school.programmers.co.kr/learn/courses/30/lessons/12987\n",
    "\n",
    "- heapq 사용하면 더 좋을듯...."
   ]
  },
  {
   "cell_type": "code",
   "execution_count": 47,
   "id": "67037911",
   "metadata": {},
   "outputs": [],
   "source": [
    "def solution(A, B):\n",
    "    N = len(A)\n",
    "    result = [False]*N\n",
    "    A = sorted(A)\n",
    "    B = sorted(B)\n",
    "    \n",
    "    for i in B:\n",
    "        win_ind = sum([a< i for a in A] )\n",
    "        \n",
    "        while win_ind >0:\n",
    "            if not result[win_ind -1]:\n",
    "                result[win_ind -1] = True\n",
    "                break\n",
    "            else :\n",
    "                win_ind -= 1\n",
    "    answer = sum(result)\n",
    "    \n",
    "    return answer"
   ]
  },
  {
   "cell_type": "code",
   "execution_count": 48,
   "id": "24b9401b",
   "metadata": {},
   "outputs": [
    {
     "data": {
      "text/plain": [
       "0"
      ]
     },
     "execution_count": 48,
     "metadata": {},
     "output_type": "execute_result"
    }
   ],
   "source": [
    "solution([2, 2, 2, 2], [1, 1, 1, 1])"
   ]
  },
  {
   "cell_type": "code",
   "execution_count": 49,
   "id": "749b3c4f",
   "metadata": {},
   "outputs": [
    {
     "data": {
      "text/plain": [
       "3"
      ]
     },
     "execution_count": 49,
     "metadata": {},
     "output_type": "execute_result"
    }
   ],
   "source": [
    "solution([5, 1, 3, 7], [2, 2, 6, 8])"
   ]
  },
  {
   "cell_type": "code",
   "execution_count": null,
   "id": "1386c69e",
   "metadata": {},
   "outputs": [],
   "source": []
  }
 ],
 "metadata": {
  "kernelspec": {
   "display_name": "Python 3 (ipykernel)",
   "language": "python",
   "name": "python3"
  },
  "language_info": {
   "codemirror_mode": {
    "name": "ipython",
    "version": 3
   },
   "file_extension": ".py",
   "mimetype": "text/x-python",
   "name": "python",
   "nbconvert_exporter": "python",
   "pygments_lexer": "ipython3",
   "version": "3.9.12"
  }
 },
 "nbformat": 4,
 "nbformat_minor": 5
}
