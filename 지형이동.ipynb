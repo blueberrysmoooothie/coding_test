{
 "cells": [
  {
   "cell_type": "code",
   "execution_count": 140,
   "id": "80945ca8",
   "metadata": {},
   "outputs": [],
   "source": [
    "import numpy as np\n",
    "import pandas as pd\n",
    "def find_close_cell(land, visit_mat, height, height_type, f_i, f_j):\n",
    "\n",
    "    find_stack = [[f_i,f_j]]\n",
    "    for loc in find_stack:\n",
    "        i, j = loc[0], loc[1]\n",
    "        visit_mat[i][j] = height_type \n",
    "        \n",
    "        if i!=0:\n",
    "            if (visit_mat[i-1][j] == 0) and abs(land[i][j] - land[i-1][j])<=height:\n",
    "                find_stack.append([i-1,j])\n",
    "            \n",
    "        if i!=(len(land)-1):\n",
    "            if (visit_mat[i+1][j] == 0) and abs(land[i][j] - land[i+1][j])<=height:\n",
    "                find_stack.append([i+1,j])\n",
    "            \n",
    "        if j!=0:\n",
    "            if (visit_mat[i][j-1] == 0) and abs(land[i][j] - land[i][j-1])<=height:\n",
    "                find_stack.append([i,j-1])\n",
    "            \n",
    "        if j!=(len(land)-1) :\n",
    "            if (visit_mat[i][j+1] == 0) and abs(land[i][j] - land[i][j+1])<=height:\n",
    "                find_stack.append([i,j+1])\n",
    "    return visit_mat\n",
    "    \n",
    "    \n",
    "def get_min_height_diff(land, visit_mat, group1, group2):\n",
    "    min_height_diff = 10000\n",
    "    for i in range(len(land)):\n",
    "        for j in range(len(land)):\n",
    "            if visit_mat[i][j]== group1:\n",
    "                group2_cells = []\n",
    "                \n",
    "                if i !=0:\n",
    "                    if (visit_mat[i-1][j] == group2):\n",
    "                        group2_cells.append(land[i-1][j])\n",
    "                \n",
    "                if i !=(len(land)-1):\n",
    "                    if (visit_mat[i+1][j] == group2):\n",
    "                        group2_cells.append(land[i+1][j])\n",
    "                \n",
    "                if j !=0:\n",
    "                    if (visit_mat[i][j-1] == group2):\n",
    "                        group2_cells.append(land[i][j-1])\n",
    "                \n",
    "                if j !=(len(land)-1):\n",
    "                    if (visit_mat[i][j+1] == group2):\n",
    "                        group2_cells.append(land[i][j+1])\n",
    "                \n",
    "                if len(group2_cells):\n",
    "                    for h in group2_cells:\n",
    "                        if min_height_diff >= abs(land[i][j]-h):\n",
    "                            min_height_diff = abs(land[i][j]-h)\n",
    "\n",
    "    return min_height_diff\n",
    "            \n",
    "            \n",
    "\n",
    "def solution(land, height):\n",
    "    visit_mat = [[0] * len(land) for i in range(len(land))]\n",
    "    height_type = 1\n",
    "    for i in range(len(land)):\n",
    "        for j in range(len(land)):        \n",
    "            if visit_mat[i][j] == 0:\n",
    "                visit_mat = find_close_cell(land, visit_mat, height, height_type, i, j)                \n",
    "                height_type += 1\n",
    "\n",
    "                \n",
    "    print(visit_mat)\n",
    "    \n",
    "    answer = 0\n",
    "    visited_group = set([1])\n",
    "    unvisited_group = set()\n",
    "    root = [1]\n",
    "    for i in range(2, height_type):\n",
    "        unvisited_group.add(i)\n",
    "    \n",
    "    while len(unvisited_group):\n",
    "        print('경로 :', root)\n",
    "        print('탐색 그룹 :', visited_group )\n",
    "        print('미탐색 그룹 :', unvisited_group )\n",
    "        print('현재 사용 비용 :', answer,'\\n')\n",
    "        \n",
    "        min_height_diff = 10000\n",
    "        \n",
    "        for g1 in list(visited_group):\n",
    "            for g2 in list(unvisited_group):\n",
    "                g_diff = get_min_height_diff(land, visit_mat, g1, g2)\n",
    "                if min_height_diff >=g_diff:\n",
    "                    next_g = g2\n",
    "                    min_height_diff = g_diff\n",
    "        \n",
    "        answer += min_height_diff\n",
    "        visited_group.add(next_g)\n",
    "        unvisited_group.remove(next_g)\n",
    "    \n",
    "    return answer"
   ]
  },
  {
   "cell_type": "code",
   "execution_count": 142,
   "id": "0d8b2519",
   "metadata": {},
   "outputs": [
    {
     "name": "stdout",
     "output_type": "stream",
     "text": [
      "[[1, 1, 1, 1], [1, 1, 1, 1], [1, 1, 1, 1], [1, 1, 1, 2]]\n",
      "경로 : [1]\n",
      "탐색 그룹 : {1}\n",
      "미탐색 그룹 : {2}\n",
      "현재 사용 비용 : 0 \n",
      "\n"
     ]
    },
    {
     "data": {
      "text/plain": [
       "10"
      ]
     },
     "execution_count": 142,
     "metadata": {},
     "output_type": "execute_result"
    }
   ],
   "source": [
    "solution([[1, 4, 8, 10], [5, 5, 5, 5], [10, 10, 10, 10], [10, 10, 10, 20]], 5)"
   ]
  },
  {
   "cell_type": "code",
   "execution_count": 143,
   "id": "9bb59958",
   "metadata": {},
   "outputs": [
    {
     "name": "stdout",
     "output_type": "stream",
     "text": [
      "[[1, 1, 1, 1], [2, 3, 3, 1], [2, 3, 3, 1], [2, 2, 2, 2]]\n",
      "경로 : [1]\n",
      "탐색 그룹 : {1}\n",
      "미탐색 그룹 : {2, 3}\n",
      "현재 사용 비용 : 0 \n",
      "\n",
      "경로 : [1]\n",
      "탐색 그룹 : {1, 2}\n",
      "미탐색 그룹 : {3}\n",
      "현재 사용 비용 : 8 \n",
      "\n"
     ]
    },
    {
     "data": {
      "text/plain": [
       "18"
      ]
     },
     "execution_count": 143,
     "metadata": {},
     "output_type": "execute_result"
    }
   ],
   "source": [
    "solution([[10, 11, 10, 11], [2, 21, 20, 10], [1, 20, 21, 11], [2, 1, 2, 1]], 1)"
   ]
  },
  {
   "cell_type": "code",
   "execution_count": 119,
   "id": "d5a0ba68",
   "metadata": {},
   "outputs": [
    {
     "data": {
      "text/plain": [
       "True"
      ]
     },
     "execution_count": 119,
     "metadata": {},
     "output_type": "execute_result"
    }
   ],
   "source": [
    "1 in set([1,2])"
   ]
  },
  {
   "cell_type": "code",
   "execution_count": null,
   "id": "ca908a5b",
   "metadata": {},
   "outputs": [],
   "source": []
  }
 ],
 "metadata": {
  "kernelspec": {
   "display_name": "Python 3 (ipykernel)",
   "language": "python",
   "name": "python3"
  },
  "language_info": {
   "codemirror_mode": {
    "name": "ipython",
    "version": 3
   },
   "file_extension": ".py",
   "mimetype": "text/x-python",
   "name": "python",
   "nbconvert_exporter": "python",
   "pygments_lexer": "ipython3",
   "version": "3.9.12"
  }
 },
 "nbformat": 4,
 "nbformat_minor": 5
}
