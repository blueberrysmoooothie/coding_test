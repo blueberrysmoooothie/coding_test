{
 "cells": [
  {
   "cell_type": "markdown",
   "metadata": {},
   "source": [
    "양궁대회\n",
    "---\n",
    "https://school.programmers.co.kr/learn/courses/30/lessons/92342"
   ]
  },
  {
   "cell_type": "code",
   "execution_count": 69,
   "metadata": {},
   "outputs": [],
   "source": [
    "def solution(n, info):\n",
    "    global max_dif\n",
    "    def get_score(result):\n",
    "        score = [0,0]\n",
    "        for i in range(10):\n",
    "            if info[i]==0 and result[i] ==0:\n",
    "                continue\n",
    "            score[int(info[i] <result[i])] += 10-i\n",
    "        return score\n",
    "\n",
    "    def find_comb(i, n=11, comb = []):\n",
    "        global max_dif\n",
    "        \n",
    "        if n == 1:\n",
    "            score = get_score(comb + [i])\n",
    "            \n",
    "            # print((comb + [i])[::-1], score, max_dif[1])\n",
    "            if score[1]- score[0] == max_dif[1]:\n",
    "                max_dif[0] = max(max_dif[0][::-1], (comb + [i])[::-1])[::-1]\n",
    "            elif score[1]- score[0] > max_dif[1]:\n",
    "                max_dif =[comb + [i], score[1]- score[0]]\n",
    "            return 0\n",
    "        \n",
    "        for j in range(i, -1, -1):\n",
    "            comb.append(j)\n",
    "            find_comb(i-j, n=n-1, comb = comb)\n",
    "            comb.pop()\n",
    "\n",
    "    max_dif = [[0]*11,0]\n",
    "    find_comb(n)\n",
    "    \n",
    "    return max_dif[0] if sum(max_dif[0]) and max_dif[1] else [-1]  "
   ]
  },
  {
   "cell_type": "code",
   "execution_count": 70,
   "metadata": {},
   "outputs": [
    {
     "data": {
      "text/plain": [
       "[1, 1, 2, 0, 1, 2, 2, 0, 0, 0, 0]"
      ]
     },
     "execution_count": 70,
     "metadata": {},
     "output_type": "execute_result"
    }
   ],
   "source": [
    "solution(9, [0, 0, 1, 2, 0, 1, 1, 1, 1, 1, 1])"
   ]
  },
  {
   "cell_type": "code",
   "execution_count": 42,
   "metadata": {},
   "outputs": [
    {
     "data": {
      "text/plain": [
       "[1, 2, 1]"
      ]
     },
     "execution_count": 42,
     "metadata": {},
     "output_type": "execute_result"
    }
   ],
   "source": [
    "max([1,2,1],[1,1,2])"
   ]
  },
  {
   "cell_type": "code",
   "execution_count": null,
   "metadata": {},
   "outputs": [],
   "source": []
  }
 ],
 "metadata": {
  "kernelspec": {
   "display_name": "Python 3",
   "language": "python",
   "name": "python3"
  },
  "language_info": {
   "codemirror_mode": {
    "name": "ipython",
    "version": 3
   },
   "file_extension": ".py",
   "mimetype": "text/x-python",
   "name": "python",
   "nbconvert_exporter": "python",
   "pygments_lexer": "ipython3",
   "version": "3.10.8"
  },
  "orig_nbformat": 4,
  "vscode": {
   "interpreter": {
    "hash": "1eaddad8910a63e993320c00f976674dd19739aa47ccb16e46e67145212d406a"
   }
  }
 },
 "nbformat": 4,
 "nbformat_minor": 2
}
