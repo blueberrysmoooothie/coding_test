{
 "cells": [
  {
   "cell_type": "markdown",
   "id": "186b8698",
   "metadata": {},
   "source": [
    "#### 표 편집\n",
    "- https://school.programmers.co.kr/learn/courses/30/lessons/81303"
   ]
  },
  {
   "cell_type": "code",
   "execution_count": 28,
   "id": "17c0c88c",
   "metadata": {},
   "outputs": [
    {
     "name": "stdout",
     "output_type": "stream",
     "text": [
      "ooooox\n"
     ]
    }
   ],
   "source": [
    "s = 'oooooo'\n",
    "k = 5\n",
    "print(s[:k] +'x' +s[k+1:])"
   ]
  },
  {
   "cell_type": "code",
   "execution_count": 63,
   "id": "47c7d270",
   "metadata": {},
   "outputs": [],
   "source": [
    "# 선택창 이동\n",
    "def move_k(input_cmd, del_str, k):\n",
    "    move_num = int(input_cmd.split()[-1])\n",
    "    move_direct = {'D' : 1, 'U': -1}[input_cmd.split()[0]]\n",
    "    print(k, '에서', move_direct,'방향으로', move_num)\n",
    "    \n",
    "    move_count = 0\n",
    "    while move_count != move_num:\n",
    "        k += move_direct\n",
    "        if del_str[k] == 'O':\n",
    "            move_count+=1\n",
    "    print('이동후',k)\n",
    "#     if k<0 or k>=len(del_str):\n",
    "# #         print('out of index')\n",
    "#         return 999\n",
    "    return k\n",
    "        \n",
    "def del_func(k, del_str):\n",
    "    print(k,'번째 값 삭제')\n",
    "    \n",
    "    del_str = del_str[:k] + 'X' + del_str[k+1:]\n",
    "    # next_k = 999\n",
    "    \n",
    "    last= True\n",
    "    for i in range(k, len(del_str)):\n",
    "        if del_str[i]=='O':\n",
    "            last = False\n",
    "            next_k = i\n",
    "            break\n",
    "            \n",
    "    if last:\n",
    "        print('마지막 값 삭제')\n",
    "        for i in range(k, -1, -1):\n",
    "            if del_str[i]=='O':\n",
    "                next_k = i\n",
    "                break\n",
    "            \n",
    "    k = next_k\n",
    "    print(k,'번째로 이동')\n",
    "    return k, del_str\n",
    "\n",
    "\n",
    "\n",
    "def solution(n, k, cmd):\n",
    "    del_str = 'O'*n\n",
    "    del_list = []\n",
    "    \n",
    "    for input_cmd in cmd:\n",
    "        print(del_str)\n",
    "\n",
    "        if input_cmd[0] in ['D', 'U']:\n",
    "            k = move_k(input_cmd, del_str, k)\n",
    "\n",
    "        elif input_cmd[0] == 'C':\n",
    "            del_list.append(k)\n",
    "            k, del_str = del_func(k, del_str)\n",
    "\n",
    "        elif input_cmd[0] == 'Z':\n",
    "            deled_index = del_list.pop()\n",
    "            print(deled_index, '복구')\n",
    "            del_str = del_str[:deled_index] + 'O' + del_str[deled_index+1:]\n",
    "    \n",
    "        print('\\n')\n",
    "    return del_str"
   ]
  },
  {
   "cell_type": "code",
   "execution_count": 64,
   "id": "e9d0c6aa",
   "metadata": {},
   "outputs": [
    {
     "name": "stdout",
     "output_type": "stream",
     "text": [
      "OOOOOOOO\n",
      "2 에서 1 방향으로 2\n",
      "이동후 4\n",
      "\n",
      "\n",
      "OOOOOOOO\n",
      "4 번째 값 삭제\n",
      "5 번째로 이동\n",
      "\n",
      "\n",
      "OOOOXOOO\n",
      "5 에서 -1 방향으로 3\n",
      "이동후 1\n",
      "\n",
      "\n",
      "OOOOXOOO\n",
      "1 번째 값 삭제\n",
      "2 번째로 이동\n",
      "\n",
      "\n",
      "OXOOXOOO\n",
      "2 에서 1 방향으로 4\n",
      "이동후 7\n",
      "\n",
      "\n",
      "OXOOXOOO\n",
      "7 번째 값 삭제\n",
      "마지막 값 삭제\n",
      "6 번째로 이동\n",
      "\n",
      "\n",
      "OXOOXOOX\n",
      "6 에서 -1 방향으로 2\n",
      "이동후 3\n",
      "\n",
      "\n",
      "OXOOXOOX\n",
      "7 복구\n",
      "\n",
      "\n",
      "OXOOXOOO\n",
      "1 복구\n",
      "\n",
      "\n"
     ]
    },
    {
     "data": {
      "text/plain": [
       "'OOOOXOOO'"
      ]
     },
     "execution_count": 64,
     "metadata": {},
     "output_type": "execute_result"
    }
   ],
   "source": [
    "solution(8, 2, [\"D 2\", \"C\", \"U 3\", \"C\", \"D 4\", \"C\", \"U 2\", \"Z\", \"Z\"])"
   ]
  },
  {
   "cell_type": "code",
   "execution_count": 65,
   "id": "94d0138b",
   "metadata": {},
   "outputs": [
    {
     "name": "stdout",
     "output_type": "stream",
     "text": [
      "OOOOOOOO\n",
      "2 에서 1 방향으로 2\n",
      "이동후 4\n",
      "\n",
      "\n",
      "OOOOOOOO\n",
      "4 번째 값 삭제\n",
      "5 번째로 이동\n",
      "\n",
      "\n",
      "OOOOXOOO\n",
      "5 에서 -1 방향으로 3\n",
      "이동후 1\n",
      "\n",
      "\n",
      "OOOOXOOO\n",
      "1 번째 값 삭제\n",
      "2 번째로 이동\n",
      "\n",
      "\n",
      "OXOOXOOO\n",
      "2 에서 1 방향으로 4\n",
      "이동후 7\n",
      "\n",
      "\n",
      "OXOOXOOO\n",
      "7 번째 값 삭제\n",
      "마지막 값 삭제\n",
      "6 번째로 이동\n",
      "\n",
      "\n",
      "OXOOXOOX\n",
      "6 에서 -1 방향으로 2\n",
      "이동후 3\n",
      "\n",
      "\n",
      "OXOOXOOX\n",
      "7 복구\n",
      "\n",
      "\n",
      "OXOOXOOO\n",
      "1 복구\n",
      "\n",
      "\n",
      "OOOOXOOO\n",
      "3 에서 -1 방향으로 1\n",
      "이동후 2\n",
      "\n",
      "\n",
      "OOOOXOOO\n",
      "2 번째 값 삭제\n",
      "3 번째로 이동\n",
      "\n",
      "\n"
     ]
    },
    {
     "data": {
      "text/plain": [
       "'OOXOXOOO'"
      ]
     },
     "execution_count": 65,
     "metadata": {},
     "output_type": "execute_result"
    }
   ],
   "source": [
    "solution(8, 2, [\"D 2\", \"C\", \"U 3\", \"C\", \"D 4\", \"C\", \"U 2\", \"Z\", \"Z\", \"U 1\", \"C\"])"
   ]
  },
  {
   "cell_type": "code",
   "execution_count": null,
   "id": "845ecdd8",
   "metadata": {},
   "outputs": [],
   "source": []
  }
 ],
 "metadata": {
  "kernelspec": {
   "display_name": "Python 3 (ipykernel)",
   "language": "python",
   "name": "python3"
  },
  "language_info": {
   "codemirror_mode": {
    "name": "ipython",
    "version": 3
   },
   "file_extension": ".py",
   "mimetype": "text/x-python",
   "name": "python",
   "nbconvert_exporter": "python",
   "pygments_lexer": "ipython3",
   "version": "3.9.12"
  }
 },
 "nbformat": 4,
 "nbformat_minor": 5
}
