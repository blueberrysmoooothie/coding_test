{
 "cells": [
  {
   "cell_type": "code",
   "execution_count": 18,
   "id": "574063be",
   "metadata": {},
   "outputs": [],
   "source": [
    "def check_balenced(p):\n",
    "    if p.count('(') == p.count(')'):\n",
    "        return True\n",
    "    return False\n",
    "\n",
    "def check_right(p):\n",
    "    cnd = 0\n",
    "    for s in p:\n",
    "        if s == '(':\n",
    "            cnd +=1\n",
    "        else:\n",
    "            cnd -=1\n",
    "        if cnd <0:\n",
    "            return False\n",
    "    return True\n",
    "        \n",
    "def split_p(p):\n",
    "    for i in range(2, len(p)):\n",
    "        \n",
    "        if check_balenced(p[:i]):\n",
    "            print(p[:i])\n",
    "            return p[:i],p[i:]\n",
    "    return p[:],p[len(p):]\n",
    "        \n",
    "\n",
    "def solution(p):\n",
    "    if not check_right(p):\n",
    "#         분리\n",
    "        u, v = split_p(p)\n",
    "        \n",
    "        if check_right(u):\n",
    "            p = u +solution(v)\n",
    "        else:\n",
    "            u = u[1:-1]\n",
    "            nu = ''\n",
    "            for s in u:\n",
    "                if s == '(':\n",
    "                    nu = nu+ ')'\n",
    "                else :\n",
    "                    nu = nu+ '('   \n",
    "            p = '('+solution(v) + ')' +nu\n",
    "    return p\n"
   ]
  },
  {
   "cell_type": "code",
   "execution_count": 12,
   "id": "c5fe4a15",
   "metadata": {},
   "outputs": [
    {
     "data": {
      "text/plain": [
       "'(()())()'"
      ]
     },
     "execution_count": 12,
     "metadata": {},
     "output_type": "execute_result"
    }
   ],
   "source": [
    "solution(\"(()())()\")"
   ]
  },
  {
   "cell_type": "code",
   "execution_count": 7,
   "id": "d49cbc1e",
   "metadata": {},
   "outputs": [
    {
     "name": "stdout",
     "output_type": "stream",
     "text": [
      "()\n",
      "))((\n"
     ]
    },
    {
     "data": {
      "text/plain": [
       "'()(())()'"
      ]
     },
     "execution_count": 7,
     "metadata": {},
     "output_type": "execute_result"
    }
   ],
   "source": [
    "solution(\"()))((()\")"
   ]
  },
  {
   "cell_type": "code",
   "execution_count": 20,
   "id": "015ba843",
   "metadata": {},
   "outputs": [
    {
     "data": {
      "text/plain": [
       "'()'"
      ]
     },
     "execution_count": 20,
     "metadata": {},
     "output_type": "execute_result"
    }
   ],
   "source": [
    "solution(\")(\")"
   ]
  },
  {
   "cell_type": "code",
   "execution_count": 19,
   "id": "4244d42e",
   "metadata": {},
   "outputs": [
    {
     "data": {
      "text/plain": [
       "(')(', '')"
      ]
     },
     "execution_count": 19,
     "metadata": {},
     "output_type": "execute_result"
    }
   ],
   "source": [
    "split_p(')(')"
   ]
  },
  {
   "cell_type": "code",
   "execution_count": 21,
   "id": "4bd7fc46",
   "metadata": {},
   "outputs": [
    {
     "data": {
      "text/plain": [
       "True"
      ]
     },
     "execution_count": 21,
     "metadata": {},
     "output_type": "execute_result"
    }
   ],
   "source": [
    "'adf'.isalpha()"
   ]
  },
  {
   "cell_type": "code",
   "execution_count": 44,
   "id": "46d3c390",
   "metadata": {},
   "outputs": [],
   "source": [
    "import math\n",
    "def make_multiset(s):\n",
    "    l = []\n",
    "    for i in range(len(s)-1):\n",
    "        a = s[i:i+2]\n",
    "        if a.isalpha():\n",
    "            l.append(a.lower())\n",
    "            \n",
    "    return l\n",
    "    \n",
    "def solution(str1, str2):\n",
    "    answer = 0\n",
    "    \n",
    "    l1, l2 = make_multiset(str1), make_multiset(str2)\n",
    "    set1, set2 = set(l1), set(l2)\n",
    "\n",
    "    n = set1 & set2\n",
    "    u = set1 | set2\n",
    "    \n",
    "    N, U = 0, 0\n",
    "    for i in n:\n",
    "        N += min(l1.count(i), l2.count(i))\n",
    "    for i in u:\n",
    "        U += max(l1.count(i), l2.count(i))\n",
    "#     print(N, U)\n",
    "    result = math.floor(N/U * 65536) \n",
    "    return result "
   ]
  },
  {
   "cell_type": "code",
   "execution_count": 45,
   "id": "51afd4e0",
   "metadata": {},
   "outputs": [
    {
     "name": "stdout",
     "output_type": "stream",
     "text": [
      "2 8\n"
     ]
    },
    {
     "data": {
      "text/plain": [
       "16384"
      ]
     },
     "execution_count": 45,
     "metadata": {},
     "output_type": "execute_result"
    }
   ],
   "source": [
    "solution(\"FRANCE\", \"french\")"
   ]
  },
  {
   "cell_type": "code",
   "execution_count": null,
   "id": "b5836f1e",
   "metadata": {},
   "outputs": [],
   "source": []
  }
 ],
 "metadata": {
  "kernelspec": {
   "display_name": "Python 3 (ipykernel)",
   "language": "python",
   "name": "python3"
  },
  "language_info": {
   "codemirror_mode": {
    "name": "ipython",
    "version": 3
   },
   "file_extension": ".py",
   "mimetype": "text/x-python",
   "name": "python",
   "nbconvert_exporter": "python",
   "pygments_lexer": "ipython3",
   "version": "3.9.12"
  }
 },
 "nbformat": 4,
 "nbformat_minor": 5
}
